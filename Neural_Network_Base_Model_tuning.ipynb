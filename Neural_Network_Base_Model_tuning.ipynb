{
  "cells": [
    {
      "cell_type": "markdown",
      "metadata": {
        "id": "view-in-github",
        "colab_type": "text"
      },
      "source": [
        "<a href=\"https://colab.research.google.com/github/Geebigib/Data-Science-Project/blob/main/Neural_Network_Base_Model_tuning.ipynb\" target=\"_parent\"><img src=\"https://colab.research.google.com/assets/colab-badge.svg\" alt=\"Open In Colab\"/></a>"
      ]
    },
    {
      "cell_type": "code",
      "execution_count": 1,
      "metadata": {
        "colab": {
          "base_uri": "https://localhost:8080/"
        },
        "id": "UzxFI3UZFMBJ",
        "outputId": "71513628-0175-41ab-91e4-d48195eee70c"
      },
      "outputs": [
        {
          "output_type": "stream",
          "name": "stdout",
          "text": [
            "Drive already mounted at /content/drive; to attempt to forcibly remount, call drive.mount(\"/content/drive\", force_remount=True).\n"
          ]
        }
      ],
      "source": [
        "from google.colab import drive\n",
        "drive.mount('/content/drive')"
      ]
    },
    {
      "cell_type": "code",
      "execution_count": 2,
      "metadata": {
        "id": "_Cl9RiEXdfTE"
      },
      "outputs": [],
      "source": [
        "!pip install pyod --quiet"
      ]
    },
    {
      "cell_type": "code",
      "execution_count": 3,
      "metadata": {
        "colab": {
          "base_uri": "https://localhost:8080/"
        },
        "id": "od9i8uI0btzr",
        "outputId": "1075a110-790b-4196-d978-ed0b0c832aae"
      },
      "outputs": [
        {
          "output_type": "stream",
          "name": "stdout",
          "text": [
            "Archive:  /content/drive/MyDrive/SWaT_Dataset_v0.zip\n",
            "replace /content/SWaT_Dataset_Attack_v0.csv? [y]es, [n]o, [A]ll, [N]one, [r]ename: N\n"
          ]
        }
      ],
      "source": [
        "!unzip /content/drive/MyDrive/SWaT_Dataset_v0.zip -d /content/"
      ]
    },
    {
      "cell_type": "code",
      "execution_count": 4,
      "metadata": {
        "id": "ef09e9a3-bebc-407a-8492-838438b4e288"
      },
      "outputs": [],
      "source": [
        "import numpy as np\n",
        "import os\n",
        "import pandas as pd\n",
        "from glob import glob\n",
        "from sklearn.preprocessing import MinMaxScaler\n",
        "from collections import Counter\n",
        "import pickle\n",
        "import tqdm\n",
        "import matplotlib.pyplot as plt\n",
        "from sklearn import metrics\n",
        "import pyod\n",
        "import seaborn as sns\n",
        "import timeit\n",
        "from sklearn.metrics import confusion_matrix"
      ]
    },
    {
      "cell_type": "markdown",
      "metadata": {
        "id": "kKdqmsEGblq4"
      },
      "source": [
        "Data Pre-processing"
      ]
    },
    {
      "cell_type": "code",
      "execution_count": 5,
      "metadata": {
        "id": "IO6QxPKoJq0H"
      },
      "outputs": [],
      "source": [
        "swat_normal = pd.read_csv(\"SWaT_Dataset_Normal_v0.csv\", skiprows=1)\n",
        "swat_attack = pd.read_csv(\"SWaT_Dataset_Attack_v0.csv\")"
      ]
    },
    {
      "cell_type": "code",
      "execution_count": 6,
      "metadata": {
        "id": "ba1cbb77-2b06-4667-91df-75e8da68b68d"
      },
      "outputs": [],
      "source": [
        "swat_normal.columns = swat_normal.columns.str.replace(' ','')\n",
        "swat_attack.columns = swat_attack.columns.str.replace(' ','')"
      ]
    },
    {
      "cell_type": "code",
      "execution_count": 7,
      "metadata": {
        "id": "dk2m6eZ7fXPO"
      },
      "outputs": [],
      "source": [
        "swat_attack[\"Normal/Attack\"].replace(' ', '', regex=True, inplace=True)"
      ]
    },
    {
      "cell_type": "code",
      "execution_count": 8,
      "metadata": {
        "id": "NKJf4rvncNvR"
      },
      "outputs": [],
      "source": [
        "test_df = swat_attack.set_index('Timestamp')\n",
        "test_df['label'] = np.where(test_df['Normal/Attack'] == 'Attack', 1, 0)\n",
        "\n",
        "test_df = test_df.drop('Normal/Attack', axis=1)\n",
        "\n",
        "train_df = swat_normal.set_index('Timestamp')\n",
        "train_df['label'] = np.where(train_df['Normal/Attack'] == 'Attack', 1, 0)\n",
        "train_df = train_df.drop('Normal/Attack', axis=1)\n",
        "\n",
        "# trim start stage\n",
        "train_df = train_df.iloc[21600:]\n"
      ]
    },
    {
      "cell_type": "code",
      "execution_count": 9,
      "metadata": {
        "id": "IA0qJp-NQn_t"
      },
      "outputs": [],
      "source": [
        "train_df.drop(columns = 'label',inplace = True)\n",
        "label = test_df['label'].values\n",
        "test_df.drop(columns = 'label',inplace = True)"
      ]
    },
    {
      "cell_type": "code",
      "execution_count": 10,
      "metadata": {
        "id": "34ca9ad8-0f02-4764-b864-1b7e9f9fc56d"
      },
      "outputs": [],
      "source": [
        "#normalise data\n",
        "scaler = MinMaxScaler()\n",
        "scaler = scaler.fit(train_df)"
      ]
    },
    {
      "cell_type": "code",
      "execution_count": 11,
      "metadata": {
        "id": "574bbe23-9e71-4079-9b3d-a91b353a5364"
      },
      "outputs": [],
      "source": [
        "train_scale = pd.DataFrame(\n",
        "    scaler.transform(train_df),\n",
        "    index = train_df.index,\n",
        "    columns= train_df.columns\n",
        ")\n",
        "\n",
        "test_scale  = pd.DataFrame(\n",
        "    scaler.transform(test_df),\n",
        "    index = test_df.index,\n",
        "    columns= test_df.columns\n",
        ")"
      ]
    },
    {
      "cell_type": "code",
      "execution_count": 12,
      "metadata": {
        "colab": {
          "base_uri": "https://localhost:8080/"
        },
        "id": "dlpVnPfNQpdk",
        "outputId": "ebd57fd5-1d96-41d0-83f2-dceda18bee56"
      },
      "outputs": [
        {
          "output_type": "execute_result",
          "data": {
            "text/plain": [
              "((475200, 51), (449919, 51))"
            ]
          },
          "metadata": {},
          "execution_count": 12
        }
      ],
      "source": [
        "train_scale.shape ,test_scale.shape"
      ]
    },
    {
      "cell_type": "code",
      "source": [
        "train_df.columns"
      ],
      "metadata": {
        "colab": {
          "base_uri": "https://localhost:8080/"
        },
        "id": "fRXg_hqqrYP8",
        "outputId": "791de601-4b16-4d4d-e723-12ec5256a9ac"
      },
      "execution_count": 13,
      "outputs": [
        {
          "output_type": "execute_result",
          "data": {
            "text/plain": [
              "Index(['FIT101', 'LIT101', 'MV101', 'P101', 'P102', 'AIT201', 'AIT202',\n",
              "       'AIT203', 'FIT201', 'MV201', 'P201', 'P202', 'P203', 'P204', 'P205',\n",
              "       'P206', 'DPIT301', 'FIT301', 'LIT301', 'MV301', 'MV302', 'MV303',\n",
              "       'MV304', 'P301', 'P302', 'AIT401', 'AIT402', 'FIT401', 'LIT401', 'P401',\n",
              "       'P402', 'P403', 'P404', 'UV401', 'AIT501', 'AIT502', 'AIT503', 'AIT504',\n",
              "       'FIT501', 'FIT502', 'FIT503', 'FIT504', 'P501', 'P502', 'PIT501',\n",
              "       'PIT502', 'PIT503', 'FIT601', 'P601', 'P602', 'P603'],\n",
              "      dtype='object')"
            ]
          },
          "metadata": {},
          "execution_count": 13
        }
      ]
    },
    {
      "cell_type": "code",
      "source": [
        "P1 = ['FIT101', 'LIT101', 'MV101', 'P101', 'P102']"
      ],
      "metadata": {
        "id": "3VEPGP-KrbU_"
      },
      "execution_count": 14,
      "outputs": []
    },
    {
      "cell_type": "code",
      "source": [
        "train_p1 = train_scale[P1]\n",
        "test_p1 = test_scale[P1]"
      ],
      "metadata": {
        "id": "YsvAWxOS-dGL"
      },
      "execution_count": 15,
      "outputs": []
    },
    {
      "cell_type": "markdown",
      "metadata": {
        "id": "Ci6PSqZjboNE"
      },
      "source": [
        "Model tuning"
      ]
    },
    {
      "cell_type": "code",
      "execution_count": 16,
      "metadata": {
        "id": "9SngcuRjuWHS"
      },
      "outputs": [],
      "source": [
        "from  pyod.models.deep_svdd import DeepSVDD\n",
        "model1 = DeepSVDD(preprocessing = False,epochs=10, batch_size =64, hidden_neurons= [64, 32], use_ae=True)\n",
        "model2 = DeepSVDD(preprocessing = False,epochs=10, batch_size =64, hidden_neurons= [64, 32], use_ae=False)"
      ]
    },
    {
      "cell_type": "code",
      "source": [
        "model1.fit(train_scale)\n",
        "model2.fit(train_scale)"
      ],
      "metadata": {
        "colab": {
          "base_uri": "https://localhost:8080/"
        },
        "id": "mzPkM-NEiTTt",
        "outputId": "0f153941-3da8-4156-d0c2-d2152258b590"
      },
      "execution_count": 17,
      "outputs": [
        {
          "output_type": "stream",
          "name": "stdout",
          "text": [
            "14850/14850 [==============================] - 21s 1ms/step\n",
            "Model: \"model_2\"\n",
            "__________________________________________________________________________________________________\n",
            " Layer (type)                   Output Shape         Param #     Connected to                     \n",
            "==================================================================================================\n",
            " input_2 (InputLayer)           [(None, 51)]         0           []                               \n",
            "                                                                                                  \n",
            " dense_4 (Dense)                (None, 64)           3264        ['input_2[0][0]']                \n",
            "                                                                                                  \n",
            " net_output (Dense)             (None, 32)           2048        ['dense_4[0][0]']                \n",
            "                                                                                                  \n",
            " tf.math.subtract_2 (TFOpLambda  (None, 32)          0           ['net_output[0][0]']             \n",
            " )                                                                                                \n",
            "                                                                                                  \n",
            " tf.math.pow_1 (TFOpLambda)     (None, 32)           0           ['tf.math.subtract_2[0][0]']     \n",
            "                                                                                                  \n",
            " tf.math.reduce_sum_1 (TFOpLamb  (None,)             0           ['tf.math.pow_1[0][0]']          \n",
            " da)                                                                                              \n",
            "                                                                                                  \n",
            " dense_5 (Dense)                (None, 32)           1024        ['net_output[0][0]']             \n",
            "                                                                                                  \n",
            " dropout_2 (Dropout)            (None, 32)           0           ['dense_5[0][0]']                \n",
            "                                                                                                  \n",
            " dense_6 (Dense)                (None, 64)           2048        ['dropout_2[0][0]']              \n",
            "                                                                                                  \n",
            " dropout_3 (Dropout)            (None, 64)           0           ['dense_6[0][0]']                \n",
            "                                                                                                  \n",
            " dense_7 (Dense)                (None, 51)           3264        ['dropout_3[0][0]']              \n",
            "                                                                                                  \n",
            " tf.math.subtract_3 (TFOpLambda  (None, 51)          0           ['dense_7[0][0]',                \n",
            " )                                                                'input_2[0][0]']                \n",
            "                                                                                                  \n",
            " tf.math.square_1 (TFOpLambda)  (None, 51)           0           ['tf.math.subtract_3[0][0]']     \n",
            "                                                                                                  \n",
            " tf.math.reduce_mean_2 (TFOpLam  ()                  0           ['tf.math.reduce_sum_1[0][0]']   \n",
            " bda)                                                                                             \n",
            "                                                                                                  \n",
            " tf.math.reduce_mean_3 (TFOpLam  ()                  0           ['tf.math.square_1[0][0]']       \n",
            " bda)                                                                                             \n",
            "                                                                                                  \n",
            " tf.__operators__.add_2 (TFOpLa  ()                  0           ['tf.math.reduce_mean_2[0][0]',  \n",
            " mbda)                                                            'tf.math.reduce_mean_3[0][0]']  \n",
            "                                                                                                  \n",
            " tf.__operators__.add_3 (TFOpLa  ()                  0           ['tf.__operators__.add_2[0][0]'] \n",
            " mbda)                                                                                            \n",
            "                                                                                                  \n",
            " add_loss_1 (AddLoss)           ()                   0           ['tf.__operators__.add_3[0][0]'] \n",
            "                                                                                                  \n",
            "==================================================================================================\n",
            "Total params: 11,648\n",
            "Trainable params: 11,648\n",
            "Non-trainable params: 0\n",
            "__________________________________________________________________________________________________\n",
            "None\n",
            "Epoch 1/10\n",
            "6683/6683 [==============================] - 24s 4ms/step - loss: 0.4766 - val_loss: 0.4016\n",
            "Epoch 2/10\n",
            "6683/6683 [==============================] - 25s 4ms/step - loss: 0.3985 - val_loss: 0.3893\n",
            "Epoch 3/10\n",
            "6683/6683 [==============================] - 25s 4ms/step - loss: 0.3912 - val_loss: 0.3871\n",
            "Epoch 4/10\n",
            "6683/6683 [==============================] - 24s 4ms/step - loss: 0.3883 - val_loss: 0.3855\n",
            "Epoch 5/10\n",
            "6683/6683 [==============================] - 25s 4ms/step - loss: 0.3869 - val_loss: 0.3844\n",
            "Epoch 6/10\n",
            "6683/6683 [==============================] - 23s 3ms/step - loss: 0.3863 - val_loss: 0.3868\n",
            "Epoch 7/10\n",
            "6683/6683 [==============================] - 24s 4ms/step - loss: 0.3858 - val_loss: 0.3846\n",
            "Epoch 8/10\n",
            "6683/6683 [==============================] - 25s 4ms/step - loss: 0.3852 - val_loss: 0.3874\n",
            "Epoch 9/10\n",
            "6683/6683 [==============================] - 25s 4ms/step - loss: 0.3850 - val_loss: 0.3850\n",
            "Epoch 10/10\n",
            "6683/6683 [==============================] - 25s 4ms/step - loss: 0.3846 - val_loss: 0.3839\n",
            "14850/14850 [==============================] - 20s 1ms/step\n",
            "14850/14850 [==============================] - 17s 1ms/step\n",
            "Model: \"model_5\"\n",
            "_________________________________________________________________\n",
            " Layer (type)                Output Shape              Param #   \n",
            "=================================================================\n",
            " input_4 (InputLayer)        [(None, 51)]              0         \n",
            "                                                                 \n",
            " dense_9 (Dense)             (None, 64)                3264      \n",
            "                                                                 \n",
            " net_output (Dense)          (None, 32)                2048      \n",
            "                                                                 \n",
            " tf.math.subtract_5 (TFOpLam  (None, 32)               0         \n",
            " bda)                                                            \n",
            "                                                                 \n",
            " tf.math.pow_3 (TFOpLambda)  (None, 32)                0         \n",
            "                                                                 \n",
            " tf.math.reduce_sum_3 (TFOpL  (None,)                  0         \n",
            " ambda)                                                          \n",
            "                                                                 \n",
            " tf.math.reduce_mean_5 (TFOp  ()                       0         \n",
            " Lambda)                                                         \n",
            "                                                                 \n",
            " tf.__operators__.add_5 (TFO  ()                       0         \n",
            " pLambda)                                                        \n",
            "                                                                 \n",
            " add_loss_3 (AddLoss)        ()                        0         \n",
            "                                                                 \n",
            "=================================================================\n",
            "Total params: 5,312\n",
            "Trainable params: 5,312\n",
            "Non-trainable params: 0\n",
            "_________________________________________________________________\n",
            "None\n",
            "Epoch 1/10\n",
            "6683/6683 [==============================] - 18s 3ms/step - loss: 0.1674 - val_loss: 0.1474\n",
            "Epoch 2/10\n",
            "6683/6683 [==============================] - 17s 3ms/step - loss: 0.1470 - val_loss: 0.1470\n",
            "Epoch 3/10\n",
            "6683/6683 [==============================] - 17s 3ms/step - loss: 0.1462 - val_loss: 0.1459\n",
            "Epoch 4/10\n",
            "6683/6683 [==============================] - 18s 3ms/step - loss: 0.1459 - val_loss: 0.1460\n",
            "Epoch 5/10\n",
            "6683/6683 [==============================] - 17s 3ms/step - loss: 0.1458 - val_loss: 0.1455\n",
            "Epoch 6/10\n",
            "6683/6683 [==============================] - 17s 3ms/step - loss: 0.1457 - val_loss: 0.1453\n",
            "Epoch 7/10\n",
            "6683/6683 [==============================] - 17s 3ms/step - loss: 0.1456 - val_loss: 0.1453\n",
            "Epoch 8/10\n",
            "6683/6683 [==============================] - 17s 3ms/step - loss: 0.1455 - val_loss: 0.1466\n",
            "Epoch 9/10\n",
            "6683/6683 [==============================] - 17s 3ms/step - loss: 0.1455 - val_loss: 0.1453\n",
            "Epoch 10/10\n",
            "6683/6683 [==============================] - 17s 3ms/step - loss: 0.1455 - val_loss: 0.1461\n",
            "14850/14850 [==============================] - 21s 1ms/step\n"
          ]
        },
        {
          "output_type": "execute_result",
          "data": {
            "text/plain": [
              "DeepSVDD(batch_size=64,\n",
              "     c=array([0.1    , 0.1    , 0.35358, 0.46229, 0.1    , 0.19627, 0.1    ,\n",
              "       0.1    , 0.1    , 0.11819, 0.1    , 0.1    , 0.1    , 0.1    ,\n",
              "       0.1    , 0.1    , 0.16594, 0.     , 0.1    , 0.17724, 0.1    ,\n",
              "       0.1    , 0.37647, 0.1    , 0.14767, 0.     , 0.35353, 0.1    ,\n",
              "       0.22782, 0.1    , 0.78481, 0.     ], dtype=float32),\n",
              "     contamination=0.1, dropout_rate=0.2, epochs=10,\n",
              "     hidden_activation='relu', hidden_neurons=[64, 32], l2_regularizer=0.1,\n",
              "     optimizer='adam', output_activation='sigmoid', preprocessing=False,\n",
              "     random_state=None, use_ae=False, validation_size=0.1, verbose=1)"
            ]
          },
          "metadata": {},
          "execution_count": 17
        }
      ]
    },
    {
      "cell_type": "code",
      "source": [
        "loss1 = model1.history_\n",
        "loss2 = model2.history_"
      ],
      "metadata": {
        "id": "uEO5XDvAD3Z5"
      },
      "execution_count": 18,
      "outputs": []
    },
    {
      "cell_type": "code",
      "source": [
        "plt.plot(np.arange(1,11), loss1['val_loss'])\n",
        "plt.plot(np.arange(1,11), loss2['val_loss'])\n",
        "plt.legend(['loss1','loss2'])"
      ],
      "metadata": {
        "colab": {
          "base_uri": "https://localhost:8080/",
          "height": 282
        },
        "id": "EvRejg40GtTf",
        "outputId": "901c6cb5-2732-4bfa-c29c-376cff03b9f1"
      },
      "execution_count": 19,
      "outputs": [
        {
          "output_type": "execute_result",
          "data": {
            "text/plain": [
              "<matplotlib.legend.Legend at 0x7f37ea4b16d0>"
            ]
          },
          "metadata": {},
          "execution_count": 19
        },
        {
          "output_type": "display_data",
          "data": {
            "text/plain": [
              "<Figure size 432x288 with 1 Axes>"
            ],
            "image/png": "[encoded data removed]"
          },
          "metadata": {
            "needs_background": "light"
          }
        }
      ]
    },
    {
      "cell_type": "code",
      "source": [
        "model3 = DeepSVDD(preprocessing = False,epochs=10, batch_size =64, hidden_neurons= [128, 64], use_ae=False)\n",
        "model4 = DeepSVDD(preprocessing = False,epochs=10, batch_size =128, hidden_neurons= [64, 32], use_ae=False)\n",
        "model5 = DeepSVDD(preprocessing = False,epochs=10, batch_size =128, hidden_neurons= [128, 64], use_ae=False)"
      ],
      "metadata": {
        "id": "esOuG30zCkE1"
      },
      "execution_count": 20,
      "outputs": []
    },
    {
      "cell_type": "code",
      "source": [
        "model3.fit(train_scale)\n",
        "model4.fit(train_scale)\n",
        "model5.fit(train_scale)"
      ],
      "metadata": {
        "colab": {
          "base_uri": "https://localhost:8080/"
        },
        "id": "zBVUOGBKCVh0",
        "outputId": "36244d11-aa9d-462c-e908-c39d228ca26d"
      },
      "execution_count": 21,
      "outputs": [
        {
          "output_type": "stream",
          "name": "stdout",
          "text": [
            "14850/14850 [==============================] - 17s 1ms/step\n",
            "Model: \"model_8\"\n",
            "_________________________________________________________________\n",
            " Layer (type)                Output Shape              Param #   \n",
            "=================================================================\n",
            " input_6 (InputLayer)        [(None, 51)]              0         \n",
            "                                                                 \n",
            " dense_11 (Dense)            (None, 128)               6528      \n",
            "                                                                 \n",
            " net_output (Dense)          (None, 64)                8192      \n",
            "                                                                 \n",
            " tf.math.subtract_7 (TFOpLam  (None, 64)               0         \n",
            " bda)                                                            \n",
            "                                                                 \n",
            " tf.math.pow_5 (TFOpLambda)  (None, 64)                0         \n",
            "                                                                 \n",
            " tf.math.reduce_sum_5 (TFOpL  (None,)                  0         \n",
            " ambda)                                                          \n",
            "                                                                 \n",
            " tf.math.reduce_mean_7 (TFOp  ()                       0         \n",
            " Lambda)                                                         \n",
            "                                                                 \n",
            " tf.__operators__.add_7 (TFO  ()                       0         \n",
            " pLambda)                                                        \n",
            "                                                                 \n",
            " add_loss_5 (AddLoss)        ()                        0         \n",
            "                                                                 \n",
            "=================================================================\n",
            "Total params: 14,720\n",
            "Trainable params: 14,720\n",
            "Non-trainable params: 0\n",
            "_________________________________________________________________\n",
            "None\n",
            "Epoch 1/10\n",
            "6683/6683 [==============================] - 18s 3ms/step - loss: 0.2013 - val_loss: 0.1851\n",
            "Epoch 2/10\n",
            "6683/6683 [==============================] - 17s 3ms/step - loss: 0.1847 - val_loss: 0.1840\n",
            "Epoch 3/10\n",
            "6683/6683 [==============================] - 17s 3ms/step - loss: 0.1842 - val_loss: 0.1838\n",
            "Epoch 4/10\n",
            "6683/6683 [==============================] - 17s 3ms/step - loss: 0.1840 - val_loss: 0.1839\n",
            "Epoch 5/10\n",
            "6683/6683 [==============================] - 17s 3ms/step - loss: 0.1838 - val_loss: 0.1842\n",
            "Epoch 6/10\n",
            "6683/6683 [==============================] - 18s 3ms/step - loss: 0.1838 - val_loss: 0.1833\n",
            "Epoch 7/10\n",
            "6683/6683 [==============================] - 17s 3ms/step - loss: 0.1837 - val_loss: 0.1833\n",
            "Epoch 8/10\n",
            "6683/6683 [==============================] - 17s 3ms/step - loss: 0.1836 - val_loss: 0.1832\n",
            "Epoch 9/10\n",
            "6683/6683 [==============================] - 17s 3ms/step - loss: 0.1835 - val_loss: 0.1833\n",
            "Epoch 10/10\n",
            "6683/6683 [==============================] - 17s 3ms/step - loss: 0.1835 - val_loss: 0.1831\n",
            "14850/14850 [==============================] - 19s 1ms/step\n",
            "14850/14850 [==============================] - 17s 1ms/step\n",
            "Model: \"model_11\"\n",
            "_________________________________________________________________\n",
            " Layer (type)                Output Shape              Param #   \n",
            "=================================================================\n",
            " input_8 (InputLayer)        [(None, 51)]              0         \n",
            "                                                                 \n",
            " dense_13 (Dense)            (None, 64)                3264      \n",
            "                                                                 \n",
            " net_output (Dense)          (None, 32)                2048      \n",
            "                                                                 \n",
            " tf.math.subtract_9 (TFOpLam  (None, 32)               0         \n",
            " bda)                                                            \n",
            "                                                                 \n",
            " tf.math.pow_7 (TFOpLambda)  (None, 32)                0         \n",
            "                                                                 \n",
            " tf.math.reduce_sum_7 (TFOpL  (None,)                  0         \n",
            " ambda)                                                          \n",
            "                                                                 \n",
            " tf.math.reduce_mean_9 (TFOp  ()                       0         \n",
            " Lambda)                                                         \n",
            "                                                                 \n",
            " tf.__operators__.add_9 (TFO  ()                       0         \n",
            " pLambda)                                                        \n",
            "                                                                 \n",
            " add_loss_7 (AddLoss)        ()                        0         \n",
            "                                                                 \n",
            "=================================================================\n",
            "Total params: 5,312\n",
            "Trainable params: 5,312\n",
            "Non-trainable params: 0\n",
            "_________________________________________________________________\n",
            "None\n",
            "Epoch 1/10\n",
            "3342/3342 [==============================] - 10s 3ms/step - loss: 0.6045 - val_loss: 0.5383\n",
            "Epoch 2/10\n",
            "3342/3342 [==============================] - 9s 3ms/step - loss: 0.5355 - val_loss: 0.5331\n",
            "Epoch 3/10\n",
            "3342/3342 [==============================] - 9s 3ms/step - loss: 0.5326 - val_loss: 0.5322\n",
            "Epoch 4/10\n",
            "3342/3342 [==============================] - 9s 3ms/step - loss: 0.5315 - val_loss: 0.5308\n",
            "Epoch 5/10\n",
            "3342/3342 [==============================] - 9s 3ms/step - loss: 0.5310 - val_loss: 0.5303\n",
            "Epoch 6/10\n",
            "3342/3342 [==============================] - 9s 3ms/step - loss: 0.5306 - val_loss: 0.5299\n",
            "Epoch 7/10\n",
            "3342/3342 [==============================] - 9s 3ms/step - loss: 0.5303 - val_loss: 0.5296\n",
            "Epoch 8/10\n",
            "3342/3342 [==============================] - 9s 3ms/step - loss: 0.5302 - val_loss: 0.5294\n",
            "Epoch 9/10\n",
            "3342/3342 [==============================] - 8s 3ms/step - loss: 0.5300 - val_loss: 0.5293\n",
            "Epoch 10/10\n",
            "3342/3342 [==============================] - 9s 3ms/step - loss: 0.5299 - val_loss: 0.5297\n",
            "14850/14850 [==============================] - 20s 1ms/step\n",
            "14850/14850 [==============================] - 17s 1ms/step\n",
            "Model: \"model_14\"\n",
            "_________________________________________________________________\n",
            " Layer (type)                Output Shape              Param #   \n",
            "=================================================================\n",
            " input_10 (InputLayer)       [(None, 51)]              0         \n",
            "                                                                 \n",
            " dense_15 (Dense)            (None, 128)               6528      \n",
            "                                                                 \n",
            " net_output (Dense)          (None, 64)                8192      \n",
            "                                                                 \n",
            " tf.math.subtract_11 (TFOpLa  (None, 64)               0         \n",
            " mbda)                                                           \n",
            "                                                                 \n",
            " tf.math.pow_9 (TFOpLambda)  (None, 64)                0         \n",
            "                                                                 \n",
            " tf.math.reduce_sum_9 (TFOpL  (None,)                  0         \n",
            " ambda)                                                          \n",
            "                                                                 \n",
            " tf.math.reduce_mean_11 (TFO  ()                       0         \n",
            " pLambda)                                                        \n",
            "                                                                 \n",
            " tf.__operators__.add_11 (TF  ()                       0         \n",
            " OpLambda)                                                       \n",
            "                                                                 \n",
            " add_loss_9 (AddLoss)        ()                        0         \n",
            "                                                                 \n",
            "=================================================================\n",
            "Total params: 14,720\n",
            "Trainable params: 14,720\n",
            "Non-trainable params: 0\n",
            "_________________________________________________________________\n",
            "None\n",
            "Epoch 1/10\n",
            "3342/3342 [==============================] - 9s 3ms/step - loss: 0.2593 - val_loss: 0.2248\n",
            "Epoch 2/10\n",
            "3342/3342 [==============================] - 9s 3ms/step - loss: 0.2241 - val_loss: 0.2231\n",
            "Epoch 3/10\n",
            "3342/3342 [==============================] - 9s 3ms/step - loss: 0.2231 - val_loss: 0.2235\n",
            "Epoch 4/10\n",
            "3342/3342 [==============================] - 9s 3ms/step - loss: 0.2226 - val_loss: 0.2223\n",
            "Epoch 5/10\n",
            "3342/3342 [==============================] - 9s 3ms/step - loss: 0.2224 - val_loss: 0.2221\n",
            "Epoch 6/10\n",
            "3342/3342 [==============================] - 8s 3ms/step - loss: 0.2223 - val_loss: 0.2220\n",
            "Epoch 7/10\n",
            "3342/3342 [==============================] - 9s 3ms/step - loss: 0.2221 - val_loss: 0.2217\n",
            "Epoch 8/10\n",
            "3342/3342 [==============================] - 9s 3ms/step - loss: 0.2220 - val_loss: 0.2218\n",
            "Epoch 9/10\n",
            "3342/3342 [==============================] - 10s 3ms/step - loss: 0.2220 - val_loss: 0.2218\n",
            "Epoch 10/10\n",
            "3342/3342 [==============================] - 9s 3ms/step - loss: 0.2219 - val_loss: 0.2217\n",
            "14850/14850 [==============================] - 19s 1ms/step\n"
          ]
        },
        {
          "output_type": "execute_result",
          "data": {
            "text/plain": [
              "DeepSVDD(batch_size=128,\n",
              "     c=array([0.17148, 0.11408, 0.36289, 0.1    , 0.32472, 0.1    , 0.1    ,\n",
              "       0.1    , 0.1    , 0.1    , 0.25865, 0.14603, 0.26543, 0.1    ,\n",
              "       0.1    , 0.29562, 0.1    , 0.1    , 0.1    , 0.     , 0.30585,\n",
              "       0.1    , 0.1    , 0.1    , 0.1    , 0.22789, 0.55861, 0.1    ,\n",
              "       0.1    , 0....      0.1    , 0.36406, 0.1    , 0.1    , 0.16001, 0.1    , 0.1    ,\n",
              "       0.     ], dtype=float32),\n",
              "     contamination=0.1, dropout_rate=0.2, epochs=10,\n",
              "     hidden_activation='relu', hidden_neurons=[128, 64],\n",
              "     l2_regularizer=0.1, optimizer='adam', output_activation='sigmoid',\n",
              "     preprocessing=False, random_state=None, use_ae=False,\n",
              "     validation_size=0.1, verbose=1)"
            ]
          },
          "metadata": {},
          "execution_count": 21
        }
      ]
    },
    {
      "cell_type": "code",
      "source": [
        "loss3 = model3.history_\n",
        "loss4 = model4.history_\n",
        "loss5 = model5.history_"
      ],
      "metadata": {
        "id": "hfQd3UJtHjNT"
      },
      "execution_count": 22,
      "outputs": []
    },
    {
      "cell_type": "code",
      "source": [
        "plt.plot(np.arange(1,11), loss2['val_loss'])\n",
        "plt.plot(np.arange(1,11), loss3['val_loss'])\n",
        "plt.plot(np.arange(1,11), loss4['val_loss'])\n",
        "plt.plot(np.arange(1,11), loss5['val_loss'])\n",
        "plt.legend(['loss2','loss3','loss4','loss5'])"
      ],
      "metadata": {
        "colab": {
          "base_uri": "https://localhost:8080/",
          "height": 282
        },
        "id": "xccwWGemHsFw",
        "outputId": "9072eede-3d2c-440b-b5be-2723583b96db"
      },
      "execution_count": 23,
      "outputs": [
        {
          "output_type": "execute_result",
          "data": {
            "text/plain": [
              "<matplotlib.legend.Legend at 0x7f37ea713810>"
            ]
          },
          "metadata": {},
          "execution_count": 23
        },
        {
          "output_type": "display_data",
          "data": {
            "text/plain": [
              "<Figure size 432x288 with 1 Axes>"
            ],
            "image/png": "[encoded data removed]"
          },
          "metadata": {
            "needs_background": "light"
          }
        }
      ]
    },
    {
      "cell_type": "markdown",
      "source": [
        "model 2 has the lowest validation loss\n",
        "\n",
        "setting: batch_size =64, hidden_neurons= [64, 32], use_ae=False"
      ],
      "metadata": {
        "id": "7j_Elc78H9n0"
      }
    }
  ],
  "metadata": {
    "accelerator": "GPU",
    "colab": {
      "collapsed_sections": [],
      "name": "Neural Network Base Model tuning.ipynb",
      "provenance": [],
      "authorship_tag": "ABX9TyOZ8GQ15svmES+LD6dWNysu",
      "include_colab_link": true
    },
    "gpuClass": "standard",
    "kernelspec": {
      "display_name": "Python 3",
      "name": "python3"
    }
  },
  "nbformat": 4,
  "nbformat_minor": 0
}