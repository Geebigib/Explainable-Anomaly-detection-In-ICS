{
  "cells": [
    {
      "cell_type": "markdown",
      "metadata": {
        "id": "view-in-github",
        "colab_type": "text"
      },
      "source": [
        "<a href=\"https://colab.research.google.com/github/Geebigib/Data-Science-Project/blob/main/SWaT_EDA.ipynb\" target=\"_parent\"><img src=\"https://colab.research.google.com/assets/colab-badge.svg\" alt=\"Open In Colab\"/></a>"
      ]
    },
    {
      "cell_type": "code",
      "source": [
        "from google.colab import drive\n",
        "drive.mount('/content/drive')"
      ],
      "metadata": {
        "colab": {
          "base_uri": "https://localhost:8080/"
        },
        "id": "vXKVkZXAHFbj",
        "outputId": "82a1316b-b5d8-4e84-cb0b-c5a184093f7f"
      },
      "execution_count": 2,
      "outputs": [
        {
          "output_type": "stream",
          "name": "stdout",
          "text": [
            "Mounted at /content/drive\n"
          ]
        }
      ]
    },
    {
      "cell_type": "code",
      "execution_count": 25,
      "metadata": {
        "id": "fb45e152-9c4a-4362-ba8f-180123249b43"
      },
      "outputs": [],
      "source": [
        "import numpy as np\n",
        "import pandas as pd\n",
        "import matplotlib.pyplot as plt\n",
        "import seaborn as sns\n",
        "from sklearn.preprocessing import MinMaxScaler"
      ]
    },
    {
      "cell_type": "code",
      "execution_count": 4,
      "metadata": {
        "id": "toLH0aRZZvs2",
        "colab": {
          "base_uri": "https://localhost:8080/"
        },
        "outputId": "63936004-5b03-425e-c37a-2189f0b31adf"
      },
      "outputs": [
        {
          "output_type": "stream",
          "name": "stdout",
          "text": [
            "Archive:  /content/drive/MyDrive/SWaT_Dataset_v0.zip\n",
            "  inflating: /content/SWaT_Dataset_Attack_v0.csv  \n",
            "  inflating: /content/SWaT_Dataset_Normal_v0.csv  \n"
          ]
        }
      ],
      "source": [
        "!unzip /content/drive/MyDrive/SWaT_Dataset_v0.zip -d /content/"
      ]
    },
    {
      "cell_type": "code",
      "execution_count": 5,
      "metadata": {
        "id": "ef09e9a3-bebc-407a-8492-838438b4e288"
      },
      "outputs": [],
      "source": [
        "swat_normal = pd.read_csv(\"SWaT_Dataset_Normal_v0.csv\", skiprows=1)\n",
        "swat_attack = pd.read_csv(\"SWaT_Dataset_Attack_v0.csv\")"
      ]
    },
    {
      "cell_type": "code",
      "execution_count": 6,
      "metadata": {
        "id": "ba1cbb77-2b06-4667-91df-75e8da68b68d"
      },
      "outputs": [],
      "source": [
        "swat_normal.columns = swat_normal.columns.str.replace(' ','')\n",
        "swat_attack.columns = swat_attack.columns.str.replace(' ','')"
      ]
    },
    {
      "cell_type": "code",
      "execution_count": 7,
      "metadata": {
        "id": "dk2m6eZ7fXPO"
      },
      "outputs": [],
      "source": [
        "swat_attack[\"Normal/Attack\"].replace(' ', '', regex=True, inplace=True)"
      ]
    },
    {
      "cell_type": "code",
      "source": [
        "plt.plot(swat_normal.index[:50000],swat_normal[\"LIT101\"][:50000], label='LIT101')\n",
        "plt.xlabel(\"Time (s)\")\n",
        "plt.title(\"LIT101\")\n",
        "plt.axvline(21600,c=\"r\")\n",
        "plt.show()"
      ],
      "metadata": {
        "colab": {
          "base_uri": "https://localhost:8080/",
          "height": 295
        },
        "id": "WpPKMLRs4IhN",
        "outputId": "17c9fa59-4769-4c89-af8f-c29e41b99bcc"
      },
      "execution_count": 8,
      "outputs": [
        {
          "output_type": "display_data",
          "data": {
            "text/plain": [
              "<Figure size 432x288 with 1 Axes>"
            ],
            "image/png": "[encoded data removed]"
          },
          "metadata": {
            "needs_background": "light"
          }
        }
      ]
    },
    {
      "cell_type": "code",
      "source": [
        "swat_normal.describe()"
      ],
      "metadata": {
        "colab": {
          "base_uri": "https://localhost:8080/",
          "height": 394
        },
        "id": "usV1DPey3xni",
        "outputId": "04d18711-0998-4932-f0b5-4a43dac12e8e"
      },
      "execution_count": 9,
      "outputs": [
        {
          "output_type": "execute_result",
          "data": {
            "text/plain": [
              "              FIT101        LIT101          MV101           P101      P102  \\\n",
              "count  496800.000000  496800.00000  496800.000000  496800.000000  496800.0   \n",
              "mean        1.844964     586.09884       1.718364       1.746860       1.0   \n",
              "std         1.135332     123.89144       0.458669       0.434811       0.0   \n",
              "min         0.000000     120.62370       0.000000       1.000000       1.0   \n",
              "25%         0.000000     508.24470       1.000000       1.000000       1.0   \n",
              "50%         2.491112     525.51590       2.000000       2.000000       1.0   \n",
              "75%         2.591679     675.85400       2.000000       2.000000       1.0   \n",
              "max         2.745092    1000.00000       2.000000       2.000000       1.0   \n",
              "\n",
              "             AIT201         AIT202         AIT203         FIT201  \\\n",
              "count  496800.00000  496800.000000  496800.000000  496800.000000   \n",
              "mean      263.73899       8.387852     348.230699       1.828534   \n",
              "std         4.83595       0.090236      49.422251       1.062482   \n",
              "min       244.32840       8.190080     300.845900       0.000000   \n",
              "25%       260.70240       8.349654     327.275100       0.008650   \n",
              "50%       265.28450       8.366636     330.940800       2.443085   \n",
              "75%       266.98280       8.407331     335.324300       2.451671   \n",
              "max       272.52630       8.988273     567.469900       2.487938   \n",
              "\n",
              "               MV201  ...         FIT504           P501      P502  \\\n",
              "count  496800.000000  ...  496800.000000  496800.000000  496800.0   \n",
              "mean        1.744203  ...       0.306141       1.993281       1.0   \n",
              "std         0.444554  ...       0.025356       0.081694       0.0   \n",
              "min         0.000000  ...       0.000000       1.000000       1.0   \n",
              "25%         1.000000  ...       0.306633       2.000000       1.0   \n",
              "50%         2.000000  ...       0.308362       2.000000       1.0   \n",
              "75%         2.000000  ...       0.310284       2.000000       1.0   \n",
              "max         2.000000  ...       0.317010       2.000000       1.0   \n",
              "\n",
              "              PIT501         PIT502         PIT503         FIT601      P601  \\\n",
              "count  496800.000000  496800.000000  496800.000000  496800.000000  496800.0   \n",
              "mean      250.927892       1.183117     190.271470       0.014376       1.0   \n",
              "std        19.699763       0.216984      15.286211       0.148666       0.0   \n",
              "min         8.891951       0.000000       3.108177       0.000000       1.0   \n",
              "25%       249.951900       1.057252     188.974000       0.000000       1.0   \n",
              "50%       253.028100       1.121328     191.970000       0.000064       1.0   \n",
              "75%       255.030800       1.217441     193.860500       0.000128       1.0   \n",
              "max       264.643700       3.668343     200.637600       1.746131       1.0   \n",
              "\n",
              "                P602      P603  \n",
              "count  496800.000000  496800.0  \n",
              "mean        1.007915       1.0  \n",
              "std         0.088612       0.0  \n",
              "min         1.000000       1.0  \n",
              "25%         1.000000       1.0  \n",
              "50%         1.000000       1.0  \n",
              "75%         1.000000       1.0  \n",
              "max         2.000000       1.0  \n",
              "\n",
              "[8 rows x 51 columns]"
            ],
            "text/html": [
              "\n",
              "  <div id=\"df-e3360912-3237-444d-a301-80d19d14170f\">\n",
              "    <div class=\"colab-df-container\">\n",
              "      <div>\n",
              "<style scoped>\n",
              "    .dataframe tbody tr th:only-of-type {\n",
              "        vertical-align: middle;\n",
              "    }\n",
              "\n",
              "    .dataframe tbody tr th {\n",
              "        vertical-align: top;\n",
              "    }\n",
              "\n",
              "    .dataframe thead th {\n",
              "        text-align: right;\n",
              "    }\n",
              "</style>\n",
              "<table border=\"1\" class=\"dataframe\">\n",
              "  <thead>\n",
              "    <tr style=\"text-align: right;\">\n",
              "      <th></th>\n",
              "      <th>FIT101</th>\n",
              "      <th>LIT101</th>\n",
              "      <th>MV101</th>\n",
              "      <th>P101</th>\n",
              "      <th>P102</th>\n",
              "      <th>AIT201</th>\n",
              "      <th>AIT202</th>\n",
              "      <th>AIT203</th>\n",
              "      <th>FIT201</th>\n",
              "      <th>MV201</th>\n",
              "      <th>...</th>\n",
              "      <th>FIT504</th>\n",
              "      <th>P501</th>\n",
              "      <th>P502</th>\n",
              "      <th>PIT501</th>\n",
              "      <th>PIT502</th>\n",
              "      <th>PIT503</th>\n",
              "      <th>FIT601</th>\n",
              "      <th>P601</th>\n",
              "      <th>P602</th>\n",
              "      <th>P603</th>\n",
              "    </tr>\n",
              "  </thead>\n",
              "  <tbody>\n",
              "    <tr>\n",
              "      <th>count</th>\n",
              "      <td>496800.000000</td>\n",
              "      <td>496800.00000</td>\n",
              "      <td>496800.000000</td>\n",
              "      <td>496800.000000</td>\n",
              "      <td>496800.0</td>\n",
              "      <td>496800.00000</td>\n",
              "      <td>496800.000000</td>\n",
              "      <td>496800.000000</td>\n",
              "      <td>496800.000000</td>\n",
              "      <td>496800.000000</td>\n",
              "      <td>...</td>\n",
              "      <td>496800.000000</td>\n",
              "      <td>496800.000000</td>\n",
              "      <td>496800.0</td>\n",
              "      <td>496800.000000</td>\n",
              "      <td>496800.000000</td>\n",
              "      <td>496800.000000</td>\n",
              "      <td>496800.000000</td>\n",
              "      <td>496800.0</td>\n",
              "      <td>496800.000000</td>\n",
              "      <td>496800.0</td>\n",
              "    </tr>\n",
              "    <tr>\n",
              "      <th>mean</th>\n",
              "      <td>1.844964</td>\n",
              "      <td>586.09884</td>\n",
              "      <td>1.718364</td>\n",
              "      <td>1.746860</td>\n",
              "      <td>1.0</td>\n",
              "      <td>263.73899</td>\n",
              "      <td>8.387852</td>\n",
              "      <td>348.230699</td>\n",
              "      <td>1.828534</td>\n",
              "      <td>1.744203</td>\n",
              "      <td>...</td>\n",
              "      <td>0.306141</td>\n",
              "      <td>1.993281</td>\n",
              "      <td>1.0</td>\n",
              "      <td>250.927892</td>\n",
              "      <td>1.183117</td>\n",
              "      <td>190.271470</td>\n",
              "      <td>0.014376</td>\n",
              "      <td>1.0</td>\n",
              "      <td>1.007915</td>\n",
              "      <td>1.0</td>\n",
              "    </tr>\n",
              "    <tr>\n",
              "      <th>std</th>\n",
              "      <td>1.135332</td>\n",
              "      <td>123.89144</td>\n",
              "      <td>0.458669</td>\n",
              "      <td>0.434811</td>\n",
              "      <td>0.0</td>\n",
              "      <td>4.83595</td>\n",
              "      <td>0.090236</td>\n",
              "      <td>49.422251</td>\n",
              "      <td>1.062482</td>\n",
              "      <td>0.444554</td>\n",
              "      <td>...</td>\n",
              "      <td>0.025356</td>\n",
              "      <td>0.081694</td>\n",
              "      <td>0.0</td>\n",
              "      <td>19.699763</td>\n",
              "      <td>0.216984</td>\n",
              "      <td>15.286211</td>\n",
              "      <td>0.148666</td>\n",
              "      <td>0.0</td>\n",
              "      <td>0.088612</td>\n",
              "      <td>0.0</td>\n",
              "    </tr>\n",
              "    <tr>\n",
              "      <th>min</th>\n",
              "      <td>0.000000</td>\n",
              "      <td>120.62370</td>\n",
              "      <td>0.000000</td>\n",
              "      <td>1.000000</td>\n",
              "      <td>1.0</td>\n",
              "      <td>244.32840</td>\n",
              "      <td>8.190080</td>\n",
              "      <td>300.845900</td>\n",
              "      <td>0.000000</td>\n",
              "      <td>0.000000</td>\n",
              "      <td>...</td>\n",
              "      <td>0.000000</td>\n",
              "      <td>1.000000</td>\n",
              "      <td>1.0</td>\n",
              "      <td>8.891951</td>\n",
              "      <td>0.000000</td>\n",
              "      <td>3.108177</td>\n",
              "      <td>0.000000</td>\n",
              "      <td>1.0</td>\n",
              "      <td>1.000000</td>\n",
              "      <td>1.0</td>\n",
              "    </tr>\n",
              "    <tr>\n",
              "      <th>25%</th>\n",
              "      <td>0.000000</td>\n",
              "      <td>508.24470</td>\n",
              "      <td>1.000000</td>\n",
              "      <td>1.000000</td>\n",
              "      <td>1.0</td>\n",
              "      <td>260.70240</td>\n",
              "      <td>8.349654</td>\n",
              "      <td>327.275100</td>\n",
              "      <td>0.008650</td>\n",
              "      <td>1.000000</td>\n",
              "      <td>...</td>\n",
              "      <td>0.306633</td>\n",
              "      <td>2.000000</td>\n",
              "      <td>1.0</td>\n",
              "      <td>249.951900</td>\n",
              "      <td>1.057252</td>\n",
              "      <td>188.974000</td>\n",
              "      <td>0.000000</td>\n",
              "      <td>1.0</td>\n",
              "      <td>1.000000</td>\n",
              "      <td>1.0</td>\n",
              "    </tr>\n",
              "    <tr>\n",
              "      <th>50%</th>\n",
              "      <td>2.491112</td>\n",
              "      <td>525.51590</td>\n",
              "      <td>2.000000</td>\n",
              "      <td>2.000000</td>\n",
              "      <td>1.0</td>\n",
              "      <td>265.28450</td>\n",
              "      <td>8.366636</td>\n",
              "      <td>330.940800</td>\n",
              "      <td>2.443085</td>\n",
              "      <td>2.000000</td>\n",
              "      <td>...</td>\n",
              "      <td>0.308362</td>\n",
              "      <td>2.000000</td>\n",
              "      <td>1.0</td>\n",
              "      <td>253.028100</td>\n",
              "      <td>1.121328</td>\n",
              "      <td>191.970000</td>\n",
              "      <td>0.000064</td>\n",
              "      <td>1.0</td>\n",
              "      <td>1.000000</td>\n",
              "      <td>1.0</td>\n",
              "    </tr>\n",
              "    <tr>\n",
              "      <th>75%</th>\n",
              "      <td>2.591679</td>\n",
              "      <td>675.85400</td>\n",
              "      <td>2.000000</td>\n",
              "      <td>2.000000</td>\n",
              "      <td>1.0</td>\n",
              "      <td>266.98280</td>\n",
              "      <td>8.407331</td>\n",
              "      <td>335.324300</td>\n",
              "      <td>2.451671</td>\n",
              "      <td>2.000000</td>\n",
              "      <td>...</td>\n",
              "      <td>0.310284</td>\n",
              "      <td>2.000000</td>\n",
              "      <td>1.0</td>\n",
              "      <td>255.030800</td>\n",
              "      <td>1.217441</td>\n",
              "      <td>193.860500</td>\n",
              "      <td>0.000128</td>\n",
              "      <td>1.0</td>\n",
              "      <td>1.000000</td>\n",
              "      <td>1.0</td>\n",
              "    </tr>\n",
              "    <tr>\n",
              "      <th>max</th>\n",
              "      <td>2.745092</td>\n",
              "      <td>1000.00000</td>\n",
              "      <td>2.000000</td>\n",
              "      <td>2.000000</td>\n",
              "      <td>1.0</td>\n",
              "      <td>272.52630</td>\n",
              "      <td>8.988273</td>\n",
              "      <td>567.469900</td>\n",
              "      <td>2.487938</td>\n",
              "      <td>2.000000</td>\n",
              "      <td>...</td>\n",
              "      <td>0.317010</td>\n",
              "      <td>2.000000</td>\n",
              "      <td>1.0</td>\n",
              "      <td>264.643700</td>\n",
              "      <td>3.668343</td>\n",
              "      <td>200.637600</td>\n",
              "      <td>1.746131</td>\n",
              "      <td>1.0</td>\n",
              "      <td>2.000000</td>\n",
              "      <td>1.0</td>\n",
              "    </tr>\n",
              "  </tbody>\n",
              "</table>\n",
              "<p>8 rows × 51 columns</p>\n",
              "</div>\n",
              "      <button class=\"colab-df-convert\" onclick=\"convertToInteractive('df-e3360912-3237-444d-a301-80d19d14170f')\"\n",
              "              title=\"Convert this dataframe to an interactive table.\"\n",
              "              style=\"display:none;\">\n",
              "        \n",
              "  <svg xmlns=\"http://www.w3.org/2000/svg\" height=\"24px\"viewBox=\"0 0 24 24\"\n",
              "       width=\"24px\">\n",
              "    <path d=\"M0 0h24v24H0V0z\" fill=\"none\"/>\n",
              "    <path d=\"M18.56 5.44l.94 2.06.94-2.06 2.06-.94-2.06-.94-.94-2.06-.94 2.06-2.06.94zm-11 1L8.5 8.5l.94-2.06 2.06-.94-2.06-.94L8.5 2.5l-.94 2.06-2.06.94zm10 10l.94 2.06.94-2.06 2.06-.94-2.06-.94-.94-2.06-.94 2.06-2.06.94z\"/><path d=\"M17.41 7.96l-1.37-1.37c-.4-.4-.92-.59-1.43-.59-.52 0-1.04.2-1.43.59L10.3 9.45l-7.72 7.72c-.78.78-.78 2.05 0 2.83L4 21.41c.39.39.9.59 1.41.59.51 0 1.02-.2 1.41-.59l7.78-7.78 2.81-2.81c.8-.78.8-2.07 0-2.86zM5.41 20L4 18.59l7.72-7.72 1.47 1.35L5.41 20z\"/>\n",
              "  </svg>\n",
              "      </button>\n",
              "      \n",
              "  <style>\n",
              "    .colab-df-container {\n",
              "      display:flex;\n",
              "      flex-wrap:wrap;\n",
              "      gap: 12px;\n",
              "    }\n",
              "\n",
              "    .colab-df-convert {\n",
              "      background-color: #E8F0FE;\n",
              "      border: none;\n",
              "      border-radius: 50%;\n",
              "      cursor: pointer;\n",
              "      display: none;\n",
              "      fill: #1967D2;\n",
              "      height: 32px;\n",
              "      padding: 0 0 0 0;\n",
              "      width: 32px;\n",
              "    }\n",
              "\n",
              "    .colab-df-convert:hover {\n",
              "      background-color: #E2EBFA;\n",
              "      box-shadow: 0px 1px 2px rgba(60, 64, 67, 0.3), 0px 1px 3px 1px rgba(60, 64, 67, 0.15);\n",
              "      fill: #174EA6;\n",
              "    }\n",
              "\n",
              "    [theme=dark] .colab-df-convert {\n",
              "      background-color: #3B4455;\n",
              "      fill: #D2E3FC;\n",
              "    }\n",
              "\n",
              "    [theme=dark] .colab-df-convert:hover {\n",
              "      background-color: #434B5C;\n",
              "      box-shadow: 0px 1px 3px 1px rgba(0, 0, 0, 0.15);\n",
              "      filter: drop-shadow(0px 1px 2px rgba(0, 0, 0, 0.3));\n",
              "      fill: #FFFFFF;\n",
              "    }\n",
              "  </style>\n",
              "\n",
              "      <script>\n",
              "        const buttonEl =\n",
              "          document.querySelector('#df-e3360912-3237-444d-a301-80d19d14170f button.colab-df-convert');\n",
              "        buttonEl.style.display =\n",
              "          google.colab.kernel.accessAllowed ? 'block' : 'none';\n",
              "\n",
              "        async function convertToInteractive(key) {\n",
              "          const element = document.querySelector('#df-e3360912-3237-444d-a301-80d19d14170f');\n",
              "          const dataTable =\n",
              "            await google.colab.kernel.invokeFunction('convertToInteractive',\n",
              "                                                     [key], {});\n",
              "          if (!dataTable) return;\n",
              "\n",
              "          const docLinkHtml = 'Like what you see? Visit the ' +\n",
              "            '<a target=\"_blank\" href=https://colab.research.google.com/notebooks/data_table.ipynb>data table notebook</a>'\n",
              "            + ' to learn more about interactive tables.';\n",
              "          element.innerHTML = '';\n",
              "          dataTable['output_type'] = 'display_data';\n",
              "          await google.colab.output.renderOutput(dataTable, element);\n",
              "          const docLink = document.createElement('div');\n",
              "          docLink.innerHTML = docLinkHtml;\n",
              "          element.appendChild(docLink);\n",
              "        }\n",
              "      </script>\n",
              "    </div>\n",
              "  </div>\n",
              "  "
            ]
          },
          "metadata": {},
          "execution_count": 9
        }
      ]
    },
    {
      "cell_type": "code",
      "source": [
        "sns.displot(swat_normal, x=\"LIT101\", bins=20)\n",
        "plt.title(\"Distribution of LIT101\")\n",
        "plt.show()"
      ],
      "metadata": {
        "colab": {
          "base_uri": "https://localhost:8080/",
          "height": 385
        },
        "id": "aFNBiPzV4GFY",
        "outputId": "d1ecb26d-5881-42e5-d326-324fb693d932"
      },
      "execution_count": 10,
      "outputs": [
        {
          "output_type": "display_data",
          "data": {
            "text/plain": [
              "<Figure size 360x360 with 1 Axes>"
            ],
            "image/png": "[encoded data removed]"
          },
          "metadata": {
            "needs_background": "light"
          }
        }
      ]
    },
    {
      "cell_type": "code",
      "source": [
        "len(swat_normal), len(swat_attack)"
      ],
      "metadata": {
        "colab": {
          "base_uri": "https://localhost:8080/"
        },
        "id": "QTi4VvusS-dG",
        "outputId": "59cd726b-422f-410b-cb67-9ce3e7da3525"
      },
      "execution_count": 11,
      "outputs": [
        {
          "output_type": "execute_result",
          "data": {
            "text/plain": [
              "(496800, 449919)"
            ]
          },
          "metadata": {},
          "execution_count": 11
        }
      ]
    },
    {
      "cell_type": "code",
      "source": [
        "len(swat_attack[swat_attack[\"Normal/Attack\"] == \"Attack\"])"
      ],
      "metadata": {
        "colab": {
          "base_uri": "https://localhost:8080/"
        },
        "id": "Ww95-t-AUJNd",
        "outputId": "2d2a1679-b4db-44aa-ab1b-604f7d4c699c"
      },
      "execution_count": 12,
      "outputs": [
        {
          "output_type": "execute_result",
          "data": {
            "text/plain": [
              "54621"
            ]
          },
          "metadata": {},
          "execution_count": 12
        }
      ]
    },
    {
      "cell_type": "code",
      "source": [
        "num_att = len(swat_attack[swat_attack[\"Normal/Attack\"] == \"Attack\"])*100/ (len(swat_normal)+len(swat_attack))"
      ],
      "metadata": {
        "id": "QF-4l2cNUS9n"
      },
      "execution_count": 13,
      "outputs": []
    },
    {
      "cell_type": "code",
      "source": [
        "print(f'there are {np.round(num_att,2)} % of attack data')"
      ],
      "metadata": {
        "colab": {
          "base_uri": "https://localhost:8080/"
        },
        "id": "qz1zakLkUcKw",
        "outputId": "944c055f-bf45-43ba-cddd-638ff66e58e8"
      },
      "execution_count": 14,
      "outputs": [
        {
          "output_type": "stream",
          "name": "stdout",
          "text": [
            "there are 5.77 % of attack data\n"
          ]
        }
      ]
    },
    {
      "cell_type": "code",
      "source": [
        "swat_attack.isnull().any()"
      ],
      "metadata": {
        "id": "o4KvhGF9WFDG",
        "outputId": "a2b0b9e7-2832-43d1-a914-7eb85aef1e19",
        "colab": {
          "base_uri": "https://localhost:8080/"
        }
      },
      "execution_count": 15,
      "outputs": [
        {
          "output_type": "execute_result",
          "data": {
            "text/plain": [
              "Timestamp        False\n",
              "FIT101           False\n",
              "LIT101           False\n",
              "MV101            False\n",
              "P101             False\n",
              "P102             False\n",
              "AIT201           False\n",
              "AIT202           False\n",
              "AIT203           False\n",
              "FIT201           False\n",
              "MV201            False\n",
              "P201             False\n",
              "P202             False\n",
              "P203             False\n",
              "P204             False\n",
              "P205             False\n",
              "P206             False\n",
              "DPIT301          False\n",
              "FIT301           False\n",
              "LIT301           False\n",
              "MV301            False\n",
              "MV302            False\n",
              "MV303            False\n",
              "MV304            False\n",
              "P301             False\n",
              "P302             False\n",
              "AIT401           False\n",
              "AIT402           False\n",
              "FIT401           False\n",
              "LIT401           False\n",
              "P401             False\n",
              "P402             False\n",
              "P403             False\n",
              "P404             False\n",
              "UV401            False\n",
              "AIT501           False\n",
              "AIT502           False\n",
              "AIT503           False\n",
              "AIT504           False\n",
              "FIT501           False\n",
              "FIT502           False\n",
              "FIT503           False\n",
              "FIT504           False\n",
              "P501             False\n",
              "P502             False\n",
              "PIT501           False\n",
              "PIT502           False\n",
              "PIT503           False\n",
              "FIT601           False\n",
              "P601             False\n",
              "P602             False\n",
              "P603             False\n",
              "Normal/Attack    False\n",
              "dtype: bool"
            ]
          },
          "metadata": {},
          "execution_count": 15
        }
      ]
    },
    {
      "cell_type": "code",
      "source": [
        "swat_normal.isnull().any()"
      ],
      "metadata": {
        "id": "TduCCvHQWJtq",
        "outputId": "400b14a6-58b4-4dc0-bb41-d3b34281c69b",
        "colab": {
          "base_uri": "https://localhost:8080/"
        }
      },
      "execution_count": 16,
      "outputs": [
        {
          "output_type": "execute_result",
          "data": {
            "text/plain": [
              "Timestamp        False\n",
              "FIT101           False\n",
              "LIT101           False\n",
              "MV101            False\n",
              "P101             False\n",
              "P102             False\n",
              "AIT201           False\n",
              "AIT202           False\n",
              "AIT203           False\n",
              "FIT201           False\n",
              "MV201            False\n",
              "P201             False\n",
              "P202             False\n",
              "P203             False\n",
              "P204             False\n",
              "P205             False\n",
              "P206             False\n",
              "DPIT301          False\n",
              "FIT301           False\n",
              "LIT301           False\n",
              "MV301            False\n",
              "MV302            False\n",
              "MV303            False\n",
              "MV304            False\n",
              "P301             False\n",
              "P302             False\n",
              "AIT401           False\n",
              "AIT402           False\n",
              "FIT401           False\n",
              "LIT401           False\n",
              "P401             False\n",
              "P402             False\n",
              "P403             False\n",
              "P404             False\n",
              "UV401            False\n",
              "AIT501           False\n",
              "AIT502           False\n",
              "AIT503           False\n",
              "AIT504           False\n",
              "FIT501           False\n",
              "FIT502           False\n",
              "FIT503           False\n",
              "FIT504           False\n",
              "P501             False\n",
              "P502             False\n",
              "PIT501           False\n",
              "PIT502           False\n",
              "PIT503           False\n",
              "FIT601           False\n",
              "P601             False\n",
              "P602             False\n",
              "P603             False\n",
              "Normal/Attack    False\n",
              "dtype: bool"
            ]
          },
          "metadata": {},
          "execution_count": 16
        }
      ]
    },
    {
      "cell_type": "code",
      "source": [
        "swat_normal.columns"
      ],
      "metadata": {
        "colab": {
          "base_uri": "https://localhost:8080/"
        },
        "id": "YvYohTzh4I20",
        "outputId": "e5e7ccfe-20ca-407d-8733-791f209142fb"
      },
      "execution_count": 17,
      "outputs": [
        {
          "output_type": "execute_result",
          "data": {
            "text/plain": [
              "Index(['Timestamp', 'FIT101', 'LIT101', 'MV101', 'P101', 'P102', 'AIT201',\n",
              "       'AIT202', 'AIT203', 'FIT201', 'MV201', 'P201', 'P202', 'P203', 'P204',\n",
              "       'P205', 'P206', 'DPIT301', 'FIT301', 'LIT301', 'MV301', 'MV302',\n",
              "       'MV303', 'MV304', 'P301', 'P302', 'AIT401', 'AIT402', 'FIT401',\n",
              "       'LIT401', 'P401', 'P402', 'P403', 'P404', 'UV401', 'AIT501', 'AIT502',\n",
              "       'AIT503', 'AIT504', 'FIT501', 'FIT502', 'FIT503', 'FIT504', 'P501',\n",
              "       'P502', 'PIT501', 'PIT502', 'PIT503', 'FIT601', 'P601', 'P602', 'P603',\n",
              "       'Normal/Attack'],\n",
              "      dtype='object')"
            ]
          },
          "metadata": {},
          "execution_count": 17
        }
      ]
    },
    {
      "cell_type": "code",
      "source": [
        "scaler = MinMaxScaler()\n",
        "swat_normal_norm = scaler.fit_transform(swat_normal.drop(columns = [\"Timestamp\",\"Normal/Attack\"]))"
      ],
      "metadata": {
        "id": "IXInuC-05ez6"
      },
      "execution_count": 29,
      "outputs": []
    },
    {
      "cell_type": "code",
      "source": [
        "swat_normal_norm = pd.DataFrame(swat_normal_norm, columns = swat_normal.drop(columns = [\"Timestamp\",\"Normal/Attack\"]).columns)"
      ],
      "metadata": {
        "id": "NOKIbMdA50Te"
      },
      "execution_count": 31,
      "outputs": []
    },
    {
      "cell_type": "code",
      "source": [
        "plt.plot(swat_normal_norm.index[50000:60000],swat_normal_norm[\"FIT101\"][50000:60000], label='FIT101')\n",
        "plt.plot(swat_normal_norm.index[50000:60000],swat_normal_norm[\"LIT101\"][50000:60000], label='LIT101')\n",
        "plt.xlabel(\"Time (s)\")\n",
        "# plt.title(\"\")\n",
        "plt.legend(loc='lower right')\n",
        "plt.show()"
      ],
      "metadata": {
        "colab": {
          "base_uri": "https://localhost:8080/",
          "height": 279
        },
        "id": "y_ZaLuL84PCF",
        "outputId": "57b9a968-1f96-4558-c980-7cbc50c97f61"
      },
      "execution_count": 36,
      "outputs": [
        {
          "output_type": "display_data",
          "data": {
            "text/plain": [
              "<Figure size 432x288 with 1 Axes>"
            ],
            "image/png": "[encoded data removed]"
          },
          "metadata": {
            "needs_background": "light"
          }
        }
      ]
    }
  ],
  "metadata": {
    "accelerator": "GPU",
    "colab": {
      "collapsed_sections": [],
      "name": "SWaT_EDA.ipynb",
      "provenance": [],
      "mount_file_id": "1uGI1XQKQuLiceyvPdtEYR6bicoaKWRyX",
      "authorship_tag": "ABX9TyPk4bkAhpDktxTgOB1u5cQe",
      "include_colab_link": true
    },
    "gpuClass": "standard",
    "kernelspec": {
      "display_name": "Python 3",
      "name": "python3"
    },
    "language_info": {
      "name": "python"
    }
  },
  "nbformat": 4,
  "nbformat_minor": 0
}