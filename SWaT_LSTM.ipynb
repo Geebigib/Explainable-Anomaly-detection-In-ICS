{
  "cells": [
    {
      "cell_type": "markdown",
      "metadata": {
        "id": "view-in-github",
        "colab_type": "text"
      },
      "source": [
        "<a href=\"https://colab.research.google.com/github/Geebigib/Data-Science-Project/blob/main/SWaT_LSTM.ipynb\" target=\"_parent\"><img src=\"https://colab.research.google.com/assets/colab-badge.svg\" alt=\"Open In Colab\"/></a>"
      ]
    },
    {
      "cell_type": "code",
      "execution_count": null,
      "metadata": {
        "id": "TWr4y_u0OYJH"
      },
      "outputs": [],
      "source": [
        "# !pip install --quiet torch"
      ],
      "id": "TWr4y_u0OYJH"
    },
    {
      "cell_type": "code",
      "execution_count": 1,
      "metadata": {
        "id": "OpiZq88XO5Sj",
        "colab": {
          "base_uri": "https://localhost:8080/"
        },
        "outputId": "6a8c2ee5-33b3-426a-9e04-b37b01d2b0b5"
      },
      "outputs": [
        {
          "output_type": "stream",
          "name": "stdout",
          "text": [
            "Looking in indexes: https://pypi.org/simple, https://us-python.pkg.dev/colab-wheels/public/simple/\n",
            "Collecting torchtext==0.8.0\n",
            "  Downloading torchtext-0.8.0-cp37-cp37m-manylinux1_x86_64.whl (6.9 MB)\n",
            "\u001b[K     |████████████████████████████████| 6.9 MB 6.6 MB/s \n",
            "\u001b[?25hCollecting torch==1.7.1\n",
            "  Downloading torch-1.7.1-cp37-cp37m-manylinux1_x86_64.whl (776.8 MB)\n",
            "\u001b[K     |████████████████████████████████| 776.8 MB 19 kB/s \n",
            "\u001b[?25hCollecting pytorch-lightning==1.2.2\n",
            "  Downloading pytorch_lightning-1.2.2-py3-none-any.whl (816 kB)\n",
            "\u001b[K     |████████████████████████████████| 816 kB 48.1 MB/s \n",
            "\u001b[?25hRequirement already satisfied: requests in /usr/local/lib/python3.7/dist-packages (from torchtext==0.8.0) (2.23.0)\n",
            "Requirement already satisfied: numpy in /usr/local/lib/python3.7/dist-packages (from torchtext==0.8.0) (1.21.6)\n",
            "Requirement already satisfied: tqdm in /usr/local/lib/python3.7/dist-packages (from torchtext==0.8.0) (4.64.0)\n",
            "Requirement already satisfied: typing-extensions in /usr/local/lib/python3.7/dist-packages (from torch==1.7.1) (4.1.1)\n",
            "Collecting fsspec[http]>=0.8.1\n",
            "  Downloading fsspec-2022.5.0-py3-none-any.whl (140 kB)\n",
            "\u001b[K     |████████████████████████████████| 140 kB 54.9 MB/s \n",
            "\u001b[?25hCollecting PyYAML!=5.4.*,>=5.1\n",
            "  Downloading PyYAML-6.0-cp37-cp37m-manylinux_2_5_x86_64.manylinux1_x86_64.manylinux_2_12_x86_64.manylinux2010_x86_64.whl (596 kB)\n",
            "\u001b[K     |████████████████████████████████| 596 kB 32.0 MB/s \n",
            "\u001b[?25hRequirement already satisfied: tensorboard>=2.2.0 in /usr/local/lib/python3.7/dist-packages (from pytorch-lightning==1.2.2) (2.8.0)\n",
            "Collecting future>=0.17.1\n",
            "  Downloading future-0.18.2.tar.gz (829 kB)\n",
            "\u001b[K     |████████████████████████████████| 829 kB 43.8 MB/s \n",
            "\u001b[?25hCollecting aiohttp\n",
            "  Downloading aiohttp-3.8.1-cp37-cp37m-manylinux_2_5_x86_64.manylinux1_x86_64.manylinux_2_12_x86_64.manylinux2010_x86_64.whl (1.1 MB)\n",
            "\u001b[K     |████████████████████████████████| 1.1 MB 41.6 MB/s \n",
            "\u001b[?25hRequirement already satisfied: google-auth-oauthlib<0.5,>=0.4.1 in /usr/local/lib/python3.7/dist-packages (from tensorboard>=2.2.0->pytorch-lightning==1.2.2) (0.4.6)\n",
            "Requirement already satisfied: google-auth<3,>=1.6.3 in /usr/local/lib/python3.7/dist-packages (from tensorboard>=2.2.0->pytorch-lightning==1.2.2) (1.35.0)\n",
            "Requirement already satisfied: tensorboard-data-server<0.7.0,>=0.6.0 in /usr/local/lib/python3.7/dist-packages (from tensorboard>=2.2.0->pytorch-lightning==1.2.2) (0.6.1)\n",
            "Requirement already satisfied: grpcio>=1.24.3 in /usr/local/lib/python3.7/dist-packages (from tensorboard>=2.2.0->pytorch-lightning==1.2.2) (1.47.0)\n",
            "Requirement already satisfied: absl-py>=0.4 in /usr/local/lib/python3.7/dist-packages (from tensorboard>=2.2.0->pytorch-lightning==1.2.2) (1.1.0)\n",
            "Requirement already satisfied: markdown>=2.6.8 in /usr/local/lib/python3.7/dist-packages (from tensorboard>=2.2.0->pytorch-lightning==1.2.2) (3.3.7)\n",
            "Requirement already satisfied: wheel>=0.26 in /usr/local/lib/python3.7/dist-packages (from tensorboard>=2.2.0->pytorch-lightning==1.2.2) (0.37.1)\n",
            "Requirement already satisfied: protobuf>=3.6.0 in /usr/local/lib/python3.7/dist-packages (from tensorboard>=2.2.0->pytorch-lightning==1.2.2) (3.17.3)\n",
            "Requirement already satisfied: werkzeug>=0.11.15 in /usr/local/lib/python3.7/dist-packages (from tensorboard>=2.2.0->pytorch-lightning==1.2.2) (1.0.1)\n",
            "Requirement already satisfied: setuptools>=41.0.0 in /usr/local/lib/python3.7/dist-packages (from tensorboard>=2.2.0->pytorch-lightning==1.2.2) (57.4.0)\n",
            "Requirement already satisfied: tensorboard-plugin-wit>=1.6.0 in /usr/local/lib/python3.7/dist-packages (from tensorboard>=2.2.0->pytorch-lightning==1.2.2) (1.8.1)\n",
            "Requirement already satisfied: cachetools<5.0,>=2.0.0 in /usr/local/lib/python3.7/dist-packages (from google-auth<3,>=1.6.3->tensorboard>=2.2.0->pytorch-lightning==1.2.2) (4.2.4)\n",
            "Requirement already satisfied: rsa<5,>=3.1.4 in /usr/local/lib/python3.7/dist-packages (from google-auth<3,>=1.6.3->tensorboard>=2.2.0->pytorch-lightning==1.2.2) (4.8)\n",
            "Requirement already satisfied: pyasn1-modules>=0.2.1 in /usr/local/lib/python3.7/dist-packages (from google-auth<3,>=1.6.3->tensorboard>=2.2.0->pytorch-lightning==1.2.2) (0.2.8)\n",
            "Requirement already satisfied: six>=1.9.0 in /usr/local/lib/python3.7/dist-packages (from google-auth<3,>=1.6.3->tensorboard>=2.2.0->pytorch-lightning==1.2.2) (1.15.0)\n",
            "Requirement already satisfied: requests-oauthlib>=0.7.0 in /usr/local/lib/python3.7/dist-packages (from google-auth-oauthlib<0.5,>=0.4.1->tensorboard>=2.2.0->pytorch-lightning==1.2.2) (1.3.1)\n",
            "Requirement already satisfied: importlib-metadata>=4.4 in /usr/local/lib/python3.7/dist-packages (from markdown>=2.6.8->tensorboard>=2.2.0->pytorch-lightning==1.2.2) (4.12.0)\n",
            "Requirement already satisfied: zipp>=0.5 in /usr/local/lib/python3.7/dist-packages (from importlib-metadata>=4.4->markdown>=2.6.8->tensorboard>=2.2.0->pytorch-lightning==1.2.2) (3.8.0)\n",
            "Requirement already satisfied: pyasn1<0.5.0,>=0.4.6 in /usr/local/lib/python3.7/dist-packages (from pyasn1-modules>=0.2.1->google-auth<3,>=1.6.3->tensorboard>=2.2.0->pytorch-lightning==1.2.2) (0.4.8)\n",
            "Requirement already satisfied: certifi>=2017.4.17 in /usr/local/lib/python3.7/dist-packages (from requests->torchtext==0.8.0) (2022.6.15)\n",
            "Requirement already satisfied: idna<3,>=2.5 in /usr/local/lib/python3.7/dist-packages (from requests->torchtext==0.8.0) (2.10)\n",
            "Requirement already satisfied: urllib3!=1.25.0,!=1.25.1,<1.26,>=1.21.1 in /usr/local/lib/python3.7/dist-packages (from requests->torchtext==0.8.0) (1.24.3)\n",
            "Requirement already satisfied: chardet<4,>=3.0.2 in /usr/local/lib/python3.7/dist-packages (from requests->torchtext==0.8.0) (3.0.4)\n",
            "Requirement already satisfied: oauthlib>=3.0.0 in /usr/local/lib/python3.7/dist-packages (from requests-oauthlib>=0.7.0->google-auth-oauthlib<0.5,>=0.4.1->tensorboard>=2.2.0->pytorch-lightning==1.2.2) (3.2.0)\n",
            "Collecting frozenlist>=1.1.1\n",
            "  Downloading frozenlist-1.3.0-cp37-cp37m-manylinux_2_5_x86_64.manylinux1_x86_64.manylinux_2_17_x86_64.manylinux2014_x86_64.whl (144 kB)\n",
            "\u001b[K     |████████████████████████████████| 144 kB 52.5 MB/s \n",
            "\u001b[?25hRequirement already satisfied: charset-normalizer<3.0,>=2.0 in /usr/local/lib/python3.7/dist-packages (from aiohttp->fsspec[http]>=0.8.1->pytorch-lightning==1.2.2) (2.1.0)\n",
            "Collecting aiosignal>=1.1.2\n",
            "  Downloading aiosignal-1.2.0-py3-none-any.whl (8.2 kB)\n",
            "Collecting asynctest==0.13.0\n",
            "  Downloading asynctest-0.13.0-py3-none-any.whl (26 kB)\n",
            "Collecting async-timeout<5.0,>=4.0.0a3\n",
            "  Downloading async_timeout-4.0.2-py3-none-any.whl (5.8 kB)\n",
            "Collecting multidict<7.0,>=4.5\n",
            "  Downloading multidict-6.0.2-cp37-cp37m-manylinux_2_17_x86_64.manylinux2014_x86_64.whl (94 kB)\n",
            "\u001b[K     |████████████████████████████████| 94 kB 2.4 MB/s \n",
            "\u001b[?25hCollecting yarl<2.0,>=1.0\n",
            "  Downloading yarl-1.7.2-cp37-cp37m-manylinux_2_5_x86_64.manylinux1_x86_64.manylinux_2_12_x86_64.manylinux2010_x86_64.whl (271 kB)\n",
            "\u001b[K     |████████████████████████████████| 271 kB 8.3 MB/s \n",
            "\u001b[?25hRequirement already satisfied: attrs>=17.3.0 in /usr/local/lib/python3.7/dist-packages (from aiohttp->fsspec[http]>=0.8.1->pytorch-lightning==1.2.2) (21.4.0)\n",
            "Building wheels for collected packages: future\n",
            "  Building wheel for future (setup.py) ... \u001b[?25l\u001b[?25hdone\n",
            "  Created wheel for future: filename=future-0.18.2-py3-none-any.whl size=491070 sha256=dbad90ddbf9a2c32294f42dc5141b5a27d9b23fa8ee6d1a89fed881cba832b77\n",
            "  Stored in directory: /root/.cache/pip/wheels/56/b0/fe/4410d17b32f1f0c3cf54cdfb2bc04d7b4b8f4ae377e2229ba0\n",
            "Successfully built future\n",
            "Installing collected packages: multidict, frozenlist, yarl, asynctest, async-timeout, aiosignal, fsspec, aiohttp, torch, PyYAML, future, torchtext, pytorch-lightning\n",
            "  Attempting uninstall: torch\n",
            "    Found existing installation: torch 1.12.0+cu113\n",
            "    Uninstalling torch-1.12.0+cu113:\n",
            "      Successfully uninstalled torch-1.12.0+cu113\n",
            "  Attempting uninstall: PyYAML\n",
            "    Found existing installation: PyYAML 3.13\n",
            "    Uninstalling PyYAML-3.13:\n",
            "      Successfully uninstalled PyYAML-3.13\n",
            "  Attempting uninstall: future\n",
            "    Found existing installation: future 0.16.0\n",
            "    Uninstalling future-0.16.0:\n",
            "      Successfully uninstalled future-0.16.0\n",
            "  Attempting uninstall: torchtext\n",
            "    Found existing installation: torchtext 0.13.0\n",
            "    Uninstalling torchtext-0.13.0:\n",
            "      Successfully uninstalled torchtext-0.13.0\n",
            "\u001b[31mERROR: pip's dependency resolver does not currently take into account all the packages that are installed. This behaviour is the source of the following dependency conflicts.\n",
            "torchvision 0.13.0+cu113 requires torch==1.12.0, but you have torch 1.7.1 which is incompatible.\n",
            "torchaudio 0.12.0+cu113 requires torch==1.12.0, but you have torch 1.7.1 which is incompatible.\u001b[0m\n",
            "Successfully installed PyYAML-6.0 aiohttp-3.8.1 aiosignal-1.2.0 async-timeout-4.0.2 asynctest-0.13.0 frozenlist-1.3.0 fsspec-2022.5.0 future-0.18.2 multidict-6.0.2 pytorch-lightning-1.2.2 torch-1.7.1 torchtext-0.8.0 yarl-1.7.2\n",
            "1.2.2\n"
          ]
        }
      ],
      "source": [
        "# !pip install torchtext==0.8.0 torch==1.7.1 pytorch-lightning==1.2.2\n",
        "# import pytorch_lightning as pl\n",
        "# print(pl.__version__)"
      ],
      "id": "OpiZq88XO5Sj"
    },
    {
      "cell_type": "markdown",
      "metadata": {
        "id": "CEqmYNgddgrA"
      },
      "source": [
        "## import libary for preprocessing data"
      ],
      "id": "CEqmYNgddgrA"
    },
    {
      "cell_type": "code",
      "execution_count": 1,
      "metadata": {
        "id": "fb45e152-9c4a-4362-ba8f-180123249b43"
      },
      "outputs": [],
      "source": [
        "import numpy as np\n",
        "import pandas as pd\n",
        "import matplotlib.pyplot as plt\n",
        "import seaborn as sns"
      ],
      "id": "fb45e152-9c4a-4362-ba8f-180123249b43"
    },
    {
      "cell_type": "code",
      "execution_count": 3,
      "metadata": {
        "id": "3n6wS1mLdfMJ"
      },
      "outputs": [],
      "source": [
        "from tqdm.notebook import tqdm\n",
        "import pytorch_lightning as pl\n",
        "from sklearn.preprocessing import StandardScaler\n",
        "from sklearn.preprocessing import LabelEncoder\n",
        "from sklearn.model_selection import train_test_split\n",
        "\n",
        "import torch\n",
        "import torch.autograd as autograd\n",
        "import torch.nn as nn\n",
        "import torch.nn.functional as F\n",
        "import torch.optim as optim\n",
        "from torch.utils.data import Dataset, DataLoader\n",
        "\n",
        "from multiprocessing import cpu_count\n",
        "from pytorch_lightning.loggers import TensorBoardLogger\n",
        "from pytorch_lightning.callbacks import ModelCheckpoint, EarlyStopping\n",
        "from sklearn.metrics import classification_report, confusion_matrix"
      ],
      "id": "3n6wS1mLdfMJ"
    },
    {
      "cell_type": "code",
      "execution_count": 4,
      "metadata": {
        "id": "Uis8XtE_dvag"
      },
      "outputs": [],
      "source": [
        "%matplotlib inline\n",
        "%config InlineBackend.figure_format= 'retina'\n",
        "\n",
        "tqdm.pandas()"
      ],
      "id": "Uis8XtE_dvag"
    },
    {
      "cell_type": "code",
      "execution_count": 5,
      "metadata": {
        "colab": {
          "base_uri": "https://localhost:8080/"
        },
        "id": "4P8K7NCsd1N6",
        "outputId": "6f1ab5dc-28c2-4400-b92d-9f9e46ae2635"
      },
      "outputs": [
        {
          "output_type": "stream",
          "name": "stderr",
          "text": [
            "Global seed set to 44\n"
          ]
        },
        {
          "output_type": "execute_result",
          "data": {
            "text/plain": [
              "44"
            ]
          },
          "metadata": {},
          "execution_count": 5
        }
      ],
      "source": [
        "#set random seed\n",
        "pl.seed_everything(44)"
      ],
      "id": "4P8K7NCsd1N6"
    },
    {
      "cell_type": "markdown",
      "metadata": {
        "id": "4d36ca4c-59c9-47fc-8fce-b74805fd263e"
      },
      "source": [
        "## data preprocessing"
      ],
      "id": "4d36ca4c-59c9-47fc-8fce-b74805fd263e"
    },
    {
      "cell_type": "code",
      "execution_count": 6,
      "metadata": {
        "id": "toLH0aRZZvs2"
      },
      "outputs": [],
      "source": [
        "!unzip -qq SWaT_Dataset_v0.zip"
      ],
      "id": "toLH0aRZZvs2"
    },
    {
      "cell_type": "code",
      "execution_count": 7,
      "metadata": {
        "id": "ef09e9a3-bebc-407a-8492-838438b4e288"
      },
      "outputs": [],
      "source": [
        "swat_normal = pd.read_csv(\"SWaT_Dataset_Normal_v0.csv\", skiprows=1)\n",
        "swat_attack = pd.read_csv(\"SWaT_Dataset_Attack_v0.csv\")"
      ],
      "id": "ef09e9a3-bebc-407a-8492-838438b4e288"
    },
    {
      "cell_type": "code",
      "execution_count": 8,
      "metadata": {
        "id": "ba1cbb77-2b06-4667-91df-75e8da68b68d"
      },
      "outputs": [],
      "source": [
        "swat_normal.columns = swat_normal.columns.str.replace(' ','')\n",
        "swat_attack.columns = swat_normal.columns.str.replace(' ','')"
      ],
      "id": "ba1cbb77-2b06-4667-91df-75e8da68b68d"
    },
    {
      "cell_type": "code",
      "execution_count": 9,
      "metadata": {
        "id": "dk2m6eZ7fXPO"
      },
      "outputs": [],
      "source": [
        "swat_attack[\"Normal/Attack\"].replace(' ', '', regex=True, inplace=True)"
      ],
      "id": "dk2m6eZ7fXPO"
    },
    {
      "cell_type": "code",
      "execution_count": 10,
      "metadata": {
        "id": "fWOw15pdevX3"
      },
      "outputs": [],
      "source": [
        "swat = pd.concat([swat_normal,swat_attack],axis = 0)"
      ],
      "id": "fWOw15pdevX3"
    },
    {
      "cell_type": "code",
      "execution_count": 11,
      "metadata": {
        "colab": {
          "base_uri": "https://localhost:8080/",
          "height": 309
        },
        "id": "sShbb5_5e29p",
        "outputId": "50ed0cbb-d300-4ad0-db44-849f8c3dcc8c"
      },
      "outputs": [
        {
          "output_type": "execute_result",
          "data": {
            "text/plain": [
              "<matplotlib.axes._subplots.AxesSubplot at 0x7f8ee5d88b90>"
            ]
          },
          "metadata": {},
          "execution_count": 11
        },
        {
          "output_type": "display_data",
          "data": {
            "text/plain": [
              "<Figure size 432x288 with 1 Axes>"
            ],
            "image/png": "[encoded data removed]"
          },
          "metadata": {
            "image/png": {
              "width": 394,
              "height": 275
            },
            "needs_background": "light"
          }
        }
      ],
      "source": [
        "swat[\"Normal/Attack\"].value_counts().plot(kind = \"bar\")"
      ],
      "id": "sShbb5_5e29p"
    },
    {
      "cell_type": "markdown",
      "metadata": {
        "id": "cWBScc4SdFFD"
      },
      "source": [
        "\n",
        "### Process normal data\n",
        "use normal data for training & tuning time window (W) and threshold (T)\n"
      ],
      "id": "cWBScc4SdFFD"
    },
    {
      "cell_type": "code",
      "execution_count": 12,
      "metadata": {
        "colab": {
          "base_uri": "https://localhost:8080/",
          "height": 280
        },
        "id": "c660d769-acaa-415e-aacc-89e360de17fd",
        "outputId": "a37026d4-38f9-45d9-ce72-8d60cedd2e2f"
      },
      "outputs": [
        {
          "output_type": "execute_result",
          "data": {
            "text/plain": [
              "                     Timestamp    FIT101    LIT101  MV101  P101  P102  \\\n",
              "496795   28/12/2015 9:59:55 AM  2.460366  523.0430      2     2     1   \n",
              "496796   28/12/2015 9:59:56 AM  2.448836  522.9645      2     2     1   \n",
              "496797   28/12/2015 9:59:57 AM  2.434744  522.8860      2     2     1   \n",
              "496798   28/12/2015 9:59:58 AM  2.428338  522.9252      2     2     1   \n",
              "496799   28/12/2015 9:59:59 AM  2.427057  522.8467      2     2     1   \n",
              "\n",
              "          AIT201    AIT202    AIT203    FIT201  ...  P501  P502    PIT501  \\\n",
              "496795  262.0161  8.396437  328.5055  2.442316  ...     2     1  250.8171   \n",
              "496796  262.0161  8.396437  328.5055  2.442316  ...     2     1  250.8171   \n",
              "496797  262.0161  8.396437  328.6337  2.444879  ...     2     1  250.8171   \n",
              "496798  262.0161  8.396437  328.6337  2.445391  ...     2     1  250.8171   \n",
              "496799  262.0161  8.396437  328.6337  2.445391  ...     2     1  250.8652   \n",
              "\n",
              "          PIT502    PIT503    FIT601  P601  P602  P603  Normal/Attack  \n",
              "496795  1.778105  189.8552  0.000128     1     1     1         Normal  \n",
              "496796  1.778105  189.5027  0.000128     1     1     1         Normal  \n",
              "496797  1.778105  189.5027  0.000128     1     1     1         Normal  \n",
              "496798  1.649953  189.5027  0.000128     1     1     1         Normal  \n",
              "496799  1.649953  189.5988  0.000128     1     1     1         Normal  \n",
              "\n",
              "[5 rows x 53 columns]"
            ],
            "text/html": [
              "\n",
              "  <div id=\"df-c2359339-5b63-4f3b-a6d6-0d17ccea755e\">\n",
              "    <div class=\"colab-df-container\">\n",
              "      <div>\n",
              "<style scoped>\n",
              "    .dataframe tbody tr th:only-of-type {\n",
              "        vertical-align: middle;\n",
              "    }\n",
              "\n",
              "    .dataframe tbody tr th {\n",
              "        vertical-align: top;\n",
              "    }\n",
              "\n",
              "    .dataframe thead th {\n",
              "        text-align: right;\n",
              "    }\n",
              "</style>\n",
              "<table border=\"1\" class=\"dataframe\">\n",
              "  <thead>\n",
              "    <tr style=\"text-align: right;\">\n",
              "      <th></th>\n",
              "      <th>Timestamp</th>\n",
              "      <th>FIT101</th>\n",
              "      <th>LIT101</th>\n",
              "      <th>MV101</th>\n",
              "      <th>P101</th>\n",
              "      <th>P102</th>\n",
              "      <th>AIT201</th>\n",
              "      <th>AIT202</th>\n",
              "      <th>AIT203</th>\n",
              "      <th>FIT201</th>\n",
              "      <th>...</th>\n",
              "      <th>P501</th>\n",
              "      <th>P502</th>\n",
              "      <th>PIT501</th>\n",
              "      <th>PIT502</th>\n",
              "      <th>PIT503</th>\n",
              "      <th>FIT601</th>\n",
              "      <th>P601</th>\n",
              "      <th>P602</th>\n",
              "      <th>P603</th>\n",
              "      <th>Normal/Attack</th>\n",
              "    </tr>\n",
              "  </thead>\n",
              "  <tbody>\n",
              "    <tr>\n",
              "      <th>496795</th>\n",
              "      <td>28/12/2015 9:59:55 AM</td>\n",
              "      <td>2.460366</td>\n",
              "      <td>523.0430</td>\n",
              "      <td>2</td>\n",
              "      <td>2</td>\n",
              "      <td>1</td>\n",
              "      <td>262.0161</td>\n",
              "      <td>8.396437</td>\n",
              "      <td>328.5055</td>\n",
              "      <td>2.442316</td>\n",
              "      <td>...</td>\n",
              "      <td>2</td>\n",
              "      <td>1</td>\n",
              "      <td>250.8171</td>\n",
              "      <td>1.778105</td>\n",
              "      <td>189.8552</td>\n",
              "      <td>0.000128</td>\n",
              "      <td>1</td>\n",
              "      <td>1</td>\n",
              "      <td>1</td>\n",
              "      <td>Normal</td>\n",
              "    </tr>\n",
              "    <tr>\n",
              "      <th>496796</th>\n",
              "      <td>28/12/2015 9:59:56 AM</td>\n",
              "      <td>2.448836</td>\n",
              "      <td>522.9645</td>\n",
              "      <td>2</td>\n",
              "      <td>2</td>\n",
              "      <td>1</td>\n",
              "      <td>262.0161</td>\n",
              "      <td>8.396437</td>\n",
              "      <td>328.5055</td>\n",
              "      <td>2.442316</td>\n",
              "      <td>...</td>\n",
              "      <td>2</td>\n",
              "      <td>1</td>\n",
              "      <td>250.8171</td>\n",
              "      <td>1.778105</td>\n",
              "      <td>189.5027</td>\n",
              "      <td>0.000128</td>\n",
              "      <td>1</td>\n",
              "      <td>1</td>\n",
              "      <td>1</td>\n",
              "      <td>Normal</td>\n",
              "    </tr>\n",
              "    <tr>\n",
              "      <th>496797</th>\n",
              "      <td>28/12/2015 9:59:57 AM</td>\n",
              "      <td>2.434744</td>\n",
              "      <td>522.8860</td>\n",
              "      <td>2</td>\n",
              "      <td>2</td>\n",
              "      <td>1</td>\n",
              "      <td>262.0161</td>\n",
              "      <td>8.396437</td>\n",
              "      <td>328.6337</td>\n",
              "      <td>2.444879</td>\n",
              "      <td>...</td>\n",
              "      <td>2</td>\n",
              "      <td>1</td>\n",
              "      <td>250.8171</td>\n",
              "      <td>1.778105</td>\n",
              "      <td>189.5027</td>\n",
              "      <td>0.000128</td>\n",
              "      <td>1</td>\n",
              "      <td>1</td>\n",
              "      <td>1</td>\n",
              "      <td>Normal</td>\n",
              "    </tr>\n",
              "    <tr>\n",
              "      <th>496798</th>\n",
              "      <td>28/12/2015 9:59:58 AM</td>\n",
              "      <td>2.428338</td>\n",
              "      <td>522.9252</td>\n",
              "      <td>2</td>\n",
              "      <td>2</td>\n",
              "      <td>1</td>\n",
              "      <td>262.0161</td>\n",
              "      <td>8.396437</td>\n",
              "      <td>328.6337</td>\n",
              "      <td>2.445391</td>\n",
              "      <td>...</td>\n",
              "      <td>2</td>\n",
              "      <td>1</td>\n",
              "      <td>250.8171</td>\n",
              "      <td>1.649953</td>\n",
              "      <td>189.5027</td>\n",
              "      <td>0.000128</td>\n",
              "      <td>1</td>\n",
              "      <td>1</td>\n",
              "      <td>1</td>\n",
              "      <td>Normal</td>\n",
              "    </tr>\n",
              "    <tr>\n",
              "      <th>496799</th>\n",
              "      <td>28/12/2015 9:59:59 AM</td>\n",
              "      <td>2.427057</td>\n",
              "      <td>522.8467</td>\n",
              "      <td>2</td>\n",
              "      <td>2</td>\n",
              "      <td>1</td>\n",
              "      <td>262.0161</td>\n",
              "      <td>8.396437</td>\n",
              "      <td>328.6337</td>\n",
              "      <td>2.445391</td>\n",
              "      <td>...</td>\n",
              "      <td>2</td>\n",
              "      <td>1</td>\n",
              "      <td>250.8652</td>\n",
              "      <td>1.649953</td>\n",
              "      <td>189.5988</td>\n",
              "      <td>0.000128</td>\n",
              "      <td>1</td>\n",
              "      <td>1</td>\n",
              "      <td>1</td>\n",
              "      <td>Normal</td>\n",
              "    </tr>\n",
              "  </tbody>\n",
              "</table>\n",
              "<p>5 rows × 53 columns</p>\n",
              "</div>\n",
              "      <button class=\"colab-df-convert\" onclick=\"convertToInteractive('df-c2359339-5b63-4f3b-a6d6-0d17ccea755e')\"\n",
              "              title=\"Convert this dataframe to an interactive table.\"\n",
              "              style=\"display:none;\">\n",
              "        \n",
              "  <svg xmlns=\"http://www.w3.org/2000/svg\" height=\"24px\"viewBox=\"0 0 24 24\"\n",
              "       width=\"24px\">\n",
              "    <path d=\"M0 0h24v24H0V0z\" fill=\"none\"/>\n",
              "    <path d=\"M18.56 5.44l.94 2.06.94-2.06 2.06-.94-2.06-.94-.94-2.06-.94 2.06-2.06.94zm-11 1L8.5 8.5l.94-2.06 2.06-.94-2.06-.94L8.5 2.5l-.94 2.06-2.06.94zm10 10l.94 2.06.94-2.06 2.06-.94-2.06-.94-.94-2.06-.94 2.06-2.06.94z\"/><path d=\"M17.41 7.96l-1.37-1.37c-.4-.4-.92-.59-1.43-.59-.52 0-1.04.2-1.43.59L10.3 9.45l-7.72 7.72c-.78.78-.78 2.05 0 2.83L4 21.41c.39.39.9.59 1.41.59.51 0 1.02-.2 1.41-.59l7.78-7.78 2.81-2.81c.8-.78.8-2.07 0-2.86zM5.41 20L4 18.59l7.72-7.72 1.47 1.35L5.41 20z\"/>\n",
              "  </svg>\n",
              "      </button>\n",
              "      \n",
              "  <style>\n",
              "    .colab-df-container {\n",
              "      display:flex;\n",
              "      flex-wrap:wrap;\n",
              "      gap: 12px;\n",
              "    }\n",
              "\n",
              "    .colab-df-convert {\n",
              "      background-color: #E8F0FE;\n",
              "      border: none;\n",
              "      border-radius: 50%;\n",
              "      cursor: pointer;\n",
              "      display: none;\n",
              "      fill: #1967D2;\n",
              "      height: 32px;\n",
              "      padding: 0 0 0 0;\n",
              "      width: 32px;\n",
              "    }\n",
              "\n",
              "    .colab-df-convert:hover {\n",
              "      background-color: #E2EBFA;\n",
              "      box-shadow: 0px 1px 2px rgba(60, 64, 67, 0.3), 0px 1px 3px 1px rgba(60, 64, 67, 0.15);\n",
              "      fill: #174EA6;\n",
              "    }\n",
              "\n",
              "    [theme=dark] .colab-df-convert {\n",
              "      background-color: #3B4455;\n",
              "      fill: #D2E3FC;\n",
              "    }\n",
              "\n",
              "    [theme=dark] .colab-df-convert:hover {\n",
              "      background-color: #434B5C;\n",
              "      box-shadow: 0px 1px 3px 1px rgba(0, 0, 0, 0.15);\n",
              "      filter: drop-shadow(0px 1px 2px rgba(0, 0, 0, 0.3));\n",
              "      fill: #FFFFFF;\n",
              "    }\n",
              "  </style>\n",
              "\n",
              "      <script>\n",
              "        const buttonEl =\n",
              "          document.querySelector('#df-c2359339-5b63-4f3b-a6d6-0d17ccea755e button.colab-df-convert');\n",
              "        buttonEl.style.display =\n",
              "          google.colab.kernel.accessAllowed ? 'block' : 'none';\n",
              "\n",
              "        async function convertToInteractive(key) {\n",
              "          const element = document.querySelector('#df-c2359339-5b63-4f3b-a6d6-0d17ccea755e');\n",
              "          const dataTable =\n",
              "            await google.colab.kernel.invokeFunction('convertToInteractive',\n",
              "                                                     [key], {});\n",
              "          if (!dataTable) return;\n",
              "\n",
              "          const docLinkHtml = 'Like what you see? Visit the ' +\n",
              "            '<a target=\"_blank\" href=https://colab.research.google.com/notebooks/data_table.ipynb>data table notebook</a>'\n",
              "            + ' to learn more about interactive tables.';\n",
              "          element.innerHTML = '';\n",
              "          dataTable['output_type'] = 'display_data';\n",
              "          await google.colab.output.renderOutput(dataTable, element);\n",
              "          const docLink = document.createElement('div');\n",
              "          docLink.innerHTML = docLinkHtml;\n",
              "          element.appendChild(docLink);\n",
              "        }\n",
              "      </script>\n",
              "    </div>\n",
              "  </div>\n",
              "  "
            ]
          },
          "metadata": {},
          "execution_count": 12
        }
      ],
      "source": [
        "swat_normal.tail(5)"
      ],
      "id": "c660d769-acaa-415e-aacc-89e360de17fd"
    },
    {
      "cell_type": "code",
      "execution_count": 13,
      "metadata": {
        "colab": {
          "base_uri": "https://localhost:8080/",
          "height": 394
        },
        "id": "bf97c839-eb4d-4c64-bde2-cd8132bea55e",
        "outputId": "c4b25c37-020d-4f09-c623-bbc57bb5365e"
      },
      "outputs": [
        {
          "output_type": "execute_result",
          "data": {
            "text/plain": [
              "              FIT101        LIT101          MV101           P101      P102  \\\n",
              "count  496800.000000  496800.00000  496800.000000  496800.000000  496800.0   \n",
              "mean        1.844964     586.09884       1.718364       1.746860       1.0   \n",
              "std         1.135332     123.89144       0.458669       0.434811       0.0   \n",
              "min         0.000000     120.62370       0.000000       1.000000       1.0   \n",
              "25%         0.000000     508.24470       1.000000       1.000000       1.0   \n",
              "50%         2.491112     525.51590       2.000000       2.000000       1.0   \n",
              "75%         2.591679     675.85400       2.000000       2.000000       1.0   \n",
              "max         2.745092    1000.00000       2.000000       2.000000       1.0   \n",
              "\n",
              "             AIT201         AIT202         AIT203         FIT201  \\\n",
              "count  496800.00000  496800.000000  496800.000000  496800.000000   \n",
              "mean      263.73899       8.387852     348.230699       1.828534   \n",
              "std         4.83595       0.090236      49.422251       1.062482   \n",
              "min       244.32840       8.190080     300.845900       0.000000   \n",
              "25%       260.70240       8.349654     327.275100       0.008650   \n",
              "50%       265.28450       8.366636     330.940800       2.443085   \n",
              "75%       266.98280       8.407331     335.324300       2.451671   \n",
              "max       272.52630       8.988273     567.469900       2.487938   \n",
              "\n",
              "               MV201  ...         FIT504           P501      P502  \\\n",
              "count  496800.000000  ...  496800.000000  496800.000000  496800.0   \n",
              "mean        1.744203  ...       0.306141       1.993281       1.0   \n",
              "std         0.444554  ...       0.025356       0.081694       0.0   \n",
              "min         0.000000  ...       0.000000       1.000000       1.0   \n",
              "25%         1.000000  ...       0.306633       2.000000       1.0   \n",
              "50%         2.000000  ...       0.308362       2.000000       1.0   \n",
              "75%         2.000000  ...       0.310284       2.000000       1.0   \n",
              "max         2.000000  ...       0.317010       2.000000       1.0   \n",
              "\n",
              "              PIT501         PIT502         PIT503         FIT601      P601  \\\n",
              "count  496800.000000  496800.000000  496800.000000  496800.000000  496800.0   \n",
              "mean      250.927892       1.183117     190.271470       0.014376       1.0   \n",
              "std        19.699763       0.216984      15.286211       0.148666       0.0   \n",
              "min         8.891951       0.000000       3.108177       0.000000       1.0   \n",
              "25%       249.951900       1.057252     188.974000       0.000000       1.0   \n",
              "50%       253.028100       1.121328     191.970000       0.000064       1.0   \n",
              "75%       255.030800       1.217441     193.860500       0.000128       1.0   \n",
              "max       264.643700       3.668343     200.637600       1.746131       1.0   \n",
              "\n",
              "                P602      P603  \n",
              "count  496800.000000  496800.0  \n",
              "mean        1.007915       1.0  \n",
              "std         0.088612       0.0  \n",
              "min         1.000000       1.0  \n",
              "25%         1.000000       1.0  \n",
              "50%         1.000000       1.0  \n",
              "75%         1.000000       1.0  \n",
              "max         2.000000       1.0  \n",
              "\n",
              "[8 rows x 51 columns]"
            ],
            "text/html": [
              "\n",
              "  <div id=\"df-d6a713a9-51c3-44d6-b4e7-785af73485bc\">\n",
              "    <div class=\"colab-df-container\">\n",
              "      <div>\n",
              "<style scoped>\n",
              "    .dataframe tbody tr th:only-of-type {\n",
              "        vertical-align: middle;\n",
              "    }\n",
              "\n",
              "    .dataframe tbody tr th {\n",
              "        vertical-align: top;\n",
              "    }\n",
              "\n",
              "    .dataframe thead th {\n",
              "        text-align: right;\n",
              "    }\n",
              "</style>\n",
              "<table border=\"1\" class=\"dataframe\">\n",
              "  <thead>\n",
              "    <tr style=\"text-align: right;\">\n",
              "      <th></th>\n",
              "      <th>FIT101</th>\n",
              "      <th>LIT101</th>\n",
              "      <th>MV101</th>\n",
              "      <th>P101</th>\n",
              "      <th>P102</th>\n",
              "      <th>AIT201</th>\n",
              "      <th>AIT202</th>\n",
              "      <th>AIT203</th>\n",
              "      <th>FIT201</th>\n",
              "      <th>MV201</th>\n",
              "      <th>...</th>\n",
              "      <th>FIT504</th>\n",
              "      <th>P501</th>\n",
              "      <th>P502</th>\n",
              "      <th>PIT501</th>\n",
              "      <th>PIT502</th>\n",
              "      <th>PIT503</th>\n",
              "      <th>FIT601</th>\n",
              "      <th>P601</th>\n",
              "      <th>P602</th>\n",
              "      <th>P603</th>\n",
              "    </tr>\n",
              "  </thead>\n",
              "  <tbody>\n",
              "    <tr>\n",
              "      <th>count</th>\n",
              "      <td>496800.000000</td>\n",
              "      <td>496800.00000</td>\n",
              "      <td>496800.000000</td>\n",
              "      <td>496800.000000</td>\n",
              "      <td>496800.0</td>\n",
              "      <td>496800.00000</td>\n",
              "      <td>496800.000000</td>\n",
              "      <td>496800.000000</td>\n",
              "      <td>496800.000000</td>\n",
              "      <td>496800.000000</td>\n",
              "      <td>...</td>\n",
              "      <td>496800.000000</td>\n",
              "      <td>496800.000000</td>\n",
              "      <td>496800.0</td>\n",
              "      <td>496800.000000</td>\n",
              "      <td>496800.000000</td>\n",
              "      <td>496800.000000</td>\n",
              "      <td>496800.000000</td>\n",
              "      <td>496800.0</td>\n",
              "      <td>496800.000000</td>\n",
              "      <td>496800.0</td>\n",
              "    </tr>\n",
              "    <tr>\n",
              "      <th>mean</th>\n",
              "      <td>1.844964</td>\n",
              "      <td>586.09884</td>\n",
              "      <td>1.718364</td>\n",
              "      <td>1.746860</td>\n",
              "      <td>1.0</td>\n",
              "      <td>263.73899</td>\n",
              "      <td>8.387852</td>\n",
              "      <td>348.230699</td>\n",
              "      <td>1.828534</td>\n",
              "      <td>1.744203</td>\n",
              "      <td>...</td>\n",
              "      <td>0.306141</td>\n",
              "      <td>1.993281</td>\n",
              "      <td>1.0</td>\n",
              "      <td>250.927892</td>\n",
              "      <td>1.183117</td>\n",
              "      <td>190.271470</td>\n",
              "      <td>0.014376</td>\n",
              "      <td>1.0</td>\n",
              "      <td>1.007915</td>\n",
              "      <td>1.0</td>\n",
              "    </tr>\n",
              "    <tr>\n",
              "      <th>std</th>\n",
              "      <td>1.135332</td>\n",
              "      <td>123.89144</td>\n",
              "      <td>0.458669</td>\n",
              "      <td>0.434811</td>\n",
              "      <td>0.0</td>\n",
              "      <td>4.83595</td>\n",
              "      <td>0.090236</td>\n",
              "      <td>49.422251</td>\n",
              "      <td>1.062482</td>\n",
              "      <td>0.444554</td>\n",
              "      <td>...</td>\n",
              "      <td>0.025356</td>\n",
              "      <td>0.081694</td>\n",
              "      <td>0.0</td>\n",
              "      <td>19.699763</td>\n",
              "      <td>0.216984</td>\n",
              "      <td>15.286211</td>\n",
              "      <td>0.148666</td>\n",
              "      <td>0.0</td>\n",
              "      <td>0.088612</td>\n",
              "      <td>0.0</td>\n",
              "    </tr>\n",
              "    <tr>\n",
              "      <th>min</th>\n",
              "      <td>0.000000</td>\n",
              "      <td>120.62370</td>\n",
              "      <td>0.000000</td>\n",
              "      <td>1.000000</td>\n",
              "      <td>1.0</td>\n",
              "      <td>244.32840</td>\n",
              "      <td>8.190080</td>\n",
              "      <td>300.845900</td>\n",
              "      <td>0.000000</td>\n",
              "      <td>0.000000</td>\n",
              "      <td>...</td>\n",
              "      <td>0.000000</td>\n",
              "      <td>1.000000</td>\n",
              "      <td>1.0</td>\n",
              "      <td>8.891951</td>\n",
              "      <td>0.000000</td>\n",
              "      <td>3.108177</td>\n",
              "      <td>0.000000</td>\n",
              "      <td>1.0</td>\n",
              "      <td>1.000000</td>\n",
              "      <td>1.0</td>\n",
              "    </tr>\n",
              "    <tr>\n",
              "      <th>25%</th>\n",
              "      <td>0.000000</td>\n",
              "      <td>508.24470</td>\n",
              "      <td>1.000000</td>\n",
              "      <td>1.000000</td>\n",
              "      <td>1.0</td>\n",
              "      <td>260.70240</td>\n",
              "      <td>8.349654</td>\n",
              "      <td>327.275100</td>\n",
              "      <td>0.008650</td>\n",
              "      <td>1.000000</td>\n",
              "      <td>...</td>\n",
              "      <td>0.306633</td>\n",
              "      <td>2.000000</td>\n",
              "      <td>1.0</td>\n",
              "      <td>249.951900</td>\n",
              "      <td>1.057252</td>\n",
              "      <td>188.974000</td>\n",
              "      <td>0.000000</td>\n",
              "      <td>1.0</td>\n",
              "      <td>1.000000</td>\n",
              "      <td>1.0</td>\n",
              "    </tr>\n",
              "    <tr>\n",
              "      <th>50%</th>\n",
              "      <td>2.491112</td>\n",
              "      <td>525.51590</td>\n",
              "      <td>2.000000</td>\n",
              "      <td>2.000000</td>\n",
              "      <td>1.0</td>\n",
              "      <td>265.28450</td>\n",
              "      <td>8.366636</td>\n",
              "      <td>330.940800</td>\n",
              "      <td>2.443085</td>\n",
              "      <td>2.000000</td>\n",
              "      <td>...</td>\n",
              "      <td>0.308362</td>\n",
              "      <td>2.000000</td>\n",
              "      <td>1.0</td>\n",
              "      <td>253.028100</td>\n",
              "      <td>1.121328</td>\n",
              "      <td>191.970000</td>\n",
              "      <td>0.000064</td>\n",
              "      <td>1.0</td>\n",
              "      <td>1.000000</td>\n",
              "      <td>1.0</td>\n",
              "    </tr>\n",
              "    <tr>\n",
              "      <th>75%</th>\n",
              "      <td>2.591679</td>\n",
              "      <td>675.85400</td>\n",
              "      <td>2.000000</td>\n",
              "      <td>2.000000</td>\n",
              "      <td>1.0</td>\n",
              "      <td>266.98280</td>\n",
              "      <td>8.407331</td>\n",
              "      <td>335.324300</td>\n",
              "      <td>2.451671</td>\n",
              "      <td>2.000000</td>\n",
              "      <td>...</td>\n",
              "      <td>0.310284</td>\n",
              "      <td>2.000000</td>\n",
              "      <td>1.0</td>\n",
              "      <td>255.030800</td>\n",
              "      <td>1.217441</td>\n",
              "      <td>193.860500</td>\n",
              "      <td>0.000128</td>\n",
              "      <td>1.0</td>\n",
              "      <td>1.000000</td>\n",
              "      <td>1.0</td>\n",
              "    </tr>\n",
              "    <tr>\n",
              "      <th>max</th>\n",
              "      <td>2.745092</td>\n",
              "      <td>1000.00000</td>\n",
              "      <td>2.000000</td>\n",
              "      <td>2.000000</td>\n",
              "      <td>1.0</td>\n",
              "      <td>272.52630</td>\n",
              "      <td>8.988273</td>\n",
              "      <td>567.469900</td>\n",
              "      <td>2.487938</td>\n",
              "      <td>2.000000</td>\n",
              "      <td>...</td>\n",
              "      <td>0.317010</td>\n",
              "      <td>2.000000</td>\n",
              "      <td>1.0</td>\n",
              "      <td>264.643700</td>\n",
              "      <td>3.668343</td>\n",
              "      <td>200.637600</td>\n",
              "      <td>1.746131</td>\n",
              "      <td>1.0</td>\n",
              "      <td>2.000000</td>\n",
              "      <td>1.0</td>\n",
              "    </tr>\n",
              "  </tbody>\n",
              "</table>\n",
              "<p>8 rows × 51 columns</p>\n",
              "</div>\n",
              "      <button class=\"colab-df-convert\" onclick=\"convertToInteractive('df-d6a713a9-51c3-44d6-b4e7-785af73485bc')\"\n",
              "              title=\"Convert this dataframe to an interactive table.\"\n",
              "              style=\"display:none;\">\n",
              "        \n",
              "  <svg xmlns=\"http://www.w3.org/2000/svg\" height=\"24px\"viewBox=\"0 0 24 24\"\n",
              "       width=\"24px\">\n",
              "    <path d=\"M0 0h24v24H0V0z\" fill=\"none\"/>\n",
              "    <path d=\"M18.56 5.44l.94 2.06.94-2.06 2.06-.94-2.06-.94-.94-2.06-.94 2.06-2.06.94zm-11 1L8.5 8.5l.94-2.06 2.06-.94-2.06-.94L8.5 2.5l-.94 2.06-2.06.94zm10 10l.94 2.06.94-2.06 2.06-.94-2.06-.94-.94-2.06-.94 2.06-2.06.94z\"/><path d=\"M17.41 7.96l-1.37-1.37c-.4-.4-.92-.59-1.43-.59-.52 0-1.04.2-1.43.59L10.3 9.45l-7.72 7.72c-.78.78-.78 2.05 0 2.83L4 21.41c.39.39.9.59 1.41.59.51 0 1.02-.2 1.41-.59l7.78-7.78 2.81-2.81c.8-.78.8-2.07 0-2.86zM5.41 20L4 18.59l7.72-7.72 1.47 1.35L5.41 20z\"/>\n",
              "  </svg>\n",
              "      </button>\n",
              "      \n",
              "  <style>\n",
              "    .colab-df-container {\n",
              "      display:flex;\n",
              "      flex-wrap:wrap;\n",
              "      gap: 12px;\n",
              "    }\n",
              "\n",
              "    .colab-df-convert {\n",
              "      background-color: #E8F0FE;\n",
              "      border: none;\n",
              "      border-radius: 50%;\n",
              "      cursor: pointer;\n",
              "      display: none;\n",
              "      fill: #1967D2;\n",
              "      height: 32px;\n",
              "      padding: 0 0 0 0;\n",
              "      width: 32px;\n",
              "    }\n",
              "\n",
              "    .colab-df-convert:hover {\n",
              "      background-color: #E2EBFA;\n",
              "      box-shadow: 0px 1px 2px rgba(60, 64, 67, 0.3), 0px 1px 3px 1px rgba(60, 64, 67, 0.15);\n",
              "      fill: #174EA6;\n",
              "    }\n",
              "\n",
              "    [theme=dark] .colab-df-convert {\n",
              "      background-color: #3B4455;\n",
              "      fill: #D2E3FC;\n",
              "    }\n",
              "\n",
              "    [theme=dark] .colab-df-convert:hover {\n",
              "      background-color: #434B5C;\n",
              "      box-shadow: 0px 1px 3px 1px rgba(0, 0, 0, 0.15);\n",
              "      filter: drop-shadow(0px 1px 2px rgba(0, 0, 0, 0.3));\n",
              "      fill: #FFFFFF;\n",
              "    }\n",
              "  </style>\n",
              "\n",
              "      <script>\n",
              "        const buttonEl =\n",
              "          document.querySelector('#df-d6a713a9-51c3-44d6-b4e7-785af73485bc button.colab-df-convert');\n",
              "        buttonEl.style.display =\n",
              "          google.colab.kernel.accessAllowed ? 'block' : 'none';\n",
              "\n",
              "        async function convertToInteractive(key) {\n",
              "          const element = document.querySelector('#df-d6a713a9-51c3-44d6-b4e7-785af73485bc');\n",
              "          const dataTable =\n",
              "            await google.colab.kernel.invokeFunction('convertToInteractive',\n",
              "                                                     [key], {});\n",
              "          if (!dataTable) return;\n",
              "\n",
              "          const docLinkHtml = 'Like what you see? Visit the ' +\n",
              "            '<a target=\"_blank\" href=https://colab.research.google.com/notebooks/data_table.ipynb>data table notebook</a>'\n",
              "            + ' to learn more about interactive tables.';\n",
              "          element.innerHTML = '';\n",
              "          dataTable['output_type'] = 'display_data';\n",
              "          await google.colab.output.renderOutput(dataTable, element);\n",
              "          const docLink = document.createElement('div');\n",
              "          docLink.innerHTML = docLinkHtml;\n",
              "          element.appendChild(docLink);\n",
              "        }\n",
              "      </script>\n",
              "    </div>\n",
              "  </div>\n",
              "  "
            ]
          },
          "metadata": {},
          "execution_count": 13
        }
      ],
      "source": [
        "swat_normal.describe()"
      ],
      "id": "bf97c839-eb4d-4c64-bde2-cd8132bea55e"
    },
    {
      "cell_type": "code",
      "execution_count": 14,
      "metadata": {
        "colab": {
          "base_uri": "https://localhost:8080/"
        },
        "id": "bc0f9217-c09b-46b4-8b9d-143bc96265b8",
        "outputId": "7b223047-093a-46e6-fb00-7edcf09d7367"
      },
      "outputs": [
        {
          "output_type": "stream",
          "name": "stdout",
          "text": [
            "<class 'pandas.core.frame.DataFrame'>\n",
            "RangeIndex: 496800 entries, 0 to 496799\n",
            "Data columns (total 53 columns):\n",
            " #   Column         Non-Null Count   Dtype  \n",
            "---  ------         --------------   -----  \n",
            " 0   Timestamp      496800 non-null  object \n",
            " 1   FIT101         496800 non-null  float64\n",
            " 2   LIT101         496800 non-null  float64\n",
            " 3   MV101          496800 non-null  int64  \n",
            " 4   P101           496800 non-null  int64  \n",
            " 5   P102           496800 non-null  int64  \n",
            " 6   AIT201         496800 non-null  float64\n",
            " 7   AIT202         496800 non-null  float64\n",
            " 8   AIT203         496800 non-null  float64\n",
            " 9   FIT201         496800 non-null  float64\n",
            " 10  MV201          496800 non-null  int64  \n",
            " 11  P201           496800 non-null  int64  \n",
            " 12  P202           496800 non-null  int64  \n",
            " 13  P203           496800 non-null  int64  \n",
            " 14  P204           496800 non-null  int64  \n",
            " 15  P205           496800 non-null  int64  \n",
            " 16  P206           496800 non-null  int64  \n",
            " 17  DPIT301        496800 non-null  float64\n",
            " 18  FIT301         496800 non-null  float64\n",
            " 19  LIT301         496800 non-null  float64\n",
            " 20  MV301          496800 non-null  int64  \n",
            " 21  MV302          496800 non-null  int64  \n",
            " 22  MV303          496800 non-null  int64  \n",
            " 23  MV304          496800 non-null  int64  \n",
            " 24  P301           496800 non-null  int64  \n",
            " 25  P302           496800 non-null  int64  \n",
            " 26  AIT401         496800 non-null  float64\n",
            " 27  AIT402         496800 non-null  float64\n",
            " 28  FIT401         496800 non-null  float64\n",
            " 29  LIT401         496800 non-null  float64\n",
            " 30  P401           496800 non-null  int64  \n",
            " 31  P402           496800 non-null  int64  \n",
            " 32  P403           496800 non-null  int64  \n",
            " 33  P404           496800 non-null  int64  \n",
            " 34  UV401          496800 non-null  int64  \n",
            " 35  AIT501         496800 non-null  float64\n",
            " 36  AIT502         496800 non-null  float64\n",
            " 37  AIT503         496800 non-null  float64\n",
            " 38  AIT504         496800 non-null  float64\n",
            " 39  FIT501         496800 non-null  float64\n",
            " 40  FIT502         496800 non-null  float64\n",
            " 41  FIT503         496800 non-null  float64\n",
            " 42  FIT504         496800 non-null  float64\n",
            " 43  P501           496800 non-null  int64  \n",
            " 44  P502           496800 non-null  int64  \n",
            " 45  PIT501         496800 non-null  float64\n",
            " 46  PIT502         496800 non-null  float64\n",
            " 47  PIT503         496800 non-null  float64\n",
            " 48  FIT601         496800 non-null  float64\n",
            " 49  P601           496800 non-null  int64  \n",
            " 50  P602           496800 non-null  int64  \n",
            " 51  P603           496800 non-null  int64  \n",
            " 52  Normal/Attack  496800 non-null  object \n",
            "dtypes: float64(25), int64(26), object(2)\n",
            "memory usage: 200.9+ MB\n"
          ]
        }
      ],
      "source": [
        "swat_normal.info()"
      ],
      "id": "bc0f9217-c09b-46b4-8b9d-143bc96265b8"
    },
    {
      "cell_type": "code",
      "execution_count": 16,
      "metadata": {
        "colab": {
          "base_uri": "https://localhost:8080/"
        },
        "id": "1c4bd97f-3f1b-41f7-8302-8720e9807bc7",
        "outputId": "7d6dfce9-08e6-43bd-f478-71c0c8be1a26"
      },
      "outputs": [
        {
          "output_type": "execute_result",
          "data": {
            "text/plain": [
              "(496800, 53)"
            ]
          },
          "metadata": {},
          "execution_count": 16
        }
      ],
      "source": [
        "swat_normal.shape"
      ],
      "id": "1c4bd97f-3f1b-41f7-8302-8720e9807bc7"
    },
    {
      "cell_type": "code",
      "execution_count": 15,
      "metadata": {
        "colab": {
          "base_uri": "https://localhost:8080/"
        },
        "id": "0KtrTtlzbbSF",
        "outputId": "94fc998d-3a90-4f59-d4e8-b57f5aa2bb44"
      },
      "outputs": [
        {
          "output_type": "execute_result",
          "data": {
            "text/plain": [
              "Timestamp        False\n",
              "FIT101           False\n",
              "LIT101           False\n",
              "MV101            False\n",
              "P101             False\n",
              "P102             False\n",
              "AIT201           False\n",
              "AIT202           False\n",
              "AIT203           False\n",
              "FIT201           False\n",
              "MV201            False\n",
              "P201             False\n",
              "P202             False\n",
              "P203             False\n",
              "P204             False\n",
              "P205             False\n",
              "P206             False\n",
              "DPIT301          False\n",
              "FIT301           False\n",
              "LIT301           False\n",
              "MV301            False\n",
              "MV302            False\n",
              "MV303            False\n",
              "MV304            False\n",
              "P301             False\n",
              "P302             False\n",
              "AIT401           False\n",
              "AIT402           False\n",
              "FIT401           False\n",
              "LIT401           False\n",
              "P401             False\n",
              "P402             False\n",
              "P403             False\n",
              "P404             False\n",
              "UV401            False\n",
              "AIT501           False\n",
              "AIT502           False\n",
              "AIT503           False\n",
              "AIT504           False\n",
              "FIT501           False\n",
              "FIT502           False\n",
              "FIT503           False\n",
              "FIT504           False\n",
              "P501             False\n",
              "P502             False\n",
              "PIT501           False\n",
              "PIT502           False\n",
              "PIT503           False\n",
              "FIT601           False\n",
              "P601             False\n",
              "P602             False\n",
              "P603             False\n",
              "Normal/Attack    False\n",
              "dtype: bool"
            ]
          },
          "metadata": {},
          "execution_count": 15
        }
      ],
      "source": [
        "swat_normal.isnull().any()"
      ],
      "id": "0KtrTtlzbbSF"
    },
    {
      "cell_type": "code",
      "execution_count": 17,
      "metadata": {
        "colab": {
          "base_uri": "https://localhost:8080/",
          "height": 294
        },
        "id": "bd4a6c36-cc46-40c4-a243-f9f4edb22844",
        "outputId": "6837c2b9-94ad-4e64-cfed-fe49e338b8b5"
      },
      "outputs": [
        {
          "output_type": "display_data",
          "data": {
            "text/plain": [
              "<Figure size 432x288 with 1 Axes>"
            ],
            "image/png": "[encoded data removed]"
          },
          "metadata": {
            "image/png": {
              "width": 382,
              "height": 277
            },
            "needs_background": "light"
          }
        }
      ],
      "source": [
        "plt.plot(swat_normal.index[:50000],swat_normal[\"LIT101\"][:50000], label='LIT101')\n",
        "plt.xlabel(\"Time (s)\")\n",
        "plt.title(\"LIT101\")\n",
        "# plt.axvline(16000,c=\"r\")\n",
        "plt.show()"
      ],
      "id": "bd4a6c36-cc46-40c4-a243-f9f4edb22844"
    },
    {
      "cell_type": "code",
      "execution_count": 18,
      "metadata": {
        "id": "44a6b7b0-08f3-4fdc-8a2f-ad3b6fc05579"
      },
      "outputs": [],
      "source": [
        "x = swat_normal.drop(columns=\"Normal/Attack\")\n",
        "y = swat_normal.drop(np.arange(16000))[\"Normal/Attack\"]"
      ],
      "id": "44a6b7b0-08f3-4fdc-8a2f-ad3b6fc05579"
    },
    {
      "cell_type": "code",
      "execution_count": 19,
      "metadata": {
        "id": "39da8b0c-5de0-48b0-b7ba-4c2fe0659327"
      },
      "outputs": [],
      "source": [
        "y = pd.DataFrame(\n",
        "    1, #normal 1, attack 0\n",
        "    index = y.index,\n",
        "    columns= [\"label\"]\n",
        ")"
      ],
      "id": "39da8b0c-5de0-48b0-b7ba-4c2fe0659327"
    },
    {
      "cell_type": "code",
      "execution_count": 20,
      "metadata": {
        "id": "f66d1ab9-8582-4d67-9c8a-c76845c08542"
      },
      "outputs": [],
      "source": [
        "# drop unsteady state operation\n",
        "x.drop(np.arange(16000),inplace=True)"
      ],
      "id": "f66d1ab9-8582-4d67-9c8a-c76845c08542"
    },
    {
      "cell_type": "code",
      "execution_count": 21,
      "metadata": {
        "id": "9b131971-32e0-46df-ab34-9aba80868381"
      },
      "outputs": [],
      "source": [
        "x.drop(columns=\"Timestamp\",inplace=True)"
      ],
      "id": "9b131971-32e0-46df-ab34-9aba80868381"
    },
    {
      "cell_type": "code",
      "execution_count": 22,
      "metadata": {
        "id": "34ca9ad8-0f02-4764-b864-1b7e9f9fc56d"
      },
      "outputs": [],
      "source": [
        "#normalise data\n",
        "scaler = StandardScaler()\n",
        "scaler = scaler.fit(x)"
      ],
      "id": "34ca9ad8-0f02-4764-b864-1b7e9f9fc56d"
    },
    {
      "cell_type": "code",
      "execution_count": 23,
      "metadata": {
        "id": "574bbe23-9e71-4079-9b3d-a91b353a5364"
      },
      "outputs": [],
      "source": [
        "x_scale = pd.DataFrame(\n",
        "    scaler.transform(x),\n",
        "    index = x.index,\n",
        "    columns= x.columns\n",
        ")"
      ],
      "id": "574bbe23-9e71-4079-9b3d-a91b353a5364"
    },
    {
      "cell_type": "code",
      "execution_count": 24,
      "metadata": {
        "id": "e973e5e8-ae66-477b-923b-960cc5ff482f"
      },
      "outputs": [],
      "source": [
        "#convert to sequence\n",
        "def sequences(input_data: pd.DataFrame, sequence_length):\n",
        "    seqs = []\n",
        "    data_size = len(input_data)\n",
        "    \n",
        "    for i in tqdm(range(0, data_size, sequence_length)):\n",
        "        \n",
        "        seq = input_data[i:i+sequence_length]\n",
        "        \n",
        "        \n",
        "        seqs.append(seq)\n",
        "        \n",
        "    return seqs"
      ],
      "id": "e973e5e8-ae66-477b-923b-960cc5ff482f"
    },
    {
      "cell_type": "code",
      "execution_count": 25,
      "metadata": {
        "colab": {
          "base_uri": "https://localhost:8080/",
          "height": 49,
          "referenced_widgets": [
            "5548c1f35e37401fb3698d3eacbdea72",
            "2b20d2f945974487bcbf22f66dd5d618",
            "9ec5353866ac40bb88c097aa8b59db60",
            "aac9f8ce20754ff1a7b845ef24525abc",
            "edd446d8a1864388bd2e73fbfeb7adb0",
            "5b35b8f494654ccc83ff0b4d3a1f5316",
            "1ea600037d2f4c2aad160511ea27c96d",
            "5a4664616a434bc28b89ff6f00940b28",
            "bd947e36342e47eeb038cbde06dbe909",
            "dc0c71c2772c42af9b9364557ced6e81",
            "83b362ee4554422e85d9d65be5d42ef5"
          ]
        },
        "id": "14d5e372-6765-494c-ade1-1b9943564635",
        "outputId": "a1c4dd66-3eef-4c87-a1c8-2f7fdcfce89b"
      },
      "outputs": [
        {
          "output_type": "display_data",
          "data": {
            "text/plain": [
              "  0%|          | 0/2404 [00:00<?, ?it/s]"
            ],
            "application/vnd.jupyter.widget-view+json": {
              "version_major": 2,
              "version_minor": 0,
              "model_id": "5548c1f35e37401fb3698d3eacbdea72"
            }
          },
          "metadata": {}
        }
      ],
      "source": [
        "# import time\n",
        "sequence_length = 200\n",
        "x_seq = sequences(x,sequence_length)"
      ],
      "id": "14d5e372-6765-494c-ade1-1b9943564635"
    },
    {
      "cell_type": "code",
      "execution_count": 26,
      "metadata": {
        "colab": {
          "base_uri": "https://localhost:8080/"
        },
        "id": "52fca7d5-efba-40b8-bf75-69536fab38fd",
        "outputId": "6b1d57b8-d44f-4a2f-f91b-ce778475e5bb"
      },
      "outputs": [
        {
          "output_type": "execute_result",
          "data": {
            "text/plain": [
              "(2404, (480800, 51))"
            ]
          },
          "metadata": {},
          "execution_count": 26
        }
      ],
      "source": [
        "len(x_seq), x.shape"
      ],
      "id": "52fca7d5-efba-40b8-bf75-69536fab38fd"
    },
    {
      "cell_type": "code",
      "execution_count": 27,
      "metadata": {
        "colab": {
          "base_uri": "https://localhost:8080/",
          "height": 424
        },
        "id": "87007718-4313-49f5-8360-cd80c02d4441",
        "outputId": "d26e2a08-3d7e-4c43-ca88-d05b9e5ca91d"
      },
      "outputs": [
        {
          "output_type": "execute_result",
          "data": {
            "text/plain": [
              "       FIT101    LIT101  MV101  P101  P102    AIT201    AIT202    AIT203  \\\n",
              "16000     0.0  720.0919      1     2     1  262.3366  8.380415  457.3955   \n",
              "16001     0.0  719.5815      1     2     1  262.3366  8.380415  457.3955   \n",
              "16002     0.0  719.3853      1     2     1  262.3366  8.380415  457.3443   \n",
              "16003     0.0  718.4040      1     2     1  262.3366  8.380415  457.1905   \n",
              "16004     0.0  717.4227      1     2     1  262.3366  8.380415  457.1392   \n",
              "...       ...       ...    ...   ...   ...       ...       ...       ...   \n",
              "16195     0.0  623.7656      1     2     1  262.3366  8.376890  446.5009   \n",
              "16196     0.0  623.5301      1     2     1  262.3366  8.376890  446.5009   \n",
              "16197     0.0  623.2553      1     2     1  262.3366  8.376890  446.5009   \n",
              "16198     0.0  622.7057      1     2     1  262.3366  8.376890  446.5009   \n",
              "16199     0.0  622.3132      1     2     1  262.3366  8.376890  446.3214   \n",
              "\n",
              "         FIT201  MV201  ...    FIT504  P501  P502    PIT501    PIT502  \\\n",
              "16000  2.476789      2  ...  0.308362     2     1  253.5568  1.249479   \n",
              "16001  2.476789      2  ...  0.308362     2     1  253.5568  1.249479   \n",
              "16002  2.476789      2  ...  0.308362     2     1  253.5568  1.249479   \n",
              "16003  2.477045      2  ...  0.310540     2     1  253.5568  1.249479   \n",
              "16004  2.477686      2  ...  0.309900     2     1  253.5888  1.249479   \n",
              "...         ...    ...  ...       ...   ...   ...       ...       ...   \n",
              "16195  2.470637      2  ...  0.308298     2     1  253.6048  1.249479   \n",
              "16196  2.471663      2  ...  0.308298     2     1  253.6048  1.249479   \n",
              "16197  2.471663      2  ...  0.308298     2     1  253.6048  1.249479   \n",
              "16198  2.471663      2  ...  0.308298     2     1  253.6048  1.249479   \n",
              "16199  2.471663      2  ...  0.308298     2     1  253.8612  1.249479   \n",
              "\n",
              "         PIT503    FIT601  P601  P602  P603  \n",
              "16000  192.7871  0.000128     1     1     1  \n",
              "16001  192.7871  0.000128     1     1     1  \n",
              "16002  192.7230  0.000128     1     1     1  \n",
              "16003  192.7230  0.000128     1     1     1  \n",
              "16004  192.7230  0.000128     1     1     1  \n",
              "...         ...       ...   ...   ...   ...  \n",
              "16195  192.8672  0.000128     1     1     1  \n",
              "16196  192.7230  0.000128     1     1     1  \n",
              "16197  192.7230  0.000128     1     1     1  \n",
              "16198  192.7230  0.000128     1     1     1  \n",
              "16199  192.7230  0.000128     1     1     1  \n",
              "\n",
              "[200 rows x 51 columns]"
            ],
            "text/html": [
              "\n",
              "  <div id=\"df-59292724-1dc7-4b46-b6f8-af2b795da41c\">\n",
              "    <div class=\"colab-df-container\">\n",
              "      <div>\n",
              "<style scoped>\n",
              "    .dataframe tbody tr th:only-of-type {\n",
              "        vertical-align: middle;\n",
              "    }\n",
              "\n",
              "    .dataframe tbody tr th {\n",
              "        vertical-align: top;\n",
              "    }\n",
              "\n",
              "    .dataframe thead th {\n",
              "        text-align: right;\n",
              "    }\n",
              "</style>\n",
              "<table border=\"1\" class=\"dataframe\">\n",
              "  <thead>\n",
              "    <tr style=\"text-align: right;\">\n",
              "      <th></th>\n",
              "      <th>FIT101</th>\n",
              "      <th>LIT101</th>\n",
              "      <th>MV101</th>\n",
              "      <th>P101</th>\n",
              "      <th>P102</th>\n",
              "      <th>AIT201</th>\n",
              "      <th>AIT202</th>\n",
              "      <th>AIT203</th>\n",
              "      <th>FIT201</th>\n",
              "      <th>MV201</th>\n",
              "      <th>...</th>\n",
              "      <th>FIT504</th>\n",
              "      <th>P501</th>\n",
              "      <th>P502</th>\n",
              "      <th>PIT501</th>\n",
              "      <th>PIT502</th>\n",
              "      <th>PIT503</th>\n",
              "      <th>FIT601</th>\n",
              "      <th>P601</th>\n",
              "      <th>P602</th>\n",
              "      <th>P603</th>\n",
              "    </tr>\n",
              "  </thead>\n",
              "  <tbody>\n",
              "    <tr>\n",
              "      <th>16000</th>\n",
              "      <td>0.0</td>\n",
              "      <td>720.0919</td>\n",
              "      <td>1</td>\n",
              "      <td>2</td>\n",
              "      <td>1</td>\n",
              "      <td>262.3366</td>\n",
              "      <td>8.380415</td>\n",
              "      <td>457.3955</td>\n",
              "      <td>2.476789</td>\n",
              "      <td>2</td>\n",
              "      <td>...</td>\n",
              "      <td>0.308362</td>\n",
              "      <td>2</td>\n",
              "      <td>1</td>\n",
              "      <td>253.5568</td>\n",
              "      <td>1.249479</td>\n",
              "      <td>192.7871</td>\n",
              "      <td>0.000128</td>\n",
              "      <td>1</td>\n",
              "      <td>1</td>\n",
              "      <td>1</td>\n",
              "    </tr>\n",
              "    <tr>\n",
              "      <th>16001</th>\n",
              "      <td>0.0</td>\n",
              "      <td>719.5815</td>\n",
              "      <td>1</td>\n",
              "      <td>2</td>\n",
              "      <td>1</td>\n",
              "      <td>262.3366</td>\n",
              "      <td>8.380415</td>\n",
              "      <td>457.3955</td>\n",
              "      <td>2.476789</td>\n",
              "      <td>2</td>\n",
              "      <td>...</td>\n",
              "      <td>0.308362</td>\n",
              "      <td>2</td>\n",
              "      <td>1</td>\n",
              "      <td>253.5568</td>\n",
              "      <td>1.249479</td>\n",
              "      <td>192.7871</td>\n",
              "      <td>0.000128</td>\n",
              "      <td>1</td>\n",
              "      <td>1</td>\n",
              "      <td>1</td>\n",
              "    </tr>\n",
              "    <tr>\n",
              "      <th>16002</th>\n",
              "      <td>0.0</td>\n",
              "      <td>719.3853</td>\n",
              "      <td>1</td>\n",
              "      <td>2</td>\n",
              "      <td>1</td>\n",
              "      <td>262.3366</td>\n",
              "      <td>8.380415</td>\n",
              "      <td>457.3443</td>\n",
              "      <td>2.476789</td>\n",
              "      <td>2</td>\n",
              "      <td>...</td>\n",
              "      <td>0.308362</td>\n",
              "      <td>2</td>\n",
              "      <td>1</td>\n",
              "      <td>253.5568</td>\n",
              "      <td>1.249479</td>\n",
              "      <td>192.7230</td>\n",
              "      <td>0.000128</td>\n",
              "      <td>1</td>\n",
              "      <td>1</td>\n",
              "      <td>1</td>\n",
              "    </tr>\n",
              "    <tr>\n",
              "      <th>16003</th>\n",
              "      <td>0.0</td>\n",
              "      <td>718.4040</td>\n",
              "      <td>1</td>\n",
              "      <td>2</td>\n",
              "      <td>1</td>\n",
              "      <td>262.3366</td>\n",
              "      <td>8.380415</td>\n",
              "      <td>457.1905</td>\n",
              "      <td>2.477045</td>\n",
              "      <td>2</td>\n",
              "      <td>...</td>\n",
              "      <td>0.310540</td>\n",
              "      <td>2</td>\n",
              "      <td>1</td>\n",
              "      <td>253.5568</td>\n",
              "      <td>1.249479</td>\n",
              "      <td>192.7230</td>\n",
              "      <td>0.000128</td>\n",
              "      <td>1</td>\n",
              "      <td>1</td>\n",
              "      <td>1</td>\n",
              "    </tr>\n",
              "    <tr>\n",
              "      <th>16004</th>\n",
              "      <td>0.0</td>\n",
              "      <td>717.4227</td>\n",
              "      <td>1</td>\n",
              "      <td>2</td>\n",
              "      <td>1</td>\n",
              "      <td>262.3366</td>\n",
              "      <td>8.380415</td>\n",
              "      <td>457.1392</td>\n",
              "      <td>2.477686</td>\n",
              "      <td>2</td>\n",
              "      <td>...</td>\n",
              "      <td>0.309900</td>\n",
              "      <td>2</td>\n",
              "      <td>1</td>\n",
              "      <td>253.5888</td>\n",
              "      <td>1.249479</td>\n",
              "      <td>192.7230</td>\n",
              "      <td>0.000128</td>\n",
              "      <td>1</td>\n",
              "      <td>1</td>\n",
              "      <td>1</td>\n",
              "    </tr>\n",
              "    <tr>\n",
              "      <th>...</th>\n",
              "      <td>...</td>\n",
              "      <td>...</td>\n",
              "      <td>...</td>\n",
              "      <td>...</td>\n",
              "      <td>...</td>\n",
              "      <td>...</td>\n",
              "      <td>...</td>\n",
              "      <td>...</td>\n",
              "      <td>...</td>\n",
              "      <td>...</td>\n",
              "      <td>...</td>\n",
              "      <td>...</td>\n",
              "      <td>...</td>\n",
              "      <td>...</td>\n",
              "      <td>...</td>\n",
              "      <td>...</td>\n",
              "      <td>...</td>\n",
              "      <td>...</td>\n",
              "      <td>...</td>\n",
              "      <td>...</td>\n",
              "      <td>...</td>\n",
              "    </tr>\n",
              "    <tr>\n",
              "      <th>16195</th>\n",
              "      <td>0.0</td>\n",
              "      <td>623.7656</td>\n",
              "      <td>1</td>\n",
              "      <td>2</td>\n",
              "      <td>1</td>\n",
              "      <td>262.3366</td>\n",
              "      <td>8.376890</td>\n",
              "      <td>446.5009</td>\n",
              "      <td>2.470637</td>\n",
              "      <td>2</td>\n",
              "      <td>...</td>\n",
              "      <td>0.308298</td>\n",
              "      <td>2</td>\n",
              "      <td>1</td>\n",
              "      <td>253.6048</td>\n",
              "      <td>1.249479</td>\n",
              "      <td>192.8672</td>\n",
              "      <td>0.000128</td>\n",
              "      <td>1</td>\n",
              "      <td>1</td>\n",
              "      <td>1</td>\n",
              "    </tr>\n",
              "    <tr>\n",
              "      <th>16196</th>\n",
              "      <td>0.0</td>\n",
              "      <td>623.5301</td>\n",
              "      <td>1</td>\n",
              "      <td>2</td>\n",
              "      <td>1</td>\n",
              "      <td>262.3366</td>\n",
              "      <td>8.376890</td>\n",
              "      <td>446.5009</td>\n",
              "      <td>2.471663</td>\n",
              "      <td>2</td>\n",
              "      <td>...</td>\n",
              "      <td>0.308298</td>\n",
              "      <td>2</td>\n",
              "      <td>1</td>\n",
              "      <td>253.6048</td>\n",
              "      <td>1.249479</td>\n",
              "      <td>192.7230</td>\n",
              "      <td>0.000128</td>\n",
              "      <td>1</td>\n",
              "      <td>1</td>\n",
              "      <td>1</td>\n",
              "    </tr>\n",
              "    <tr>\n",
              "      <th>16197</th>\n",
              "      <td>0.0</td>\n",
              "      <td>623.2553</td>\n",
              "      <td>1</td>\n",
              "      <td>2</td>\n",
              "      <td>1</td>\n",
              "      <td>262.3366</td>\n",
              "      <td>8.376890</td>\n",
              "      <td>446.5009</td>\n",
              "      <td>2.471663</td>\n",
              "      <td>2</td>\n",
              "      <td>...</td>\n",
              "      <td>0.308298</td>\n",
              "      <td>2</td>\n",
              "      <td>1</td>\n",
              "      <td>253.6048</td>\n",
              "      <td>1.249479</td>\n",
              "      <td>192.7230</td>\n",
              "      <td>0.000128</td>\n",
              "      <td>1</td>\n",
              "      <td>1</td>\n",
              "      <td>1</td>\n",
              "    </tr>\n",
              "    <tr>\n",
              "      <th>16198</th>\n",
              "      <td>0.0</td>\n",
              "      <td>622.7057</td>\n",
              "      <td>1</td>\n",
              "      <td>2</td>\n",
              "      <td>1</td>\n",
              "      <td>262.3366</td>\n",
              "      <td>8.376890</td>\n",
              "      <td>446.5009</td>\n",
              "      <td>2.471663</td>\n",
              "      <td>2</td>\n",
              "      <td>...</td>\n",
              "      <td>0.308298</td>\n",
              "      <td>2</td>\n",
              "      <td>1</td>\n",
              "      <td>253.6048</td>\n",
              "      <td>1.249479</td>\n",
              "      <td>192.7230</td>\n",
              "      <td>0.000128</td>\n",
              "      <td>1</td>\n",
              "      <td>1</td>\n",
              "      <td>1</td>\n",
              "    </tr>\n",
              "    <tr>\n",
              "      <th>16199</th>\n",
              "      <td>0.0</td>\n",
              "      <td>622.3132</td>\n",
              "      <td>1</td>\n",
              "      <td>2</td>\n",
              "      <td>1</td>\n",
              "      <td>262.3366</td>\n",
              "      <td>8.376890</td>\n",
              "      <td>446.3214</td>\n",
              "      <td>2.471663</td>\n",
              "      <td>2</td>\n",
              "      <td>...</td>\n",
              "      <td>0.308298</td>\n",
              "      <td>2</td>\n",
              "      <td>1</td>\n",
              "      <td>253.8612</td>\n",
              "      <td>1.249479</td>\n",
              "      <td>192.7230</td>\n",
              "      <td>0.000128</td>\n",
              "      <td>1</td>\n",
              "      <td>1</td>\n",
              "      <td>1</td>\n",
              "    </tr>\n",
              "  </tbody>\n",
              "</table>\n",
              "<p>200 rows × 51 columns</p>\n",
              "</div>\n",
              "      <button class=\"colab-df-convert\" onclick=\"convertToInteractive('df-59292724-1dc7-4b46-b6f8-af2b795da41c')\"\n",
              "              title=\"Convert this dataframe to an interactive table.\"\n",
              "              style=\"display:none;\">\n",
              "        \n",
              "  <svg xmlns=\"http://www.w3.org/2000/svg\" height=\"24px\"viewBox=\"0 0 24 24\"\n",
              "       width=\"24px\">\n",
              "    <path d=\"M0 0h24v24H0V0z\" fill=\"none\"/>\n",
              "    <path d=\"M18.56 5.44l.94 2.06.94-2.06 2.06-.94-2.06-.94-.94-2.06-.94 2.06-2.06.94zm-11 1L8.5 8.5l.94-2.06 2.06-.94-2.06-.94L8.5 2.5l-.94 2.06-2.06.94zm10 10l.94 2.06.94-2.06 2.06-.94-2.06-.94-.94-2.06-.94 2.06-2.06.94z\"/><path d=\"M17.41 7.96l-1.37-1.37c-.4-.4-.92-.59-1.43-.59-.52 0-1.04.2-1.43.59L10.3 9.45l-7.72 7.72c-.78.78-.78 2.05 0 2.83L4 21.41c.39.39.9.59 1.41.59.51 0 1.02-.2 1.41-.59l7.78-7.78 2.81-2.81c.8-.78.8-2.07 0-2.86zM5.41 20L4 18.59l7.72-7.72 1.47 1.35L5.41 20z\"/>\n",
              "  </svg>\n",
              "      </button>\n",
              "      \n",
              "  <style>\n",
              "    .colab-df-container {\n",
              "      display:flex;\n",
              "      flex-wrap:wrap;\n",
              "      gap: 12px;\n",
              "    }\n",
              "\n",
              "    .colab-df-convert {\n",
              "      background-color: #E8F0FE;\n",
              "      border: none;\n",
              "      border-radius: 50%;\n",
              "      cursor: pointer;\n",
              "      display: none;\n",
              "      fill: #1967D2;\n",
              "      height: 32px;\n",
              "      padding: 0 0 0 0;\n",
              "      width: 32px;\n",
              "    }\n",
              "\n",
              "    .colab-df-convert:hover {\n",
              "      background-color: #E2EBFA;\n",
              "      box-shadow: 0px 1px 2px rgba(60, 64, 67, 0.3), 0px 1px 3px 1px rgba(60, 64, 67, 0.15);\n",
              "      fill: #174EA6;\n",
              "    }\n",
              "\n",
              "    [theme=dark] .colab-df-convert {\n",
              "      background-color: #3B4455;\n",
              "      fill: #D2E3FC;\n",
              "    }\n",
              "\n",
              "    [theme=dark] .colab-df-convert:hover {\n",
              "      background-color: #434B5C;\n",
              "      box-shadow: 0px 1px 3px 1px rgba(0, 0, 0, 0.15);\n",
              "      filter: drop-shadow(0px 1px 2px rgba(0, 0, 0, 0.3));\n",
              "      fill: #FFFFFF;\n",
              "    }\n",
              "  </style>\n",
              "\n",
              "      <script>\n",
              "        const buttonEl =\n",
              "          document.querySelector('#df-59292724-1dc7-4b46-b6f8-af2b795da41c button.colab-df-convert');\n",
              "        buttonEl.style.display =\n",
              "          google.colab.kernel.accessAllowed ? 'block' : 'none';\n",
              "\n",
              "        async function convertToInteractive(key) {\n",
              "          const element = document.querySelector('#df-59292724-1dc7-4b46-b6f8-af2b795da41c');\n",
              "          const dataTable =\n",
              "            await google.colab.kernel.invokeFunction('convertToInteractive',\n",
              "                                                     [key], {});\n",
              "          if (!dataTable) return;\n",
              "\n",
              "          const docLinkHtml = 'Like what you see? Visit the ' +\n",
              "            '<a target=\"_blank\" href=https://colab.research.google.com/notebooks/data_table.ipynb>data table notebook</a>'\n",
              "            + ' to learn more about interactive tables.';\n",
              "          element.innerHTML = '';\n",
              "          dataTable['output_type'] = 'display_data';\n",
              "          await google.colab.output.renderOutput(dataTable, element);\n",
              "          const docLink = document.createElement('div');\n",
              "          docLink.innerHTML = docLinkHtml;\n",
              "          element.appendChild(docLink);\n",
              "        }\n",
              "      </script>\n",
              "    </div>\n",
              "  </div>\n",
              "  "
            ]
          },
          "metadata": {},
          "execution_count": 27
        }
      ],
      "source": [
        "x_seq[0]"
      ],
      "id": "87007718-4313-49f5-8360-cd80c02d4441"
    },
    {
      "cell_type": "code",
      "execution_count": 29,
      "metadata": {
        "id": "1afbeafc-96db-4f68-9e43-82cadba711ea"
      },
      "outputs": [],
      "source": [
        "#split train/test use 80% train, 20% test (validation)\n",
        "train_idx = int(len(x_seq)*0.8)\n",
        "train_seq = x_seq[:train_idx]\n",
        "test_seq = x_seq[train_idx:]\n"
      ],
      "id": "1afbeafc-96db-4f68-9e43-82cadba711ea"
    },
    {
      "cell_type": "code",
      "execution_count": 31,
      "metadata": {
        "colab": {
          "base_uri": "https://localhost:8080/"
        },
        "id": "bb763c76-0758-49f6-8a77-cba77119c29c",
        "outputId": "1ad59d3b-5eff-4655-afe9-cb6d8104ca27"
      },
      "outputs": [
        {
          "output_type": "execute_result",
          "data": {
            "text/plain": [
              "(1923, 481)"
            ]
          },
          "metadata": {},
          "execution_count": 31
        }
      ],
      "source": [
        "len(train_seq), len(test_seq)"
      ],
      "id": "bb763c76-0758-49f6-8a77-cba77119c29c"
    },
    {
      "cell_type": "markdown",
      "metadata": {
        "id": "8IxYJbceeKzD"
      },
      "source": [
        "### Attack data"
      ],
      "id": "8IxYJbceeKzD"
    },
    {
      "cell_type": "code",
      "execution_count": null,
      "metadata": {
        "colab": {
          "base_uri": "https://localhost:8080/"
        },
        "id": "60nnKJoUgPj2",
        "outputId": "1fd0dd43-6cd6-4ac0-eaa0-92d7ad1ee293"
      },
      "outputs": [
        {
          "data": {
            "text/plain": [
              "Timestamp        False\n",
              "FIT101           False\n",
              "LIT101           False\n",
              "MV101            False\n",
              "P101             False\n",
              "P102             False\n",
              "AIT201           False\n",
              "AIT202           False\n",
              "AIT203           False\n",
              "FIT201           False\n",
              "MV201            False\n",
              "P201             False\n",
              "P202             False\n",
              "P203             False\n",
              "P204             False\n",
              "P205             False\n",
              "P206             False\n",
              "DPIT301          False\n",
              "FIT301           False\n",
              "LIT301           False\n",
              "MV301            False\n",
              "MV302            False\n",
              "MV303            False\n",
              "MV304            False\n",
              "P301             False\n",
              "P302             False\n",
              "AIT401           False\n",
              "AIT402           False\n",
              "FIT401           False\n",
              "LIT401           False\n",
              "P401             False\n",
              "P402             False\n",
              "P403             False\n",
              "P404             False\n",
              "UV401            False\n",
              "AIT501           False\n",
              "AIT502           False\n",
              "AIT503           False\n",
              "AIT504           False\n",
              "FIT501           False\n",
              "FIT502           False\n",
              "FIT503           False\n",
              "FIT504           False\n",
              "P501             False\n",
              "P502             False\n",
              "PIT501           False\n",
              "PIT502           False\n",
              "PIT503           False\n",
              "FIT601           False\n",
              "P601             False\n",
              "P602             False\n",
              "P603             False\n",
              "Normal/Attack    False\n",
              "dtype: bool"
            ]
          },
          "execution_count": 31,
          "metadata": {},
          "output_type": "execute_result"
        }
      ],
      "source": [
        "swat_attack.isnull().any()"
      ],
      "id": "60nnKJoUgPj2"
    },
    {
      "cell_type": "code",
      "execution_count": null,
      "metadata": {
        "id": "5P0OEZUHgYBF"
      },
      "outputs": [],
      "source": [
        "x_attack = swat_attack.drop(columns=\"Normal/Attack\")\n",
        "y_attack = swat_attack[\"Normal/Attack\"]"
      ],
      "id": "5P0OEZUHgYBF"
    },
    {
      "cell_type": "code",
      "execution_count": null,
      "metadata": {
        "id": "4sbwF61RgrEh"
      },
      "outputs": [],
      "source": [
        "x_attack.drop(columns=\"Timestamp\",inplace=True)"
      ],
      "id": "4sbwF61RgrEh"
    },
    {
      "cell_type": "code",
      "execution_count": null,
      "metadata": {
        "id": "rshBgDDnguXB"
      },
      "outputs": [],
      "source": [
        "x_scale_attack = pd.DataFrame(\n",
        "    scaler.transform(x_attack),\n",
        "    index = x_attack.index,\n",
        "    columns= x_attack.columns\n",
        ")"
      ],
      "id": "rshBgDDnguXB"
    },
    {
      "cell_type": "code",
      "execution_count": null,
      "metadata": {
        "id": "S2liLMfzeIUO"
      },
      "outputs": [],
      "source": [
        "label_encoder = LabelEncoder()\n",
        "encoded = label_encoder.fit_transform(y_attack) "
      ],
      "id": "S2liLMfzeIUO"
    },
    {
      "cell_type": "code",
      "execution_count": null,
      "metadata": {
        "id": "WFd1l-5wg2y0"
      },
      "outputs": [],
      "source": [
        "y_attack = pd.DataFrame(\n",
        "    encoded, #normal 1, attack 0\n",
        "    index = y_attack.index,\n",
        "    columns= [\"label\"]\n",
        ")"
      ],
      "id": "WFd1l-5wg2y0"
    },
    {
      "cell_type": "code",
      "execution_count": null,
      "metadata": {
        "colab": {
          "base_uri": "https://localhost:8080/",
          "height": 49
        },
        "id": "EvKsuMCWhD37",
        "outputId": "c45c5eaf-84a1-4341-fcd5-ae029bb25a53"
      },
      "outputs": [
        {
          "data": {
            "application/vnd.jupyter.widget-view+json": {
              "model_id": "77ed2716c2104c1da0a7cc397ddc05f7",
              "version_major": 2,
              "version_minor": 0
            },
            "text/plain": [
              "  0%|          | 0/449619 [00:00<?, ?it/s]"
            ]
          },
          "metadata": {},
          "output_type": "display_data"
        }
      ],
      "source": [
        "test_seq = sequences(x_attack,y_attack,sequence_length)"
      ],
      "id": "EvKsuMCWhD37"
    },
    {
      "cell_type": "code",
      "execution_count": null,
      "metadata": {
        "colab": {
          "base_uri": "https://localhost:8080/"
        },
        "id": "EoMBsO1airBD",
        "outputId": "17381da9-5ae8-45f8-c3dd-d013acb0996f"
      },
      "outputs": [
        {
          "data": {
            "text/plain": [
              "(       FIT101    LIT101  MV101  P101  P102    AIT201    AIT202    AIT203  \\\n",
              " 0    2.427057  522.8467      2     2     1  262.0161  8.396437  328.6337   \n",
              " 1    2.446274  522.8860      2     2     1  262.0161  8.396437  328.6337   \n",
              " 2    2.489191  522.8467      2     2     1  262.0161  8.394514  328.6337   \n",
              " 3    2.534350  522.9645      2     2     1  262.0161  8.394514  328.6337   \n",
              " 4    2.569260  523.4748      2     2     1  262.0161  8.394514  328.6337   \n",
              " ..        ...       ...    ...   ...   ...       ...       ...       ...   \n",
              " 295  2.625308  529.2449      2     2     1  262.1764  8.394514  328.2492   \n",
              " 296  2.621145  529.1272      2     2     1  262.1764  8.394514  328.2492   \n",
              " 297  2.616981  528.7347      2     2     1  262.1764  8.394514  328.2492   \n",
              " 298  2.602569  528.6169      2     2     1  262.1764  8.394514  328.0441   \n",
              " 299  2.580790  528.2636      2     2     1  262.1764  8.394514  328.0441   \n",
              " \n",
              "        FIT201  MV201  ...    FIT504  P501  P502    PIT501    PIT502    PIT503  \\\n",
              " 0    2.445391      2  ...  0.307786     2     1  250.8652  1.649953  189.5988   \n",
              " 1    2.445391      2  ...  0.307786     2     1  250.8652  1.649953  189.6789   \n",
              " 2    2.442316      2  ...  0.308619     2     1  250.8812  1.649953  189.6789   \n",
              " 3    2.442316      2  ...  0.308619     2     1  250.8812  1.649953  189.6148   \n",
              " 4    2.443085      2  ...  0.308619     2     1  250.8812  1.649953  189.5027   \n",
              " ..        ...    ...  ...       ...   ...   ...       ...       ...       ...   \n",
              " 295  2.442060      2  ...  0.307081     2     1  251.2657  1.681991  189.9032   \n",
              " 296  2.442060      2  ...  0.306633     2     1  251.2657  1.681991  189.8552   \n",
              " 297  2.439496      2  ...  0.306633     2     1  251.1055  1.681991  189.7751   \n",
              " 298  2.439496      2  ...  0.306633     2     1  251.1055  1.681991  189.7590   \n",
              " 299  2.439496      2  ...  0.306633     2     1  251.1055  1.681991  189.7590   \n",
              " \n",
              "        FIT601  P601  P602  P603  \n",
              " 0    0.000128     1     1     1  \n",
              " 1    0.000128     1     1     1  \n",
              " 2    0.000128     1     1     1  \n",
              " 3    0.000128     1     1     1  \n",
              " 4    0.000128     1     1     1  \n",
              " ..        ...   ...   ...   ...  \n",
              " 295  0.000128     1     1     1  \n",
              " 296  0.000128     1     1     1  \n",
              " 297  0.000128     1     1     1  \n",
              " 298  0.000128     1     1     1  \n",
              " 299  0.000128     1     1     1  \n",
              " \n",
              " [300 rows x 51 columns], label    1\n",
              " Name: 300, dtype: int64)"
            ]
          },
          "execution_count": 38,
          "metadata": {},
          "output_type": "execute_result"
        }
      ],
      "source": [
        "test_seq[0]"
      ],
      "id": "EoMBsO1airBD"
    },
    {
      "cell_type": "markdown",
      "metadata": {
        "id": "3faa044b-b6b2-4b02-af6d-6cf3f3fd7880"
      },
      "source": [
        "## PyTorch Dataset"
      ],
      "id": "3faa044b-b6b2-4b02-af6d-6cf3f3fd7880"
    },
    {
      "cell_type": "code",
      "execution_count": null,
      "metadata": {
        "id": "503b9e03-cf15-40b7-833b-0a4429b1c9db"
      },
      "outputs": [],
      "source": [
        "class SWaTDataset(Dataset):\n",
        "    \n",
        "    def __init__(self, sequences):\n",
        "        self.sequences = sequences\n",
        "    \n",
        "    def __len__(self):\n",
        "        return len(self.sequences)\n",
        "    \n",
        "    def __getitem__(self,idx):\n",
        "        sequences, label = self.sequences[idx]\n",
        "        return dict(\n",
        "        sequences = torch.Tensor(sequences.to_numpy()),\n",
        "            label = torch.tensor(label).float()\n",
        "        )"
      ],
      "id": "503b9e03-cf15-40b7-833b-0a4429b1c9db"
    },
    {
      "cell_type": "code",
      "execution_count": null,
      "metadata": {
        "id": "3c0c04c6-2634-461a-90e3-abad2a1ffd30"
      },
      "outputs": [],
      "source": [
        "class SWaTDataModule(pl.LightningDataModule):\n",
        "    \n",
        "    def __init__(self,train_seq,test_seq,val_seq,batch_size):\n",
        "        super().__init__()\n",
        "        self.train_seq = train_seq\n",
        "        self.test_seq = test_seq\n",
        "        self.val_seq = val_seq\n",
        "        self.batch_size = batch_size\n",
        "        \n",
        "    def setup(self,stage = None):\n",
        "        self.train_dataset = SWaTDataset(self.train_seq)\n",
        "        self.test_dataset = SWaTDataset(self.test_seq)\n",
        "        self.val_dataset = SWaTDataset(self.val_seq)\n",
        "        \n",
        "    def train_dataloader(self):\n",
        "        return DataLoader(\n",
        "            self.train_dataset,\n",
        "            batch_size=self.batch_size,\n",
        "            shuffle=False,\n",
        "            num_workers=cpu_count()\n",
        "        )\n",
        "    \n",
        "    def val_dataloader(self):\n",
        "        return DataLoader(\n",
        "            self.val_dataset,\n",
        "            batch_size=self.batch_size,\n",
        "            shuffle=False,\n",
        "            num_workers=cpu_count()\n",
        "        )  \n",
        "    \n",
        "    def test_dataloader(self):\n",
        "        return DataLoader(\n",
        "            self.test_dataset,\n",
        "            batch_size=self.batch_size,\n",
        "            shuffle=False,\n",
        "            num_workers=cpu_count()\n",
        "        )  "
      ],
      "id": "3c0c04c6-2634-461a-90e3-abad2a1ffd30"
    },
    {
      "cell_type": "markdown",
      "metadata": {
        "id": "6599106d-da12-426f-8a7b-962ac88fa8ae"
      },
      "source": [
        "## build LSTM model"
      ],
      "id": "6599106d-da12-426f-8a7b-962ac88fa8ae"
    },
    {
      "cell_type": "code",
      "execution_count": null,
      "metadata": {
        "id": "814109fc-671d-46db-9a85-cd075b0cfd5e"
      },
      "outputs": [],
      "source": [
        "n_epochs = 100\n",
        "batch_size = 100\n",
        "\n",
        "\n",
        "data_module = SWaTDataModule(train_seq,test_seq,val_seq,batch_size)"
      ],
      "id": "814109fc-671d-46db-9a85-cd075b0cfd5e"
    },
    {
      "cell_type": "code",
      "execution_count": null,
      "metadata": {
        "id": "90a014d4-c070-4b3b-9f46-80717cb94108"
      },
      "outputs": [],
      "source": [
        "class LSTMModel(nn.Module):\n",
        "    \n",
        "    def __init__(self,n_features,n_classes,n_hidden=128,n_layers=3):\n",
        "        super().__init__()\n",
        "        \n",
        "        self.n_hidden = n_hidden\n",
        "        \n",
        "        self.criterion = nn.MSELoss()\n",
        "        \n",
        "        self.lstm = nn.LSTM(input_size = n_features, hidden_size = n_hidden,\n",
        "                            num_layers = n_layers, batch_first = True, \n",
        "                            dropout = 0.75)\n",
        "        \n",
        "        self.classifier = nn.Linear(n_hidden, n_classes)\n",
        "        \n",
        "    def forward(self,x):\n",
        "        self.lstm.flatten_parameters()\n",
        "        \n",
        "        _,(hidden, _) = self.lstm(x)\n",
        "        \n",
        "        out = hidden[-1]\n",
        "\n",
        "        out = self.classifier(out)\n",
        "        \n",
        "        return out"
      ],
      "id": "90a014d4-c070-4b3b-9f46-80717cb94108"
    },
    {
      "cell_type": "code",
      "execution_count": null,
      "metadata": {
        "id": "afaeaf46-2aef-47e9-aec9-bc6e9dbfe15d"
      },
      "outputs": [],
      "source": [
        "class SWaTPredictor(pl.LightningModule):\n",
        "    \n",
        "    def __init__(self, n_features:int, n_classes:int):\n",
        "        super().__init__()\n",
        "        self.model = LSTMModel(n_features,n_classes)\n",
        "        self.criterion = nn.CrossEntropyLoss()\n",
        "        \n",
        "    def forward(self,x,label=None):\n",
        "        output = self.model(x)\n",
        "        loss = 0\n",
        "        \n",
        "        if label is not None:\n",
        "            loss = self.criterion(output, torch.max(label, 1)[1])\n",
        "        return loss, output\n",
        "    \n",
        "    def training_step(self, batch, batch_idx):\n",
        "        sequences = batch[\"sequences\"]\n",
        "        labels = batch[\"label\"]\n",
        "        loss, outputs = self(sequences,labels)\n",
        "        predictions = torch.argmax(outputs, dim=1)\n",
        "        step_accuracy = accuracy(predictions,torch.tensor(labels).int())\n",
        "        \n",
        "        self.log(\"train_loss\", loss, prog_bar = True, logger=True)\n",
        "        self.log(\"train_accuracy\",step_accuracy, prog_bar = True, logger = True)\n",
        "        return {\"loss\":loss, \"accuracy\": step_accuracy}\n",
        "        \n",
        "    def val_step(self, batch, batch_idx):\n",
        "        sequences = batch[\"sequences\"]\n",
        "        labels = batch[\"label\"]\n",
        "        loss, outputs = self(sequences,labels)\n",
        "        predictions = torch.argmax(outputs, dim=1)\n",
        "        step_accuracy = accuracy(predictions,torch.tensor(labels).int())\n",
        "        \n",
        "        self.log(\"val_loss\", loss, prog_bar = True, logger=True)\n",
        "        self.log(\"val_accuracy\",step_accuracy, prog_bar = True, logger = True)\n",
        "        return {\"loss\":loss, \"accuracy\": step_accuracy}\n",
        "\n",
        "    def test_step(self, batch, batch_idx):\n",
        "        sequences = batch[\"sequences\"]\n",
        "        labels = batch[\"label\"]\n",
        "        loss, outputs = self(sequences,labels)\n",
        "        predictions = torch.argmax(outputs, dim=1)\n",
        "        step_accuracy = accuracy(predictions,torch.tensor(labels).int())\n",
        "        \n",
        "        self.log(\"test_loss\", loss, prog_bar = True, logger=True)\n",
        "        self.log(\"test_accuracy\",step_accuracy, prog_bar = True, logger = True)\n",
        "        return {\"loss\":loss, \"accuracy\": step_accuracy}\n",
        "    \n",
        "    def configure_optimizers(self):\n",
        "        return optim.Adam(self.parameters(), lr= 0.0001)"
      ],
      "id": "afaeaf46-2aef-47e9-aec9-bc6e9dbfe15d"
    },
    {
      "cell_type": "code",
      "execution_count": null,
      "metadata": {
        "id": "76dccab8-47cf-480e-9795-15e01ba6ec06"
      },
      "outputs": [],
      "source": [
        "model = SWaTPredictor(\n",
        "    n_features= len(x_scale.columns),\n",
        "    n_classes= len(label_encoder.classes_))"
      ],
      "id": "76dccab8-47cf-480e-9795-15e01ba6ec06"
    },
    {
      "cell_type": "code",
      "execution_count": null,
      "metadata": {
        "colab": {
          "base_uri": "https://localhost:8080/",
          "height": 838
        },
        "id": "b0c3b739-8fe7-4812-8f43-4e94602df1cc",
        "outputId": "dba4a32c-ff42-43ab-be2d-d65a5e8f80fb"
      },
      "outputs": [
        {
          "data": {
            "text/plain": [
              "Reusing TensorBoard on port 6006 (pid 793), started 1:07:11 ago. (Use '!kill 793' to kill it.)"
            ]
          },
          "metadata": {},
          "output_type": "display_data"
        },
        {
          "data": {
            "application/javascript": [
              "\n",
              "        (async () => {\n",
              "            const url = new URL(await google.colab.kernel.proxyPort(6006, {'cache': true}));\n",
              "            url.searchParams.set('tensorboardColab', 'true');\n",
              "            const iframe = document.createElement('iframe');\n",
              "            iframe.src = url;\n",
              "            iframe.setAttribute('width', '100%');\n",
              "            iframe.setAttribute('height', '800');\n",
              "            iframe.setAttribute('frameborder', 0);\n",
              "            document.body.appendChild(iframe);\n",
              "        })();\n",
              "    "
            ],
            "text/plain": [
              "<IPython.core.display.Javascript object>"
            ]
          },
          "metadata": {},
          "output_type": "display_data"
        }
      ],
      "source": [
        "%reload_ext tensorboard\n",
        "%tensorboard --logdir ./lightning_logs"
      ],
      "id": "b0c3b739-8fe7-4812-8f43-4e94602df1cc"
    },
    {
      "cell_type": "code",
      "execution_count": null,
      "metadata": {
        "colab": {
          "background_save": true,
          "base_uri": "https://localhost:8080/"
        },
        "id": "068b3c5a-e15d-46f4-ae17-bab9ce0f7cc7",
        "outputId": "12f5ebbf-780a-4a8f-af09-75eab970a49f"
      },
      "outputs": [
        {
          "ename": "NameError",
          "evalue": "ignored",
          "output_type": "error",
          "traceback": [
            "\u001b[0;31m---------------------------------------------------------------------------\u001b[0m",
            "\u001b[0;31mNameError\u001b[0m                                 Traceback (most recent call last)",
            "\u001b[0;32m<ipython-input-1-e0b0cd181f47>\u001b[0m in \u001b[0;36m<module>\u001b[0;34m()\u001b[0m\n\u001b[0;32m----> 1\u001b[0;31m checkpoint_callback = ModelCheckpoint(\n\u001b[0m\u001b[1;32m      2\u001b[0m     \u001b[0mdirpath\u001b[0m \u001b[0;34m=\u001b[0m \u001b[0;34m\"checkpoints\"\u001b[0m\u001b[0;34m,\u001b[0m\u001b[0;34m\u001b[0m\u001b[0;34m\u001b[0m\u001b[0m\n\u001b[1;32m      3\u001b[0m     \u001b[0mfilename\u001b[0m \u001b[0;34m=\u001b[0m \u001b[0;34m\"best-checkpoint\"\u001b[0m\u001b[0;34m,\u001b[0m\u001b[0;34m\u001b[0m\u001b[0;34m\u001b[0m\u001b[0m\n\u001b[1;32m      4\u001b[0m     \u001b[0msave_top_k\u001b[0m \u001b[0;34m=\u001b[0m\u001b[0;36m1\u001b[0m\u001b[0;34m,\u001b[0m\u001b[0;34m\u001b[0m\u001b[0;34m\u001b[0m\u001b[0m\n\u001b[1;32m      5\u001b[0m     \u001b[0mverbose\u001b[0m \u001b[0;34m=\u001b[0m \u001b[0;32mTrue\u001b[0m\u001b[0;34m,\u001b[0m\u001b[0;34m\u001b[0m\u001b[0;34m\u001b[0m\u001b[0m\n",
            "\u001b[0;31mNameError\u001b[0m: name 'ModelCheckpoint' is not defined"
          ]
        }
      ],
      "source": [
        "checkpoint_callback = ModelCheckpoint(\n",
        "    dirpath = \"checkpoints\",\n",
        "    filename = \"best-checkpoint\",\n",
        "    save_top_k =1,\n",
        "    verbose = True,\n",
        "    monitor = \"val_loss\",\n",
        "    mode = \"min\"\n",
        ")\n",
        "\n",
        "logger = TensorBoardLogger(\"lightning_logs\",name = \"swat\")\n",
        "\n",
        "trainer = pl.Trainer(logger= logger, \n",
        "                     checkpoint_callback = checkpoint_callback,\n",
        "                     max_epochs=n_epochs, \n",
        "                     gpus=1,\n",
        "                     progress_bar_refresh_rate=30)"
      ],
      "id": "068b3c5a-e15d-46f4-ae17-bab9ce0f7cc7"
    },
    {
      "cell_type": "code",
      "execution_count": null,
      "metadata": {
        "colab": {
          "background_save": true,
          "base_uri": "https://localhost:8080/",
          "height": 295,
          "referenced_widgets": [
            "a23ef326f3264ce8b3bbc8a87d8761a6",
            "3d02c9a71f3b4219a8edeed25211e103",
            "922a02872b284e7891a46ccd88a996bd",
            "3fff6f7e692249a78292e36f6b9f06c4",
            "65b2b4bd2b4944779dd5e4ebc65c4ce9",
            "7fff8f4dfbea4a4b817b5998b48560bf",
            "46f273d8f0a34ad696a8b726e9a6aa54",
            "1d5617ec95304eae898765f67ead7243",
            "5e1b689d1c5b4285998049a193de27e1",
            "13f001bd1ed94390b875e7e39c6ddba5",
            "27c7c3c4c2354f9ab4a0c62bca3eb5bb",
            "6413d9d5b4274bb1b8e12d0d1ab3d5b1"
          ]
        },
        "id": "a18c7cba-7265-4be7-818e-636b4f6f47ba",
        "outputId": "f7e4b8b3-f76e-4845-a740-d9293d8a5b4e"
      },
      "outputs": [
        {
          "name": "stderr",
          "output_type": "stream",
          "text": [
            "\n",
            "  | Name      | Type             | Params\n",
            "-----------------------------------------------\n",
            "0 | model     | LSTMModel        | 357 K \n",
            "1 | criterion | CrossEntropyLoss | 0     \n",
            "-----------------------------------------------\n",
            "357 K     Trainable params\n",
            "0         Non-trainable params\n",
            "357 K     Total params\n",
            "1.428     Total estimated model params size (MB)\n"
          ]
        },
        {
          "data": {
            "application/vnd.jupyter.widget-view+json": {
              "model_id": "a23ef326f3264ce8b3bbc8a87d8761a6",
              "version_major": 2,
              "version_minor": 0
            },
            "text/plain": [
              "Validation sanity check: 0it [00:00, ?it/s]"
            ]
          },
          "metadata": {},
          "output_type": "display_data"
        },
        {
          "data": {
            "application/vnd.jupyter.widget-view+json": {
              "model_id": "3d02c9a71f3b4219a8edeed25211e103",
              "version_major": 2,
              "version_minor": 0
            },
            "text/plain": [
              "Training: 0it [00:00, ?it/s]"
            ]
          },
          "metadata": {},
          "output_type": "display_data"
        },
        {
          "data": {
            "application/vnd.jupyter.widget-view+json": {
              "model_id": "922a02872b284e7891a46ccd88a996bd",
              "version_major": 2,
              "version_minor": 0
            },
            "text/plain": [
              "Validating: 0it [00:00, ?it/s]"
            ]
          },
          "metadata": {},
          "output_type": "display_data"
        },
        {
          "name": "stderr",
          "output_type": "stream",
          "text": [
            "Epoch 0, global step 1501: val_loss reached 0.00006 (best 0.00006), saving model to \"/content/checkpoints/best-checkpoint.ckpt\" as top 1\n"
          ]
        },
        {
          "data": {
            "application/vnd.jupyter.widget-view+json": {
              "model_id": "3fff6f7e692249a78292e36f6b9f06c4",
              "version_major": 2,
              "version_minor": 0
            },
            "text/plain": [
              "Validating: 0it [00:00, ?it/s]"
            ]
          },
          "metadata": {},
          "output_type": "display_data"
        },
        {
          "name": "stderr",
          "output_type": "stream",
          "text": [
            "Epoch 1, global step 3003: val_loss reached 0.00002 (best 0.00002), saving model to \"/content/checkpoints/best-checkpoint.ckpt\" as top 1\n"
          ]
        },
        {
          "data": {
            "application/vnd.jupyter.widget-view+json": {
              "model_id": "65b2b4bd2b4944779dd5e4ebc65c4ce9",
              "version_major": 2,
              "version_minor": 0
            },
            "text/plain": [
              "Validating: 0it [00:00, ?it/s]"
            ]
          },
          "metadata": {},
          "output_type": "display_data"
        },
        {
          "name": "stderr",
          "output_type": "stream",
          "text": [
            "Epoch 2, global step 4505: val_loss reached 0.00001 (best 0.00001), saving model to \"/content/checkpoints/best-checkpoint.ckpt\" as top 1\n"
          ]
        },
        {
          "data": {
            "application/vnd.jupyter.widget-view+json": {
              "model_id": "7fff8f4dfbea4a4b817b5998b48560bf",
              "version_major": 2,
              "version_minor": 0
            },
            "text/plain": [
              "Validating: 0it [00:00, ?it/s]"
            ]
          },
          "metadata": {},
          "output_type": "display_data"
        },
        {
          "name": "stderr",
          "output_type": "stream",
          "text": [
            "Epoch 3, global step 6007: val_loss reached 0.00000 (best 0.00000), saving model to \"/content/checkpoints/best-checkpoint.ckpt\" as top 1\n"
          ]
        },
        {
          "data": {
            "application/vnd.jupyter.widget-view+json": {
              "model_id": "46f273d8f0a34ad696a8b726e9a6aa54",
              "version_major": 2,
              "version_minor": 0
            },
            "text/plain": [
              "Validating: 0it [00:00, ?it/s]"
            ]
          },
          "metadata": {},
          "output_type": "display_data"
        },
        {
          "name": "stderr",
          "output_type": "stream",
          "text": [
            "Epoch 4, global step 7509: val_loss reached 0.00000 (best 0.00000), saving model to \"/content/checkpoints/best-checkpoint.ckpt\" as top 1\n"
          ]
        },
        {
          "data": {
            "application/vnd.jupyter.widget-view+json": {
              "model_id": "1d5617ec95304eae898765f67ead7243",
              "version_major": 2,
              "version_minor": 0
            },
            "text/plain": [
              "Validating: 0it [00:00, ?it/s]"
            ]
          },
          "metadata": {},
          "output_type": "display_data"
        },
        {
          "name": "stderr",
          "output_type": "stream",
          "text": [
            "Epoch 5, global step 9011: val_loss reached 0.00000 (best 0.00000), saving model to \"/content/checkpoints/best-checkpoint.ckpt\" as top 1\n"
          ]
        },
        {
          "data": {
            "application/vnd.jupyter.widget-view+json": {
              "model_id": "5e1b689d1c5b4285998049a193de27e1",
              "version_major": 2,
              "version_minor": 0
            },
            "text/plain": [
              "Validating: 0it [00:00, ?it/s]"
            ]
          },
          "metadata": {},
          "output_type": "display_data"
        },
        {
          "name": "stderr",
          "output_type": "stream",
          "text": [
            "Epoch 6, global step 10513: val_loss reached 0.00000 (best 0.00000), saving model to \"/content/checkpoints/best-checkpoint.ckpt\" as top 1\n"
          ]
        },
        {
          "data": {
            "application/vnd.jupyter.widget-view+json": {
              "model_id": "13f001bd1ed94390b875e7e39c6ddba5",
              "version_major": 2,
              "version_minor": 0
            },
            "text/plain": [
              "Validating: 0it [00:00, ?it/s]"
            ]
          },
          "metadata": {},
          "output_type": "display_data"
        },
        {
          "name": "stderr",
          "output_type": "stream",
          "text": [
            "Epoch 7, global step 12015: val_loss reached 0.00000 (best 0.00000), saving model to \"/content/checkpoints/best-checkpoint.ckpt\" as top 1\n"
          ]
        },
        {
          "data": {
            "application/vnd.jupyter.widget-view+json": {
              "model_id": "27c7c3c4c2354f9ab4a0c62bca3eb5bb",
              "version_major": 2,
              "version_minor": 0
            },
            "text/plain": [
              "Validating: 0it [00:00, ?it/s]"
            ]
          },
          "metadata": {},
          "output_type": "display_data"
        },
        {
          "name": "stderr",
          "output_type": "stream",
          "text": [
            "Epoch 8, global step 13517: val_loss reached 0.00000 (best 0.00000), saving model to \"/content/checkpoints/best-checkpoint.ckpt\" as top 1\n"
          ]
        },
        {
          "data": {
            "application/vnd.jupyter.widget-view+json": {
              "model_id": "6413d9d5b4274bb1b8e12d0d1ab3d5b1",
              "version_major": 2,
              "version_minor": 0
            },
            "text/plain": [
              "Validating: 0it [00:00, ?it/s]"
            ]
          },
          "metadata": {},
          "output_type": "display_data"
        },
        {
          "name": "stderr",
          "output_type": "stream",
          "text": [
            "Epoch 9, global step 15019: val_loss reached 0.00000 (best 0.00000), saving model to \"/content/checkpoints/best-checkpoint.ckpt\" as top 1\n"
          ]
        }
      ],
      "source": [
        "trainer.fit(model, data_module)"
      ],
      "id": "a18c7cba-7265-4be7-818e-636b4f6f47ba"
    },
    {
      "cell_type": "code",
      "execution_count": null,
      "metadata": {
        "id": "2cdf8de8-bf2d-4e2c-ac43-6a45a3b3e60d"
      },
      "outputs": [],
      "source": [
        "trainer.test()"
      ],
      "id": "2cdf8de8-bf2d-4e2c-ac43-6a45a3b3e60d"
    },
    {
      "cell_type": "markdown",
      "metadata": {
        "id": "f7636512-1e73-4be4-bd03-8b05370b4745"
      },
      "source": [
        "## Prediction"
      ],
      "id": "f7636512-1e73-4be4-bd03-8b05370b4745"
    },
    {
      "cell_type": "code",
      "execution_count": null,
      "metadata": {
        "id": "aa06bc63-939d-45bf-bdc4-21083c94ebfc"
      },
      "outputs": [],
      "source": [
        "train_model = SWaTPredictor.load_from_checkpoint(\n",
        "    trainer.checkpoint_callback.best_model_path,\n",
        "    n_features = len([x_scale.columns]),\n",
        "    n_classes= len(label_encoder.classes_))\n",
        "\n",
        "train_model.freeze()"
      ],
      "id": "aa06bc63-939d-45bf-bdc4-21083c94ebfc"
    },
    {
      "cell_type": "code",
      "execution_count": null,
      "metadata": {
        "id": "5f646fe0-0ea7-4a7a-92da-8331b62ebb3a"
      },
      "outputs": [],
      "source": [
        ""
      ],
      "id": "5f646fe0-0ea7-4a7a-92da-8331b62ebb3a"
    }
  ],
  "metadata": {
    "accelerator": "GPU",
    "colab": {
      "name": "SWaT_LSTM.ipynb",
      "provenance": [],
      "include_colab_link": true
    },
    "gpuClass": "standard",
    "kernelspec": {
      "display_name": "Python 3",
      "name": "python3"
    },
    "language_info": {
      "name": "python"
    },
    "widgets": {
      "application/vnd.jupyter.widget-state+json": {
        "5548c1f35e37401fb3698d3eacbdea72": {
          "model_module": "@jupyter-widgets/controls",
          "model_name": "HBoxModel",
          "model_module_version": "1.5.0",
          "state": {
            "_dom_classes": [],
            "_model_module": "@jupyter-widgets/controls",
            "_model_module_version": "1.5.0",
            "_model_name": "HBoxModel",
            "_view_count": null,
            "_view_module": "@jupyter-widgets/controls",
            "_view_module_version": "1.5.0",
            "_view_name": "HBoxView",
            "box_style": "",
            "children": [
              "IPY_MODEL_2b20d2f945974487bcbf22f66dd5d618",
              "IPY_MODEL_9ec5353866ac40bb88c097aa8b59db60",
              "IPY_MODEL_aac9f8ce20754ff1a7b845ef24525abc"
            ],
            "layout": "IPY_MODEL_edd446d8a1864388bd2e73fbfeb7adb0"
          }
        },
        "2b20d2f945974487bcbf22f66dd5d618": {
          "model_module": "@jupyter-widgets/controls",
          "model_name": "HTMLModel",
          "model_module_version": "1.5.0",
          "state": {
            "_dom_classes": [],
            "_model_module": "@jupyter-widgets/controls",
            "_model_module_version": "1.5.0",
            "_model_name": "HTMLModel",
            "_view_count": null,
            "_view_module": "@jupyter-widgets/controls",
            "_view_module_version": "1.5.0",
            "_view_name": "HTMLView",
            "description": "",
            "description_tooltip": null,
            "layout": "IPY_MODEL_5b35b8f494654ccc83ff0b4d3a1f5316",
            "placeholder": "​",
            "style": "IPY_MODEL_1ea600037d2f4c2aad160511ea27c96d",
            "value": "100%"
          }
        },
        "9ec5353866ac40bb88c097aa8b59db60": {
          "model_module": "@jupyter-widgets/controls",
          "model_name": "FloatProgressModel",
          "model_module_version": "1.5.0",
          "state": {
            "_dom_classes": [],
            "_model_module": "@jupyter-widgets/controls",
            "_model_module_version": "1.5.0",
            "_model_name": "FloatProgressModel",
            "_view_count": null,
            "_view_module": "@jupyter-widgets/controls",
            "_view_module_version": "1.5.0",
            "_view_name": "ProgressView",
            "bar_style": "success",
            "description": "",
            "description_tooltip": null,
            "layout": "IPY_MODEL_5a4664616a434bc28b89ff6f00940b28",
            "max": 2404,
            "min": 0,
            "orientation": "horizontal",
            "style": "IPY_MODEL_bd947e36342e47eeb038cbde06dbe909",
            "value": 2404
          }
        },
        "aac9f8ce20754ff1a7b845ef24525abc": {
          "model_module": "@jupyter-widgets/controls",
          "model_name": "HTMLModel",
          "model_module_version": "1.5.0",
          "state": {
            "_dom_classes": [],
            "_model_module": "@jupyter-widgets/controls",
            "_model_module_version": "1.5.0",
            "_model_name": "HTMLModel",
            "_view_count": null,
            "_view_module": "@jupyter-widgets/controls",
            "_view_module_version": "1.5.0",
            "_view_name": "HTMLView",
            "description": "",
            "description_tooltip": null,
            "layout": "IPY_MODEL_dc0c71c2772c42af9b9364557ced6e81",
            "placeholder": "​",
            "style": "IPY_MODEL_83b362ee4554422e85d9d65be5d42ef5",
            "value": " 2404/2404 [00:00&lt;00:00, 8732.16it/s]"
          }
        },
        "edd446d8a1864388bd2e73fbfeb7adb0": {
          "model_module": "@jupyter-widgets/base",
          "model_name": "LayoutModel",
          "model_module_version": "1.2.0",
          "state": {
            "_model_module": "@jupyter-widgets/base",
            "_model_module_version": "1.2.0",
            "_model_name": "LayoutModel",
            "_view_count": null,
            "_view_module": "@jupyter-widgets/base",
            "_view_module_version": "1.2.0",
            "_view_name": "LayoutView",
            "align_content": null,
            "align_items": null,
            "align_self": null,
            "border": null,
            "bottom": null,
            "display": null,
            "flex": null,
            "flex_flow": null,
            "grid_area": null,
            "grid_auto_columns": null,
            "grid_auto_flow": null,
            "grid_auto_rows": null,
            "grid_column": null,
            "grid_gap": null,
            "grid_row": null,
            "grid_template_areas": null,
            "grid_template_columns": null,
            "grid_template_rows": null,
            "height": null,
            "justify_content": null,
            "justify_items": null,
            "left": null,
            "margin": null,
            "max_height": null,
            "max_width": null,
            "min_height": null,
            "min_width": null,
            "object_fit": null,
            "object_position": null,
            "order": null,
            "overflow": null,
            "overflow_x": null,
            "overflow_y": null,
            "padding": null,
            "right": null,
            "top": null,
            "visibility": null,
            "width": null
          }
        },
        "5b35b8f494654ccc83ff0b4d3a1f5316": {
          "model_module": "@jupyter-widgets/base",
          "model_name": "LayoutModel",
          "model_module_version": "1.2.0",
          "state": {
            "_model_module": "@jupyter-widgets/base",
            "_model_module_version": "1.2.0",
            "_model_name": "LayoutModel",
            "_view_count": null,
            "_view_module": "@jupyter-widgets/base",
            "_view_module_version": "1.2.0",
            "_view_name": "LayoutView",
            "align_content": null,
            "align_items": null,
            "align_self": null,
            "border": null,
            "bottom": null,
            "display": null,
            "flex": null,
            "flex_flow": null,
            "grid_area": null,
            "grid_auto_columns": null,
            "grid_auto_flow": null,
            "grid_auto_rows": null,
            "grid_column": null,
            "grid_gap": null,
            "grid_row": null,
            "grid_template_areas": null,
            "grid_template_columns": null,
            "grid_template_rows": null,
            "height": null,
            "justify_content": null,
            "justify_items": null,
            "left": null,
            "margin": null,
            "max_height": null,
            "max_width": null,
            "min_height": null,
            "min_width": null,
            "object_fit": null,
            "object_position": null,
            "order": null,
            "overflow": null,
            "overflow_x": null,
            "overflow_y": null,
            "padding": null,
            "right": null,
            "top": null,
            "visibility": null,
            "width": null
          }
        },
        "1ea600037d2f4c2aad160511ea27c96d": {
          "model_module": "@jupyter-widgets/controls",
          "model_name": "DescriptionStyleModel",
          "model_module_version": "1.5.0",
          "state": {
            "_model_module": "@jupyter-widgets/controls",
            "_model_module_version": "1.5.0",
            "_model_name": "DescriptionStyleModel",
            "_view_count": null,
            "_view_module": "@jupyter-widgets/base",
            "_view_module_version": "1.2.0",
            "_view_name": "StyleView",
            "description_width": ""
          }
        },
        "5a4664616a434bc28b89ff6f00940b28": {
          "model_module": "@jupyter-widgets/base",
          "model_name": "LayoutModel",
          "model_module_version": "1.2.0",
          "state": {
            "_model_module": "@jupyter-widgets/base",
            "_model_module_version": "1.2.0",
            "_model_name": "LayoutModel",
            "_view_count": null,
            "_view_module": "@jupyter-widgets/base",
            "_view_module_version": "1.2.0",
            "_view_name": "LayoutView",
            "align_content": null,
            "align_items": null,
            "align_self": null,
            "border": null,
            "bottom": null,
            "display": null,
            "flex": null,
            "flex_flow": null,
            "grid_area": null,
            "grid_auto_columns": null,
            "grid_auto_flow": null,
            "grid_auto_rows": null,
            "grid_column": null,
            "grid_gap": null,
            "grid_row": null,
            "grid_template_areas": null,
            "grid_template_columns": null,
            "grid_template_rows": null,
            "height": null,
            "justify_content": null,
            "justify_items": null,
            "left": null,
            "margin": null,
            "max_height": null,
            "max_width": null,
            "min_height": null,
            "min_width": null,
            "object_fit": null,
            "object_position": null,
            "order": null,
            "overflow": null,
            "overflow_x": null,
            "overflow_y": null,
            "padding": null,
            "right": null,
            "top": null,
            "visibility": null,
            "width": null
          }
        },
        "bd947e36342e47eeb038cbde06dbe909": {
          "model_module": "@jupyter-widgets/controls",
          "model_name": "ProgressStyleModel",
          "model_module_version": "1.5.0",
          "state": {
            "_model_module": "@jupyter-widgets/controls",
            "_model_module_version": "1.5.0",
            "_model_name": "ProgressStyleModel",
            "_view_count": null,
            "_view_module": "@jupyter-widgets/base",
            "_view_module_version": "1.2.0",
            "_view_name": "StyleView",
            "bar_color": null,
            "description_width": ""
          }
        },
        "dc0c71c2772c42af9b9364557ced6e81": {
          "model_module": "@jupyter-widgets/base",
          "model_name": "LayoutModel",
          "model_module_version": "1.2.0",
          "state": {
            "_model_module": "@jupyter-widgets/base",
            "_model_module_version": "1.2.0",
            "_model_name": "LayoutModel",
            "_view_count": null,
            "_view_module": "@jupyter-widgets/base",
            "_view_module_version": "1.2.0",
            "_view_name": "LayoutView",
            "align_content": null,
            "align_items": null,
            "align_self": null,
            "border": null,
            "bottom": null,
            "display": null,
            "flex": null,
            "flex_flow": null,
            "grid_area": null,
            "grid_auto_columns": null,
            "grid_auto_flow": null,
            "grid_auto_rows": null,
            "grid_column": null,
            "grid_gap": null,
            "grid_row": null,
            "grid_template_areas": null,
            "grid_template_columns": null,
            "grid_template_rows": null,
            "height": null,
            "justify_content": null,
            "justify_items": null,
            "left": null,
            "margin": null,
            "max_height": null,
            "max_width": null,
            "min_height": null,
            "min_width": null,
            "object_fit": null,
            "object_position": null,
            "order": null,
            "overflow": null,
            "overflow_x": null,
            "overflow_y": null,
            "padding": null,
            "right": null,
            "top": null,
            "visibility": null,
            "width": null
          }
        },
        "83b362ee4554422e85d9d65be5d42ef5": {
          "model_module": "@jupyter-widgets/controls",
          "model_name": "DescriptionStyleModel",
          "model_module_version": "1.5.0",
          "state": {
            "_model_module": "@jupyter-widgets/controls",
            "_model_module_version": "1.5.0",
            "_model_name": "DescriptionStyleModel",
            "_view_count": null,
            "_view_module": "@jupyter-widgets/base",
            "_view_module_version": "1.2.0",
            "_view_name": "StyleView",
            "description_width": ""
          }
        }
      }
    }
  },
  "nbformat": 4,
  "nbformat_minor": 5
}