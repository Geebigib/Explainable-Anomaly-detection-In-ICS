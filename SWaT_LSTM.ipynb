{
  "cells": [
    {
      "cell_type": "markdown",
      "metadata": {
        "id": "view-in-github",
        "colab_type": "text"
      },
      "source": [
        "<a href=\"https://colab.research.google.com/github/Geebigib/Data-Science-Project/blob/main/SWaT_LSTM.ipynb\" target=\"_parent\"><img src=\"https://colab.research.google.com/assets/colab-badge.svg\" alt=\"Open In Colab\"/></a>"
      ]
    },
    {
      "cell_type": "code",
      "execution_count": 5,
      "id": "fb45e152-9c4a-4362-ba8f-180123249b43",
      "metadata": {
        "id": "fb45e152-9c4a-4362-ba8f-180123249b43"
      },
      "outputs": [],
      "source": [
        "import numpy as np\n",
        "import pandas as pd\n",
        "import matplotlib.pyplot as plt\n",
        "import seaborn as sns"
      ]
    },
    {
      "cell_type": "code",
      "source": [
        "# !pip install --quiet torch==1.8.1"
      ],
      "metadata": {
        "id": "TWr4y_u0OYJH"
      },
      "id": "TWr4y_u0OYJH",
      "execution_count": 2,
      "outputs": []
    },
    {
      "cell_type": "code",
      "source": [
        "# !pip install git+https://github.com/PyTorchLightning/pytorch-lightning\n",
        "# import pytorch_lightning as pl\n",
        "# print(pl.__version__)"
      ],
      "metadata": {
        "id": "OpiZq88XO5Sj"
      },
      "id": "OpiZq88XO5Sj",
      "execution_count": 3,
      "outputs": []
    },
    {
      "cell_type": "markdown",
      "id": "4d36ca4c-59c9-47fc-8fce-b74805fd263e",
      "metadata": {
        "id": "4d36ca4c-59c9-47fc-8fce-b74805fd263e"
      },
      "source": [
        "## data preprocessing"
      ]
    },
    {
      "cell_type": "code",
      "execution_count": 6,
      "id": "ef09e9a3-bebc-407a-8492-838438b4e288",
      "metadata": {
        "colab": {
          "base_uri": "https://localhost:8080/",
          "height": 346
        },
        "id": "ef09e9a3-bebc-407a-8492-838438b4e288",
        "outputId": "2bfc5ff3-fb30-4961-fdd4-91610e051e75"
      },
      "outputs": [
        {
          "output_type": "error",
          "ename": "FileNotFoundError",
          "evalue": "ignored",
          "traceback": [
            "\u001b[0;31m---------------------------------------------------------------------------\u001b[0m",
            "\u001b[0;31mFileNotFoundError\u001b[0m                         Traceback (most recent call last)",
            "\u001b[0;32m<ipython-input-6-f6246201a768>\u001b[0m in \u001b[0;36m<module>\u001b[0;34m()\u001b[0m\n\u001b[0;32m----> 1\u001b[0;31m \u001b[0mswat_normal\u001b[0m \u001b[0;34m=\u001b[0m \u001b[0mpd\u001b[0m\u001b[0;34m.\u001b[0m\u001b[0mread_csv\u001b[0m\u001b[0;34m(\u001b[0m\u001b[0;34m\"SWaT_Dataset_Normal_v0.csv\"\u001b[0m\u001b[0;34m,\u001b[0m \u001b[0mskiprows\u001b[0m\u001b[0;34m=\u001b[0m\u001b[0;36m1\u001b[0m\u001b[0;34m)\u001b[0m\u001b[0;34m\u001b[0m\u001b[0;34m\u001b[0m\u001b[0m\n\u001b[0m\u001b[1;32m      2\u001b[0m \u001b[0mswat_attack\u001b[0m \u001b[0;34m=\u001b[0m \u001b[0mpd\u001b[0m\u001b[0;34m.\u001b[0m\u001b[0mread_csv\u001b[0m\u001b[0;34m(\u001b[0m\u001b[0;34m\"SWaT_Dataset_Attack_v0.csv\"\u001b[0m\u001b[0;34m)\u001b[0m\u001b[0;34m\u001b[0m\u001b[0;34m\u001b[0m\u001b[0m\n",
            "\u001b[0;32m/usr/local/lib/python3.7/dist-packages/pandas/util/_decorators.py\u001b[0m in \u001b[0;36mwrapper\u001b[0;34m(*args, **kwargs)\u001b[0m\n\u001b[1;32m    309\u001b[0m                     \u001b[0mstacklevel\u001b[0m\u001b[0;34m=\u001b[0m\u001b[0mstacklevel\u001b[0m\u001b[0;34m,\u001b[0m\u001b[0;34m\u001b[0m\u001b[0;34m\u001b[0m\u001b[0m\n\u001b[1;32m    310\u001b[0m                 )\n\u001b[0;32m--> 311\u001b[0;31m             \u001b[0;32mreturn\u001b[0m \u001b[0mfunc\u001b[0m\u001b[0;34m(\u001b[0m\u001b[0;34m*\u001b[0m\u001b[0margs\u001b[0m\u001b[0;34m,\u001b[0m \u001b[0;34m**\u001b[0m\u001b[0mkwargs\u001b[0m\u001b[0;34m)\u001b[0m\u001b[0;34m\u001b[0m\u001b[0;34m\u001b[0m\u001b[0m\n\u001b[0m\u001b[1;32m    312\u001b[0m \u001b[0;34m\u001b[0m\u001b[0m\n\u001b[1;32m    313\u001b[0m         \u001b[0;32mreturn\u001b[0m \u001b[0mwrapper\u001b[0m\u001b[0;34m\u001b[0m\u001b[0;34m\u001b[0m\u001b[0m\n",
            "\u001b[0;32m/usr/local/lib/python3.7/dist-packages/pandas/io/parsers/readers.py\u001b[0m in \u001b[0;36mread_csv\u001b[0;34m(filepath_or_buffer, sep, delimiter, header, names, index_col, usecols, squeeze, prefix, mangle_dupe_cols, dtype, engine, converters, true_values, false_values, skipinitialspace, skiprows, skipfooter, nrows, na_values, keep_default_na, na_filter, verbose, skip_blank_lines, parse_dates, infer_datetime_format, keep_date_col, date_parser, dayfirst, cache_dates, iterator, chunksize, compression, thousands, decimal, lineterminator, quotechar, quoting, doublequote, escapechar, comment, encoding, encoding_errors, dialect, error_bad_lines, warn_bad_lines, on_bad_lines, delim_whitespace, low_memory, memory_map, float_precision, storage_options)\u001b[0m\n\u001b[1;32m    584\u001b[0m     \u001b[0mkwds\u001b[0m\u001b[0;34m.\u001b[0m\u001b[0mupdate\u001b[0m\u001b[0;34m(\u001b[0m\u001b[0mkwds_defaults\u001b[0m\u001b[0;34m)\u001b[0m\u001b[0;34m\u001b[0m\u001b[0;34m\u001b[0m\u001b[0m\n\u001b[1;32m    585\u001b[0m \u001b[0;34m\u001b[0m\u001b[0m\n\u001b[0;32m--> 586\u001b[0;31m     \u001b[0;32mreturn\u001b[0m \u001b[0m_read\u001b[0m\u001b[0;34m(\u001b[0m\u001b[0mfilepath_or_buffer\u001b[0m\u001b[0;34m,\u001b[0m \u001b[0mkwds\u001b[0m\u001b[0;34m)\u001b[0m\u001b[0;34m\u001b[0m\u001b[0;34m\u001b[0m\u001b[0m\n\u001b[0m\u001b[1;32m    587\u001b[0m \u001b[0;34m\u001b[0m\u001b[0m\n\u001b[1;32m    588\u001b[0m \u001b[0;34m\u001b[0m\u001b[0m\n",
            "\u001b[0;32m/usr/local/lib/python3.7/dist-packages/pandas/io/parsers/readers.py\u001b[0m in \u001b[0;36m_read\u001b[0;34m(filepath_or_buffer, kwds)\u001b[0m\n\u001b[1;32m    480\u001b[0m \u001b[0;34m\u001b[0m\u001b[0m\n\u001b[1;32m    481\u001b[0m     \u001b[0;31m# Create the parser.\u001b[0m\u001b[0;34m\u001b[0m\u001b[0;34m\u001b[0m\u001b[0;34m\u001b[0m\u001b[0m\n\u001b[0;32m--> 482\u001b[0;31m     \u001b[0mparser\u001b[0m \u001b[0;34m=\u001b[0m \u001b[0mTextFileReader\u001b[0m\u001b[0;34m(\u001b[0m\u001b[0mfilepath_or_buffer\u001b[0m\u001b[0;34m,\u001b[0m \u001b[0;34m**\u001b[0m\u001b[0mkwds\u001b[0m\u001b[0;34m)\u001b[0m\u001b[0;34m\u001b[0m\u001b[0;34m\u001b[0m\u001b[0m\n\u001b[0m\u001b[1;32m    483\u001b[0m \u001b[0;34m\u001b[0m\u001b[0m\n\u001b[1;32m    484\u001b[0m     \u001b[0;32mif\u001b[0m \u001b[0mchunksize\u001b[0m \u001b[0;32mor\u001b[0m \u001b[0miterator\u001b[0m\u001b[0;34m:\u001b[0m\u001b[0;34m\u001b[0m\u001b[0;34m\u001b[0m\u001b[0m\n",
            "\u001b[0;32m/usr/local/lib/python3.7/dist-packages/pandas/io/parsers/readers.py\u001b[0m in \u001b[0;36m__init__\u001b[0;34m(self, f, engine, **kwds)\u001b[0m\n\u001b[1;32m    809\u001b[0m             \u001b[0mself\u001b[0m\u001b[0;34m.\u001b[0m\u001b[0moptions\u001b[0m\u001b[0;34m[\u001b[0m\u001b[0;34m\"has_index_names\"\u001b[0m\u001b[0;34m]\u001b[0m \u001b[0;34m=\u001b[0m \u001b[0mkwds\u001b[0m\u001b[0;34m[\u001b[0m\u001b[0;34m\"has_index_names\"\u001b[0m\u001b[0;34m]\u001b[0m\u001b[0;34m\u001b[0m\u001b[0;34m\u001b[0m\u001b[0m\n\u001b[1;32m    810\u001b[0m \u001b[0;34m\u001b[0m\u001b[0m\n\u001b[0;32m--> 811\u001b[0;31m         \u001b[0mself\u001b[0m\u001b[0;34m.\u001b[0m\u001b[0m_engine\u001b[0m \u001b[0;34m=\u001b[0m \u001b[0mself\u001b[0m\u001b[0;34m.\u001b[0m\u001b[0m_make_engine\u001b[0m\u001b[0;34m(\u001b[0m\u001b[0mself\u001b[0m\u001b[0;34m.\u001b[0m\u001b[0mengine\u001b[0m\u001b[0;34m)\u001b[0m\u001b[0;34m\u001b[0m\u001b[0;34m\u001b[0m\u001b[0m\n\u001b[0m\u001b[1;32m    812\u001b[0m \u001b[0;34m\u001b[0m\u001b[0m\n\u001b[1;32m    813\u001b[0m     \u001b[0;32mdef\u001b[0m \u001b[0mclose\u001b[0m\u001b[0;34m(\u001b[0m\u001b[0mself\u001b[0m\u001b[0;34m)\u001b[0m\u001b[0;34m:\u001b[0m\u001b[0;34m\u001b[0m\u001b[0;34m\u001b[0m\u001b[0m\n",
            "\u001b[0;32m/usr/local/lib/python3.7/dist-packages/pandas/io/parsers/readers.py\u001b[0m in \u001b[0;36m_make_engine\u001b[0;34m(self, engine)\u001b[0m\n\u001b[1;32m   1038\u001b[0m             )\n\u001b[1;32m   1039\u001b[0m         \u001b[0;31m# error: Too many arguments for \"ParserBase\"\u001b[0m\u001b[0;34m\u001b[0m\u001b[0;34m\u001b[0m\u001b[0;34m\u001b[0m\u001b[0m\n\u001b[0;32m-> 1040\u001b[0;31m         \u001b[0;32mreturn\u001b[0m \u001b[0mmapping\u001b[0m\u001b[0;34m[\u001b[0m\u001b[0mengine\u001b[0m\u001b[0;34m]\u001b[0m\u001b[0;34m(\u001b[0m\u001b[0mself\u001b[0m\u001b[0;34m.\u001b[0m\u001b[0mf\u001b[0m\u001b[0;34m,\u001b[0m \u001b[0;34m**\u001b[0m\u001b[0mself\u001b[0m\u001b[0;34m.\u001b[0m\u001b[0moptions\u001b[0m\u001b[0;34m)\u001b[0m  \u001b[0;31m# type: ignore[call-arg]\u001b[0m\u001b[0;34m\u001b[0m\u001b[0;34m\u001b[0m\u001b[0m\n\u001b[0m\u001b[1;32m   1041\u001b[0m \u001b[0;34m\u001b[0m\u001b[0m\n\u001b[1;32m   1042\u001b[0m     \u001b[0;32mdef\u001b[0m \u001b[0m_failover_to_python\u001b[0m\u001b[0;34m(\u001b[0m\u001b[0mself\u001b[0m\u001b[0;34m)\u001b[0m\u001b[0;34m:\u001b[0m\u001b[0;34m\u001b[0m\u001b[0;34m\u001b[0m\u001b[0m\n",
            "\u001b[0;32m/usr/local/lib/python3.7/dist-packages/pandas/io/parsers/c_parser_wrapper.py\u001b[0m in \u001b[0;36m__init__\u001b[0;34m(self, src, **kwds)\u001b[0m\n\u001b[1;32m     49\u001b[0m \u001b[0;34m\u001b[0m\u001b[0m\n\u001b[1;32m     50\u001b[0m         \u001b[0;31m# open handles\u001b[0m\u001b[0;34m\u001b[0m\u001b[0;34m\u001b[0m\u001b[0;34m\u001b[0m\u001b[0m\n\u001b[0;32m---> 51\u001b[0;31m         \u001b[0mself\u001b[0m\u001b[0;34m.\u001b[0m\u001b[0m_open_handles\u001b[0m\u001b[0;34m(\u001b[0m\u001b[0msrc\u001b[0m\u001b[0;34m,\u001b[0m \u001b[0mkwds\u001b[0m\u001b[0;34m)\u001b[0m\u001b[0;34m\u001b[0m\u001b[0;34m\u001b[0m\u001b[0m\n\u001b[0m\u001b[1;32m     52\u001b[0m         \u001b[0;32massert\u001b[0m \u001b[0mself\u001b[0m\u001b[0;34m.\u001b[0m\u001b[0mhandles\u001b[0m \u001b[0;32mis\u001b[0m \u001b[0;32mnot\u001b[0m \u001b[0;32mNone\u001b[0m\u001b[0;34m\u001b[0m\u001b[0;34m\u001b[0m\u001b[0m\n\u001b[1;32m     53\u001b[0m \u001b[0;34m\u001b[0m\u001b[0m\n",
            "\u001b[0;32m/usr/local/lib/python3.7/dist-packages/pandas/io/parsers/base_parser.py\u001b[0m in \u001b[0;36m_open_handles\u001b[0;34m(self, src, kwds)\u001b[0m\n\u001b[1;32m    227\u001b[0m             \u001b[0mmemory_map\u001b[0m\u001b[0;34m=\u001b[0m\u001b[0mkwds\u001b[0m\u001b[0;34m.\u001b[0m\u001b[0mget\u001b[0m\u001b[0;34m(\u001b[0m\u001b[0;34m\"memory_map\"\u001b[0m\u001b[0;34m,\u001b[0m \u001b[0;32mFalse\u001b[0m\u001b[0;34m)\u001b[0m\u001b[0;34m,\u001b[0m\u001b[0;34m\u001b[0m\u001b[0;34m\u001b[0m\u001b[0m\n\u001b[1;32m    228\u001b[0m             \u001b[0mstorage_options\u001b[0m\u001b[0;34m=\u001b[0m\u001b[0mkwds\u001b[0m\u001b[0;34m.\u001b[0m\u001b[0mget\u001b[0m\u001b[0;34m(\u001b[0m\u001b[0;34m\"storage_options\"\u001b[0m\u001b[0;34m,\u001b[0m \u001b[0;32mNone\u001b[0m\u001b[0;34m)\u001b[0m\u001b[0;34m,\u001b[0m\u001b[0;34m\u001b[0m\u001b[0;34m\u001b[0m\u001b[0m\n\u001b[0;32m--> 229\u001b[0;31m             \u001b[0merrors\u001b[0m\u001b[0;34m=\u001b[0m\u001b[0mkwds\u001b[0m\u001b[0;34m.\u001b[0m\u001b[0mget\u001b[0m\u001b[0;34m(\u001b[0m\u001b[0;34m\"encoding_errors\"\u001b[0m\u001b[0;34m,\u001b[0m \u001b[0;34m\"strict\"\u001b[0m\u001b[0;34m)\u001b[0m\u001b[0;34m,\u001b[0m\u001b[0;34m\u001b[0m\u001b[0;34m\u001b[0m\u001b[0m\n\u001b[0m\u001b[1;32m    230\u001b[0m         )\n\u001b[1;32m    231\u001b[0m \u001b[0;34m\u001b[0m\u001b[0m\n",
            "\u001b[0;32m/usr/local/lib/python3.7/dist-packages/pandas/io/common.py\u001b[0m in \u001b[0;36mget_handle\u001b[0;34m(path_or_buf, mode, encoding, compression, memory_map, is_text, errors, storage_options)\u001b[0m\n\u001b[1;32m    705\u001b[0m                 \u001b[0mencoding\u001b[0m\u001b[0;34m=\u001b[0m\u001b[0mioargs\u001b[0m\u001b[0;34m.\u001b[0m\u001b[0mencoding\u001b[0m\u001b[0;34m,\u001b[0m\u001b[0;34m\u001b[0m\u001b[0;34m\u001b[0m\u001b[0m\n\u001b[1;32m    706\u001b[0m                 \u001b[0merrors\u001b[0m\u001b[0;34m=\u001b[0m\u001b[0merrors\u001b[0m\u001b[0;34m,\u001b[0m\u001b[0;34m\u001b[0m\u001b[0;34m\u001b[0m\u001b[0m\n\u001b[0;32m--> 707\u001b[0;31m                 \u001b[0mnewline\u001b[0m\u001b[0;34m=\u001b[0m\u001b[0;34m\"\"\u001b[0m\u001b[0;34m,\u001b[0m\u001b[0;34m\u001b[0m\u001b[0;34m\u001b[0m\u001b[0m\n\u001b[0m\u001b[1;32m    708\u001b[0m             )\n\u001b[1;32m    709\u001b[0m         \u001b[0;32melse\u001b[0m\u001b[0;34m:\u001b[0m\u001b[0;34m\u001b[0m\u001b[0;34m\u001b[0m\u001b[0m\n",
            "\u001b[0;31mFileNotFoundError\u001b[0m: [Errno 2] No such file or directory: 'SWaT_Dataset_Normal_v0.csv'"
          ]
        }
      ],
      "source": [
        "swat_normal = pd.read_csv(\"SWaT_Dataset_Normal_v0.csv\", skiprows=1)\n",
        "swat_attack = pd.read_csv(\"SWaT_Dataset_Attack_v0.csv\")"
      ]
    },
    {
      "cell_type": "code",
      "execution_count": 5,
      "id": "ba1cbb77-2b06-4667-91df-75e8da68b68d",
      "metadata": {
        "id": "ba1cbb77-2b06-4667-91df-75e8da68b68d"
      },
      "outputs": [],
      "source": [
        "swat_normal.columns = swat_normal.columns.str.replace(' ','')\n",
        "swat_attack.columns = swat_normal.columns.str.replace(' ','')"
      ]
    },
    {
      "cell_type": "code",
      "execution_count": 6,
      "id": "7015b09d-b75d-44da-9a41-2631a2e332e7",
      "metadata": {
        "id": "7015b09d-b75d-44da-9a41-2631a2e332e7"
      },
      "outputs": [],
      "source": [
        "swat = pd.concat([swat_normal,swat_attack],axis=0)"
      ]
    },
    {
      "cell_type": "code",
      "execution_count": 7,
      "id": "c660d769-acaa-415e-aacc-89e360de17fd",
      "metadata": {
        "colab": {
          "base_uri": "https://localhost:8080/",
          "height": 473
        },
        "id": "c660d769-acaa-415e-aacc-89e360de17fd",
        "outputId": "1ea142e1-cb35-483f-b231-a8e62afef88a"
      },
      "outputs": [
        {
          "output_type": "execute_result",
          "data": {
            "text/plain": [
              "                   Timestamp    FIT101    LIT101  MV101  P101  P102    AIT201  \\\n",
              "449914   2/1/2016 2:59:55 PM  2.559972  519.5495      2     2     1  168.0979   \n",
              "449915   2/1/2016 2:59:56 PM  2.549082  520.4131      2     2     1  168.0979   \n",
              "449916   2/1/2016 2:59:57 PM  2.531467  520.6878      2     2     1  168.0979   \n",
              "449917   2/1/2016 2:59:58 PM  2.521218  520.7271      2     2     1  168.0979   \n",
              "449918   2/1/2016 2:59:59 PM  2.501681  521.1196      2     2     1  168.0979   \n",
              "\n",
              "          AIT202    AIT203    FIT201  ...  P501  P502    PIT501    PIT502  \\\n",
              "449914  8.638683  301.9226  2.459488  ...     2     1  251.1535  0.865024   \n",
              "449915  8.638683  301.9226  2.459488  ...     2     1  251.0734  0.865024   \n",
              "449916  8.638683  301.9226  2.460129  ...     2     1  251.0734  0.865024   \n",
              "449917  8.638683  301.9226  2.460129  ...     2     1  251.0734  0.865024   \n",
              "449918  8.638683  301.9226  2.458206  ...     2     1  251.0734  0.865024   \n",
              "\n",
              "          PIT503  FIT601  P601  P602  P603  Normal/Attack  \n",
              "449914  189.0220     0.0     1     1     1         Normal  \n",
              "449915  188.9259     0.0     1     1     1         Normal  \n",
              "449916  188.9259     0.0     1     1     1         Normal  \n",
              "449917  188.9259     0.0     1     1     1         Normal  \n",
              "449918  188.9259     0.0     1     1     1         Normal  \n",
              "\n",
              "[5 rows x 53 columns]"
            ],
            "text/html": [
              "\n",
              "  <div id=\"df-f639e3b0-c752-4c28-bdc0-6bd3ee612c23\">\n",
              "    <div class=\"colab-df-container\">\n",
              "      <div>\n",
              "<style scoped>\n",
              "    .dataframe tbody tr th:only-of-type {\n",
              "        vertical-align: middle;\n",
              "    }\n",
              "\n",
              "    .dataframe tbody tr th {\n",
              "        vertical-align: top;\n",
              "    }\n",
              "\n",
              "    .dataframe thead th {\n",
              "        text-align: right;\n",
              "    }\n",
              "</style>\n",
              "<table border=\"1\" class=\"dataframe\">\n",
              "  <thead>\n",
              "    <tr style=\"text-align: right;\">\n",
              "      <th></th>\n",
              "      <th>Timestamp</th>\n",
              "      <th>FIT101</th>\n",
              "      <th>LIT101</th>\n",
              "      <th>MV101</th>\n",
              "      <th>P101</th>\n",
              "      <th>P102</th>\n",
              "      <th>AIT201</th>\n",
              "      <th>AIT202</th>\n",
              "      <th>AIT203</th>\n",
              "      <th>FIT201</th>\n",
              "      <th>...</th>\n",
              "      <th>P501</th>\n",
              "      <th>P502</th>\n",
              "      <th>PIT501</th>\n",
              "      <th>PIT502</th>\n",
              "      <th>PIT503</th>\n",
              "      <th>FIT601</th>\n",
              "      <th>P601</th>\n",
              "      <th>P602</th>\n",
              "      <th>P603</th>\n",
              "      <th>Normal/Attack</th>\n",
              "    </tr>\n",
              "  </thead>\n",
              "  <tbody>\n",
              "    <tr>\n",
              "      <th>449914</th>\n",
              "      <td>2/1/2016 2:59:55 PM</td>\n",
              "      <td>2.559972</td>\n",
              "      <td>519.5495</td>\n",
              "      <td>2</td>\n",
              "      <td>2</td>\n",
              "      <td>1</td>\n",
              "      <td>168.0979</td>\n",
              "      <td>8.638683</td>\n",
              "      <td>301.9226</td>\n",
              "      <td>2.459488</td>\n",
              "      <td>...</td>\n",
              "      <td>2</td>\n",
              "      <td>1</td>\n",
              "      <td>251.1535</td>\n",
              "      <td>0.865024</td>\n",
              "      <td>189.0220</td>\n",
              "      <td>0.0</td>\n",
              "      <td>1</td>\n",
              "      <td>1</td>\n",
              "      <td>1</td>\n",
              "      <td>Normal</td>\n",
              "    </tr>\n",
              "    <tr>\n",
              "      <th>449915</th>\n",
              "      <td>2/1/2016 2:59:56 PM</td>\n",
              "      <td>2.549082</td>\n",
              "      <td>520.4131</td>\n",
              "      <td>2</td>\n",
              "      <td>2</td>\n",
              "      <td>1</td>\n",
              "      <td>168.0979</td>\n",
              "      <td>8.638683</td>\n",
              "      <td>301.9226</td>\n",
              "      <td>2.459488</td>\n",
              "      <td>...</td>\n",
              "      <td>2</td>\n",
              "      <td>1</td>\n",
              "      <td>251.0734</td>\n",
              "      <td>0.865024</td>\n",
              "      <td>188.9259</td>\n",
              "      <td>0.0</td>\n",
              "      <td>1</td>\n",
              "      <td>1</td>\n",
              "      <td>1</td>\n",
              "      <td>Normal</td>\n",
              "    </tr>\n",
              "    <tr>\n",
              "      <th>449916</th>\n",
              "      <td>2/1/2016 2:59:57 PM</td>\n",
              "      <td>2.531467</td>\n",
              "      <td>520.6878</td>\n",
              "      <td>2</td>\n",
              "      <td>2</td>\n",
              "      <td>1</td>\n",
              "      <td>168.0979</td>\n",
              "      <td>8.638683</td>\n",
              "      <td>301.9226</td>\n",
              "      <td>2.460129</td>\n",
              "      <td>...</td>\n",
              "      <td>2</td>\n",
              "      <td>1</td>\n",
              "      <td>251.0734</td>\n",
              "      <td>0.865024</td>\n",
              "      <td>188.9259</td>\n",
              "      <td>0.0</td>\n",
              "      <td>1</td>\n",
              "      <td>1</td>\n",
              "      <td>1</td>\n",
              "      <td>Normal</td>\n",
              "    </tr>\n",
              "    <tr>\n",
              "      <th>449917</th>\n",
              "      <td>2/1/2016 2:59:58 PM</td>\n",
              "      <td>2.521218</td>\n",
              "      <td>520.7271</td>\n",
              "      <td>2</td>\n",
              "      <td>2</td>\n",
              "      <td>1</td>\n",
              "      <td>168.0979</td>\n",
              "      <td>8.638683</td>\n",
              "      <td>301.9226</td>\n",
              "      <td>2.460129</td>\n",
              "      <td>...</td>\n",
              "      <td>2</td>\n",
              "      <td>1</td>\n",
              "      <td>251.0734</td>\n",
              "      <td>0.865024</td>\n",
              "      <td>188.9259</td>\n",
              "      <td>0.0</td>\n",
              "      <td>1</td>\n",
              "      <td>1</td>\n",
              "      <td>1</td>\n",
              "      <td>Normal</td>\n",
              "    </tr>\n",
              "    <tr>\n",
              "      <th>449918</th>\n",
              "      <td>2/1/2016 2:59:59 PM</td>\n",
              "      <td>2.501681</td>\n",
              "      <td>521.1196</td>\n",
              "      <td>2</td>\n",
              "      <td>2</td>\n",
              "      <td>1</td>\n",
              "      <td>168.0979</td>\n",
              "      <td>8.638683</td>\n",
              "      <td>301.9226</td>\n",
              "      <td>2.458206</td>\n",
              "      <td>...</td>\n",
              "      <td>2</td>\n",
              "      <td>1</td>\n",
              "      <td>251.0734</td>\n",
              "      <td>0.865024</td>\n",
              "      <td>188.9259</td>\n",
              "      <td>0.0</td>\n",
              "      <td>1</td>\n",
              "      <td>1</td>\n",
              "      <td>1</td>\n",
              "      <td>Normal</td>\n",
              "    </tr>\n",
              "  </tbody>\n",
              "</table>\n",
              "<p>5 rows × 53 columns</p>\n",
              "</div>\n",
              "      <button class=\"colab-df-convert\" onclick=\"convertToInteractive('df-f639e3b0-c752-4c28-bdc0-6bd3ee612c23')\"\n",
              "              title=\"Convert this dataframe to an interactive table.\"\n",
              "              style=\"display:none;\">\n",
              "        \n",
              "  <svg xmlns=\"http://www.w3.org/2000/svg\" height=\"24px\"viewBox=\"0 0 24 24\"\n",
              "       width=\"24px\">\n",
              "    <path d=\"M0 0h24v24H0V0z\" fill=\"none\"/>\n",
              "    <path d=\"M18.56 5.44l.94 2.06.94-2.06 2.06-.94-2.06-.94-.94-2.06-.94 2.06-2.06.94zm-11 1L8.5 8.5l.94-2.06 2.06-.94-2.06-.94L8.5 2.5l-.94 2.06-2.06.94zm10 10l.94 2.06.94-2.06 2.06-.94-2.06-.94-.94-2.06-.94 2.06-2.06.94z\"/><path d=\"M17.41 7.96l-1.37-1.37c-.4-.4-.92-.59-1.43-.59-.52 0-1.04.2-1.43.59L10.3 9.45l-7.72 7.72c-.78.78-.78 2.05 0 2.83L4 21.41c.39.39.9.59 1.41.59.51 0 1.02-.2 1.41-.59l7.78-7.78 2.81-2.81c.8-.78.8-2.07 0-2.86zM5.41 20L4 18.59l7.72-7.72 1.47 1.35L5.41 20z\"/>\n",
              "  </svg>\n",
              "      </button>\n",
              "      \n",
              "  <style>\n",
              "    .colab-df-container {\n",
              "      display:flex;\n",
              "      flex-wrap:wrap;\n",
              "      gap: 12px;\n",
              "    }\n",
              "\n",
              "    .colab-df-convert {\n",
              "      background-color: #E8F0FE;\n",
              "      border: none;\n",
              "      border-radius: 50%;\n",
              "      cursor: pointer;\n",
              "      display: none;\n",
              "      fill: #1967D2;\n",
              "      height: 32px;\n",
              "      padding: 0 0 0 0;\n",
              "      width: 32px;\n",
              "    }\n",
              "\n",
              "    .colab-df-convert:hover {\n",
              "      background-color: #E2EBFA;\n",
              "      box-shadow: 0px 1px 2px rgba(60, 64, 67, 0.3), 0px 1px 3px 1px rgba(60, 64, 67, 0.15);\n",
              "      fill: #174EA6;\n",
              "    }\n",
              "\n",
              "    [theme=dark] .colab-df-convert {\n",
              "      background-color: #3B4455;\n",
              "      fill: #D2E3FC;\n",
              "    }\n",
              "\n",
              "    [theme=dark] .colab-df-convert:hover {\n",
              "      background-color: #434B5C;\n",
              "      box-shadow: 0px 1px 3px 1px rgba(0, 0, 0, 0.15);\n",
              "      filter: drop-shadow(0px 1px 2px rgba(0, 0, 0, 0.3));\n",
              "      fill: #FFFFFF;\n",
              "    }\n",
              "  </style>\n",
              "\n",
              "      <script>\n",
              "        const buttonEl =\n",
              "          document.querySelector('#df-f639e3b0-c752-4c28-bdc0-6bd3ee612c23 button.colab-df-convert');\n",
              "        buttonEl.style.display =\n",
              "          google.colab.kernel.accessAllowed ? 'block' : 'none';\n",
              "\n",
              "        async function convertToInteractive(key) {\n",
              "          const element = document.querySelector('#df-f639e3b0-c752-4c28-bdc0-6bd3ee612c23');\n",
              "          const dataTable =\n",
              "            await google.colab.kernel.invokeFunction('convertToInteractive',\n",
              "                                                     [key], {});\n",
              "          if (!dataTable) return;\n",
              "\n",
              "          const docLinkHtml = 'Like what you see? Visit the ' +\n",
              "            '<a target=\"_blank\" href=https://colab.research.google.com/notebooks/data_table.ipynb>data table notebook</a>'\n",
              "            + ' to learn more about interactive tables.';\n",
              "          element.innerHTML = '';\n",
              "          dataTable['output_type'] = 'display_data';\n",
              "          await google.colab.output.renderOutput(dataTable, element);\n",
              "          const docLink = document.createElement('div');\n",
              "          docLink.innerHTML = docLinkHtml;\n",
              "          element.appendChild(docLink);\n",
              "        }\n",
              "      </script>\n",
              "    </div>\n",
              "  </div>\n",
              "  "
            ]
          },
          "metadata": {},
          "execution_count": 7
        }
      ],
      "source": [
        "swat.tail(5)"
      ]
    },
    {
      "cell_type": "code",
      "execution_count": 8,
      "id": "bf97c839-eb4d-4c64-bde2-cd8132bea55e",
      "metadata": {
        "colab": {
          "base_uri": "https://localhost:8080/",
          "height": 394
        },
        "id": "bf97c839-eb4d-4c64-bde2-cd8132bea55e",
        "outputId": "464a5b4e-f53c-4ac2-a992-8dded1b80cab"
      },
      "outputs": [
        {
          "output_type": "execute_result",
          "data": {
            "text/plain": [
              "              FIT101         LIT101          MV101           P101  \\\n",
              "count  946719.000000  946719.000000  946719.000000  946719.000000   \n",
              "mean        1.782889     596.041402       1.693162       1.721383   \n",
              "std         1.164297     125.001581       0.470804       0.448319   \n",
              "min         0.000000     120.623700       0.000000       1.000000   \n",
              "25%         0.000000     508.990500       1.000000       1.000000   \n",
              "50%         2.484707     527.400100       2.000000       2.000000   \n",
              "75%         2.585594     702.899100       2.000000       2.000000   \n",
              "max         2.760145    1000.000000       2.000000       2.000000   \n",
              "\n",
              "                P102         AIT201         AIT202         AIT203  \\\n",
              "count  946719.000000  946719.000000  946719.000000  946719.000000   \n",
              "mean        1.003301     238.341348       8.454710     334.957608   \n",
              "std         0.057358      36.220978       0.124405      40.096568   \n",
              "min         1.000000     168.033800       6.000000     285.337100   \n",
              "25%         1.000000     198.218400       8.363433     318.559400   \n",
              "50%         1.000000     258.619600       8.411177     329.248900   \n",
              "75%         1.000000     265.540900       8.553127     333.529900   \n",
              "max         2.000000     272.526300       8.988273     567.469900   \n",
              "\n",
              "              FIT201          MV201  ...         FIT504           P501  \\\n",
              "count  946719.000000  946719.000000  ...  946719.000000  946719.000000   \n",
              "mean        1.768831       1.719197  ...       0.295526       1.961241   \n",
              "std         1.097019       0.457877  ...       0.059783       0.193020   \n",
              "min         0.000000       0.000000  ...       0.000000       1.000000   \n",
              "25%         0.000000       1.000000  ...       0.306569       2.000000   \n",
              "50%         2.444879       2.000000  ...       0.306889       2.000000   \n",
              "75%         2.452696       2.000000  ...       0.308426       2.000000   \n",
              "max         2.826899       2.000000  ...       0.317010       2.000000   \n",
              "\n",
              "           P502         PIT501         PIT502         PIT503         FIT601  \\\n",
              "count  946719.0  946719.000000  946719.000000  946719.000000  946719.000000   \n",
              "mean        1.0     242.015200       1.102465     182.878164       0.015417   \n",
              "std         0.0      45.864317       0.335920      35.416443       0.153964   \n",
              "min         1.0       8.891951       0.000000       3.108177       0.000000   \n",
              "25%         1.0     248.702300       0.961138     187.355800       0.000000   \n",
              "50%         1.0     250.640900       1.089290     189.166200       0.000064   \n",
              "75%         1.0     253.268400       1.265498     192.210300       0.000128   \n",
              "max         1.0     264.643700       3.668343     200.637600       1.802710   \n",
              "\n",
              "           P601           P602      P603  \n",
              "count  946719.0  946719.000000  946719.0  \n",
              "mean        1.0       1.008478       1.0  \n",
              "std         0.0       0.091683       0.0  \n",
              "min         1.0       1.000000       1.0  \n",
              "25%         1.0       1.000000       1.0  \n",
              "50%         1.0       1.000000       1.0  \n",
              "75%         1.0       1.000000       1.0  \n",
              "max         1.0       2.000000       1.0  \n",
              "\n",
              "[8 rows x 51 columns]"
            ],
            "text/html": [
              "\n",
              "  <div id=\"df-42b40865-20d0-4af1-a673-96b6a54de91c\">\n",
              "    <div class=\"colab-df-container\">\n",
              "      <div>\n",
              "<style scoped>\n",
              "    .dataframe tbody tr th:only-of-type {\n",
              "        vertical-align: middle;\n",
              "    }\n",
              "\n",
              "    .dataframe tbody tr th {\n",
              "        vertical-align: top;\n",
              "    }\n",
              "\n",
              "    .dataframe thead th {\n",
              "        text-align: right;\n",
              "    }\n",
              "</style>\n",
              "<table border=\"1\" class=\"dataframe\">\n",
              "  <thead>\n",
              "    <tr style=\"text-align: right;\">\n",
              "      <th></th>\n",
              "      <th>FIT101</th>\n",
              "      <th>LIT101</th>\n",
              "      <th>MV101</th>\n",
              "      <th>P101</th>\n",
              "      <th>P102</th>\n",
              "      <th>AIT201</th>\n",
              "      <th>AIT202</th>\n",
              "      <th>AIT203</th>\n",
              "      <th>FIT201</th>\n",
              "      <th>MV201</th>\n",
              "      <th>...</th>\n",
              "      <th>FIT504</th>\n",
              "      <th>P501</th>\n",
              "      <th>P502</th>\n",
              "      <th>PIT501</th>\n",
              "      <th>PIT502</th>\n",
              "      <th>PIT503</th>\n",
              "      <th>FIT601</th>\n",
              "      <th>P601</th>\n",
              "      <th>P602</th>\n",
              "      <th>P603</th>\n",
              "    </tr>\n",
              "  </thead>\n",
              "  <tbody>\n",
              "    <tr>\n",
              "      <th>count</th>\n",
              "      <td>946719.000000</td>\n",
              "      <td>946719.000000</td>\n",
              "      <td>946719.000000</td>\n",
              "      <td>946719.000000</td>\n",
              "      <td>946719.000000</td>\n",
              "      <td>946719.000000</td>\n",
              "      <td>946719.000000</td>\n",
              "      <td>946719.000000</td>\n",
              "      <td>946719.000000</td>\n",
              "      <td>946719.000000</td>\n",
              "      <td>...</td>\n",
              "      <td>946719.000000</td>\n",
              "      <td>946719.000000</td>\n",
              "      <td>946719.0</td>\n",
              "      <td>946719.000000</td>\n",
              "      <td>946719.000000</td>\n",
              "      <td>946719.000000</td>\n",
              "      <td>946719.000000</td>\n",
              "      <td>946719.0</td>\n",
              "      <td>946719.000000</td>\n",
              "      <td>946719.0</td>\n",
              "    </tr>\n",
              "    <tr>\n",
              "      <th>mean</th>\n",
              "      <td>1.782889</td>\n",
              "      <td>596.041402</td>\n",
              "      <td>1.693162</td>\n",
              "      <td>1.721383</td>\n",
              "      <td>1.003301</td>\n",
              "      <td>238.341348</td>\n",
              "      <td>8.454710</td>\n",
              "      <td>334.957608</td>\n",
              "      <td>1.768831</td>\n",
              "      <td>1.719197</td>\n",
              "      <td>...</td>\n",
              "      <td>0.295526</td>\n",
              "      <td>1.961241</td>\n",
              "      <td>1.0</td>\n",
              "      <td>242.015200</td>\n",
              "      <td>1.102465</td>\n",
              "      <td>182.878164</td>\n",
              "      <td>0.015417</td>\n",
              "      <td>1.0</td>\n",
              "      <td>1.008478</td>\n",
              "      <td>1.0</td>\n",
              "    </tr>\n",
              "    <tr>\n",
              "      <th>std</th>\n",
              "      <td>1.164297</td>\n",
              "      <td>125.001581</td>\n",
              "      <td>0.470804</td>\n",
              "      <td>0.448319</td>\n",
              "      <td>0.057358</td>\n",
              "      <td>36.220978</td>\n",
              "      <td>0.124405</td>\n",
              "      <td>40.096568</td>\n",
              "      <td>1.097019</td>\n",
              "      <td>0.457877</td>\n",
              "      <td>...</td>\n",
              "      <td>0.059783</td>\n",
              "      <td>0.193020</td>\n",
              "      <td>0.0</td>\n",
              "      <td>45.864317</td>\n",
              "      <td>0.335920</td>\n",
              "      <td>35.416443</td>\n",
              "      <td>0.153964</td>\n",
              "      <td>0.0</td>\n",
              "      <td>0.091683</td>\n",
              "      <td>0.0</td>\n",
              "    </tr>\n",
              "    <tr>\n",
              "      <th>min</th>\n",
              "      <td>0.000000</td>\n",
              "      <td>120.623700</td>\n",
              "      <td>0.000000</td>\n",
              "      <td>1.000000</td>\n",
              "      <td>1.000000</td>\n",
              "      <td>168.033800</td>\n",
              "      <td>6.000000</td>\n",
              "      <td>285.337100</td>\n",
              "      <td>0.000000</td>\n",
              "      <td>0.000000</td>\n",
              "      <td>...</td>\n",
              "      <td>0.000000</td>\n",
              "      <td>1.000000</td>\n",
              "      <td>1.0</td>\n",
              "      <td>8.891951</td>\n",
              "      <td>0.000000</td>\n",
              "      <td>3.108177</td>\n",
              "      <td>0.000000</td>\n",
              "      <td>1.0</td>\n",
              "      <td>1.000000</td>\n",
              "      <td>1.0</td>\n",
              "    </tr>\n",
              "    <tr>\n",
              "      <th>25%</th>\n",
              "      <td>0.000000</td>\n",
              "      <td>508.990500</td>\n",
              "      <td>1.000000</td>\n",
              "      <td>1.000000</td>\n",
              "      <td>1.000000</td>\n",
              "      <td>198.218400</td>\n",
              "      <td>8.363433</td>\n",
              "      <td>318.559400</td>\n",
              "      <td>0.000000</td>\n",
              "      <td>1.000000</td>\n",
              "      <td>...</td>\n",
              "      <td>0.306569</td>\n",
              "      <td>2.000000</td>\n",
              "      <td>1.0</td>\n",
              "      <td>248.702300</td>\n",
              "      <td>0.961138</td>\n",
              "      <td>187.355800</td>\n",
              "      <td>0.000000</td>\n",
              "      <td>1.0</td>\n",
              "      <td>1.000000</td>\n",
              "      <td>1.0</td>\n",
              "    </tr>\n",
              "    <tr>\n",
              "      <th>50%</th>\n",
              "      <td>2.484707</td>\n",
              "      <td>527.400100</td>\n",
              "      <td>2.000000</td>\n",
              "      <td>2.000000</td>\n",
              "      <td>1.000000</td>\n",
              "      <td>258.619600</td>\n",
              "      <td>8.411177</td>\n",
              "      <td>329.248900</td>\n",
              "      <td>2.444879</td>\n",
              "      <td>2.000000</td>\n",
              "      <td>...</td>\n",
              "      <td>0.306889</td>\n",
              "      <td>2.000000</td>\n",
              "      <td>1.0</td>\n",
              "      <td>250.640900</td>\n",
              "      <td>1.089290</td>\n",
              "      <td>189.166200</td>\n",
              "      <td>0.000064</td>\n",
              "      <td>1.0</td>\n",
              "      <td>1.000000</td>\n",
              "      <td>1.0</td>\n",
              "    </tr>\n",
              "    <tr>\n",
              "      <th>75%</th>\n",
              "      <td>2.585594</td>\n",
              "      <td>702.899100</td>\n",
              "      <td>2.000000</td>\n",
              "      <td>2.000000</td>\n",
              "      <td>1.000000</td>\n",
              "      <td>265.540900</td>\n",
              "      <td>8.553127</td>\n",
              "      <td>333.529900</td>\n",
              "      <td>2.452696</td>\n",
              "      <td>2.000000</td>\n",
              "      <td>...</td>\n",
              "      <td>0.308426</td>\n",
              "      <td>2.000000</td>\n",
              "      <td>1.0</td>\n",
              "      <td>253.268400</td>\n",
              "      <td>1.265498</td>\n",
              "      <td>192.210300</td>\n",
              "      <td>0.000128</td>\n",
              "      <td>1.0</td>\n",
              "      <td>1.000000</td>\n",
              "      <td>1.0</td>\n",
              "    </tr>\n",
              "    <tr>\n",
              "      <th>max</th>\n",
              "      <td>2.760145</td>\n",
              "      <td>1000.000000</td>\n",
              "      <td>2.000000</td>\n",
              "      <td>2.000000</td>\n",
              "      <td>2.000000</td>\n",
              "      <td>272.526300</td>\n",
              "      <td>8.988273</td>\n",
              "      <td>567.469900</td>\n",
              "      <td>2.826899</td>\n",
              "      <td>2.000000</td>\n",
              "      <td>...</td>\n",
              "      <td>0.317010</td>\n",
              "      <td>2.000000</td>\n",
              "      <td>1.0</td>\n",
              "      <td>264.643700</td>\n",
              "      <td>3.668343</td>\n",
              "      <td>200.637600</td>\n",
              "      <td>1.802710</td>\n",
              "      <td>1.0</td>\n",
              "      <td>2.000000</td>\n",
              "      <td>1.0</td>\n",
              "    </tr>\n",
              "  </tbody>\n",
              "</table>\n",
              "<p>8 rows × 51 columns</p>\n",
              "</div>\n",
              "      <button class=\"colab-df-convert\" onclick=\"convertToInteractive('df-42b40865-20d0-4af1-a673-96b6a54de91c')\"\n",
              "              title=\"Convert this dataframe to an interactive table.\"\n",
              "              style=\"display:none;\">\n",
              "        \n",
              "  <svg xmlns=\"http://www.w3.org/2000/svg\" height=\"24px\"viewBox=\"0 0 24 24\"\n",
              "       width=\"24px\">\n",
              "    <path d=\"M0 0h24v24H0V0z\" fill=\"none\"/>\n",
              "    <path d=\"M18.56 5.44l.94 2.06.94-2.06 2.06-.94-2.06-.94-.94-2.06-.94 2.06-2.06.94zm-11 1L8.5 8.5l.94-2.06 2.06-.94-2.06-.94L8.5 2.5l-.94 2.06-2.06.94zm10 10l.94 2.06.94-2.06 2.06-.94-2.06-.94-.94-2.06-.94 2.06-2.06.94z\"/><path d=\"M17.41 7.96l-1.37-1.37c-.4-.4-.92-.59-1.43-.59-.52 0-1.04.2-1.43.59L10.3 9.45l-7.72 7.72c-.78.78-.78 2.05 0 2.83L4 21.41c.39.39.9.59 1.41.59.51 0 1.02-.2 1.41-.59l7.78-7.78 2.81-2.81c.8-.78.8-2.07 0-2.86zM5.41 20L4 18.59l7.72-7.72 1.47 1.35L5.41 20z\"/>\n",
              "  </svg>\n",
              "      </button>\n",
              "      \n",
              "  <style>\n",
              "    .colab-df-container {\n",
              "      display:flex;\n",
              "      flex-wrap:wrap;\n",
              "      gap: 12px;\n",
              "    }\n",
              "\n",
              "    .colab-df-convert {\n",
              "      background-color: #E8F0FE;\n",
              "      border: none;\n",
              "      border-radius: 50%;\n",
              "      cursor: pointer;\n",
              "      display: none;\n",
              "      fill: #1967D2;\n",
              "      height: 32px;\n",
              "      padding: 0 0 0 0;\n",
              "      width: 32px;\n",
              "    }\n",
              "\n",
              "    .colab-df-convert:hover {\n",
              "      background-color: #E2EBFA;\n",
              "      box-shadow: 0px 1px 2px rgba(60, 64, 67, 0.3), 0px 1px 3px 1px rgba(60, 64, 67, 0.15);\n",
              "      fill: #174EA6;\n",
              "    }\n",
              "\n",
              "    [theme=dark] .colab-df-convert {\n",
              "      background-color: #3B4455;\n",
              "      fill: #D2E3FC;\n",
              "    }\n",
              "\n",
              "    [theme=dark] .colab-df-convert:hover {\n",
              "      background-color: #434B5C;\n",
              "      box-shadow: 0px 1px 3px 1px rgba(0, 0, 0, 0.15);\n",
              "      filter: drop-shadow(0px 1px 2px rgba(0, 0, 0, 0.3));\n",
              "      fill: #FFFFFF;\n",
              "    }\n",
              "  </style>\n",
              "\n",
              "      <script>\n",
              "        const buttonEl =\n",
              "          document.querySelector('#df-42b40865-20d0-4af1-a673-96b6a54de91c button.colab-df-convert');\n",
              "        buttonEl.style.display =\n",
              "          google.colab.kernel.accessAllowed ? 'block' : 'none';\n",
              "\n",
              "        async function convertToInteractive(key) {\n",
              "          const element = document.querySelector('#df-42b40865-20d0-4af1-a673-96b6a54de91c');\n",
              "          const dataTable =\n",
              "            await google.colab.kernel.invokeFunction('convertToInteractive',\n",
              "                                                     [key], {});\n",
              "          if (!dataTable) return;\n",
              "\n",
              "          const docLinkHtml = 'Like what you see? Visit the ' +\n",
              "            '<a target=\"_blank\" href=https://colab.research.google.com/notebooks/data_table.ipynb>data table notebook</a>'\n",
              "            + ' to learn more about interactive tables.';\n",
              "          element.innerHTML = '';\n",
              "          dataTable['output_type'] = 'display_data';\n",
              "          await google.colab.output.renderOutput(dataTable, element);\n",
              "          const docLink = document.createElement('div');\n",
              "          docLink.innerHTML = docLinkHtml;\n",
              "          element.appendChild(docLink);\n",
              "        }\n",
              "      </script>\n",
              "    </div>\n",
              "  </div>\n",
              "  "
            ]
          },
          "metadata": {},
          "execution_count": 8
        }
      ],
      "source": [
        "swat.describe()"
      ]
    },
    {
      "cell_type": "code",
      "execution_count": 9,
      "id": "bc0f9217-c09b-46b4-8b9d-143bc96265b8",
      "metadata": {
        "colab": {
          "base_uri": "https://localhost:8080/"
        },
        "id": "bc0f9217-c09b-46b4-8b9d-143bc96265b8",
        "outputId": "eeb61348-adb4-408d-c06e-8e6a9c4626ac"
      },
      "outputs": [
        {
          "output_type": "stream",
          "name": "stdout",
          "text": [
            "<class 'pandas.core.frame.DataFrame'>\n",
            "Int64Index: 946719 entries, 0 to 449918\n",
            "Data columns (total 53 columns):\n",
            " #   Column         Non-Null Count   Dtype  \n",
            "---  ------         --------------   -----  \n",
            " 0   Timestamp      946719 non-null  object \n",
            " 1   FIT101         946719 non-null  float64\n",
            " 2   LIT101         946719 non-null  float64\n",
            " 3   MV101          946719 non-null  int64  \n",
            " 4   P101           946719 non-null  int64  \n",
            " 5   P102           946719 non-null  int64  \n",
            " 6   AIT201         946719 non-null  float64\n",
            " 7   AIT202         946719 non-null  float64\n",
            " 8   AIT203         946719 non-null  float64\n",
            " 9   FIT201         946719 non-null  float64\n",
            " 10  MV201          946719 non-null  int64  \n",
            " 11  P201           946719 non-null  int64  \n",
            " 12  P202           946719 non-null  int64  \n",
            " 13  P203           946719 non-null  int64  \n",
            " 14  P204           946719 non-null  int64  \n",
            " 15  P205           946719 non-null  int64  \n",
            " 16  P206           946719 non-null  int64  \n",
            " 17  DPIT301        946719 non-null  float64\n",
            " 18  FIT301         946719 non-null  float64\n",
            " 19  LIT301         946719 non-null  float64\n",
            " 20  MV301          946719 non-null  int64  \n",
            " 21  MV302          946719 non-null  int64  \n",
            " 22  MV303          946719 non-null  int64  \n",
            " 23  MV304          946719 non-null  int64  \n",
            " 24  P301           946719 non-null  int64  \n",
            " 25  P302           946719 non-null  int64  \n",
            " 26  AIT401         946719 non-null  float64\n",
            " 27  AIT402         946719 non-null  float64\n",
            " 28  FIT401         946719 non-null  float64\n",
            " 29  LIT401         946719 non-null  float64\n",
            " 30  P401           946719 non-null  int64  \n",
            " 31  P402           946719 non-null  int64  \n",
            " 32  P403           946719 non-null  int64  \n",
            " 33  P404           946719 non-null  int64  \n",
            " 34  UV401          946719 non-null  int64  \n",
            " 35  AIT501         946719 non-null  float64\n",
            " 36  AIT502         946719 non-null  float64\n",
            " 37  AIT503         946719 non-null  float64\n",
            " 38  AIT504         946719 non-null  float64\n",
            " 39  FIT501         946719 non-null  float64\n",
            " 40  FIT502         946719 non-null  float64\n",
            " 41  FIT503         946719 non-null  float64\n",
            " 42  FIT504         946719 non-null  float64\n",
            " 43  P501           946719 non-null  int64  \n",
            " 44  P502           946719 non-null  int64  \n",
            " 45  PIT501         946719 non-null  float64\n",
            " 46  PIT502         946719 non-null  float64\n",
            " 47  PIT503         946719 non-null  float64\n",
            " 48  FIT601         946719 non-null  float64\n",
            " 49  P601           946719 non-null  int64  \n",
            " 50  P602           946719 non-null  int64  \n",
            " 51  P603           946719 non-null  int64  \n",
            " 52  Normal/Attack  946719 non-null  object \n",
            "dtypes: float64(25), int64(26), object(2)\n",
            "memory usage: 390.0+ MB\n"
          ]
        }
      ],
      "source": [
        "swat.info()"
      ]
    },
    {
      "cell_type": "code",
      "execution_count": 10,
      "id": "1c4bd97f-3f1b-41f7-8302-8720e9807bc7",
      "metadata": {
        "colab": {
          "base_uri": "https://localhost:8080/"
        },
        "id": "1c4bd97f-3f1b-41f7-8302-8720e9807bc7",
        "outputId": "a2bdae33-6040-41b5-80d8-1db58742e828"
      },
      "outputs": [
        {
          "output_type": "execute_result",
          "data": {
            "text/plain": [
              "(946719, 53)"
            ]
          },
          "metadata": {},
          "execution_count": 10
        }
      ],
      "source": [
        "swat.shape"
      ]
    },
    {
      "cell_type": "code",
      "execution_count": 11,
      "id": "bd4a6c36-cc46-40c4-a243-f9f4edb22844",
      "metadata": {
        "colab": {
          "base_uri": "https://localhost:8080/",
          "height": 295
        },
        "id": "bd4a6c36-cc46-40c4-a243-f9f4edb22844",
        "outputId": "ee77a449-7639-42c8-8d15-30a900c8df9c"
      },
      "outputs": [
        {
          "output_type": "display_data",
          "data": {
            "text/plain": [
              "<Figure size 432x288 with 1 Axes>"
            ],
            "image/png": "[encoded data removed]"
          },
          "metadata": {
            "needs_background": "light"
          }
        }
      ],
      "source": [
        "plt.plot(swat.index[:50000],swat[\"LIT101\"][:50000], label='LIT101')\n",
        "plt.xlabel(\"Time (s)\")\n",
        "plt.title(\"LIT101\")\n",
        "# plt.axvline(16000,c=\"r\")\n",
        "plt.show()"
      ]
    },
    {
      "cell_type": "code",
      "execution_count": 12,
      "id": "00c94ea2-7272-4c6a-82a5-cca6f7bd8305",
      "metadata": {
        "id": "00c94ea2-7272-4c6a-82a5-cca6f7bd8305"
      },
      "outputs": [],
      "source": [
        "swat[\"Normal/Attack\"].replace(' ', '', regex=True, inplace=True)"
      ]
    },
    {
      "cell_type": "code",
      "execution_count": 13,
      "id": "807d9059-e305-4818-b7a1-0e8d10fd67ad",
      "metadata": {
        "colab": {
          "base_uri": "https://localhost:8080/"
        },
        "id": "807d9059-e305-4818-b7a1-0e8d10fd67ad",
        "outputId": "238ac361-772f-4907-87b1-645536dcbd93"
      },
      "outputs": [
        {
          "output_type": "stream",
          "name": "stderr",
          "text": [
            "/usr/local/lib/python3.7/dist-packages/torchvision/io/image.py:13: UserWarning: Failed to load image Python extension: libtorch_cuda_cu.so: cannot open shared object file: No such file or directory\n",
            "  warn(f\"Failed to load image Python extension: {e}\")\n"
          ]
        }
      ],
      "source": [
        "#import libary for preprocessing data\n",
        "from tqdm.notebook import tqdm\n",
        "import pytorch_lightning as pl\n",
        "from sklearn.preprocessing import StandardScaler\n",
        "from sklearn.preprocessing import LabelEncoder\n",
        "from sklearn.model_selection import train_test_split\n",
        "\n",
        "import torch\n",
        "import torch.autograd as autograd\n",
        "import torch.nn as nn\n",
        "import torch.nn.functional as F\n",
        "import torch.optim as optim\n",
        "from torch.utils.data import Dataset, DataLoader\n",
        "\n",
        "from multiprocessing import cpu_count\n",
        "from pytorch_lightning.loggers import TensorBoardLogger\n",
        "from pytorch_lightning.callbacks import ModelCheckpoint, EarlyStopping\n",
        "from torchmetrics.functional import accuracy\n",
        "from sklearn.metrics import classification_report, confusion_matrix\n"
      ]
    },
    {
      "cell_type": "code",
      "execution_count": 14,
      "id": "64e7390f-d1f5-400a-b846-7d2a341cc30a",
      "metadata": {
        "id": "64e7390f-d1f5-400a-b846-7d2a341cc30a"
      },
      "outputs": [],
      "source": [
        "%matplotlib inline\n",
        "%config InlineBackend.figure_format= 'retina'\n",
        "\n",
        "tqdm.pandas()"
      ]
    },
    {
      "cell_type": "code",
      "execution_count": 15,
      "id": "46f169a4-aa2e-4073-a5da-e36a638fa797",
      "metadata": {
        "colab": {
          "base_uri": "https://localhost:8080/"
        },
        "id": "46f169a4-aa2e-4073-a5da-e36a638fa797",
        "outputId": "0e067d46-2019-414c-9278-093b8a948876"
      },
      "outputs": [
        {
          "output_type": "stream",
          "name": "stderr",
          "text": [
            "Global seed set to 44\n"
          ]
        },
        {
          "output_type": "execute_result",
          "data": {
            "text/plain": [
              "44"
            ]
          },
          "metadata": {},
          "execution_count": 15
        }
      ],
      "source": [
        "#set random seed\n",
        "pl.seed_everything(44)"
      ]
    },
    {
      "cell_type": "code",
      "execution_count": 16,
      "id": "44a6b7b0-08f3-4fdc-8a2f-ad3b6fc05579",
      "metadata": {
        "id": "44a6b7b0-08f3-4fdc-8a2f-ad3b6fc05579"
      },
      "outputs": [],
      "source": [
        "x = swat.drop(columns=\"Normal/Attack\")\n",
        "y = swat.drop(np.arange(16000))[\"Normal/Attack\"]"
      ]
    },
    {
      "cell_type": "code",
      "execution_count": 17,
      "id": "216341aa-2725-464e-8144-2fd536b19783",
      "metadata": {
        "colab": {
          "base_uri": "https://localhost:8080/",
          "height": 309
        },
        "id": "216341aa-2725-464e-8144-2fd536b19783",
        "outputId": "59fbb7ff-db0a-4822-ba37-a9649c766fc6"
      },
      "outputs": [
        {
          "output_type": "execute_result",
          "data": {
            "text/plain": [
              "<matplotlib.axes._subplots.AxesSubplot at 0x7f60ec8a4f90>"
            ]
          },
          "metadata": {},
          "execution_count": 17
        },
        {
          "output_type": "display_data",
          "data": {
            "text/plain": [
              "<Figure size 432x288 with 1 Axes>"
            ],
            "image/png": "[encoded data removed]"
          },
          "metadata": {
            "image/png": {
              "width": 394,
              "height": 275
            },
            "needs_background": "light"
          }
        }
      ],
      "source": [
        "y.value_counts().plot(kind = \"bar\")"
      ]
    },
    {
      "cell_type": "code",
      "execution_count": 18,
      "id": "39da8b0c-5de0-48b0-b7ba-4c2fe0659327",
      "metadata": {
        "id": "39da8b0c-5de0-48b0-b7ba-4c2fe0659327"
      },
      "outputs": [],
      "source": [
        "label_encoder = LabelEncoder()\n",
        "encoded = label_encoder.fit_transform(y) \n",
        "y = pd.DataFrame(\n",
        "    encoded,\n",
        "    index = y.index,\n",
        "    columns= [\"label\"]\n",
        ")"
      ]
    },
    {
      "cell_type": "code",
      "execution_count": 19,
      "id": "47cc16ac-9d7d-4353-b9d5-cf93d22d17e4",
      "metadata": {
        "colab": {
          "base_uri": "https://localhost:8080/"
        },
        "id": "47cc16ac-9d7d-4353-b9d5-cf93d22d17e4",
        "outputId": "604efc57-2fc3-46e2-fe17-77d6b72be6f9"
      },
      "outputs": [
        {
          "output_type": "execute_result",
          "data": {
            "text/plain": [
              "array(['Attack', 'Normal'], dtype=object)"
            ]
          },
          "metadata": {},
          "execution_count": 19
        }
      ],
      "source": [
        "label_encoder.classes_ # normal 1, attack 0"
      ]
    },
    {
      "cell_type": "code",
      "execution_count": 20,
      "id": "f66d1ab9-8582-4d67-9c8a-c76845c08542",
      "metadata": {
        "id": "f66d1ab9-8582-4d67-9c8a-c76845c08542"
      },
      "outputs": [],
      "source": [
        "# drop unsteady state operation\n",
        "x.drop(np.arange(16000),inplace=True)"
      ]
    },
    {
      "cell_type": "code",
      "execution_count": 21,
      "id": "9b131971-32e0-46df-ab34-9aba80868381",
      "metadata": {
        "id": "9b131971-32e0-46df-ab34-9aba80868381"
      },
      "outputs": [],
      "source": [
        "x.drop(columns=\"Timestamp\",inplace=True)"
      ]
    },
    {
      "cell_type": "code",
      "execution_count": 22,
      "id": "34ca9ad8-0f02-4764-b864-1b7e9f9fc56d",
      "metadata": {
        "id": "34ca9ad8-0f02-4764-b864-1b7e9f9fc56d"
      },
      "outputs": [],
      "source": [
        "#normalise data\n",
        "scaler = StandardScaler()\n",
        "scaler = scaler.fit(x)"
      ]
    },
    {
      "cell_type": "code",
      "execution_count": 23,
      "id": "574bbe23-9e71-4079-9b3d-a91b353a5364",
      "metadata": {
        "id": "574bbe23-9e71-4079-9b3d-a91b353a5364"
      },
      "outputs": [],
      "source": [
        "x_scale = pd.DataFrame(\n",
        "    scaler.transform(x),\n",
        "    index = x.index,\n",
        "    columns= x.columns\n",
        ")"
      ]
    },
    {
      "cell_type": "code",
      "execution_count": 24,
      "id": "e973e5e8-ae66-477b-923b-960cc5ff482f",
      "metadata": {
        "id": "e973e5e8-ae66-477b-923b-960cc5ff482f"
      },
      "outputs": [],
      "source": [
        "#convert to sequence\n",
        "def sequences(input_data: pd.DataFrame, target_data: pd.DataFrame, sequence_length):\n",
        "    seqs = []\n",
        "    data_size = len(input_data)\n",
        "    \n",
        "    for i in tqdm(range(data_size - sequence_length)):\n",
        "        \n",
        "        seq = input_data[i: i+sequence_length]\n",
        "        \n",
        "        label_position = i+sequence_length\n",
        "        \n",
        "        label = target_data.iloc[label_position]\n",
        "        \n",
        "        seqs.append((seq,label))\n",
        "        \n",
        "    return seqs"
      ]
    },
    {
      "cell_type": "code",
      "execution_count": 25,
      "id": "14d5e372-6765-494c-ade1-1b9943564635",
      "metadata": {
        "colab": {
          "base_uri": "https://localhost:8080/",
          "height": 49,
          "referenced_widgets": [
            "6e88301642ed4abd93f57502ff274c88",
            "7db280f2374343a08f045d647e3a9a2e",
            "8cfb42f7cfa242929a8a2eeef7ce219e",
            "80401aae30b943acbe978d9c4ed0638c",
            "09c796f73c204061bee7cb9aaa6e0ca0",
            "553d154d57504e66afe0778113c472ef",
            "1d783c06115a429fb6d227550a048c90",
            "4077395006fb403bb7ed3e25a82fabe8",
            "22e76a6a326a4a669f1206ea9d31bd91",
            "3dd40fa7c0034ca6865f5557782dbeed",
            "559ab7825fa049a1a0f6cf9cc62ea962"
          ]
        },
        "id": "14d5e372-6765-494c-ade1-1b9943564635",
        "outputId": "3d38cc22-1a20-4f1f-d40b-6d4278a12005"
      },
      "outputs": [
        {
          "output_type": "display_data",
          "data": {
            "text/plain": [
              "  0%|          | 0/914619 [00:00<?, ?it/s]"
            ],
            "application/vnd.jupyter.widget-view+json": {
              "version_major": 2,
              "version_minor": 0,
              "model_id": "6e88301642ed4abd93f57502ff274c88"
            }
          },
          "metadata": {}
        }
      ],
      "source": [
        "sequence_length = 100\n",
        "\n",
        "x_seq = sequences(x,y,sequence_length)"
      ]
    },
    {
      "cell_type": "code",
      "execution_count": 26,
      "id": "52fca7d5-efba-40b8-bf75-69536fab38fd",
      "metadata": {
        "colab": {
          "base_uri": "https://localhost:8080/"
        },
        "id": "52fca7d5-efba-40b8-bf75-69536fab38fd",
        "outputId": "fe0e5ced-023b-4b43-c191-f86feafd5631"
      },
      "outputs": [
        {
          "output_type": "execute_result",
          "data": {
            "text/plain": [
              "(914619, (914719, 51))"
            ]
          },
          "metadata": {},
          "execution_count": 26
        }
      ],
      "source": [
        "len(x_seq), x.shape"
      ]
    },
    {
      "cell_type": "code",
      "execution_count": 27,
      "id": "87007718-4313-49f5-8360-cd80c02d4441",
      "metadata": {
        "colab": {
          "base_uri": "https://localhost:8080/"
        },
        "id": "87007718-4313-49f5-8360-cd80c02d4441",
        "outputId": "418cc6cd-37e0-441a-ff96-828e57aa64a9"
      },
      "outputs": [
        {
          "output_type": "execute_result",
          "data": {
            "text/plain": [
              "(       FIT101    LIT101  MV101  P101  P102    AIT201    AIT202    AIT203  \\\n",
              " 16000     0.0  720.0919      1     2     1  262.3366  8.380415  457.3955   \n",
              " 16001     0.0  719.5815      1     2     1  262.3366  8.380415  457.3955   \n",
              " 16002     0.0  719.3853      1     2     1  262.3366  8.380415  457.3443   \n",
              " 16003     0.0  718.4040      1     2     1  262.3366  8.380415  457.1905   \n",
              " 16004     0.0  717.4227      1     2     1  262.3366  8.380415  457.1392   \n",
              " ...       ...       ...    ...   ...   ...       ...       ...       ...   \n",
              " 16095     0.0  672.5175      1     2     1  262.3366  8.382017  451.8841   \n",
              " 16096     0.0  671.7717      1     2     1  262.3366  8.382017  451.8841   \n",
              " 16097     0.0  671.5362      1     2     1  262.3366  8.382017  451.8841   \n",
              " 16098     0.0  671.5362      1     2     1  262.3366  8.382017  451.8841   \n",
              " 16099     0.0  670.9474      1     2     1  262.3366  8.382017  451.8841   \n",
              " \n",
              "          FIT201  MV201  ...    FIT504  P501  P502    PIT501    PIT502  \\\n",
              " 16000  2.476789      2  ...  0.308362     2     1  253.5568  1.249479   \n",
              " 16001  2.476789      2  ...  0.308362     2     1  253.5568  1.249479   \n",
              " 16002  2.476789      2  ...  0.308362     2     1  253.5568  1.249479   \n",
              " 16003  2.477045      2  ...  0.310540     2     1  253.5568  1.249479   \n",
              " 16004  2.477686      2  ...  0.309900     2     1  253.5888  1.249479   \n",
              " ...         ...    ...  ...       ...   ...   ...       ...       ...   \n",
              " 16095  2.471278      2  ...  0.308362     2     1  253.6689  1.329574   \n",
              " 16096  2.471278      2  ...  0.310092     2     1  253.6689  1.329574   \n",
              " 16097  2.471022      2  ...  0.310092     2     1  253.6689  1.249479   \n",
              " 16098  2.471022      2  ...  0.310092     2     1  253.6689  1.249479   \n",
              " 16099  2.470894      2  ...  0.309003     2     1  253.6689  1.249479   \n",
              " \n",
              "          PIT503    FIT601  P601  P602  P603  \n",
              " 16000  192.7871  0.000128     1     1     1  \n",
              " 16001  192.7871  0.000128     1     1     1  \n",
              " 16002  192.7230  0.000128     1     1     1  \n",
              " 16003  192.7230  0.000128     1     1     1  \n",
              " 16004  192.7230  0.000128     1     1     1  \n",
              " ...         ...       ...   ...   ...   ...  \n",
              " 16095  192.7230  0.000128     1     1     1  \n",
              " 16096  192.7230  0.000128     1     1     1  \n",
              " 16097  192.7230  0.000128     1     1     1  \n",
              " 16098  192.7230  0.000128     1     1     1  \n",
              " 16099  192.7230  0.000128     1     1     1  \n",
              " \n",
              " [100 rows x 51 columns], label    1\n",
              " Name: 16100, dtype: int64)"
            ]
          },
          "metadata": {},
          "execution_count": 27
        }
      ],
      "source": [
        "x_seq[0]"
      ]
    },
    {
      "cell_type": "code",
      "execution_count": 28,
      "id": "1afbeafc-96db-4f68-9e43-82cadba711ea",
      "metadata": {
        "id": "1afbeafc-96db-4f68-9e43-82cadba711ea"
      },
      "outputs": [],
      "source": [
        "#split train/test\n",
        "train_seq,test_seq = train_test_split(x_seq,test_size=0.2)"
      ]
    },
    {
      "cell_type": "code",
      "execution_count": 29,
      "id": "bb763c76-0758-49f6-8a77-cba77119c29c",
      "metadata": {
        "colab": {
          "base_uri": "https://localhost:8080/"
        },
        "id": "bb763c76-0758-49f6-8a77-cba77119c29c",
        "outputId": "d4a31a92-129d-4609-dcd7-1c63835113f2"
      },
      "outputs": [
        {
          "output_type": "execute_result",
          "data": {
            "text/plain": [
              "(731695, 182924)"
            ]
          },
          "metadata": {},
          "execution_count": 29
        }
      ],
      "source": [
        "len(train_seq), len(test_seq)"
      ]
    },
    {
      "cell_type": "markdown",
      "id": "3faa044b-b6b2-4b02-af6d-6cf3f3fd7880",
      "metadata": {
        "id": "3faa044b-b6b2-4b02-af6d-6cf3f3fd7880"
      },
      "source": [
        "## PyTorch Dataset"
      ]
    },
    {
      "cell_type": "code",
      "execution_count": 30,
      "id": "503b9e03-cf15-40b7-833b-0a4429b1c9db",
      "metadata": {
        "id": "503b9e03-cf15-40b7-833b-0a4429b1c9db"
      },
      "outputs": [],
      "source": [
        "class SWaTDataset(Dataset):\n",
        "    \n",
        "    def __init__(self, sequences):\n",
        "        self.sequences = sequences\n",
        "    \n",
        "    def __len__(self):\n",
        "        return len(self.sequences)\n",
        "    \n",
        "    def __getitem__(self,idx):\n",
        "        sequences, label = self.sequences[idx]\n",
        "        return dict(\n",
        "        sequences = torch.Tensor(sequences.to_numpy()),\n",
        "            label = torch.tensor(label).float()\n",
        "        )"
      ]
    },
    {
      "cell_type": "code",
      "execution_count": 31,
      "id": "3c0c04c6-2634-461a-90e3-abad2a1ffd30",
      "metadata": {
        "id": "3c0c04c6-2634-461a-90e3-abad2a1ffd30"
      },
      "outputs": [],
      "source": [
        "class SWaTDataModule(pl.LightningDataModule):\n",
        "    \n",
        "    def __init__(self,train_seq,test_seq,batch_size):\n",
        "        super().__init__()\n",
        "        self.train_seq = train_seq\n",
        "        self.test_seq = test_seq\n",
        "        self.batch_size = batch_size\n",
        "        \n",
        "    def setup(self,stage = None):\n",
        "        self.train_dataset = SWaTDataset(self.train_seq)\n",
        "        self.test_dataset = SWaTDataset(self.test_seq)\n",
        "        \n",
        "    def train_dataloader(self):\n",
        "        return DataLoader(\n",
        "            self.train_dataset,\n",
        "            batch_size=self.batch_size,\n",
        "            shuffle=False,\n",
        "            num_workers=cpu_count()\n",
        "        )\n",
        "    \n",
        "    def val_dataloader(self):\n",
        "        return DataLoader(\n",
        "            self.test_dataset,\n",
        "            batch_size=self.batch_size,\n",
        "            shuffle=False,\n",
        "            num_workers=cpu_count()\n",
        "        )\n",
        "    \n",
        "    def test_dataloader(self):\n",
        "        return DataLoader(\n",
        "            self.test_dataset,\n",
        "            batch_size=self.batch_size,\n",
        "            shuffle=False,\n",
        "            num_workers=cpu_count()\n",
        "        )  "
      ]
    },
    {
      "cell_type": "markdown",
      "id": "6599106d-da12-426f-8a7b-962ac88fa8ae",
      "metadata": {
        "id": "6599106d-da12-426f-8a7b-962ac88fa8ae"
      },
      "source": [
        "## build LSTM model"
      ]
    },
    {
      "cell_type": "code",
      "execution_count": 32,
      "id": "814109fc-671d-46db-9a85-cd075b0cfd5e",
      "metadata": {
        "id": "814109fc-671d-46db-9a85-cd075b0cfd5e"
      },
      "outputs": [],
      "source": [
        "n_epochs = 100\n",
        "batch_size = 64\n",
        "\n",
        "\n",
        "data_module = SWaTDataModule(train_seq,test_seq,batch_size)"
      ]
    },
    {
      "cell_type": "code",
      "execution_count": 33,
      "id": "90a014d4-c070-4b3b-9f46-80717cb94108",
      "metadata": {
        "id": "90a014d4-c070-4b3b-9f46-80717cb94108"
      },
      "outputs": [],
      "source": [
        "class LSTMModel(nn.Module):\n",
        "    \n",
        "    def __init__(self,n_features,n_classes,n_hidden=128,n_layers=3):\n",
        "        super().__init__()\n",
        "        \n",
        "        self.n_hidden = n_hidden\n",
        "        \n",
        "        self.lstm = nn.LSTM(input_size = n_features, hidden_size = n_hidden,\n",
        "                            num_layers = n_layers, batch_first = True, \n",
        "                            dropout = 0.75)\n",
        "        \n",
        "        self.classifier = nn.Linear(n_hidden, n_classes)\n",
        "        \n",
        "    def forward(self,x):\n",
        "        self.lstm.flatten_parameters()\n",
        "        \n",
        "        _,(hidden, _) = self.lstm(x)\n",
        "        \n",
        "        out = hidden[-1]\n",
        "\n",
        "        out = self.classifier(out)\n",
        "        \n",
        "        return out"
      ]
    },
    {
      "cell_type": "code",
      "execution_count": 34,
      "id": "afaeaf46-2aef-47e9-aec9-bc6e9dbfe15d",
      "metadata": {
        "id": "afaeaf46-2aef-47e9-aec9-bc6e9dbfe15d"
      },
      "outputs": [],
      "source": [
        "class SWaTPredictor(pl.LightningModule):\n",
        "    \n",
        "    def __init__(self, n_features:int, n_classes:int):\n",
        "        super().__init__()\n",
        "        self.model = LSTMModel(n_features,n_classes)\n",
        "        self.criterion = nn.CrossEntropyLoss()\n",
        "        \n",
        "    def forward(self,x,label=None):\n",
        "        output = self.model(x)\n",
        "        loss = 0\n",
        "        \n",
        "        if label is not None:\n",
        "            loss = self.criterion(output, torch.max(label, 1)[1])\n",
        "        return loss, output\n",
        "    \n",
        "    def training_step(self, batch, batch_idx):\n",
        "        sequences = batch[\"sequences\"]\n",
        "        labels = batch[\"label\"]\n",
        "        loss, outputs = self(sequences,labels)\n",
        "        predictions = torch.argmax(outputs, dim=1)\n",
        "        step_accuracy = accuracy(predictions,torch.tensor(labels).int())\n",
        "        \n",
        "        self.log(\"train_loss\", loss, prog_bar = True, logger=True)\n",
        "        self.log(\"train_accuracy\",step_accuracy, prog_bar = True, logger = True)\n",
        "        return {\"loss\":loss, \"accuracy\": step_accuracy}\n",
        "    \n",
        "    def test_step(self, batch, batch_idx):\n",
        "        sequences = batch[\"sequences\"]\n",
        "        labels = batch[\"label\"]\n",
        "        loss, outputs = self(sequences,labels)\n",
        "        predictions = torch.argmax(outputs, dim=1)\n",
        "        step_accuracy = accuracy(predictions,torch.tensor(labels).int())\n",
        "        \n",
        "        self.log(\"test_loss\", loss, prog_bar = True, logger=True)\n",
        "        self.log(\"test_accuracy\",step_accuracy, prog_bar = True, logger = True)\n",
        "        return {\"loss\":loss, \"accuracy\": step_accuracy}\n",
        "    \n",
        "    def configure_optimizers(self):\n",
        "        return optim.Adam(self.parameters(), lr= 0.0001)"
      ]
    },
    {
      "cell_type": "code",
      "execution_count": 35,
      "id": "76dccab8-47cf-480e-9795-15e01ba6ec06",
      "metadata": {
        "id": "76dccab8-47cf-480e-9795-15e01ba6ec06"
      },
      "outputs": [],
      "source": [
        "model = SWaTPredictor(\n",
        "    n_features= len(x_scale.columns),\n",
        "    n_classes= len(label_encoder.classes_))"
      ]
    },
    {
      "cell_type": "code",
      "execution_count": 36,
      "id": "b0c3b739-8fe7-4812-8f43-4e94602df1cc",
      "metadata": {
        "colab": {
          "base_uri": "https://localhost:8080/",
          "height": 838
        },
        "id": "b0c3b739-8fe7-4812-8f43-4e94602df1cc",
        "outputId": "9a1f10d8-1d51-4e39-8467-ffd0cb860d57"
      },
      "outputs": [
        {
          "output_type": "display_data",
          "data": {
            "text/plain": [
              "Reusing TensorBoard on port 6006 (pid 1276), started 1:49:21 ago. (Use '!kill 1276' to kill it.)"
            ]
          },
          "metadata": {}
        },
        {
          "output_type": "display_data",
          "data": {
            "text/plain": [
              "<IPython.core.display.Javascript object>"
            ],
            "application/javascript": [
              "\n",
              "        (async () => {\n",
              "            const url = new URL(await google.colab.kernel.proxyPort(6006, {'cache': true}));\n",
              "            url.searchParams.set('tensorboardColab', 'true');\n",
              "            const iframe = document.createElement('iframe');\n",
              "            iframe.src = url;\n",
              "            iframe.setAttribute('width', '100%');\n",
              "            iframe.setAttribute('height', '800');\n",
              "            iframe.setAttribute('frameborder', 0);\n",
              "            document.body.appendChild(iframe);\n",
              "        })();\n",
              "    "
            ]
          },
          "metadata": {}
        }
      ],
      "source": [
        "%reload_ext tensorboard\n",
        "%tensorboard --logdir ./lightning_logs"
      ]
    },
    {
      "cell_type": "code",
      "execution_count": 37,
      "id": "068b3c5a-e15d-46f4-ae17-bab9ce0f7cc7",
      "metadata": {
        "colab": {
          "base_uri": "https://localhost:8080/"
        },
        "id": "068b3c5a-e15d-46f4-ae17-bab9ce0f7cc7",
        "outputId": "ccd77c9f-817e-4a9d-978a-d5f756f33686"
      },
      "outputs": [
        {
          "output_type": "stream",
          "name": "stderr",
          "text": [
            "/usr/local/lib/python3.7/dist-packages/pytorch_lightning/trainer/connectors/accelerator_connector.py:440: LightningDeprecationWarning: Setting `Trainer(gpus=1)` is deprecated in v1.7 and will be removed in v2.0. Please use `Trainer(accelerator='gpu', devices=1)` instead.\n",
            "  f\"Setting `Trainer(gpus={gpus!r})` is deprecated in v1.7 and will be removed\"\n",
            "GPU available: True (cuda), used: True\n",
            "TPU available: False, using: 0 TPU cores\n",
            "IPU available: False, using: 0 IPUs\n",
            "HPU available: False, using: 0 HPUs\n"
          ]
        }
      ],
      "source": [
        "checkpoint_callback = ModelCheckpoint(\n",
        "    dirpath = \"checkpoints\",\n",
        "    filename = \"best-checkpoint\",\n",
        "    save_top_k =1,\n",
        "    verbose = True,\n",
        "    monitor = \"val_loss\",\n",
        "    mode = \"min\"\n",
        ")\n",
        "\n",
        "logger = TensorBoardLogger(\"lightning_logs\",name = \"swat\")\n",
        "\n",
        "trainer = pl.Trainer(logger= logger, \n",
        "                     callbacks = checkpoint_callback,\n",
        "                     max_epochs=n_epochs, \n",
        "                     gpus=1)\n",
        "                    #  progress_bar_refresh_rate=30)"
      ]
    },
    {
      "cell_type": "code",
      "execution_count": null,
      "id": "a18c7cba-7265-4be7-818e-636b4f6f47ba",
      "metadata": {
        "colab": {
          "base_uri": "https://localhost:8080/",
          "height": 329,
          "referenced_widgets": [
            "b78dad06d5ef43ed82f323642d8abe3f",
            "62edfcbe47be4366a0d9bb9cfc5e6083",
            "43acd300e4d24dea824c1831201b7aab",
            "cc55e19f03f042adacbe11be554d1da7",
            "2e5200e4c3a54e9d9439bd64633fb2ce",
            "97476793fa4440d8a9cffb1c0485ad28",
            "a1669ae3974d4037b95e07b332ae9351",
            "8819e358403446fab82815418f69bf7e",
            "e75614e4aab6465ca5d269a027a60748",
            "c2827e8195514137bb06198202a1f6ca",
            "e5d98af48b364c17bd63dae78485fd19"
          ]
        },
        "id": "a18c7cba-7265-4be7-818e-636b4f6f47ba",
        "outputId": "04ce998d-0a1c-4d4c-e457-a15c087612c7"
      },
      "outputs": [
        {
          "output_type": "stream",
          "name": "stderr",
          "text": [
            "/usr/local/lib/python3.7/dist-packages/pytorch_lightning/trainer/configuration_validator.py:117: UserWarning: You passed in a `val_dataloader` but have no `validation_step`. Skipping val loop.\n",
            "  rank_zero_warn(\"You passed in a `val_dataloader` but have no `validation_step`. Skipping val loop.\")\n",
            "Missing logger folder: lightning_logs/swat\n",
            "LOCAL_RANK: 0 - CUDA_VISIBLE_DEVICES: [0]\n",
            "\n",
            "  | Name      | Type             | Params\n",
            "-----------------------------------------------\n",
            "0 | model     | LSTMModel        | 357 K \n",
            "1 | criterion | CrossEntropyLoss | 0     \n",
            "-----------------------------------------------\n",
            "357 K     Trainable params\n",
            "0         Non-trainable params\n",
            "357 K     Total params\n",
            "1.428     Total estimated model params size (MB)\n"
          ]
        },
        {
          "output_type": "display_data",
          "data": {
            "text/plain": [
              "Training: 0it [00:00, ?it/s]"
            ],
            "application/vnd.jupyter.widget-view+json": {
              "version_major": 2,
              "version_minor": 0,
              "model_id": "b78dad06d5ef43ed82f323642d8abe3f"
            }
          },
          "metadata": {}
        },
        {
          "output_type": "stream",
          "name": "stderr",
          "text": [
            "/usr/local/lib/python3.7/dist-packages/ipykernel_launcher.py:21: UserWarning: To copy construct from a tensor, it is recommended to use sourceTensor.clone().detach() or sourceTensor.clone().detach().requires_grad_(True), rather than torch.tensor(sourceTensor).\n"
          ]
        }
      ],
      "source": [
        "trainer.fit(model, data_module)"
      ]
    },
    {
      "cell_type": "code",
      "execution_count": null,
      "id": "2cdf8de8-bf2d-4e2c-ac43-6a45a3b3e60d",
      "metadata": {
        "id": "2cdf8de8-bf2d-4e2c-ac43-6a45a3b3e60d"
      },
      "outputs": [],
      "source": [
        "trainer.test()"
      ]
    },
    {
      "cell_type": "markdown",
      "id": "f7636512-1e73-4be4-bd03-8b05370b4745",
      "metadata": {
        "id": "f7636512-1e73-4be4-bd03-8b05370b4745"
      },
      "source": [
        "## Prediction"
      ]
    },
    {
      "cell_type": "code",
      "execution_count": null,
      "id": "aa06bc63-939d-45bf-bdc4-21083c94ebfc",
      "metadata": {
        "id": "aa06bc63-939d-45bf-bdc4-21083c94ebfc"
      },
      "outputs": [],
      "source": [
        "train_model = SWaTPredictor.load_from_checkpoint(\n",
        "    trainer.checkpoint_callback.best_model_path,\n",
        "    n_features = len([x_scale.columns]),\n",
        "    n_classes= len(label_encoder.classes_))\n",
        "\n",
        "train_model.freeze()"
      ]
    },
    {
      "cell_type": "code",
      "execution_count": null,
      "id": "5f646fe0-0ea7-4a7a-92da-8331b62ebb3a",
      "metadata": {
        "id": "5f646fe0-0ea7-4a7a-92da-8331b62ebb3a"
      },
      "outputs": [],
      "source": [
        ""
      ]
    }
  ],
  "metadata": {
    "kernelspec": {
      "display_name": "Python 3",
      "name": "python3"
    },
    "language_info": {
      "name": "python"
    },
    "colab": {
      "name": "SWaT_LSTM.ipynb",
      "provenance": [],
      "include_colab_link": true
    },
    "accelerator": "GPU",
    "gpuClass": "standard",
    "widgets": {
      "application/vnd.jupyter.widget-state+json": {
        "6e88301642ed4abd93f57502ff274c88": {
          "model_module": "@jupyter-widgets/controls",
          "model_name": "HBoxModel",
          "model_module_version": "1.5.0",
          "state": {
            "_dom_classes": [],
            "_model_module": "@jupyter-widgets/controls",
            "_model_module_version": "1.5.0",
            "_model_name": "HBoxModel",
            "_view_count": null,
            "_view_module": "@jupyter-widgets/controls",
            "_view_module_version": "1.5.0",
            "_view_name": "HBoxView",
            "box_style": "",
            "children": [
              "IPY_MODEL_7db280f2374343a08f045d647e3a9a2e",
              "IPY_MODEL_8cfb42f7cfa242929a8a2eeef7ce219e",
              "IPY_MODEL_80401aae30b943acbe978d9c4ed0638c"
            ],
            "layout": "IPY_MODEL_09c796f73c204061bee7cb9aaa6e0ca0"
          }
        },
        "7db280f2374343a08f045d647e3a9a2e": {
          "model_module": "@jupyter-widgets/controls",
          "model_name": "HTMLModel",
          "model_module_version": "1.5.0",
          "state": {
            "_dom_classes": [],
            "_model_module": "@jupyter-widgets/controls",
            "_model_module_version": "1.5.0",
            "_model_name": "HTMLModel",
            "_view_count": null,
            "_view_module": "@jupyter-widgets/controls",
            "_view_module_version": "1.5.0",
            "_view_name": "HTMLView",
            "description": "",
            "description_tooltip": null,
            "layout": "IPY_MODEL_553d154d57504e66afe0778113c472ef",
            "placeholder": "​",
            "style": "IPY_MODEL_1d783c06115a429fb6d227550a048c90",
            "value": "100%"
          }
        },
        "8cfb42f7cfa242929a8a2eeef7ce219e": {
          "model_module": "@jupyter-widgets/controls",
          "model_name": "FloatProgressModel",
          "model_module_version": "1.5.0",
          "state": {
            "_dom_classes": [],
            "_model_module": "@jupyter-widgets/controls",
            "_model_module_version": "1.5.0",
            "_model_name": "FloatProgressModel",
            "_view_count": null,
            "_view_module": "@jupyter-widgets/controls",
            "_view_module_version": "1.5.0",
            "_view_name": "ProgressView",
            "bar_style": "success",
            "description": "",
            "description_tooltip": null,
            "layout": "IPY_MODEL_4077395006fb403bb7ed3e25a82fabe8",
            "max": 914619,
            "min": 0,
            "orientation": "horizontal",
            "style": "IPY_MODEL_22e76a6a326a4a669f1206ea9d31bd91",
            "value": 914619
          }
        },
        "80401aae30b943acbe978d9c4ed0638c": {
          "model_module": "@jupyter-widgets/controls",
          "model_name": "HTMLModel",
          "model_module_version": "1.5.0",
          "state": {
            "_dom_classes": [],
            "_model_module": "@jupyter-widgets/controls",
            "_model_module_version": "1.5.0",
            "_model_name": "HTMLModel",
            "_view_count": null,
            "_view_module": "@jupyter-widgets/controls",
            "_view_module_version": "1.5.0",
            "_view_name": "HTMLView",
            "description": "",
            "description_tooltip": null,
            "layout": "IPY_MODEL_3dd40fa7c0034ca6865f5557782dbeed",
            "placeholder": "​",
            "style": "IPY_MODEL_559ab7825fa049a1a0f6cf9cc62ea962",
            "value": " 914619/914619 [02:02&lt;00:00, 9670.81it/s]"
          }
        },
        "09c796f73c204061bee7cb9aaa6e0ca0": {
          "model_module": "@jupyter-widgets/base",
          "model_name": "LayoutModel",
          "model_module_version": "1.2.0",
          "state": {
            "_model_module": "@jupyter-widgets/base",
            "_model_module_version": "1.2.0",
            "_model_name": "LayoutModel",
            "_view_count": null,
            "_view_module": "@jupyter-widgets/base",
            "_view_module_version": "1.2.0",
            "_view_name": "LayoutView",
            "align_content": null,
            "align_items": null,
            "align_self": null,
            "border": null,
            "bottom": null,
            "display": null,
            "flex": null,
            "flex_flow": null,
            "grid_area": null,
            "grid_auto_columns": null,
            "grid_auto_flow": null,
            "grid_auto_rows": null,
            "grid_column": null,
            "grid_gap": null,
            "grid_row": null,
            "grid_template_areas": null,
            "grid_template_columns": null,
            "grid_template_rows": null,
            "height": null,
            "justify_content": null,
            "justify_items": null,
            "left": null,
            "margin": null,
            "max_height": null,
            "max_width": null,
            "min_height": null,
            "min_width": null,
            "object_fit": null,
            "object_position": null,
            "order": null,
            "overflow": null,
            "overflow_x": null,
            "overflow_y": null,
            "padding": null,
            "right": null,
            "top": null,
            "visibility": null,
            "width": null
          }
        },
        "553d154d57504e66afe0778113c472ef": {
          "model_module": "@jupyter-widgets/base",
          "model_name": "LayoutModel",
          "model_module_version": "1.2.0",
          "state": {
            "_model_module": "@jupyter-widgets/base",
            "_model_module_version": "1.2.0",
            "_model_name": "LayoutModel",
            "_view_count": null,
            "_view_module": "@jupyter-widgets/base",
            "_view_module_version": "1.2.0",
            "_view_name": "LayoutView",
            "align_content": null,
            "align_items": null,
            "align_self": null,
            "border": null,
            "bottom": null,
            "display": null,
            "flex": null,
            "flex_flow": null,
            "grid_area": null,
            "grid_auto_columns": null,
            "grid_auto_flow": null,
            "grid_auto_rows": null,
            "grid_column": null,
            "grid_gap": null,
            "grid_row": null,
            "grid_template_areas": null,
            "grid_template_columns": null,
            "grid_template_rows": null,
            "height": null,
            "justify_content": null,
            "justify_items": null,
            "left": null,
            "margin": null,
            "max_height": null,
            "max_width": null,
            "min_height": null,
            "min_width": null,
            "object_fit": null,
            "object_position": null,
            "order": null,
            "overflow": null,
            "overflow_x": null,
            "overflow_y": null,
            "padding": null,
            "right": null,
            "top": null,
            "visibility": null,
            "width": null
          }
        },
        "1d783c06115a429fb6d227550a048c90": {
          "model_module": "@jupyter-widgets/controls",
          "model_name": "DescriptionStyleModel",
          "model_module_version": "1.5.0",
          "state": {
            "_model_module": "@jupyter-widgets/controls",
            "_model_module_version": "1.5.0",
            "_model_name": "DescriptionStyleModel",
            "_view_count": null,
            "_view_module": "@jupyter-widgets/base",
            "_view_module_version": "1.2.0",
            "_view_name": "StyleView",
            "description_width": ""
          }
        },
        "4077395006fb403bb7ed3e25a82fabe8": {
          "model_module": "@jupyter-widgets/base",
          "model_name": "LayoutModel",
          "model_module_version": "1.2.0",
          "state": {
            "_model_module": "@jupyter-widgets/base",
            "_model_module_version": "1.2.0",
            "_model_name": "LayoutModel",
            "_view_count": null,
            "_view_module": "@jupyter-widgets/base",
            "_view_module_version": "1.2.0",
            "_view_name": "LayoutView",
            "align_content": null,
            "align_items": null,
            "align_self": null,
            "border": null,
            "bottom": null,
            "display": null,
            "flex": null,
            "flex_flow": null,
            "grid_area": null,
            "grid_auto_columns": null,
            "grid_auto_flow": null,
            "grid_auto_rows": null,
            "grid_column": null,
            "grid_gap": null,
            "grid_row": null,
            "grid_template_areas": null,
            "grid_template_columns": null,
            "grid_template_rows": null,
            "height": null,
            "justify_content": null,
            "justify_items": null,
            "left": null,
            "margin": null,
            "max_height": null,
            "max_width": null,
            "min_height": null,
            "min_width": null,
            "object_fit": null,
            "object_position": null,
            "order": null,
            "overflow": null,
            "overflow_x": null,
            "overflow_y": null,
            "padding": null,
            "right": null,
            "top": null,
            "visibility": null,
            "width": null
          }
        },
        "22e76a6a326a4a669f1206ea9d31bd91": {
          "model_module": "@jupyter-widgets/controls",
          "model_name": "ProgressStyleModel",
          "model_module_version": "1.5.0",
          "state": {
            "_model_module": "@jupyter-widgets/controls",
            "_model_module_version": "1.5.0",
            "_model_name": "ProgressStyleModel",
            "_view_count": null,
            "_view_module": "@jupyter-widgets/base",
            "_view_module_version": "1.2.0",
            "_view_name": "StyleView",
            "bar_color": null,
            "description_width": ""
          }
        },
        "3dd40fa7c0034ca6865f5557782dbeed": {
          "model_module": "@jupyter-widgets/base",
          "model_name": "LayoutModel",
          "model_module_version": "1.2.0",
          "state": {
            "_model_module": "@jupyter-widgets/base",
            "_model_module_version": "1.2.0",
            "_model_name": "LayoutModel",
            "_view_count": null,
            "_view_module": "@jupyter-widgets/base",
            "_view_module_version": "1.2.0",
            "_view_name": "LayoutView",
            "align_content": null,
            "align_items": null,
            "align_self": null,
            "border": null,
            "bottom": null,
            "display": null,
            "flex": null,
            "flex_flow": null,
            "grid_area": null,
            "grid_auto_columns": null,
            "grid_auto_flow": null,
            "grid_auto_rows": null,
            "grid_column": null,
            "grid_gap": null,
            "grid_row": null,
            "grid_template_areas": null,
            "grid_template_columns": null,
            "grid_template_rows": null,
            "height": null,
            "justify_content": null,
            "justify_items": null,
            "left": null,
            "margin": null,
            "max_height": null,
            "max_width": null,
            "min_height": null,
            "min_width": null,
            "object_fit": null,
            "object_position": null,
            "order": null,
            "overflow": null,
            "overflow_x": null,
            "overflow_y": null,
            "padding": null,
            "right": null,
            "top": null,
            "visibility": null,
            "width": null
          }
        },
        "559ab7825fa049a1a0f6cf9cc62ea962": {
          "model_module": "@jupyter-widgets/controls",
          "model_name": "DescriptionStyleModel",
          "model_module_version": "1.5.0",
          "state": {
            "_model_module": "@jupyter-widgets/controls",
            "_model_module_version": "1.5.0",
            "_model_name": "DescriptionStyleModel",
            "_view_count": null,
            "_view_module": "@jupyter-widgets/base",
            "_view_module_version": "1.2.0",
            "_view_name": "StyleView",
            "description_width": ""
          }
        },
        "b78dad06d5ef43ed82f323642d8abe3f": {
          "model_module": "@jupyter-widgets/controls",
          "model_name": "HBoxModel",
          "model_module_version": "1.5.0",
          "state": {
            "_dom_classes": [],
            "_model_module": "@jupyter-widgets/controls",
            "_model_module_version": "1.5.0",
            "_model_name": "HBoxModel",
            "_view_count": null,
            "_view_module": "@jupyter-widgets/controls",
            "_view_module_version": "1.5.0",
            "_view_name": "HBoxView",
            "box_style": "",
            "children": [
              "IPY_MODEL_62edfcbe47be4366a0d9bb9cfc5e6083",
              "IPY_MODEL_43acd300e4d24dea824c1831201b7aab",
              "IPY_MODEL_cc55e19f03f042adacbe11be554d1da7"
            ],
            "layout": "IPY_MODEL_2e5200e4c3a54e9d9439bd64633fb2ce"
          }
        },
        "62edfcbe47be4366a0d9bb9cfc5e6083": {
          "model_module": "@jupyter-widgets/controls",
          "model_name": "HTMLModel",
          "model_module_version": "1.5.0",
          "state": {
            "_dom_classes": [],
            "_model_module": "@jupyter-widgets/controls",
            "_model_module_version": "1.5.0",
            "_model_name": "HTMLModel",
            "_view_count": null,
            "_view_module": "@jupyter-widgets/controls",
            "_view_module_version": "1.5.0",
            "_view_name": "HTMLView",
            "description": "",
            "description_tooltip": null,
            "layout": "IPY_MODEL_97476793fa4440d8a9cffb1c0485ad28",
            "placeholder": "​",
            "style": "IPY_MODEL_a1669ae3974d4037b95e07b332ae9351",
            "value": "Epoch 0:   0%"
          }
        },
        "43acd300e4d24dea824c1831201b7aab": {
          "model_module": "@jupyter-widgets/controls",
          "model_name": "FloatProgressModel",
          "model_module_version": "1.5.0",
          "state": {
            "_dom_classes": [],
            "_model_module": "@jupyter-widgets/controls",
            "_model_module_version": "1.5.0",
            "_model_name": "FloatProgressModel",
            "_view_count": null,
            "_view_module": "@jupyter-widgets/controls",
            "_view_module_version": "1.5.0",
            "_view_name": "ProgressView",
            "bar_style": "",
            "description": "",
            "description_tooltip": null,
            "layout": "IPY_MODEL_8819e358403446fab82815418f69bf7e",
            "max": 11433,
            "min": 0,
            "orientation": "horizontal",
            "style": "IPY_MODEL_e75614e4aab6465ca5d269a027a60748",
            "value": 40
          }
        },
        "cc55e19f03f042adacbe11be554d1da7": {
          "model_module": "@jupyter-widgets/controls",
          "model_name": "HTMLModel",
          "model_module_version": "1.5.0",
          "state": {
            "_dom_classes": [],
            "_model_module": "@jupyter-widgets/controls",
            "_model_module_version": "1.5.0",
            "_model_name": "HTMLModel",
            "_view_count": null,
            "_view_module": "@jupyter-widgets/controls",
            "_view_module_version": "1.5.0",
            "_view_name": "HTMLView",
            "description": "",
            "description_tooltip": null,
            "layout": "IPY_MODEL_c2827e8195514137bb06198202a1f6ca",
            "placeholder": "​",
            "style": "IPY_MODEL_e5d98af48b364c17bd63dae78485fd19",
            "value": " 40/11433 [00:01&lt;08:42, 21.80it/s, loss=0.526, v_num=0, train_loss=0.424, train_accuracy=0.0469]"
          }
        },
        "2e5200e4c3a54e9d9439bd64633fb2ce": {
          "model_module": "@jupyter-widgets/base",
          "model_name": "LayoutModel",
          "model_module_version": "1.2.0",
          "state": {
            "_model_module": "@jupyter-widgets/base",
            "_model_module_version": "1.2.0",
            "_model_name": "LayoutModel",
            "_view_count": null,
            "_view_module": "@jupyter-widgets/base",
            "_view_module_version": "1.2.0",
            "_view_name": "LayoutView",
            "align_content": null,
            "align_items": null,
            "align_self": null,
            "border": null,
            "bottom": null,
            "display": "inline-flex",
            "flex": null,
            "flex_flow": "row wrap",
            "grid_area": null,
            "grid_auto_columns": null,
            "grid_auto_flow": null,
            "grid_auto_rows": null,
            "grid_column": null,
            "grid_gap": null,
            "grid_row": null,
            "grid_template_areas": null,
            "grid_template_columns": null,
            "grid_template_rows": null,
            "height": null,
            "justify_content": null,
            "justify_items": null,
            "left": null,
            "margin": null,
            "max_height": null,
            "max_width": null,
            "min_height": null,
            "min_width": null,
            "object_fit": null,
            "object_position": null,
            "order": null,
            "overflow": null,
            "overflow_x": null,
            "overflow_y": null,
            "padding": null,
            "right": null,
            "top": null,
            "visibility": null,
            "width": "100%"
          }
        },
        "97476793fa4440d8a9cffb1c0485ad28": {
          "model_module": "@jupyter-widgets/base",
          "model_name": "LayoutModel",
          "model_module_version": "1.2.0",
          "state": {
            "_model_module": "@jupyter-widgets/base",
            "_model_module_version": "1.2.0",
            "_model_name": "LayoutModel",
            "_view_count": null,
            "_view_module": "@jupyter-widgets/base",
            "_view_module_version": "1.2.0",
            "_view_name": "LayoutView",
            "align_content": null,
            "align_items": null,
            "align_self": null,
            "border": null,
            "bottom": null,
            "display": null,
            "flex": null,
            "flex_flow": null,
            "grid_area": null,
            "grid_auto_columns": null,
            "grid_auto_flow": null,
            "grid_auto_rows": null,
            "grid_column": null,
            "grid_gap": null,
            "grid_row": null,
            "grid_template_areas": null,
            "grid_template_columns": null,
            "grid_template_rows": null,
            "height": null,
            "justify_content": null,
            "justify_items": null,
            "left": null,
            "margin": null,
            "max_height": null,
            "max_width": null,
            "min_height": null,
            "min_width": null,
            "object_fit": null,
            "object_position": null,
            "order": null,
            "overflow": null,
            "overflow_x": null,
            "overflow_y": null,
            "padding": null,
            "right": null,
            "top": null,
            "visibility": null,
            "width": null
          }
        },
        "a1669ae3974d4037b95e07b332ae9351": {
          "model_module": "@jupyter-widgets/controls",
          "model_name": "DescriptionStyleModel",
          "model_module_version": "1.5.0",
          "state": {
            "_model_module": "@jupyter-widgets/controls",
            "_model_module_version": "1.5.0",
            "_model_name": "DescriptionStyleModel",
            "_view_count": null,
            "_view_module": "@jupyter-widgets/base",
            "_view_module_version": "1.2.0",
            "_view_name": "StyleView",
            "description_width": ""
          }
        },
        "8819e358403446fab82815418f69bf7e": {
          "model_module": "@jupyter-widgets/base",
          "model_name": "LayoutModel",
          "model_module_version": "1.2.0",
          "state": {
            "_model_module": "@jupyter-widgets/base",
            "_model_module_version": "1.2.0",
            "_model_name": "LayoutModel",
            "_view_count": null,
            "_view_module": "@jupyter-widgets/base",
            "_view_module_version": "1.2.0",
            "_view_name": "LayoutView",
            "align_content": null,
            "align_items": null,
            "align_self": null,
            "border": null,
            "bottom": null,
            "display": null,
            "flex": "2",
            "flex_flow": null,
            "grid_area": null,
            "grid_auto_columns": null,
            "grid_auto_flow": null,
            "grid_auto_rows": null,
            "grid_column": null,
            "grid_gap": null,
            "grid_row": null,
            "grid_template_areas": null,
            "grid_template_columns": null,
            "grid_template_rows": null,
            "height": null,
            "justify_content": null,
            "justify_items": null,
            "left": null,
            "margin": null,
            "max_height": null,
            "max_width": null,
            "min_height": null,
            "min_width": null,
            "object_fit": null,
            "object_position": null,
            "order": null,
            "overflow": null,
            "overflow_x": null,
            "overflow_y": null,
            "padding": null,
            "right": null,
            "top": null,
            "visibility": null,
            "width": null
          }
        },
        "e75614e4aab6465ca5d269a027a60748": {
          "model_module": "@jupyter-widgets/controls",
          "model_name": "ProgressStyleModel",
          "model_module_version": "1.5.0",
          "state": {
            "_model_module": "@jupyter-widgets/controls",
            "_model_module_version": "1.5.0",
            "_model_name": "ProgressStyleModel",
            "_view_count": null,
            "_view_module": "@jupyter-widgets/base",
            "_view_module_version": "1.2.0",
            "_view_name": "StyleView",
            "bar_color": null,
            "description_width": ""
          }
        },
        "c2827e8195514137bb06198202a1f6ca": {
          "model_module": "@jupyter-widgets/base",
          "model_name": "LayoutModel",
          "model_module_version": "1.2.0",
          "state": {
            "_model_module": "@jupyter-widgets/base",
            "_model_module_version": "1.2.0",
            "_model_name": "LayoutModel",
            "_view_count": null,
            "_view_module": "@jupyter-widgets/base",
            "_view_module_version": "1.2.0",
            "_view_name": "LayoutView",
            "align_content": null,
            "align_items": null,
            "align_self": null,
            "border": null,
            "bottom": null,
            "display": null,
            "flex": null,
            "flex_flow": null,
            "grid_area": null,
            "grid_auto_columns": null,
            "grid_auto_flow": null,
            "grid_auto_rows": null,
            "grid_column": null,
            "grid_gap": null,
            "grid_row": null,
            "grid_template_areas": null,
            "grid_template_columns": null,
            "grid_template_rows": null,
            "height": null,
            "justify_content": null,
            "justify_items": null,
            "left": null,
            "margin": null,
            "max_height": null,
            "max_width": null,
            "min_height": null,
            "min_width": null,
            "object_fit": null,
            "object_position": null,
            "order": null,
            "overflow": null,
            "overflow_x": null,
            "overflow_y": null,
            "padding": null,
            "right": null,
            "top": null,
            "visibility": null,
            "width": null
          }
        },
        "e5d98af48b364c17bd63dae78485fd19": {
          "model_module": "@jupyter-widgets/controls",
          "model_name": "DescriptionStyleModel",
          "model_module_version": "1.5.0",
          "state": {
            "_model_module": "@jupyter-widgets/controls",
            "_model_module_version": "1.5.0",
            "_model_name": "DescriptionStyleModel",
            "_view_count": null,
            "_view_module": "@jupyter-widgets/base",
            "_view_module_version": "1.2.0",
            "_view_name": "StyleView",
            "description_width": ""
          }
        }
      }
    }
  },
  "nbformat": 4,
  "nbformat_minor": 5
}