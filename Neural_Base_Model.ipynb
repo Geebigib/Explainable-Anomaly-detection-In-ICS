{
  "cells": [
    {
      "cell_type": "markdown",
      "metadata": {
        "id": "view-in-github",
        "colab_type": "text"
      },
      "source": [
        "<a href=\"https://colab.research.google.com/github/Geebigib/Data-Science-Project/blob/main/Neural_Base_Model.ipynb\" target=\"_parent\"><img src=\"https://colab.research.google.com/assets/colab-badge.svg\" alt=\"Open In Colab\"/></a>"
      ]
    },
    {
      "cell_type": "code",
      "execution_count": 1,
      "metadata": {
        "colab": {
          "base_uri": "https://localhost:8080/"
        },
        "id": "UzxFI3UZFMBJ",
        "outputId": "f2e74295-4d4f-4393-903d-0276d26e597f"
      },
      "outputs": [
        {
          "output_type": "stream",
          "name": "stdout",
          "text": [
            "Mounted at /content/drive\n"
          ]
        }
      ],
      "source": [
        "from google.colab import drive\n",
        "drive.mount('/content/drive')"
      ]
    },
    {
      "cell_type": "code",
      "execution_count": null,
      "metadata": {
        "id": "_Cl9RiEXdfTE"
      },
      "outputs": [],
      "source": [
        "!pip install pyod"
      ]
    },
    {
      "cell_type": "code",
      "execution_count": 3,
      "metadata": {
        "id": "od9i8uI0btzr",
        "colab": {
          "base_uri": "https://localhost:8080/"
        },
        "outputId": "055ded68-d455-4ade-a4c1-a118697e2f0e"
      },
      "outputs": [
        {
          "output_type": "stream",
          "name": "stdout",
          "text": [
            "Archive:  /content/drive/MyDrive/SWaT_Dataset_v0.zip\n",
            "  inflating: /content/SWaT_Dataset_Attack_v0.csv  \n",
            "  inflating: /content/SWaT_Dataset_Normal_v0.csv  \n"
          ]
        }
      ],
      "source": [
        "!unzip /content/drive/MyDrive/SWaT_Dataset_v0.zip -d /content/"
      ]
    },
    {
      "cell_type": "code",
      "execution_count": 4,
      "metadata": {
        "id": "ef09e9a3-bebc-407a-8492-838438b4e288"
      },
      "outputs": [],
      "source": [
        "import numpy as np\n",
        "import os\n",
        "import pandas as pd\n",
        "from glob import glob\n",
        "from sklearn.preprocessing import MinMaxScaler\n",
        "from collections import Counter\n",
        "import pickle\n",
        "import tqdm\n",
        "import matplotlib.pyplot as plt\n",
        "from sklearn import metrics\n",
        "import pyod\n",
        "import seaborn as sns"
      ]
    },
    {
      "cell_type": "markdown",
      "source": [
        "Data Pre-processing"
      ],
      "metadata": {
        "id": "kKdqmsEGblq4"
      }
    },
    {
      "cell_type": "code",
      "source": [
        "swat_normal = pd.read_csv(\"SWaT_Dataset_Normal_v0.csv\", skiprows=1)\n",
        "swat_attack = pd.read_csv(\"SWaT_Dataset_Attack_v0.csv\")"
      ],
      "metadata": {
        "id": "IO6QxPKoJq0H"
      },
      "execution_count": 5,
      "outputs": []
    },
    {
      "cell_type": "code",
      "execution_count": 6,
      "metadata": {
        "id": "ba1cbb77-2b06-4667-91df-75e8da68b68d"
      },
      "outputs": [],
      "source": [
        "swat_normal.columns = swat_normal.columns.str.replace(' ','')\n",
        "swat_attack.columns = swat_attack.columns.str.replace(' ','')"
      ]
    },
    {
      "cell_type": "code",
      "execution_count": 7,
      "metadata": {
        "id": "dk2m6eZ7fXPO"
      },
      "outputs": [],
      "source": [
        "swat_attack[\"Normal/Attack\"].replace(' ', '', regex=True, inplace=True)"
      ]
    },
    {
      "cell_type": "code",
      "execution_count": 8,
      "metadata": {
        "id": "NKJf4rvncNvR"
      },
      "outputs": [],
      "source": [
        "test_df = swat_attack.set_index('Timestamp')\n",
        "test_df['label'] = np.where(test_df['Normal/Attack'] == 'Attack', 1, 0)\n",
        "\n",
        "test_df = test_df.drop('Normal/Attack', axis=1)\n",
        "assert test_df.shape == (449919, 52)\n",
        "\n",
        "\n",
        "train_df = swat_normal.set_index('Timestamp')\n",
        "train_df['label'] = np.where(train_df['Normal/Attack'] == 'Attack', 1, 0)\n",
        "train_df = train_df.drop('Normal/Attack', axis=1)\n",
        "\n",
        "# following [Zhihan Li et al. KDD21] & [Dan Li. ICANN. 2019]\n",
        "# fow SWaT data, due to the cold start of the system, starting point is 21600\n",
        "train_df = train_df.iloc[21600:]\n"
      ]
    },
    {
      "cell_type": "code",
      "source": [
        "train_df.drop(columns = 'label',inplace = True)\n",
        "label = test_df['label'].values\n",
        "test_df.drop(columns = 'label',inplace = True)"
      ],
      "metadata": {
        "id": "IA0qJp-NQn_t"
      },
      "execution_count": 9,
      "outputs": []
    },
    {
      "cell_type": "code",
      "execution_count": 10,
      "metadata": {
        "id": "34ca9ad8-0f02-4764-b864-1b7e9f9fc56d"
      },
      "outputs": [],
      "source": [
        "#normalise data\n",
        "scaler = MinMaxScaler()\n",
        "scaler = scaler.fit(train_df)"
      ]
    },
    {
      "cell_type": "code",
      "execution_count": 11,
      "metadata": {
        "id": "574bbe23-9e71-4079-9b3d-a91b353a5364"
      },
      "outputs": [],
      "source": [
        "train_scale = pd.DataFrame(\n",
        "    scaler.transform(train_df),\n",
        "    index = train_df.index,\n",
        "    columns= train_df.columns\n",
        ")\n",
        "\n",
        "test_scale  = pd.DataFrame(\n",
        "    scaler.transform(test_df),\n",
        "    index = test_df.index,\n",
        "    columns= test_df.columns\n",
        ")"
      ]
    },
    {
      "cell_type": "code",
      "source": [
        "train_scale.shape ,test_scale.shape"
      ],
      "metadata": {
        "colab": {
          "base_uri": "https://localhost:8080/"
        },
        "id": "dlpVnPfNQpdk",
        "outputId": "021ce26b-f303-4bf8-e6a0-2b8991a96805"
      },
      "execution_count": 12,
      "outputs": [
        {
          "output_type": "execute_result",
          "data": {
            "text/plain": [
              "((475200, 51), (449919, 51))"
            ]
          },
          "metadata": {},
          "execution_count": 12
        }
      ]
    },
    {
      "cell_type": "markdown",
      "source": [
        "Model Prediction"
      ],
      "metadata": {
        "id": "Ci6PSqZjboNE"
      }
    },
    {
      "cell_type": "code",
      "source": [
        "from  pyod.models.deep_svdd import DeepSVDD\n",
        "model = DeepSVDD(preprocessing = False,epochs=20, batch_size=64 )\n",
        "model.fit(train_scale)"
      ],
      "metadata": {
        "id": "9SngcuRjuWHS",
        "colab": {
          "base_uri": "https://localhost:8080/"
        },
        "outputId": "fdf27c5a-f824-4f65-d455-ae422ac1706a"
      },
      "execution_count": 32,
      "outputs": [
        {
          "output_type": "stream",
          "name": "stdout",
          "text": [
            "Model: \"model_7\"\n",
            "_________________________________________________________________\n",
            " Layer (type)                Output Shape              Param #   \n",
            "=================================================================\n",
            " input_5 (InputLayer)        [(None, 51)]              0         \n",
            "                                                                 \n",
            " dense_4 (Dense)             (None, 64)                3264      \n",
            "                                                                 \n",
            " net_output (Dense)          (None, 32)                2048      \n",
            "                                                                 \n",
            " tf.math.subtract_4 (TFOpLam  (None, 32)               0         \n",
            " bda)                                                            \n",
            "                                                                 \n",
            " tf.math.pow_4 (TFOpLambda)  (None, 32)                0         \n",
            "                                                                 \n",
            " tf.math.reduce_sum_4 (TFOpL  (None,)                  0         \n",
            " ambda)                                                          \n",
            "                                                                 \n",
            " tf.math.reduce_mean_4 (TFOp  ()                       0         \n",
            " Lambda)                                                         \n",
            "                                                                 \n",
            " tf.__operators__.add_4 (TFO  ()                       0         \n",
            " pLambda)                                                        \n",
            "                                                                 \n",
            " add_loss_4 (AddLoss)        ()                        0         \n",
            "                                                                 \n",
            "=================================================================\n",
            "Total params: 5,312\n",
            "Trainable params: 5,312\n",
            "Non-trainable params: 0\n",
            "_________________________________________________________________\n",
            "None\n",
            "Epoch 1/20\n",
            "6683/6683 [==============================] - 17s 2ms/step - loss: 0.1500 - val_loss: 0.1312\n",
            "Epoch 2/20\n",
            "6683/6683 [==============================] - 17s 2ms/step - loss: 0.1308 - val_loss: 0.1303\n",
            "Epoch 3/20\n",
            "6683/6683 [==============================] - 14s 2ms/step - loss: 0.1303 - val_loss: 0.1320\n",
            "Epoch 4/20\n",
            "6683/6683 [==============================] - 14s 2ms/step - loss: 0.1302 - val_loss: 0.1299\n",
            "Epoch 5/20\n",
            "6683/6683 [==============================] - 14s 2ms/step - loss: 0.1301 - val_loss: 0.1297\n",
            "Epoch 6/20\n",
            "6683/6683 [==============================] - 14s 2ms/step - loss: 0.1300 - val_loss: 0.1305\n",
            "Epoch 7/20\n",
            "6683/6683 [==============================] - 14s 2ms/step - loss: 0.1300 - val_loss: 0.1296\n",
            "Epoch 8/20\n",
            "6683/6683 [==============================] - 17s 3ms/step - loss: 0.1299 - val_loss: 0.1298\n",
            "Epoch 9/20\n",
            "6683/6683 [==============================] - 16s 2ms/step - loss: 0.1300 - val_loss: 0.1295\n",
            "Epoch 10/20\n",
            "6683/6683 [==============================] - 14s 2ms/step - loss: 0.1299 - val_loss: 0.1299\n",
            "Epoch 11/20\n",
            "6683/6683 [==============================] - 14s 2ms/step - loss: 0.1299 - val_loss: 0.1302\n",
            "Epoch 12/20\n",
            "6683/6683 [==============================] - 14s 2ms/step - loss: 0.1299 - val_loss: 0.1295\n",
            "Epoch 13/20\n",
            "6683/6683 [==============================] - 14s 2ms/step - loss: 0.1299 - val_loss: 0.1297\n",
            "Epoch 14/20\n",
            "6683/6683 [==============================] - 14s 2ms/step - loss: 0.1298 - val_loss: 0.1298\n",
            "Epoch 15/20\n",
            "6683/6683 [==============================] - 15s 2ms/step - loss: 0.1299 - val_loss: 0.1309\n",
            "Epoch 16/20\n",
            "6683/6683 [==============================] - 14s 2ms/step - loss: 0.1299 - val_loss: 0.1298\n",
            "Epoch 17/20\n",
            "6683/6683 [==============================] - 14s 2ms/step - loss: 0.1299 - val_loss: 0.1296\n",
            "Epoch 18/20\n",
            "6683/6683 [==============================] - 18s 3ms/step - loss: 0.1299 - val_loss: 0.1299\n",
            "Epoch 19/20\n",
            "6683/6683 [==============================] - 14s 2ms/step - loss: 0.1299 - val_loss: 0.1303\n",
            "Epoch 20/20\n",
            "6683/6683 [==============================] - 14s 2ms/step - loss: 0.1299 - val_loss: 0.1340\n"
          ]
        },
        {
          "output_type": "execute_result",
          "data": {
            "text/plain": [
              "DeepSVDD(batch_size=64,\n",
              "     c=array([0.1    , 0.1    , 0.1    , 0.3138 , 0.1    , 0.33348, 0.1    ,\n",
              "       0.1    , 0.1    , 0.1    , 0.42013, 0.11639, 0.1    , 0.1    ,\n",
              "       0.53865, 0.1    , 0.1    , 0.1    , 0.1    , 0.1    , 0.26927,\n",
              "       0.1    , 0.3689 , 0.1    , 0.1    , 0.2921 , 0.37234, 0.1062 ,\n",
              "       0.1    , 0.1    , 0.1    , 0.272  ], dtype=float32),\n",
              "     contamination=0.1, dropout_rate=0.2, epochs=20,\n",
              "     hidden_activation='relu', hidden_neurons=[64, 32], l2_regularizer=0.1,\n",
              "     optimizer='adam', output_activation='sigmoid', preprocessing=False,\n",
              "     random_state=None, use_ae=False, validation_size=0.1, verbose=1)"
            ]
          },
          "metadata": {},
          "execution_count": 32
        }
      ]
    },
    {
      "cell_type": "code",
      "source": [
        "# get outlier scores\n",
        "train_scores = model.decision_scores_  # raw outlier scores on the train data\n",
        "test_scores = model.decision_function(test_scale)  # predict raw outlier scores on test"
      ],
      "metadata": {
        "id": "8em3UvA4Kf4t"
      },
      "execution_count": 33,
      "outputs": []
    },
    {
      "cell_type": "code",
      "source": [
        "pd.DataFrame(test_scores).describe()"
      ],
      "metadata": {
        "id": "iRy5jyH40ujH",
        "colab": {
          "base_uri": "https://localhost:8080/",
          "height": 300
        },
        "outputId": "a3879246-c798-4656-8c75-b8690319b04f"
      },
      "execution_count": 34,
      "outputs": [
        {
          "output_type": "execute_result",
          "data": {
            "text/plain": [
              "                  0\n",
              "count  4.499190e+05\n",
              "mean   9.117366e+02\n",
              "std    3.216740e+03\n",
              "min    1.708468e-07\n",
              "25%    5.222138e-03\n",
              "50%    1.148563e+00\n",
              "75%    3.438369e+00\n",
              "max    1.329757e+04"
            ],
            "text/html": [
              "\n",
              "  <div id=\"df-7b5aaf31-91ac-4e5d-9f1e-6883073c103e\">\n",
              "    <div class=\"colab-df-container\">\n",
              "      <div>\n",
              "<style scoped>\n",
              "    .dataframe tbody tr th:only-of-type {\n",
              "        vertical-align: middle;\n",
              "    }\n",
              "\n",
              "    .dataframe tbody tr th {\n",
              "        vertical-align: top;\n",
              "    }\n",
              "\n",
              "    .dataframe thead th {\n",
              "        text-align: right;\n",
              "    }\n",
              "</style>\n",
              "<table border=\"1\" class=\"dataframe\">\n",
              "  <thead>\n",
              "    <tr style=\"text-align: right;\">\n",
              "      <th></th>\n",
              "      <th>0</th>\n",
              "    </tr>\n",
              "  </thead>\n",
              "  <tbody>\n",
              "    <tr>\n",
              "      <th>count</th>\n",
              "      <td>4.499190e+05</td>\n",
              "    </tr>\n",
              "    <tr>\n",
              "      <th>mean</th>\n",
              "      <td>9.117366e+02</td>\n",
              "    </tr>\n",
              "    <tr>\n",
              "      <th>std</th>\n",
              "      <td>3.216740e+03</td>\n",
              "    </tr>\n",
              "    <tr>\n",
              "      <th>min</th>\n",
              "      <td>1.708468e-07</td>\n",
              "    </tr>\n",
              "    <tr>\n",
              "      <th>25%</th>\n",
              "      <td>5.222138e-03</td>\n",
              "    </tr>\n",
              "    <tr>\n",
              "      <th>50%</th>\n",
              "      <td>1.148563e+00</td>\n",
              "    </tr>\n",
              "    <tr>\n",
              "      <th>75%</th>\n",
              "      <td>3.438369e+00</td>\n",
              "    </tr>\n",
              "    <tr>\n",
              "      <th>max</th>\n",
              "      <td>1.329757e+04</td>\n",
              "    </tr>\n",
              "  </tbody>\n",
              "</table>\n",
              "</div>\n",
              "      <button class=\"colab-df-convert\" onclick=\"convertToInteractive('df-7b5aaf31-91ac-4e5d-9f1e-6883073c103e')\"\n",
              "              title=\"Convert this dataframe to an interactive table.\"\n",
              "              style=\"display:none;\">\n",
              "        \n",
              "  <svg xmlns=\"http://www.w3.org/2000/svg\" height=\"24px\"viewBox=\"0 0 24 24\"\n",
              "       width=\"24px\">\n",
              "    <path d=\"M0 0h24v24H0V0z\" fill=\"none\"/>\n",
              "    <path d=\"M18.56 5.44l.94 2.06.94-2.06 2.06-.94-2.06-.94-.94-2.06-.94 2.06-2.06.94zm-11 1L8.5 8.5l.94-2.06 2.06-.94-2.06-.94L8.5 2.5l-.94 2.06-2.06.94zm10 10l.94 2.06.94-2.06 2.06-.94-2.06-.94-.94-2.06-.94 2.06-2.06.94z\"/><path d=\"M17.41 7.96l-1.37-1.37c-.4-.4-.92-.59-1.43-.59-.52 0-1.04.2-1.43.59L10.3 9.45l-7.72 7.72c-.78.78-.78 2.05 0 2.83L4 21.41c.39.39.9.59 1.41.59.51 0 1.02-.2 1.41-.59l7.78-7.78 2.81-2.81c.8-.78.8-2.07 0-2.86zM5.41 20L4 18.59l7.72-7.72 1.47 1.35L5.41 20z\"/>\n",
              "  </svg>\n",
              "      </button>\n",
              "      \n",
              "  <style>\n",
              "    .colab-df-container {\n",
              "      display:flex;\n",
              "      flex-wrap:wrap;\n",
              "      gap: 12px;\n",
              "    }\n",
              "\n",
              "    .colab-df-convert {\n",
              "      background-color: #E8F0FE;\n",
              "      border: none;\n",
              "      border-radius: 50%;\n",
              "      cursor: pointer;\n",
              "      display: none;\n",
              "      fill: #1967D2;\n",
              "      height: 32px;\n",
              "      padding: 0 0 0 0;\n",
              "      width: 32px;\n",
              "    }\n",
              "\n",
              "    .colab-df-convert:hover {\n",
              "      background-color: #E2EBFA;\n",
              "      box-shadow: 0px 1px 2px rgba(60, 64, 67, 0.3), 0px 1px 3px 1px rgba(60, 64, 67, 0.15);\n",
              "      fill: #174EA6;\n",
              "    }\n",
              "\n",
              "    [theme=dark] .colab-df-convert {\n",
              "      background-color: #3B4455;\n",
              "      fill: #D2E3FC;\n",
              "    }\n",
              "\n",
              "    [theme=dark] .colab-df-convert:hover {\n",
              "      background-color: #434B5C;\n",
              "      box-shadow: 0px 1px 3px 1px rgba(0, 0, 0, 0.15);\n",
              "      filter: drop-shadow(0px 1px 2px rgba(0, 0, 0, 0.3));\n",
              "      fill: #FFFFFF;\n",
              "    }\n",
              "  </style>\n",
              "\n",
              "      <script>\n",
              "        const buttonEl =\n",
              "          document.querySelector('#df-7b5aaf31-91ac-4e5d-9f1e-6883073c103e button.colab-df-convert');\n",
              "        buttonEl.style.display =\n",
              "          google.colab.kernel.accessAllowed ? 'block' : 'none';\n",
              "\n",
              "        async function convertToInteractive(key) {\n",
              "          const element = document.querySelector('#df-7b5aaf31-91ac-4e5d-9f1e-6883073c103e');\n",
              "          const dataTable =\n",
              "            await google.colab.kernel.invokeFunction('convertToInteractive',\n",
              "                                                     [key], {});\n",
              "          if (!dataTable) return;\n",
              "\n",
              "          const docLinkHtml = 'Like what you see? Visit the ' +\n",
              "            '<a target=\"_blank\" href=https://colab.research.google.com/notebooks/data_table.ipynb>data table notebook</a>'\n",
              "            + ' to learn more about interactive tables.';\n",
              "          element.innerHTML = '';\n",
              "          dataTable['output_type'] = 'display_data';\n",
              "          await google.colab.output.renderOutput(dataTable, element);\n",
              "          const docLink = document.createElement('div');\n",
              "          docLink.innerHTML = docLinkHtml;\n",
              "          element.appendChild(docLink);\n",
              "        }\n",
              "      </script>\n",
              "    </div>\n",
              "  </div>\n",
              "  "
            ]
          },
          "metadata": {},
          "execution_count": 34
        }
      ]
    },
    {
      "cell_type": "code",
      "source": [
        "pd.DataFrame(train_scores).describe()"
      ],
      "metadata": {
        "colab": {
          "base_uri": "https://localhost:8080/",
          "height": 300
        },
        "id": "z-V21rxeU1wJ",
        "outputId": "5a4ad442-a038-4091-c95c-b93df7f2d427"
      },
      "execution_count": 35,
      "outputs": [
        {
          "output_type": "execute_result",
          "data": {
            "text/plain": [
              "                  0\n",
              "count  4.752000e+05\n",
              "mean   2.573538e-03\n",
              "std    2.485018e-03\n",
              "min    3.700740e-08\n",
              "25%    1.432917e-03\n",
              "50%    1.920304e-03\n",
              "75%    2.639709e-03\n",
              "max    8.566771e-02"
            ],
            "text/html": [
              "\n",
              "  <div id=\"df-30e4e7d8-c8ef-435b-a4c2-23441837ae16\">\n",
              "    <div class=\"colab-df-container\">\n",
              "      <div>\n",
              "<style scoped>\n",
              "    .dataframe tbody tr th:only-of-type {\n",
              "        vertical-align: middle;\n",
              "    }\n",
              "\n",
              "    .dataframe tbody tr th {\n",
              "        vertical-align: top;\n",
              "    }\n",
              "\n",
              "    .dataframe thead th {\n",
              "        text-align: right;\n",
              "    }\n",
              "</style>\n",
              "<table border=\"1\" class=\"dataframe\">\n",
              "  <thead>\n",
              "    <tr style=\"text-align: right;\">\n",
              "      <th></th>\n",
              "      <th>0</th>\n",
              "    </tr>\n",
              "  </thead>\n",
              "  <tbody>\n",
              "    <tr>\n",
              "      <th>count</th>\n",
              "      <td>4.752000e+05</td>\n",
              "    </tr>\n",
              "    <tr>\n",
              "      <th>mean</th>\n",
              "      <td>2.573538e-03</td>\n",
              "    </tr>\n",
              "    <tr>\n",
              "      <th>std</th>\n",
              "      <td>2.485018e-03</td>\n",
              "    </tr>\n",
              "    <tr>\n",
              "      <th>min</th>\n",
              "      <td>3.700740e-08</td>\n",
              "    </tr>\n",
              "    <tr>\n",
              "      <th>25%</th>\n",
              "      <td>1.432917e-03</td>\n",
              "    </tr>\n",
              "    <tr>\n",
              "      <th>50%</th>\n",
              "      <td>1.920304e-03</td>\n",
              "    </tr>\n",
              "    <tr>\n",
              "      <th>75%</th>\n",
              "      <td>2.639709e-03</td>\n",
              "    </tr>\n",
              "    <tr>\n",
              "      <th>max</th>\n",
              "      <td>8.566771e-02</td>\n",
              "    </tr>\n",
              "  </tbody>\n",
              "</table>\n",
              "</div>\n",
              "      <button class=\"colab-df-convert\" onclick=\"convertToInteractive('df-30e4e7d8-c8ef-435b-a4c2-23441837ae16')\"\n",
              "              title=\"Convert this dataframe to an interactive table.\"\n",
              "              style=\"display:none;\">\n",
              "        \n",
              "  <svg xmlns=\"http://www.w3.org/2000/svg\" height=\"24px\"viewBox=\"0 0 24 24\"\n",
              "       width=\"24px\">\n",
              "    <path d=\"M0 0h24v24H0V0z\" fill=\"none\"/>\n",
              "    <path d=\"M18.56 5.44l.94 2.06.94-2.06 2.06-.94-2.06-.94-.94-2.06-.94 2.06-2.06.94zm-11 1L8.5 8.5l.94-2.06 2.06-.94-2.06-.94L8.5 2.5l-.94 2.06-2.06.94zm10 10l.94 2.06.94-2.06 2.06-.94-2.06-.94-.94-2.06-.94 2.06-2.06.94z\"/><path d=\"M17.41 7.96l-1.37-1.37c-.4-.4-.92-.59-1.43-.59-.52 0-1.04.2-1.43.59L10.3 9.45l-7.72 7.72c-.78.78-.78 2.05 0 2.83L4 21.41c.39.39.9.59 1.41.59.51 0 1.02-.2 1.41-.59l7.78-7.78 2.81-2.81c.8-.78.8-2.07 0-2.86zM5.41 20L4 18.59l7.72-7.72 1.47 1.35L5.41 20z\"/>\n",
              "  </svg>\n",
              "      </button>\n",
              "      \n",
              "  <style>\n",
              "    .colab-df-container {\n",
              "      display:flex;\n",
              "      flex-wrap:wrap;\n",
              "      gap: 12px;\n",
              "    }\n",
              "\n",
              "    .colab-df-convert {\n",
              "      background-color: #E8F0FE;\n",
              "      border: none;\n",
              "      border-radius: 50%;\n",
              "      cursor: pointer;\n",
              "      display: none;\n",
              "      fill: #1967D2;\n",
              "      height: 32px;\n",
              "      padding: 0 0 0 0;\n",
              "      width: 32px;\n",
              "    }\n",
              "\n",
              "    .colab-df-convert:hover {\n",
              "      background-color: #E2EBFA;\n",
              "      box-shadow: 0px 1px 2px rgba(60, 64, 67, 0.3), 0px 1px 3px 1px rgba(60, 64, 67, 0.15);\n",
              "      fill: #174EA6;\n",
              "    }\n",
              "\n",
              "    [theme=dark] .colab-df-convert {\n",
              "      background-color: #3B4455;\n",
              "      fill: #D2E3FC;\n",
              "    }\n",
              "\n",
              "    [theme=dark] .colab-df-convert:hover {\n",
              "      background-color: #434B5C;\n",
              "      box-shadow: 0px 1px 3px 1px rgba(0, 0, 0, 0.15);\n",
              "      filter: drop-shadow(0px 1px 2px rgba(0, 0, 0, 0.3));\n",
              "      fill: #FFFFFF;\n",
              "    }\n",
              "  </style>\n",
              "\n",
              "      <script>\n",
              "        const buttonEl =\n",
              "          document.querySelector('#df-30e4e7d8-c8ef-435b-a4c2-23441837ae16 button.colab-df-convert');\n",
              "        buttonEl.style.display =\n",
              "          google.colab.kernel.accessAllowed ? 'block' : 'none';\n",
              "\n",
              "        async function convertToInteractive(key) {\n",
              "          const element = document.querySelector('#df-30e4e7d8-c8ef-435b-a4c2-23441837ae16');\n",
              "          const dataTable =\n",
              "            await google.colab.kernel.invokeFunction('convertToInteractive',\n",
              "                                                     [key], {});\n",
              "          if (!dataTable) return;\n",
              "\n",
              "          const docLinkHtml = 'Like what you see? Visit the ' +\n",
              "            '<a target=\"_blank\" href=https://colab.research.google.com/notebooks/data_table.ipynb>data table notebook</a>'\n",
              "            + ' to learn more about interactive tables.';\n",
              "          element.innerHTML = '';\n",
              "          dataTable['output_type'] = 'display_data';\n",
              "          await google.colab.output.renderOutput(dataTable, element);\n",
              "          const docLink = document.createElement('div');\n",
              "          docLink.innerHTML = docLinkHtml;\n",
              "          element.appendChild(docLink);\n",
              "        }\n",
              "      </script>\n",
              "    </div>\n",
              "  </div>\n",
              "  "
            ]
          },
          "metadata": {},
          "execution_count": 35
        }
      ]
    },
    {
      "cell_type": "code",
      "execution_count": 36,
      "metadata": {
        "id": "Phk9fNb3sq92"
      },
      "outputs": [],
      "source": [
        "fpr, tpr, _ = metrics.roc_curve(label,  test_scores)\n",
        "auc = metrics.roc_auc_score(label,  test_scores)"
      ]
    },
    {
      "cell_type": "code",
      "execution_count": 37,
      "metadata": {
        "id": "44TookBSt_N8",
        "colab": {
          "base_uri": "https://localhost:8080/",
          "height": 279
        },
        "outputId": "d9ba6969-ce20-4595-b8b1-449e420dc7c2"
      },
      "outputs": [
        {
          "output_type": "display_data",
          "data": {
            "text/plain": [
              "<Figure size 432x288 with 1 Axes>"
            ],
            "image/png": "[encoded data removed]"
          },
          "metadata": {
            "needs_background": "light"
          }
        }
      ],
      "source": [
        "plt.plot(fpr,tpr,label=\"AUC=\"+str(auc))\n",
        "plt.ylabel('True Positive Rate')\n",
        "plt.xlabel('False Positive Rate')\n",
        "plt.legend(loc=4)\n",
        "plt.show()"
      ]
    },
    {
      "cell_type": "code",
      "source": [
        "#normalise error score\n",
        "min_train = min(train_scores)\n",
        "max_train = max(train_scores)\n",
        "norm_train = (train_scores-min_train)/(max_train-min_train)"
      ],
      "metadata": {
        "id": "uB-Tx0H_5T75"
      },
      "execution_count": 38,
      "outputs": []
    },
    {
      "cell_type": "code",
      "source": [
        "norm_test = (test_scores - min_train)/(max_train-min_train)"
      ],
      "metadata": {
        "id": "lqHR0QF1uuPW"
      },
      "execution_count": 39,
      "outputs": []
    },
    {
      "cell_type": "code",
      "source": [
        "df_error_train = pd.DataFrame(norm_train,columns = ['error'])\n",
        "df_error_test = pd.DataFrame(norm_test,columns = ['error'])"
      ],
      "metadata": {
        "id": "1vV7bhCRNhO-"
      },
      "execution_count": 40,
      "outputs": []
    },
    {
      "cell_type": "code",
      "source": [
        "# sns.displot(df_error_train, x=\"error\",kind=\"kde\")\n",
        "sns.displot(df_error_test, x=\"error\",kind=\"kde\")"
      ],
      "metadata": {
        "colab": {
          "base_uri": "https://localhost:8080/",
          "height": 386
        },
        "id": "aj7RpW396_O2",
        "outputId": "82392082-a15e-42a0-f45c-ce1b26312746"
      },
      "execution_count": 41,
      "outputs": [
        {
          "output_type": "execute_result",
          "data": {
            "text/plain": [
              "<seaborn.axisgrid.FacetGrid at 0x7f3e5a6b40d0>"
            ]
          },
          "metadata": {},
          "execution_count": 41
        },
        {
          "output_type": "display_data",
          "data": {
            "text/plain": [
              "<Figure size 360x360 with 1 Axes>"
            ],
            "image/png": "[encoded data removed]"
          },
          "metadata": {
            "needs_background": "light"
          }
        }
      ]
    },
    {
      "cell_type": "code",
      "source": [
        "threshold= np.percentile(norm_test,90)"
      ],
      "metadata": {
        "id": "gJGoCABp5eV2"
      },
      "execution_count": 42,
      "outputs": []
    },
    {
      "cell_type": "code",
      "source": [
        "threshold"
      ],
      "metadata": {
        "colab": {
          "base_uri": "https://localhost:8080/"
        },
        "id": "m2C7bGlR6PuP",
        "outputId": "50bba702-b70c-4a2c-8895-0d141ec964af"
      },
      "execution_count": 43,
      "outputs": [
        {
          "output_type": "execute_result",
          "data": {
            "text/plain": [
              "59.2081024169922"
            ]
          },
          "metadata": {},
          "execution_count": 43
        }
      ]
    },
    {
      "cell_type": "code",
      "source": [
        "def pred_labels_timewindow(df,threshold,time_window):\n",
        "  n_data = len(df)\n",
        "  pred_label = np.array([_ for _ in range(n_data)])\n",
        "  for i in range(0,n_data-time_window+1):\n",
        "    pred_label[i:i+time_window] = 0\n",
        "    if (df[i:i+time_window] >= threshold).any():\n",
        "      pred_label[i:i+time_window] = 1\n",
        "  return pred_label"
      ],
      "metadata": {
        "id": "V57zjI_C8Doh"
      },
      "execution_count": 44,
      "outputs": []
    },
    {
      "cell_type": "code",
      "source": [
        "time_window = 100\n",
        "pred_label = pred_labels_timewindow(norm_test,threshold,time_window)"
      ],
      "metadata": {
        "id": "npmDixxZ85HJ"
      },
      "execution_count": 45,
      "outputs": []
    },
    {
      "cell_type": "code",
      "source": [
        "print(metrics.classification_report(label,pred_label))"
      ],
      "metadata": {
        "colab": {
          "base_uri": "https://localhost:8080/"
        },
        "id": "gTZC2VFgvXTP",
        "outputId": "ee70332c-8f90-4d89-fd2c-a3c0f400d21c"
      },
      "execution_count": 46,
      "outputs": [
        {
          "output_type": "stream",
          "name": "stdout",
          "text": [
            "              precision    recall  f1-score   support\n",
            "\n",
            "           0       0.96      0.95      0.95    395298\n",
            "           1       0.64      0.71      0.67     54621\n",
            "\n",
            "    accuracy                           0.92    449919\n",
            "   macro avg       0.80      0.83      0.81    449919\n",
            "weighted avg       0.92      0.92      0.92    449919\n",
            "\n"
          ]
        }
      ]
    },
    {
      "cell_type": "code",
      "source": [
        "from sklearn.metrics import confusion_matrix\n",
        "\n",
        "cm = confusion_matrix(label,pred_label)\n",
        "\n",
        "# Setting the attributes\n",
        "fig, px = plt.subplots(figsize=(7.5, 7.5))\n",
        "px.matshow(cm, cmap=plt.cm.YlOrRd, alpha=0.5)\n",
        "for m in range(cm.shape[0]):\n",
        "    for n in range(cm.shape[1]):\n",
        "        px.text(x=m,y=n,s=cm[m, n], va='center', ha='center', size='xx-large')\n",
        "\n",
        "# Sets the labels\n",
        "plt.xlabel('Predictions', fontsize=16)\n",
        "plt.ylabel('Actuals', fontsize=16)\n",
        "plt.title('Confusion Matrix', fontsize=15)\n",
        "plt.show()"
      ],
      "metadata": {
        "colab": {
          "base_uri": "https://localhost:8080/",
          "height": 496
        },
        "id": "rMmO4vGAcfYJ",
        "outputId": "da205800-7b96-4c14-c51e-9cb5056677b4"
      },
      "execution_count": 52,
      "outputs": [
        {
          "output_type": "display_data",
          "data": {
            "text/plain": [
              "<Figure size 540x540 with 1 Axes>"
            ],
            "image/png": "[encoded data removed]"
          },
          "metadata": {
            "needs_background": "light"
          }
        }
      ]
    },
    {
      "cell_type": "code",
      "source": [
        "time_label = pd.DataFrame(pred_label, index= test_df.index, columns = ['pred'])"
      ],
      "metadata": {
        "id": "r50O6hH8cWEl"
      },
      "execution_count": 248,
      "outputs": []
    },
    {
      "cell_type": "code",
      "source": [
        "time_label['label'] = label\n",
        "time_label.reset_index(inplace = True)\n",
        "time_label['Timestamp'] = pd.to_datetime(time_label.Timestamp)"
      ],
      "metadata": {
        "id": "L4RockhgeWti"
      },
      "execution_count": 249,
      "outputs": []
    },
    {
      "cell_type": "markdown",
      "source": [
        "true anomaly"
      ],
      "metadata": {
        "id": "8zSkrVVjbj-I"
      }
    },
    {
      "cell_type": "code",
      "source": [
        "true_anomaly = pd.read_csv(\"/content/drive/MyDrive/Data_sci_Project/List_of_attacks_Final.csv\")"
      ],
      "metadata": {
        "id": "UkMB7Bfsb9P6"
      },
      "execution_count": 49,
      "outputs": []
    },
    {
      "cell_type": "code",
      "source": [
        "start_time = true_anomaly['Start Time'][~true_anomaly[\"End Time\"].isnull()]\n",
        "start_time = pd.to_datetime(start_time)\n",
        "start_time.loc[36:40] = start_time.loc[36:40]+pd.DateOffset(years=1)"
      ],
      "metadata": {
        "id": "NgjdE5XqcTxy"
      },
      "execution_count": 230,
      "outputs": []
    },
    {
      "cell_type": "code",
      "source": [
        "end_time = pd.to_datetime(true_anomaly['End Time'][~true_anomaly[\"End Time\"].isnull()])"
      ],
      "metadata": {
        "id": "1P5olVV1rdqB"
      },
      "execution_count": 279,
      "outputs": []
    },
    {
      "cell_type": "code",
      "source": [
        "attack_lenght = (end_time - pd.to_datetime([str(a) for a in start_time.dt.time])).dt.seconds"
      ],
      "metadata": {
        "id": "0l5l2XcPwYTM"
      },
      "execution_count": 313,
      "outputs": []
    },
    {
      "cell_type": "code",
      "source": [
        "attack_lenght"
      ],
      "metadata": {
        "colab": {
          "base_uri": "https://localhost:8080/"
        },
        "id": "h_h_HIMnyBEe",
        "outputId": "9897a8ec-607b-4d39-b087-63946fdce5f5"
      },
      "execution_count": 315,
      "outputs": [
        {
          "output_type": "execute_result",
          "data": {
            "text/plain": [
              "0       939\n",
              "1       442\n",
              "2       382\n",
              "3       389\n",
              "5       195\n",
              "6       428\n",
              "7       963\n",
              "9       160\n",
              "10      560\n",
              "12      232\n",
              "13      430\n",
              "15      275\n",
              "16      716\n",
              "18      258\n",
              "19      394\n",
              "20      720\n",
              "21      462\n",
              "22      696\n",
              "23      320\n",
              "24      611\n",
              "25     1444\n",
              "26     1690\n",
              "27    34208\n",
              "28      120\n",
              "29     1170\n",
              "30      366\n",
              "31      600\n",
              "32      443\n",
              "33      100\n",
              "34      480\n",
              "35      539\n",
              "36      468\n",
              "37      280\n",
              "38      400\n",
              "39      296\n",
              "40     1674\n",
              "dtype: int64"
            ]
          },
          "metadata": {},
          "execution_count": 315
        }
      ]
    },
    {
      "cell_type": "code",
      "source": [
        "len(start_time) #there are 36 attack"
      ],
      "metadata": {
        "colab": {
          "base_uri": "https://localhost:8080/"
        },
        "id": "zeJxJdepq00E",
        "outputId": "a9284497-867a-4542-b475-6e4fafc7cd57"
      },
      "execution_count": 251,
      "outputs": [
        {
          "output_type": "execute_result",
          "data": {
            "text/plain": [
              "36"
            ]
          },
          "metadata": {},
          "execution_count": 251
        }
      ]
    },
    {
      "cell_type": "code",
      "source": [
        "#find start index/ end index of attack\n",
        "idx_start = time_label[time_label['Timestamp'].isin(start_time)]['Timestamp'].index.values \n",
        "idx_end = idx_start+attack_lenght.values"
      ],
      "metadata": {
        "id": "FiKi5uU2lcqS"
      },
      "execution_count": 319,
      "outputs": []
    },
    {
      "cell_type": "code",
      "source": [
        "time_label['attack #'] = 0\n",
        "for i in range (len(idx_start)):\n",
        "  time_label['attack #'].loc[idx_start[i]:idx_end[i]] = attack_lenght.index.values[i]"
      ],
      "metadata": {
        "colab": {
          "base_uri": "https://localhost:8080/"
        },
        "id": "Z7IsUesRya6F",
        "outputId": "6537ac25-9bf1-4dde-8a23-ea93e6cd5194"
      },
      "execution_count": 391,
      "outputs": [
        {
          "output_type": "stream",
          "name": "stderr",
          "text": [
            "\n",
            "A value is trying to be set on a copy of a slice from a DataFrame\n",
            "\n",
            "See the caveats in the documentation: https://pandas.pydata.org/pandas-docs/stable/user_guide/indexing.html#returning-a-view-versus-a-copy\n"
          ]
        }
      ]
    },
    {
      "cell_type": "code",
      "source": [
        "time_label[(time_label['attack #'] == 27) & (time_label['pred'] == 1)]"
      ],
      "metadata": {
        "colab": {
          "base_uri": "https://localhost:8080/",
          "height": 424
        },
        "id": "gsDKyqJ1zCCf",
        "outputId": "ee8cdc28-98aa-4098-ee73-6a148aade2f8"
      },
      "execution_count": 516,
      "outputs": [
        {
          "output_type": "execute_result",
          "data": {
            "text/plain": [
              "                 Timestamp  pred  label  attack #\n",
              "231657 2015-12-31 02:20:57     1      1        27\n",
              "231658 2015-12-31 02:20:58     1      1        27\n",
              "231659 2015-12-31 02:20:59     1      1        27\n",
              "231660 2015-12-31 02:21:00     1      1        27\n",
              "231661 2015-12-31 02:21:01     1      1        27\n",
              "...                    ...   ...    ...       ...\n",
              "263723 2015-12-31 11:15:23     1      1        27\n",
              "263724 2015-12-31 11:15:24     1      1        27\n",
              "263725 2015-12-31 11:15:25     1      1        27\n",
              "263726 2015-12-31 11:15:26     1      1        27\n",
              "263727 2015-12-31 11:15:27     1      1        27\n",
              "\n",
              "[32071 rows x 4 columns]"
            ],
            "text/html": [
              "\n",
              "  <div id=\"df-6610b01e-2c16-4d0f-965b-47d7965f3e2e\">\n",
              "    <div class=\"colab-df-container\">\n",
              "      <div>\n",
              "<style scoped>\n",
              "    .dataframe tbody tr th:only-of-type {\n",
              "        vertical-align: middle;\n",
              "    }\n",
              "\n",
              "    .dataframe tbody tr th {\n",
              "        vertical-align: top;\n",
              "    }\n",
              "\n",
              "    .dataframe thead th {\n",
              "        text-align: right;\n",
              "    }\n",
              "</style>\n",
              "<table border=\"1\" class=\"dataframe\">\n",
              "  <thead>\n",
              "    <tr style=\"text-align: right;\">\n",
              "      <th></th>\n",
              "      <th>Timestamp</th>\n",
              "      <th>pred</th>\n",
              "      <th>label</th>\n",
              "      <th>attack #</th>\n",
              "    </tr>\n",
              "  </thead>\n",
              "  <tbody>\n",
              "    <tr>\n",
              "      <th>231657</th>\n",
              "      <td>2015-12-31 02:20:57</td>\n",
              "      <td>1</td>\n",
              "      <td>1</td>\n",
              "      <td>27</td>\n",
              "    </tr>\n",
              "    <tr>\n",
              "      <th>231658</th>\n",
              "      <td>2015-12-31 02:20:58</td>\n",
              "      <td>1</td>\n",
              "      <td>1</td>\n",
              "      <td>27</td>\n",
              "    </tr>\n",
              "    <tr>\n",
              "      <th>231659</th>\n",
              "      <td>2015-12-31 02:20:59</td>\n",
              "      <td>1</td>\n",
              "      <td>1</td>\n",
              "      <td>27</td>\n",
              "    </tr>\n",
              "    <tr>\n",
              "      <th>231660</th>\n",
              "      <td>2015-12-31 02:21:00</td>\n",
              "      <td>1</td>\n",
              "      <td>1</td>\n",
              "      <td>27</td>\n",
              "    </tr>\n",
              "    <tr>\n",
              "      <th>231661</th>\n",
              "      <td>2015-12-31 02:21:01</td>\n",
              "      <td>1</td>\n",
              "      <td>1</td>\n",
              "      <td>27</td>\n",
              "    </tr>\n",
              "    <tr>\n",
              "      <th>...</th>\n",
              "      <td>...</td>\n",
              "      <td>...</td>\n",
              "      <td>...</td>\n",
              "      <td>...</td>\n",
              "    </tr>\n",
              "    <tr>\n",
              "      <th>263723</th>\n",
              "      <td>2015-12-31 11:15:23</td>\n",
              "      <td>1</td>\n",
              "      <td>1</td>\n",
              "      <td>27</td>\n",
              "    </tr>\n",
              "    <tr>\n",
              "      <th>263724</th>\n",
              "      <td>2015-12-31 11:15:24</td>\n",
              "      <td>1</td>\n",
              "      <td>1</td>\n",
              "      <td>27</td>\n",
              "    </tr>\n",
              "    <tr>\n",
              "      <th>263725</th>\n",
              "      <td>2015-12-31 11:15:25</td>\n",
              "      <td>1</td>\n",
              "      <td>1</td>\n",
              "      <td>27</td>\n",
              "    </tr>\n",
              "    <tr>\n",
              "      <th>263726</th>\n",
              "      <td>2015-12-31 11:15:26</td>\n",
              "      <td>1</td>\n",
              "      <td>1</td>\n",
              "      <td>27</td>\n",
              "    </tr>\n",
              "    <tr>\n",
              "      <th>263727</th>\n",
              "      <td>2015-12-31 11:15:27</td>\n",
              "      <td>1</td>\n",
              "      <td>1</td>\n",
              "      <td>27</td>\n",
              "    </tr>\n",
              "  </tbody>\n",
              "</table>\n",
              "<p>32071 rows × 4 columns</p>\n",
              "</div>\n",
              "      <button class=\"colab-df-convert\" onclick=\"convertToInteractive('df-6610b01e-2c16-4d0f-965b-47d7965f3e2e')\"\n",
              "              title=\"Convert this dataframe to an interactive table.\"\n",
              "              style=\"display:none;\">\n",
              "        \n",
              "  <svg xmlns=\"http://www.w3.org/2000/svg\" height=\"24px\"viewBox=\"0 0 24 24\"\n",
              "       width=\"24px\">\n",
              "    <path d=\"M0 0h24v24H0V0z\" fill=\"none\"/>\n",
              "    <path d=\"M18.56 5.44l.94 2.06.94-2.06 2.06-.94-2.06-.94-.94-2.06-.94 2.06-2.06.94zm-11 1L8.5 8.5l.94-2.06 2.06-.94-2.06-.94L8.5 2.5l-.94 2.06-2.06.94zm10 10l.94 2.06.94-2.06 2.06-.94-2.06-.94-.94-2.06-.94 2.06-2.06.94z\"/><path d=\"M17.41 7.96l-1.37-1.37c-.4-.4-.92-.59-1.43-.59-.52 0-1.04.2-1.43.59L10.3 9.45l-7.72 7.72c-.78.78-.78 2.05 0 2.83L4 21.41c.39.39.9.59 1.41.59.51 0 1.02-.2 1.41-.59l7.78-7.78 2.81-2.81c.8-.78.8-2.07 0-2.86zM5.41 20L4 18.59l7.72-7.72 1.47 1.35L5.41 20z\"/>\n",
              "  </svg>\n",
              "      </button>\n",
              "      \n",
              "  <style>\n",
              "    .colab-df-container {\n",
              "      display:flex;\n",
              "      flex-wrap:wrap;\n",
              "      gap: 12px;\n",
              "    }\n",
              "\n",
              "    .colab-df-convert {\n",
              "      background-color: #E8F0FE;\n",
              "      border: none;\n",
              "      border-radius: 50%;\n",
              "      cursor: pointer;\n",
              "      display: none;\n",
              "      fill: #1967D2;\n",
              "      height: 32px;\n",
              "      padding: 0 0 0 0;\n",
              "      width: 32px;\n",
              "    }\n",
              "\n",
              "    .colab-df-convert:hover {\n",
              "      background-color: #E2EBFA;\n",
              "      box-shadow: 0px 1px 2px rgba(60, 64, 67, 0.3), 0px 1px 3px 1px rgba(60, 64, 67, 0.15);\n",
              "      fill: #174EA6;\n",
              "    }\n",
              "\n",
              "    [theme=dark] .colab-df-convert {\n",
              "      background-color: #3B4455;\n",
              "      fill: #D2E3FC;\n",
              "    }\n",
              "\n",
              "    [theme=dark] .colab-df-convert:hover {\n",
              "      background-color: #434B5C;\n",
              "      box-shadow: 0px 1px 3px 1px rgba(0, 0, 0, 0.15);\n",
              "      filter: drop-shadow(0px 1px 2px rgba(0, 0, 0, 0.3));\n",
              "      fill: #FFFFFF;\n",
              "    }\n",
              "  </style>\n",
              "\n",
              "      <script>\n",
              "        const buttonEl =\n",
              "          document.querySelector('#df-6610b01e-2c16-4d0f-965b-47d7965f3e2e button.colab-df-convert');\n",
              "        buttonEl.style.display =\n",
              "          google.colab.kernel.accessAllowed ? 'block' : 'none';\n",
              "\n",
              "        async function convertToInteractive(key) {\n",
              "          const element = document.querySelector('#df-6610b01e-2c16-4d0f-965b-47d7965f3e2e');\n",
              "          const dataTable =\n",
              "            await google.colab.kernel.invokeFunction('convertToInteractive',\n",
              "                                                     [key], {});\n",
              "          if (!dataTable) return;\n",
              "\n",
              "          const docLinkHtml = 'Like what you see? Visit the ' +\n",
              "            '<a target=\"_blank\" href=https://colab.research.google.com/notebooks/data_table.ipynb>data table notebook</a>'\n",
              "            + ' to learn more about interactive tables.';\n",
              "          element.innerHTML = '';\n",
              "          dataTable['output_type'] = 'display_data';\n",
              "          await google.colab.output.renderOutput(dataTable, element);\n",
              "          const docLink = document.createElement('div');\n",
              "          docLink.innerHTML = docLinkHtml;\n",
              "          element.appendChild(docLink);\n",
              "        }\n",
              "      </script>\n",
              "    </div>\n",
              "  </div>\n",
              "  "
            ]
          },
          "metadata": {},
          "execution_count": 516
        }
      ]
    },
    {
      "cell_type": "code",
      "source": [
        "time_label.loc[229500:263727]"
      ],
      "metadata": {
        "colab": {
          "base_uri": "https://localhost:8080/",
          "height": 424
        },
        "id": "cMCCCdzJ2_6c",
        "outputId": "1d845eac-e40d-4ef9-bba6-84704dbbc24c"
      },
      "execution_count": 517,
      "outputs": [
        {
          "output_type": "execute_result",
          "data": {
            "text/plain": [
              "                 Timestamp  pred  label  attack #\n",
              "229500 2015-12-31 01:45:00     0      1        26\n",
              "229501 2015-12-31 01:45:01     0      1        26\n",
              "229502 2015-12-31 01:45:02     0      1        26\n",
              "229503 2015-12-31 01:45:03     0      1        26\n",
              "229504 2015-12-31 01:45:04     0      1        26\n",
              "...                    ...   ...    ...       ...\n",
              "263723 2015-12-31 11:15:23     1      1        27\n",
              "263724 2015-12-31 11:15:24     1      1        27\n",
              "263725 2015-12-31 11:15:25     1      1        27\n",
              "263726 2015-12-31 11:15:26     1      1        27\n",
              "263727 2015-12-31 11:15:27     1      1        27\n",
              "\n",
              "[34228 rows x 4 columns]"
            ],
            "text/html": [
              "\n",
              "  <div id=\"df-3d46f198-ff1f-4829-bd0e-8684188394bd\">\n",
              "    <div class=\"colab-df-container\">\n",
              "      <div>\n",
              "<style scoped>\n",
              "    .dataframe tbody tr th:only-of-type {\n",
              "        vertical-align: middle;\n",
              "    }\n",
              "\n",
              "    .dataframe tbody tr th {\n",
              "        vertical-align: top;\n",
              "    }\n",
              "\n",
              "    .dataframe thead th {\n",
              "        text-align: right;\n",
              "    }\n",
              "</style>\n",
              "<table border=\"1\" class=\"dataframe\">\n",
              "  <thead>\n",
              "    <tr style=\"text-align: right;\">\n",
              "      <th></th>\n",
              "      <th>Timestamp</th>\n",
              "      <th>pred</th>\n",
              "      <th>label</th>\n",
              "      <th>attack #</th>\n",
              "    </tr>\n",
              "  </thead>\n",
              "  <tbody>\n",
              "    <tr>\n",
              "      <th>229500</th>\n",
              "      <td>2015-12-31 01:45:00</td>\n",
              "      <td>0</td>\n",
              "      <td>1</td>\n",
              "      <td>26</td>\n",
              "    </tr>\n",
              "    <tr>\n",
              "      <th>229501</th>\n",
              "      <td>2015-12-31 01:45:01</td>\n",
              "      <td>0</td>\n",
              "      <td>1</td>\n",
              "      <td>26</td>\n",
              "    </tr>\n",
              "    <tr>\n",
              "      <th>229502</th>\n",
              "      <td>2015-12-31 01:45:02</td>\n",
              "      <td>0</td>\n",
              "      <td>1</td>\n",
              "      <td>26</td>\n",
              "    </tr>\n",
              "    <tr>\n",
              "      <th>229503</th>\n",
              "      <td>2015-12-31 01:45:03</td>\n",
              "      <td>0</td>\n",
              "      <td>1</td>\n",
              "      <td>26</td>\n",
              "    </tr>\n",
              "    <tr>\n",
              "      <th>229504</th>\n",
              "      <td>2015-12-31 01:45:04</td>\n",
              "      <td>0</td>\n",
              "      <td>1</td>\n",
              "      <td>26</td>\n",
              "    </tr>\n",
              "    <tr>\n",
              "      <th>...</th>\n",
              "      <td>...</td>\n",
              "      <td>...</td>\n",
              "      <td>...</td>\n",
              "      <td>...</td>\n",
              "    </tr>\n",
              "    <tr>\n",
              "      <th>263723</th>\n",
              "      <td>2015-12-31 11:15:23</td>\n",
              "      <td>1</td>\n",
              "      <td>1</td>\n",
              "      <td>27</td>\n",
              "    </tr>\n",
              "    <tr>\n",
              "      <th>263724</th>\n",
              "      <td>2015-12-31 11:15:24</td>\n",
              "      <td>1</td>\n",
              "      <td>1</td>\n",
              "      <td>27</td>\n",
              "    </tr>\n",
              "    <tr>\n",
              "      <th>263725</th>\n",
              "      <td>2015-12-31 11:15:25</td>\n",
              "      <td>1</td>\n",
              "      <td>1</td>\n",
              "      <td>27</td>\n",
              "    </tr>\n",
              "    <tr>\n",
              "      <th>263726</th>\n",
              "      <td>2015-12-31 11:15:26</td>\n",
              "      <td>1</td>\n",
              "      <td>1</td>\n",
              "      <td>27</td>\n",
              "    </tr>\n",
              "    <tr>\n",
              "      <th>263727</th>\n",
              "      <td>2015-12-31 11:15:27</td>\n",
              "      <td>1</td>\n",
              "      <td>1</td>\n",
              "      <td>27</td>\n",
              "    </tr>\n",
              "  </tbody>\n",
              "</table>\n",
              "<p>34228 rows × 4 columns</p>\n",
              "</div>\n",
              "      <button class=\"colab-df-convert\" onclick=\"convertToInteractive('df-3d46f198-ff1f-4829-bd0e-8684188394bd')\"\n",
              "              title=\"Convert this dataframe to an interactive table.\"\n",
              "              style=\"display:none;\">\n",
              "        \n",
              "  <svg xmlns=\"http://www.w3.org/2000/svg\" height=\"24px\"viewBox=\"0 0 24 24\"\n",
              "       width=\"24px\">\n",
              "    <path d=\"M0 0h24v24H0V0z\" fill=\"none\"/>\n",
              "    <path d=\"M18.56 5.44l.94 2.06.94-2.06 2.06-.94-2.06-.94-.94-2.06-.94 2.06-2.06.94zm-11 1L8.5 8.5l.94-2.06 2.06-.94-2.06-.94L8.5 2.5l-.94 2.06-2.06.94zm10 10l.94 2.06.94-2.06 2.06-.94-2.06-.94-.94-2.06-.94 2.06-2.06.94z\"/><path d=\"M17.41 7.96l-1.37-1.37c-.4-.4-.92-.59-1.43-.59-.52 0-1.04.2-1.43.59L10.3 9.45l-7.72 7.72c-.78.78-.78 2.05 0 2.83L4 21.41c.39.39.9.59 1.41.59.51 0 1.02-.2 1.41-.59l7.78-7.78 2.81-2.81c.8-.78.8-2.07 0-2.86zM5.41 20L4 18.59l7.72-7.72 1.47 1.35L5.41 20z\"/>\n",
              "  </svg>\n",
              "      </button>\n",
              "      \n",
              "  <style>\n",
              "    .colab-df-container {\n",
              "      display:flex;\n",
              "      flex-wrap:wrap;\n",
              "      gap: 12px;\n",
              "    }\n",
              "\n",
              "    .colab-df-convert {\n",
              "      background-color: #E8F0FE;\n",
              "      border: none;\n",
              "      border-radius: 50%;\n",
              "      cursor: pointer;\n",
              "      display: none;\n",
              "      fill: #1967D2;\n",
              "      height: 32px;\n",
              "      padding: 0 0 0 0;\n",
              "      width: 32px;\n",
              "    }\n",
              "\n",
              "    .colab-df-convert:hover {\n",
              "      background-color: #E2EBFA;\n",
              "      box-shadow: 0px 1px 2px rgba(60, 64, 67, 0.3), 0px 1px 3px 1px rgba(60, 64, 67, 0.15);\n",
              "      fill: #174EA6;\n",
              "    }\n",
              "\n",
              "    [theme=dark] .colab-df-convert {\n",
              "      background-color: #3B4455;\n",
              "      fill: #D2E3FC;\n",
              "    }\n",
              "\n",
              "    [theme=dark] .colab-df-convert:hover {\n",
              "      background-color: #434B5C;\n",
              "      box-shadow: 0px 1px 3px 1px rgba(0, 0, 0, 0.15);\n",
              "      filter: drop-shadow(0px 1px 2px rgba(0, 0, 0, 0.3));\n",
              "      fill: #FFFFFF;\n",
              "    }\n",
              "  </style>\n",
              "\n",
              "      <script>\n",
              "        const buttonEl =\n",
              "          document.querySelector('#df-3d46f198-ff1f-4829-bd0e-8684188394bd button.colab-df-convert');\n",
              "        buttonEl.style.display =\n",
              "          google.colab.kernel.accessAllowed ? 'block' : 'none';\n",
              "\n",
              "        async function convertToInteractive(key) {\n",
              "          const element = document.querySelector('#df-3d46f198-ff1f-4829-bd0e-8684188394bd');\n",
              "          const dataTable =\n",
              "            await google.colab.kernel.invokeFunction('convertToInteractive',\n",
              "                                                     [key], {});\n",
              "          if (!dataTable) return;\n",
              "\n",
              "          const docLinkHtml = 'Like what you see? Visit the ' +\n",
              "            '<a target=\"_blank\" href=https://colab.research.google.com/notebooks/data_table.ipynb>data table notebook</a>'\n",
              "            + ' to learn more about interactive tables.';\n",
              "          element.innerHTML = '';\n",
              "          dataTable['output_type'] = 'display_data';\n",
              "          await google.colab.output.renderOutput(dataTable, element);\n",
              "          const docLink = document.createElement('div');\n",
              "          docLink.innerHTML = docLinkHtml;\n",
              "          element.appendChild(docLink);\n",
              "        }\n",
              "      </script>\n",
              "    </div>\n",
              "  </div>\n",
              "  "
            ]
          },
          "metadata": {},
          "execution_count": 517
        }
      ]
    },
    {
      "cell_type": "code",
      "source": [
        "plt.plot(time_label.loc[226500:264800].index,time_label.loc[226500:264800][\"pred\"])\n",
        "plt.plot(time_label.loc[226500:264800].index,time_label.loc[226500:264800][\"label\"])\n",
        "plt.title('Attack no. 27')\n",
        "plt.legend([\"pred\", \"label\"])\n",
        "plt.xlabel(\"timestamp\")\n",
        "plt.ylabel(\"normal/attack\")"
      ],
      "metadata": {
        "colab": {
          "base_uri": "https://localhost:8080/",
          "height": 312
        },
        "id": "dHmvxbiGzmC6",
        "outputId": "11841d24-5df6-4ee7-a5da-6e4406471636"
      },
      "execution_count": 535,
      "outputs": [
        {
          "output_type": "execute_result",
          "data": {
            "text/plain": [
              "Text(0, 0.5, 'normal/attack')"
            ]
          },
          "metadata": {},
          "execution_count": 535
        },
        {
          "output_type": "display_data",
          "data": {
            "text/plain": [
              "<Figure size 432x288 with 1 Axes>"
            ],
            "image/png": "[encoded data removed]"
          },
          "metadata": {
            "needs_background": "light"
          }
        }
      ]
    },
    {
      "cell_type": "markdown",
      "source": [
        "Apply XAI"
      ],
      "metadata": {
        "id": "S2CVHQGmWtak"
      }
    },
    {
      "cell_type": "markdown",
      "source": [
        "### Kernel SHAP"
      ],
      "metadata": {
        "id": "LfSBhB0YWw1W"
      }
    },
    {
      "cell_type": "code",
      "source": [
        "!pip install shap"
      ],
      "metadata": {
        "id": "ZDeGn-_e4Hvd"
      },
      "execution_count": null,
      "outputs": []
    },
    {
      "cell_type": "code",
      "source": [
        "import shap"
      ],
      "metadata": {
        "id": "aI5JVf1abyEW"
      },
      "execution_count": 48,
      "outputs": []
    },
    {
      "cell_type": "code",
      "source": [
        "shap_values50 = explainer2.shap_values((test_scale[0:50]), nsamples=500)"
      ],
      "metadata": {
        "id": "vKf-r_oFvuBH",
        "colab": {
          "base_uri": "https://localhost:8080/",
          "height": 166
        },
        "outputId": "4927c499-a626-4308-f3cb-53f85625af8b"
      },
      "execution_count": null,
      "outputs": [
        {
          "output_type": "error",
          "ename": "NameError",
          "evalue": "ignored",
          "traceback": [
            "\u001b[0;31m---------------------------------------------------------------------------\u001b[0m",
            "\u001b[0;31mNameError\u001b[0m                                 Traceback (most recent call last)",
            "\u001b[0;32m<ipython-input-116-ea881b80c5e3>\u001b[0m in \u001b[0;36m<module>\u001b[0;34m()\u001b[0m\n\u001b[0;32m----> 1\u001b[0;31m \u001b[0mshap_values50\u001b[0m \u001b[0;34m=\u001b[0m \u001b[0mexplainer2\u001b[0m\u001b[0;34m.\u001b[0m\u001b[0mshap_values\u001b[0m\u001b[0;34m(\u001b[0m\u001b[0;34m(\u001b[0m\u001b[0mtest_scale\u001b[0m\u001b[0;34m[\u001b[0m\u001b[0;36m0\u001b[0m\u001b[0;34m:\u001b[0m\u001b[0;36m50\u001b[0m\u001b[0;34m]\u001b[0m\u001b[0;34m)\u001b[0m\u001b[0;34m,\u001b[0m \u001b[0mnsamples\u001b[0m\u001b[0;34m=\u001b[0m\u001b[0;36m500\u001b[0m\u001b[0;34m)\u001b[0m\u001b[0;34m\u001b[0m\u001b[0;34m\u001b[0m\u001b[0m\n\u001b[0m",
            "\u001b[0;31mNameError\u001b[0m: name 'explainer2' is not defined"
          ]
        }
      ]
    },
    {
      "cell_type": "code",
      "source": [
        "shap.initjs()\n",
        "shap.force_plot(explainer.expected_value, shap_values50,test_scale[0:50])"
      ],
      "metadata": {
        "id": "_dEphuScwSkk"
      },
      "execution_count": null,
      "outputs": []
    },
    {
      "cell_type": "code",
      "source": [
        "%debug"
      ],
      "metadata": {
        "id": "dZtt_z9IILQm"
      },
      "execution_count": null,
      "outputs": []
    },
    {
      "cell_type": "code",
      "source": [
        "!pip install lime"
      ],
      "metadata": {
        "id": "pG0xNuFRQ3Lf"
      },
      "execution_count": null,
      "outputs": []
    },
    {
      "cell_type": "code",
      "source": [
        "import lime\n",
        "import lime.lime_tabular"
      ],
      "metadata": {
        "id": "QoRm3o5YQ7E6"
      },
      "execution_count": 537,
      "outputs": []
    },
    {
      "cell_type": "code",
      "source": [
        "train = train_df\n",
        "train['label'] = 0"
      ],
      "metadata": {
        "id": "Mzc8yF95R9Ay"
      },
      "execution_count": null,
      "outputs": []
    },
    {
      "cell_type": "code",
      "source": [
        "explainer = lime.lime_tabular.LimeTabularExplainer(train, feature_names=train.columns, class_names=['label'],\n",
        "                                                   verbose=True, mode='regression',\n",
        "                                                   random_state = 42)"
      ],
      "metadata": {
        "id": "mRsi1mhWRD2u"
      },
      "execution_count": null,
      "outputs": []
    },
    {
      "cell_type": "markdown",
      "source": [
        "###TCAV"
      ],
      "metadata": {
        "id": "RWQqyXCCZx8a"
      }
    },
    {
      "cell_type": "code",
      "source": [
        "%pip install tensorflow\n",
        "%pip install tcav"
      ],
      "metadata": {
        "colab": {
          "base_uri": "https://localhost:8080/"
        },
        "id": "N7bxST42Z0MG",
        "outputId": "8ed1414c-475c-470a-dcc3-35895cdf838d"
      },
      "execution_count": 29,
      "outputs": [
        {
          "output_type": "stream",
          "name": "stdout",
          "text": [
            "Looking in indexes: https://pypi.org/simple, https://us-python.pkg.dev/colab-wheels/public/simple/\n",
            "Collecting tcav\n",
            "  Downloading tcav-0.2.2-py3-none-any.whl (54 kB)\n",
            "\u001b[K     |████████████████████████████████| 54 kB 2.0 MB/s \n",
            "\u001b[?25hRequirement already satisfied: Pillow>=6.0.0 in /usr/local/lib/python3.7/dist-packages (from tcav) (7.1.2)\n",
            "Requirement already satisfied: protobuf>=3.10.0 in /usr/local/lib/python3.7/dist-packages (from tcav) (3.17.3)\n",
            "Requirement already satisfied: matplotlib>=2.2.4 in /usr/local/lib/python3.7/dist-packages (from tcav) (3.2.2)\n",
            "Requirement already satisfied: scikit-learn>=0.20.3 in /usr/local/lib/python3.7/dist-packages (from tcav) (1.0.2)\n",
            "Requirement already satisfied: scipy>=1.2.1 in /usr/local/lib/python3.7/dist-packages (from tcav) (1.7.3)\n",
            "Requirement already satisfied: pyparsing!=2.0.4,!=2.1.2,!=2.1.6,>=2.0.1 in /usr/local/lib/python3.7/dist-packages (from matplotlib>=2.2.4->tcav) (3.0.9)\n",
            "Requirement already satisfied: numpy>=1.11 in /usr/local/lib/python3.7/dist-packages (from matplotlib>=2.2.4->tcav) (1.21.6)\n",
            "Requirement already satisfied: kiwisolver>=1.0.1 in /usr/local/lib/python3.7/dist-packages (from matplotlib>=2.2.4->tcav) (1.4.4)\n",
            "Requirement already satisfied: cycler>=0.10 in /usr/local/lib/python3.7/dist-packages (from matplotlib>=2.2.4->tcav) (0.11.0)\n",
            "Requirement already satisfied: python-dateutil>=2.1 in /usr/local/lib/python3.7/dist-packages (from matplotlib>=2.2.4->tcav) (2.8.2)\n",
            "Requirement already satisfied: typing-extensions in /usr/local/lib/python3.7/dist-packages (from kiwisolver>=1.0.1->matplotlib>=2.2.4->tcav) (4.1.1)\n",
            "Requirement already satisfied: six>=1.9 in /usr/local/lib/python3.7/dist-packages (from protobuf>=3.10.0->tcav) (1.15.0)\n",
            "Requirement already satisfied: joblib>=0.11 in /usr/local/lib/python3.7/dist-packages (from scikit-learn>=0.20.3->tcav) (1.1.0)\n",
            "Requirement already satisfied: threadpoolctl>=2.0.0 in /usr/local/lib/python3.7/dist-packages (from scikit-learn>=0.20.3->tcav) (3.1.0)\n",
            "Installing collected packages: tcav\n",
            "Successfully installed tcav-0.2.2\n"
          ]
        }
      ]
    },
    {
      "cell_type": "code",
      "source": [
        ""
      ],
      "metadata": {
        "id": "l41t1MaDZ6MT"
      },
      "execution_count": null,
      "outputs": []
    }
  ],
  "metadata": {
    "accelerator": "GPU",
    "colab": {
      "collapsed_sections": [],
      "machine_shape": "hm",
      "name": "Neural Base Model.ipynb",
      "provenance": [],
      "authorship_tag": "ABX9TyPIK8niMNahoYw8CYHfun5z",
      "include_colab_link": true
    },
    "gpuClass": "standard",
    "kernelspec": {
      "display_name": "Python 3",
      "name": "python3"
    }
  },
  "nbformat": 4,
  "nbformat_minor": 0
}