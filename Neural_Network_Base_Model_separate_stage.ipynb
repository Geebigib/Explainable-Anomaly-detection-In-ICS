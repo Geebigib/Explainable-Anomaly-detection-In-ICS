{
  "cells": [
    {
      "cell_type": "markdown",
      "metadata": {
        "id": "view-in-github",
        "colab_type": "text"
      },
      "source": [
        "<a href=\"https://colab.research.google.com/github/Geebigib/Data-Science-Project/blob/main/Neural_Network_Base_Model_separate_stage.ipynb\" target=\"_parent\"><img src=\"https://colab.research.google.com/assets/colab-badge.svg\" alt=\"Open In Colab\"/></a>"
      ]
    },
    {
      "cell_type": "code",
      "execution_count": 1,
      "metadata": {
        "colab": {
          "base_uri": "https://localhost:8080/"
        },
        "id": "UzxFI3UZFMBJ",
        "outputId": "cfdbadef-991c-45a2-e4c6-93daebffd554"
      },
      "outputs": [
        {
          "output_type": "stream",
          "name": "stdout",
          "text": [
            "Mounted at /content/drive\n"
          ]
        }
      ],
      "source": [
        "from google.colab import drive\n",
        "drive.mount('/content/drive')"
      ]
    },
    {
      "cell_type": "code",
      "execution_count": 2,
      "metadata": {
        "colab": {
          "base_uri": "https://localhost:8080/"
        },
        "id": "_Cl9RiEXdfTE",
        "outputId": "1eacd9c3-b860-4a13-a3e3-3d0a3f9d1fd3"
      },
      "outputs": [
        {
          "output_type": "stream",
          "name": "stdout",
          "text": [
            "\u001b[?25l\r\u001b[K     |██▍                             | 10 kB 34.7 MB/s eta 0:00:01\r\u001b[K     |████▉                           | 20 kB 16.9 MB/s eta 0:00:01\r\u001b[K     |███████▎                        | 30 kB 9.7 MB/s eta 0:00:01\r\u001b[K     |█████████▊                      | 40 kB 9.9 MB/s eta 0:00:01\r\u001b[K     |████████████▏                   | 51 kB 6.7 MB/s eta 0:00:01\r\u001b[K     |██████████████▋                 | 61 kB 7.9 MB/s eta 0:00:01\r\u001b[K     |█████████████████               | 71 kB 8.3 MB/s eta 0:00:01\r\u001b[K     |███████████████████▌            | 81 kB 9.3 MB/s eta 0:00:01\r\u001b[K     |██████████████████████          | 92 kB 7.6 MB/s eta 0:00:01\r\u001b[K     |████████████████████████▍       | 102 kB 8.1 MB/s eta 0:00:01\r\u001b[K     |██████████████████████████▉     | 112 kB 8.1 MB/s eta 0:00:01\r\u001b[K     |█████████████████████████████▎  | 122 kB 8.1 MB/s eta 0:00:01\r\u001b[K     |███████████████████████████████▊| 133 kB 8.1 MB/s eta 0:00:01\r\u001b[K     |████████████████████████████████| 134 kB 8.1 MB/s \n",
            "\u001b[?25h  Building wheel for pyod (setup.py) ... \u001b[?25l\u001b[?25hdone\n"
          ]
        }
      ],
      "source": [
        "!pip install pyod --quiet"
      ]
    },
    {
      "cell_type": "code",
      "execution_count": 3,
      "metadata": {
        "colab": {
          "base_uri": "https://localhost:8080/"
        },
        "id": "od9i8uI0btzr",
        "outputId": "8948b671-d86a-4e8c-99ab-c792e3077edd"
      },
      "outputs": [
        {
          "output_type": "stream",
          "name": "stdout",
          "text": [
            "Archive:  /content/drive/MyDrive/SWaT_Dataset_v0.zip\n",
            "  inflating: /content/SWaT_Dataset_Attack_v0.csv  \n",
            "  inflating: /content/SWaT_Dataset_Normal_v0.csv  \n"
          ]
        }
      ],
      "source": [
        "!unzip /content/drive/MyDrive/SWaT_Dataset_v0.zip -d /content/"
      ]
    },
    {
      "cell_type": "code",
      "execution_count": 4,
      "metadata": {
        "id": "ef09e9a3-bebc-407a-8492-838438b4e288"
      },
      "outputs": [],
      "source": [
        "import numpy as np\n",
        "import os\n",
        "import pandas as pd\n",
        "from glob import glob\n",
        "from sklearn.preprocessing import MinMaxScaler\n",
        "from collections import Counter\n",
        "import pickle\n",
        "import tqdm\n",
        "import matplotlib.pyplot as plt\n",
        "from sklearn import metrics\n",
        "import pyod\n",
        "import seaborn as sns\n",
        "import timeit\n",
        "from sklearn.metrics import confusion_matrix"
      ]
    },
    {
      "cell_type": "markdown",
      "metadata": {
        "id": "kKdqmsEGblq4"
      },
      "source": [
        "Data Pre-processing"
      ]
    },
    {
      "cell_type": "code",
      "execution_count": 5,
      "metadata": {
        "id": "IO6QxPKoJq0H"
      },
      "outputs": [],
      "source": [
        "swat_normal = pd.read_csv(\"SWaT_Dataset_Normal_v0.csv\", skiprows=1)\n",
        "swat_attack = pd.read_csv(\"SWaT_Dataset_Attack_v0.csv\")"
      ]
    },
    {
      "cell_type": "code",
      "execution_count": 6,
      "metadata": {
        "id": "ba1cbb77-2b06-4667-91df-75e8da68b68d"
      },
      "outputs": [],
      "source": [
        "swat_normal.columns = swat_normal.columns.str.replace(' ','')\n",
        "swat_attack.columns = swat_attack.columns.str.replace(' ','')"
      ]
    },
    {
      "cell_type": "code",
      "execution_count": 7,
      "metadata": {
        "id": "dk2m6eZ7fXPO"
      },
      "outputs": [],
      "source": [
        "swat_attack[\"Normal/Attack\"].replace(' ', '', regex=True, inplace=True)"
      ]
    },
    {
      "cell_type": "code",
      "execution_count": 8,
      "metadata": {
        "id": "NKJf4rvncNvR"
      },
      "outputs": [],
      "source": [
        "test_df = swat_attack.set_index('Timestamp')\n",
        "test_df['label'] = np.where(test_df['Normal/Attack'] == 'Attack', 1, 0)\n",
        "\n",
        "test_df = test_df.drop('Normal/Attack', axis=1)\n",
        "\n",
        "train_df = swat_normal.set_index('Timestamp')\n",
        "train_df['label'] = np.where(train_df['Normal/Attack'] == 'Attack', 1, 0)\n",
        "train_df = train_df.drop('Normal/Attack', axis=1)\n",
        "\n",
        "# trim start stage\n",
        "train_df = train_df.iloc[21600:]\n"
      ]
    },
    {
      "cell_type": "code",
      "execution_count": 9,
      "metadata": {
        "id": "IA0qJp-NQn_t"
      },
      "outputs": [],
      "source": [
        "train_df.drop(columns = 'label',inplace = True)\n",
        "label = test_df['label'].values\n",
        "test_df.drop(columns = 'label',inplace = True)"
      ]
    },
    {
      "cell_type": "code",
      "execution_count": 10,
      "metadata": {
        "id": "34ca9ad8-0f02-4764-b864-1b7e9f9fc56d"
      },
      "outputs": [],
      "source": [
        "#normalise data\n",
        "scaler = MinMaxScaler()\n",
        "scaler = scaler.fit(train_df)"
      ]
    },
    {
      "cell_type": "code",
      "execution_count": 11,
      "metadata": {
        "id": "574bbe23-9e71-4079-9b3d-a91b353a5364"
      },
      "outputs": [],
      "source": [
        "train_scale = pd.DataFrame(\n",
        "    scaler.transform(train_df),\n",
        "    index = train_df.index,\n",
        "    columns= train_df.columns\n",
        ")\n",
        "\n",
        "test_scale  = pd.DataFrame(\n",
        "    scaler.transform(test_df),\n",
        "    index = test_df.index,\n",
        "    columns= test_df.columns\n",
        ")"
      ]
    },
    {
      "cell_type": "code",
      "execution_count": 12,
      "metadata": {
        "colab": {
          "base_uri": "https://localhost:8080/"
        },
        "id": "dlpVnPfNQpdk",
        "outputId": "8508fe5d-6a55-407a-ab89-63732b65125b"
      },
      "outputs": [
        {
          "output_type": "execute_result",
          "data": {
            "text/plain": [
              "((475200, 51), (449919, 51))"
            ]
          },
          "metadata": {},
          "execution_count": 12
        }
      ],
      "source": [
        "train_scale.shape ,test_scale.shape"
      ]
    },
    {
      "cell_type": "code",
      "source": [
        "train_df.columns"
      ],
      "metadata": {
        "colab": {
          "base_uri": "https://localhost:8080/"
        },
        "id": "fRXg_hqqrYP8",
        "outputId": "4a878a5f-481b-481d-981e-480d12246ec5"
      },
      "execution_count": 13,
      "outputs": [
        {
          "output_type": "execute_result",
          "data": {
            "text/plain": [
              "Index(['FIT101', 'LIT101', 'MV101', 'P101', 'P102', 'AIT201', 'AIT202',\n",
              "       'AIT203', 'FIT201', 'MV201', 'P201', 'P202', 'P203', 'P204', 'P205',\n",
              "       'P206', 'DPIT301', 'FIT301', 'LIT301', 'MV301', 'MV302', 'MV303',\n",
              "       'MV304', 'P301', 'P302', 'AIT401', 'AIT402', 'FIT401', 'LIT401', 'P401',\n",
              "       'P402', 'P403', 'P404', 'UV401', 'AIT501', 'AIT502', 'AIT503', 'AIT504',\n",
              "       'FIT501', 'FIT502', 'FIT503', 'FIT504', 'P501', 'P502', 'PIT501',\n",
              "       'PIT502', 'PIT503', 'FIT601', 'P601', 'P602', 'P603'],\n",
              "      dtype='object')"
            ]
          },
          "metadata": {},
          "execution_count": 13
        }
      ]
    },
    {
      "cell_type": "code",
      "source": [
        "P1 = ['FIT101', 'LIT101', 'MV101', 'P101', 'P102']\n",
        "P2 = ['AIT201', 'AIT202','AIT203', 'FIT201', 'MV201', 'P201', 'P202', 'P203', 'P204', 'P205', 'P206']\n",
        "P3 = ['DPIT301', 'FIT301', 'LIT301', 'MV301', 'MV302', 'MV303', 'MV304', 'P301', 'P302']\n",
        "P4 = ['AIT401', 'AIT402', 'FIT401', 'LIT401', 'P401', 'P402', 'P403', 'P404', 'UV401']\n",
        "P5 = ['AIT501', 'AIT502', 'AIT503', 'AIT504','FIT501', 'FIT502', 'FIT503', 'FIT504', 'P501', 'P502', 'PIT501',\n",
        "       'PIT502', 'PIT503']\n",
        "P6 = ['FIT601', 'P601', 'P602', 'P603']"
      ],
      "metadata": {
        "id": "3VEPGP-KrbU_"
      },
      "execution_count": 14,
      "outputs": []
    },
    {
      "cell_type": "markdown",
      "metadata": {
        "id": "Ci6PSqZjboNE"
      },
      "source": [
        "Model Prediction on each stage"
      ]
    },
    {
      "cell_type": "code",
      "execution_count": 28,
      "metadata": {
        "id": "9SngcuRjuWHS"
      },
      "outputs": [],
      "source": [
        "from  pyod.models.deep_svdd import DeepSVDD\n",
        "model = DeepSVDD(preprocessing = False,epochs=100, batch_size=64, hidden_neurons=[64, 32])"
      ]
    },
    {
      "cell_type": "code",
      "source": [
        "def get_test_score(stage,train_scale,test_scale):\n",
        "  norm_test_scores = []\n",
        "  test_scores = []\n",
        "  train_scores = []\n",
        "  norm_train_scores = []\n",
        "  trainning_time = []\n",
        "  prediction_time = []\n",
        "\n",
        "  for i in stage:\n",
        "    start = timeit.default_timer()\n",
        "    model.fit(train_scale[i])\n",
        "    end = timeit.default_timer()\n",
        "\n",
        "    train_score = model.decision_scores_\n",
        "    start_pred = timeit.default_timer()\n",
        "    test_score = model.decision_function(test_scale[i])\n",
        "    end_pred = timeit.default_timer()\n",
        "\n",
        "    test_scores.append(test_score)\n",
        "    train_scores.append(train_score)\n",
        "\n",
        "    trainning_time.append(end-start)\n",
        "    prediction_time.append(end_pred-start_pred)\n",
        "\n",
        "    #normalise train&test score\n",
        "    min_train = min(train_score)\n",
        "    max_train = max(train_score)\n",
        "    norm_train = (train_score-min_train)/(max_train-min_train)\n",
        "    norm_test = (test_score - min_train)/(max_train-min_train)\n",
        "\n",
        "    norm_test_scores.append(norm_test)\n",
        "    norm_train_scores.append(norm_train)\n",
        "\n",
        "    print(f\"------ Finish Stage {i} ------\")\n",
        "  return norm_test_scores,test_scores,train_scores,norm_train_scores,trainning_time,prediction_time\n"
      ],
      "metadata": {
        "id": "P6miKK_11BMh"
      },
      "execution_count": 29,
      "outputs": []
    },
    {
      "cell_type": "code",
      "source": [
        "stage = [P1,P2,P3,P4,P5,P6]"
      ],
      "metadata": {
        "id": "IBBOsYne3Oiy"
      },
      "execution_count": 30,
      "outputs": []
    },
    {
      "cell_type": "code",
      "source": [
        "norm_test_scores,test_scores,train_scores,norm_train_scores,trainning_time,prediction_time = get_test_score(stage,train_scale,test_scale)"
      ],
      "metadata": {
        "colab": {
          "base_uri": "https://localhost:8080/"
        },
        "id": "vZYCM4Jh3YlL",
        "outputId": "4b3b8ac2-a2f9-4e00-b2d0-07110bbe91b5"
      },
      "execution_count": 31,
      "outputs": [
        {
          "output_type": "stream",
          "name": "stdout",
          "text": [
            "14850/14850 [==============================] - 14s 946us/step\n",
            "Model: \"model_23\"\n",
            "_________________________________________________________________\n",
            " Layer (type)                Output Shape              Param #   \n",
            "=================================================================\n",
            " input_16 (InputLayer)       [(None, 5)]               0         \n",
            "                                                                 \n",
            " dense_15 (Dense)            (None, 64)                320       \n",
            "                                                                 \n",
            " net_output (Dense)          (None, 32)                2048      \n",
            "                                                                 \n",
            " tf.math.subtract_15 (TFOpLa  (None, 32)               0         \n",
            " mbda)                                                           \n",
            "                                                                 \n",
            " tf.math.pow_15 (TFOpLambda)  (None, 32)               0         \n",
            "                                                                 \n",
            " tf.math.reduce_sum_15 (TFOp  (None,)                  0         \n",
            " Lambda)                                                         \n",
            "                                                                 \n",
            " tf.math.reduce_mean_15 (TFO  ()                       0         \n",
            " pLambda)                                                        \n",
            "                                                                 \n",
            " tf.__operators__.add_15 (TF  ()                       0         \n",
            " OpLambda)                                                       \n",
            "                                                                 \n",
            " add_loss_15 (AddLoss)       ()                        0         \n",
            "                                                                 \n",
            "=================================================================\n",
            "Total params: 2,368\n",
            "Trainable params: 2,368\n",
            "Non-trainable params: 0\n",
            "_________________________________________________________________\n",
            "None\n",
            "Epoch 1/100\n",
            "6683/6683 [==============================] - 14s 2ms/step - loss: 0.0883 - val_loss: 0.0684\n",
            "Epoch 2/100\n",
            "6683/6683 [==============================] - 14s 2ms/step - loss: 0.0682 - val_loss: 0.0681\n",
            "Epoch 3/100\n",
            "6683/6683 [==============================] - 14s 2ms/step - loss: 0.0681 - val_loss: 0.0680\n",
            "Epoch 4/100\n",
            "6683/6683 [==============================] - 14s 2ms/step - loss: 0.0680 - val_loss: 0.0680\n",
            "Epoch 5/100\n",
            "6683/6683 [==============================] - 14s 2ms/step - loss: 0.0680 - val_loss: 0.0680\n",
            "Epoch 6/100\n",
            "6683/6683 [==============================] - 14s 2ms/step - loss: 0.0680 - val_loss: 0.0679\n",
            "Epoch 7/100\n",
            "6683/6683 [==============================] - 14s 2ms/step - loss: 0.0680 - val_loss: 0.0679\n",
            "Epoch 8/100\n",
            "6683/6683 [==============================] - 14s 2ms/step - loss: 0.0680 - val_loss: 0.0679\n",
            "Epoch 9/100\n",
            "6683/6683 [==============================] - 14s 2ms/step - loss: 0.0680 - val_loss: 0.0679\n",
            "Epoch 10/100\n",
            "6683/6683 [==============================] - 14s 2ms/step - loss: 0.0680 - val_loss: 0.0679\n",
            "Epoch 11/100\n",
            "6683/6683 [==============================] - 14s 2ms/step - loss: 0.0679 - val_loss: 0.0679\n",
            "Epoch 12/100\n",
            "6683/6683 [==============================] - 14s 2ms/step - loss: 0.0679 - val_loss: 0.0679\n",
            "Epoch 13/100\n",
            "6683/6683 [==============================] - 14s 2ms/step - loss: 0.0679 - val_loss: 0.0679\n",
            "Epoch 14/100\n",
            "6683/6683 [==============================] - 14s 2ms/step - loss: 0.0679 - val_loss: 0.0679\n",
            "Epoch 15/100\n",
            "6683/6683 [==============================] - 14s 2ms/step - loss: 0.0679 - val_loss: 0.0679\n",
            "Epoch 16/100\n",
            "6683/6683 [==============================] - 14s 2ms/step - loss: 0.0679 - val_loss: 0.0679\n",
            "Epoch 17/100\n",
            "6683/6683 [==============================] - 14s 2ms/step - loss: 0.0679 - val_loss: 0.0679\n",
            "Epoch 18/100\n",
            "6683/6683 [==============================] - 14s 2ms/step - loss: 0.0679 - val_loss: 0.0679\n",
            "Epoch 19/100\n",
            "6683/6683 [==============================] - 14s 2ms/step - loss: 0.0679 - val_loss: 0.0680\n",
            "Epoch 20/100\n",
            "6683/6683 [==============================] - 14s 2ms/step - loss: 0.0679 - val_loss: 0.0679\n",
            "Epoch 21/100\n",
            "6683/6683 [==============================] - 14s 2ms/step - loss: 0.0679 - val_loss: 0.0679\n",
            "Epoch 22/100\n",
            "6683/6683 [==============================] - 14s 2ms/step - loss: 0.0679 - val_loss: 0.0679\n",
            "Epoch 23/100\n",
            "6683/6683 [==============================] - 14s 2ms/step - loss: 0.0679 - val_loss: 0.0679\n",
            "Epoch 24/100\n",
            "6683/6683 [==============================] - 14s 2ms/step - loss: 0.0679 - val_loss: 0.0679\n",
            "Epoch 25/100\n",
            "6683/6683 [==============================] - 14s 2ms/step - loss: 0.0679 - val_loss: 0.0679\n",
            "Epoch 26/100\n",
            "6683/6683 [==============================] - 14s 2ms/step - loss: 0.0679 - val_loss: 0.0679\n",
            "Epoch 27/100\n",
            "6683/6683 [==============================] - 14s 2ms/step - loss: 0.0679 - val_loss: 0.0679\n",
            "Epoch 28/100\n",
            "6683/6683 [==============================] - 14s 2ms/step - loss: 0.0679 - val_loss: 0.0679\n",
            "Epoch 29/100\n",
            "6683/6683 [==============================] - 14s 2ms/step - loss: 0.0679 - val_loss: 0.0679\n",
            "Epoch 30/100\n",
            "6683/6683 [==============================] - 14s 2ms/step - loss: 0.0679 - val_loss: 0.0679\n",
            "Epoch 31/100\n",
            "6683/6683 [==============================] - 14s 2ms/step - loss: 0.0679 - val_loss: 0.0680\n",
            "Epoch 32/100\n",
            "6683/6683 [==============================] - 14s 2ms/step - loss: 0.0679 - val_loss: 0.0679\n",
            "Epoch 33/100\n",
            "6683/6683 [==============================] - 14s 2ms/step - loss: 0.0679 - val_loss: 0.0679\n",
            "Epoch 34/100\n",
            "6683/6683 [==============================] - 14s 2ms/step - loss: 0.0679 - val_loss: 0.0679\n",
            "Epoch 35/100\n",
            "6683/6683 [==============================] - 14s 2ms/step - loss: 0.0679 - val_loss: 0.0679\n",
            "Epoch 36/100\n",
            "6683/6683 [==============================] - 14s 2ms/step - loss: 0.0679 - val_loss: 0.0679\n",
            "Epoch 37/100\n",
            "6683/6683 [==============================] - 14s 2ms/step - loss: 0.0679 - val_loss: 0.0679\n",
            "Epoch 38/100\n",
            "6683/6683 [==============================] - 14s 2ms/step - loss: 0.0679 - val_loss: 0.0679\n",
            "Epoch 39/100\n",
            "6683/6683 [==============================] - 14s 2ms/step - loss: 0.0679 - val_loss: 0.0679\n",
            "Epoch 40/100\n",
            "6683/6683 [==============================] - 14s 2ms/step - loss: 0.0679 - val_loss: 0.0679\n",
            "Epoch 41/100\n",
            "6683/6683 [==============================] - 14s 2ms/step - loss: 0.0679 - val_loss: 0.0679\n",
            "Epoch 42/100\n",
            "6683/6683 [==============================] - 14s 2ms/step - loss: 0.0679 - val_loss: 0.0679\n",
            "Epoch 43/100\n",
            "6683/6683 [==============================] - 14s 2ms/step - loss: 0.0679 - val_loss: 0.0679\n",
            "Epoch 44/100\n",
            "6683/6683 [==============================] - 14s 2ms/step - loss: 0.0679 - val_loss: 0.0679\n",
            "Epoch 45/100\n",
            "6683/6683 [==============================] - 14s 2ms/step - loss: 0.0679 - val_loss: 0.0679\n",
            "Epoch 46/100\n",
            "6683/6683 [==============================] - 14s 2ms/step - loss: 0.0679 - val_loss: 0.0679\n",
            "Epoch 47/100\n",
            "6683/6683 [==============================] - 14s 2ms/step - loss: 0.0679 - val_loss: 0.0679\n",
            "Epoch 48/100\n",
            "6683/6683 [==============================] - 14s 2ms/step - loss: 0.0679 - val_loss: 0.0679\n",
            "Epoch 49/100\n",
            "6683/6683 [==============================] - 14s 2ms/step - loss: 0.0679 - val_loss: 0.0679\n",
            "Epoch 50/100\n",
            "6683/6683 [==============================] - 14s 2ms/step - loss: 0.0679 - val_loss: 0.0679\n",
            "Epoch 51/100\n",
            "6683/6683 [==============================] - 14s 2ms/step - loss: 0.0679 - val_loss: 0.0679\n",
            "Epoch 52/100\n",
            "6683/6683 [==============================] - 14s 2ms/step - loss: 0.0679 - val_loss: 0.0679\n",
            "Epoch 53/100\n",
            "6683/6683 [==============================] - 14s 2ms/step - loss: 0.0679 - val_loss: 0.0679\n",
            "Epoch 54/100\n",
            "6683/6683 [==============================] - 14s 2ms/step - loss: 0.0679 - val_loss: 0.0679\n",
            "Epoch 55/100\n",
            "6683/6683 [==============================] - 14s 2ms/step - loss: 0.0679 - val_loss: 0.0683\n",
            "Epoch 56/100\n",
            "6683/6683 [==============================] - 14s 2ms/step - loss: 0.0679 - val_loss: 0.0679\n",
            "Epoch 57/100\n",
            "6683/6683 [==============================] - 14s 2ms/step - loss: 0.0679 - val_loss: 0.0679\n",
            "Epoch 58/100\n",
            "6683/6683 [==============================] - 14s 2ms/step - loss: 0.0679 - val_loss: 0.0679\n",
            "Epoch 59/100\n",
            "6683/6683 [==============================] - 14s 2ms/step - loss: 0.0679 - val_loss: 0.0680\n",
            "Epoch 60/100\n",
            "6683/6683 [==============================] - 14s 2ms/step - loss: 0.0679 - val_loss: 0.0679\n",
            "Epoch 61/100\n",
            "6683/6683 [==============================] - 14s 2ms/step - loss: 0.0679 - val_loss: 0.0679\n",
            "Epoch 62/100\n",
            "6683/6683 [==============================] - 14s 2ms/step - loss: 0.0679 - val_loss: 0.0679\n",
            "Epoch 63/100\n",
            "6683/6683 [==============================] - 14s 2ms/step - loss: 0.0679 - val_loss: 0.0679\n",
            "Epoch 64/100\n",
            "6683/6683 [==============================] - 14s 2ms/step - loss: 0.0679 - val_loss: 0.0679\n",
            "Epoch 65/100\n",
            "6683/6683 [==============================] - 14s 2ms/step - loss: 0.0679 - val_loss: 0.0679\n",
            "Epoch 66/100\n",
            "6683/6683 [==============================] - 14s 2ms/step - loss: 0.0679 - val_loss: 0.0679\n",
            "Epoch 67/100\n",
            "6683/6683 [==============================] - 14s 2ms/step - loss: 0.0679 - val_loss: 0.0679\n",
            "Epoch 68/100\n",
            "6683/6683 [==============================] - 14s 2ms/step - loss: 0.0679 - val_loss: 0.0679\n",
            "Epoch 69/100\n",
            "6683/6683 [==============================] - 14s 2ms/step - loss: 0.0679 - val_loss: 0.0679\n",
            "Epoch 70/100\n",
            "6683/6683 [==============================] - 14s 2ms/step - loss: 0.0679 - val_loss: 0.0679\n",
            "Epoch 71/100\n",
            "6683/6683 [==============================] - 14s 2ms/step - loss: 0.0679 - val_loss: 0.0679\n",
            "Epoch 72/100\n",
            "6683/6683 [==============================] - 14s 2ms/step - loss: 0.0679 - val_loss: 0.0679\n",
            "Epoch 73/100\n",
            "6683/6683 [==============================] - 14s 2ms/step - loss: 0.0679 - val_loss: 0.0679\n",
            "Epoch 74/100\n",
            "6683/6683 [==============================] - 14s 2ms/step - loss: 0.0679 - val_loss: 0.0679\n",
            "Epoch 75/100\n",
            "6683/6683 [==============================] - 14s 2ms/step - loss: 0.0679 - val_loss: 0.0679\n",
            "Epoch 76/100\n",
            "6683/6683 [==============================] - 14s 2ms/step - loss: 0.0679 - val_loss: 0.0679\n",
            "Epoch 77/100\n",
            "6683/6683 [==============================] - 14s 2ms/step - loss: 0.0679 - val_loss: 0.0680\n",
            "Epoch 78/100\n",
            "6683/6683 [==============================] - 14s 2ms/step - loss: 0.0679 - val_loss: 0.0679\n",
            "Epoch 79/100\n",
            "6683/6683 [==============================] - 14s 2ms/step - loss: 0.0679 - val_loss: 0.0679\n",
            "Epoch 80/100\n",
            "6683/6683 [==============================] - 14s 2ms/step - loss: 0.0679 - val_loss: 0.0679\n",
            "Epoch 81/100\n",
            "6683/6683 [==============================] - 14s 2ms/step - loss: 0.0679 - val_loss: 0.0679\n",
            "Epoch 82/100\n",
            "6683/6683 [==============================] - 14s 2ms/step - loss: 0.0679 - val_loss: 0.0679\n",
            "Epoch 83/100\n",
            "6683/6683 [==============================] - 14s 2ms/step - loss: 0.0679 - val_loss: 0.0679\n",
            "Epoch 84/100\n",
            "6683/6683 [==============================] - 14s 2ms/step - loss: 0.0679 - val_loss: 0.0679\n",
            "Epoch 85/100\n",
            "6683/6683 [==============================] - 14s 2ms/step - loss: 0.0679 - val_loss: 0.0678\n",
            "Epoch 86/100\n",
            "6683/6683 [==============================] - 14s 2ms/step - loss: 0.0679 - val_loss: 0.0679\n",
            "Epoch 87/100\n",
            "6683/6683 [==============================] - 14s 2ms/step - loss: 0.0679 - val_loss: 0.0679\n",
            "Epoch 88/100\n",
            "6683/6683 [==============================] - 14s 2ms/step - loss: 0.0679 - val_loss: 0.0679\n",
            "Epoch 89/100\n",
            "6683/6683 [==============================] - 15s 2ms/step - loss: 0.0679 - val_loss: 0.0678\n",
            "Epoch 90/100\n",
            "6683/6683 [==============================] - 14s 2ms/step - loss: 0.0679 - val_loss: 0.0679\n",
            "Epoch 91/100\n",
            "6683/6683 [==============================] - 14s 2ms/step - loss: 0.0679 - val_loss: 0.0679\n",
            "Epoch 92/100\n",
            "6683/6683 [==============================] - 14s 2ms/step - loss: 0.0679 - val_loss: 0.0678\n",
            "Epoch 93/100\n",
            "6683/6683 [==============================] - 14s 2ms/step - loss: 0.0679 - val_loss: 0.0679\n",
            "Epoch 94/100\n",
            "6683/6683 [==============================] - 14s 2ms/step - loss: 0.0679 - val_loss: 0.0679\n",
            "Epoch 95/100\n",
            "6683/6683 [==============================] - 14s 2ms/step - loss: 0.0679 - val_loss: 0.0681\n",
            "Epoch 96/100\n",
            "6683/6683 [==============================] - 14s 2ms/step - loss: 0.0679 - val_loss: 0.0679\n",
            "Epoch 97/100\n",
            "6683/6683 [==============================] - 14s 2ms/step - loss: 0.0679 - val_loss: 0.0678\n",
            "Epoch 98/100\n",
            "6683/6683 [==============================] - 14s 2ms/step - loss: 0.0679 - val_loss: 0.0678\n",
            "Epoch 99/100\n",
            "6683/6683 [==============================] - 14s 2ms/step - loss: 0.0679 - val_loss: 0.0678\n",
            "Epoch 100/100\n",
            "6683/6683 [==============================] - 14s 2ms/step - loss: 0.0679 - val_loss: 0.0680\n",
            "14850/14850 [==============================] - 17s 1ms/step\n",
            "14060/14060 [==============================] - 16s 1ms/step\n",
            "------ Finish Stage ['FIT101', 'LIT101', 'MV101', 'P101', 'P102'] ------\n",
            "Model: \"model_24\"\n",
            "_________________________________________________________________\n",
            " Layer (type)                Output Shape              Param #   \n",
            "=================================================================\n",
            " input_17 (InputLayer)       [(None, 11)]              0         \n",
            "                                                                 \n",
            " dense_16 (Dense)            (None, 64)                704       \n",
            "                                                                 \n",
            " net_output (Dense)          (None, 32)                2048      \n",
            "                                                                 \n",
            " tf.math.subtract_16 (TFOpLa  (None, 32)               0         \n",
            " mbda)                                                           \n",
            "                                                                 \n",
            " tf.math.pow_16 (TFOpLambda)  (None, 32)               0         \n",
            "                                                                 \n",
            " tf.math.reduce_sum_16 (TFOp  (None,)                  0         \n",
            " Lambda)                                                         \n",
            "                                                                 \n",
            " tf.math.reduce_mean_16 (TFO  ()                       0         \n",
            " pLambda)                                                        \n",
            "                                                                 \n",
            " tf.__operators__.add_16 (TF  ()                       0         \n",
            " OpLambda)                                                       \n",
            "                                                                 \n",
            " add_loss_16 (AddLoss)       ()                        0         \n",
            "                                                                 \n",
            "=================================================================\n",
            "Total params: 2,752\n",
            "Trainable params: 2,752\n",
            "Non-trainable params: 0\n",
            "_________________________________________________________________\n",
            "None\n",
            "Epoch 1/100\n",
            "6683/6683 [==============================] - 14s 2ms/step - loss: 0.0807 - val_loss: 0.0696\n",
            "Epoch 2/100\n",
            "6683/6683 [==============================] - 14s 2ms/step - loss: 0.0692 - val_loss: 0.0690\n",
            "Epoch 3/100\n",
            "6683/6683 [==============================] - 14s 2ms/step - loss: 0.0687 - val_loss: 0.0686\n",
            "Epoch 4/100\n",
            "6683/6683 [==============================] - 14s 2ms/step - loss: 0.0685 - val_loss: 0.0686\n",
            "Epoch 5/100\n",
            "6683/6683 [==============================] - 14s 2ms/step - loss: 0.0684 - val_loss: 0.0684\n",
            "Epoch 6/100\n",
            "6683/6683 [==============================] - 14s 2ms/step - loss: 0.0683 - val_loss: 0.0684\n",
            "Epoch 7/100\n",
            "6683/6683 [==============================] - 14s 2ms/step - loss: 0.0683 - val_loss: 0.0687\n",
            "Epoch 8/100\n",
            "6683/6683 [==============================] - 14s 2ms/step - loss: 0.0682 - val_loss: 0.0684\n",
            "Epoch 9/100\n",
            "6683/6683 [==============================] - 14s 2ms/step - loss: 0.0682 - val_loss: 0.0684\n",
            "Epoch 10/100\n",
            "6683/6683 [==============================] - 14s 2ms/step - loss: 0.0682 - val_loss: 0.0684\n",
            "Epoch 11/100\n",
            "6683/6683 [==============================] - 14s 2ms/step - loss: 0.0682 - val_loss: 0.0684\n",
            "Epoch 12/100\n",
            "6683/6683 [==============================] - 14s 2ms/step - loss: 0.0682 - val_loss: 0.0684\n",
            "Epoch 13/100\n",
            "6683/6683 [==============================] - 14s 2ms/step - loss: 0.0682 - val_loss: 0.0685\n",
            "Epoch 14/100\n",
            "6683/6683 [==============================] - 14s 2ms/step - loss: 0.0682 - val_loss: 0.0683\n",
            "Epoch 15/100\n",
            "6683/6683 [==============================] - 14s 2ms/step - loss: 0.0682 - val_loss: 0.0684\n",
            "Epoch 16/100\n",
            "6683/6683 [==============================] - 14s 2ms/step - loss: 0.0682 - val_loss: 0.0684\n",
            "Epoch 17/100\n",
            "6683/6683 [==============================] - 14s 2ms/step - loss: 0.0682 - val_loss: 0.0684\n",
            "Epoch 18/100\n",
            "6683/6683 [==============================] - 14s 2ms/step - loss: 0.0682 - val_loss: 0.0684\n",
            "Epoch 19/100\n",
            "6683/6683 [==============================] - 14s 2ms/step - loss: 0.0682 - val_loss: 0.0688\n",
            "Epoch 20/100\n",
            "6683/6683 [==============================] - 14s 2ms/step - loss: 0.0682 - val_loss: 0.0683\n",
            "Epoch 21/100\n",
            "6683/6683 [==============================] - 14s 2ms/step - loss: 0.0682 - val_loss: 0.0683\n",
            "Epoch 22/100\n",
            "6683/6683 [==============================] - 14s 2ms/step - loss: 0.0682 - val_loss: 0.0683\n",
            "Epoch 23/100\n",
            "6683/6683 [==============================] - 14s 2ms/step - loss: 0.0682 - val_loss: 0.0683\n",
            "Epoch 24/100\n",
            "6683/6683 [==============================] - 14s 2ms/step - loss: 0.0682 - val_loss: 0.0683\n",
            "Epoch 25/100\n",
            "6683/6683 [==============================] - 14s 2ms/step - loss: 0.0682 - val_loss: 0.0683\n",
            "Epoch 26/100\n",
            "6683/6683 [==============================] - 14s 2ms/step - loss: 0.0681 - val_loss: 0.0683\n",
            "Epoch 27/100\n",
            "6683/6683 [==============================] - 14s 2ms/step - loss: 0.0681 - val_loss: 0.0683\n",
            "Epoch 28/100\n",
            "6683/6683 [==============================] - 14s 2ms/step - loss: 0.0682 - val_loss: 0.0685\n",
            "Epoch 29/100\n",
            "6683/6683 [==============================] - 14s 2ms/step - loss: 0.0682 - val_loss: 0.0684\n",
            "Epoch 30/100\n",
            "6683/6683 [==============================] - 14s 2ms/step - loss: 0.0682 - val_loss: 0.0683\n",
            "Epoch 31/100\n",
            "6683/6683 [==============================] - 14s 2ms/step - loss: 0.0682 - val_loss: 0.0682\n",
            "Epoch 32/100\n",
            "6683/6683 [==============================] - 14s 2ms/step - loss: 0.0682 - val_loss: 0.0683\n",
            "Epoch 33/100\n",
            "6683/6683 [==============================] - 14s 2ms/step - loss: 0.0682 - val_loss: 0.0682\n",
            "Epoch 34/100\n",
            "6683/6683 [==============================] - 14s 2ms/step - loss: 0.0681 - val_loss: 0.0683\n",
            "Epoch 35/100\n",
            "6683/6683 [==============================] - 14s 2ms/step - loss: 0.0681 - val_loss: 0.0684\n",
            "Epoch 36/100\n",
            "6683/6683 [==============================] - 14s 2ms/step - loss: 0.0681 - val_loss: 0.0690\n",
            "Epoch 37/100\n",
            "6683/6683 [==============================] - 14s 2ms/step - loss: 0.0681 - val_loss: 0.0683\n",
            "Epoch 38/100\n",
            "6683/6683 [==============================] - 14s 2ms/step - loss: 0.0681 - val_loss: 0.0682\n",
            "Epoch 39/100\n",
            "6683/6683 [==============================] - 14s 2ms/step - loss: 0.0681 - val_loss: 0.0683\n",
            "Epoch 40/100\n",
            "6683/6683 [==============================] - 14s 2ms/step - loss: 0.0682 - val_loss: 0.0684\n",
            "Epoch 41/100\n",
            "6683/6683 [==============================] - 14s 2ms/step - loss: 0.0681 - val_loss: 0.0683\n",
            "Epoch 42/100\n",
            "6683/6683 [==============================] - 14s 2ms/step - loss: 0.0681 - val_loss: 0.0682\n",
            "Epoch 43/100\n",
            "6683/6683 [==============================] - 14s 2ms/step - loss: 0.0681 - val_loss: 0.0683\n",
            "Epoch 44/100\n",
            "6683/6683 [==============================] - 14s 2ms/step - loss: 0.0681 - val_loss: 0.0682\n",
            "Epoch 45/100\n",
            "6683/6683 [==============================] - 14s 2ms/step - loss: 0.0681 - val_loss: 0.0682\n",
            "Epoch 46/100\n",
            "6683/6683 [==============================] - 14s 2ms/step - loss: 0.0681 - val_loss: 0.0682\n",
            "Epoch 47/100\n",
            "6683/6683 [==============================] - 14s 2ms/step - loss: 0.0681 - val_loss: 0.0683\n",
            "Epoch 48/100\n",
            "6683/6683 [==============================] - 14s 2ms/step - loss: 0.0681 - val_loss: 0.0685\n",
            "Epoch 49/100\n",
            "6683/6683 [==============================] - 14s 2ms/step - loss: 0.0681 - val_loss: 0.0684\n",
            "Epoch 50/100\n",
            "6683/6683 [==============================] - 14s 2ms/step - loss: 0.0681 - val_loss: 0.0682\n",
            "Epoch 51/100\n",
            "6683/6683 [==============================] - 14s 2ms/step - loss: 0.0681 - val_loss: 0.0683\n",
            "Epoch 52/100\n",
            "6683/6683 [==============================] - 14s 2ms/step - loss: 0.0681 - val_loss: 0.0684\n",
            "Epoch 53/100\n",
            "6683/6683 [==============================] - 14s 2ms/step - loss: 0.0681 - val_loss: 0.0683\n",
            "Epoch 54/100\n",
            "6683/6683 [==============================] - 14s 2ms/step - loss: 0.0681 - val_loss: 0.0683\n",
            "Epoch 55/100\n",
            "6683/6683 [==============================] - 14s 2ms/step - loss: 0.0681 - val_loss: 0.0682\n",
            "Epoch 56/100\n",
            "6683/6683 [==============================] - 14s 2ms/step - loss: 0.0681 - val_loss: 0.0683\n",
            "Epoch 57/100\n",
            "6683/6683 [==============================] - 14s 2ms/step - loss: 0.0681 - val_loss: 0.0688\n",
            "Epoch 58/100\n",
            "6683/6683 [==============================] - 14s 2ms/step - loss: 0.0681 - val_loss: 0.0682\n",
            "Epoch 59/100\n",
            "6683/6683 [==============================] - 14s 2ms/step - loss: 0.0681 - val_loss: 0.0682\n",
            "Epoch 60/100\n",
            "6683/6683 [==============================] - 14s 2ms/step - loss: 0.0681 - val_loss: 0.0683\n",
            "Epoch 61/100\n",
            "6683/6683 [==============================] - 14s 2ms/step - loss: 0.0681 - val_loss: 0.0682\n",
            "Epoch 62/100\n",
            "6683/6683 [==============================] - 14s 2ms/step - loss: 0.0681 - val_loss: 0.0682\n",
            "Epoch 63/100\n",
            "6683/6683 [==============================] - 14s 2ms/step - loss: 0.0681 - val_loss: 0.0682\n",
            "Epoch 64/100\n",
            "6683/6683 [==============================] - 14s 2ms/step - loss: 0.0681 - val_loss: 0.0682\n",
            "Epoch 65/100\n",
            "6683/6683 [==============================] - 14s 2ms/step - loss: 0.0681 - val_loss: 0.0688\n",
            "Epoch 66/100\n",
            "6683/6683 [==============================] - 14s 2ms/step - loss: 0.0681 - val_loss: 0.0683\n",
            "Epoch 67/100\n",
            "6683/6683 [==============================] - 14s 2ms/step - loss: 0.0681 - val_loss: 0.0683\n",
            "Epoch 68/100\n",
            "6683/6683 [==============================] - 14s 2ms/step - loss: 0.0681 - val_loss: 0.0684\n",
            "Epoch 69/100\n",
            "6683/6683 [==============================] - 14s 2ms/step - loss: 0.0681 - val_loss: 0.0683\n",
            "Epoch 70/100\n",
            "6683/6683 [==============================] - 14s 2ms/step - loss: 0.0681 - val_loss: 0.0684\n",
            "Epoch 71/100\n",
            "6683/6683 [==============================] - 14s 2ms/step - loss: 0.0681 - val_loss: 0.0683\n",
            "Epoch 72/100\n",
            "6683/6683 [==============================] - 14s 2ms/step - loss: 0.0681 - val_loss: 0.0690\n",
            "Epoch 73/100\n",
            "6683/6683 [==============================] - 14s 2ms/step - loss: 0.0681 - val_loss: 0.0682\n",
            "Epoch 74/100\n",
            "6683/6683 [==============================] - 14s 2ms/step - loss: 0.0681 - val_loss: 0.0682\n",
            "Epoch 75/100\n",
            "6683/6683 [==============================] - 14s 2ms/step - loss: 0.0681 - val_loss: 0.0682\n",
            "Epoch 76/100\n",
            "6683/6683 [==============================] - 14s 2ms/step - loss: 0.0681 - val_loss: 0.0682\n",
            "Epoch 77/100\n",
            "6683/6683 [==============================] - 14s 2ms/step - loss: 0.0681 - val_loss: 0.0683\n",
            "Epoch 78/100\n",
            "6683/6683 [==============================] - 14s 2ms/step - loss: 0.0681 - val_loss: 0.0683\n",
            "Epoch 79/100\n",
            "6683/6683 [==============================] - 14s 2ms/step - loss: 0.0681 - val_loss: 0.0683\n",
            "Epoch 80/100\n",
            "6683/6683 [==============================] - 14s 2ms/step - loss: 0.0681 - val_loss: 0.0682\n",
            "Epoch 81/100\n",
            "6683/6683 [==============================] - 14s 2ms/step - loss: 0.0681 - val_loss: 0.0684\n",
            "Epoch 82/100\n",
            "6683/6683 [==============================] - 14s 2ms/step - loss: 0.0681 - val_loss: 0.0682\n",
            "Epoch 83/100\n",
            "6683/6683 [==============================] - 14s 2ms/step - loss: 0.0681 - val_loss: 0.0682\n",
            "Epoch 84/100\n",
            "6683/6683 [==============================] - 14s 2ms/step - loss: 0.0681 - val_loss: 0.0682\n",
            "Epoch 85/100\n",
            "6683/6683 [==============================] - 14s 2ms/step - loss: 0.0681 - val_loss: 0.0683\n",
            "Epoch 86/100\n",
            "6683/6683 [==============================] - 14s 2ms/step - loss: 0.0681 - val_loss: 0.0682\n",
            "Epoch 87/100\n",
            "6683/6683 [==============================] - 14s 2ms/step - loss: 0.0681 - val_loss: 0.0682\n",
            "Epoch 88/100\n",
            "6683/6683 [==============================] - 14s 2ms/step - loss: 0.0681 - val_loss: 0.0683\n",
            "Epoch 89/100\n",
            "6683/6683 [==============================] - 14s 2ms/step - loss: 0.0681 - val_loss: 0.0682\n",
            "Epoch 90/100\n",
            "6683/6683 [==============================] - 14s 2ms/step - loss: 0.0681 - val_loss: 0.0682\n",
            "Epoch 91/100\n",
            "6683/6683 [==============================] - 14s 2ms/step - loss: 0.0681 - val_loss: 0.0682\n",
            "Epoch 92/100\n",
            "6683/6683 [==============================] - 14s 2ms/step - loss: 0.0681 - val_loss: 0.0682\n",
            "Epoch 93/100\n",
            "6683/6683 [==============================] - 14s 2ms/step - loss: 0.0681 - val_loss: 0.0682\n",
            "Epoch 94/100\n",
            "6683/6683 [==============================] - 14s 2ms/step - loss: 0.0681 - val_loss: 0.0682\n",
            "Epoch 95/100\n",
            "6683/6683 [==============================] - 15s 2ms/step - loss: 0.0681 - val_loss: 0.0682\n",
            "Epoch 96/100\n",
            "6683/6683 [==============================] - 14s 2ms/step - loss: 0.0681 - val_loss: 0.0682\n",
            "Epoch 97/100\n",
            "6683/6683 [==============================] - 14s 2ms/step - loss: 0.0681 - val_loss: 0.0682\n",
            "Epoch 98/100\n",
            "6683/6683 [==============================] - 14s 2ms/step - loss: 0.0681 - val_loss: 0.0682\n",
            "Epoch 99/100\n",
            "6683/6683 [==============================] - 14s 2ms/step - loss: 0.0681 - val_loss: 0.0685\n",
            "Epoch 100/100\n",
            "6683/6683 [==============================] - 14s 2ms/step - loss: 0.0681 - val_loss: 0.0685\n",
            "14850/14850 [==============================] - 17s 1ms/step\n",
            "14060/14060 [==============================] - 16s 1ms/step\n",
            "------ Finish Stage ['AIT201', 'AIT202', 'AIT203', 'FIT201', 'MV201', 'P201', 'P202', 'P203', 'P204', 'P205', 'P206'] ------\n",
            "Model: \"model_25\"\n",
            "_________________________________________________________________\n",
            " Layer (type)                Output Shape              Param #   \n",
            "=================================================================\n",
            " input_18 (InputLayer)       [(None, 9)]               0         \n",
            "                                                                 \n",
            " dense_17 (Dense)            (None, 64)                576       \n",
            "                                                                 \n",
            " net_output (Dense)          (None, 32)                2048      \n",
            "                                                                 \n",
            " tf.math.subtract_17 (TFOpLa  (None, 32)               0         \n",
            " mbda)                                                           \n",
            "                                                                 \n",
            " tf.math.pow_17 (TFOpLambda)  (None, 32)               0         \n",
            "                                                                 \n",
            " tf.math.reduce_sum_17 (TFOp  (None,)                  0         \n",
            " Lambda)                                                         \n",
            "                                                                 \n",
            " tf.math.reduce_mean_17 (TFO  ()                       0         \n",
            " pLambda)                                                        \n",
            "                                                                 \n",
            " tf.__operators__.add_17 (TF  ()                       0         \n",
            " OpLambda)                                                       \n",
            "                                                                 \n",
            " add_loss_17 (AddLoss)       ()                        0         \n",
            "                                                                 \n",
            "=================================================================\n",
            "Total params: 2,624\n",
            "Trainable params: 2,624\n",
            "Non-trainable params: 0\n",
            "_________________________________________________________________\n",
            "None\n",
            "Epoch 1/100\n",
            "6683/6683 [==============================] - 15s 2ms/step - loss: 0.1829 - val_loss: 0.1721\n",
            "Epoch 2/100\n",
            "6683/6683 [==============================] - 14s 2ms/step - loss: 0.0940 - val_loss: 0.0687\n",
            "Epoch 3/100\n",
            "6683/6683 [==============================] - 14s 2ms/step - loss: 0.0684 - val_loss: 0.0682\n",
            "Epoch 4/100\n",
            "6683/6683 [==============================] - 14s 2ms/step - loss: 0.0682 - val_loss: 0.0681\n",
            "Epoch 5/100\n",
            "6683/6683 [==============================] - 14s 2ms/step - loss: 0.0681 - val_loss: 0.0681\n",
            "Epoch 6/100\n",
            "6683/6683 [==============================] - 14s 2ms/step - loss: 0.0681 - val_loss: 0.0680\n",
            "Epoch 7/100\n",
            "6683/6683 [==============================] - 14s 2ms/step - loss: 0.0681 - val_loss: 0.0680\n",
            "Epoch 8/100\n",
            "6683/6683 [==============================] - 14s 2ms/step - loss: 0.0681 - val_loss: 0.0680\n",
            "Epoch 9/100\n",
            "6683/6683 [==============================] - 14s 2ms/step - loss: 0.0680 - val_loss: 0.0680\n",
            "Epoch 10/100\n",
            "6683/6683 [==============================] - 14s 2ms/step - loss: 0.0680 - val_loss: 0.0680\n",
            "Epoch 11/100\n",
            "6683/6683 [==============================] - 14s 2ms/step - loss: 0.0680 - val_loss: 0.0680\n",
            "Epoch 12/100\n",
            "6683/6683 [==============================] - 14s 2ms/step - loss: 0.0680 - val_loss: 0.0679\n",
            "Epoch 13/100\n",
            "6683/6683 [==============================] - 14s 2ms/step - loss: 0.0680 - val_loss: 0.0680\n",
            "Epoch 14/100\n",
            "6683/6683 [==============================] - 14s 2ms/step - loss: 0.0680 - val_loss: 0.0683\n",
            "Epoch 15/100\n",
            "6683/6683 [==============================] - 14s 2ms/step - loss: 0.0680 - val_loss: 0.0680\n",
            "Epoch 16/100\n",
            "6683/6683 [==============================] - 15s 2ms/step - loss: 0.0680 - val_loss: 0.0680\n",
            "Epoch 17/100\n",
            "6683/6683 [==============================] - 14s 2ms/step - loss: 0.0680 - val_loss: 0.0679\n",
            "Epoch 18/100\n",
            "6683/6683 [==============================] - 14s 2ms/step - loss: 0.0680 - val_loss: 0.0679\n",
            "Epoch 19/100\n",
            "6683/6683 [==============================] - 14s 2ms/step - loss: 0.0680 - val_loss: 0.0684\n",
            "Epoch 20/100\n",
            "6683/6683 [==============================] - 14s 2ms/step - loss: 0.0680 - val_loss: 0.0683\n",
            "Epoch 21/100\n",
            "6683/6683 [==============================] - 14s 2ms/step - loss: 0.0680 - val_loss: 0.0685\n",
            "Epoch 22/100\n",
            "6683/6683 [==============================] - 14s 2ms/step - loss: 0.0680 - val_loss: 0.0680\n",
            "Epoch 23/100\n",
            "6683/6683 [==============================] - 14s 2ms/step - loss: 0.0680 - val_loss: 0.0679\n",
            "Epoch 24/100\n",
            "6683/6683 [==============================] - 14s 2ms/step - loss: 0.0680 - val_loss: 0.0692\n",
            "Epoch 25/100\n",
            "6683/6683 [==============================] - 14s 2ms/step - loss: 0.0680 - val_loss: 0.0680\n",
            "Epoch 26/100\n",
            "6683/6683 [==============================] - 14s 2ms/step - loss: 0.0680 - val_loss: 0.0679\n",
            "Epoch 27/100\n",
            "6683/6683 [==============================] - 14s 2ms/step - loss: 0.0680 - val_loss: 0.0679\n",
            "Epoch 28/100\n",
            "6683/6683 [==============================] - 14s 2ms/step - loss: 0.0680 - val_loss: 0.0679\n",
            "Epoch 29/100\n",
            "6683/6683 [==============================] - 14s 2ms/step - loss: 0.0680 - val_loss: 0.0679\n",
            "Epoch 30/100\n",
            "6683/6683 [==============================] - 14s 2ms/step - loss: 0.0680 - val_loss: 0.0679\n",
            "Epoch 31/100\n",
            "6683/6683 [==============================] - 14s 2ms/step - loss: 0.0680 - val_loss: 0.0679\n",
            "Epoch 32/100\n",
            "6683/6683 [==============================] - 14s 2ms/step - loss: 0.0680 - val_loss: 0.0679\n",
            "Epoch 33/100\n",
            "6683/6683 [==============================] - 14s 2ms/step - loss: 0.0680 - val_loss: 0.0679\n",
            "Epoch 34/100\n",
            "6683/6683 [==============================] - 14s 2ms/step - loss: 0.0680 - val_loss: 0.0679\n",
            "Epoch 35/100\n",
            "6683/6683 [==============================] - 14s 2ms/step - loss: 0.0680 - val_loss: 0.0679\n",
            "Epoch 36/100\n",
            "6683/6683 [==============================] - 14s 2ms/step - loss: 0.0680 - val_loss: 0.0679\n",
            "Epoch 37/100\n",
            "6683/6683 [==============================] - 14s 2ms/step - loss: 0.0680 - val_loss: 0.0679\n",
            "Epoch 38/100\n",
            "6683/6683 [==============================] - 15s 2ms/step - loss: 0.0680 - val_loss: 0.0679\n",
            "Epoch 39/100\n",
            "6683/6683 [==============================] - 14s 2ms/step - loss: 0.0680 - val_loss: 0.0679\n",
            "Epoch 40/100\n",
            "6683/6683 [==============================] - 14s 2ms/step - loss: 0.0680 - val_loss: 0.0679\n",
            "Epoch 41/100\n",
            "6683/6683 [==============================] - 14s 2ms/step - loss: 0.0680 - val_loss: 0.0679\n",
            "Epoch 42/100\n",
            "6683/6683 [==============================] - 14s 2ms/step - loss: 0.0680 - val_loss: 0.0679\n",
            "Epoch 43/100\n",
            "6683/6683 [==============================] - 14s 2ms/step - loss: 0.0680 - val_loss: 0.0679\n",
            "Epoch 44/100\n",
            "6683/6683 [==============================] - 14s 2ms/step - loss: 0.0680 - val_loss: 0.0679\n",
            "Epoch 45/100\n",
            "6683/6683 [==============================] - 14s 2ms/step - loss: 0.0680 - val_loss: 0.0680\n",
            "Epoch 46/100\n",
            "6683/6683 [==============================] - 14s 2ms/step - loss: 0.0680 - val_loss: 0.0679\n",
            "Epoch 47/100\n",
            "6683/6683 [==============================] - 14s 2ms/step - loss: 0.0680 - val_loss: 0.0679\n",
            "Epoch 48/100\n",
            "6683/6683 [==============================] - 14s 2ms/step - loss: 0.0680 - val_loss: 0.0693\n",
            "Epoch 49/100\n",
            "6683/6683 [==============================] - 14s 2ms/step - loss: 0.0680 - val_loss: 0.0682\n",
            "Epoch 50/100\n",
            "6683/6683 [==============================] - 15s 2ms/step - loss: 0.0680 - val_loss: 0.0679\n",
            "Epoch 51/100\n",
            "6683/6683 [==============================] - 14s 2ms/step - loss: 0.0680 - val_loss: 0.0679\n",
            "Epoch 52/100\n",
            "6683/6683 [==============================] - 14s 2ms/step - loss: 0.0680 - val_loss: 0.0679\n",
            "Epoch 53/100\n",
            "6683/6683 [==============================] - 14s 2ms/step - loss: 0.0680 - val_loss: 0.0680\n",
            "Epoch 54/100\n",
            "6683/6683 [==============================] - 14s 2ms/step - loss: 0.0680 - val_loss: 0.0679\n",
            "Epoch 55/100\n",
            "6683/6683 [==============================] - 14s 2ms/step - loss: 0.0680 - val_loss: 0.0679\n",
            "Epoch 56/100\n",
            "6683/6683 [==============================] - 14s 2ms/step - loss: 0.0680 - val_loss: 0.0679\n",
            "Epoch 57/100\n",
            "6683/6683 [==============================] - 14s 2ms/step - loss: 0.0680 - val_loss: 0.0679\n",
            "Epoch 58/100\n",
            "6683/6683 [==============================] - 14s 2ms/step - loss: 0.0680 - val_loss: 0.0679\n",
            "Epoch 59/100\n",
            "6683/6683 [==============================] - 14s 2ms/step - loss: 0.0680 - val_loss: 0.0679\n",
            "Epoch 60/100\n",
            "6683/6683 [==============================] - 14s 2ms/step - loss: 0.0680 - val_loss: 0.0679\n",
            "Epoch 61/100\n",
            "6683/6683 [==============================] - 14s 2ms/step - loss: 0.0680 - val_loss: 0.0679\n",
            "Epoch 62/100\n",
            "6683/6683 [==============================] - 14s 2ms/step - loss: 0.0680 - val_loss: 0.0679\n",
            "Epoch 63/100\n",
            "6683/6683 [==============================] - 14s 2ms/step - loss: 0.0680 - val_loss: 0.0679\n",
            "Epoch 64/100\n",
            "6683/6683 [==============================] - 14s 2ms/step - loss: 0.0680 - val_loss: 0.0680\n",
            "Epoch 65/100\n",
            "6683/6683 [==============================] - 14s 2ms/step - loss: 0.0680 - val_loss: 0.0679\n",
            "Epoch 66/100\n",
            "6683/6683 [==============================] - 15s 2ms/step - loss: 0.0680 - val_loss: 0.0679\n",
            "Epoch 67/100\n",
            "6683/6683 [==============================] - 14s 2ms/step - loss: 0.0680 - val_loss: 0.0679\n",
            "Epoch 68/100\n",
            "6683/6683 [==============================] - 14s 2ms/step - loss: 0.0680 - val_loss: 0.0679\n",
            "Epoch 69/100\n",
            "6683/6683 [==============================] - 14s 2ms/step - loss: 0.0680 - val_loss: 0.0679\n",
            "Epoch 70/100\n",
            "6683/6683 [==============================] - 14s 2ms/step - loss: 0.0680 - val_loss: 0.0679\n",
            "Epoch 71/100\n",
            "6683/6683 [==============================] - 14s 2ms/step - loss: 0.0680 - val_loss: 0.0679\n",
            "Epoch 72/100\n",
            "6683/6683 [==============================] - 14s 2ms/step - loss: 0.0680 - val_loss: 0.0679\n",
            "Epoch 73/100\n",
            "6683/6683 [==============================] - 14s 2ms/step - loss: 0.0680 - val_loss: 0.0679\n",
            "Epoch 74/100\n",
            "6683/6683 [==============================] - 14s 2ms/step - loss: 0.0680 - val_loss: 0.0679\n",
            "Epoch 75/100\n",
            "6683/6683 [==============================] - 14s 2ms/step - loss: 0.0680 - val_loss: 0.0680\n",
            "Epoch 76/100\n",
            "6683/6683 [==============================] - 14s 2ms/step - loss: 0.0680 - val_loss: 0.0681\n",
            "Epoch 77/100\n",
            "6683/6683 [==============================] - 14s 2ms/step - loss: 0.0680 - val_loss: 0.0680\n",
            "Epoch 78/100\n",
            "6683/6683 [==============================] - 14s 2ms/step - loss: 0.0680 - val_loss: 0.0679\n",
            "Epoch 79/100\n",
            "6683/6683 [==============================] - 14s 2ms/step - loss: 0.0680 - val_loss: 0.0679\n",
            "Epoch 80/100\n",
            "6683/6683 [==============================] - 14s 2ms/step - loss: 0.0680 - val_loss: 0.0679\n",
            "Epoch 81/100\n",
            "6683/6683 [==============================] - 14s 2ms/step - loss: 0.0680 - val_loss: 0.0679\n",
            "Epoch 82/100\n",
            "6683/6683 [==============================] - 15s 2ms/step - loss: 0.0680 - val_loss: 0.0679\n",
            "Epoch 83/100\n",
            "6683/6683 [==============================] - 14s 2ms/step - loss: 0.0680 - val_loss: 0.0679\n",
            "Epoch 84/100\n",
            "6683/6683 [==============================] - 14s 2ms/step - loss: 0.0680 - val_loss: 0.0679\n",
            "Epoch 85/100\n",
            "6683/6683 [==============================] - 14s 2ms/step - loss: 0.0680 - val_loss: 0.0679\n",
            "Epoch 86/100\n",
            "6683/6683 [==============================] - 14s 2ms/step - loss: 0.0680 - val_loss: 0.0679\n",
            "Epoch 87/100\n",
            "6683/6683 [==============================] - 14s 2ms/step - loss: 0.0680 - val_loss: 0.0679\n",
            "Epoch 88/100\n",
            "6683/6683 [==============================] - 14s 2ms/step - loss: 0.0680 - val_loss: 0.0679\n",
            "Epoch 89/100\n",
            "6683/6683 [==============================] - 14s 2ms/step - loss: 0.0680 - val_loss: 0.0679\n",
            "Epoch 90/100\n",
            "6683/6683 [==============================] - 15s 2ms/step - loss: 0.0680 - val_loss: 0.0679\n",
            "Epoch 91/100\n",
            "6683/6683 [==============================] - 14s 2ms/step - loss: 0.0680 - val_loss: 0.0679\n",
            "Epoch 92/100\n",
            "6683/6683 [==============================] - 14s 2ms/step - loss: 0.0680 - val_loss: 0.0679\n",
            "Epoch 93/100\n",
            "6683/6683 [==============================] - 14s 2ms/step - loss: 0.0680 - val_loss: 0.0679\n",
            "Epoch 94/100\n",
            "6683/6683 [==============================] - 14s 2ms/step - loss: 0.0680 - val_loss: 0.0682\n",
            "Epoch 95/100\n",
            "6683/6683 [==============================] - 14s 2ms/step - loss: 0.0680 - val_loss: 0.0679\n",
            "Epoch 96/100\n",
            "6683/6683 [==============================] - 14s 2ms/step - loss: 0.0680 - val_loss: 0.0679\n",
            "Epoch 97/100\n",
            "6683/6683 [==============================] - 14s 2ms/step - loss: 0.0680 - val_loss: 0.0679\n",
            "Epoch 98/100\n",
            "6683/6683 [==============================] - 15s 2ms/step - loss: 0.0680 - val_loss: 0.0689\n",
            "Epoch 99/100\n",
            "6683/6683 [==============================] - 14s 2ms/step - loss: 0.0680 - val_loss: 0.0679\n",
            "Epoch 100/100\n",
            "6683/6683 [==============================] - 14s 2ms/step - loss: 0.0679 - val_loss: 0.0680\n",
            "14850/14850 [==============================] - 17s 1ms/step\n",
            "14060/14060 [==============================] - 16s 1ms/step\n",
            "------ Finish Stage ['DPIT301', 'FIT301', 'LIT301', 'MV301', 'MV302', 'MV303', 'MV304', 'P301', 'P302'] ------\n",
            "Model: \"model_26\"\n",
            "_________________________________________________________________\n",
            " Layer (type)                Output Shape              Param #   \n",
            "=================================================================\n",
            " input_19 (InputLayer)       [(None, 9)]               0         \n",
            "                                                                 \n",
            " dense_18 (Dense)            (None, 64)                576       \n",
            "                                                                 \n",
            " net_output (Dense)          (None, 32)                2048      \n",
            "                                                                 \n",
            " tf.math.subtract_18 (TFOpLa  (None, 32)               0         \n",
            " mbda)                                                           \n",
            "                                                                 \n",
            " tf.math.pow_18 (TFOpLambda)  (None, 32)               0         \n",
            "                                                                 \n",
            " tf.math.reduce_sum_18 (TFOp  (None,)                  0         \n",
            " Lambda)                                                         \n",
            "                                                                 \n",
            " tf.math.reduce_mean_18 (TFO  ()                       0         \n",
            " pLambda)                                                        \n",
            "                                                                 \n",
            " tf.__operators__.add_18 (TF  ()                       0         \n",
            " OpLambda)                                                       \n",
            "                                                                 \n",
            " add_loss_18 (AddLoss)       ()                        0         \n",
            "                                                                 \n",
            "=================================================================\n",
            "Total params: 2,624\n",
            "Trainable params: 2,624\n",
            "Non-trainable params: 0\n",
            "_________________________________________________________________\n",
            "None\n",
            "Epoch 1/100\n",
            "6683/6683 [==============================] - 15s 2ms/step - loss: 0.0778 - val_loss: 0.0692\n",
            "Epoch 2/100\n",
            "6683/6683 [==============================] - 14s 2ms/step - loss: 0.0691 - val_loss: 0.0689\n",
            "Epoch 3/100\n",
            "6683/6683 [==============================] - 15s 2ms/step - loss: 0.0689 - val_loss: 0.0688\n",
            "Epoch 4/100\n",
            "6683/6683 [==============================] - 14s 2ms/step - loss: 0.0688 - val_loss: 0.0688\n",
            "Epoch 5/100\n",
            "6683/6683 [==============================] - 14s 2ms/step - loss: 0.0688 - val_loss: 0.0687\n",
            "Epoch 6/100\n",
            "6683/6683 [==============================] - 14s 2ms/step - loss: 0.0688 - val_loss: 0.0689\n",
            "Epoch 7/100\n",
            "6683/6683 [==============================] - 14s 2ms/step - loss: 0.0687 - val_loss: 0.0687\n",
            "Epoch 8/100\n",
            "6683/6683 [==============================] - 14s 2ms/step - loss: 0.0687 - val_loss: 0.0687\n",
            "Epoch 9/100\n",
            "6683/6683 [==============================] - 14s 2ms/step - loss: 0.0687 - val_loss: 0.0688\n",
            "Epoch 10/100\n",
            "6683/6683 [==============================] - 14s 2ms/step - loss: 0.0687 - val_loss: 0.0687\n",
            "Epoch 11/100\n",
            "6683/6683 [==============================] - 15s 2ms/step - loss: 0.0687 - val_loss: 0.0686\n",
            "Epoch 12/100\n",
            "6683/6683 [==============================] - 14s 2ms/step - loss: 0.0687 - val_loss: 0.0688\n",
            "Epoch 13/100\n",
            "6683/6683 [==============================] - 14s 2ms/step - loss: 0.0687 - val_loss: 0.0687\n",
            "Epoch 14/100\n",
            "6683/6683 [==============================] - 14s 2ms/step - loss: 0.0687 - val_loss: 0.0687\n",
            "Epoch 15/100\n",
            "6683/6683 [==============================] - 14s 2ms/step - loss: 0.0687 - val_loss: 0.0686\n",
            "Epoch 16/100\n",
            "6683/6683 [==============================] - 14s 2ms/step - loss: 0.0687 - val_loss: 0.0688\n",
            "Epoch 17/100\n",
            "6683/6683 [==============================] - 15s 2ms/step - loss: 0.0687 - val_loss: 0.0687\n",
            "Epoch 18/100\n",
            "6683/6683 [==============================] - 14s 2ms/step - loss: 0.0687 - val_loss: 0.0688\n",
            "Epoch 19/100\n",
            "6683/6683 [==============================] - 15s 2ms/step - loss: 0.0687 - val_loss: 0.0689\n",
            "Epoch 20/100\n",
            "6683/6683 [==============================] - 14s 2ms/step - loss: 0.0687 - val_loss: 0.0686\n",
            "Epoch 21/100\n",
            "6683/6683 [==============================] - 14s 2ms/step - loss: 0.0687 - val_loss: 0.0688\n",
            "Epoch 22/100\n",
            "6683/6683 [==============================] - 15s 2ms/step - loss: 0.0687 - val_loss: 0.0687\n",
            "Epoch 23/100\n",
            "6683/6683 [==============================] - 14s 2ms/step - loss: 0.0687 - val_loss: 0.0686\n",
            "Epoch 24/100\n",
            "6683/6683 [==============================] - 14s 2ms/step - loss: 0.0687 - val_loss: 0.0688\n",
            "Epoch 25/100\n",
            "6683/6683 [==============================] - 14s 2ms/step - loss: 0.0687 - val_loss: 0.0686\n",
            "Epoch 26/100\n",
            "6683/6683 [==============================] - 14s 2ms/step - loss: 0.0687 - val_loss: 0.0687\n",
            "Epoch 27/100\n",
            "6683/6683 [==============================] - 15s 2ms/step - loss: 0.0687 - val_loss: 0.0686\n",
            "Epoch 28/100\n",
            "6683/6683 [==============================] - 14s 2ms/step - loss: 0.0687 - val_loss: 0.0687\n",
            "Epoch 29/100\n",
            "6683/6683 [==============================] - 14s 2ms/step - loss: 0.0687 - val_loss: 0.0688\n",
            "Epoch 30/100\n",
            "6683/6683 [==============================] - 14s 2ms/step - loss: 0.0687 - val_loss: 0.0687\n",
            "Epoch 31/100\n",
            "6683/6683 [==============================] - 14s 2ms/step - loss: 0.0687 - val_loss: 0.0686\n",
            "Epoch 32/100\n",
            "6683/6683 [==============================] - 14s 2ms/step - loss: 0.0687 - val_loss: 0.0688\n",
            "Epoch 33/100\n",
            "6683/6683 [==============================] - 14s 2ms/step - loss: 0.0687 - val_loss: 0.0686\n",
            "Epoch 34/100\n",
            "6683/6683 [==============================] - 14s 2ms/step - loss: 0.0687 - val_loss: 0.0686\n",
            "Epoch 35/100\n",
            "6683/6683 [==============================] - 15s 2ms/step - loss: 0.0687 - val_loss: 0.0687\n",
            "Epoch 36/100\n",
            "6683/6683 [==============================] - 14s 2ms/step - loss: 0.0687 - val_loss: 0.0686\n",
            "Epoch 37/100\n",
            "6683/6683 [==============================] - 14s 2ms/step - loss: 0.0687 - val_loss: 0.0689\n",
            "Epoch 38/100\n",
            "6683/6683 [==============================] - 14s 2ms/step - loss: 0.0687 - val_loss: 0.0688\n",
            "Epoch 39/100\n",
            "6683/6683 [==============================] - 14s 2ms/step - loss: 0.0687 - val_loss: 0.0686\n",
            "Epoch 40/100\n",
            "6683/6683 [==============================] - 14s 2ms/step - loss: 0.0687 - val_loss: 0.0686\n",
            "Epoch 41/100\n",
            "6683/6683 [==============================] - 14s 2ms/step - loss: 0.0687 - val_loss: 0.0687\n",
            "Epoch 42/100\n",
            "6683/6683 [==============================] - 14s 2ms/step - loss: 0.0687 - val_loss: 0.0686\n",
            "Epoch 43/100\n",
            "6683/6683 [==============================] - 15s 2ms/step - loss: 0.0687 - val_loss: 0.0686\n",
            "Epoch 44/100\n",
            "6683/6683 [==============================] - 15s 2ms/step - loss: 0.0687 - val_loss: 0.0686\n",
            "Epoch 45/100\n",
            "6683/6683 [==============================] - 15s 2ms/step - loss: 0.0687 - val_loss: 0.0686\n",
            "Epoch 46/100\n",
            "6683/6683 [==============================] - 15s 2ms/step - loss: 0.0687 - val_loss: 0.0687\n",
            "Epoch 47/100\n",
            "6683/6683 [==============================] - 14s 2ms/step - loss: 0.0687 - val_loss: 0.0687\n",
            "Epoch 48/100\n",
            "6683/6683 [==============================] - 14s 2ms/step - loss: 0.0687 - val_loss: 0.0688\n",
            "Epoch 49/100\n",
            "6683/6683 [==============================] - 14s 2ms/step - loss: 0.0687 - val_loss: 0.0687\n",
            "Epoch 50/100\n",
            "6683/6683 [==============================] - 15s 2ms/step - loss: 0.0687 - val_loss: 0.0687\n",
            "Epoch 51/100\n",
            "6683/6683 [==============================] - 14s 2ms/step - loss: 0.0687 - val_loss: 0.0687\n",
            "Epoch 52/100\n",
            "6683/6683 [==============================] - 14s 2ms/step - loss: 0.0687 - val_loss: 0.0687\n",
            "Epoch 53/100\n",
            "6683/6683 [==============================] - 14s 2ms/step - loss: 0.0687 - val_loss: 0.0687\n",
            "Epoch 54/100\n",
            "6683/6683 [==============================] - 14s 2ms/step - loss: 0.0687 - val_loss: 0.0687\n",
            "Epoch 55/100\n",
            "6683/6683 [==============================] - 14s 2ms/step - loss: 0.0687 - val_loss: 0.0687\n",
            "Epoch 56/100\n",
            "6683/6683 [==============================] - 14s 2ms/step - loss: 0.0687 - val_loss: 0.0687\n",
            "Epoch 57/100\n",
            "6683/6683 [==============================] - 15s 2ms/step - loss: 0.0687 - val_loss: 0.0690\n",
            "Epoch 58/100\n",
            "6683/6683 [==============================] - 15s 2ms/step - loss: 0.0687 - val_loss: 0.0688\n",
            "Epoch 59/100\n",
            "6683/6683 [==============================] - 14s 2ms/step - loss: 0.0686 - val_loss: 0.0687\n",
            "Epoch 60/100\n",
            "6683/6683 [==============================] - 15s 2ms/step - loss: 0.0686 - val_loss: 0.0686\n",
            "Epoch 61/100\n",
            "6683/6683 [==============================] - 14s 2ms/step - loss: 0.0686 - val_loss: 0.0686\n",
            "Epoch 62/100\n",
            "6683/6683 [==============================] - 14s 2ms/step - loss: 0.0686 - val_loss: 0.0686\n",
            "Epoch 63/100\n",
            "6683/6683 [==============================] - 14s 2ms/step - loss: 0.0686 - val_loss: 0.0686\n",
            "Epoch 64/100\n",
            "6683/6683 [==============================] - 15s 2ms/step - loss: 0.0686 - val_loss: 0.0686\n",
            "Epoch 65/100\n",
            "6683/6683 [==============================] - 15s 2ms/step - loss: 0.0686 - val_loss: 0.0686\n",
            "Epoch 66/100\n",
            "6683/6683 [==============================] - 15s 2ms/step - loss: 0.0686 - val_loss: 0.0691\n",
            "Epoch 67/100\n",
            "6683/6683 [==============================] - 14s 2ms/step - loss: 0.0686 - val_loss: 0.0688\n",
            "Epoch 68/100\n",
            "6683/6683 [==============================] - 14s 2ms/step - loss: 0.0686 - val_loss: 0.0687\n",
            "Epoch 69/100\n",
            "6683/6683 [==============================] - 14s 2ms/step - loss: 0.0686 - val_loss: 0.0687\n",
            "Epoch 70/100\n",
            "6683/6683 [==============================] - 14s 2ms/step - loss: 0.0686 - val_loss: 0.0687\n",
            "Epoch 71/100\n",
            "6683/6683 [==============================] - 14s 2ms/step - loss: 0.0686 - val_loss: 0.0686\n",
            "Epoch 72/100\n",
            "6683/6683 [==============================] - 14s 2ms/step - loss: 0.0686 - val_loss: 0.0686\n",
            "Epoch 73/100\n",
            "6683/6683 [==============================] - 15s 2ms/step - loss: 0.0686 - val_loss: 0.0686\n",
            "Epoch 74/100\n",
            "6683/6683 [==============================] - 14s 2ms/step - loss: 0.0686 - val_loss: 0.0688\n",
            "Epoch 75/100\n",
            "6683/6683 [==============================] - 14s 2ms/step - loss: 0.0686 - val_loss: 0.0686\n",
            "Epoch 76/100\n",
            "6683/6683 [==============================] - 14s 2ms/step - loss: 0.0686 - val_loss: 0.0686\n",
            "Epoch 77/100\n",
            "6683/6683 [==============================] - 14s 2ms/step - loss: 0.0686 - val_loss: 0.0686\n",
            "Epoch 78/100\n",
            "6683/6683 [==============================] - 14s 2ms/step - loss: 0.0686 - val_loss: 0.0686\n",
            "Epoch 79/100\n",
            "6683/6683 [==============================] - 14s 2ms/step - loss: 0.0686 - val_loss: 0.0686\n",
            "Epoch 80/100\n",
            "6683/6683 [==============================] - 14s 2ms/step - loss: 0.0686 - val_loss: 0.0686\n",
            "Epoch 81/100\n",
            "6683/6683 [==============================] - 15s 2ms/step - loss: 0.0686 - val_loss: 0.0687\n",
            "Epoch 82/100\n",
            "6683/6683 [==============================] - 14s 2ms/step - loss: 0.0686 - val_loss: 0.0687\n",
            "Epoch 83/100\n",
            "6683/6683 [==============================] - 14s 2ms/step - loss: 0.0686 - val_loss: 0.0687\n",
            "Epoch 84/100\n",
            "6683/6683 [==============================] - 14s 2ms/step - loss: 0.0686 - val_loss: 0.0686\n",
            "Epoch 85/100\n",
            "6683/6683 [==============================] - 14s 2ms/step - loss: 0.0686 - val_loss: 0.0686\n",
            "Epoch 86/100\n",
            "6683/6683 [==============================] - 15s 2ms/step - loss: 0.0686 - val_loss: 0.0686\n",
            "Epoch 87/100\n",
            "6683/6683 [==============================] - 15s 2ms/step - loss: 0.0686 - val_loss: 0.0686\n",
            "Epoch 88/100\n",
            "6683/6683 [==============================] - 15s 2ms/step - loss: 0.0686 - val_loss: 0.0687\n",
            "Epoch 89/100\n",
            "6683/6683 [==============================] - 15s 2ms/step - loss: 0.0686 - val_loss: 0.0688\n",
            "Epoch 90/100\n",
            "6683/6683 [==============================] - 14s 2ms/step - loss: 0.0686 - val_loss: 0.0686\n",
            "Epoch 91/100\n",
            "6683/6683 [==============================] - 14s 2ms/step - loss: 0.0686 - val_loss: 0.0687\n",
            "Epoch 92/100\n",
            "6683/6683 [==============================] - 14s 2ms/step - loss: 0.0686 - val_loss: 0.0687\n",
            "Epoch 93/100\n",
            "6683/6683 [==============================] - 14s 2ms/step - loss: 0.0686 - val_loss: 0.0686\n",
            "Epoch 94/100\n",
            "6683/6683 [==============================] - 14s 2ms/step - loss: 0.0686 - val_loss: 0.0686\n",
            "Epoch 95/100\n",
            "6683/6683 [==============================] - 15s 2ms/step - loss: 0.0686 - val_loss: 0.0687\n",
            "Epoch 96/100\n",
            "6683/6683 [==============================] - 15s 2ms/step - loss: 0.0686 - val_loss: 0.0686\n",
            "Epoch 97/100\n",
            "6683/6683 [==============================] - 14s 2ms/step - loss: 0.0686 - val_loss: 0.0686\n",
            "Epoch 98/100\n",
            "6683/6683 [==============================] - 14s 2ms/step - loss: 0.0686 - val_loss: 0.0686\n",
            "Epoch 99/100\n",
            "6683/6683 [==============================] - 14s 2ms/step - loss: 0.0686 - val_loss: 0.0686\n",
            "Epoch 100/100\n",
            "6683/6683 [==============================] - 14s 2ms/step - loss: 0.0686 - val_loss: 0.0686\n",
            "14850/14850 [==============================] - 18s 1ms/step\n",
            "14060/14060 [==============================] - 17s 1ms/step\n",
            "------ Finish Stage ['AIT401', 'AIT402', 'FIT401', 'LIT401', 'P401', 'P402', 'P403', 'P404', 'UV401'] ------\n",
            "Model: \"model_27\"\n",
            "_________________________________________________________________\n",
            " Layer (type)                Output Shape              Param #   \n",
            "=================================================================\n",
            " input_20 (InputLayer)       [(None, 13)]              0         \n",
            "                                                                 \n",
            " dense_19 (Dense)            (None, 64)                832       \n",
            "                                                                 \n",
            " net_output (Dense)          (None, 32)                2048      \n",
            "                                                                 \n",
            " tf.math.subtract_19 (TFOpLa  (None, 32)               0         \n",
            " mbda)                                                           \n",
            "                                                                 \n",
            " tf.math.pow_19 (TFOpLambda)  (None, 32)               0         \n",
            "                                                                 \n",
            " tf.math.reduce_sum_19 (TFOp  (None,)                  0         \n",
            " Lambda)                                                         \n",
            "                                                                 \n",
            " tf.math.reduce_mean_19 (TFO  ()                       0         \n",
            " pLambda)                                                        \n",
            "                                                                 \n",
            " tf.__operators__.add_19 (TF  ()                       0         \n",
            " OpLambda)                                                       \n",
            "                                                                 \n",
            " add_loss_19 (AddLoss)       ()                        0         \n",
            "                                                                 \n",
            "=================================================================\n",
            "Total params: 2,880\n",
            "Trainable params: 2,880\n",
            "Non-trainable params: 0\n",
            "_________________________________________________________________\n",
            "None\n",
            "Epoch 1/100\n",
            "6683/6683 [==============================] - 15s 2ms/step - loss: 0.0800 - val_loss: 0.0696\n",
            "Epoch 2/100\n",
            "6683/6683 [==============================] - 15s 2ms/step - loss: 0.0693 - val_loss: 0.0690\n",
            "Epoch 3/100\n",
            "6683/6683 [==============================] - 14s 2ms/step - loss: 0.0690 - val_loss: 0.0689\n",
            "Epoch 4/100\n",
            "6683/6683 [==============================] - 14s 2ms/step - loss: 0.0689 - val_loss: 0.0688\n",
            "Epoch 5/100\n",
            "6683/6683 [==============================] - 15s 2ms/step - loss: 0.0689 - val_loss: 0.0688\n",
            "Epoch 6/100\n",
            "6683/6683 [==============================] - 14s 2ms/step - loss: 0.0688 - val_loss: 0.0687\n",
            "Epoch 7/100\n",
            "6683/6683 [==============================] - 15s 2ms/step - loss: 0.0688 - val_loss: 0.0686\n",
            "Epoch 8/100\n",
            "6683/6683 [==============================] - 15s 2ms/step - loss: 0.0688 - val_loss: 0.0692\n",
            "Epoch 9/100\n",
            "6683/6683 [==============================] - 15s 2ms/step - loss: 0.0688 - val_loss: 0.0686\n",
            "Epoch 10/100\n",
            "6683/6683 [==============================] - 14s 2ms/step - loss: 0.0687 - val_loss: 0.0686\n",
            "Epoch 11/100\n",
            "6683/6683 [==============================] - 14s 2ms/step - loss: 0.0687 - val_loss: 0.0686\n",
            "Epoch 12/100\n",
            "6683/6683 [==============================] - 14s 2ms/step - loss: 0.0687 - val_loss: 0.0687\n",
            "Epoch 13/100\n",
            "6683/6683 [==============================] - 15s 2ms/step - loss: 0.0687 - val_loss: 0.0687\n",
            "Epoch 14/100\n",
            "6683/6683 [==============================] - 15s 2ms/step - loss: 0.0687 - val_loss: 0.0687\n",
            "Epoch 15/100\n",
            "6683/6683 [==============================] - 14s 2ms/step - loss: 0.0687 - val_loss: 0.0688\n",
            "Epoch 16/100\n",
            "6683/6683 [==============================] - 15s 2ms/step - loss: 0.0687 - val_loss: 0.0689\n",
            "Epoch 17/100\n",
            "6683/6683 [==============================] - 15s 2ms/step - loss: 0.0687 - val_loss: 0.0686\n",
            "Epoch 18/100\n",
            "6683/6683 [==============================] - 15s 2ms/step - loss: 0.0687 - val_loss: 0.0687\n",
            "Epoch 19/100\n",
            "6683/6683 [==============================] - 14s 2ms/step - loss: 0.0687 - val_loss: 0.0699\n",
            "Epoch 20/100\n",
            "6683/6683 [==============================] - 15s 2ms/step - loss: 0.0687 - val_loss: 0.0685\n",
            "Epoch 21/100\n",
            "6683/6683 [==============================] - 14s 2ms/step - loss: 0.0687 - val_loss: 0.0687\n",
            "Epoch 22/100\n",
            "6683/6683 [==============================] - 15s 2ms/step - loss: 0.0686 - val_loss: 0.0686\n",
            "Epoch 23/100\n",
            "6683/6683 [==============================] - 15s 2ms/step - loss: 0.0687 - val_loss: 0.0685\n",
            "Epoch 24/100\n",
            "6683/6683 [==============================] - 15s 2ms/step - loss: 0.0686 - val_loss: 0.0689\n",
            "Epoch 25/100\n",
            "6683/6683 [==============================] - 15s 2ms/step - loss: 0.0686 - val_loss: 0.0686\n",
            "Epoch 26/100\n",
            "6683/6683 [==============================] - 15s 2ms/step - loss: 0.0686 - val_loss: 0.0685\n",
            "Epoch 27/100\n",
            "6683/6683 [==============================] - 15s 2ms/step - loss: 0.0686 - val_loss: 0.0687\n",
            "Epoch 28/100\n",
            "6683/6683 [==============================] - 14s 2ms/step - loss: 0.0686 - val_loss: 0.0686\n",
            "Epoch 29/100\n",
            "6683/6683 [==============================] - 15s 2ms/step - loss: 0.0686 - val_loss: 0.0687\n",
            "Epoch 30/100\n",
            "6683/6683 [==============================] - 14s 2ms/step - loss: 0.0686 - val_loss: 0.0686\n",
            "Epoch 31/100\n",
            "6683/6683 [==============================] - 15s 2ms/step - loss: 0.0686 - val_loss: 0.0685\n",
            "Epoch 32/100\n",
            "6683/6683 [==============================] - 15s 2ms/step - loss: 0.0686 - val_loss: 0.0685\n",
            "Epoch 33/100\n",
            "6683/6683 [==============================] - 15s 2ms/step - loss: 0.0686 - val_loss: 0.0685\n",
            "Epoch 34/100\n",
            "6683/6683 [==============================] - 15s 2ms/step - loss: 0.0686 - val_loss: 0.0689\n",
            "Epoch 35/100\n",
            "6683/6683 [==============================] - 15s 2ms/step - loss: 0.0686 - val_loss: 0.0687\n",
            "Epoch 36/100\n",
            "6683/6683 [==============================] - 15s 2ms/step - loss: 0.0686 - val_loss: 0.0691\n",
            "Epoch 37/100\n",
            "6683/6683 [==============================] - 15s 2ms/step - loss: 0.0686 - val_loss: 0.0686\n",
            "Epoch 38/100\n",
            "6683/6683 [==============================] - 15s 2ms/step - loss: 0.0686 - val_loss: 0.0687\n",
            "Epoch 39/100\n",
            "6683/6683 [==============================] - 15s 2ms/step - loss: 0.0686 - val_loss: 0.0685\n",
            "Epoch 40/100\n",
            "6683/6683 [==============================] - 15s 2ms/step - loss: 0.0686 - val_loss: 0.0691\n",
            "Epoch 41/100\n",
            "6683/6683 [==============================] - 15s 2ms/step - loss: 0.0686 - val_loss: 0.0685\n",
            "Epoch 42/100\n",
            "6683/6683 [==============================] - 15s 2ms/step - loss: 0.0686 - val_loss: 0.0686\n",
            "Epoch 43/100\n",
            "6683/6683 [==============================] - 15s 2ms/step - loss: 0.0686 - val_loss: 0.0688\n",
            "Epoch 44/100\n",
            "6683/6683 [==============================] - 15s 2ms/step - loss: 0.0686 - val_loss: 0.0686\n",
            "Epoch 45/100\n",
            "6683/6683 [==============================] - 15s 2ms/step - loss: 0.0686 - val_loss: 0.0685\n",
            "Epoch 46/100\n",
            "6683/6683 [==============================] - 15s 2ms/step - loss: 0.0686 - val_loss: 0.0686\n",
            "Epoch 47/100\n",
            "6683/6683 [==============================] - 15s 2ms/step - loss: 0.0686 - val_loss: 0.0687\n",
            "Epoch 48/100\n",
            "6683/6683 [==============================] - 15s 2ms/step - loss: 0.0686 - val_loss: 0.0692\n",
            "Epoch 49/100\n",
            "6683/6683 [==============================] - 15s 2ms/step - loss: 0.0686 - val_loss: 0.0692\n",
            "Epoch 50/100\n",
            "6683/6683 [==============================] - 15s 2ms/step - loss: 0.0686 - val_loss: 0.0686\n",
            "Epoch 51/100\n",
            "6683/6683 [==============================] - 15s 2ms/step - loss: 0.0686 - val_loss: 0.0686\n",
            "Epoch 52/100\n",
            "6683/6683 [==============================] - 15s 2ms/step - loss: 0.0686 - val_loss: 0.0687\n",
            "Epoch 53/100\n",
            "6683/6683 [==============================] - 15s 2ms/step - loss: 0.0686 - val_loss: 0.0685\n",
            "Epoch 54/100\n",
            "6683/6683 [==============================] - 15s 2ms/step - loss: 0.0686 - val_loss: 0.0686\n",
            "Epoch 55/100\n",
            "6683/6683 [==============================] - 15s 2ms/step - loss: 0.0686 - val_loss: 0.0685\n",
            "Epoch 56/100\n",
            "6683/6683 [==============================] - 15s 2ms/step - loss: 0.0686 - val_loss: 0.0685\n",
            "Epoch 57/100\n",
            "6683/6683 [==============================] - 15s 2ms/step - loss: 0.0686 - val_loss: 0.0685\n",
            "Epoch 58/100\n",
            "6683/6683 [==============================] - 15s 2ms/step - loss: 0.0686 - val_loss: 0.0687\n",
            "Epoch 59/100\n",
            "6683/6683 [==============================] - 15s 2ms/step - loss: 0.0686 - val_loss: 0.0686\n",
            "Epoch 60/100\n",
            "6683/6683 [==============================] - 15s 2ms/step - loss: 0.0686 - val_loss: 0.0685\n",
            "Epoch 61/100\n",
            "6683/6683 [==============================] - 15s 2ms/step - loss: 0.0686 - val_loss: 0.0689\n",
            "Epoch 62/100\n",
            "6683/6683 [==============================] - 15s 2ms/step - loss: 0.0686 - val_loss: 0.0688\n",
            "Epoch 63/100\n",
            "6683/6683 [==============================] - 15s 2ms/step - loss: 0.0686 - val_loss: 0.0685\n",
            "Epoch 64/100\n",
            "6683/6683 [==============================] - 15s 2ms/step - loss: 0.0686 - val_loss: 0.0685\n",
            "Epoch 65/100\n",
            "6683/6683 [==============================] - 15s 2ms/step - loss: 0.0686 - val_loss: 0.0688\n",
            "Epoch 66/100\n",
            "6683/6683 [==============================] - 15s 2ms/step - loss: 0.0686 - val_loss: 0.0685\n",
            "Epoch 67/100\n",
            "6683/6683 [==============================] - 15s 2ms/step - loss: 0.0686 - val_loss: 0.0686\n",
            "Epoch 68/100\n",
            "6683/6683 [==============================] - 15s 2ms/step - loss: 0.0686 - val_loss: 0.0685\n",
            "Epoch 69/100\n",
            "6683/6683 [==============================] - 15s 2ms/step - loss: 0.0686 - val_loss: 0.0685\n",
            "Epoch 70/100\n",
            "6683/6683 [==============================] - 15s 2ms/step - loss: 0.0686 - val_loss: 0.0693\n",
            "Epoch 71/100\n",
            "6683/6683 [==============================] - 14s 2ms/step - loss: 0.0686 - val_loss: 0.0689\n",
            "Epoch 72/100\n",
            "6683/6683 [==============================] - 15s 2ms/step - loss: 0.0686 - val_loss: 0.0685\n",
            "Epoch 73/100\n",
            "6683/6683 [==============================] - 14s 2ms/step - loss: 0.0686 - val_loss: 0.0685\n",
            "Epoch 74/100\n",
            "6683/6683 [==============================] - 15s 2ms/step - loss: 0.0686 - val_loss: 0.0685\n",
            "Epoch 75/100\n",
            "6683/6683 [==============================] - 15s 2ms/step - loss: 0.0686 - val_loss: 0.0686\n",
            "Epoch 76/100\n",
            "6683/6683 [==============================] - 15s 2ms/step - loss: 0.0686 - val_loss: 0.0690\n",
            "Epoch 77/100\n",
            "6683/6683 [==============================] - 15s 2ms/step - loss: 0.0686 - val_loss: 0.0685\n",
            "Epoch 78/100\n",
            "6683/6683 [==============================] - 15s 2ms/step - loss: 0.0686 - val_loss: 0.0686\n",
            "Epoch 79/100\n",
            "6683/6683 [==============================] - 15s 2ms/step - loss: 0.0686 - val_loss: 0.0685\n",
            "Epoch 80/100\n",
            "6683/6683 [==============================] - 15s 2ms/step - loss: 0.0686 - val_loss: 0.0685\n",
            "Epoch 81/100\n",
            "6683/6683 [==============================] - 15s 2ms/step - loss: 0.0686 - val_loss: 0.0685\n",
            "Epoch 82/100\n",
            "6683/6683 [==============================] - 15s 2ms/step - loss: 0.0686 - val_loss: 0.0690\n",
            "Epoch 83/100\n",
            "6683/6683 [==============================] - 15s 2ms/step - loss: 0.0686 - val_loss: 0.0686\n",
            "Epoch 84/100\n",
            "6683/6683 [==============================] - 14s 2ms/step - loss: 0.0686 - val_loss: 0.0684\n",
            "Epoch 85/100\n",
            "6683/6683 [==============================] - 15s 2ms/step - loss: 0.0686 - val_loss: 0.0688\n",
            "Epoch 86/100\n",
            "6683/6683 [==============================] - 15s 2ms/step - loss: 0.0686 - val_loss: 0.0685\n",
            "Epoch 87/100\n",
            "6683/6683 [==============================] - 15s 2ms/step - loss: 0.0686 - val_loss: 0.0685\n",
            "Epoch 88/100\n",
            "6683/6683 [==============================] - 15s 2ms/step - loss: 0.0686 - val_loss: 0.0684\n",
            "Epoch 89/100\n",
            "6683/6683 [==============================] - 15s 2ms/step - loss: 0.0686 - val_loss: 0.0685\n",
            "Epoch 90/100\n",
            "6683/6683 [==============================] - 15s 2ms/step - loss: 0.0686 - val_loss: 0.0685\n",
            "Epoch 91/100\n",
            "6683/6683 [==============================] - 15s 2ms/step - loss: 0.0686 - val_loss: 0.0685\n",
            "Epoch 92/100\n",
            "6683/6683 [==============================] - 15s 2ms/step - loss: 0.0686 - val_loss: 0.0689\n",
            "Epoch 93/100\n",
            "6683/6683 [==============================] - 15s 2ms/step - loss: 0.0686 - val_loss: 0.0686\n",
            "Epoch 94/100\n",
            "6683/6683 [==============================] - 15s 2ms/step - loss: 0.0686 - val_loss: 0.0686\n",
            "Epoch 95/100\n",
            "6683/6683 [==============================] - 15s 2ms/step - loss: 0.0686 - val_loss: 0.0685\n",
            "Epoch 96/100\n",
            "6683/6683 [==============================] - 15s 2ms/step - loss: 0.0686 - val_loss: 0.0686\n",
            "Epoch 97/100\n",
            "6683/6683 [==============================] - 15s 2ms/step - loss: 0.0686 - val_loss: 0.0685\n",
            "Epoch 98/100\n",
            "6683/6683 [==============================] - 15s 2ms/step - loss: 0.0686 - val_loss: 0.0685\n",
            "Epoch 99/100\n",
            "6683/6683 [==============================] - 15s 2ms/step - loss: 0.0686 - val_loss: 0.0685\n",
            "Epoch 100/100\n",
            "6683/6683 [==============================] - 15s 2ms/step - loss: 0.0686 - val_loss: 0.0685\n",
            "14850/14850 [==============================] - 18s 1ms/step\n",
            "14060/14060 [==============================] - 17s 1ms/step\n",
            "------ Finish Stage ['AIT501', 'AIT502', 'AIT503', 'AIT504', 'FIT501', 'FIT502', 'FIT503', 'FIT504', 'P501', 'P502', 'PIT501', 'PIT502', 'PIT503'] ------\n",
            "Model: \"model_28\"\n",
            "_________________________________________________________________\n",
            " Layer (type)                Output Shape              Param #   \n",
            "=================================================================\n",
            " input_21 (InputLayer)       [(None, 4)]               0         \n",
            "                                                                 \n",
            " dense_20 (Dense)            (None, 64)                256       \n",
            "                                                                 \n",
            " net_output (Dense)          (None, 32)                2048      \n",
            "                                                                 \n",
            " tf.math.subtract_20 (TFOpLa  (None, 32)               0         \n",
            " mbda)                                                           \n",
            "                                                                 \n",
            " tf.math.pow_20 (TFOpLambda)  (None, 32)               0         \n",
            "                                                                 \n",
            " tf.math.reduce_sum_20 (TFOp  (None,)                  0         \n",
            " Lambda)                                                         \n",
            "                                                                 \n",
            " tf.math.reduce_mean_20 (TFO  ()                       0         \n",
            " pLambda)                                                        \n",
            "                                                                 \n",
            " tf.__operators__.add_20 (TF  ()                       0         \n",
            " OpLambda)                                                       \n",
            "                                                                 \n",
            " add_loss_20 (AddLoss)       ()                        0         \n",
            "                                                                 \n",
            "=================================================================\n",
            "Total params: 2,304\n",
            "Trainable params: 2,304\n",
            "Non-trainable params: 0\n",
            "_________________________________________________________________\n",
            "None\n",
            "Epoch 1/100\n",
            "6683/6683 [==============================] - 15s 2ms/step - loss: 0.7399 - val_loss: 0.7395\n",
            "Epoch 2/100\n",
            "6683/6683 [==============================] - 15s 2ms/step - loss: 0.7397 - val_loss: 0.7394\n",
            "Epoch 3/100\n",
            "6683/6683 [==============================] - 15s 2ms/step - loss: 0.7397 - val_loss: 0.7394\n",
            "Epoch 4/100\n",
            "6683/6683 [==============================] - 15s 2ms/step - loss: 0.7396 - val_loss: 0.7393\n",
            "Epoch 5/100\n",
            "6683/6683 [==============================] - 15s 2ms/step - loss: 0.7390 - val_loss: 0.7383\n",
            "Epoch 6/100\n",
            "6683/6683 [==============================] - 15s 2ms/step - loss: 0.7386 - val_loss: 0.7383\n",
            "Epoch 7/100\n",
            "6683/6683 [==============================] - 15s 2ms/step - loss: 0.7386 - val_loss: 0.7383\n",
            "Epoch 8/100\n",
            "6683/6683 [==============================] - 15s 2ms/step - loss: 0.7386 - val_loss: 0.7383\n",
            "Epoch 9/100\n",
            "6683/6683 [==============================] - 15s 2ms/step - loss: 0.7386 - val_loss: 0.7383\n",
            "Epoch 10/100\n",
            "6683/6683 [==============================] - 15s 2ms/step - loss: 0.7386 - val_loss: 0.7383\n",
            "Epoch 11/100\n",
            "6683/6683 [==============================] - 15s 2ms/step - loss: 0.7386 - val_loss: 0.7383\n",
            "Epoch 12/100\n",
            "6683/6683 [==============================] - 15s 2ms/step - loss: 0.7386 - val_loss: 0.7383\n",
            "Epoch 13/100\n",
            "6683/6683 [==============================] - 15s 2ms/step - loss: 0.7386 - val_loss: 0.7383\n",
            "Epoch 14/100\n",
            "6683/6683 [==============================] - 15s 2ms/step - loss: 0.7386 - val_loss: 0.7383\n",
            "Epoch 15/100\n",
            "6683/6683 [==============================] - 15s 2ms/step - loss: 0.7386 - val_loss: 0.7383\n",
            "Epoch 16/100\n",
            "6683/6683 [==============================] - 15s 2ms/step - loss: 0.7386 - val_loss: 0.7383\n",
            "Epoch 17/100\n",
            "6683/6683 [==============================] - 15s 2ms/step - loss: 0.7386 - val_loss: 0.7383\n",
            "Epoch 18/100\n",
            "6683/6683 [==============================] - 15s 2ms/step - loss: 0.7386 - val_loss: 0.7383\n",
            "Epoch 19/100\n",
            "6683/6683 [==============================] - 15s 2ms/step - loss: 0.7386 - val_loss: 0.7383\n",
            "Epoch 20/100\n",
            "6683/6683 [==============================] - 15s 2ms/step - loss: 0.7386 - val_loss: 0.7383\n",
            "Epoch 21/100\n",
            "6683/6683 [==============================] - 15s 2ms/step - loss: 0.7386 - val_loss: 0.7383\n",
            "Epoch 22/100\n",
            "6683/6683 [==============================] - 15s 2ms/step - loss: 0.7386 - val_loss: 0.7383\n",
            "Epoch 23/100\n",
            "6683/6683 [==============================] - 15s 2ms/step - loss: 0.7386 - val_loss: 0.7385\n",
            "Epoch 24/100\n",
            "6683/6683 [==============================] - 15s 2ms/step - loss: 0.7386 - val_loss: 0.7383\n",
            "Epoch 25/100\n",
            "6683/6683 [==============================] - 15s 2ms/step - loss: 0.7386 - val_loss: 0.7383\n",
            "Epoch 26/100\n",
            "6683/6683 [==============================] - 15s 2ms/step - loss: 0.7386 - val_loss: 0.7383\n",
            "Epoch 27/100\n",
            "6683/6683 [==============================] - 15s 2ms/step - loss: 0.7386 - val_loss: 0.7383\n",
            "Epoch 28/100\n",
            "6683/6683 [==============================] - 15s 2ms/step - loss: 0.7386 - val_loss: 0.7383\n",
            "Epoch 29/100\n",
            "6683/6683 [==============================] - 15s 2ms/step - loss: 0.7386 - val_loss: 0.7383\n",
            "Epoch 30/100\n",
            "6683/6683 [==============================] - 15s 2ms/step - loss: 0.7386 - val_loss: 0.7383\n",
            "Epoch 31/100\n",
            "6683/6683 [==============================] - 15s 2ms/step - loss: 0.7386 - val_loss: 0.7383\n",
            "Epoch 32/100\n",
            "6683/6683 [==============================] - 15s 2ms/step - loss: 0.7386 - val_loss: 0.7383\n",
            "Epoch 33/100\n",
            "6683/6683 [==============================] - 15s 2ms/step - loss: 0.7386 - val_loss: 0.7383\n",
            "Epoch 34/100\n",
            "6683/6683 [==============================] - 15s 2ms/step - loss: 0.7386 - val_loss: 0.7383\n",
            "Epoch 35/100\n",
            "6683/6683 [==============================] - 15s 2ms/step - loss: 0.7386 - val_loss: 0.7383\n",
            "Epoch 36/100\n",
            "6683/6683 [==============================] - 15s 2ms/step - loss: 0.7386 - val_loss: 0.7383\n",
            "Epoch 37/100\n",
            "6683/6683 [==============================] - 15s 2ms/step - loss: 0.7386 - val_loss: 0.7383\n",
            "Epoch 38/100\n",
            "6683/6683 [==============================] - 15s 2ms/step - loss: 0.7386 - val_loss: 0.7383\n",
            "Epoch 39/100\n",
            "6683/6683 [==============================] - 15s 2ms/step - loss: 0.7386 - val_loss: 0.7383\n",
            "Epoch 40/100\n",
            "6683/6683 [==============================] - 15s 2ms/step - loss: 0.7386 - val_loss: 0.7383\n",
            "Epoch 41/100\n",
            "6683/6683 [==============================] - 15s 2ms/step - loss: 0.7386 - val_loss: 0.7383\n",
            "Epoch 42/100\n",
            "6683/6683 [==============================] - 15s 2ms/step - loss: 0.7386 - val_loss: 0.7383\n",
            "Epoch 43/100\n",
            "6683/6683 [==============================] - 15s 2ms/step - loss: 0.7386 - val_loss: 0.7383\n",
            "Epoch 44/100\n",
            "6683/6683 [==============================] - 15s 2ms/step - loss: 0.7386 - val_loss: 0.7383\n",
            "Epoch 45/100\n",
            "6683/6683 [==============================] - 15s 2ms/step - loss: 0.7386 - val_loss: 0.7383\n",
            "Epoch 46/100\n",
            "6683/6683 [==============================] - 15s 2ms/step - loss: 0.7386 - val_loss: 0.7383\n",
            "Epoch 47/100\n",
            "6683/6683 [==============================] - 15s 2ms/step - loss: 0.7386 - val_loss: 0.7383\n",
            "Epoch 48/100\n",
            "6683/6683 [==============================] - 15s 2ms/step - loss: 0.7386 - val_loss: 0.7383\n",
            "Epoch 49/100\n",
            "6683/6683 [==============================] - 15s 2ms/step - loss: 0.7386 - val_loss: 0.7383\n",
            "Epoch 50/100\n",
            "6683/6683 [==============================] - 15s 2ms/step - loss: 0.7386 - val_loss: 0.7383\n",
            "Epoch 51/100\n",
            "6683/6683 [==============================] - 15s 2ms/step - loss: 0.7386 - val_loss: 0.7383\n",
            "Epoch 52/100\n",
            "6683/6683 [==============================] - 15s 2ms/step - loss: 0.7386 - val_loss: 0.7383\n",
            "Epoch 53/100\n",
            "6683/6683 [==============================] - 15s 2ms/step - loss: 0.7386 - val_loss: 0.7383\n",
            "Epoch 54/100\n",
            "6683/6683 [==============================] - 15s 2ms/step - loss: 0.7386 - val_loss: 0.7383\n",
            "Epoch 55/100\n",
            "6683/6683 [==============================] - 15s 2ms/step - loss: 0.7386 - val_loss: 0.7383\n",
            "Epoch 56/100\n",
            "6683/6683 [==============================] - 15s 2ms/step - loss: 0.7386 - val_loss: 0.7383\n",
            "Epoch 57/100\n",
            "6683/6683 [==============================] - 15s 2ms/step - loss: 0.7386 - val_loss: 0.7384\n",
            "Epoch 58/100\n",
            "6683/6683 [==============================] - 15s 2ms/step - loss: 0.7386 - val_loss: 0.7383\n",
            "Epoch 59/100\n",
            "6683/6683 [==============================] - 15s 2ms/step - loss: 0.7386 - val_loss: 0.7383\n",
            "Epoch 60/100\n",
            "6683/6683 [==============================] - 15s 2ms/step - loss: 0.7386 - val_loss: 0.7383\n",
            "Epoch 61/100\n",
            "6683/6683 [==============================] - 15s 2ms/step - loss: 0.7386 - val_loss: 0.7383\n",
            "Epoch 62/100\n",
            "6683/6683 [==============================] - 15s 2ms/step - loss: 0.7386 - val_loss: 0.7383\n",
            "Epoch 63/100\n",
            "6683/6683 [==============================] - 15s 2ms/step - loss: 0.7386 - val_loss: 0.7383\n",
            "Epoch 64/100\n",
            "6683/6683 [==============================] - 15s 2ms/step - loss: 0.7386 - val_loss: 0.7384\n",
            "Epoch 65/100\n",
            "6683/6683 [==============================] - 15s 2ms/step - loss: 0.7386 - val_loss: 0.7383\n",
            "Epoch 66/100\n",
            "6683/6683 [==============================] - 15s 2ms/step - loss: 0.7386 - val_loss: 0.7383\n",
            "Epoch 67/100\n",
            "6683/6683 [==============================] - 15s 2ms/step - loss: 0.7386 - val_loss: 0.7383\n",
            "Epoch 68/100\n",
            "6683/6683 [==============================] - 15s 2ms/step - loss: 0.7386 - val_loss: 0.7383\n",
            "Epoch 69/100\n",
            "6683/6683 [==============================] - 15s 2ms/step - loss: 0.7386 - val_loss: 0.7383\n",
            "Epoch 70/100\n",
            "6683/6683 [==============================] - 15s 2ms/step - loss: 0.7386 - val_loss: 0.7383\n",
            "Epoch 71/100\n",
            "6683/6683 [==============================] - 15s 2ms/step - loss: 0.7386 - val_loss: 0.7383\n",
            "Epoch 72/100\n",
            "6683/6683 [==============================] - 15s 2ms/step - loss: 0.7386 - val_loss: 0.7383\n",
            "Epoch 73/100\n",
            "6683/6683 [==============================] - 15s 2ms/step - loss: 0.7386 - val_loss: 0.7383\n",
            "Epoch 74/100\n",
            "6683/6683 [==============================] - 15s 2ms/step - loss: 0.7386 - val_loss: 0.7383\n",
            "Epoch 75/100\n",
            "6683/6683 [==============================] - 15s 2ms/step - loss: 0.7386 - val_loss: 0.7383\n",
            "Epoch 76/100\n",
            "6683/6683 [==============================] - 15s 2ms/step - loss: 0.7386 - val_loss: 0.7383\n",
            "Epoch 77/100\n",
            "6683/6683 [==============================] - 15s 2ms/step - loss: 0.7386 - val_loss: 0.7383\n",
            "Epoch 78/100\n",
            "6683/6683 [==============================] - 15s 2ms/step - loss: 0.7386 - val_loss: 0.7384\n",
            "Epoch 79/100\n",
            "6683/6683 [==============================] - 15s 2ms/step - loss: 0.7386 - val_loss: 0.7383\n",
            "Epoch 80/100\n",
            "6683/6683 [==============================] - 15s 2ms/step - loss: 0.7386 - val_loss: 0.7383\n",
            "Epoch 81/100\n",
            "6683/6683 [==============================] - 15s 2ms/step - loss: 0.7386 - val_loss: 0.7383\n",
            "Epoch 82/100\n",
            "6683/6683 [==============================] - 15s 2ms/step - loss: 0.7386 - val_loss: 0.7383\n",
            "Epoch 83/100\n",
            "6683/6683 [==============================] - 15s 2ms/step - loss: 0.7386 - val_loss: 0.7383\n",
            "Epoch 84/100\n",
            "6683/6683 [==============================] - 15s 2ms/step - loss: 0.7386 - val_loss: 0.7383\n",
            "Epoch 85/100\n",
            "6683/6683 [==============================] - 15s 2ms/step - loss: 0.7386 - val_loss: 0.7383\n",
            "Epoch 86/100\n",
            "6683/6683 [==============================] - 15s 2ms/step - loss: 0.7386 - val_loss: 0.7383\n",
            "Epoch 87/100\n",
            "6683/6683 [==============================] - 15s 2ms/step - loss: 0.7386 - val_loss: 0.7383\n",
            "Epoch 88/100\n",
            "6683/6683 [==============================] - 15s 2ms/step - loss: 0.7386 - val_loss: 0.7383\n",
            "Epoch 89/100\n",
            "6683/6683 [==============================] - 15s 2ms/step - loss: 0.7386 - val_loss: 0.7384\n",
            "Epoch 90/100\n",
            "6683/6683 [==============================] - 15s 2ms/step - loss: 0.7386 - val_loss: 0.7383\n",
            "Epoch 91/100\n",
            "6683/6683 [==============================] - 15s 2ms/step - loss: 0.7386 - val_loss: 0.7383\n",
            "Epoch 92/100\n",
            "6683/6683 [==============================] - 15s 2ms/step - loss: 0.7386 - val_loss: 0.7383\n",
            "Epoch 93/100\n",
            "6683/6683 [==============================] - 15s 2ms/step - loss: 0.7386 - val_loss: 0.7383\n",
            "Epoch 94/100\n",
            "6683/6683 [==============================] - 15s 2ms/step - loss: 0.7386 - val_loss: 0.7383\n",
            "Epoch 95/100\n",
            "6683/6683 [==============================] - 15s 2ms/step - loss: 0.7386 - val_loss: 0.7383\n",
            "Epoch 96/100\n",
            "6683/6683 [==============================] - 15s 2ms/step - loss: 0.7386 - val_loss: 0.7383\n",
            "Epoch 97/100\n",
            "6683/6683 [==============================] - 15s 2ms/step - loss: 0.7386 - val_loss: 0.7383\n",
            "Epoch 98/100\n",
            "6683/6683 [==============================] - 15s 2ms/step - loss: 0.7386 - val_loss: 0.7383\n",
            "Epoch 99/100\n",
            "6683/6683 [==============================] - 15s 2ms/step - loss: 0.7386 - val_loss: 0.7383\n",
            "Epoch 100/100\n",
            "6683/6683 [==============================] - 15s 2ms/step - loss: 0.7386 - val_loss: 0.7383\n",
            "14850/14850 [==============================] - 18s 1ms/step\n",
            "14060/14060 [==============================] - 17s 1ms/step\n",
            "------ Finish Stage ['FIT601', 'P601', 'P602', 'P603'] ------\n"
          ]
        }
      ]
    },
    {
      "cell_type": "code",
      "source": [
        "aucs = []\n",
        "for i in range(len(norm_test_scores)):\n",
        "  fpr, tpr, _ = metrics.roc_curve(label,  test_scores[i])\n",
        "  auc = metrics.roc_auc_score(label,  test_scores[i])\n",
        "  aucs.append(auc)\n",
        "  plt.plot(fpr,tpr,label=f\"stage {i+1}\")\n",
        "  plt.ylabel('True Positive Rate')\n",
        "  plt.xlabel('False Positive Rate')\n",
        "  plt.title(f'DeepSVDD Model (6 stages)')\n",
        "  plt.legend(loc=4)"
      ],
      "metadata": {
        "colab": {
          "base_uri": "https://localhost:8080/",
          "height": 295
        },
        "id": "kNjxWxoc4XAL",
        "outputId": "48a969cc-f06b-410b-ea28-5977a42bd55a"
      },
      "execution_count": 32,
      "outputs": [
        {
          "output_type": "display_data",
          "data": {
            "text/plain": [
              "<Figure size 432x288 with 1 Axes>"
            ],
            "image/png": "[encoded data removed]"
          },
          "metadata": {
            "needs_background": "light"
          }
        }
      ]
    },
    {
      "cell_type": "code",
      "source": [
        "for i in range(len(aucs)):\n",
        "  print(f\"AUC stage{i+1}: {np.round(aucs[i],3)}, training time = {trainning_time[i]}, prediction_time = {prediction_time[i]}\")"
      ],
      "metadata": {
        "colab": {
          "base_uri": "https://localhost:8080/"
        },
        "id": "HyJwupalwEi3",
        "outputId": "e69e1e75-866e-46d1-c340-335b14865cd5"
      },
      "execution_count": 26,
      "outputs": [
        {
          "output_type": "stream",
          "name": "stdout",
          "text": [
            "AUC stage1: 0.256, training time = 754.0938470299999, prediction_time = 19.08656433400006\n",
            "AUC stage2: 0.645, training time = 752.5082146669997, prediction_time = 18.712585086999752\n",
            "AUC stage3: 0.214, training time = 752.4641861119999, prediction_time = 19.143767488999856\n",
            "AUC stage4: 0.849, training time = 770.7710353430002, prediction_time = 19.05685766200031\n",
            "AUC stage5: 0.813, training time = 770.4863341070004, prediction_time = 19.104129039000327\n",
            "AUC stage6: 0.587, training time = 781.5430193299999, prediction_time = 19.074669761000223\n"
          ]
        }
      ]
    },
    {
      "cell_type": "code",
      "source": [
        "for i in range(len(norm_test_scores)):\n",
        "  plt.hist(norm_test_scores[i], density=True, bins=20)  # density=False would make counts\n",
        "  plt.ylabel('Probability')\n",
        "  plt.xlabel('Data')\n",
        "  plt.title(f'stage {i+1}')\n",
        "  plt.show()"
      ],
      "metadata": {
        "colab": {
          "base_uri": "https://localhost:8080/",
          "height": 1000
        },
        "id": "ruVNgV6mO4Ce",
        "outputId": "a4144a1b-d87f-404f-e3d5-0194161bc102"
      },
      "execution_count": 34,
      "outputs": [
        {
          "output_type": "display_data",
          "data": {
            "text/plain": [
              "<Figure size 432x288 with 1 Axes>"
            ],
            "image/png": "[encoded data removed]"
          },
          "metadata": {
            "needs_background": "light"
          }
        },
        {
          "output_type": "display_data",
          "data": {
            "text/plain": [
              "<Figure size 432x288 with 1 Axes>"
            ],
            "image/png": "[encoded data removed]"
          },
          "metadata": {
            "needs_background": "light"
          }
        },
        {
          "output_type": "display_data",
          "data": {
            "text/plain": [
              "<Figure size 432x288 with 1 Axes>"
            ],
            "image/png": "[encoded data removed]"
          },
          "metadata": {
            "needs_background": "light"
          }
        },
        {
          "output_type": "display_data",
          "data": {
            "text/plain": [
              "<Figure size 432x288 with 1 Axes>"
            ],
            "image/png": "[encoded data removed]"
          },
          "metadata": {
            "needs_background": "light"
          }
        },
        {
          "output_type": "display_data",
          "data": {
            "text/plain": [
              "<Figure size 432x288 with 1 Axes>"
            ],
            "image/png": "[encoded data removed]"
          },
          "metadata": {
            "needs_background": "light"
          }
        },
        {
          "output_type": "display_data",
          "data": {
            "text/plain": [
              "<Figure size 432x288 with 1 Axes>"
            ],
            "image/png": "[encoded data removed]"
          },
          "metadata": {
            "needs_background": "light"
          }
        }
      ]
    },
    {
      "cell_type": "code",
      "source": [
        "def pred_labels_timewindow(df,threshold,time_window):\n",
        "  n_data = len(df)\n",
        "  pred_label = np.array([_ for _ in range(n_data)])\n",
        "  for i in range(0,n_data-time_window+1):\n",
        "    if (df[i:i+time_window] >= threshold).any():\n",
        "      pred_label[i:i+time_window] = 1\n",
        "    else:\n",
        "      pred_label[i:i+time_window] = 0\n",
        "\n",
        "  return pred_label"
      ],
      "metadata": {
        "id": "i548C9CVYEqK"
      },
      "execution_count": 35,
      "outputs": []
    },
    {
      "cell_type": "code",
      "source": [
        "time_window = 10"
      ],
      "metadata": {
        "id": "-E-F_sOxo7PH"
      },
      "execution_count": 36,
      "outputs": []
    },
    {
      "cell_type": "markdown",
      "source": [
        "##Ture Attack point"
      ],
      "metadata": {
        "id": "16taAvxspeop"
      }
    },
    {
      "cell_type": "code",
      "execution_count": 37,
      "metadata": {
        "id": "UkMB7Bfsb9P6"
      },
      "outputs": [],
      "source": [
        "true_anomaly = pd.read_csv(\"/content/drive/MyDrive/Data_sci_Project/List_of_attacks_Final.csv\")"
      ]
    },
    {
      "cell_type": "code",
      "source": [
        "true_attack = true_anomaly[~true_anomaly[\"End Time\"].isnull()]"
      ],
      "metadata": {
        "id": "EsadR_UCpvIC"
      },
      "execution_count": 38,
      "outputs": []
    },
    {
      "cell_type": "code",
      "source": [
        "true_attack.tail(3)"
      ],
      "metadata": {
        "colab": {
          "base_uri": "https://localhost:8080/",
          "height": 344
        },
        "id": "Bu6_LYhypl-v",
        "outputId": "eca82f64-98f9-470c-cf05-1b642595eb93"
      },
      "execution_count": 39,
      "outputs": [
        {
          "output_type": "execute_result",
          "data": {
            "text/plain": [
              "   Attack #          Start Time  End Time      Attack Point  \\\n",
              "38       39  2/01/2015 11:43:48  11:50:28  FIT-401, AIT-502   \n",
              "39       40  2/01/2015 11:51:42  11:56:38           FIT-401   \n",
              "40       41  2/01/2015 13:13:02  13:40:56           LIT-301   \n",
              "\n",
              "                    Start State  \\\n",
              "38              In Normal Range   \n",
              "39              In Normal Range   \n",
              "40  Water level between L and H   \n",
              "\n",
              "                                               Attack Actual Change  \\\n",
              "38  Set value of FIT-401 as 0.5; Set value of AIT-...            No   \n",
              "39                          Set value of FIT-401 as 0            No   \n",
              "40                decrease value by 0.5 mm per second            No   \n",
              "\n",
              "           Expected Impact or attacker intent  \\\n",
              "38  UV will shut down and water will go to RO   \n",
              "39  UV will shut down and water will go to RO   \n",
              "40                              Tank overflow   \n",
              "\n",
              "                                   Unexpected Outcome  \n",
              "38                                UV did not shutdown  \n",
              "39    P-402 did not close, both should be interlinked  \n",
              "40  Rate of decrease in water level reduced after ...  "
            ],
            "text/html": [
              "\n",
              "  <div id=\"df-68942e73-fe58-4750-b513-24bf85fdac80\">\n",
              "    <div class=\"colab-df-container\">\n",
              "      <div>\n",
              "<style scoped>\n",
              "    .dataframe tbody tr th:only-of-type {\n",
              "        vertical-align: middle;\n",
              "    }\n",
              "\n",
              "    .dataframe tbody tr th {\n",
              "        vertical-align: top;\n",
              "    }\n",
              "\n",
              "    .dataframe thead th {\n",
              "        text-align: right;\n",
              "    }\n",
              "</style>\n",
              "<table border=\"1\" class=\"dataframe\">\n",
              "  <thead>\n",
              "    <tr style=\"text-align: right;\">\n",
              "      <th></th>\n",
              "      <th>Attack #</th>\n",
              "      <th>Start Time</th>\n",
              "      <th>End Time</th>\n",
              "      <th>Attack Point</th>\n",
              "      <th>Start State</th>\n",
              "      <th>Attack</th>\n",
              "      <th>Actual Change</th>\n",
              "      <th>Expected Impact or attacker intent</th>\n",
              "      <th>Unexpected Outcome</th>\n",
              "    </tr>\n",
              "  </thead>\n",
              "  <tbody>\n",
              "    <tr>\n",
              "      <th>38</th>\n",
              "      <td>39</td>\n",
              "      <td>2/01/2015 11:43:48</td>\n",
              "      <td>11:50:28</td>\n",
              "      <td>FIT-401, AIT-502</td>\n",
              "      <td>In Normal Range</td>\n",
              "      <td>Set value of FIT-401 as 0.5; Set value of AIT-...</td>\n",
              "      <td>No</td>\n",
              "      <td>UV will shut down and water will go to RO</td>\n",
              "      <td>UV did not shutdown</td>\n",
              "    </tr>\n",
              "    <tr>\n",
              "      <th>39</th>\n",
              "      <td>40</td>\n",
              "      <td>2/01/2015 11:51:42</td>\n",
              "      <td>11:56:38</td>\n",
              "      <td>FIT-401</td>\n",
              "      <td>In Normal Range</td>\n",
              "      <td>Set value of FIT-401 as 0</td>\n",
              "      <td>No</td>\n",
              "      <td>UV will shut down and water will go to RO</td>\n",
              "      <td>P-402 did not close, both should be interlinked</td>\n",
              "    </tr>\n",
              "    <tr>\n",
              "      <th>40</th>\n",
              "      <td>41</td>\n",
              "      <td>2/01/2015 13:13:02</td>\n",
              "      <td>13:40:56</td>\n",
              "      <td>LIT-301</td>\n",
              "      <td>Water level between L and H</td>\n",
              "      <td>decrease value by 0.5 mm per second</td>\n",
              "      <td>No</td>\n",
              "      <td>Tank overflow</td>\n",
              "      <td>Rate of decrease in water level reduced after ...</td>\n",
              "    </tr>\n",
              "  </tbody>\n",
              "</table>\n",
              "</div>\n",
              "      <button class=\"colab-df-convert\" onclick=\"convertToInteractive('df-68942e73-fe58-4750-b513-24bf85fdac80')\"\n",
              "              title=\"Convert this dataframe to an interactive table.\"\n",
              "              style=\"display:none;\">\n",
              "        \n",
              "  <svg xmlns=\"http://www.w3.org/2000/svg\" height=\"24px\"viewBox=\"0 0 24 24\"\n",
              "       width=\"24px\">\n",
              "    <path d=\"M0 0h24v24H0V0z\" fill=\"none\"/>\n",
              "    <path d=\"M18.56 5.44l.94 2.06.94-2.06 2.06-.94-2.06-.94-.94-2.06-.94 2.06-2.06.94zm-11 1L8.5 8.5l.94-2.06 2.06-.94-2.06-.94L8.5 2.5l-.94 2.06-2.06.94zm10 10l.94 2.06.94-2.06 2.06-.94-2.06-.94-.94-2.06-.94 2.06-2.06.94z\"/><path d=\"M17.41 7.96l-1.37-1.37c-.4-.4-.92-.59-1.43-.59-.52 0-1.04.2-1.43.59L10.3 9.45l-7.72 7.72c-.78.78-.78 2.05 0 2.83L4 21.41c.39.39.9.59 1.41.59.51 0 1.02-.2 1.41-.59l7.78-7.78 2.81-2.81c.8-.78.8-2.07 0-2.86zM5.41 20L4 18.59l7.72-7.72 1.47 1.35L5.41 20z\"/>\n",
              "  </svg>\n",
              "      </button>\n",
              "      \n",
              "  <style>\n",
              "    .colab-df-container {\n",
              "      display:flex;\n",
              "      flex-wrap:wrap;\n",
              "      gap: 12px;\n",
              "    }\n",
              "\n",
              "    .colab-df-convert {\n",
              "      background-color: #E8F0FE;\n",
              "      border: none;\n",
              "      border-radius: 50%;\n",
              "      cursor: pointer;\n",
              "      display: none;\n",
              "      fill: #1967D2;\n",
              "      height: 32px;\n",
              "      padding: 0 0 0 0;\n",
              "      width: 32px;\n",
              "    }\n",
              "\n",
              "    .colab-df-convert:hover {\n",
              "      background-color: #E2EBFA;\n",
              "      box-shadow: 0px 1px 2px rgba(60, 64, 67, 0.3), 0px 1px 3px 1px rgba(60, 64, 67, 0.15);\n",
              "      fill: #174EA6;\n",
              "    }\n",
              "\n",
              "    [theme=dark] .colab-df-convert {\n",
              "      background-color: #3B4455;\n",
              "      fill: #D2E3FC;\n",
              "    }\n",
              "\n",
              "    [theme=dark] .colab-df-convert:hover {\n",
              "      background-color: #434B5C;\n",
              "      box-shadow: 0px 1px 3px 1px rgba(0, 0, 0, 0.15);\n",
              "      filter: drop-shadow(0px 1px 2px rgba(0, 0, 0, 0.3));\n",
              "      fill: #FFFFFF;\n",
              "    }\n",
              "  </style>\n",
              "\n",
              "      <script>\n",
              "        const buttonEl =\n",
              "          document.querySelector('#df-68942e73-fe58-4750-b513-24bf85fdac80 button.colab-df-convert');\n",
              "        buttonEl.style.display =\n",
              "          google.colab.kernel.accessAllowed ? 'block' : 'none';\n",
              "\n",
              "        async function convertToInteractive(key) {\n",
              "          const element = document.querySelector('#df-68942e73-fe58-4750-b513-24bf85fdac80');\n",
              "          const dataTable =\n",
              "            await google.colab.kernel.invokeFunction('convertToInteractive',\n",
              "                                                     [key], {});\n",
              "          if (!dataTable) return;\n",
              "\n",
              "          const docLinkHtml = 'Like what you see? Visit the ' +\n",
              "            '<a target=\"_blank\" href=https://colab.research.google.com/notebooks/data_table.ipynb>data table notebook</a>'\n",
              "            + ' to learn more about interactive tables.';\n",
              "          element.innerHTML = '';\n",
              "          dataTable['output_type'] = 'display_data';\n",
              "          await google.colab.output.renderOutput(dataTable, element);\n",
              "          const docLink = document.createElement('div');\n",
              "          docLink.innerHTML = docLinkHtml;\n",
              "          element.appendChild(docLink);\n",
              "        }\n",
              "      </script>\n",
              "    </div>\n",
              "  </div>\n",
              "  "
            ]
          },
          "metadata": {},
          "execution_count": 39
        }
      ]
    },
    {
      "cell_type": "code",
      "execution_count": 41,
      "metadata": {
        "id": "NgjdE5XqcTxy"
      },
      "outputs": [],
      "source": [
        "start_time = true_attack['Start Time']\n",
        "start_time = pd.to_datetime(start_time)\n",
        "start_time.loc[36:40] = start_time.loc[36:40]+pd.DateOffset(years=1)"
      ]
    },
    {
      "cell_type": "code",
      "execution_count": 42,
      "metadata": {
        "id": "1P5olVV1rdqB"
      },
      "outputs": [],
      "source": [
        "end_time = pd.to_datetime(true_anomaly['End Time'][~true_anomaly[\"End Time\"].isnull()])"
      ]
    },
    {
      "cell_type": "code",
      "execution_count": 43,
      "metadata": {
        "id": "0l5l2XcPwYTM"
      },
      "outputs": [],
      "source": [
        "attack_lenght = (end_time - pd.to_datetime([str(a) for a in start_time.dt.time])).dt.seconds"
      ]
    },
    {
      "cell_type": "code",
      "execution_count": 44,
      "metadata": {
        "colab": {
          "base_uri": "https://localhost:8080/"
        },
        "id": "zeJxJdepq00E",
        "outputId": "455bcd64-5576-4fda-fb18-9083353fc79b"
      },
      "outputs": [
        {
          "output_type": "execute_result",
          "data": {
            "text/plain": [
              "36"
            ]
          },
          "metadata": {},
          "execution_count": 44
        }
      ],
      "source": [
        "len(start_time) #there are 36 attack"
      ]
    },
    {
      "cell_type": "code",
      "execution_count": 45,
      "metadata": {
        "colab": {
          "base_uri": "https://localhost:8080/"
        },
        "id": "Du8xvw4l8Ybk",
        "outputId": "176d6df6-3c95-4c5c-f1d0-e6c58eae35fd"
      },
      "outputs": [
        {
          "output_type": "execute_result",
          "data": {
            "text/plain": [
              "array([ 1,  2,  3,  4,  6,  7,  8, 10, 11, 13, 14, 16, 17, 19, 20, 21, 22,\n",
              "       23, 24, 25, 26, 27, 28, 29, 30, 31, 32, 33, 34, 35, 36, 37, 38, 39,\n",
              "       40, 41])"
            ]
          },
          "metadata": {},
          "execution_count": 45
        }
      ],
      "source": [
        "start_time.index.values+1"
      ]
    },
    {
      "cell_type": "code",
      "source": [
        "time_label = pd.DataFrame(label, index =  test_df.index.values, columns = [\"label\"])\n",
        "time_label.reset_index(inplace=True)\n",
        "time_label.rename(columns = {'index':'Timestamp'}, inplace = True)\n",
        "time_label['Timestamp'] = pd.to_datetime(time_label['Timestamp'])"
      ],
      "metadata": {
        "id": "c3spm3xXrPJb"
      },
      "execution_count": 46,
      "outputs": []
    },
    {
      "cell_type": "code",
      "execution_count": 47,
      "metadata": {
        "id": "FiKi5uU2lcqS"
      },
      "outputs": [],
      "source": [
        "#find start index/ end index of attack\n",
        "idx_start = time_label[time_label['Timestamp'].isin(start_time)]['Timestamp'].index.values \n",
        "idx_end = idx_start+attack_lenght.values"
      ]
    },
    {
      "cell_type": "code",
      "execution_count": 48,
      "metadata": {
        "colab": {
          "base_uri": "https://localhost:8080/"
        },
        "id": "Z7IsUesRya6F",
        "outputId": "d07a2553-2b50-4f32-81ea-610496e04653"
      },
      "outputs": [
        {
          "output_type": "stream",
          "name": "stderr",
          "text": [
            "/usr/local/lib/python3.7/dist-packages/pandas/core/indexing.py:1732: SettingWithCopyWarning: \n",
            "A value is trying to be set on a copy of a slice from a DataFrame\n",
            "\n",
            "See the caveats in the documentation: https://pandas.pydata.org/pandas-docs/stable/user_guide/indexing.html#returning-a-view-versus-a-copy\n",
            "  self._setitem_single_block(indexer, value, name)\n"
          ]
        }
      ],
      "source": [
        "time_label['attack #'] = 0\n",
        "for i in range (len(idx_start)):\n",
        "  time_label['attack #'].loc[idx_start[i]:idx_end[i]] = attack_lenght.index.values[i]+1"
      ]
    },
    {
      "cell_type": "markdown",
      "source": [
        "##tunning threshold from stage P1"
      ],
      "metadata": {
        "id": "XilMj7aXlbQS"
      }
    },
    {
      "cell_type": "code",
      "source": [
        "!pip install ghostml --quiet"
      ],
      "metadata": {
        "id": "ajBfWPWvoLU2"
      },
      "execution_count": 49,
      "outputs": []
    },
    {
      "cell_type": "code",
      "source": [
        "import ghostml\n",
        "n_percentile = [np.percentile(norm_test_scores,i) for i in range(90,95,1)]"
      ],
      "metadata": {
        "id": "mh8Sdj6-ljac"
      },
      "execution_count": 66,
      "outputs": []
    },
    {
      "cell_type": "code",
      "source": [
        "threshold1 = ghostml.optimize_threshold_from_predictions(label, norm_test_scores[0], n_percentile, ThOpt_metrics = 'Kappa') "
      ],
      "metadata": {
        "id": "OcnJF5Aym9h2"
      },
      "execution_count": 67,
      "outputs": []
    },
    {
      "cell_type": "code",
      "source": [
        "threshold1"
      ],
      "metadata": {
        "colab": {
          "base_uri": "https://localhost:8080/"
        },
        "id": "n8GF96SzosZZ",
        "outputId": "bed9a34f-a6bc-4166-cfe4-075ec5e7f84e"
      },
      "execution_count": 68,
      "outputs": [
        {
          "output_type": "execute_result",
          "data": {
            "text/plain": [
              "72.06639709472658"
            ]
          },
          "metadata": {},
          "execution_count": 68
        }
      ]
    },
    {
      "cell_type": "code",
      "source": [
        "n_percentile #percentil 90"
      ],
      "metadata": {
        "colab": {
          "base_uri": "https://localhost:8080/"
        },
        "id": "a2HObqPGpRcp",
        "outputId": "0210599a-f80b-43fd-aa58-fe7ceb8768cf"
      },
      "execution_count": 69,
      "outputs": [
        {
          "output_type": "execute_result",
          "data": {
            "text/plain": [
              "[72.06639709472658,\n",
              " 75.36902618408203,\n",
              " 82.9017105102539,\n",
              " 95.04184577941896,\n",
              " 107.76766937255826]"
            ]
          },
          "metadata": {},
          "execution_count": 69
        }
      ]
    },
    {
      "cell_type": "markdown",
      "source": [
        "##Stage P1"
      ],
      "metadata": {
        "id": "n9JyPvk7om8S"
      }
    },
    {
      "cell_type": "code",
      "source": [
        "t1 = np.percentile(norm_test_scores[0],90)"
      ],
      "metadata": {
        "id": "NofvUVHioo_8"
      },
      "execution_count": 70,
      "outputs": []
    },
    {
      "cell_type": "code",
      "source": [
        "label_1 = pred_labels_timewindow(norm_test_scores[0],t1,time_window)"
      ],
      "metadata": {
        "id": "OqDE2bJyYF98"
      },
      "execution_count": 71,
      "outputs": []
    },
    {
      "cell_type": "code",
      "source": [
        "time_label[\"pred_1\"] = label_1"
      ],
      "metadata": {
        "id": "5XH6aUzGvh0i"
      },
      "execution_count": 72,
      "outputs": []
    },
    {
      "cell_type": "code",
      "source": [
        "att_p1 = time_label[time_label['attack #'].isin([1,2,3,21,26,30,33,34,35,36])]"
      ],
      "metadata": {
        "id": "XoLuXGnOu64T"
      },
      "execution_count": 73,
      "outputs": []
    },
    {
      "cell_type": "code",
      "source": [
        "fpr, tpr, _ = metrics.roc_curve(label, norm_test_scores[0])\n",
        "auc = metrics.roc_auc_score(label, norm_test_scores[0])\n",
        "plt.plot(fpr,tpr,label=f\"stage 1, auc = {np.round(auc,2)}\")\n",
        "plt.ylabel('True Positive Rate')\n",
        "plt.xlabel('False Positive Rate')\n",
        "plt.title(f'ECOD Model')\n",
        "plt.legend(loc=4)"
      ],
      "metadata": {
        "colab": {
          "base_uri": "https://localhost:8080/",
          "height": 312
        },
        "id": "REsMtOh7o6ph",
        "outputId": "c4a16ba4-18cc-4267-db97-3c24e723d4d9"
      },
      "execution_count": 74,
      "outputs": [
        {
          "output_type": "execute_result",
          "data": {
            "text/plain": [
              "<matplotlib.legend.Legend at 0x7f9c180adb10>"
            ]
          },
          "metadata": {},
          "execution_count": 74
        },
        {
          "output_type": "display_data",
          "data": {
            "text/plain": [
              "<Figure size 432x288 with 1 Axes>"
            ],
            "image/png": "[encoded data removed]"
          },
          "metadata": {
            "needs_background": "light"
          }
        }
      ]
    },
    {
      "cell_type": "code",
      "source": [
        "print(metrics.classification_report(label,label_1))"
      ],
      "metadata": {
        "colab": {
          "base_uri": "https://localhost:8080/"
        },
        "id": "IExsHyljpU2C",
        "outputId": "b566d11f-25d0-409d-b0c3-07fe6e09a739"
      },
      "execution_count": 75,
      "outputs": [
        {
          "output_type": "stream",
          "name": "stdout",
          "text": [
            "              precision    recall  f1-score   support\n",
            "\n",
            "           0       0.87      0.84      0.86    395298\n",
            "           1       0.09      0.11      0.10     54621\n",
            "\n",
            "    accuracy                           0.76    449919\n",
            "   macro avg       0.48      0.48      0.48    449919\n",
            "weighted avg       0.78      0.76      0.77    449919\n",
            "\n"
          ]
        }
      ]
    },
    {
      "cell_type": "code",
      "source": [
        "cm = confusion_matrix(label,label_1)\n",
        "print(cm)\n",
        "ax = sns.heatmap(cm/np.sum(cm), annot=True, \n",
        "            fmt='.2%', cmap='Blues')\n",
        "\n",
        "ax.set_title('Confusion Matrix for stage 3');\n",
        "ax.set_xlabel('\\nPredicted Values')\n",
        "ax.set_ylabel('Actual Values ');\n",
        "\n",
        "## Ticket labels - List must be in alphabetical order\n",
        "ax.xaxis.set_ticklabels(['False','True'])\n",
        "ax.yaxis.set_ticklabels(['False','True'])\n",
        "\n",
        "## Display the visualization of the Confusion Matrix.\n",
        "plt.show()"
      ],
      "metadata": {
        "colab": {
          "base_uri": "https://localhost:8080/",
          "height": 342
        },
        "id": "2itaK-oK6kLR",
        "outputId": "c859303e-e977-4be6-b4c4-0b7d58c1af04"
      },
      "execution_count": 76,
      "outputs": [
        {
          "output_type": "stream",
          "name": "stdout",
          "text": [
            "[[333662  61636]\n",
            " [ 48550   6071]]\n"
          ]
        },
        {
          "output_type": "display_data",
          "data": {
            "text/plain": [
              "<Figure size 432x288 with 2 Axes>"
            ],
            "image/png": "[encoded data removed]"
          },
          "metadata": {
            "needs_background": "light"
          }
        }
      ]
    },
    {
      "cell_type": "code",
      "source": [
        "print(metrics.classification_report(att_p1.label,att_p1.pred_1))"
      ],
      "metadata": {
        "colab": {
          "base_uri": "https://localhost:8080/"
        },
        "id": "iVfx4Cu_cJ41",
        "outputId": "6e50c964-0ddf-4f85-c3a0-f3d85fae444c"
      },
      "execution_count": 77,
      "outputs": [
        {
          "output_type": "stream",
          "name": "stdout",
          "text": [
            "              precision    recall  f1-score   support\n",
            "\n",
            "           0       0.00      0.00      0.00         0\n",
            "           1       1.00      0.72      0.84      6669\n",
            "\n",
            "    accuracy                           0.72      6669\n",
            "   macro avg       0.50      0.36      0.42      6669\n",
            "weighted avg       1.00      0.72      0.84      6669\n",
            "\n"
          ]
        },
        {
          "output_type": "stream",
          "name": "stderr",
          "text": [
            "/usr/local/lib/python3.7/dist-packages/sklearn/metrics/_classification.py:1318: UndefinedMetricWarning: Recall and F-score are ill-defined and being set to 0.0 in labels with no true samples. Use `zero_division` parameter to control this behavior.\n",
            "  _warn_prf(average, modifier, msg_start, len(result))\n",
            "/usr/local/lib/python3.7/dist-packages/sklearn/metrics/_classification.py:1318: UndefinedMetricWarning: Recall and F-score are ill-defined and being set to 0.0 in labels with no true samples. Use `zero_division` parameter to control this behavior.\n",
            "  _warn_prf(average, modifier, msg_start, len(result))\n",
            "/usr/local/lib/python3.7/dist-packages/sklearn/metrics/_classification.py:1318: UndefinedMetricWarning: Recall and F-score are ill-defined and being set to 0.0 in labels with no true samples. Use `zero_division` parameter to control this behavior.\n",
            "  _warn_prf(average, modifier, msg_start, len(result))\n"
          ]
        }
      ]
    },
    {
      "cell_type": "code",
      "source": [
        "found = []\n",
        "for i in range(len(att_p1)):\n",
        "  if (att_p1.iloc[i][\"pred_1\"] == 1) & (att_p1.iloc[i][\"label\"] == 1):\n",
        "    found.append(att_p1.iloc[i][\"attack #\"])\n",
        "print(np.unique(found))"
      ],
      "metadata": {
        "colab": {
          "base_uri": "https://localhost:8080/"
        },
        "id": "yBVIuzFv5UQa",
        "outputId": "96bbb358-36cd-4e0f-d035-7ceee70a1e3a"
      },
      "execution_count": 78,
      "outputs": [
        {
          "output_type": "stream",
          "name": "stdout",
          "text": [
            "[ 1  2  3 21 26 30 33 34 36]\n"
          ]
        }
      ]
    },
    {
      "cell_type": "code",
      "source": [
        "np.unique(att_p1[\"attack #\"])"
      ],
      "metadata": {
        "colab": {
          "base_uri": "https://localhost:8080/"
        },
        "id": "yESJGCjO5yxD",
        "outputId": "bb863489-9c3c-474b-fba5-1819ceb6fd78"
      },
      "execution_count": 79,
      "outputs": [
        {
          "output_type": "execute_result",
          "data": {
            "text/plain": [
              "array([ 1,  2,  3, 21, 26, 30, 33, 34, 35, 36])"
            ]
          },
          "metadata": {},
          "execution_count": 79
        }
      ]
    },
    {
      "cell_type": "markdown",
      "source": [
        "##Stage P2"
      ],
      "metadata": {
        "id": "JpT-YCC8uQzO"
      }
    },
    {
      "cell_type": "code",
      "source": [
        "t2 = np.percentile(norm_test_scores[1],90)"
      ],
      "metadata": {
        "id": "lyLzEPAtuQzP"
      },
      "execution_count": 80,
      "outputs": []
    },
    {
      "cell_type": "code",
      "source": [
        "t2"
      ],
      "metadata": {
        "colab": {
          "base_uri": "https://localhost:8080/"
        },
        "id": "lBbSMiXB2ggo",
        "outputId": "6f708c3c-a374-45e1-fc7b-13dac625db8e"
      },
      "execution_count": 81,
      "outputs": [
        {
          "output_type": "execute_result",
          "data": {
            "text/plain": [
              "141.6900177001953"
            ]
          },
          "metadata": {},
          "execution_count": 81
        }
      ]
    },
    {
      "cell_type": "code",
      "source": [
        "label_2 = pred_labels_timewindow(norm_test_scores[1],t2,time_window)"
      ],
      "metadata": {
        "id": "DTUPJXRauQzP"
      },
      "execution_count": 82,
      "outputs": []
    },
    {
      "cell_type": "code",
      "source": [
        "print(metrics.classification_report(label,label_2))"
      ],
      "metadata": {
        "colab": {
          "base_uri": "https://localhost:8080/"
        },
        "outputId": "2d4c7e2d-cf6c-48f3-e862-7f9ed074b3fb",
        "id": "_q4ynBiJuQzP"
      },
      "execution_count": 83,
      "outputs": [
        {
          "output_type": "stream",
          "name": "stdout",
          "text": [
            "              precision    recall  f1-score   support\n",
            "\n",
            "           0       0.87      0.89      0.88    395298\n",
            "           1       0.06      0.05      0.06     54621\n",
            "\n",
            "    accuracy                           0.79    449919\n",
            "   macro avg       0.47      0.47      0.47    449919\n",
            "weighted avg       0.77      0.79      0.78    449919\n",
            "\n"
          ]
        }
      ]
    },
    {
      "cell_type": "code",
      "source": [
        "cm = confusion_matrix(label,label_2)\n",
        "print(cm)\n",
        "ax = sns.heatmap(cm/np.sum(cm), annot=True, \n",
        "            fmt='.2%', cmap='Blues')\n",
        "\n",
        "ax.set_title('Confusion Matrix for stage 3');\n",
        "ax.set_xlabel('\\nPredicted Values')\n",
        "ax.set_ylabel('Actual Values ');\n",
        "\n",
        "## Ticket labels - List must be in alphabetical order\n",
        "ax.xaxis.set_ticklabels(['False','True'])\n",
        "ax.yaxis.set_ticklabels(['False','True'])\n",
        "\n",
        "## Display the visualization of the Confusion Matrix.\n",
        "plt.show()"
      ],
      "metadata": {
        "colab": {
          "base_uri": "https://localhost:8080/",
          "height": 342
        },
        "id": "DfgFArMJ6aij",
        "outputId": "14c67a9d-2eda-404f-8eb3-7ece39540ff2"
      },
      "execution_count": 84,
      "outputs": [
        {
          "output_type": "stream",
          "name": "stdout",
          "text": [
            "[[352233  43065]\n",
            " [ 51751   2870]]\n"
          ]
        },
        {
          "output_type": "display_data",
          "data": {
            "text/plain": [
              "<Figure size 432x288 with 2 Axes>"
            ],
            "image/png": "[encoded data removed]"
          },
          "metadata": {
            "needs_background": "light"
          }
        }
      ]
    },
    {
      "cell_type": "code",
      "source": [
        "time_label[\"pred_2\"] = label_2"
      ],
      "metadata": {
        "id": "OVuUEEr14DWx"
      },
      "execution_count": 85,
      "outputs": []
    },
    {
      "cell_type": "code",
      "source": [
        "att_p2 = time_label[time_label['attack #'].isin([6,24,29])]"
      ],
      "metadata": {
        "id": "prsn-Al76BqP"
      },
      "execution_count": 86,
      "outputs": []
    },
    {
      "cell_type": "code",
      "source": [
        "found = []\n",
        "for i in range(len(att_p2)):\n",
        "  if (att_p2.iloc[i][\"pred_2\"] == 1) & (att_p2.iloc[i][\"label\"] == 1):\n",
        "    found.append(att_p2.iloc[i][\"attack #\"])\n",
        "print(np.unique(found))"
      ],
      "metadata": {
        "colab": {
          "base_uri": "https://localhost:8080/"
        },
        "id": "9PztubxX6T5o",
        "outputId": "e4d80459-b415-4e1c-8238-3f17fd2ba523"
      },
      "execution_count": 87,
      "outputs": [
        {
          "output_type": "stream",
          "name": "stdout",
          "text": [
            "[29]\n"
          ]
        }
      ]
    },
    {
      "cell_type": "code",
      "source": [
        "print(metrics.classification_report(att_p2.label,att_p2.pred_2))"
      ],
      "metadata": {
        "colab": {
          "base_uri": "https://localhost:8080/"
        },
        "id": "sW_wM7LLcYFW",
        "outputId": "621179f0-f03a-40c8-bf4b-a159d0597e54"
      },
      "execution_count": 88,
      "outputs": [
        {
          "output_type": "stream",
          "name": "stdout",
          "text": [
            "              precision    recall  f1-score   support\n",
            "\n",
            "           0       0.00      0.00      0.00         0\n",
            "           1       1.00      0.19      0.32       638\n",
            "\n",
            "    accuracy                           0.19       638\n",
            "   macro avg       0.50      0.09      0.16       638\n",
            "weighted avg       1.00      0.19      0.32       638\n",
            "\n"
          ]
        },
        {
          "output_type": "stream",
          "name": "stderr",
          "text": [
            "/usr/local/lib/python3.7/dist-packages/sklearn/metrics/_classification.py:1318: UndefinedMetricWarning: Recall and F-score are ill-defined and being set to 0.0 in labels with no true samples. Use `zero_division` parameter to control this behavior.\n",
            "  _warn_prf(average, modifier, msg_start, len(result))\n",
            "/usr/local/lib/python3.7/dist-packages/sklearn/metrics/_classification.py:1318: UndefinedMetricWarning: Recall and F-score are ill-defined and being set to 0.0 in labels with no true samples. Use `zero_division` parameter to control this behavior.\n",
            "  _warn_prf(average, modifier, msg_start, len(result))\n",
            "/usr/local/lib/python3.7/dist-packages/sklearn/metrics/_classification.py:1318: UndefinedMetricWarning: Recall and F-score are ill-defined and being set to 0.0 in labels with no true samples. Use `zero_division` parameter to control this behavior.\n",
            "  _warn_prf(average, modifier, msg_start, len(result))\n"
          ]
        }
      ]
    },
    {
      "cell_type": "markdown",
      "source": [
        "##Stage P3"
      ],
      "metadata": {
        "id": "2FE2Z4gb5ODA"
      }
    },
    {
      "cell_type": "code",
      "source": [
        "t3 = np.percentile(norm_test_scores[2],90)"
      ],
      "metadata": {
        "id": "NzlyqD3K5ODA"
      },
      "execution_count": 91,
      "outputs": []
    },
    {
      "cell_type": "code",
      "source": [
        "t3"
      ],
      "metadata": {
        "colab": {
          "base_uri": "https://localhost:8080/"
        },
        "outputId": "cf36b309-97b4-4f39-fc29-bf1fa06d8956",
        "id": "q1B-RRsg5ODB"
      },
      "execution_count": 92,
      "outputs": [
        {
          "output_type": "execute_result",
          "data": {
            "text/plain": [
              "0.05507538989186287"
            ]
          },
          "metadata": {},
          "execution_count": 92
        }
      ]
    },
    {
      "cell_type": "code",
      "source": [
        "label_3 = pred_labels_timewindow(norm_test_scores[2],t3,time_window)"
      ],
      "metadata": {
        "id": "vJgpLzdv5ODB"
      },
      "execution_count": 93,
      "outputs": []
    },
    {
      "cell_type": "code",
      "source": [
        "print(metrics.classification_report(label,label_3))"
      ],
      "metadata": {
        "colab": {
          "base_uri": "https://localhost:8080/"
        },
        "outputId": "87f9fc62-fc42-4306-d22d-12059b7e6694",
        "id": "NskqSG9n5ODB"
      },
      "execution_count": 94,
      "outputs": [
        {
          "output_type": "stream",
          "name": "stdout",
          "text": [
            "              precision    recall  f1-score   support\n",
            "\n",
            "           0       0.88      0.89      0.88    395298\n",
            "           1       0.11      0.11      0.11     54621\n",
            "\n",
            "    accuracy                           0.79    449919\n",
            "   macro avg       0.49      0.50      0.49    449919\n",
            "weighted avg       0.78      0.79      0.79    449919\n",
            "\n"
          ]
        }
      ]
    },
    {
      "cell_type": "code",
      "source": [
        "cm = confusion_matrix(label,label_3)\n",
        "print(cm)\n",
        "ax = sns.heatmap(cm/np.sum(cm), annot=True, \n",
        "            fmt='.2%', cmap='Blues')\n",
        "\n",
        "ax.set_title('Confusion Matrix for stage 3');\n",
        "ax.set_xlabel('\\nPredicted Values')\n",
        "ax.set_ylabel('Actual Values ');\n",
        "\n",
        "## Ticket labels - List must be in alphabetical order\n",
        "ax.xaxis.set_ticklabels(['False','True'])\n",
        "ax.yaxis.set_ticklabels(['False','True'])\n",
        "\n",
        "## Display the visualization of the Confusion Matrix.\n",
        "plt.show()"
      ],
      "metadata": {
        "colab": {
          "base_uri": "https://localhost:8080/",
          "height": 342
        },
        "id": "g-k-WV5A6QGX",
        "outputId": "52ed744c-ba54-41aa-9863-fc675fe99568"
      },
      "execution_count": 95,
      "outputs": [
        {
          "output_type": "stream",
          "name": "stdout",
          "text": [
            "[[349850  45448]\n",
            " [ 48875   5746]]\n"
          ]
        },
        {
          "output_type": "display_data",
          "data": {
            "text/plain": [
              "<Figure size 432x288 with 2 Axes>"
            ],
            "image/png": "[encoded data removed]"
          },
          "metadata": {
            "needs_background": "light"
          }
        }
      ]
    },
    {
      "cell_type": "code",
      "source": [
        "time_label[\"pred_3\"] = label_3"
      ],
      "metadata": {
        "id": "eYC3zDR65ODC"
      },
      "execution_count": 96,
      "outputs": []
    },
    {
      "cell_type": "code",
      "source": [
        "att_p3 = time_label[time_label['attack #'].isin([7,8,13,14,16,17,23,26,27,28,32,41])]"
      ],
      "metadata": {
        "id": "Aiwq5sXc6rlM"
      },
      "execution_count": 97,
      "outputs": []
    },
    {
      "cell_type": "code",
      "source": [
        "found = []\n",
        "for i in range(len(att_p3)):\n",
        "  if (att_p3.iloc[i][\"pred_3\"] == 1) & (att_p3.iloc[i][\"label\"] == 1):\n",
        "    found.append(att_p3.iloc[i][\"attack #\"])\n",
        "print(np.unique(found))"
      ],
      "metadata": {
        "colab": {
          "base_uri": "https://localhost:8080/"
        },
        "id": "2Z2HBlPd6-8-",
        "outputId": "cd2510fd-4b87-4da0-a37d-9971b1d44681"
      },
      "execution_count": 98,
      "outputs": [
        {
          "output_type": "stream",
          "name": "stdout",
          "text": [
            "[ 7  8 14 16 23 26 27 28 32 41]\n"
          ]
        }
      ]
    },
    {
      "cell_type": "code",
      "source": [
        "print(metrics.classification_report(att_p3.label,att_p3.pred_3))"
      ],
      "metadata": {
        "colab": {
          "base_uri": "https://localhost:8080/"
        },
        "id": "QJ1_xBGBcdRY",
        "outputId": "189dcf8a-7899-4661-e7d0-fb0a40cdbfe8"
      },
      "execution_count": 99,
      "outputs": [
        {
          "output_type": "stream",
          "name": "stdout",
          "text": [
            "              precision    recall  f1-score   support\n",
            "\n",
            "           0       0.00      0.00      0.00         0\n",
            "           1       1.00      0.10      0.18     43368\n",
            "\n",
            "    accuracy                           0.10     43368\n",
            "   macro avg       0.50      0.05      0.09     43368\n",
            "weighted avg       1.00      0.10      0.18     43368\n",
            "\n"
          ]
        },
        {
          "output_type": "stream",
          "name": "stderr",
          "text": [
            "/usr/local/lib/python3.7/dist-packages/sklearn/metrics/_classification.py:1318: UndefinedMetricWarning: Recall and F-score are ill-defined and being set to 0.0 in labels with no true samples. Use `zero_division` parameter to control this behavior.\n",
            "  _warn_prf(average, modifier, msg_start, len(result))\n",
            "/usr/local/lib/python3.7/dist-packages/sklearn/metrics/_classification.py:1318: UndefinedMetricWarning: Recall and F-score are ill-defined and being set to 0.0 in labels with no true samples. Use `zero_division` parameter to control this behavior.\n",
            "  _warn_prf(average, modifier, msg_start, len(result))\n",
            "/usr/local/lib/python3.7/dist-packages/sklearn/metrics/_classification.py:1318: UndefinedMetricWarning: Recall and F-score are ill-defined and being set to 0.0 in labels with no true samples. Use `zero_division` parameter to control this behavior.\n",
            "  _warn_prf(average, modifier, msg_start, len(result))\n"
          ]
        }
      ]
    },
    {
      "cell_type": "markdown",
      "source": [
        "##Stage P4"
      ],
      "metadata": {
        "id": "2HaB5ef_8vdq"
      }
    },
    {
      "cell_type": "code",
      "source": [
        "t4 = np.percentile(norm_test_scores[3],90)"
      ],
      "metadata": {
        "id": "_HSkMfWh8vdr"
      },
      "execution_count": 101,
      "outputs": []
    },
    {
      "cell_type": "code",
      "source": [
        "t4"
      ],
      "metadata": {
        "colab": {
          "base_uri": "https://localhost:8080/"
        },
        "outputId": "e35c4b8e-c245-488c-e28a-53fb75b6b639",
        "id": "4r_K_vqx8vdr"
      },
      "execution_count": 102,
      "outputs": [
        {
          "output_type": "execute_result",
          "data": {
            "text/plain": [
              "0.7282269001007107"
            ]
          },
          "metadata": {},
          "execution_count": 102
        }
      ]
    },
    {
      "cell_type": "code",
      "source": [
        "label_4 = pred_labels_timewindow(norm_test_scores[3],t4,time_window)"
      ],
      "metadata": {
        "id": "Zyw8NqRy8vdr"
      },
      "execution_count": 103,
      "outputs": []
    },
    {
      "cell_type": "code",
      "source": [
        "print(metrics.classification_report(label,label_4))"
      ],
      "metadata": {
        "colab": {
          "base_uri": "https://localhost:8080/"
        },
        "outputId": "87d94fc7-0170-43f4-869f-7b4052e95a99",
        "id": "7ppBKeUl8vdr"
      },
      "execution_count": 104,
      "outputs": [
        {
          "output_type": "stream",
          "name": "stdout",
          "text": [
            "              precision    recall  f1-score   support\n",
            "\n",
            "           0       0.96      0.98      0.97    395298\n",
            "           1       0.81      0.67      0.73     54621\n",
            "\n",
            "    accuracy                           0.94    449919\n",
            "   macro avg       0.88      0.83      0.85    449919\n",
            "weighted avg       0.94      0.94      0.94    449919\n",
            "\n"
          ]
        }
      ]
    },
    {
      "cell_type": "code",
      "source": [
        "cm = confusion_matrix(label,label_4)\n",
        "print(cm)\n",
        "ax = sns.heatmap(cm/np.sum(cm), annot=True, \n",
        "            fmt='.2%', cmap='Blues')\n",
        "\n",
        "ax.set_title('Confusion Matrix for stage 4');\n",
        "ax.set_xlabel('\\nPredicted Values')\n",
        "ax.set_ylabel('Actual Values ');\n",
        "\n",
        "## Ticket labels - List must be in alphabetical order\n",
        "ax.xaxis.set_ticklabels(['False','True'])\n",
        "ax.yaxis.set_ticklabels(['False','True'])\n",
        "\n",
        "## Display the visualization of the Confusion Matrix.\n",
        "plt.show()"
      ],
      "metadata": {
        "colab": {
          "base_uri": "https://localhost:8080/",
          "height": 342
        },
        "id": "9CBNBNWX58eR",
        "outputId": "848ddd7f-9541-43ac-d0bc-09ae8a98a1b8"
      },
      "execution_count": 105,
      "outputs": [
        {
          "output_type": "stream",
          "name": "stdout",
          "text": [
            "[[386573   8725]\n",
            " [ 17872  36749]]\n"
          ]
        },
        {
          "output_type": "display_data",
          "data": {
            "text/plain": [
              "<Figure size 432x288 with 2 Axes>"
            ],
            "image/png": "[encoded data removed]"
          },
          "metadata": {
            "needs_background": "light"
          }
        }
      ]
    },
    {
      "cell_type": "code",
      "source": [
        "time_label[\"pred_4\"] = label_4"
      ],
      "metadata": {
        "id": "hzKZkXjN8vds"
      },
      "execution_count": 106,
      "outputs": []
    },
    {
      "cell_type": "code",
      "source": [
        "att_p4 = time_label[time_label['attack #'].isin([10,11,22,25,31,38,39,40])]"
      ],
      "metadata": {
        "id": "_Vv-qqUF8vds"
      },
      "execution_count": 107,
      "outputs": []
    },
    {
      "cell_type": "code",
      "source": [
        "found = []\n",
        "for i in range(len(att_p4)):\n",
        "  if (att_p4.iloc[i][\"pred_4\"] == 1) & (att_p4.iloc[i][\"label\"] == 1):\n",
        "    found.append(att_p4.iloc[i][\"attack #\"])\n",
        "print(np.unique(found))"
      ],
      "metadata": {
        "colab": {
          "base_uri": "https://localhost:8080/"
        },
        "outputId": "3432f814-c91d-4caa-8262-f6f419cee293",
        "id": "LLA2ExB-8vds"
      },
      "execution_count": 108,
      "outputs": [
        {
          "output_type": "stream",
          "name": "stdout",
          "text": [
            "[10 11 22 25 31 38 39 40]\n"
          ]
        }
      ]
    },
    {
      "cell_type": "code",
      "source": [
        "print(metrics.classification_report(att_p4.label,att_p4.pred_4))"
      ],
      "metadata": {
        "colab": {
          "base_uri": "https://localhost:8080/"
        },
        "id": "FN6ZTHQWfoj4",
        "outputId": "07f62a5a-cdea-43d6-8d2e-64a072295d3e"
      },
      "execution_count": 109,
      "outputs": [
        {
          "output_type": "stream",
          "name": "stdout",
          "text": [
            "              precision    recall  f1-score   support\n",
            "\n",
            "           0       0.00      0.00      0.00         0\n",
            "           1       1.00      0.79      0.88      3142\n",
            "\n",
            "    accuracy                           0.79      3142\n",
            "   macro avg       0.50      0.39      0.44      3142\n",
            "weighted avg       1.00      0.79      0.88      3142\n",
            "\n"
          ]
        },
        {
          "output_type": "stream",
          "name": "stderr",
          "text": [
            "/usr/local/lib/python3.7/dist-packages/sklearn/metrics/_classification.py:1318: UndefinedMetricWarning: Recall and F-score are ill-defined and being set to 0.0 in labels with no true samples. Use `zero_division` parameter to control this behavior.\n",
            "  _warn_prf(average, modifier, msg_start, len(result))\n",
            "/usr/local/lib/python3.7/dist-packages/sklearn/metrics/_classification.py:1318: UndefinedMetricWarning: Recall and F-score are ill-defined and being set to 0.0 in labels with no true samples. Use `zero_division` parameter to control this behavior.\n",
            "  _warn_prf(average, modifier, msg_start, len(result))\n",
            "/usr/local/lib/python3.7/dist-packages/sklearn/metrics/_classification.py:1318: UndefinedMetricWarning: Recall and F-score are ill-defined and being set to 0.0 in labels with no true samples. Use `zero_division` parameter to control this behavior.\n",
            "  _warn_prf(average, modifier, msg_start, len(result))\n"
          ]
        }
      ]
    },
    {
      "cell_type": "markdown",
      "source": [
        "##Stage P5"
      ],
      "metadata": {
        "id": "Cj473K7W9a6E"
      }
    },
    {
      "cell_type": "code",
      "source": [
        "t5 = np.percentile(norm_test_scores[4],90)"
      ],
      "metadata": {
        "id": "1V20CjzN9a6F"
      },
      "execution_count": 110,
      "outputs": []
    },
    {
      "cell_type": "code",
      "source": [
        "t5"
      ],
      "metadata": {
        "colab": {
          "base_uri": "https://localhost:8080/"
        },
        "outputId": "284a439e-ccd5-4138-c1f8-5eb96ae09d3b",
        "id": "CIipvCsf9a6G"
      },
      "execution_count": 111,
      "outputs": [
        {
          "output_type": "execute_result",
          "data": {
            "text/plain": [
              "7.350796031951905"
            ]
          },
          "metadata": {},
          "execution_count": 111
        }
      ]
    },
    {
      "cell_type": "code",
      "source": [
        "label_5 = pred_labels_timewindow(norm_test_scores[4],t5,time_window)"
      ],
      "metadata": {
        "id": "iP3EYtIH9a6G"
      },
      "execution_count": 112,
      "outputs": []
    },
    {
      "cell_type": "code",
      "source": [
        "print(metrics.classification_report(label,label_5))"
      ],
      "metadata": {
        "colab": {
          "base_uri": "https://localhost:8080/"
        },
        "outputId": "25cb9174-ea22-4f35-9849-1aa49ee03da2",
        "id": "eUowOAwN9a6G"
      },
      "execution_count": 113,
      "outputs": [
        {
          "output_type": "stream",
          "name": "stdout",
          "text": [
            "              precision    recall  f1-score   support\n",
            "\n",
            "           0       0.95      0.96      0.96    395298\n",
            "           1       0.71      0.65      0.68     54621\n",
            "\n",
            "    accuracy                           0.92    449919\n",
            "   macro avg       0.83      0.81      0.82    449919\n",
            "weighted avg       0.92      0.92      0.92    449919\n",
            "\n"
          ]
        }
      ]
    },
    {
      "cell_type": "code",
      "source": [
        "cm = confusion_matrix(label,label_5)\n",
        "print(cm)\n",
        "ax = sns.heatmap(cm/np.sum(cm), annot=True, \n",
        "            fmt='.2%', cmap='Blues')\n",
        "\n",
        "ax.set_title('Confusion Matrix for stage 5');\n",
        "ax.set_xlabel('\\nPredicted Values')\n",
        "ax.set_ylabel('Actual Values ');\n",
        "\n",
        "## Ticket labels - List must be in alphabetical order\n",
        "ax.xaxis.set_ticklabels(['False','True'])\n",
        "ax.yaxis.set_ticklabels(['False','True'])\n",
        "\n",
        "## Display the visualization of the Confusion Matrix.\n",
        "plt.show()"
      ],
      "metadata": {
        "colab": {
          "base_uri": "https://localhost:8080/",
          "height": 342
        },
        "id": "MmmZOZYP5vBn",
        "outputId": "76aa16bd-111c-4d9b-df3a-1a0691362fd5"
      },
      "execution_count": 114,
      "outputs": [
        {
          "output_type": "stream",
          "name": "stdout",
          "text": [
            "[[380603  14695]\n",
            " [ 19125  35496]]\n"
          ]
        },
        {
          "output_type": "display_data",
          "data": {
            "text/plain": [
              "<Figure size 432x288 with 2 Axes>"
            ],
            "image/png": "[encoded data removed]"
          },
          "metadata": {
            "needs_background": "light"
          }
        }
      ]
    },
    {
      "cell_type": "code",
      "source": [
        "time_label[\"pred_5\"] = label_5"
      ],
      "metadata": {
        "id": "WLsbJsz89a6H"
      },
      "execution_count": 115,
      "outputs": []
    },
    {
      "cell_type": "code",
      "source": [
        "att_p5 = time_label[time_label['attack #'].isin([4,19,20,22,37,38,39])]"
      ],
      "metadata": {
        "id": "BRgWj6fV9a6H"
      },
      "execution_count": 116,
      "outputs": []
    },
    {
      "cell_type": "code",
      "source": [
        "found = []\n",
        "for i in range(len(att_p5)):\n",
        "  if (att_p5.iloc[i][\"pred_5\"] == 1) & (att_p5.iloc[i][\"label\"] == 1):\n",
        "    found.append(att_p5.iloc[i][\"attack #\"])\n",
        "print(np.unique(found))"
      ],
      "metadata": {
        "colab": {
          "base_uri": "https://localhost:8080/"
        },
        "outputId": "892541aa-4aff-4ada-ea80-6bd8b6a2b722",
        "id": "61TJs2Nc9a6H"
      },
      "execution_count": 117,
      "outputs": [
        {
          "output_type": "stream",
          "name": "stdout",
          "text": [
            "[19 20 22 37 38]\n"
          ]
        }
      ]
    },
    {
      "cell_type": "code",
      "source": [
        "print(metrics.classification_report(att_p5.label,att_p5.pred_5))"
      ],
      "metadata": {
        "colab": {
          "base_uri": "https://localhost:8080/"
        },
        "id": "0hxMVpRQfxYl",
        "outputId": "fe9b7d42-30d5-44e4-e790-5265c780217d"
      },
      "execution_count": 118,
      "outputs": [
        {
          "output_type": "stream",
          "name": "stdout",
          "text": [
            "              precision    recall  f1-score   support\n",
            "\n",
            "           0       0.00      0.00      0.00         0\n",
            "           1       1.00      0.59      0.74      2658\n",
            "\n",
            "    accuracy                           0.59      2658\n",
            "   macro avg       0.50      0.29      0.37      2658\n",
            "weighted avg       1.00      0.59      0.74      2658\n",
            "\n"
          ]
        },
        {
          "output_type": "stream",
          "name": "stderr",
          "text": [
            "/usr/local/lib/python3.7/dist-packages/sklearn/metrics/_classification.py:1318: UndefinedMetricWarning: Recall and F-score are ill-defined and being set to 0.0 in labels with no true samples. Use `zero_division` parameter to control this behavior.\n",
            "  _warn_prf(average, modifier, msg_start, len(result))\n",
            "/usr/local/lib/python3.7/dist-packages/sklearn/metrics/_classification.py:1318: UndefinedMetricWarning: Recall and F-score are ill-defined and being set to 0.0 in labels with no true samples. Use `zero_division` parameter to control this behavior.\n",
            "  _warn_prf(average, modifier, msg_start, len(result))\n",
            "/usr/local/lib/python3.7/dist-packages/sklearn/metrics/_classification.py:1318: UndefinedMetricWarning: Recall and F-score are ill-defined and being set to 0.0 in labels with no true samples. Use `zero_division` parameter to control this behavior.\n",
            "  _warn_prf(average, modifier, msg_start, len(result))\n"
          ]
        }
      ]
    },
    {
      "cell_type": "markdown",
      "source": [
        "##Stage P6"
      ],
      "metadata": {
        "id": "PSX0VoCR9-Bo"
      }
    },
    {
      "cell_type": "markdown",
      "source": [
        "due to most of the data has very high error score, we use lower bound instead"
      ],
      "metadata": {
        "id": "cvEAVanT_7ty"
      }
    },
    {
      "cell_type": "code",
      "source": [
        "pd.DataFrame(norm_test_scores[5]).describe()"
      ],
      "metadata": {
        "colab": {
          "base_uri": "https://localhost:8080/",
          "height": 300
        },
        "id": "-EA-XuJoBxZV",
        "outputId": "3d3d552a-a94e-4e1a-ed80-7b488d36cd0a"
      },
      "execution_count": 122,
      "outputs": [
        {
          "output_type": "execute_result",
          "data": {
            "text/plain": [
              "                  0\n",
              "count  4.499190e+05\n",
              "mean   9.877914e-01\n",
              "std    1.064317e-01\n",
              "min   -3.859718e-08\n",
              "25%    9.998181e-01\n",
              "50%    1.000000e+00\n",
              "75%    1.000000e+00\n",
              "max    1.000000e+00"
            ],
            "text/html": [
              "\n",
              "  <div id=\"df-b819e94c-75dc-4e76-b376-c9811c445c33\">\n",
              "    <div class=\"colab-df-container\">\n",
              "      <div>\n",
              "<style scoped>\n",
              "    .dataframe tbody tr th:only-of-type {\n",
              "        vertical-align: middle;\n",
              "    }\n",
              "\n",
              "    .dataframe tbody tr th {\n",
              "        vertical-align: top;\n",
              "    }\n",
              "\n",
              "    .dataframe thead th {\n",
              "        text-align: right;\n",
              "    }\n",
              "</style>\n",
              "<table border=\"1\" class=\"dataframe\">\n",
              "  <thead>\n",
              "    <tr style=\"text-align: right;\">\n",
              "      <th></th>\n",
              "      <th>0</th>\n",
              "    </tr>\n",
              "  </thead>\n",
              "  <tbody>\n",
              "    <tr>\n",
              "      <th>count</th>\n",
              "      <td>4.499190e+05</td>\n",
              "    </tr>\n",
              "    <tr>\n",
              "      <th>mean</th>\n",
              "      <td>9.877914e-01</td>\n",
              "    </tr>\n",
              "    <tr>\n",
              "      <th>std</th>\n",
              "      <td>1.064317e-01</td>\n",
              "    </tr>\n",
              "    <tr>\n",
              "      <th>min</th>\n",
              "      <td>-3.859718e-08</td>\n",
              "    </tr>\n",
              "    <tr>\n",
              "      <th>25%</th>\n",
              "      <td>9.998181e-01</td>\n",
              "    </tr>\n",
              "    <tr>\n",
              "      <th>50%</th>\n",
              "      <td>1.000000e+00</td>\n",
              "    </tr>\n",
              "    <tr>\n",
              "      <th>75%</th>\n",
              "      <td>1.000000e+00</td>\n",
              "    </tr>\n",
              "    <tr>\n",
              "      <th>max</th>\n",
              "      <td>1.000000e+00</td>\n",
              "    </tr>\n",
              "  </tbody>\n",
              "</table>\n",
              "</div>\n",
              "      <button class=\"colab-df-convert\" onclick=\"convertToInteractive('df-b819e94c-75dc-4e76-b376-c9811c445c33')\"\n",
              "              title=\"Convert this dataframe to an interactive table.\"\n",
              "              style=\"display:none;\">\n",
              "        \n",
              "  <svg xmlns=\"http://www.w3.org/2000/svg\" height=\"24px\"viewBox=\"0 0 24 24\"\n",
              "       width=\"24px\">\n",
              "    <path d=\"M0 0h24v24H0V0z\" fill=\"none\"/>\n",
              "    <path d=\"M18.56 5.44l.94 2.06.94-2.06 2.06-.94-2.06-.94-.94-2.06-.94 2.06-2.06.94zm-11 1L8.5 8.5l.94-2.06 2.06-.94-2.06-.94L8.5 2.5l-.94 2.06-2.06.94zm10 10l.94 2.06.94-2.06 2.06-.94-2.06-.94-.94-2.06-.94 2.06-2.06.94z\"/><path d=\"M17.41 7.96l-1.37-1.37c-.4-.4-.92-.59-1.43-.59-.52 0-1.04.2-1.43.59L10.3 9.45l-7.72 7.72c-.78.78-.78 2.05 0 2.83L4 21.41c.39.39.9.59 1.41.59.51 0 1.02-.2 1.41-.59l7.78-7.78 2.81-2.81c.8-.78.8-2.07 0-2.86zM5.41 20L4 18.59l7.72-7.72 1.47 1.35L5.41 20z\"/>\n",
              "  </svg>\n",
              "      </button>\n",
              "      \n",
              "  <style>\n",
              "    .colab-df-container {\n",
              "      display:flex;\n",
              "      flex-wrap:wrap;\n",
              "      gap: 12px;\n",
              "    }\n",
              "\n",
              "    .colab-df-convert {\n",
              "      background-color: #E8F0FE;\n",
              "      border: none;\n",
              "      border-radius: 50%;\n",
              "      cursor: pointer;\n",
              "      display: none;\n",
              "      fill: #1967D2;\n",
              "      height: 32px;\n",
              "      padding: 0 0 0 0;\n",
              "      width: 32px;\n",
              "    }\n",
              "\n",
              "    .colab-df-convert:hover {\n",
              "      background-color: #E2EBFA;\n",
              "      box-shadow: 0px 1px 2px rgba(60, 64, 67, 0.3), 0px 1px 3px 1px rgba(60, 64, 67, 0.15);\n",
              "      fill: #174EA6;\n",
              "    }\n",
              "\n",
              "    [theme=dark] .colab-df-convert {\n",
              "      background-color: #3B4455;\n",
              "      fill: #D2E3FC;\n",
              "    }\n",
              "\n",
              "    [theme=dark] .colab-df-convert:hover {\n",
              "      background-color: #434B5C;\n",
              "      box-shadow: 0px 1px 3px 1px rgba(0, 0, 0, 0.15);\n",
              "      filter: drop-shadow(0px 1px 2px rgba(0, 0, 0, 0.3));\n",
              "      fill: #FFFFFF;\n",
              "    }\n",
              "  </style>\n",
              "\n",
              "      <script>\n",
              "        const buttonEl =\n",
              "          document.querySelector('#df-b819e94c-75dc-4e76-b376-c9811c445c33 button.colab-df-convert');\n",
              "        buttonEl.style.display =\n",
              "          google.colab.kernel.accessAllowed ? 'block' : 'none';\n",
              "\n",
              "        async function convertToInteractive(key) {\n",
              "          const element = document.querySelector('#df-b819e94c-75dc-4e76-b376-c9811c445c33');\n",
              "          const dataTable =\n",
              "            await google.colab.kernel.invokeFunction('convertToInteractive',\n",
              "                                                     [key], {});\n",
              "          if (!dataTable) return;\n",
              "\n",
              "          const docLinkHtml = 'Like what you see? Visit the ' +\n",
              "            '<a target=\"_blank\" href=https://colab.research.google.com/notebooks/data_table.ipynb>data table notebook</a>'\n",
              "            + ' to learn more about interactive tables.';\n",
              "          element.innerHTML = '';\n",
              "          dataTable['output_type'] = 'display_data';\n",
              "          await google.colab.output.renderOutput(dataTable, element);\n",
              "          const docLink = document.createElement('div');\n",
              "          docLink.innerHTML = docLinkHtml;\n",
              "          element.appendChild(docLink);\n",
              "        }\n",
              "      </script>\n",
              "    </div>\n",
              "  </div>\n",
              "  "
            ]
          },
          "metadata": {},
          "execution_count": 122
        }
      ]
    },
    {
      "cell_type": "code",
      "source": [
        "t6 = np.percentile(norm_test_scores[5],25)"
      ],
      "metadata": {
        "id": "804eqX7M9-Bo"
      },
      "execution_count": 123,
      "outputs": []
    },
    {
      "cell_type": "code",
      "source": [
        "t6"
      ],
      "metadata": {
        "colab": {
          "base_uri": "https://localhost:8080/"
        },
        "outputId": "1d464101-c775-42fc-9812-ea8a58531ba8",
        "id": "ZAS84bPv9-Bp"
      },
      "execution_count": 124,
      "outputs": [
        {
          "output_type": "execute_result",
          "data": {
            "text/plain": [
              "0.9998180866241455"
            ]
          },
          "metadata": {},
          "execution_count": 124
        }
      ]
    },
    {
      "cell_type": "code",
      "source": [
        "label_6 = np.where(norm_test_scores[5] < t6, 1,0)"
      ],
      "metadata": {
        "id": "TXFCVb9x9-Bp"
      },
      "execution_count": 131,
      "outputs": []
    },
    {
      "cell_type": "code",
      "source": [
        "print(metrics.classification_report(label,label_6))"
      ],
      "metadata": {
        "colab": {
          "base_uri": "https://localhost:8080/"
        },
        "outputId": "d81ac907-a5c0-4ef8-d42b-2c746b3a2cf6",
        "id": "cLeCELL-9-Bp"
      },
      "execution_count": 132,
      "outputs": [
        {
          "output_type": "stream",
          "name": "stdout",
          "text": [
            "              precision    recall  f1-score   support\n",
            "\n",
            "           0       0.88      0.97      0.92    395298\n",
            "           1       0.10      0.02      0.04     54621\n",
            "\n",
            "    accuracy                           0.85    449919\n",
            "   macro avg       0.49      0.50      0.48    449919\n",
            "weighted avg       0.78      0.85      0.81    449919\n",
            "\n"
          ]
        }
      ]
    },
    {
      "cell_type": "code",
      "source": [
        "cm = confusion_matrix(label,label_6)\n",
        "print(cm)\n",
        "ax = sns.heatmap(cm/np.sum(cm), annot=True, \n",
        "            fmt='.2%', cmap='Blues')\n",
        "\n",
        "ax.set_title('Confusion Matrix for stage 6');\n",
        "ax.set_xlabel('\\nPredicted Values')\n",
        "ax.set_ylabel('Actual Values ');\n",
        "\n",
        "## Ticket labels - List must be in alphabetical order\n",
        "ax.xaxis.set_ticklabels(['False','True'])\n",
        "ax.yaxis.set_ticklabels(['False','True'])\n",
        "\n",
        "## Display the visualization of the Confusion Matrix.\n",
        "plt.show()"
      ],
      "metadata": {
        "colab": {
          "base_uri": "https://localhost:8080/",
          "height": 342
        },
        "id": "GqsbkfOOzvhg",
        "outputId": "ce7f3a57-80a5-49ac-dd7b-8da0b43dd7b5"
      },
      "execution_count": 133,
      "outputs": [
        {
          "output_type": "stream",
          "name": "stdout",
          "text": [
            "[[383369  11929]\n",
            " [ 53364   1257]]\n"
          ]
        },
        {
          "output_type": "display_data",
          "data": {
            "text/plain": [
              "<Figure size 432x288 with 2 Axes>"
            ],
            "image/png": "[encoded data removed]"
          },
          "metadata": {
            "needs_background": "light"
          }
        }
      ]
    },
    {
      "cell_type": "code",
      "source": [
        "time_label[\"pred_6\"] = label_6"
      ],
      "metadata": {
        "id": "L7IyGJkc9-Bp"
      },
      "execution_count": 134,
      "outputs": []
    },
    {
      "cell_type": "code",
      "source": [
        "att_p6 = time_label[time_label['attack #'].isin([23])]"
      ],
      "metadata": {
        "id": "JRpgThUu9-Bq"
      },
      "execution_count": 135,
      "outputs": []
    },
    {
      "cell_type": "code",
      "source": [
        "found = []\n",
        "for i in range(len(att_p6)):\n",
        "  if (att_p6.iloc[i][\"pred_6\"] == 1) & (att_p6.iloc[i][\"label\"] == 1):\n",
        "    found.append(att_p6.iloc[i][\"attack #\"])\n",
        "print(np.unique(found))"
      ],
      "metadata": {
        "colab": {
          "base_uri": "https://localhost:8080/"
        },
        "outputId": "09d32a68-5b4c-4107-f43d-3aedec2ff4eb",
        "id": "YM2H977r9-Bq"
      },
      "execution_count": 136,
      "outputs": [
        {
          "output_type": "stream",
          "name": "stdout",
          "text": [
            "[23]\n"
          ]
        }
      ]
    },
    {
      "cell_type": "code",
      "source": [
        "print(metrics.classification_report(att_p6.label,att_p6.pred_6))"
      ],
      "metadata": {
        "colab": {
          "base_uri": "https://localhost:8080/"
        },
        "id": "NCgU9zeaf7Q_",
        "outputId": "9bda45a0-77ef-48b8-9f35-0a38b46eb13d"
      },
      "execution_count": 137,
      "outputs": [
        {
          "output_type": "stream",
          "name": "stdout",
          "text": [
            "              precision    recall  f1-score   support\n",
            "\n",
            "           0       0.00      0.00      0.00         0\n",
            "           1       1.00      0.03      0.06       697\n",
            "\n",
            "    accuracy                           0.03       697\n",
            "   macro avg       0.50      0.02      0.03       697\n",
            "weighted avg       1.00      0.03      0.06       697\n",
            "\n"
          ]
        },
        {
          "output_type": "stream",
          "name": "stderr",
          "text": [
            "/usr/local/lib/python3.7/dist-packages/sklearn/metrics/_classification.py:1318: UndefinedMetricWarning: Recall and F-score are ill-defined and being set to 0.0 in labels with no true samples. Use `zero_division` parameter to control this behavior.\n",
            "  _warn_prf(average, modifier, msg_start, len(result))\n",
            "/usr/local/lib/python3.7/dist-packages/sklearn/metrics/_classification.py:1318: UndefinedMetricWarning: Recall and F-score are ill-defined and being set to 0.0 in labels with no true samples. Use `zero_division` parameter to control this behavior.\n",
            "  _warn_prf(average, modifier, msg_start, len(result))\n",
            "/usr/local/lib/python3.7/dist-packages/sklearn/metrics/_classification.py:1318: UndefinedMetricWarning: Recall and F-score are ill-defined and being set to 0.0 in labels with no true samples. Use `zero_division` parameter to control this behavior.\n",
            "  _warn_prf(average, modifier, msg_start, len(result))\n"
          ]
        }
      ]
    },
    {
      "cell_type": "code",
      "source": [
        "cm = confusion_matrix(att_p6.label,att_p6.pred_6)\n",
        "\n",
        "print(cm)\n",
        "ax = sns.heatmap(cm/np.sum(cm), annot=True, \n",
        "            fmt='.2%', cmap='Blues')\n",
        "\n",
        "ax.set_title('Confusion Matrix for all stages');\n",
        "ax.set_xlabel('\\nPredicted Values')\n",
        "ax.set_ylabel('Actual Values ');\n",
        "\n",
        "## Ticket labels - List must be in alphabetical order\n",
        "ax.xaxis.set_ticklabels(['False','True'])\n",
        "ax.yaxis.set_ticklabels(['False','True'])\n",
        "\n",
        "## Display the visualization of the Confusion Matrix.\n",
        "plt.show()"
      ],
      "metadata": {
        "colab": {
          "base_uri": "https://localhost:8080/",
          "height": 342
        },
        "id": "FSGU5--vzrAN",
        "outputId": "0ac8c52d-4003-49b4-a92e-9ef71bde772a"
      },
      "execution_count": 138,
      "outputs": [
        {
          "output_type": "stream",
          "name": "stdout",
          "text": [
            "[[  0   0]\n",
            " [674  23]]\n"
          ]
        },
        {
          "output_type": "display_data",
          "data": {
            "text/plain": [
              "<Figure size 432x288 with 2 Axes>"
            ],
            "image/png": "[encoded data removed]"
          },
          "metadata": {
            "needs_background": "light"
          }
        }
      ]
    },
    {
      "cell_type": "markdown",
      "source": [
        "##Attack found"
      ],
      "metadata": {
        "id": "1onU1KO6_KJ5"
      }
    },
    {
      "cell_type": "code",
      "source": [
        "time_label['pred'] = np.where((time_label['pred_1'] ==1) | \n",
        "                              (time_label['pred_2'] ==1) |\n",
        "                              (time_label['pred_3'] ==1) |\n",
        "                              (time_label['pred_4'] ==1) |\n",
        "                              (time_label['pred_5'] ==1) |\n",
        "                              (time_label['pred_6'] ==1), 1, 0)\n"
      ],
      "metadata": {
        "id": "vcT2XEa7Af2v"
      },
      "execution_count": 139,
      "outputs": []
    },
    {
      "cell_type": "code",
      "source": [
        "time_label[time_label[\"label\"] == 1].tail(5)"
      ],
      "metadata": {
        "colab": {
          "base_uri": "https://localhost:8080/",
          "height": 206
        },
        "id": "ms5fuy5PSMs9",
        "outputId": "baa6f04e-35e6-4483-fa0b-cd0d7c84170b"
      },
      "execution_count": 140,
      "outputs": [
        {
          "output_type": "execute_result",
          "data": {
            "text/plain": [
              "                 Timestamp  label  attack #  pred_1  pred_2  pred_3  pred_4  \\\n",
              "445186 2016-02-01 13:41:07      1         0       0       0       1       0   \n",
              "445187 2016-02-01 13:41:08      1         0       0       0       1       0   \n",
              "445188 2016-02-01 13:41:09      1         0       0       0       1       0   \n",
              "445189 2016-02-01 13:41:10      1         0       0       0       1       0   \n",
              "445190 2016-02-01 13:41:11      1         0       0       0       1       0   \n",
              "\n",
              "        pred_5  pred_6  pred  \n",
              "445186       1       0     1  \n",
              "445187       1       0     1  \n",
              "445188       1       0     1  \n",
              "445189       0       0     1  \n",
              "445190       0       0     1  "
            ],
            "text/html": [
              "\n",
              "  <div id=\"df-ff8b7eab-1262-446f-9b77-ad4a0b7e3356\">\n",
              "    <div class=\"colab-df-container\">\n",
              "      <div>\n",
              "<style scoped>\n",
              "    .dataframe tbody tr th:only-of-type {\n",
              "        vertical-align: middle;\n",
              "    }\n",
              "\n",
              "    .dataframe tbody tr th {\n",
              "        vertical-align: top;\n",
              "    }\n",
              "\n",
              "    .dataframe thead th {\n",
              "        text-align: right;\n",
              "    }\n",
              "</style>\n",
              "<table border=\"1\" class=\"dataframe\">\n",
              "  <thead>\n",
              "    <tr style=\"text-align: right;\">\n",
              "      <th></th>\n",
              "      <th>Timestamp</th>\n",
              "      <th>label</th>\n",
              "      <th>attack #</th>\n",
              "      <th>pred_1</th>\n",
              "      <th>pred_2</th>\n",
              "      <th>pred_3</th>\n",
              "      <th>pred_4</th>\n",
              "      <th>pred_5</th>\n",
              "      <th>pred_6</th>\n",
              "      <th>pred</th>\n",
              "    </tr>\n",
              "  </thead>\n",
              "  <tbody>\n",
              "    <tr>\n",
              "      <th>445186</th>\n",
              "      <td>2016-02-01 13:41:07</td>\n",
              "      <td>1</td>\n",
              "      <td>0</td>\n",
              "      <td>0</td>\n",
              "      <td>0</td>\n",
              "      <td>1</td>\n",
              "      <td>0</td>\n",
              "      <td>1</td>\n",
              "      <td>0</td>\n",
              "      <td>1</td>\n",
              "    </tr>\n",
              "    <tr>\n",
              "      <th>445187</th>\n",
              "      <td>2016-02-01 13:41:08</td>\n",
              "      <td>1</td>\n",
              "      <td>0</td>\n",
              "      <td>0</td>\n",
              "      <td>0</td>\n",
              "      <td>1</td>\n",
              "      <td>0</td>\n",
              "      <td>1</td>\n",
              "      <td>0</td>\n",
              "      <td>1</td>\n",
              "    </tr>\n",
              "    <tr>\n",
              "      <th>445188</th>\n",
              "      <td>2016-02-01 13:41:09</td>\n",
              "      <td>1</td>\n",
              "      <td>0</td>\n",
              "      <td>0</td>\n",
              "      <td>0</td>\n",
              "      <td>1</td>\n",
              "      <td>0</td>\n",
              "      <td>1</td>\n",
              "      <td>0</td>\n",
              "      <td>1</td>\n",
              "    </tr>\n",
              "    <tr>\n",
              "      <th>445189</th>\n",
              "      <td>2016-02-01 13:41:10</td>\n",
              "      <td>1</td>\n",
              "      <td>0</td>\n",
              "      <td>0</td>\n",
              "      <td>0</td>\n",
              "      <td>1</td>\n",
              "      <td>0</td>\n",
              "      <td>0</td>\n",
              "      <td>0</td>\n",
              "      <td>1</td>\n",
              "    </tr>\n",
              "    <tr>\n",
              "      <th>445190</th>\n",
              "      <td>2016-02-01 13:41:11</td>\n",
              "      <td>1</td>\n",
              "      <td>0</td>\n",
              "      <td>0</td>\n",
              "      <td>0</td>\n",
              "      <td>1</td>\n",
              "      <td>0</td>\n",
              "      <td>0</td>\n",
              "      <td>0</td>\n",
              "      <td>1</td>\n",
              "    </tr>\n",
              "  </tbody>\n",
              "</table>\n",
              "</div>\n",
              "      <button class=\"colab-df-convert\" onclick=\"convertToInteractive('df-ff8b7eab-1262-446f-9b77-ad4a0b7e3356')\"\n",
              "              title=\"Convert this dataframe to an interactive table.\"\n",
              "              style=\"display:none;\">\n",
              "        \n",
              "  <svg xmlns=\"http://www.w3.org/2000/svg\" height=\"24px\"viewBox=\"0 0 24 24\"\n",
              "       width=\"24px\">\n",
              "    <path d=\"M0 0h24v24H0V0z\" fill=\"none\"/>\n",
              "    <path d=\"M18.56 5.44l.94 2.06.94-2.06 2.06-.94-2.06-.94-.94-2.06-.94 2.06-2.06.94zm-11 1L8.5 8.5l.94-2.06 2.06-.94-2.06-.94L8.5 2.5l-.94 2.06-2.06.94zm10 10l.94 2.06.94-2.06 2.06-.94-2.06-.94-.94-2.06-.94 2.06-2.06.94z\"/><path d=\"M17.41 7.96l-1.37-1.37c-.4-.4-.92-.59-1.43-.59-.52 0-1.04.2-1.43.59L10.3 9.45l-7.72 7.72c-.78.78-.78 2.05 0 2.83L4 21.41c.39.39.9.59 1.41.59.51 0 1.02-.2 1.41-.59l7.78-7.78 2.81-2.81c.8-.78.8-2.07 0-2.86zM5.41 20L4 18.59l7.72-7.72 1.47 1.35L5.41 20z\"/>\n",
              "  </svg>\n",
              "      </button>\n",
              "      \n",
              "  <style>\n",
              "    .colab-df-container {\n",
              "      display:flex;\n",
              "      flex-wrap:wrap;\n",
              "      gap: 12px;\n",
              "    }\n",
              "\n",
              "    .colab-df-convert {\n",
              "      background-color: #E8F0FE;\n",
              "      border: none;\n",
              "      border-radius: 50%;\n",
              "      cursor: pointer;\n",
              "      display: none;\n",
              "      fill: #1967D2;\n",
              "      height: 32px;\n",
              "      padding: 0 0 0 0;\n",
              "      width: 32px;\n",
              "    }\n",
              "\n",
              "    .colab-df-convert:hover {\n",
              "      background-color: #E2EBFA;\n",
              "      box-shadow: 0px 1px 2px rgba(60, 64, 67, 0.3), 0px 1px 3px 1px rgba(60, 64, 67, 0.15);\n",
              "      fill: #174EA6;\n",
              "    }\n",
              "\n",
              "    [theme=dark] .colab-df-convert {\n",
              "      background-color: #3B4455;\n",
              "      fill: #D2E3FC;\n",
              "    }\n",
              "\n",
              "    [theme=dark] .colab-df-convert:hover {\n",
              "      background-color: #434B5C;\n",
              "      box-shadow: 0px 1px 3px 1px rgba(0, 0, 0, 0.15);\n",
              "      filter: drop-shadow(0px 1px 2px rgba(0, 0, 0, 0.3));\n",
              "      fill: #FFFFFF;\n",
              "    }\n",
              "  </style>\n",
              "\n",
              "      <script>\n",
              "        const buttonEl =\n",
              "          document.querySelector('#df-ff8b7eab-1262-446f-9b77-ad4a0b7e3356 button.colab-df-convert');\n",
              "        buttonEl.style.display =\n",
              "          google.colab.kernel.accessAllowed ? 'block' : 'none';\n",
              "\n",
              "        async function convertToInteractive(key) {\n",
              "          const element = document.querySelector('#df-ff8b7eab-1262-446f-9b77-ad4a0b7e3356');\n",
              "          const dataTable =\n",
              "            await google.colab.kernel.invokeFunction('convertToInteractive',\n",
              "                                                     [key], {});\n",
              "          if (!dataTable) return;\n",
              "\n",
              "          const docLinkHtml = 'Like what you see? Visit the ' +\n",
              "            '<a target=\"_blank\" href=https://colab.research.google.com/notebooks/data_table.ipynb>data table notebook</a>'\n",
              "            + ' to learn more about interactive tables.';\n",
              "          element.innerHTML = '';\n",
              "          dataTable['output_type'] = 'display_data';\n",
              "          await google.colab.output.renderOutput(dataTable, element);\n",
              "          const docLink = document.createElement('div');\n",
              "          docLink.innerHTML = docLinkHtml;\n",
              "          element.appendChild(docLink);\n",
              "        }\n",
              "      </script>\n",
              "    </div>\n",
              "  </div>\n",
              "  "
            ]
          },
          "metadata": {},
          "execution_count": 140
        }
      ]
    },
    {
      "cell_type": "code",
      "source": [
        "found = []\n",
        "for i in range(len(time_label)):\n",
        "  if (time_label.iloc[i][\"pred\"] == 1) & (time_label.iloc[i][\"label\"] == 1):\n",
        "    found.append(time_label.iloc[i][\"attack #\"])\n",
        "print(np.unique(found))"
      ],
      "metadata": {
        "colab": {
          "base_uri": "https://localhost:8080/"
        },
        "id": "4DsqbbCVB267",
        "outputId": "0f187ea1-3c8f-4e3b-c37d-64e3da196e92"
      },
      "execution_count": 141,
      "outputs": [
        {
          "output_type": "stream",
          "name": "stdout",
          "text": [
            "[ 0  1  2  3  7  8 10 11 14 16 17 19 20 21 22 23 24 25 26 27 28 29 30 31\n",
            " 32 33 34 35 36 37 38 39 40 41]\n"
          ]
        }
      ]
    },
    {
      "cell_type": "code",
      "source": [
        "len(np.unique(found))-1 #remove 0"
      ],
      "metadata": {
        "colab": {
          "base_uri": "https://localhost:8080/"
        },
        "id": "Pa3BPQinCO2o",
        "outputId": "8fe5d1f0-6b26-430e-fe2e-0aaf06a30b8b"
      },
      "execution_count": 142,
      "outputs": [
        {
          "output_type": "execute_result",
          "data": {
            "text/plain": [
              "33"
            ]
          },
          "metadata": {},
          "execution_count": 142
        }
      ]
    },
    {
      "cell_type": "code",
      "source": [
        "print(metrics.classification_report(time_label.label,time_label.pred))"
      ],
      "metadata": {
        "colab": {
          "base_uri": "https://localhost:8080/"
        },
        "id": "P9OsDagYWqSc",
        "outputId": "d8d77174-58d9-4756-a787-21761cd7cdca"
      },
      "execution_count": 143,
      "outputs": [
        {
          "output_type": "stream",
          "name": "stdout",
          "text": [
            "              precision    recall  f1-score   support\n",
            "\n",
            "           0       0.97      0.63      0.77    395298\n",
            "           1       0.25      0.87      0.38     54621\n",
            "\n",
            "    accuracy                           0.66    449919\n",
            "   macro avg       0.61      0.75      0.58    449919\n",
            "weighted avg       0.88      0.66      0.72    449919\n",
            "\n"
          ]
        }
      ]
    },
    {
      "cell_type": "code",
      "source": [
        "cm = confusion_matrix(time_label.label,time_label.pred)\n",
        "\n",
        "print(cm)"
      ],
      "metadata": {
        "colab": {
          "base_uri": "https://localhost:8080/"
        },
        "id": "NT3cmcIOWwZw",
        "outputId": "2426ce15-13ed-4046-8784-32a4e3254878"
      },
      "execution_count": 144,
      "outputs": [
        {
          "output_type": "stream",
          "name": "stdout",
          "text": [
            "[[250299 144999]\n",
            " [  7149  47472]]\n"
          ]
        }
      ]
    },
    {
      "cell_type": "code",
      "source": [
        "ax = sns.heatmap(cm/np.sum(cm), annot=True, \n",
        "            fmt='.2%', cmap='Blues')\n",
        "\n",
        "ax.set_title('Confusion Matrix for all stages of DeepSVDD');\n",
        "ax.set_xlabel('\\nPredicted Values')\n",
        "ax.set_ylabel('Actual Values ');\n",
        "\n",
        "## Ticket labels - List must be in alphabetical order\n",
        "ax.xaxis.set_ticklabels(['False','True'])\n",
        "ax.yaxis.set_ticklabels(['False','True'])\n",
        "\n",
        "## Display the visualization of the Confusion Matrix.\n",
        "plt.show()"
      ],
      "metadata": {
        "colab": {
          "base_uri": "https://localhost:8080/",
          "height": 307
        },
        "id": "ZVlw8ZBXXFPA",
        "outputId": "fe0383d0-3d9a-4e82-97ea-a67468ff0f3d"
      },
      "execution_count": 146,
      "outputs": [
        {
          "output_type": "display_data",
          "data": {
            "text/plain": [
              "<Figure size 432x288 with 2 Axes>"
            ],
            "image/png": "[encoded data removed]"
          },
          "metadata": {
            "needs_background": "light"
          }
        }
      ]
    }
  ],
  "metadata": {
    "accelerator": "GPU",
    "colab": {
      "collapsed_sections": [],
      "name": "Neural Network Base Model separate stage.ipynb",
      "provenance": [],
      "machine_shape": "hm",
      "authorship_tag": "ABX9TyMz8uPwJ08MVgJ4FmvCcxGG",
      "include_colab_link": true
    },
    "gpuClass": "standard",
    "kernelspec": {
      "display_name": "Python 3",
      "name": "python3"
    }
  },
  "nbformat": 4,
  "nbformat_minor": 0
}