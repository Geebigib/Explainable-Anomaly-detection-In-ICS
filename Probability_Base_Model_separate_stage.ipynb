{
  "cells": [
    {
      "cell_type": "markdown",
      "metadata": {
        "id": "view-in-github",
        "colab_type": "text"
      },
      "source": [
        "<a href=\"https://colab.research.google.com/github/Geebigib/Data-Science-Project/blob/main/Probability_Base_Model_separate_stage.ipynb\" target=\"_parent\"><img src=\"https://colab.research.google.com/assets/colab-badge.svg\" alt=\"Open In Colab\"/></a>"
      ]
    },
    {
      "cell_type": "code",
      "execution_count": 1,
      "metadata": {
        "colab": {
          "base_uri": "https://localhost:8080/"
        },
        "id": "UzxFI3UZFMBJ",
        "outputId": "caa9ac29-535b-4d62-a98e-814ede326ddf"
      },
      "outputs": [
        {
          "output_type": "stream",
          "name": "stdout",
          "text": [
            "Mounted at /content/drive\n"
          ]
        }
      ],
      "source": [
        "from google.colab import drive\n",
        "drive.mount('/content/drive')"
      ]
    },
    {
      "cell_type": "code",
      "execution_count": 2,
      "metadata": {
        "colab": {
          "base_uri": "https://localhost:8080/"
        },
        "id": "_Cl9RiEXdfTE",
        "outputId": "ecdd8674-7d28-43e3-a316-de1a17873468"
      },
      "outputs": [
        {
          "output_type": "stream",
          "name": "stdout",
          "text": [
            "\u001b[?25l\r\u001b[K     |██▍                             | 10 kB 25.1 MB/s eta 0:00:01\r\u001b[K     |████▉                           | 20 kB 5.2 MB/s eta 0:00:01\r\u001b[K     |███████▎                        | 30 kB 7.4 MB/s eta 0:00:01\r\u001b[K     |█████████▊                      | 40 kB 3.6 MB/s eta 0:00:01\r\u001b[K     |████████████▏                   | 51 kB 3.8 MB/s eta 0:00:01\r\u001b[K     |██████████████▋                 | 61 kB 4.4 MB/s eta 0:00:01\r\u001b[K     |█████████████████               | 71 kB 4.7 MB/s eta 0:00:01\r\u001b[K     |███████████████████▌            | 81 kB 5.3 MB/s eta 0:00:01\r\u001b[K     |██████████████████████          | 92 kB 5.0 MB/s eta 0:00:01\r\u001b[K     |████████████████████████▍       | 102 kB 4.3 MB/s eta 0:00:01\r\u001b[K     |██████████████████████████▉     | 112 kB 4.3 MB/s eta 0:00:01\r\u001b[K     |█████████████████████████████▎  | 122 kB 4.3 MB/s eta 0:00:01\r\u001b[K     |███████████████████████████████▊| 133 kB 4.3 MB/s eta 0:00:01\r\u001b[K     |████████████████████████████████| 134 kB 4.3 MB/s \n",
            "\u001b[?25h  Building wheel for pyod (setup.py) ... \u001b[?25l\u001b[?25hdone\n"
          ]
        }
      ],
      "source": [
        "!pip install pyod --quiet"
      ]
    },
    {
      "cell_type": "code",
      "execution_count": 3,
      "metadata": {
        "colab": {
          "base_uri": "https://localhost:8080/"
        },
        "id": "od9i8uI0btzr",
        "outputId": "d0ca2a04-ac9c-40be-e164-2416eafbee25"
      },
      "outputs": [
        {
          "output_type": "stream",
          "name": "stdout",
          "text": [
            "Archive:  /content/drive/MyDrive/SWaT_Dataset_v0.zip\n",
            "  inflating: /content/SWaT_Dataset_Attack_v0.csv  \n",
            "  inflating: /content/SWaT_Dataset_Normal_v0.csv  \n"
          ]
        }
      ],
      "source": [
        "!unzip /content/drive/MyDrive/SWaT_Dataset_v0.zip -d /content/"
      ]
    },
    {
      "cell_type": "code",
      "execution_count": 4,
      "metadata": {
        "id": "ef09e9a3-bebc-407a-8492-838438b4e288"
      },
      "outputs": [],
      "source": [
        "import numpy as np\n",
        "import os\n",
        "import pandas as pd\n",
        "from glob import glob\n",
        "from sklearn.preprocessing import MinMaxScaler\n",
        "from collections import Counter\n",
        "import pickle\n",
        "import tqdm\n",
        "import matplotlib.pyplot as plt\n",
        "from sklearn import metrics\n",
        "import pyod\n",
        "import seaborn as sns\n",
        "import timeit\n",
        "from sklearn.metrics import confusion_matrix"
      ]
    },
    {
      "cell_type": "markdown",
      "metadata": {
        "id": "kKdqmsEGblq4"
      },
      "source": [
        "Data Pre-processing"
      ]
    },
    {
      "cell_type": "code",
      "execution_count": 5,
      "metadata": {
        "id": "IO6QxPKoJq0H"
      },
      "outputs": [],
      "source": [
        "swat_normal = pd.read_csv(\"SWaT_Dataset_Normal_v0.csv\", skiprows=1)\n",
        "swat_attack = pd.read_csv(\"SWaT_Dataset_Attack_v0.csv\")"
      ]
    },
    {
      "cell_type": "code",
      "execution_count": 6,
      "metadata": {
        "id": "ba1cbb77-2b06-4667-91df-75e8da68b68d"
      },
      "outputs": [],
      "source": [
        "swat_normal.columns = swat_normal.columns.str.replace(' ','')\n",
        "swat_attack.columns = swat_attack.columns.str.replace(' ','')"
      ]
    },
    {
      "cell_type": "code",
      "execution_count": 7,
      "metadata": {
        "id": "dk2m6eZ7fXPO"
      },
      "outputs": [],
      "source": [
        "swat_attack[\"Normal/Attack\"].replace(' ', '', regex=True, inplace=True)"
      ]
    },
    {
      "cell_type": "code",
      "execution_count": 8,
      "metadata": {
        "id": "NKJf4rvncNvR"
      },
      "outputs": [],
      "source": [
        "test_df = swat_attack.set_index('Timestamp')\n",
        "test_df['label'] = np.where(test_df['Normal/Attack'] == 'Attack', 1, 0)\n",
        "\n",
        "test_df = test_df.drop('Normal/Attack', axis=1)\n",
        "\n",
        "train_df = swat_normal.set_index('Timestamp')\n",
        "train_df['label'] = np.where(train_df['Normal/Attack'] == 'Attack', 1, 0)\n",
        "train_df = train_df.drop('Normal/Attack', axis=1)\n",
        "\n",
        "# trim start stage\n",
        "train_df = train_df.iloc[21600:]\n"
      ]
    },
    {
      "cell_type": "code",
      "execution_count": 9,
      "metadata": {
        "id": "IA0qJp-NQn_t"
      },
      "outputs": [],
      "source": [
        "train_df.drop(columns = 'label',inplace = True)\n",
        "label = test_df['label'].values\n",
        "test_df.drop(columns = 'label',inplace = True)"
      ]
    },
    {
      "cell_type": "code",
      "execution_count": 10,
      "metadata": {
        "id": "34ca9ad8-0f02-4764-b864-1b7e9f9fc56d"
      },
      "outputs": [],
      "source": [
        "#normalise data\n",
        "scaler = MinMaxScaler()\n",
        "scaler = scaler.fit(train_df)"
      ]
    },
    {
      "cell_type": "code",
      "execution_count": 11,
      "metadata": {
        "id": "574bbe23-9e71-4079-9b3d-a91b353a5364"
      },
      "outputs": [],
      "source": [
        "train_scale = pd.DataFrame(\n",
        "    scaler.transform(train_df),\n",
        "    index = train_df.index,\n",
        "    columns= train_df.columns\n",
        ")\n",
        "\n",
        "test_scale  = pd.DataFrame(\n",
        "    scaler.transform(test_df),\n",
        "    index = test_df.index,\n",
        "    columns= test_df.columns\n",
        ")"
      ]
    },
    {
      "cell_type": "code",
      "execution_count": 12,
      "metadata": {
        "colab": {
          "base_uri": "https://localhost:8080/"
        },
        "id": "dlpVnPfNQpdk",
        "outputId": "5eb57920-22b4-411e-b9db-68fd0b8df3fa"
      },
      "outputs": [
        {
          "output_type": "execute_result",
          "data": {
            "text/plain": [
              "((475200, 51), (449919, 51))"
            ]
          },
          "metadata": {},
          "execution_count": 12
        }
      ],
      "source": [
        "train_scale.shape ,test_scale.shape"
      ]
    },
    {
      "cell_type": "code",
      "source": [
        "train_df.columns"
      ],
      "metadata": {
        "colab": {
          "base_uri": "https://localhost:8080/"
        },
        "id": "fRXg_hqqrYP8",
        "outputId": "548c1bcd-23e4-4351-c0d7-b1ad1ddf7810"
      },
      "execution_count": 13,
      "outputs": [
        {
          "output_type": "execute_result",
          "data": {
            "text/plain": [
              "Index(['FIT101', 'LIT101', 'MV101', 'P101', 'P102', 'AIT201', 'AIT202',\n",
              "       'AIT203', 'FIT201', 'MV201', 'P201', 'P202', 'P203', 'P204', 'P205',\n",
              "       'P206', 'DPIT301', 'FIT301', 'LIT301', 'MV301', 'MV302', 'MV303',\n",
              "       'MV304', 'P301', 'P302', 'AIT401', 'AIT402', 'FIT401', 'LIT401', 'P401',\n",
              "       'P402', 'P403', 'P404', 'UV401', 'AIT501', 'AIT502', 'AIT503', 'AIT504',\n",
              "       'FIT501', 'FIT502', 'FIT503', 'FIT504', 'P501', 'P502', 'PIT501',\n",
              "       'PIT502', 'PIT503', 'FIT601', 'P601', 'P602', 'P603'],\n",
              "      dtype='object')"
            ]
          },
          "metadata": {},
          "execution_count": 13
        }
      ]
    },
    {
      "cell_type": "code",
      "source": [
        "P1 = ['FIT101', 'LIT101', 'MV101', 'P101', 'P102']\n",
        "P2 = ['AIT201', 'AIT202','AIT203', 'FIT201', 'MV201', 'P201', 'P202', 'P203', 'P204', 'P205', 'P206']\n",
        "P3 = ['DPIT301', 'FIT301', 'LIT301', 'MV301', 'MV302', 'MV303', 'MV304', 'P301', 'P302']\n",
        "P4 = ['AIT401', 'AIT402', 'FIT401', 'LIT401', 'P401', 'P402', 'P403', 'P404', 'UV401']\n",
        "P5 = ['AIT501', 'AIT502', 'AIT503', 'AIT504','FIT501', 'FIT502', 'FIT503', 'FIT504', 'P501', 'P502', 'PIT501',\n",
        "       'PIT502', 'PIT503']\n",
        "P6 = ['FIT601', 'P601', 'P602', 'P603']"
      ],
      "metadata": {
        "id": "3VEPGP-KrbU_"
      },
      "execution_count": 14,
      "outputs": []
    },
    {
      "cell_type": "markdown",
      "metadata": {
        "id": "Ci6PSqZjboNE"
      },
      "source": [
        "Model Prediction on each stage"
      ]
    },
    {
      "cell_type": "code",
      "execution_count": 15,
      "metadata": {
        "id": "9SngcuRjuWHS"
      },
      "outputs": [],
      "source": [
        "from  pyod.models.ecod import ECOD\n",
        "model = ECOD(contamination=0.000000001)"
      ]
    },
    {
      "cell_type": "code",
      "source": [
        "def get_test_score(stage,train_scale,test_scale):\n",
        "  norm_test_scores = []\n",
        "  test_scores = []\n",
        "  train_scores = []\n",
        "  norm_train_scores = []\n",
        "  trainning_time = []\n",
        "  prediction_time = []\n",
        "\n",
        "  for i in stage:\n",
        "    model = ECOD(contamination=0.000000001)\n",
        "    start = timeit.default_timer()\n",
        "    model.fit(train_scale[i])\n",
        "    end = timeit.default_timer()\n",
        "\n",
        "    train_score = model.decision_scores_\n",
        "    start_pred = timeit.default_timer()\n",
        "    test_score = model.decision_function(test_scale[i])\n",
        "    end_pred = timeit.default_timer()\n",
        "\n",
        "    test_scores.append(test_score)\n",
        "    train_scores.append(train_score)\n",
        "\n",
        "    trainning_time.append(end-start)\n",
        "    prediction_time.append(end_pred-start_pred)\n",
        "\n",
        "    #normalise train&test score\n",
        "    min_train = min(train_score)\n",
        "    max_train = max(train_score)\n",
        "    norm_train = (train_score-min_train)/(max_train-min_train)\n",
        "    norm_test = (test_score - min_train)/(max_train-min_train)\n",
        "\n",
        "    norm_test_scores.append(norm_test)\n",
        "    norm_train_scores.append(norm_train)\n",
        "\n",
        "    print(f\"------ Finish Stage {i} ------\")\n",
        "  return norm_test_scores,test_scores,train_scores,norm_train_scores,trainning_time,prediction_time\n"
      ],
      "metadata": {
        "id": "P6miKK_11BMh"
      },
      "execution_count": 16,
      "outputs": []
    },
    {
      "cell_type": "code",
      "source": [
        "stage = [P1,P2,P3,P4,P5,P6]"
      ],
      "metadata": {
        "id": "IBBOsYne3Oiy"
      },
      "execution_count": 17,
      "outputs": []
    },
    {
      "cell_type": "code",
      "source": [
        "norm_test_scores,test_scores,train_scores,norm_train_scores,trainning_time,prediction_time = get_test_score(stage,train_scale,test_scale)"
      ],
      "metadata": {
        "colab": {
          "base_uri": "https://localhost:8080/"
        },
        "id": "vZYCM4Jh3YlL",
        "outputId": "44978289-b873-4e2f-d09b-35ea2becbc67"
      },
      "execution_count": 18,
      "outputs": [
        {
          "output_type": "stream",
          "name": "stdout",
          "text": [
            "------ Finish Stage ['FIT101', 'LIT101', 'MV101', 'P101', 'P102'] ------\n",
            "------ Finish Stage ['AIT201', 'AIT202', 'AIT203', 'FIT201', 'MV201', 'P201', 'P202', 'P203', 'P204', 'P205', 'P206'] ------\n",
            "------ Finish Stage ['DPIT301', 'FIT301', 'LIT301', 'MV301', 'MV302', 'MV303', 'MV304', 'P301', 'P302'] ------\n",
            "------ Finish Stage ['AIT401', 'AIT402', 'FIT401', 'LIT401', 'P401', 'P402', 'P403', 'P404', 'UV401'] ------\n",
            "------ Finish Stage ['AIT501', 'AIT502', 'AIT503', 'AIT504', 'FIT501', 'FIT502', 'FIT503', 'FIT504', 'P501', 'P502', 'PIT501', 'PIT502', 'PIT503'] ------\n",
            "------ Finish Stage ['FIT601', 'P601', 'P602', 'P603'] ------\n"
          ]
        }
      ]
    },
    {
      "cell_type": "code",
      "source": [
        "aucs = []\n",
        "for i in range(len(norm_test_scores)):\n",
        "  fpr, tpr, _ = metrics.roc_curve(label,  test_scores[i])\n",
        "  auc = metrics.roc_auc_score(label,  test_scores[i])\n",
        "  aucs.append(auc)\n",
        "  plt.plot(fpr,tpr,label=f\"stage {i+1}\")\n",
        "  plt.ylabel('True Positive Rate')\n",
        "  plt.xlabel('False Positive Rate')\n",
        "  plt.title(f'ECOD Model (6 stages)')\n",
        "  plt.legend(loc=4)"
      ],
      "metadata": {
        "colab": {
          "base_uri": "https://localhost:8080/",
          "height": 295
        },
        "id": "kNjxWxoc4XAL",
        "outputId": "c112b8c4-d32b-40e5-85dc-f72ee029dbcc"
      },
      "execution_count": 19,
      "outputs": [
        {
          "output_type": "display_data",
          "data": {
            "text/plain": [
              "<Figure size 432x288 with 1 Axes>"
            ],
            "image/png": "[encoded data removed]"
          },
          "metadata": {
            "needs_background": "light"
          }
        }
      ]
    },
    {
      "cell_type": "code",
      "source": [
        "for i in range(len(aucs)):\n",
        "  print(f\"AUC stage{i+1}: {np.round(aucs[i],3)}, training time = {trainning_time[i]}, prediction_time = {prediction_time[i]}\")"
      ],
      "metadata": {
        "colab": {
          "base_uri": "https://localhost:8080/"
        },
        "id": "HyJwupalwEi3",
        "outputId": "93e78780-b588-4be0-e9d0-c759f184c9b2"
      },
      "execution_count": 20,
      "outputs": [
        {
          "output_type": "stream",
          "name": "stdout",
          "text": [
            "AUC stage1: 0.805, training time = 2.256921582000018, prediction_time = 3.8153848240000343\n",
            "AUC stage2: 0.657, training time = 2.5654174160000593, prediction_time = 6.248074105000001\n",
            "AUC stage3: 0.824, training time = 3.2982943590000104, prediction_time = 6.455544981000003\n",
            "AUC stage4: 0.818, training time = 1.926922582999964, prediction_time = 2.6592516990000377\n",
            "AUC stage5: 0.816, training time = 2.152887905000057, prediction_time = 4.409577974000058\n",
            "AUC stage6: 0.413, training time = 0.49340206599993053, prediction_time = 1.021795482000016\n"
          ]
        }
      ]
    },
    {
      "cell_type": "code",
      "source": [
        "for i in range(len(norm_test_scores)):\n",
        "  plt.hist(norm_test_scores[i], density=True, bins='auto')  # density=False would make counts\n",
        "  plt.ylabel('Probability')\n",
        "  plt.xlabel('Data')\n",
        "  plt.title(f'stage {i+1}')\n",
        "  plt.show()"
      ],
      "metadata": {
        "colab": {
          "base_uri": "https://localhost:8080/",
          "height": 1000
        },
        "id": "ruVNgV6mO4Ce",
        "outputId": "f8c60610-c7ab-4cb1-f986-aca9d2519e0f"
      },
      "execution_count": 21,
      "outputs": [
        {
          "output_type": "display_data",
          "data": {
            "text/plain": [
              "<Figure size 432x288 with 1 Axes>"
            ],
            "image/png": "[encoded data removed]"
          },
          "metadata": {
            "needs_background": "light"
          }
        },
        {
          "output_type": "display_data",
          "data": {
            "text/plain": [
              "<Figure size 432x288 with 1 Axes>"
            ],
            "image/png": "[encoded data removed]"
          },
          "metadata": {
            "needs_background": "light"
          }
        },
        {
          "output_type": "display_data",
          "data": {
            "text/plain": [
              "<Figure size 432x288 with 1 Axes>"
            ],
            "image/png": "[encoded data removed]"
          },
          "metadata": {
            "needs_background": "light"
          }
        },
        {
          "output_type": "display_data",
          "data": {
            "text/plain": [
              "<Figure size 432x288 with 1 Axes>"
            ],
            "image/png": "[encoded data removed]"
          },
          "metadata": {
            "needs_background": "light"
          }
        },
        {
          "output_type": "display_data",
          "data": {
            "text/plain": [
              "<Figure size 432x288 with 1 Axes>"
            ],
            "image/png": "[encoded data removed]"
          },
          "metadata": {
            "needs_background": "light"
          }
        },
        {
          "output_type": "display_data",
          "data": {
            "text/plain": [
              "<Figure size 432x288 with 1 Axes>"
            ],
            "image/png": "[encoded data removed]"
          },
          "metadata": {
            "needs_background": "light"
          }
        }
      ]
    },
    {
      "cell_type": "code",
      "source": [
        "sns.displot(data=pd.DataFrame(norm_test_scores[0], columns = ['error']), x=\"error\", kind=\"kde\")\n",
        "plt.title(' Erroe score of Process 1 from ECOD')\n",
        "plt.vlines(np.percentile(norm_test_scores[0],95),ymin =0, ymax = 6,color = 'red', label = 'threshold')\n",
        "plt.legend()"
      ],
      "metadata": {
        "colab": {
          "base_uri": "https://localhost:8080/",
          "height": 402
        },
        "id": "djezz7PbnlUd",
        "outputId": "de596714-b8c9-4df5-b947-782b8798212f"
      },
      "execution_count": 435,
      "outputs": [
        {
          "output_type": "execute_result",
          "data": {
            "text/plain": [
              "<matplotlib.legend.Legend at 0x7f3bc95d4450>"
            ]
          },
          "metadata": {},
          "execution_count": 435
        },
        {
          "output_type": "display_data",
          "data": {
            "text/plain": [
              "<Figure size 360x360 with 1 Axes>"
            ],
            "image/png": "[encoded data removed]"
          },
          "metadata": {
            "needs_background": "light"
          }
        }
      ]
    },
    {
      "cell_type": "code",
      "source": [
        "def pred_labels_timewindow(df,threshold,time_window):\n",
        "  n_data = len(df)\n",
        "  pred_label = np.array([_ for _ in range(n_data)])\n",
        "  for i in range(0,n_data-time_window+1):\n",
        "    if (df[i:i+time_window] >= threshold).any():\n",
        "      pred_label[i:i+time_window] = 1\n",
        "    else:\n",
        "      pred_label[i:i+time_window] = 0\n",
        "\n",
        "  return pred_label"
      ],
      "metadata": {
        "id": "i548C9CVYEqK"
      },
      "execution_count": 22,
      "outputs": []
    },
    {
      "cell_type": "code",
      "source": [
        "time_window = 1"
      ],
      "metadata": {
        "id": "-E-F_sOxo7PH"
      },
      "execution_count": 23,
      "outputs": []
    },
    {
      "cell_type": "markdown",
      "source": [
        "##Ture Attack point"
      ],
      "metadata": {
        "id": "16taAvxspeop"
      }
    },
    {
      "cell_type": "code",
      "execution_count": 24,
      "metadata": {
        "id": "UkMB7Bfsb9P6"
      },
      "outputs": [],
      "source": [
        "true_anomaly = pd.read_csv(\"/content/drive/MyDrive/Data_sci_Project/List_of_attacks_Final.csv\")"
      ]
    },
    {
      "cell_type": "code",
      "source": [
        "true_attack = true_anomaly[~true_anomaly[\"End Time\"].isnull()]"
      ],
      "metadata": {
        "id": "EsadR_UCpvIC"
      },
      "execution_count": 25,
      "outputs": []
    },
    {
      "cell_type": "code",
      "source": [
        "true_attack.tail(3)"
      ],
      "metadata": {
        "colab": {
          "base_uri": "https://localhost:8080/",
          "height": 344
        },
        "id": "Bu6_LYhypl-v",
        "outputId": "b4c047f0-728e-4ab8-a75f-93c468a7b136"
      },
      "execution_count": 26,
      "outputs": [
        {
          "output_type": "execute_result",
          "data": {
            "text/plain": [
              "   Attack #          Start Time  End Time      Attack Point  \\\n",
              "38       39  2/01/2015 11:43:48  11:50:28  FIT-401, AIT-502   \n",
              "39       40  2/01/2015 11:51:42  11:56:38           FIT-401   \n",
              "40       41  2/01/2015 13:13:02  13:40:56           LIT-301   \n",
              "\n",
              "                    Start State  \\\n",
              "38              In Normal Range   \n",
              "39              In Normal Range   \n",
              "40  Water level between L and H   \n",
              "\n",
              "                                               Attack Actual Change  \\\n",
              "38  Set value of FIT-401 as 0.5; Set value of AIT-...            No   \n",
              "39                          Set value of FIT-401 as 0            No   \n",
              "40                decrease value by 0.5 mm per second            No   \n",
              "\n",
              "           Expected Impact or attacker intent  \\\n",
              "38  UV will shut down and water will go to RO   \n",
              "39  UV will shut down and water will go to RO   \n",
              "40                              Tank overflow   \n",
              "\n",
              "                                   Unexpected Outcome  \n",
              "38                                UV did not shutdown  \n",
              "39    P-402 did not close, both should be interlinked  \n",
              "40  Rate of decrease in water level reduced after ...  "
            ],
            "text/html": [
              "\n",
              "  <div id=\"df-7c7129e5-1d3a-4f91-b536-98664aba9205\">\n",
              "    <div class=\"colab-df-container\">\n",
              "      <div>\n",
              "<style scoped>\n",
              "    .dataframe tbody tr th:only-of-type {\n",
              "        vertical-align: middle;\n",
              "    }\n",
              "\n",
              "    .dataframe tbody tr th {\n",
              "        vertical-align: top;\n",
              "    }\n",
              "\n",
              "    .dataframe thead th {\n",
              "        text-align: right;\n",
              "    }\n",
              "</style>\n",
              "<table border=\"1\" class=\"dataframe\">\n",
              "  <thead>\n",
              "    <tr style=\"text-align: right;\">\n",
              "      <th></th>\n",
              "      <th>Attack #</th>\n",
              "      <th>Start Time</th>\n",
              "      <th>End Time</th>\n",
              "      <th>Attack Point</th>\n",
              "      <th>Start State</th>\n",
              "      <th>Attack</th>\n",
              "      <th>Actual Change</th>\n",
              "      <th>Expected Impact or attacker intent</th>\n",
              "      <th>Unexpected Outcome</th>\n",
              "    </tr>\n",
              "  </thead>\n",
              "  <tbody>\n",
              "    <tr>\n",
              "      <th>38</th>\n",
              "      <td>39</td>\n",
              "      <td>2/01/2015 11:43:48</td>\n",
              "      <td>11:50:28</td>\n",
              "      <td>FIT-401, AIT-502</td>\n",
              "      <td>In Normal Range</td>\n",
              "      <td>Set value of FIT-401 as 0.5; Set value of AIT-...</td>\n",
              "      <td>No</td>\n",
              "      <td>UV will shut down and water will go to RO</td>\n",
              "      <td>UV did not shutdown</td>\n",
              "    </tr>\n",
              "    <tr>\n",
              "      <th>39</th>\n",
              "      <td>40</td>\n",
              "      <td>2/01/2015 11:51:42</td>\n",
              "      <td>11:56:38</td>\n",
              "      <td>FIT-401</td>\n",
              "      <td>In Normal Range</td>\n",
              "      <td>Set value of FIT-401 as 0</td>\n",
              "      <td>No</td>\n",
              "      <td>UV will shut down and water will go to RO</td>\n",
              "      <td>P-402 did not close, both should be interlinked</td>\n",
              "    </tr>\n",
              "    <tr>\n",
              "      <th>40</th>\n",
              "      <td>41</td>\n",
              "      <td>2/01/2015 13:13:02</td>\n",
              "      <td>13:40:56</td>\n",
              "      <td>LIT-301</td>\n",
              "      <td>Water level between L and H</td>\n",
              "      <td>decrease value by 0.5 mm per second</td>\n",
              "      <td>No</td>\n",
              "      <td>Tank overflow</td>\n",
              "      <td>Rate of decrease in water level reduced after ...</td>\n",
              "    </tr>\n",
              "  </tbody>\n",
              "</table>\n",
              "</div>\n",
              "      <button class=\"colab-df-convert\" onclick=\"convertToInteractive('df-7c7129e5-1d3a-4f91-b536-98664aba9205')\"\n",
              "              title=\"Convert this dataframe to an interactive table.\"\n",
              "              style=\"display:none;\">\n",
              "        \n",
              "  <svg xmlns=\"http://www.w3.org/2000/svg\" height=\"24px\"viewBox=\"0 0 24 24\"\n",
              "       width=\"24px\">\n",
              "    <path d=\"M0 0h24v24H0V0z\" fill=\"none\"/>\n",
              "    <path d=\"M18.56 5.44l.94 2.06.94-2.06 2.06-.94-2.06-.94-.94-2.06-.94 2.06-2.06.94zm-11 1L8.5 8.5l.94-2.06 2.06-.94-2.06-.94L8.5 2.5l-.94 2.06-2.06.94zm10 10l.94 2.06.94-2.06 2.06-.94-2.06-.94-.94-2.06-.94 2.06-2.06.94z\"/><path d=\"M17.41 7.96l-1.37-1.37c-.4-.4-.92-.59-1.43-.59-.52 0-1.04.2-1.43.59L10.3 9.45l-7.72 7.72c-.78.78-.78 2.05 0 2.83L4 21.41c.39.39.9.59 1.41.59.51 0 1.02-.2 1.41-.59l7.78-7.78 2.81-2.81c.8-.78.8-2.07 0-2.86zM5.41 20L4 18.59l7.72-7.72 1.47 1.35L5.41 20z\"/>\n",
              "  </svg>\n",
              "      </button>\n",
              "      \n",
              "  <style>\n",
              "    .colab-df-container {\n",
              "      display:flex;\n",
              "      flex-wrap:wrap;\n",
              "      gap: 12px;\n",
              "    }\n",
              "\n",
              "    .colab-df-convert {\n",
              "      background-color: #E8F0FE;\n",
              "      border: none;\n",
              "      border-radius: 50%;\n",
              "      cursor: pointer;\n",
              "      display: none;\n",
              "      fill: #1967D2;\n",
              "      height: 32px;\n",
              "      padding: 0 0 0 0;\n",
              "      width: 32px;\n",
              "    }\n",
              "\n",
              "    .colab-df-convert:hover {\n",
              "      background-color: #E2EBFA;\n",
              "      box-shadow: 0px 1px 2px rgba(60, 64, 67, 0.3), 0px 1px 3px 1px rgba(60, 64, 67, 0.15);\n",
              "      fill: #174EA6;\n",
              "    }\n",
              "\n",
              "    [theme=dark] .colab-df-convert {\n",
              "      background-color: #3B4455;\n",
              "      fill: #D2E3FC;\n",
              "    }\n",
              "\n",
              "    [theme=dark] .colab-df-convert:hover {\n",
              "      background-color: #434B5C;\n",
              "      box-shadow: 0px 1px 3px 1px rgba(0, 0, 0, 0.15);\n",
              "      filter: drop-shadow(0px 1px 2px rgba(0, 0, 0, 0.3));\n",
              "      fill: #FFFFFF;\n",
              "    }\n",
              "  </style>\n",
              "\n",
              "      <script>\n",
              "        const buttonEl =\n",
              "          document.querySelector('#df-7c7129e5-1d3a-4f91-b536-98664aba9205 button.colab-df-convert');\n",
              "        buttonEl.style.display =\n",
              "          google.colab.kernel.accessAllowed ? 'block' : 'none';\n",
              "\n",
              "        async function convertToInteractive(key) {\n",
              "          const element = document.querySelector('#df-7c7129e5-1d3a-4f91-b536-98664aba9205');\n",
              "          const dataTable =\n",
              "            await google.colab.kernel.invokeFunction('convertToInteractive',\n",
              "                                                     [key], {});\n",
              "          if (!dataTable) return;\n",
              "\n",
              "          const docLinkHtml = 'Like what you see? Visit the ' +\n",
              "            '<a target=\"_blank\" href=https://colab.research.google.com/notebooks/data_table.ipynb>data table notebook</a>'\n",
              "            + ' to learn more about interactive tables.';\n",
              "          element.innerHTML = '';\n",
              "          dataTable['output_type'] = 'display_data';\n",
              "          await google.colab.output.renderOutput(dataTable, element);\n",
              "          const docLink = document.createElement('div');\n",
              "          docLink.innerHTML = docLinkHtml;\n",
              "          element.appendChild(docLink);\n",
              "        }\n",
              "      </script>\n",
              "    </div>\n",
              "  </div>\n",
              "  "
            ]
          },
          "metadata": {},
          "execution_count": 26
        }
      ]
    },
    {
      "cell_type": "code",
      "source": [
        "true_attack['Attack #']"
      ],
      "metadata": {
        "colab": {
          "base_uri": "https://localhost:8080/"
        },
        "id": "x47OunYVMeTb",
        "outputId": "d6e0a893-96d6-4c57-c7e6-ebfe88e27b63"
      },
      "execution_count": 139,
      "outputs": [
        {
          "output_type": "execute_result",
          "data": {
            "text/plain": [
              "0      1\n",
              "1      2\n",
              "2      3\n",
              "3      4\n",
              "5      6\n",
              "6      7\n",
              "7      8\n",
              "9     10\n",
              "10    11\n",
              "12    13\n",
              "13    14\n",
              "15    16\n",
              "16    17\n",
              "18    19\n",
              "19    20\n",
              "20    21\n",
              "21    22\n",
              "22    23\n",
              "23    24\n",
              "24    25\n",
              "25    26\n",
              "26    27\n",
              "27    28\n",
              "28    29\n",
              "29    30\n",
              "30    31\n",
              "31    32\n",
              "32    33\n",
              "33    34\n",
              "34    35\n",
              "35    36\n",
              "36    37\n",
              "37    38\n",
              "38    39\n",
              "39    40\n",
              "40    41\n",
              "Name: Attack #, dtype: object"
            ]
          },
          "metadata": {},
          "execution_count": 139
        }
      ]
    },
    {
      "cell_type": "code",
      "execution_count": 27,
      "metadata": {
        "id": "NgjdE5XqcTxy"
      },
      "outputs": [],
      "source": [
        "start_time = true_attack['Start Time']\n",
        "start_time = pd.to_datetime(start_time)\n",
        "start_time.loc[36:40] = start_time.loc[36:40]+pd.DateOffset(years=1)"
      ]
    },
    {
      "cell_type": "code",
      "execution_count": 28,
      "metadata": {
        "id": "1P5olVV1rdqB"
      },
      "outputs": [],
      "source": [
        "end_time = pd.to_datetime(true_anomaly['End Time'][~true_anomaly[\"End Time\"].isnull()])"
      ]
    },
    {
      "cell_type": "code",
      "execution_count": 29,
      "metadata": {
        "id": "0l5l2XcPwYTM"
      },
      "outputs": [],
      "source": [
        "attack_lenght = (end_time - pd.to_datetime([str(a) for a in start_time.dt.time])).dt.seconds"
      ]
    },
    {
      "cell_type": "code",
      "execution_count": 30,
      "metadata": {
        "colab": {
          "base_uri": "https://localhost:8080/"
        },
        "id": "zeJxJdepq00E",
        "outputId": "aaa59353-a558-4c64-9626-24202e7ae43b"
      },
      "outputs": [
        {
          "output_type": "execute_result",
          "data": {
            "text/plain": [
              "36"
            ]
          },
          "metadata": {},
          "execution_count": 30
        }
      ],
      "source": [
        "len(start_time) #there are 36 attack"
      ]
    },
    {
      "cell_type": "code",
      "execution_count": 31,
      "metadata": {
        "colab": {
          "base_uri": "https://localhost:8080/"
        },
        "id": "Du8xvw4l8Ybk",
        "outputId": "2b66430e-00a9-4aba-c7e9-fc9148b567dd"
      },
      "outputs": [
        {
          "output_type": "execute_result",
          "data": {
            "text/plain": [
              "array([ 1,  2,  3,  4,  6,  7,  8, 10, 11, 13, 14, 16, 17, 19, 20, 21, 22,\n",
              "       23, 24, 25, 26, 27, 28, 29, 30, 31, 32, 33, 34, 35, 36, 37, 38, 39,\n",
              "       40, 41])"
            ]
          },
          "metadata": {},
          "execution_count": 31
        }
      ],
      "source": [
        "n_att = start_time.index.values+1\n",
        "start_time.index.values+1"
      ]
    },
    {
      "cell_type": "code",
      "source": [
        "label"
      ],
      "metadata": {
        "colab": {
          "base_uri": "https://localhost:8080/"
        },
        "id": "i20qn_f-Ls50",
        "outputId": "2f98f089-5175-4324-9836-99e52cf509a9"
      },
      "execution_count": 32,
      "outputs": [
        {
          "output_type": "execute_result",
          "data": {
            "text/plain": [
              "array([0, 0, 0, ..., 0, 0, 0])"
            ]
          },
          "metadata": {},
          "execution_count": 32
        }
      ]
    },
    {
      "cell_type": "code",
      "source": [
        "time_label = pd.DataFrame(label, index =  test_df.index.values, columns = [\"label\"])\n",
        "time_label.reset_index(inplace=True)\n",
        "time_label.rename(columns = {'index':'Timestamp'}, inplace = True)\n",
        "time_label['Timestamp'] = pd.to_datetime(time_label['Timestamp'])"
      ],
      "metadata": {
        "id": "c3spm3xXrPJb"
      },
      "execution_count": 33,
      "outputs": []
    },
    {
      "cell_type": "code",
      "source": [
        "time_label"
      ],
      "metadata": {
        "colab": {
          "base_uri": "https://localhost:8080/",
          "height": 424
        },
        "id": "ON9RIa3FLuwI",
        "outputId": "d85ce2c0-f500-4e4f-87bd-9c0f4c791bd7"
      },
      "execution_count": 34,
      "outputs": [
        {
          "output_type": "execute_result",
          "data": {
            "text/plain": [
              "                 Timestamp  label\n",
              "0      2015-12-28 10:00:00      0\n",
              "1      2015-12-28 10:00:01      0\n",
              "2      2015-12-28 10:00:02      0\n",
              "3      2015-12-28 10:00:03      0\n",
              "4      2015-12-28 10:00:04      0\n",
              "...                    ...    ...\n",
              "449914 2016-02-01 14:59:55      0\n",
              "449915 2016-02-01 14:59:56      0\n",
              "449916 2016-02-01 14:59:57      0\n",
              "449917 2016-02-01 14:59:58      0\n",
              "449918 2016-02-01 14:59:59      0\n",
              "\n",
              "[449919 rows x 2 columns]"
            ],
            "text/html": [
              "\n",
              "  <div id=\"df-12315158-ba0f-45d7-9b73-334af97ab2f6\">\n",
              "    <div class=\"colab-df-container\">\n",
              "      <div>\n",
              "<style scoped>\n",
              "    .dataframe tbody tr th:only-of-type {\n",
              "        vertical-align: middle;\n",
              "    }\n",
              "\n",
              "    .dataframe tbody tr th {\n",
              "        vertical-align: top;\n",
              "    }\n",
              "\n",
              "    .dataframe thead th {\n",
              "        text-align: right;\n",
              "    }\n",
              "</style>\n",
              "<table border=\"1\" class=\"dataframe\">\n",
              "  <thead>\n",
              "    <tr style=\"text-align: right;\">\n",
              "      <th></th>\n",
              "      <th>Timestamp</th>\n",
              "      <th>label</th>\n",
              "    </tr>\n",
              "  </thead>\n",
              "  <tbody>\n",
              "    <tr>\n",
              "      <th>0</th>\n",
              "      <td>2015-12-28 10:00:00</td>\n",
              "      <td>0</td>\n",
              "    </tr>\n",
              "    <tr>\n",
              "      <th>1</th>\n",
              "      <td>2015-12-28 10:00:01</td>\n",
              "      <td>0</td>\n",
              "    </tr>\n",
              "    <tr>\n",
              "      <th>2</th>\n",
              "      <td>2015-12-28 10:00:02</td>\n",
              "      <td>0</td>\n",
              "    </tr>\n",
              "    <tr>\n",
              "      <th>3</th>\n",
              "      <td>2015-12-28 10:00:03</td>\n",
              "      <td>0</td>\n",
              "    </tr>\n",
              "    <tr>\n",
              "      <th>4</th>\n",
              "      <td>2015-12-28 10:00:04</td>\n",
              "      <td>0</td>\n",
              "    </tr>\n",
              "    <tr>\n",
              "      <th>...</th>\n",
              "      <td>...</td>\n",
              "      <td>...</td>\n",
              "    </tr>\n",
              "    <tr>\n",
              "      <th>449914</th>\n",
              "      <td>2016-02-01 14:59:55</td>\n",
              "      <td>0</td>\n",
              "    </tr>\n",
              "    <tr>\n",
              "      <th>449915</th>\n",
              "      <td>2016-02-01 14:59:56</td>\n",
              "      <td>0</td>\n",
              "    </tr>\n",
              "    <tr>\n",
              "      <th>449916</th>\n",
              "      <td>2016-02-01 14:59:57</td>\n",
              "      <td>0</td>\n",
              "    </tr>\n",
              "    <tr>\n",
              "      <th>449917</th>\n",
              "      <td>2016-02-01 14:59:58</td>\n",
              "      <td>0</td>\n",
              "    </tr>\n",
              "    <tr>\n",
              "      <th>449918</th>\n",
              "      <td>2016-02-01 14:59:59</td>\n",
              "      <td>0</td>\n",
              "    </tr>\n",
              "  </tbody>\n",
              "</table>\n",
              "<p>449919 rows × 2 columns</p>\n",
              "</div>\n",
              "      <button class=\"colab-df-convert\" onclick=\"convertToInteractive('df-12315158-ba0f-45d7-9b73-334af97ab2f6')\"\n",
              "              title=\"Convert this dataframe to an interactive table.\"\n",
              "              style=\"display:none;\">\n",
              "        \n",
              "  <svg xmlns=\"http://www.w3.org/2000/svg\" height=\"24px\"viewBox=\"0 0 24 24\"\n",
              "       width=\"24px\">\n",
              "    <path d=\"M0 0h24v24H0V0z\" fill=\"none\"/>\n",
              "    <path d=\"M18.56 5.44l.94 2.06.94-2.06 2.06-.94-2.06-.94-.94-2.06-.94 2.06-2.06.94zm-11 1L8.5 8.5l.94-2.06 2.06-.94-2.06-.94L8.5 2.5l-.94 2.06-2.06.94zm10 10l.94 2.06.94-2.06 2.06-.94-2.06-.94-.94-2.06-.94 2.06-2.06.94z\"/><path d=\"M17.41 7.96l-1.37-1.37c-.4-.4-.92-.59-1.43-.59-.52 0-1.04.2-1.43.59L10.3 9.45l-7.72 7.72c-.78.78-.78 2.05 0 2.83L4 21.41c.39.39.9.59 1.41.59.51 0 1.02-.2 1.41-.59l7.78-7.78 2.81-2.81c.8-.78.8-2.07 0-2.86zM5.41 20L4 18.59l7.72-7.72 1.47 1.35L5.41 20z\"/>\n",
              "  </svg>\n",
              "      </button>\n",
              "      \n",
              "  <style>\n",
              "    .colab-df-container {\n",
              "      display:flex;\n",
              "      flex-wrap:wrap;\n",
              "      gap: 12px;\n",
              "    }\n",
              "\n",
              "    .colab-df-convert {\n",
              "      background-color: #E8F0FE;\n",
              "      border: none;\n",
              "      border-radius: 50%;\n",
              "      cursor: pointer;\n",
              "      display: none;\n",
              "      fill: #1967D2;\n",
              "      height: 32px;\n",
              "      padding: 0 0 0 0;\n",
              "      width: 32px;\n",
              "    }\n",
              "\n",
              "    .colab-df-convert:hover {\n",
              "      background-color: #E2EBFA;\n",
              "      box-shadow: 0px 1px 2px rgba(60, 64, 67, 0.3), 0px 1px 3px 1px rgba(60, 64, 67, 0.15);\n",
              "      fill: #174EA6;\n",
              "    }\n",
              "\n",
              "    [theme=dark] .colab-df-convert {\n",
              "      background-color: #3B4455;\n",
              "      fill: #D2E3FC;\n",
              "    }\n",
              "\n",
              "    [theme=dark] .colab-df-convert:hover {\n",
              "      background-color: #434B5C;\n",
              "      box-shadow: 0px 1px 3px 1px rgba(0, 0, 0, 0.15);\n",
              "      filter: drop-shadow(0px 1px 2px rgba(0, 0, 0, 0.3));\n",
              "      fill: #FFFFFF;\n",
              "    }\n",
              "  </style>\n",
              "\n",
              "      <script>\n",
              "        const buttonEl =\n",
              "          document.querySelector('#df-12315158-ba0f-45d7-9b73-334af97ab2f6 button.colab-df-convert');\n",
              "        buttonEl.style.display =\n",
              "          google.colab.kernel.accessAllowed ? 'block' : 'none';\n",
              "\n",
              "        async function convertToInteractive(key) {\n",
              "          const element = document.querySelector('#df-12315158-ba0f-45d7-9b73-334af97ab2f6');\n",
              "          const dataTable =\n",
              "            await google.colab.kernel.invokeFunction('convertToInteractive',\n",
              "                                                     [key], {});\n",
              "          if (!dataTable) return;\n",
              "\n",
              "          const docLinkHtml = 'Like what you see? Visit the ' +\n",
              "            '<a target=\"_blank\" href=https://colab.research.google.com/notebooks/data_table.ipynb>data table notebook</a>'\n",
              "            + ' to learn more about interactive tables.';\n",
              "          element.innerHTML = '';\n",
              "          dataTable['output_type'] = 'display_data';\n",
              "          await google.colab.output.renderOutput(dataTable, element);\n",
              "          const docLink = document.createElement('div');\n",
              "          docLink.innerHTML = docLinkHtml;\n",
              "          element.appendChild(docLink);\n",
              "        }\n",
              "      </script>\n",
              "    </div>\n",
              "  </div>\n",
              "  "
            ]
          },
          "metadata": {},
          "execution_count": 34
        }
      ]
    },
    {
      "cell_type": "code",
      "execution_count": 35,
      "metadata": {
        "id": "FiKi5uU2lcqS"
      },
      "outputs": [],
      "source": [
        "#find start index/ end index of attack\n",
        "idx_start = time_label[time_label['Timestamp'].isin(start_time)]['Timestamp'].index.values \n",
        "idx_end = idx_start+attack_lenght.values"
      ]
    },
    {
      "cell_type": "code",
      "source": [
        "idx_start"
      ],
      "metadata": {
        "colab": {
          "base_uri": "https://localhost:8080/"
        },
        "id": "NTjIc-fIrUzA",
        "outputId": "7b630254-5d87-41c0-e351-3d8f393d6767"
      },
      "execution_count": 36,
      "outputs": [
        {
          "output_type": "execute_result",
          "data": {
            "text/plain": [
              "array([  1754,   3068,   4920,   6459,   7255,   7705,  11410,  15380,\n",
              "        15540,  90685,  92140,  93445, 103092, 115843, 116143, 117000,\n",
              "       132918, 142954, 172268, 172910, 198296, 227828, 229519, 279120,\n",
              "       280060, 302653, 347679, 361191, 371479, 371855, 389680, 436541,\n",
              "       437417, 438147, 438621, 443501])"
            ]
          },
          "metadata": {},
          "execution_count": 36
        }
      ]
    },
    {
      "cell_type": "code",
      "execution_count": 37,
      "metadata": {
        "colab": {
          "base_uri": "https://localhost:8080/"
        },
        "id": "Z7IsUesRya6F",
        "outputId": "706a5756-2f57-493b-bc9a-676023daa397"
      },
      "outputs": [
        {
          "output_type": "stream",
          "name": "stderr",
          "text": [
            "/usr/local/lib/python3.7/dist-packages/pandas/core/indexing.py:1732: SettingWithCopyWarning: \n",
            "A value is trying to be set on a copy of a slice from a DataFrame\n",
            "\n",
            "See the caveats in the documentation: https://pandas.pydata.org/pandas-docs/stable/user_guide/indexing.html#returning-a-view-versus-a-copy\n",
            "  self._setitem_single_block(indexer, value, name)\n"
          ]
        }
      ],
      "source": [
        "time_label['attack #'] = 0\n",
        "for i in range (len(n_att)):\n",
        "  time_label['attack #'].loc[idx_start[i]:idx_end[i]] = n_att[i]"
      ]
    },
    {
      "cell_type": "markdown",
      "source": [
        "##tunning threshold from stage P1"
      ],
      "metadata": {
        "id": "XilMj7aXlbQS"
      }
    },
    {
      "cell_type": "code",
      "source": [
        "!pip install ghostml --quiet"
      ],
      "metadata": {
        "id": "ajBfWPWvoLU2"
      },
      "execution_count": 38,
      "outputs": []
    },
    {
      "cell_type": "code",
      "source": [
        "import ghostml\n",
        "n_percentile = [np.percentile(norm_test_scores,i) for i in range(95,100,1)]"
      ],
      "metadata": {
        "id": "mh8Sdj6-ljac"
      },
      "execution_count": 39,
      "outputs": []
    },
    {
      "cell_type": "code",
      "source": [
        "threshold1 = ghostml.optimize_threshold_from_predictions(label, norm_test_scores[0], n_percentile, ThOpt_metrics = 'Kappa') "
      ],
      "metadata": {
        "id": "OcnJF5Aym9h2"
      },
      "execution_count": 40,
      "outputs": []
    },
    {
      "cell_type": "code",
      "source": [
        "threshold1"
      ],
      "metadata": {
        "colab": {
          "base_uri": "https://localhost:8080/"
        },
        "id": "n8GF96SzosZZ",
        "outputId": "e1bc5cd9-14f1-4aef-f1b6-91c9f5523639"
      },
      "execution_count": 41,
      "outputs": [
        {
          "output_type": "execute_result",
          "data": {
            "text/plain": [
              "0.5430184044914178"
            ]
          },
          "metadata": {},
          "execution_count": 41
        }
      ]
    },
    {
      "cell_type": "code",
      "source": [
        "n_percentile #use percentil 95"
      ],
      "metadata": {
        "colab": {
          "base_uri": "https://localhost:8080/"
        },
        "id": "a2HObqPGpRcp",
        "outputId": "2fddfce9-aa65-45c5-e102-0c217f015f11"
      },
      "execution_count": 42,
      "outputs": [
        {
          "output_type": "execute_result",
          "data": {
            "text/plain": [
              "[0.5430184044914178,\n",
              " 0.5977952603117432,\n",
              " 0.70205805524962,\n",
              " 0.7658072620141095,\n",
              " 0.873483968111011]"
            ]
          },
          "metadata": {},
          "execution_count": 42
        }
      ]
    },
    {
      "cell_type": "markdown",
      "source": [
        "##Stage P1"
      ],
      "metadata": {
        "id": "n9JyPvk7om8S"
      }
    },
    {
      "cell_type": "code",
      "source": [
        "t1 = np.percentile(norm_test_scores[0],95)"
      ],
      "metadata": {
        "id": "NofvUVHioo_8"
      },
      "execution_count": 43,
      "outputs": []
    },
    {
      "cell_type": "code",
      "source": [
        "label_1 = pred_labels_timewindow(norm_test_scores[0],t1,time_window)"
      ],
      "metadata": {
        "id": "OqDE2bJyYF98"
      },
      "execution_count": 44,
      "outputs": []
    },
    {
      "cell_type": "code",
      "source": [
        "time_label[\"pred_1\"] = label_1"
      ],
      "metadata": {
        "id": "5XH6aUzGvh0i"
      },
      "execution_count": 45,
      "outputs": []
    },
    {
      "cell_type": "code",
      "source": [
        "att_p1 = time_label[time_label['attack #'].isin([1,2,3,21,26,30,33,34,35,36])]"
      ],
      "metadata": {
        "id": "XoLuXGnOu64T"
      },
      "execution_count": 46,
      "outputs": []
    },
    {
      "cell_type": "code",
      "source": [
        "fpr, tpr, _ = metrics.roc_curve(label, label_1)\n",
        "auc = metrics.roc_auc_score(label, label_1)\n",
        "plt.plot(fpr,tpr,label=f\"stage 1, auc = {np.round(auc,2)}\")\n",
        "plt.ylabel('True Positive Rate')\n",
        "plt.xlabel('False Positive Rate')\n",
        "plt.title(f'ECOD Model')\n",
        "plt.legend(loc=4)"
      ],
      "metadata": {
        "colab": {
          "base_uri": "https://localhost:8080/",
          "height": 312
        },
        "id": "REsMtOh7o6ph",
        "outputId": "e07fdeaf-b8b5-4825-fdd2-7c68ddce4142"
      },
      "execution_count": 47,
      "outputs": [
        {
          "output_type": "execute_result",
          "data": {
            "text/plain": [
              "<matplotlib.legend.Legend at 0x7f3cbbeb1d90>"
            ]
          },
          "metadata": {},
          "execution_count": 47
        },
        {
          "output_type": "display_data",
          "data": {
            "text/plain": [
              "<Figure size 432x288 with 1 Axes>"
            ],
            "image/png": "[encoded data removed]"
          },
          "metadata": {
            "needs_background": "light"
          }
        }
      ]
    },
    {
      "cell_type": "code",
      "source": [
        "print(metrics.classification_report(label,label_1))"
      ],
      "metadata": {
        "colab": {
          "base_uri": "https://localhost:8080/"
        },
        "id": "IExsHyljpU2C",
        "outputId": "1b1f85ef-aaeb-4997-9852-4f75e1076389"
      },
      "execution_count": 48,
      "outputs": [
        {
          "output_type": "stream",
          "name": "stdout",
          "text": [
            "              precision    recall  f1-score   support\n",
            "\n",
            "           0       0.89      0.96      0.92    395298\n",
            "           1       0.34      0.14      0.20     54621\n",
            "\n",
            "    accuracy                           0.86    449919\n",
            "   macro avg       0.62      0.55      0.56    449919\n",
            "weighted avg       0.82      0.86      0.84    449919\n",
            "\n"
          ]
        }
      ]
    },
    {
      "cell_type": "code",
      "source": [
        "cm = confusion_matrix(label,label_1)\n",
        "print(cm)\n",
        "ax = sns.heatmap(cm/np.sum(cm), annot=True, \n",
        "            fmt='.2%', cmap='Blues')\n",
        "\n",
        "ax.set_title('Confusion Matrix for stage 3');\n",
        "ax.set_xlabel('\\nPredicted Values')\n",
        "ax.set_ylabel('Actual Values ');\n",
        "\n",
        "## Ticket labels - List must be in alphabetical order\n",
        "ax.xaxis.set_ticklabels(['False','True'])\n",
        "ax.yaxis.set_ticklabels(['False','True'])\n",
        "\n",
        "## Display the visualization of the Confusion Matrix.\n",
        "plt.show()"
      ],
      "metadata": {
        "colab": {
          "base_uri": "https://localhost:8080/",
          "height": 342
        },
        "id": "2itaK-oK6kLR",
        "outputId": "a8fb8fab-de5e-458a-8cf4-624f6cb4a660"
      },
      "execution_count": 49,
      "outputs": [
        {
          "output_type": "stream",
          "name": "stdout",
          "text": [
            "[[380495  14803]\n",
            " [ 46928   7693]]\n"
          ]
        },
        {
          "output_type": "display_data",
          "data": {
            "text/plain": [
              "<Figure size 432x288 with 2 Axes>"
            ],
            "image/png": "[encoded data removed]"
          },
          "metadata": {
            "needs_background": "light"
          }
        }
      ]
    },
    {
      "cell_type": "code",
      "source": [
        "print(metrics.classification_report(att_p1.label,att_p1.pred_1))"
      ],
      "metadata": {
        "colab": {
          "base_uri": "https://localhost:8080/"
        },
        "id": "iVfx4Cu_cJ41",
        "outputId": "61d0b7f9-53ab-4176-847b-e6e9664ceaba"
      },
      "execution_count": 50,
      "outputs": [
        {
          "output_type": "stream",
          "name": "stdout",
          "text": [
            "              precision    recall  f1-score   support\n",
            "\n",
            "           0       0.00      0.00      0.00         0\n",
            "           1       1.00      0.70      0.82      6669\n",
            "\n",
            "    accuracy                           0.70      6669\n",
            "   macro avg       0.50      0.35      0.41      6669\n",
            "weighted avg       1.00      0.70      0.82      6669\n",
            "\n"
          ]
        },
        {
          "output_type": "stream",
          "name": "stderr",
          "text": [
            "/usr/local/lib/python3.7/dist-packages/sklearn/metrics/_classification.py:1318: UndefinedMetricWarning: Recall and F-score are ill-defined and being set to 0.0 in labels with no true samples. Use `zero_division` parameter to control this behavior.\n",
            "  _warn_prf(average, modifier, msg_start, len(result))\n",
            "/usr/local/lib/python3.7/dist-packages/sklearn/metrics/_classification.py:1318: UndefinedMetricWarning: Recall and F-score are ill-defined and being set to 0.0 in labels with no true samples. Use `zero_division` parameter to control this behavior.\n",
            "  _warn_prf(average, modifier, msg_start, len(result))\n",
            "/usr/local/lib/python3.7/dist-packages/sklearn/metrics/_classification.py:1318: UndefinedMetricWarning: Recall and F-score are ill-defined and being set to 0.0 in labels with no true samples. Use `zero_division` parameter to control this behavior.\n",
            "  _warn_prf(average, modifier, msg_start, len(result))\n"
          ]
        }
      ]
    },
    {
      "cell_type": "code",
      "source": [
        "found = []\n",
        "for i in range(len(att_p1)):\n",
        "  if (att_p1.iloc[i][\"pred_1\"] == 1) & (att_p1.iloc[i][\"label\"] == 1):\n",
        "    found.append(att_p1.iloc[i][\"attack #\"])\n",
        "print(np.unique(found))"
      ],
      "metadata": {
        "colab": {
          "base_uri": "https://localhost:8080/"
        },
        "id": "yBVIuzFv5UQa",
        "outputId": "971d9eb1-038a-4637-e948-8eae99677c79"
      },
      "execution_count": 51,
      "outputs": [
        {
          "output_type": "stream",
          "name": "stdout",
          "text": [
            "[ 1  2  3 26 30 33 34 35 36]\n"
          ]
        }
      ]
    },
    {
      "cell_type": "code",
      "source": [
        "np.unique(att_p1[\"attack #\"])"
      ],
      "metadata": {
        "colab": {
          "base_uri": "https://localhost:8080/"
        },
        "id": "yESJGCjO5yxD",
        "outputId": "386597cf-1921-47f7-fb1c-a9f480a88615"
      },
      "execution_count": 52,
      "outputs": [
        {
          "output_type": "execute_result",
          "data": {
            "text/plain": [
              "array([ 1,  2,  3, 21, 26, 30, 33, 34, 35, 36])"
            ]
          },
          "metadata": {},
          "execution_count": 52
        }
      ]
    },
    {
      "cell_type": "markdown",
      "source": [
        "##Stage P2"
      ],
      "metadata": {
        "id": "JpT-YCC8uQzO"
      }
    },
    {
      "cell_type": "code",
      "source": [
        "t2 = np.percentile(norm_test_scores[1],95)"
      ],
      "metadata": {
        "id": "lyLzEPAtuQzP"
      },
      "execution_count": 53,
      "outputs": []
    },
    {
      "cell_type": "code",
      "source": [
        "t2"
      ],
      "metadata": {
        "colab": {
          "base_uri": "https://localhost:8080/"
        },
        "id": "lBbSMiXB2ggo",
        "outputId": "da31646a-ede3-4a99-b330-213af7b035bc"
      },
      "execution_count": 54,
      "outputs": [
        {
          "output_type": "execute_result",
          "data": {
            "text/plain": [
              "0.6327029702186139"
            ]
          },
          "metadata": {},
          "execution_count": 54
        }
      ]
    },
    {
      "cell_type": "code",
      "source": [
        "label_2 = pred_labels_timewindow(norm_test_scores[1],t2,time_window)"
      ],
      "metadata": {
        "id": "DTUPJXRauQzP"
      },
      "execution_count": 55,
      "outputs": []
    },
    {
      "cell_type": "code",
      "source": [
        "print(metrics.classification_report(label,label_2))"
      ],
      "metadata": {
        "colab": {
          "base_uri": "https://localhost:8080/"
        },
        "outputId": "25742f55-f913-4b95-c6cf-b388c796d6b4",
        "id": "_q4ynBiJuQzP"
      },
      "execution_count": 56,
      "outputs": [
        {
          "output_type": "stream",
          "name": "stdout",
          "text": [
            "              precision    recall  f1-score   support\n",
            "\n",
            "           0       0.87      0.95      0.91    395298\n",
            "           1       0.04      0.01      0.02     54621\n",
            "\n",
            "    accuracy                           0.83    449919\n",
            "   macro avg       0.46      0.48      0.46    449919\n",
            "weighted avg       0.77      0.83      0.80    449919\n",
            "\n"
          ]
        }
      ]
    },
    {
      "cell_type": "code",
      "source": [
        "cm = confusion_matrix(label,label_2)\n",
        "print(cm)\n",
        "ax = sns.heatmap(cm/np.sum(cm), annot=True, \n",
        "            fmt='.2%', cmap='Blues')\n",
        "\n",
        "ax.set_title('Confusion Matrix for stage 3');\n",
        "ax.set_xlabel('\\nPredicted Values')\n",
        "ax.set_ylabel('Actual Values ');\n",
        "\n",
        "## Ticket labels - List must be in alphabetical order\n",
        "ax.xaxis.set_ticklabels(['False','True'])\n",
        "ax.yaxis.set_ticklabels(['False','True'])\n",
        "\n",
        "## Display the visualization of the Confusion Matrix.\n",
        "plt.show()"
      ],
      "metadata": {
        "colab": {
          "base_uri": "https://localhost:8080/",
          "height": 342
        },
        "id": "DfgFArMJ6aij",
        "outputId": "2a622159-40ac-486c-84f9-41db00067251"
      },
      "execution_count": 57,
      "outputs": [
        {
          "output_type": "stream",
          "name": "stdout",
          "text": [
            "[[373606  21692]\n",
            " [ 53806    815]]\n"
          ]
        },
        {
          "output_type": "display_data",
          "data": {
            "text/plain": [
              "<Figure size 432x288 with 2 Axes>"
            ],
            "image/png": "[encoded data removed]"
          },
          "metadata": {
            "needs_background": "light"
          }
        }
      ]
    },
    {
      "cell_type": "code",
      "source": [
        "time_label[\"pred_2\"] = label_2"
      ],
      "metadata": {
        "id": "OVuUEEr14DWx"
      },
      "execution_count": 58,
      "outputs": []
    },
    {
      "cell_type": "code",
      "source": [
        "att_p2 = time_label[time_label['attack #'].isin([6,24,29])]"
      ],
      "metadata": {
        "id": "prsn-Al76BqP"
      },
      "execution_count": 59,
      "outputs": []
    },
    {
      "cell_type": "code",
      "source": [
        "found = []\n",
        "for i in range(len(att_p2)):\n",
        "  if (att_p2.iloc[i][\"pred_2\"] == 1) & (att_p2.iloc[i][\"label\"] == 1):\n",
        "    found.append(att_p2.iloc[i][\"attack #\"])\n",
        "print(np.unique(found))"
      ],
      "metadata": {
        "colab": {
          "base_uri": "https://localhost:8080/"
        },
        "id": "9PztubxX6T5o",
        "outputId": "271634e1-5588-41f7-c194-f9909a8d6fc0"
      },
      "execution_count": 60,
      "outputs": [
        {
          "output_type": "stream",
          "name": "stdout",
          "text": [
            "[24]\n"
          ]
        }
      ]
    },
    {
      "cell_type": "code",
      "source": [
        "print(metrics.classification_report(att_p2.label,att_p2.pred_2))"
      ],
      "metadata": {
        "colab": {
          "base_uri": "https://localhost:8080/"
        },
        "id": "sW_wM7LLcYFW",
        "outputId": "fd0c5809-69f5-40d2-d34c-69148632259a"
      },
      "execution_count": 61,
      "outputs": [
        {
          "output_type": "stream",
          "name": "stdout",
          "text": [
            "              precision    recall  f1-score   support\n",
            "\n",
            "           0       0.00      0.00      0.00         0\n",
            "           1       1.00      0.09      0.16       638\n",
            "\n",
            "    accuracy                           0.09       638\n",
            "   macro avg       0.50      0.04      0.08       638\n",
            "weighted avg       1.00      0.09      0.16       638\n",
            "\n"
          ]
        },
        {
          "output_type": "stream",
          "name": "stderr",
          "text": [
            "/usr/local/lib/python3.7/dist-packages/sklearn/metrics/_classification.py:1318: UndefinedMetricWarning: Recall and F-score are ill-defined and being set to 0.0 in labels with no true samples. Use `zero_division` parameter to control this behavior.\n",
            "  _warn_prf(average, modifier, msg_start, len(result))\n",
            "/usr/local/lib/python3.7/dist-packages/sklearn/metrics/_classification.py:1318: UndefinedMetricWarning: Recall and F-score are ill-defined and being set to 0.0 in labels with no true samples. Use `zero_division` parameter to control this behavior.\n",
            "  _warn_prf(average, modifier, msg_start, len(result))\n",
            "/usr/local/lib/python3.7/dist-packages/sklearn/metrics/_classification.py:1318: UndefinedMetricWarning: Recall and F-score are ill-defined and being set to 0.0 in labels with no true samples. Use `zero_division` parameter to control this behavior.\n",
            "  _warn_prf(average, modifier, msg_start, len(result))\n"
          ]
        }
      ]
    },
    {
      "cell_type": "markdown",
      "source": [
        "##Stage P3"
      ],
      "metadata": {
        "id": "2FE2Z4gb5ODA"
      }
    },
    {
      "cell_type": "code",
      "source": [
        "t3 = np.percentile(norm_test_scores[2],95)"
      ],
      "metadata": {
        "id": "NzlyqD3K5ODA"
      },
      "execution_count": 62,
      "outputs": []
    },
    {
      "cell_type": "code",
      "source": [
        "t3"
      ],
      "metadata": {
        "colab": {
          "base_uri": "https://localhost:8080/"
        },
        "outputId": "b6ad2874-2744-4aa6-c5b1-d03392c455aa",
        "id": "q1B-RRsg5ODB"
      },
      "execution_count": 63,
      "outputs": [
        {
          "output_type": "execute_result",
          "data": {
            "text/plain": [
              "0.5003064776799223"
            ]
          },
          "metadata": {},
          "execution_count": 63
        }
      ]
    },
    {
      "cell_type": "code",
      "source": [
        "label_3 = pred_labels_timewindow(norm_test_scores[2],t3,time_window)"
      ],
      "metadata": {
        "id": "vJgpLzdv5ODB"
      },
      "execution_count": 64,
      "outputs": []
    },
    {
      "cell_type": "code",
      "source": [
        "print(metrics.classification_report(label,label_3))"
      ],
      "metadata": {
        "colab": {
          "base_uri": "https://localhost:8080/"
        },
        "outputId": "91334eca-8e9b-4999-9036-788096ba3b54",
        "id": "NskqSG9n5ODB"
      },
      "execution_count": 65,
      "outputs": [
        {
          "output_type": "stream",
          "name": "stdout",
          "text": [
            "              precision    recall  f1-score   support\n",
            "\n",
            "           0       0.90      0.98      0.94    395298\n",
            "           1       0.59      0.25      0.35     54621\n",
            "\n",
            "    accuracy                           0.89    449919\n",
            "   macro avg       0.75      0.61      0.64    449919\n",
            "weighted avg       0.87      0.89      0.87    449919\n",
            "\n"
          ]
        }
      ]
    },
    {
      "cell_type": "code",
      "source": [
        "cm = confusion_matrix(label,label_3)\n",
        "print(cm)\n",
        "ax = sns.heatmap(cm/np.sum(cm), annot=True, \n",
        "            fmt='.2%', cmap='Blues')\n",
        "\n",
        "ax.set_title('Confusion Matrix for stage 3');\n",
        "ax.set_xlabel('\\nPredicted Values')\n",
        "ax.set_ylabel('Actual Values ');\n",
        "\n",
        "## Ticket labels - List must be in alphabetical order\n",
        "ax.xaxis.set_ticklabels(['False','True'])\n",
        "ax.yaxis.set_ticklabels(['False','True'])\n",
        "\n",
        "## Display the visualization of the Confusion Matrix.\n",
        "plt.show()"
      ],
      "metadata": {
        "colab": {
          "base_uri": "https://localhost:8080/",
          "height": 342
        },
        "id": "g-k-WV5A6QGX",
        "outputId": "002acc2c-a26a-4b67-93c9-768c952a698a"
      },
      "execution_count": 66,
      "outputs": [
        {
          "output_type": "stream",
          "name": "stdout",
          "text": [
            "[[386084   9214]\n",
            " [ 41096  13525]]\n"
          ]
        },
        {
          "output_type": "display_data",
          "data": {
            "text/plain": [
              "<Figure size 432x288 with 2 Axes>"
            ],
            "image/png": "[encoded data removed]"
          },
          "metadata": {
            "needs_background": "light"
          }
        }
      ]
    },
    {
      "cell_type": "code",
      "source": [
        "time_label[\"pred_3\"] = label_3"
      ],
      "metadata": {
        "id": "eYC3zDR65ODC"
      },
      "execution_count": 67,
      "outputs": []
    },
    {
      "cell_type": "code",
      "source": [
        "att_p3 = time_label[time_label['attack #'].isin([7,8,13,14,16,17,23,26,27,28,32,41])]"
      ],
      "metadata": {
        "id": "Aiwq5sXc6rlM"
      },
      "execution_count": 68,
      "outputs": []
    },
    {
      "cell_type": "code",
      "source": [
        "found = []\n",
        "for i in range(len(att_p3)):\n",
        "  if (att_p3.iloc[i][\"pred_3\"] == 1) & (att_p3.iloc[i][\"label\"] == 1):\n",
        "    found.append(att_p3.iloc[i][\"attack #\"])\n",
        "print(np.unique(found))"
      ],
      "metadata": {
        "colab": {
          "base_uri": "https://localhost:8080/"
        },
        "id": "2Z2HBlPd6-8-",
        "outputId": "f2947e7a-ce52-4a27-bfc5-c2bc575beeab"
      },
      "execution_count": 69,
      "outputs": [
        {
          "output_type": "stream",
          "name": "stdout",
          "text": [
            "[ 8 17 23 26 28 41]\n"
          ]
        }
      ]
    },
    {
      "cell_type": "code",
      "source": [
        "print(metrics.classification_report(att_p3.label,att_p3.pred_3))"
      ],
      "metadata": {
        "colab": {
          "base_uri": "https://localhost:8080/"
        },
        "id": "QJ1_xBGBcdRY",
        "outputId": "aae3dc89-b68b-4087-bcaf-75669360e062"
      },
      "execution_count": 70,
      "outputs": [
        {
          "output_type": "stream",
          "name": "stdout",
          "text": [
            "              precision    recall  f1-score   support\n",
            "\n",
            "           0       0.00      0.00      0.00         0\n",
            "           1       1.00      0.31      0.47     43368\n",
            "\n",
            "    accuracy                           0.31     43368\n",
            "   macro avg       0.50      0.15      0.23     43368\n",
            "weighted avg       1.00      0.31      0.47     43368\n",
            "\n"
          ]
        },
        {
          "output_type": "stream",
          "name": "stderr",
          "text": [
            "/usr/local/lib/python3.7/dist-packages/sklearn/metrics/_classification.py:1318: UndefinedMetricWarning: Recall and F-score are ill-defined and being set to 0.0 in labels with no true samples. Use `zero_division` parameter to control this behavior.\n",
            "  _warn_prf(average, modifier, msg_start, len(result))\n",
            "/usr/local/lib/python3.7/dist-packages/sklearn/metrics/_classification.py:1318: UndefinedMetricWarning: Recall and F-score are ill-defined and being set to 0.0 in labels with no true samples. Use `zero_division` parameter to control this behavior.\n",
            "  _warn_prf(average, modifier, msg_start, len(result))\n",
            "/usr/local/lib/python3.7/dist-packages/sklearn/metrics/_classification.py:1318: UndefinedMetricWarning: Recall and F-score are ill-defined and being set to 0.0 in labels with no true samples. Use `zero_division` parameter to control this behavior.\n",
            "  _warn_prf(average, modifier, msg_start, len(result))\n"
          ]
        }
      ]
    },
    {
      "cell_type": "markdown",
      "source": [
        "##Stage P4"
      ],
      "metadata": {
        "id": "2HaB5ef_8vdq"
      }
    },
    {
      "cell_type": "code",
      "source": [
        "t4 = np.percentile(norm_test_scores[3],95)"
      ],
      "metadata": {
        "id": "_HSkMfWh8vdr"
      },
      "execution_count": 71,
      "outputs": []
    },
    {
      "cell_type": "code",
      "source": [
        "t4"
      ],
      "metadata": {
        "colab": {
          "base_uri": "https://localhost:8080/"
        },
        "outputId": "d586a901-98d7-4af4-f659-2967bb177376",
        "id": "4r_K_vqx8vdr"
      },
      "execution_count": 72,
      "outputs": [
        {
          "output_type": "execute_result",
          "data": {
            "text/plain": [
              "0.8815313857317895"
            ]
          },
          "metadata": {},
          "execution_count": 72
        }
      ]
    },
    {
      "cell_type": "code",
      "source": [
        "label_4 = pred_labels_timewindow(norm_test_scores[3],t4,time_window)"
      ],
      "metadata": {
        "id": "Zyw8NqRy8vdr"
      },
      "execution_count": 73,
      "outputs": []
    },
    {
      "cell_type": "code",
      "source": [
        "print(metrics.classification_report(label,label_4))"
      ],
      "metadata": {
        "colab": {
          "base_uri": "https://localhost:8080/"
        },
        "outputId": "af84e1ac-6cba-4ece-fe09-7595f5e43ed8",
        "id": "7ppBKeUl8vdr"
      },
      "execution_count": 74,
      "outputs": [
        {
          "output_type": "stream",
          "name": "stdout",
          "text": [
            "              precision    recall  f1-score   support\n",
            "\n",
            "           0       0.92      1.00      0.96    395298\n",
            "           1       1.00      0.41      0.58     54621\n",
            "\n",
            "    accuracy                           0.93    449919\n",
            "   macro avg       0.96      0.71      0.77    449919\n",
            "weighted avg       0.93      0.93      0.91    449919\n",
            "\n"
          ]
        }
      ]
    },
    {
      "cell_type": "code",
      "source": [
        "cm = confusion_matrix(label,label_4)\n",
        "print(cm)\n",
        "ax = sns.heatmap(cm/np.sum(cm), annot=True, \n",
        "            fmt='.2%', cmap='Blues')\n",
        "\n",
        "ax.set_title('Confusion Matrix for stage 4');\n",
        "ax.set_xlabel('\\nPredicted Values')\n",
        "ax.set_ylabel('Actual Values ');\n",
        "\n",
        "## Ticket labels - List must be in alphabetical order\n",
        "ax.xaxis.set_ticklabels(['False','True'])\n",
        "ax.yaxis.set_ticklabels(['False','True'])\n",
        "\n",
        "## Display the visualization of the Confusion Matrix.\n",
        "plt.show()"
      ],
      "metadata": {
        "colab": {
          "base_uri": "https://localhost:8080/",
          "height": 342
        },
        "id": "9CBNBNWX58eR",
        "outputId": "4750111f-1073-4d4a-b3ea-7c55d399b11c"
      },
      "execution_count": 75,
      "outputs": [
        {
          "output_type": "stream",
          "name": "stdout",
          "text": [
            "[[395217     81]\n",
            " [ 32203  22418]]\n"
          ]
        },
        {
          "output_type": "display_data",
          "data": {
            "text/plain": [
              "<Figure size 432x288 with 2 Axes>"
            ],
            "image/png": "[encoded data removed]"
          },
          "metadata": {
            "needs_background": "light"
          }
        }
      ]
    },
    {
      "cell_type": "code",
      "source": [
        "time_label[\"pred_4\"] = label_4"
      ],
      "metadata": {
        "id": "hzKZkXjN8vds"
      },
      "execution_count": 76,
      "outputs": []
    },
    {
      "cell_type": "code",
      "source": [
        "att_p4 = time_label[time_label['attack #'].isin([10,11,22,25,31,38,39,40])]"
      ],
      "metadata": {
        "id": "_Vv-qqUF8vds"
      },
      "execution_count": 77,
      "outputs": []
    },
    {
      "cell_type": "code",
      "source": [
        "found = []\n",
        "for i in range(len(att_p4)):\n",
        "  if (att_p4.iloc[i][\"pred_4\"] == 1) & (att_p4.iloc[i][\"label\"] == 1):\n",
        "    found.append(att_p4.iloc[i][\"attack #\"])\n",
        "print(np.unique(found))"
      ],
      "metadata": {
        "colab": {
          "base_uri": "https://localhost:8080/"
        },
        "outputId": "5e29564f-d069-4974-abc9-443ea8a58dec",
        "id": "LLA2ExB-8vds"
      },
      "execution_count": 78,
      "outputs": [
        {
          "output_type": "stream",
          "name": "stdout",
          "text": [
            "[]\n"
          ]
        }
      ]
    },
    {
      "cell_type": "code",
      "source": [
        "print(metrics.classification_report(att_p4.label,att_p4.pred_4))"
      ],
      "metadata": {
        "colab": {
          "base_uri": "https://localhost:8080/"
        },
        "id": "FN6ZTHQWfoj4",
        "outputId": "a1b047c2-df9c-4872-ef87-563bce58870e"
      },
      "execution_count": 79,
      "outputs": [
        {
          "output_type": "stream",
          "name": "stdout",
          "text": [
            "              precision    recall  f1-score   support\n",
            "\n",
            "           0       0.00      0.00      0.00       0.0\n",
            "           1       0.00      0.00      0.00    3142.0\n",
            "\n",
            "    accuracy                           0.00    3142.0\n",
            "   macro avg       0.00      0.00      0.00    3142.0\n",
            "weighted avg       0.00      0.00      0.00    3142.0\n",
            "\n"
          ]
        },
        {
          "output_type": "stream",
          "name": "stderr",
          "text": [
            "/usr/local/lib/python3.7/dist-packages/sklearn/metrics/_classification.py:1318: UndefinedMetricWarning: Precision and F-score are ill-defined and being set to 0.0 in labels with no predicted samples. Use `zero_division` parameter to control this behavior.\n",
            "  _warn_prf(average, modifier, msg_start, len(result))\n",
            "/usr/local/lib/python3.7/dist-packages/sklearn/metrics/_classification.py:1318: UndefinedMetricWarning: Recall and F-score are ill-defined and being set to 0.0 in labels with no true samples. Use `zero_division` parameter to control this behavior.\n",
            "  _warn_prf(average, modifier, msg_start, len(result))\n",
            "/usr/local/lib/python3.7/dist-packages/sklearn/metrics/_classification.py:1318: UndefinedMetricWarning: Precision and F-score are ill-defined and being set to 0.0 in labels with no predicted samples. Use `zero_division` parameter to control this behavior.\n",
            "  _warn_prf(average, modifier, msg_start, len(result))\n",
            "/usr/local/lib/python3.7/dist-packages/sklearn/metrics/_classification.py:1318: UndefinedMetricWarning: Recall and F-score are ill-defined and being set to 0.0 in labels with no true samples. Use `zero_division` parameter to control this behavior.\n",
            "  _warn_prf(average, modifier, msg_start, len(result))\n",
            "/usr/local/lib/python3.7/dist-packages/sklearn/metrics/_classification.py:1318: UndefinedMetricWarning: Precision and F-score are ill-defined and being set to 0.0 in labels with no predicted samples. Use `zero_division` parameter to control this behavior.\n",
            "  _warn_prf(average, modifier, msg_start, len(result))\n",
            "/usr/local/lib/python3.7/dist-packages/sklearn/metrics/_classification.py:1318: UndefinedMetricWarning: Recall and F-score are ill-defined and being set to 0.0 in labels with no true samples. Use `zero_division` parameter to control this behavior.\n",
            "  _warn_prf(average, modifier, msg_start, len(result))\n"
          ]
        }
      ]
    },
    {
      "cell_type": "markdown",
      "source": [
        "##Stage P5"
      ],
      "metadata": {
        "id": "Cj473K7W9a6E"
      }
    },
    {
      "cell_type": "code",
      "source": [
        "t5 = np.percentile(norm_test_scores[4],95)"
      ],
      "metadata": {
        "id": "1V20CjzN9a6F"
      },
      "execution_count": 80,
      "outputs": []
    },
    {
      "cell_type": "code",
      "source": [
        "t5"
      ],
      "metadata": {
        "colab": {
          "base_uri": "https://localhost:8080/"
        },
        "outputId": "59c47d39-dc5e-489e-951f-407f38d29c41",
        "id": "CIipvCsf9a6G"
      },
      "execution_count": 81,
      "outputs": [
        {
          "output_type": "execute_result",
          "data": {
            "text/plain": [
              "0.74094302851048"
            ]
          },
          "metadata": {},
          "execution_count": 81
        }
      ]
    },
    {
      "cell_type": "code",
      "source": [
        "label_5 = pred_labels_timewindow(norm_test_scores[4],t5,time_window)"
      ],
      "metadata": {
        "id": "iP3EYtIH9a6G"
      },
      "execution_count": 82,
      "outputs": []
    },
    {
      "cell_type": "code",
      "source": [
        "print(metrics.classification_report(label,label_5))"
      ],
      "metadata": {
        "colab": {
          "base_uri": "https://localhost:8080/"
        },
        "outputId": "b490cb5c-1d35-4fc2-ad68-a1c2d0071ea0",
        "id": "eUowOAwN9a6G"
      },
      "execution_count": 83,
      "outputs": [
        {
          "output_type": "stream",
          "name": "stdout",
          "text": [
            "              precision    recall  f1-score   support\n",
            "\n",
            "           0       0.92      1.00      0.96    395298\n",
            "           1       0.99      0.41      0.58     54621\n",
            "\n",
            "    accuracy                           0.93    449919\n",
            "   macro avg       0.96      0.70      0.77    449919\n",
            "weighted avg       0.93      0.93      0.91    449919\n",
            "\n"
          ]
        }
      ]
    },
    {
      "cell_type": "code",
      "source": [
        "cm = confusion_matrix(label,label_5)\n",
        "print(cm)\n",
        "ax = sns.heatmap(cm/np.sum(cm), annot=True, \n",
        "            fmt='.2%', cmap='Blues')\n",
        "\n",
        "ax.set_title('Confusion Matrix for stage 5');\n",
        "ax.set_xlabel('\\nPredicted Values')\n",
        "ax.set_ylabel('Actual Values ');\n",
        "\n",
        "## Ticket labels - List must be in alphabetical order\n",
        "ax.xaxis.set_ticklabels(['False','True'])\n",
        "ax.yaxis.set_ticklabels(['False','True'])\n",
        "\n",
        "## Display the visualization of the Confusion Matrix.\n",
        "plt.show()"
      ],
      "metadata": {
        "colab": {
          "base_uri": "https://localhost:8080/",
          "height": 342
        },
        "id": "MmmZOZYP5vBn",
        "outputId": "f51ef4ad-5c8e-4ce5-8ad3-b8b581a9fd3d"
      },
      "execution_count": 84,
      "outputs": [
        {
          "output_type": "stream",
          "name": "stdout",
          "text": [
            "[[395126    172]\n",
            " [ 32295  22326]]\n"
          ]
        },
        {
          "output_type": "display_data",
          "data": {
            "text/plain": [
              "<Figure size 432x288 with 2 Axes>"
            ],
            "image/png": "[encoded data removed]"
          },
          "metadata": {
            "needs_background": "light"
          }
        }
      ]
    },
    {
      "cell_type": "code",
      "source": [
        "time_label[\"pred_5\"] = label_5"
      ],
      "metadata": {
        "id": "WLsbJsz89a6H"
      },
      "execution_count": 85,
      "outputs": []
    },
    {
      "cell_type": "code",
      "source": [
        "att_p5 = time_label[time_label['attack #'].isin([4,19,20,22,37,38,39])]"
      ],
      "metadata": {
        "id": "BRgWj6fV9a6H"
      },
      "execution_count": 86,
      "outputs": []
    },
    {
      "cell_type": "code",
      "source": [
        "found = []\n",
        "for i in range(len(att_p5)):\n",
        "  if (att_p5.iloc[i][\"pred_5\"] == 1) & (att_p5.iloc[i][\"label\"] == 1):\n",
        "    found.append(att_p5.iloc[i][\"attack #\"])\n",
        "print(np.unique(found))"
      ],
      "metadata": {
        "colab": {
          "base_uri": "https://localhost:8080/"
        },
        "outputId": "1e862965-ecb4-4e28-d3ac-768212c4a77b",
        "id": "61TJs2Nc9a6H"
      },
      "execution_count": 87,
      "outputs": [
        {
          "output_type": "stream",
          "name": "stdout",
          "text": [
            "[22 37]\n"
          ]
        }
      ]
    },
    {
      "cell_type": "code",
      "source": [
        "print(metrics.classification_report(att_p5.label,att_p5.pred_5))"
      ],
      "metadata": {
        "colab": {
          "base_uri": "https://localhost:8080/"
        },
        "id": "0hxMVpRQfxYl",
        "outputId": "967668e6-030d-481f-9d51-36eb9b535b1c"
      },
      "execution_count": 88,
      "outputs": [
        {
          "output_type": "stream",
          "name": "stdout",
          "text": [
            "              precision    recall  f1-score   support\n",
            "\n",
            "           0       0.00      0.00      0.00         0\n",
            "           1       1.00      0.05      0.09      2658\n",
            "\n",
            "    accuracy                           0.05      2658\n",
            "   macro avg       0.50      0.02      0.04      2658\n",
            "weighted avg       1.00      0.05      0.09      2658\n",
            "\n"
          ]
        },
        {
          "output_type": "stream",
          "name": "stderr",
          "text": [
            "/usr/local/lib/python3.7/dist-packages/sklearn/metrics/_classification.py:1318: UndefinedMetricWarning: Recall and F-score are ill-defined and being set to 0.0 in labels with no true samples. Use `zero_division` parameter to control this behavior.\n",
            "  _warn_prf(average, modifier, msg_start, len(result))\n",
            "/usr/local/lib/python3.7/dist-packages/sklearn/metrics/_classification.py:1318: UndefinedMetricWarning: Recall and F-score are ill-defined and being set to 0.0 in labels with no true samples. Use `zero_division` parameter to control this behavior.\n",
            "  _warn_prf(average, modifier, msg_start, len(result))\n",
            "/usr/local/lib/python3.7/dist-packages/sklearn/metrics/_classification.py:1318: UndefinedMetricWarning: Recall and F-score are ill-defined and being set to 0.0 in labels with no true samples. Use `zero_division` parameter to control this behavior.\n",
            "  _warn_prf(average, modifier, msg_start, len(result))\n"
          ]
        }
      ]
    },
    {
      "cell_type": "markdown",
      "source": [
        "##Stage P6"
      ],
      "metadata": {
        "id": "PSX0VoCR9-Bo"
      }
    },
    {
      "cell_type": "code",
      "source": [
        "t6 = np.percentile(norm_test_scores[5],98)"
      ],
      "metadata": {
        "id": "804eqX7M9-Bo"
      },
      "execution_count": 89,
      "outputs": []
    },
    {
      "cell_type": "code",
      "source": [
        "t6"
      ],
      "metadata": {
        "colab": {
          "base_uri": "https://localhost:8080/"
        },
        "outputId": "0329e378-65e0-4b5d-80ea-be4b8ea798a2",
        "id": "ZAS84bPv9-Bp"
      },
      "execution_count": 90,
      "outputs": [
        {
          "output_type": "execute_result",
          "data": {
            "text/plain": [
              "0.177549398921028"
            ]
          },
          "metadata": {},
          "execution_count": 90
        }
      ]
    },
    {
      "cell_type": "code",
      "source": [
        "label_6 = pred_labels_timewindow(norm_test_scores[5],t6,time_window)"
      ],
      "metadata": {
        "id": "TXFCVb9x9-Bp"
      },
      "execution_count": 91,
      "outputs": []
    },
    {
      "cell_type": "code",
      "source": [
        "print(metrics.classification_report(label,label_6))"
      ],
      "metadata": {
        "colab": {
          "base_uri": "https://localhost:8080/"
        },
        "outputId": "1f5c03fb-1401-45d7-e550-79149220e60b",
        "id": "cLeCELL-9-Bp"
      },
      "execution_count": 92,
      "outputs": [
        {
          "output_type": "stream",
          "name": "stdout",
          "text": [
            "              precision    recall  f1-score   support\n",
            "\n",
            "           0       0.88      0.97      0.92    395298\n",
            "           1       0.10      0.02      0.04     54621\n",
            "\n",
            "    accuracy                           0.85    449919\n",
            "   macro avg       0.49      0.50      0.48    449919\n",
            "weighted avg       0.78      0.85      0.81    449919\n",
            "\n"
          ]
        }
      ]
    },
    {
      "cell_type": "code",
      "source": [
        "cm = confusion_matrix(label,label_6)\n",
        "print(cm)\n",
        "ax = sns.heatmap(cm/np.sum(cm), annot=True, \n",
        "            fmt='.2%', cmap='Blues')\n",
        "\n",
        "ax.set_title('Confusion Matrix for stage 6');\n",
        "ax.set_xlabel('\\nPredicted Values')\n",
        "ax.set_ylabel('Actual Values ');\n",
        "\n",
        "## Ticket labels - List must be in alphabetical order\n",
        "ax.xaxis.set_ticklabels(['False','True'])\n",
        "ax.yaxis.set_ticklabels(['False','True'])\n",
        "\n",
        "## Display the visualization of the Confusion Matrix.\n",
        "plt.show()"
      ],
      "metadata": {
        "colab": {
          "base_uri": "https://localhost:8080/",
          "height": 342
        },
        "id": "GqsbkfOOzvhg",
        "outputId": "eb924fa9-c491-416a-80ba-53672a827520"
      },
      "execution_count": 93,
      "outputs": [
        {
          "output_type": "stream",
          "name": "stdout",
          "text": [
            "[[383369  11929]\n",
            " [ 53364   1257]]\n"
          ]
        },
        {
          "output_type": "display_data",
          "data": {
            "text/plain": [
              "<Figure size 432x288 with 2 Axes>"
            ],
            "image/png": "[encoded data removed]"
          },
          "metadata": {
            "needs_background": "light"
          }
        }
      ]
    },
    {
      "cell_type": "code",
      "source": [
        "time_label[\"pred_6\"] = label_6"
      ],
      "metadata": {
        "id": "L7IyGJkc9-Bp"
      },
      "execution_count": 94,
      "outputs": []
    },
    {
      "cell_type": "code",
      "source": [
        "att_p6 = time_label[time_label['attack #'].isin([23])]"
      ],
      "metadata": {
        "id": "JRpgThUu9-Bq"
      },
      "execution_count": 95,
      "outputs": []
    },
    {
      "cell_type": "code",
      "source": [
        "found = []\n",
        "for i in range(len(att_p6)):\n",
        "  if (att_p6.iloc[i][\"pred_6\"] == 1) & (att_p6.iloc[i][\"label\"] == 1):\n",
        "    found.append(att_p6.iloc[i][\"attack #\"])\n",
        "print(np.unique(found))"
      ],
      "metadata": {
        "colab": {
          "base_uri": "https://localhost:8080/"
        },
        "outputId": "a9e2d5a5-1b78-42b3-98f4-221eb58d1ca5",
        "id": "YM2H977r9-Bq"
      },
      "execution_count": 96,
      "outputs": [
        {
          "output_type": "stream",
          "name": "stdout",
          "text": [
            "[23]\n"
          ]
        }
      ]
    },
    {
      "cell_type": "code",
      "source": [
        "print(metrics.classification_report(att_p6.label,att_p6.pred_6))"
      ],
      "metadata": {
        "colab": {
          "base_uri": "https://localhost:8080/"
        },
        "id": "NCgU9zeaf7Q_",
        "outputId": "947b4299-2901-460b-e0fa-5d4ea6d04cb5"
      },
      "execution_count": 97,
      "outputs": [
        {
          "output_type": "stream",
          "name": "stdout",
          "text": [
            "              precision    recall  f1-score   support\n",
            "\n",
            "           0       0.00      0.00      0.00         0\n",
            "           1       1.00      0.03      0.06       697\n",
            "\n",
            "    accuracy                           0.03       697\n",
            "   macro avg       0.50      0.02      0.03       697\n",
            "weighted avg       1.00      0.03      0.06       697\n",
            "\n"
          ]
        },
        {
          "output_type": "stream",
          "name": "stderr",
          "text": [
            "/usr/local/lib/python3.7/dist-packages/sklearn/metrics/_classification.py:1318: UndefinedMetricWarning: Recall and F-score are ill-defined and being set to 0.0 in labels with no true samples. Use `zero_division` parameter to control this behavior.\n",
            "  _warn_prf(average, modifier, msg_start, len(result))\n",
            "/usr/local/lib/python3.7/dist-packages/sklearn/metrics/_classification.py:1318: UndefinedMetricWarning: Recall and F-score are ill-defined and being set to 0.0 in labels with no true samples. Use `zero_division` parameter to control this behavior.\n",
            "  _warn_prf(average, modifier, msg_start, len(result))\n",
            "/usr/local/lib/python3.7/dist-packages/sklearn/metrics/_classification.py:1318: UndefinedMetricWarning: Recall and F-score are ill-defined and being set to 0.0 in labels with no true samples. Use `zero_division` parameter to control this behavior.\n",
            "  _warn_prf(average, modifier, msg_start, len(result))\n"
          ]
        }
      ]
    },
    {
      "cell_type": "code",
      "source": [
        "cm = confusion_matrix(att_p6.label,att_p6.pred_6)\n",
        "\n",
        "print(cm)\n",
        "ax = sns.heatmap(cm/np.sum(cm), annot=True, \n",
        "            fmt='.2%', cmap='Blues')\n",
        "\n",
        "ax.set_title('Confusion Matrix for all stages');\n",
        "ax.set_xlabel('\\nPredicted Values')\n",
        "ax.set_ylabel('Actual Values ');\n",
        "\n",
        "## Ticket labels - List must be in alphabetical order\n",
        "ax.xaxis.set_ticklabels(['False','True'])\n",
        "ax.yaxis.set_ticklabels(['False','True'])\n",
        "\n",
        "## Display the visualization of the Confusion Matrix.\n",
        "plt.show()"
      ],
      "metadata": {
        "colab": {
          "base_uri": "https://localhost:8080/",
          "height": 342
        },
        "id": "FSGU5--vzrAN",
        "outputId": "00b48775-b4cc-4630-c528-f6948e2870e6"
      },
      "execution_count": 98,
      "outputs": [
        {
          "output_type": "stream",
          "name": "stdout",
          "text": [
            "[[  0   0]\n",
            " [674  23]]\n"
          ]
        },
        {
          "output_type": "display_data",
          "data": {
            "text/plain": [
              "<Figure size 432x288 with 2 Axes>"
            ],
            "image/png": "[encoded data removed]"
          },
          "metadata": {
            "needs_background": "light"
          }
        }
      ]
    },
    {
      "cell_type": "markdown",
      "source": [
        "##Attack found"
      ],
      "metadata": {
        "id": "1onU1KO6_KJ5"
      }
    },
    {
      "cell_type": "code",
      "source": [
        "time_label['pred'] = np.where((time_label['pred_1'] ==1) | \n",
        "                              (time_label['pred_2'] ==1) |\n",
        "                              (time_label['pred_3'] ==1) |\n",
        "                              (time_label['pred_4'] ==1) |\n",
        "                              (time_label['pred_5'] ==1) |\n",
        "                              (time_label['pred_6'] ==1), 1, 0)\n"
      ],
      "metadata": {
        "id": "vcT2XEa7Af2v"
      },
      "execution_count": 99,
      "outputs": []
    },
    {
      "cell_type": "code",
      "source": [
        "time_label[time_label[\"label\"] == 1].tail(5)"
      ],
      "metadata": {
        "colab": {
          "base_uri": "https://localhost:8080/",
          "height": 206
        },
        "id": "ms5fuy5PSMs9",
        "outputId": "64a1d13f-c812-4e6c-fdb6-2fa1b6e42a99"
      },
      "execution_count": 100,
      "outputs": [
        {
          "output_type": "execute_result",
          "data": {
            "text/plain": [
              "                 Timestamp  label  attack #  pred_1  pred_2  pred_3  pred_4  \\\n",
              "445186 2016-02-01 13:41:07      1         0       0       0       1       0   \n",
              "445187 2016-02-01 13:41:08      1         0       0       0       1       0   \n",
              "445188 2016-02-01 13:41:09      1         0       0       0       1       0   \n",
              "445189 2016-02-01 13:41:10      1         0       0       0       1       0   \n",
              "445190 2016-02-01 13:41:11      1         0       0       0       1       0   \n",
              "\n",
              "        pred_5  pred_6  pred  \n",
              "445186       0       0     1  \n",
              "445187       0       0     1  \n",
              "445188       0       0     1  \n",
              "445189       0       0     1  \n",
              "445190       0       0     1  "
            ],
            "text/html": [
              "\n",
              "  <div id=\"df-1153b89d-b89c-4d3c-9641-5248b35e54f5\">\n",
              "    <div class=\"colab-df-container\">\n",
              "      <div>\n",
              "<style scoped>\n",
              "    .dataframe tbody tr th:only-of-type {\n",
              "        vertical-align: middle;\n",
              "    }\n",
              "\n",
              "    .dataframe tbody tr th {\n",
              "        vertical-align: top;\n",
              "    }\n",
              "\n",
              "    .dataframe thead th {\n",
              "        text-align: right;\n",
              "    }\n",
              "</style>\n",
              "<table border=\"1\" class=\"dataframe\">\n",
              "  <thead>\n",
              "    <tr style=\"text-align: right;\">\n",
              "      <th></th>\n",
              "      <th>Timestamp</th>\n",
              "      <th>label</th>\n",
              "      <th>attack #</th>\n",
              "      <th>pred_1</th>\n",
              "      <th>pred_2</th>\n",
              "      <th>pred_3</th>\n",
              "      <th>pred_4</th>\n",
              "      <th>pred_5</th>\n",
              "      <th>pred_6</th>\n",
              "      <th>pred</th>\n",
              "    </tr>\n",
              "  </thead>\n",
              "  <tbody>\n",
              "    <tr>\n",
              "      <th>445186</th>\n",
              "      <td>2016-02-01 13:41:07</td>\n",
              "      <td>1</td>\n",
              "      <td>0</td>\n",
              "      <td>0</td>\n",
              "      <td>0</td>\n",
              "      <td>1</td>\n",
              "      <td>0</td>\n",
              "      <td>0</td>\n",
              "      <td>0</td>\n",
              "      <td>1</td>\n",
              "    </tr>\n",
              "    <tr>\n",
              "      <th>445187</th>\n",
              "      <td>2016-02-01 13:41:08</td>\n",
              "      <td>1</td>\n",
              "      <td>0</td>\n",
              "      <td>0</td>\n",
              "      <td>0</td>\n",
              "      <td>1</td>\n",
              "      <td>0</td>\n",
              "      <td>0</td>\n",
              "      <td>0</td>\n",
              "      <td>1</td>\n",
              "    </tr>\n",
              "    <tr>\n",
              "      <th>445188</th>\n",
              "      <td>2016-02-01 13:41:09</td>\n",
              "      <td>1</td>\n",
              "      <td>0</td>\n",
              "      <td>0</td>\n",
              "      <td>0</td>\n",
              "      <td>1</td>\n",
              "      <td>0</td>\n",
              "      <td>0</td>\n",
              "      <td>0</td>\n",
              "      <td>1</td>\n",
              "    </tr>\n",
              "    <tr>\n",
              "      <th>445189</th>\n",
              "      <td>2016-02-01 13:41:10</td>\n",
              "      <td>1</td>\n",
              "      <td>0</td>\n",
              "      <td>0</td>\n",
              "      <td>0</td>\n",
              "      <td>1</td>\n",
              "      <td>0</td>\n",
              "      <td>0</td>\n",
              "      <td>0</td>\n",
              "      <td>1</td>\n",
              "    </tr>\n",
              "    <tr>\n",
              "      <th>445190</th>\n",
              "      <td>2016-02-01 13:41:11</td>\n",
              "      <td>1</td>\n",
              "      <td>0</td>\n",
              "      <td>0</td>\n",
              "      <td>0</td>\n",
              "      <td>1</td>\n",
              "      <td>0</td>\n",
              "      <td>0</td>\n",
              "      <td>0</td>\n",
              "      <td>1</td>\n",
              "    </tr>\n",
              "  </tbody>\n",
              "</table>\n",
              "</div>\n",
              "      <button class=\"colab-df-convert\" onclick=\"convertToInteractive('df-1153b89d-b89c-4d3c-9641-5248b35e54f5')\"\n",
              "              title=\"Convert this dataframe to an interactive table.\"\n",
              "              style=\"display:none;\">\n",
              "        \n",
              "  <svg xmlns=\"http://www.w3.org/2000/svg\" height=\"24px\"viewBox=\"0 0 24 24\"\n",
              "       width=\"24px\">\n",
              "    <path d=\"M0 0h24v24H0V0z\" fill=\"none\"/>\n",
              "    <path d=\"M18.56 5.44l.94 2.06.94-2.06 2.06-.94-2.06-.94-.94-2.06-.94 2.06-2.06.94zm-11 1L8.5 8.5l.94-2.06 2.06-.94-2.06-.94L8.5 2.5l-.94 2.06-2.06.94zm10 10l.94 2.06.94-2.06 2.06-.94-2.06-.94-.94-2.06-.94 2.06-2.06.94z\"/><path d=\"M17.41 7.96l-1.37-1.37c-.4-.4-.92-.59-1.43-.59-.52 0-1.04.2-1.43.59L10.3 9.45l-7.72 7.72c-.78.78-.78 2.05 0 2.83L4 21.41c.39.39.9.59 1.41.59.51 0 1.02-.2 1.41-.59l7.78-7.78 2.81-2.81c.8-.78.8-2.07 0-2.86zM5.41 20L4 18.59l7.72-7.72 1.47 1.35L5.41 20z\"/>\n",
              "  </svg>\n",
              "      </button>\n",
              "      \n",
              "  <style>\n",
              "    .colab-df-container {\n",
              "      display:flex;\n",
              "      flex-wrap:wrap;\n",
              "      gap: 12px;\n",
              "    }\n",
              "\n",
              "    .colab-df-convert {\n",
              "      background-color: #E8F0FE;\n",
              "      border: none;\n",
              "      border-radius: 50%;\n",
              "      cursor: pointer;\n",
              "      display: none;\n",
              "      fill: #1967D2;\n",
              "      height: 32px;\n",
              "      padding: 0 0 0 0;\n",
              "      width: 32px;\n",
              "    }\n",
              "\n",
              "    .colab-df-convert:hover {\n",
              "      background-color: #E2EBFA;\n",
              "      box-shadow: 0px 1px 2px rgba(60, 64, 67, 0.3), 0px 1px 3px 1px rgba(60, 64, 67, 0.15);\n",
              "      fill: #174EA6;\n",
              "    }\n",
              "\n",
              "    [theme=dark] .colab-df-convert {\n",
              "      background-color: #3B4455;\n",
              "      fill: #D2E3FC;\n",
              "    }\n",
              "\n",
              "    [theme=dark] .colab-df-convert:hover {\n",
              "      background-color: #434B5C;\n",
              "      box-shadow: 0px 1px 3px 1px rgba(0, 0, 0, 0.15);\n",
              "      filter: drop-shadow(0px 1px 2px rgba(0, 0, 0, 0.3));\n",
              "      fill: #FFFFFF;\n",
              "    }\n",
              "  </style>\n",
              "\n",
              "      <script>\n",
              "        const buttonEl =\n",
              "          document.querySelector('#df-1153b89d-b89c-4d3c-9641-5248b35e54f5 button.colab-df-convert');\n",
              "        buttonEl.style.display =\n",
              "          google.colab.kernel.accessAllowed ? 'block' : 'none';\n",
              "\n",
              "        async function convertToInteractive(key) {\n",
              "          const element = document.querySelector('#df-1153b89d-b89c-4d3c-9641-5248b35e54f5');\n",
              "          const dataTable =\n",
              "            await google.colab.kernel.invokeFunction('convertToInteractive',\n",
              "                                                     [key], {});\n",
              "          if (!dataTable) return;\n",
              "\n",
              "          const docLinkHtml = 'Like what you see? Visit the ' +\n",
              "            '<a target=\"_blank\" href=https://colab.research.google.com/notebooks/data_table.ipynb>data table notebook</a>'\n",
              "            + ' to learn more about interactive tables.';\n",
              "          element.innerHTML = '';\n",
              "          dataTable['output_type'] = 'display_data';\n",
              "          await google.colab.output.renderOutput(dataTable, element);\n",
              "          const docLink = document.createElement('div');\n",
              "          docLink.innerHTML = docLinkHtml;\n",
              "          element.appendChild(docLink);\n",
              "        }\n",
              "      </script>\n",
              "    </div>\n",
              "  </div>\n",
              "  "
            ]
          },
          "metadata": {},
          "execution_count": 100
        }
      ]
    },
    {
      "cell_type": "code",
      "source": [
        "time_label['found'] = 0\n",
        "t = 100\n",
        "for i in range(0,len(time_label)-t):\n",
        "  if ((time_label['pred'][i:i+t]) == 1).all():\n",
        "    time_label['found'][i:i+t] = 1"
      ],
      "metadata": {
        "colab": {
          "base_uri": "https://localhost:8080/"
        },
        "id": "Cu09qIJiFtG4",
        "outputId": "6e7133b6-255b-44df-b73c-5c03f69ac115"
      },
      "execution_count": 119,
      "outputs": [
        {
          "output_type": "stream",
          "name": "stderr",
          "text": [
            "\n",
            "A value is trying to be set on a copy of a slice from a DataFrame\n",
            "\n",
            "See the caveats in the documentation: https://pandas.pydata.org/pandas-docs/stable/user_guide/indexing.html#returning-a-view-versus-a-copy\n"
          ]
        }
      ]
    },
    {
      "cell_type": "code",
      "source": [
        "found = []\n",
        "for i in range(len(time_label)):\n",
        "  if (time_label.iloc[i][\"found\"] == 1) & (time_label.iloc[i][\"label\"] == 1):\n",
        "    found.append(time_label.iloc[i][\"attack #\"])\n",
        "print(np.unique(found))"
      ],
      "metadata": {
        "colab": {
          "base_uri": "https://localhost:8080/"
        },
        "id": "4DsqbbCVB267",
        "outputId": "bb35a28b-4b32-43c5-fa0e-5f55187fea24"
      },
      "execution_count": 129,
      "outputs": [
        {
          "output_type": "stream",
          "name": "stdout",
          "text": [
            "[ 0  1  2  3  4  8 11 13 17 19 21 22 23 24 25 26 27 28 29 30 31 32 33 34\n",
            " 35 36 37 38 39 40 41]\n"
          ]
        }
      ]
    },
    {
      "cell_type": "code",
      "source": [
        "len(np.unique(found))-1 #remove 0"
      ],
      "metadata": {
        "colab": {
          "base_uri": "https://localhost:8080/"
        },
        "id": "Pa3BPQinCO2o",
        "outputId": "a36631e6-77ab-407f-b848-64e8a49a7c25"
      },
      "execution_count": 130,
      "outputs": [
        {
          "output_type": "execute_result",
          "data": {
            "text/plain": [
              "30"
            ]
          },
          "metadata": {},
          "execution_count": 130
        }
      ]
    },
    {
      "cell_type": "code",
      "source": [
        "print(metrics.classification_report(time_label.label,time_label.found))"
      ],
      "metadata": {
        "colab": {
          "base_uri": "https://localhost:8080/"
        },
        "id": "P9OsDagYWqSc",
        "outputId": "4a2f3411-9808-4594-92b1-2ec86ab1c046"
      },
      "execution_count": 131,
      "outputs": [
        {
          "output_type": "stream",
          "name": "stdout",
          "text": [
            "              precision    recall  f1-score   support\n",
            "\n",
            "           0       0.94      0.93      0.93    395298\n",
            "           1       0.53      0.57      0.55     54621\n",
            "\n",
            "    accuracy                           0.89    449919\n",
            "   macro avg       0.73      0.75      0.74    449919\n",
            "weighted avg       0.89      0.89      0.89    449919\n",
            "\n"
          ]
        }
      ]
    },
    {
      "cell_type": "code",
      "source": [
        "cm = confusion_matrix(time_label.label,time_label.found)\n",
        "\n",
        "print(cm)"
      ],
      "metadata": {
        "colab": {
          "base_uri": "https://localhost:8080/"
        },
        "id": "NT3cmcIOWwZw",
        "outputId": "352a9f58-4b90-41f4-ed22-4b790e045a6a"
      },
      "execution_count": 122,
      "outputs": [
        {
          "output_type": "stream",
          "name": "stdout",
          "text": [
            "[[367296  28002]\n",
            " [ 23297  31324]]\n"
          ]
        }
      ]
    },
    {
      "cell_type": "code",
      "source": [
        "ax = sns.heatmap(cm/np.sum(cm), annot=True, \n",
        "            fmt='.2%', cmap='Blues')\n",
        "\n",
        "ax.set_title('Confusion Matrix for ECOD');\n",
        "ax.set_xlabel('\\nPredicted Values')\n",
        "ax.set_ylabel('Actual Values ');\n",
        "\n",
        "## Ticket labels - List must be in alphabetical order\n",
        "ax.xaxis.set_ticklabels(['Normal','Attack'])\n",
        "ax.yaxis.set_ticklabels(['Normal','Attack'])\n",
        "\n",
        "## Display the visualization of the Confusion Matrix.\n",
        "plt.show()"
      ],
      "metadata": {
        "colab": {
          "base_uri": "https://localhost:8080/",
          "height": 307
        },
        "id": "ZVlw8ZBXXFPA",
        "outputId": "e5292cc0-35ba-4782-b53a-ec0a6ea4e0d1"
      },
      "execution_count": 127,
      "outputs": [
        {
          "output_type": "display_data",
          "data": {
            "text/plain": [
              "<Figure size 432x288 with 2 Axes>"
            ],
            "image/png": "[encoded data removed]"
          },
          "metadata": {
            "needs_background": "light"
          }
        }
      ]
    },
    {
      "cell_type": "code",
      "source": [
        "fpr, tpr, _ = metrics.roc_curve(time_label.label,time_label.found)\n",
        "auc = metrics.roc_auc_score(time_label.label,time_label.pred)\n",
        "plt.plot(fpr,tpr,label=f\"auc = {np.round(auc,2)}\")\n",
        "plt.ylabel('True Positive Rate')\n",
        "plt.xlabel('False Positive Rate')\n",
        "plt.title(f'ECOD Model')\n",
        "plt.legend(loc=4)"
      ],
      "metadata": {
        "colab": {
          "base_uri": "https://localhost:8080/",
          "height": 312
        },
        "id": "-2V0uzEFcqpu",
        "outputId": "b4a240a7-b35c-401d-d2ca-5626daaaa536"
      },
      "execution_count": 128,
      "outputs": [
        {
          "output_type": "execute_result",
          "data": {
            "text/plain": [
              "<matplotlib.legend.Legend at 0x7f3bd0424b10>"
            ]
          },
          "metadata": {},
          "execution_count": 128
        },
        {
          "output_type": "display_data",
          "data": {
            "text/plain": [
              "<Figure size 432x288 with 1 Axes>"
            ],
            "image/png": "[encoded data removed]"
          },
          "metadata": {
            "needs_background": "light"
          }
        }
      ]
    },
    {
      "cell_type": "markdown",
      "source": [
        "##Find explanation for un-detected attack"
      ],
      "metadata": {
        "id": "N14zvmGBon3u"
      }
    },
    {
      "cell_type": "code",
      "source": [
        "#att no.6 happend in process 2\n",
        "id_a = 4\n",
        "t_add = 300\n",
        "att_score = norm_test_scores[1][idx_start[id_a]-t_add:idx_end[id_a]+t_add]"
      ],
      "metadata": {
        "id": "39KHzxm2Jy5-"
      },
      "execution_count": 406,
      "outputs": []
    },
    {
      "cell_type": "code",
      "source": [
        "plt.figure(figsize=(8,4))\n",
        "plt.plot(np.arange(idx_start[id_a]-t_add,idx_end[id_a]+t_add),att_score, label='Error score from P2')\n",
        "plt.plot(np.arange(idx_start[id_a]-t_add,idx_end[id_a]+t_add), [t2]*len(att_score), label=f'Threshold at {np.round(t2,2)}')\n",
        "plt.plot(np.arange(idx_start[id_a]-t_add,idx_end[id_a]+t_add), test_scale['AIT202'][idx_start[id_a]-t_add:idx_end[id_a]+t_add]\n",
        "         , label='AIT202')\n",
        "# plt.vlines(idx_start[id_a], ymin=-0.5, ymax=0.8)\n",
        "# plt.vlines(idx_end[id_a], ymin=-0.5, ymax=0.8)\n",
        "plt.title(\"Attack no.6\")\n",
        "plt.fill_between(np.arange(idx_start[4]-20,idx_end[4]+11), [-3.5,1]*(226//2), alpha=0.3, \n",
        "                 color = 'pink')\n",
        "plt.legend()"
      ],
      "metadata": {
        "colab": {
          "base_uri": "https://localhost:8080/",
          "height": 298
        },
        "id": "pZoorCZ2NCOd",
        "outputId": "6e66d6e9-4963-4414-ec80-0c8a7d21be8d"
      },
      "execution_count": 389,
      "outputs": [
        {
          "output_type": "execute_result",
          "data": {
            "text/plain": [
              "<matplotlib.legend.Legend at 0x7f3bca784ed0>"
            ]
          },
          "metadata": {},
          "execution_count": 389
        },
        {
          "output_type": "display_data",
          "data": {
            "text/plain": [
              "<Figure size 576x288 with 1 Axes>"
            ],
            "image/png": "[encoded data removed]"
          },
          "metadata": {
            "needs_background": "light"
          }
        }
      ]
    },
    {
      "cell_type": "code",
      "source": [
        "#att no.7 happend in process 3\n",
        "att_score_7 = norm_test_scores[2][idx_start[5]-t_add:idx_end[5]+t_add]"
      ],
      "metadata": {
        "id": "AghQipH-S2Lu"
      },
      "execution_count": 390,
      "outputs": []
    },
    {
      "cell_type": "code",
      "source": [
        "plt.plot(np.arange(idx_start[5]-t_add,idx_end[5]+t_add),att_score_7, label='Error score')\n",
        "plt.plot(np.arange(idx_start[5]-t_add,idx_end[5]+t_add), [t3]*len(att_score_7), label=f'Threshold at {np.round(t3,2)}')\n",
        "plt.plot(np.arange(idx_start[5]-t_add,idx_end[5]+t_add), \n",
        "         test_scale['LIT301'][idx_start[5]-t_add:idx_end[5]+t_add]\n",
        "         , label='LIT301')\n",
        "# plt.vlines(idx_start[5], ymin=-0.5, ymax=0.8)\n",
        "# plt.vlines(idx_end[5], ymin=-0.5, ymax=0.8)\n",
        "plt.title(\"Attack no.7\")\n",
        "plt.fill_between(np.arange(idx_start[5]-20,idx_end[5]+10), [0,2]*(458//2), alpha=0.3, \n",
        "                 color = 'pink')\n",
        "plt.legend()"
      ],
      "metadata": {
        "colab": {
          "base_uri": "https://localhost:8080/",
          "height": 298
        },
        "id": "mlKIVxwkS-E9",
        "outputId": "a5f8ce16-803a-4d7d-9772-f5f85cd2deae"
      },
      "execution_count": 394,
      "outputs": [
        {
          "output_type": "execute_result",
          "data": {
            "text/plain": [
              "<matplotlib.legend.Legend at 0x7f3bca589850>"
            ]
          },
          "metadata": {},
          "execution_count": 394
        },
        {
          "output_type": "display_data",
          "data": {
            "text/plain": [
              "<Figure size 432x288 with 1 Axes>"
            ],
            "image/png": "[encoded data removed]"
          },
          "metadata": {
            "needs_background": "light"
          }
        }
      ]
    },
    {
      "cell_type": "code",
      "source": [
        "#att no.10 happend in process 4\n",
        "att_score_10 = norm_test_scores[3][idx_start[7]-t_add:idx_end[7]+t_add]\n",
        "id_a = 7"
      ],
      "metadata": {
        "id": "suraLePkkMg1"
      },
      "execution_count": 412,
      "outputs": []
    },
    {
      "cell_type": "code",
      "source": [
        "plt.figure(figsize=(8,4))\n",
        "plt.plot(np.arange(idx_start[id_a]-t_add,idx_end[id_a]+t_add),att_score_10, label='Error score from P4')\n",
        "plt.plot(np.arange(idx_start[id_a]-t_add,idx_end[id_a]+t_add), [t4]*len(att_score_10), label=f'Threshold at {np.round(t4,2)}')\n",
        "plt.plot(np.arange(idx_start[id_a]-t_add,idx_end[id_a]+t_add), test_df['FIT401'][idx_start[id_a]-t_add:idx_end[id_a]+t_add]\n",
        "         , label='FIT401')\n",
        "# plt.vlines(idx_start[id_a], ymin=-0.5, ymax=0.8)\n",
        "# plt.vlines(idx_end[id_a], ymin=-0.5, ymax=20)\n",
        "plt.title(\"Attack no.10\")\n",
        "plt.fill_between(np.arange(idx_start[id_a]-20,idx_end[id_a]+10), [-1,1]*(190//2), alpha=0.3, \n",
        "                 color = 'pink')\n",
        "plt.legend()"
      ],
      "metadata": {
        "colab": {
          "base_uri": "https://localhost:8080/",
          "height": 298
        },
        "id": "1DCe_tMekZFE",
        "outputId": "551c7381-5cb0-4cd9-e2ff-42a557126bf1"
      },
      "execution_count": 429,
      "outputs": [
        {
          "output_type": "execute_result",
          "data": {
            "text/plain": [
              "<matplotlib.legend.Legend at 0x7f3bc9bcdb10>"
            ]
          },
          "metadata": {},
          "execution_count": 429
        },
        {
          "output_type": "display_data",
          "data": {
            "text/plain": [
              "<Figure size 576x288 with 1 Axes>"
            ],
            "image/png": "[encoded data removed]"
          },
          "metadata": {
            "needs_background": "light"
          }
        }
      ]
    },
    {
      "cell_type": "code",
      "source": [
        "#att no.14 happend in process 3\n",
        "id_a = 10\n",
        "att_score_10 = norm_test_scores[2][idx_start[id_a]-t_add:idx_end[id_a]+t_add]"
      ],
      "metadata": {
        "id": "HMn8G78Zoy4O"
      },
      "execution_count": 457,
      "outputs": []
    },
    {
      "cell_type": "code",
      "source": [
        "plt.plot(np.arange(idx_start[id_a]-t_add,idx_end[id_a]+t_add),att_score_10, label='Error score from P3')\n",
        "plt.plot(np.arange(idx_start[id_a]-t_add,idx_end[id_a]+t_add), [t3]*len(att_score_10), label=f'Threshold at {np.round(t3,2)}')\n",
        "plt.plot(np.arange(idx_start[id_a]-t_add,idx_end[id_a]+t_add), test_df['MV303'][idx_start[id_a]-t_add:idx_end[id_a]+t_add]\n",
        "         , label='MV303')\n",
        "# plt.vlines(idx_start[id_a], ymin=-0.5, ymax=0.8)\n",
        "# plt.vlines(idx_end[id_a], ymin=-0.5, ymax=20)\n",
        "plt.title(\"Attack no.14\")\n",
        "plt.fill_between(np.arange(idx_start[id_a]-20,idx_end[id_a]+10), [-1,2]*(460//2), alpha=0.3, \n",
        "                 color = 'pink')\n",
        "plt.legend()"
      ],
      "metadata": {
        "colab": {
          "base_uri": "https://localhost:8080/",
          "height": 298
        },
        "id": "9GK_KP1lpP99",
        "outputId": "4e2eab17-2b6f-4ea5-a9bb-6050a45c5595"
      },
      "execution_count": 458,
      "outputs": [
        {
          "output_type": "execute_result",
          "data": {
            "text/plain": [
              "<matplotlib.legend.Legend at 0x7f3bce6b1390>"
            ]
          },
          "metadata": {},
          "execution_count": 458
        },
        {
          "output_type": "display_data",
          "data": {
            "text/plain": [
              "<Figure size 432x288 with 1 Axes>"
            ],
            "image/png": "[encoded data removed]"
          },
          "metadata": {
            "needs_background": "light"
          }
        }
      ]
    },
    {
      "cell_type": "code",
      "source": [
        "#att no.16 happend in process 3\n",
        "id_a = 11\n",
        "att_score_10 = norm_test_scores[2][idx_start[id_a]-t_add:idx_end[id_a]+t_add]"
      ],
      "metadata": {
        "id": "Pm3CvOq-rfg5"
      },
      "execution_count": 509,
      "outputs": []
    },
    {
      "cell_type": "code",
      "source": [
        "plt.plot(np.arange(idx_start[id_a]-t_add,idx_end[id_a]+t_add),att_score_10, label='Error score from P3')\n",
        "plt.plot(np.arange(idx_start[id_a]-t_add,idx_end[id_a]+t_add), [t3]*len(att_score_10), label=f'Threshold at {np.round(t3,2)}')\n",
        "plt.plot(np.arange(idx_start[id_a]-t_add,idx_end[id_a]+t_add), test_scale['LIT301'][idx_start[id_a]-t_add:idx_end[id_a]+t_add]\n",
        "         , label='LIT301')\n",
        "# plt.vlines(idx_start[id_a], ymin=-0.5, ymax=0.8)\n",
        "# plt.vlines(idx_end[id_a], ymin=-0.5, ymax=20)\n",
        "plt.title(\"Attack no.16\")\n",
        "plt.fill_between(np.arange(idx_start[id_a]-20,idx_end[id_a]+11), [-1,2]*(306//2), alpha=0.3, \n",
        "                 color = 'pink')\n",
        "plt.legend()"
      ],
      "metadata": {
        "colab": {
          "base_uri": "https://localhost:8080/",
          "height": 298
        },
        "id": "nxerHAwzrlin",
        "outputId": "22138abf-9c4f-43f8-8be9-5d260d240780"
      },
      "execution_count": 531,
      "outputs": [
        {
          "output_type": "execute_result",
          "data": {
            "text/plain": [
              "<matplotlib.legend.Legend at 0x7f3bc8777850>"
            ]
          },
          "metadata": {},
          "execution_count": 531
        },
        {
          "output_type": "display_data",
          "data": {
            "text/plain": [
              "<Figure size 432x288 with 1 Axes>"
            ],
            "image/png": "[encoded data removed]"
          },
          "metadata": {
            "needs_background": "light"
          }
        }
      ]
    },
    {
      "cell_type": "code",
      "source": [
        "#att no.20 happend in process 5\n",
        "id_a = 14\n",
        "att_score_10 = norm_test_scores[4][idx_start[id_a]-t_add:idx_end[id_a]+t_add]"
      ],
      "metadata": {
        "id": "UsGVllwqwaAP"
      },
      "execution_count": 538,
      "outputs": []
    },
    {
      "cell_type": "code",
      "source": [
        "plt.plot(np.arange(idx_start[id_a]-t_add,idx_end[id_a]+t_add),att_score_10, label='Error score from P5')\n",
        "plt.plot(np.arange(idx_start[id_a]-t_add,idx_end[id_a]+t_add), [t5]*len(att_score_10), label=f'Threshold at {np.round(t5,2)}')\n",
        "# plt.plot(np.arange(idx_start[id_a]-t_add,idx_end[id_a]+t_add), test_scale['AIT504'][idx_start[id_a]-t_add:idx_end[id_a]+t_add]\n",
        "#          , label='AIT504')\n",
        "# plt.vlines(idx_start[id_a], ymin=-0.5, ymax=0.8)\n",
        "# plt.vlines(idx_end[id_a], ymin=-0.5, ymax=20)\n",
        "plt.title(\"Attack no.20\")\n",
        "plt.fill_between(np.arange(idx_start[id_a]-20,idx_end[id_a]+10), [-1,2]*(424//2), alpha=0.3, \n",
        "                 color = 'pink')\n",
        "plt.legend()"
      ],
      "metadata": {
        "colab": {
          "base_uri": "https://localhost:8080/",
          "height": 298
        },
        "id": "u3bX5_EQws_q",
        "outputId": "153516e2-1725-447f-fda4-64b6e528732b"
      },
      "execution_count": 556,
      "outputs": [
        {
          "output_type": "execute_result",
          "data": {
            "text/plain": [
              "<matplotlib.legend.Legend at 0x7f3bc7e9d990>"
            ]
          },
          "metadata": {},
          "execution_count": 556
        },
        {
          "output_type": "display_data",
          "data": {
            "text/plain": [
              "<Figure size 432x288 with 1 Axes>"
            ],
            "image/png": "[encoded data removed]"
          },
          "metadata": {
            "needs_background": "light"
          }
        }
      ]
    },
    {
      "cell_type": "code",
      "source": [
        "plt.plot(np.arange(idx_start[id_a]-t_add,idx_end[id_a]+t_add), test_scale['AIT504'][idx_start[id_a]-t_add:idx_end[id_a]+t_add]\n",
        "         , label='AIT504')\n",
        "plt.fill_between(np.arange(idx_start[id_a]-20,idx_end[id_a]+10), [0,70]*(424//2), alpha=0.3, \n",
        "                 color = 'pink')"
      ],
      "metadata": {
        "colab": {
          "base_uri": "https://localhost:8080/",
          "height": 282
        },
        "id": "G78yhT1M9kN5",
        "outputId": "6752e07d-7044-4150-cc17-0ffd5c4893d8"
      },
      "execution_count": 557,
      "outputs": [
        {
          "output_type": "execute_result",
          "data": {
            "text/plain": [
              "<matplotlib.collections.PolyCollection at 0x7f3bc7e8e4d0>"
            ]
          },
          "metadata": {},
          "execution_count": 557
        },
        {
          "output_type": "display_data",
          "data": {
            "text/plain": [
              "<Figure size 432x288 with 1 Axes>"
            ],
            "image/png": "[encoded data removed]"
          },
          "metadata": {
            "needs_background": "light"
          }
        }
      ]
    },
    {
      "cell_type": "code",
      "source": [
        "time_label[idx_start[14]:]"
      ],
      "metadata": {
        "colab": {
          "base_uri": "https://localhost:8080/",
          "height": 424
        },
        "id": "Kgli0xOewePc",
        "outputId": "8a52483d-e8d7-410e-8895-9ced7649dafb"
      },
      "execution_count": 537,
      "outputs": [
        {
          "output_type": "execute_result",
          "data": {
            "text/plain": [
              "                 Timestamp  label  attack #  pred_1  pred_2  pred_3  pred_4  \\\n",
              "116143 2015-12-29 18:15:43      1        20       0       0       0       0   \n",
              "116144 2015-12-29 18:15:44      1        20       0       0       0       0   \n",
              "116145 2015-12-29 18:15:45      1        20       0       0       0       0   \n",
              "116146 2015-12-29 18:15:46      1        20       0       0       0       0   \n",
              "116147 2015-12-29 18:15:47      1        20       0       0       0       0   \n",
              "...                    ...    ...       ...     ...     ...     ...     ...   \n",
              "449914 2016-02-01 14:59:55      0         0       0       1       0       0   \n",
              "449915 2016-02-01 14:59:56      0         0       0       1       0       0   \n",
              "449916 2016-02-01 14:59:57      0         0       0       1       0       0   \n",
              "449917 2016-02-01 14:59:58      0         0       0       1       0       0   \n",
              "449918 2016-02-01 14:59:59      0         0       0       1       0       0   \n",
              "\n",
              "        pred_5  pred_6  pred  found  \n",
              "116143       0       0     0      0  \n",
              "116144       0       0     0      0  \n",
              "116145       0       0     0      0  \n",
              "116146       0       0     0      0  \n",
              "116147       0       0     0      0  \n",
              "...        ...     ...   ...    ...  \n",
              "449914       0       0     1      1  \n",
              "449915       0       0     1      1  \n",
              "449916       0       0     1      1  \n",
              "449917       0       0     1      1  \n",
              "449918       0       0     1      0  \n",
              "\n",
              "[333776 rows x 11 columns]"
            ],
            "text/html": [
              "\n",
              "  <div id=\"df-652b9c74-32b2-44d7-a76e-d86578912a99\">\n",
              "    <div class=\"colab-df-container\">\n",
              "      <div>\n",
              "<style scoped>\n",
              "    .dataframe tbody tr th:only-of-type {\n",
              "        vertical-align: middle;\n",
              "    }\n",
              "\n",
              "    .dataframe tbody tr th {\n",
              "        vertical-align: top;\n",
              "    }\n",
              "\n",
              "    .dataframe thead th {\n",
              "        text-align: right;\n",
              "    }\n",
              "</style>\n",
              "<table border=\"1\" class=\"dataframe\">\n",
              "  <thead>\n",
              "    <tr style=\"text-align: right;\">\n",
              "      <th></th>\n",
              "      <th>Timestamp</th>\n",
              "      <th>label</th>\n",
              "      <th>attack #</th>\n",
              "      <th>pred_1</th>\n",
              "      <th>pred_2</th>\n",
              "      <th>pred_3</th>\n",
              "      <th>pred_4</th>\n",
              "      <th>pred_5</th>\n",
              "      <th>pred_6</th>\n",
              "      <th>pred</th>\n",
              "      <th>found</th>\n",
              "    </tr>\n",
              "  </thead>\n",
              "  <tbody>\n",
              "    <tr>\n",
              "      <th>116143</th>\n",
              "      <td>2015-12-29 18:15:43</td>\n",
              "      <td>1</td>\n",
              "      <td>20</td>\n",
              "      <td>0</td>\n",
              "      <td>0</td>\n",
              "      <td>0</td>\n",
              "      <td>0</td>\n",
              "      <td>0</td>\n",
              "      <td>0</td>\n",
              "      <td>0</td>\n",
              "      <td>0</td>\n",
              "    </tr>\n",
              "    <tr>\n",
              "      <th>116144</th>\n",
              "      <td>2015-12-29 18:15:44</td>\n",
              "      <td>1</td>\n",
              "      <td>20</td>\n",
              "      <td>0</td>\n",
              "      <td>0</td>\n",
              "      <td>0</td>\n",
              "      <td>0</td>\n",
              "      <td>0</td>\n",
              "      <td>0</td>\n",
              "      <td>0</td>\n",
              "      <td>0</td>\n",
              "    </tr>\n",
              "    <tr>\n",
              "      <th>116145</th>\n",
              "      <td>2015-12-29 18:15:45</td>\n",
              "      <td>1</td>\n",
              "      <td>20</td>\n",
              "      <td>0</td>\n",
              "      <td>0</td>\n",
              "      <td>0</td>\n",
              "      <td>0</td>\n",
              "      <td>0</td>\n",
              "      <td>0</td>\n",
              "      <td>0</td>\n",
              "      <td>0</td>\n",
              "    </tr>\n",
              "    <tr>\n",
              "      <th>116146</th>\n",
              "      <td>2015-12-29 18:15:46</td>\n",
              "      <td>1</td>\n",
              "      <td>20</td>\n",
              "      <td>0</td>\n",
              "      <td>0</td>\n",
              "      <td>0</td>\n",
              "      <td>0</td>\n",
              "      <td>0</td>\n",
              "      <td>0</td>\n",
              "      <td>0</td>\n",
              "      <td>0</td>\n",
              "    </tr>\n",
              "    <tr>\n",
              "      <th>116147</th>\n",
              "      <td>2015-12-29 18:15:47</td>\n",
              "      <td>1</td>\n",
              "      <td>20</td>\n",
              "      <td>0</td>\n",
              "      <td>0</td>\n",
              "      <td>0</td>\n",
              "      <td>0</td>\n",
              "      <td>0</td>\n",
              "      <td>0</td>\n",
              "      <td>0</td>\n",
              "      <td>0</td>\n",
              "    </tr>\n",
              "    <tr>\n",
              "      <th>...</th>\n",
              "      <td>...</td>\n",
              "      <td>...</td>\n",
              "      <td>...</td>\n",
              "      <td>...</td>\n",
              "      <td>...</td>\n",
              "      <td>...</td>\n",
              "      <td>...</td>\n",
              "      <td>...</td>\n",
              "      <td>...</td>\n",
              "      <td>...</td>\n",
              "      <td>...</td>\n",
              "    </tr>\n",
              "    <tr>\n",
              "      <th>449914</th>\n",
              "      <td>2016-02-01 14:59:55</td>\n",
              "      <td>0</td>\n",
              "      <td>0</td>\n",
              "      <td>0</td>\n",
              "      <td>1</td>\n",
              "      <td>0</td>\n",
              "      <td>0</td>\n",
              "      <td>0</td>\n",
              "      <td>0</td>\n",
              "      <td>1</td>\n",
              "      <td>1</td>\n",
              "    </tr>\n",
              "    <tr>\n",
              "      <th>449915</th>\n",
              "      <td>2016-02-01 14:59:56</td>\n",
              "      <td>0</td>\n",
              "      <td>0</td>\n",
              "      <td>0</td>\n",
              "      <td>1</td>\n",
              "      <td>0</td>\n",
              "      <td>0</td>\n",
              "      <td>0</td>\n",
              "      <td>0</td>\n",
              "      <td>1</td>\n",
              "      <td>1</td>\n",
              "    </tr>\n",
              "    <tr>\n",
              "      <th>449916</th>\n",
              "      <td>2016-02-01 14:59:57</td>\n",
              "      <td>0</td>\n",
              "      <td>0</td>\n",
              "      <td>0</td>\n",
              "      <td>1</td>\n",
              "      <td>0</td>\n",
              "      <td>0</td>\n",
              "      <td>0</td>\n",
              "      <td>0</td>\n",
              "      <td>1</td>\n",
              "      <td>1</td>\n",
              "    </tr>\n",
              "    <tr>\n",
              "      <th>449917</th>\n",
              "      <td>2016-02-01 14:59:58</td>\n",
              "      <td>0</td>\n",
              "      <td>0</td>\n",
              "      <td>0</td>\n",
              "      <td>1</td>\n",
              "      <td>0</td>\n",
              "      <td>0</td>\n",
              "      <td>0</td>\n",
              "      <td>0</td>\n",
              "      <td>1</td>\n",
              "      <td>1</td>\n",
              "    </tr>\n",
              "    <tr>\n",
              "      <th>449918</th>\n",
              "      <td>2016-02-01 14:59:59</td>\n",
              "      <td>0</td>\n",
              "      <td>0</td>\n",
              "      <td>0</td>\n",
              "      <td>1</td>\n",
              "      <td>0</td>\n",
              "      <td>0</td>\n",
              "      <td>0</td>\n",
              "      <td>0</td>\n",
              "      <td>1</td>\n",
              "      <td>0</td>\n",
              "    </tr>\n",
              "  </tbody>\n",
              "</table>\n",
              "<p>333776 rows × 11 columns</p>\n",
              "</div>\n",
              "      <button class=\"colab-df-convert\" onclick=\"convertToInteractive('df-652b9c74-32b2-44d7-a76e-d86578912a99')\"\n",
              "              title=\"Convert this dataframe to an interactive table.\"\n",
              "              style=\"display:none;\">\n",
              "        \n",
              "  <svg xmlns=\"http://www.w3.org/2000/svg\" height=\"24px\"viewBox=\"0 0 24 24\"\n",
              "       width=\"24px\">\n",
              "    <path d=\"M0 0h24v24H0V0z\" fill=\"none\"/>\n",
              "    <path d=\"M18.56 5.44l.94 2.06.94-2.06 2.06-.94-2.06-.94-.94-2.06-.94 2.06-2.06.94zm-11 1L8.5 8.5l.94-2.06 2.06-.94-2.06-.94L8.5 2.5l-.94 2.06-2.06.94zm10 10l.94 2.06.94-2.06 2.06-.94-2.06-.94-.94-2.06-.94 2.06-2.06.94z\"/><path d=\"M17.41 7.96l-1.37-1.37c-.4-.4-.92-.59-1.43-.59-.52 0-1.04.2-1.43.59L10.3 9.45l-7.72 7.72c-.78.78-.78 2.05 0 2.83L4 21.41c.39.39.9.59 1.41.59.51 0 1.02-.2 1.41-.59l7.78-7.78 2.81-2.81c.8-.78.8-2.07 0-2.86zM5.41 20L4 18.59l7.72-7.72 1.47 1.35L5.41 20z\"/>\n",
              "  </svg>\n",
              "      </button>\n",
              "      \n",
              "  <style>\n",
              "    .colab-df-container {\n",
              "      display:flex;\n",
              "      flex-wrap:wrap;\n",
              "      gap: 12px;\n",
              "    }\n",
              "\n",
              "    .colab-df-convert {\n",
              "      background-color: #E8F0FE;\n",
              "      border: none;\n",
              "      border-radius: 50%;\n",
              "      cursor: pointer;\n",
              "      display: none;\n",
              "      fill: #1967D2;\n",
              "      height: 32px;\n",
              "      padding: 0 0 0 0;\n",
              "      width: 32px;\n",
              "    }\n",
              "\n",
              "    .colab-df-convert:hover {\n",
              "      background-color: #E2EBFA;\n",
              "      box-shadow: 0px 1px 2px rgba(60, 64, 67, 0.3), 0px 1px 3px 1px rgba(60, 64, 67, 0.15);\n",
              "      fill: #174EA6;\n",
              "    }\n",
              "\n",
              "    [theme=dark] .colab-df-convert {\n",
              "      background-color: #3B4455;\n",
              "      fill: #D2E3FC;\n",
              "    }\n",
              "\n",
              "    [theme=dark] .colab-df-convert:hover {\n",
              "      background-color: #434B5C;\n",
              "      box-shadow: 0px 1px 3px 1px rgba(0, 0, 0, 0.15);\n",
              "      filter: drop-shadow(0px 1px 2px rgba(0, 0, 0, 0.3));\n",
              "      fill: #FFFFFF;\n",
              "    }\n",
              "  </style>\n",
              "\n",
              "      <script>\n",
              "        const buttonEl =\n",
              "          document.querySelector('#df-652b9c74-32b2-44d7-a76e-d86578912a99 button.colab-df-convert');\n",
              "        buttonEl.style.display =\n",
              "          google.colab.kernel.accessAllowed ? 'block' : 'none';\n",
              "\n",
              "        async function convertToInteractive(key) {\n",
              "          const element = document.querySelector('#df-652b9c74-32b2-44d7-a76e-d86578912a99');\n",
              "          const dataTable =\n",
              "            await google.colab.kernel.invokeFunction('convertToInteractive',\n",
              "                                                     [key], {});\n",
              "          if (!dataTable) return;\n",
              "\n",
              "          const docLinkHtml = 'Like what you see? Visit the ' +\n",
              "            '<a target=\"_blank\" href=https://colab.research.google.com/notebooks/data_table.ipynb>data table notebook</a>'\n",
              "            + ' to learn more about interactive tables.';\n",
              "          element.innerHTML = '';\n",
              "          dataTable['output_type'] = 'display_data';\n",
              "          await google.colab.output.renderOutput(dataTable, element);\n",
              "          const docLink = document.createElement('div');\n",
              "          docLink.innerHTML = docLinkHtml;\n",
              "          element.appendChild(docLink);\n",
              "        }\n",
              "      </script>\n",
              "    </div>\n",
              "  </div>\n",
              "  "
            ]
          },
          "metadata": {},
          "execution_count": 537
        }
      ]
    },
    {
      "cell_type": "markdown",
      "source": [
        "#XAI"
      ],
      "metadata": {
        "id": "d5BksB6JcsPu"
      }
    },
    {
      "cell_type": "code",
      "source": [
        "att_found = np.unique(found)\n",
        "att_found"
      ],
      "metadata": {
        "colab": {
          "base_uri": "https://localhost:8080/"
        },
        "id": "pDEFe0msezgq",
        "outputId": "2159da3f-2fe6-4cf7-ee78-57917633119a"
      },
      "execution_count": 117,
      "outputs": [
        {
          "output_type": "execute_result",
          "data": {
            "text/plain": [
              "array([ 1,  2,  3,  4,  8, 11, 13, 17, 19, 21, 22, 23, 24, 25, 26, 27, 28,\n",
              "       29, 30, 31, 32, 33, 34, 35, 36, 37, 38, 39, 40, 41])"
            ]
          },
          "metadata": {},
          "execution_count": 117
        }
      ]
    },
    {
      "cell_type": "code",
      "source": [
        "!pip install shap --quiet\n",
        "!pip install lime --quiet\n",
        "!pip install alibi[tensorflow] --quiet"
      ],
      "metadata": {
        "id": "QDRHfEd2ftLv"
      },
      "execution_count": 111,
      "outputs": []
    },
    {
      "cell_type": "code",
      "source": [
        "import shap\n",
        "import lime\n",
        "import lime.lime_tabular\n",
        "from lime import submodular_pick\n",
        "from alibi.explainers import ALE"
      ],
      "metadata": {
        "id": "EvkEuOyQgCjq"
      },
      "execution_count": 112,
      "outputs": []
    },
    {
      "cell_type": "code",
      "source": [
        "X_train_summary = shap.kmeans(train_scale, 100)\n",
        "shap_explainer = shap.KernelExplainer(model=model.decision_function, data=X_train_summary)\n",
        "ale = ALE(model.decision_function, feature_names=train_scale.columns)\n",
        "lm = lime.lime_tabular.LimeTabularExplainer(X_train_summary.data, feature_names=train_scale.columns,\n",
        "                                                   verbose=True, mode='regression')"
      ],
      "metadata": {
        "id": "MbaOTV8egPgD"
      },
      "execution_count": null,
      "outputs": []
    },
    {
      "cell_type": "code",
      "source": [
        "def explain_all_attack(att_found,test_scale):\n",
        "  shap_values = []\n",
        "  limes = []\n",
        "  ales = []\n",
        "  for i in att_found:\n",
        "    idx = time_label[(time_label[\"attack #\"] == i)].index.values\n",
        "    n = 100 if len(idx) > 100 else len(idx)\n",
        "    sample = test_scale[idx[0]:idx[-1]].sample(n = n)\n",
        "    #shap explainer\n",
        "    shap_value = shap_explainer.shap_values(X=sample, nsamples=100)\n",
        "    shap_values.append(np.mean(shap_value,axis=0))\n",
        "\n",
        "    #lime\n",
        "    sp_obj = submodular_pick.SubmodularPick(lm, sample.values, model.decision_function, num_features=20,num_exps_desired=1)\n",
        "    limes.append(sp_obj.sp_explanations[0].as_list())\n",
        "\n",
        "    #ale\n",
        "    exp_ale = ale.explain(sample.to_numpy())\n",
        "    ales.append([np.mean(e) for e in exp_ale.ale_values])\n",
        "\n",
        "    print(f\"---------------------------------- finish XAI attack no {i} ----------------------------\")\n",
        "  \n",
        "  return shap_values,limes,ales"
      ],
      "metadata": {
        "id": "ZNxl4CdWhGUX"
      },
      "execution_count": null,
      "outputs": []
    },
    {
      "cell_type": "code",
      "source": [
        "shap_values,limes,ales = explain_all_attack(att_found,test_scale)"
      ],
      "metadata": {
        "id": "SKcsSAMOn6Jw"
      },
      "execution_count": null,
      "outputs": []
    },
    {
      "cell_type": "code",
      "source": [
        "#save result\n",
        "path = '/content/drive/MyDrive/Data_sci_Project/XAI_result'"
      ],
      "metadata": {
        "id": "LIk5z5YDsVxO"
      },
      "execution_count": null,
      "outputs": []
    },
    {
      "cell_type": "code",
      "source": [
        "import pickle\n",
        "\n",
        "xai_re = {'shap_values':shap_values,\"limes\":limes,\"ales\":ales}\n",
        "\n",
        "with open(path+'deep_svdd_xai.pkl', 'wb') as fid:\n",
        "     pickle.dump(xai_re, fid)"
      ],
      "metadata": {
        "id": "0274NO8c-ToQ"
      },
      "execution_count": null,
      "outputs": []
    }
  ],
  "metadata": {
    "colab": {
      "collapsed_sections": [],
      "name": "Probability Base Model separate stage.ipynb",
      "provenance": [],
      "toc_visible": true,
      "authorship_tag": "ABX9TyOgC8wOWh4oA8uFwGnP6/Ey",
      "include_colab_link": true
    },
    "gpuClass": "standard",
    "kernelspec": {
      "display_name": "Python 3",
      "name": "python3"
    }
  },
  "nbformat": 4,
  "nbformat_minor": 0
}