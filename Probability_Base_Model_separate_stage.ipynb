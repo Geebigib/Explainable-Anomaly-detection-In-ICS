{
  "cells": [
    {
      "cell_type": "markdown",
      "metadata": {
        "id": "view-in-github",
        "colab_type": "text"
      },
      "source": [
        "<a href=\"https://colab.research.google.com/github/Geebigib/Data-Science-Project/blob/main/Probability_Base_Model_separate_stage.ipynb\" target=\"_parent\"><img src=\"https://colab.research.google.com/assets/colab-badge.svg\" alt=\"Open In Colab\"/></a>"
      ]
    },
    {
      "cell_type": "code",
      "execution_count": 1,
      "metadata": {
        "colab": {
          "base_uri": "https://localhost:8080/"
        },
        "id": "UzxFI3UZFMBJ",
        "outputId": "28781a88-d91a-423f-94d2-ad6d86f480a4"
      },
      "outputs": [
        {
          "output_type": "stream",
          "name": "stdout",
          "text": [
            "Mounted at /content/drive\n"
          ]
        }
      ],
      "source": [
        "from google.colab import drive\n",
        "drive.mount('/content/drive')"
      ]
    },
    {
      "cell_type": "code",
      "execution_count": 2,
      "metadata": {
        "colab": {
          "base_uri": "https://localhost:8080/"
        },
        "id": "_Cl9RiEXdfTE",
        "outputId": "5ca2e162-a62f-4e78-ebbf-e5c0587319be"
      },
      "outputs": [
        {
          "output_type": "stream",
          "name": "stdout",
          "text": [
            "\u001b[?25l\r\u001b[K     |██▍                             | 10 kB 32.9 MB/s eta 0:00:01\r\u001b[K     |████▉                           | 20 kB 17.0 MB/s eta 0:00:01\r\u001b[K     |███████▎                        | 30 kB 22.8 MB/s eta 0:00:01\r\u001b[K     |█████████▊                      | 40 kB 13.0 MB/s eta 0:00:01\r\u001b[K     |████████████▏                   | 51 kB 12.6 MB/s eta 0:00:01\r\u001b[K     |██████████████▋                 | 61 kB 14.7 MB/s eta 0:00:01\r\u001b[K     |█████████████████               | 71 kB 14.3 MB/s eta 0:00:01\r\u001b[K     |███████████████████▌            | 81 kB 11.6 MB/s eta 0:00:01\r\u001b[K     |██████████████████████          | 92 kB 12.8 MB/s eta 0:00:01\r\u001b[K     |████████████████████████▍       | 102 kB 13.9 MB/s eta 0:00:01\r\u001b[K     |██████████████████████████▉     | 112 kB 13.9 MB/s eta 0:00:01\r\u001b[K     |█████████████████████████████▎  | 122 kB 13.9 MB/s eta 0:00:01\r\u001b[K     |███████████████████████████████▊| 133 kB 13.9 MB/s eta 0:00:01\r\u001b[K     |████████████████████████████████| 134 kB 13.9 MB/s \n",
            "\u001b[?25h  Building wheel for pyod (setup.py) ... \u001b[?25l\u001b[?25hdone\n"
          ]
        }
      ],
      "source": [
        "!pip install pyod --quiet"
      ]
    },
    {
      "cell_type": "code",
      "execution_count": 3,
      "metadata": {
        "colab": {
          "base_uri": "https://localhost:8080/"
        },
        "id": "od9i8uI0btzr",
        "outputId": "eb3d3420-ffb3-4506-f8e3-6859f87a7ae6"
      },
      "outputs": [
        {
          "output_type": "stream",
          "name": "stdout",
          "text": [
            "Archive:  /content/drive/MyDrive/SWaT_Dataset_v0.zip\n",
            "  inflating: /content/SWaT_Dataset_Attack_v0.csv  \n",
            "  inflating: /content/SWaT_Dataset_Normal_v0.csv  \n"
          ]
        }
      ],
      "source": [
        "!unzip /content/drive/MyDrive/SWaT_Dataset_v0.zip -d /content/"
      ]
    },
    {
      "cell_type": "code",
      "execution_count": 4,
      "metadata": {
        "id": "ef09e9a3-bebc-407a-8492-838438b4e288"
      },
      "outputs": [],
      "source": [
        "import numpy as np\n",
        "import os\n",
        "import pandas as pd\n",
        "from glob import glob\n",
        "from sklearn.preprocessing import MinMaxScaler\n",
        "from collections import Counter\n",
        "import pickle\n",
        "import tqdm\n",
        "import matplotlib.pyplot as plt\n",
        "from sklearn import metrics\n",
        "import pyod\n",
        "import seaborn as sns\n",
        "import timeit"
      ]
    },
    {
      "cell_type": "markdown",
      "metadata": {
        "id": "kKdqmsEGblq4"
      },
      "source": [
        "Data Pre-processing"
      ]
    },
    {
      "cell_type": "code",
      "execution_count": 5,
      "metadata": {
        "id": "IO6QxPKoJq0H"
      },
      "outputs": [],
      "source": [
        "swat_normal = pd.read_csv(\"SWaT_Dataset_Normal_v0.csv\", skiprows=1)\n",
        "swat_attack = pd.read_csv(\"SWaT_Dataset_Attack_v0.csv\")"
      ]
    },
    {
      "cell_type": "code",
      "execution_count": 6,
      "metadata": {
        "id": "ba1cbb77-2b06-4667-91df-75e8da68b68d"
      },
      "outputs": [],
      "source": [
        "swat_normal.columns = swat_normal.columns.str.replace(' ','')\n",
        "swat_attack.columns = swat_attack.columns.str.replace(' ','')"
      ]
    },
    {
      "cell_type": "code",
      "execution_count": 7,
      "metadata": {
        "id": "dk2m6eZ7fXPO"
      },
      "outputs": [],
      "source": [
        "swat_attack[\"Normal/Attack\"].replace(' ', '', regex=True, inplace=True)"
      ]
    },
    {
      "cell_type": "code",
      "execution_count": 8,
      "metadata": {
        "id": "NKJf4rvncNvR"
      },
      "outputs": [],
      "source": [
        "test_df = swat_attack.set_index('Timestamp')\n",
        "test_df['label'] = np.where(test_df['Normal/Attack'] == 'Attack', 1, 0)\n",
        "\n",
        "test_df = test_df.drop('Normal/Attack', axis=1)\n",
        "\n",
        "train_df = swat_normal.set_index('Timestamp')\n",
        "train_df['label'] = np.where(train_df['Normal/Attack'] == 'Attack', 1, 0)\n",
        "train_df = train_df.drop('Normal/Attack', axis=1)\n",
        "\n",
        "# trim start stage\n",
        "train_df = train_df.iloc[21600:]\n"
      ]
    },
    {
      "cell_type": "code",
      "execution_count": 9,
      "metadata": {
        "id": "IA0qJp-NQn_t"
      },
      "outputs": [],
      "source": [
        "train_df.drop(columns = 'label',inplace = True)\n",
        "label = test_df['label'].values\n",
        "test_df.drop(columns = 'label',inplace = True)"
      ]
    },
    {
      "cell_type": "code",
      "execution_count": 10,
      "metadata": {
        "id": "34ca9ad8-0f02-4764-b864-1b7e9f9fc56d"
      },
      "outputs": [],
      "source": [
        "#normalise data\n",
        "scaler = MinMaxScaler()\n",
        "scaler = scaler.fit(train_df)"
      ]
    },
    {
      "cell_type": "code",
      "execution_count": 11,
      "metadata": {
        "id": "574bbe23-9e71-4079-9b3d-a91b353a5364"
      },
      "outputs": [],
      "source": [
        "train_scale = pd.DataFrame(\n",
        "    scaler.transform(train_df),\n",
        "    index = train_df.index,\n",
        "    columns= train_df.columns\n",
        ")\n",
        "\n",
        "test_scale  = pd.DataFrame(\n",
        "    scaler.transform(test_df),\n",
        "    index = test_df.index,\n",
        "    columns= test_df.columns\n",
        ")"
      ]
    },
    {
      "cell_type": "code",
      "execution_count": 12,
      "metadata": {
        "colab": {
          "base_uri": "https://localhost:8080/"
        },
        "id": "dlpVnPfNQpdk",
        "outputId": "47bf11fc-e706-48d6-e9a3-e9ff0af7498a"
      },
      "outputs": [
        {
          "output_type": "execute_result",
          "data": {
            "text/plain": [
              "((475200, 51), (449919, 51))"
            ]
          },
          "metadata": {},
          "execution_count": 12
        }
      ],
      "source": [
        "train_scale.shape ,test_scale.shape"
      ]
    },
    {
      "cell_type": "code",
      "source": [
        "train_df.columns"
      ],
      "metadata": {
        "colab": {
          "base_uri": "https://localhost:8080/"
        },
        "id": "fRXg_hqqrYP8",
        "outputId": "b242a2e3-1de1-4be8-ada5-9180bc6675a8"
      },
      "execution_count": 13,
      "outputs": [
        {
          "output_type": "execute_result",
          "data": {
            "text/plain": [
              "Index(['FIT101', 'LIT101', 'MV101', 'P101', 'P102', 'AIT201', 'AIT202',\n",
              "       'AIT203', 'FIT201', 'MV201', 'P201', 'P202', 'P203', 'P204', 'P205',\n",
              "       'P206', 'DPIT301', 'FIT301', 'LIT301', 'MV301', 'MV302', 'MV303',\n",
              "       'MV304', 'P301', 'P302', 'AIT401', 'AIT402', 'FIT401', 'LIT401', 'P401',\n",
              "       'P402', 'P403', 'P404', 'UV401', 'AIT501', 'AIT502', 'AIT503', 'AIT504',\n",
              "       'FIT501', 'FIT502', 'FIT503', 'FIT504', 'P501', 'P502', 'PIT501',\n",
              "       'PIT502', 'PIT503', 'FIT601', 'P601', 'P602', 'P603'],\n",
              "      dtype='object')"
            ]
          },
          "metadata": {},
          "execution_count": 13
        }
      ]
    },
    {
      "cell_type": "code",
      "source": [
        "P1 = ['FIT101', 'LIT101', 'MV101', 'P101', 'P102']\n",
        "P2 = ['AIT201', 'AIT202','AIT203', 'FIT201', 'MV201', 'P201', 'P202', 'P203', 'P204', 'P205', 'P206']\n",
        "P3 = ['DPIT301', 'FIT301', 'LIT301', 'MV301', 'MV302', 'MV303', 'MV304', 'P301', 'P302']\n",
        "P4 = ['AIT401', 'AIT402', 'FIT401', 'LIT401', 'P401', 'P402', 'P403', 'P404', 'UV401']\n",
        "P5 = ['AIT501', 'AIT502', 'AIT503', 'AIT504','FIT501', 'FIT502', 'FIT503', 'FIT504', 'P501', 'P502', 'PIT501',\n",
        "       'PIT502', 'PIT503']\n",
        "P6 = ['FIT601', 'P601', 'P602', 'P603']"
      ],
      "metadata": {
        "id": "3VEPGP-KrbU_"
      },
      "execution_count": 14,
      "outputs": []
    },
    {
      "cell_type": "markdown",
      "metadata": {
        "id": "Ci6PSqZjboNE"
      },
      "source": [
        "Model Prediction on each stage"
      ]
    },
    {
      "cell_type": "code",
      "execution_count": 15,
      "metadata": {
        "colab": {
          "base_uri": "https://localhost:8080/"
        },
        "id": "9SngcuRjuWHS",
        "outputId": "1b45dcf5-794e-4177-9931-9f09ca8b082c"
      },
      "outputs": [
        {
          "output_type": "stream",
          "name": "stderr",
          "text": [
            "/usr/local/lib/python3.7/dist-packages/statsmodels/tools/_testing.py:19: FutureWarning: pandas.util.testing is deprecated. Use the functions in the public API at pandas.testing instead.\n",
            "  import pandas.util.testing as tm\n"
          ]
        }
      ],
      "source": [
        "from  pyod.models.ecod import ECOD\n",
        "model = ECOD(contamination=0.000000001)"
      ]
    },
    {
      "cell_type": "code",
      "source": [
        "def get_test_score(stage,train_scale,test_scale):\n",
        "  norm_test_scores = []\n",
        "  test_scores = []\n",
        "  train_scores = []\n",
        "  norm_train_scores = []\n",
        "\n",
        "  for i in stage:\n",
        "    model = ECOD(contamination=0.000000001)\n",
        "    model.fit(train_scale[i])\n",
        "\n",
        "    train_score = model.decision_scores_\n",
        "    test_score = model.decision_function(test_scale[i])\n",
        "\n",
        "    test_scores.append(test_score)\n",
        "    train_scores.append(train_score)\n",
        "\n",
        "    #normalise train&test score\n",
        "    min_train = min(train_score)\n",
        "    max_train = max(train_score)\n",
        "    norm_train = (train_score-min_train)/(max_train-min_train)\n",
        "    norm_test = (test_score - min_train)/(max_train-min_train)\n",
        "\n",
        "    norm_test_scores.append(norm_test)\n",
        "    norm_train_scores.append(norm_train)\n",
        "\n",
        "    print(f\"------ Finish Stage {i} ------\")\n",
        "  return norm_test_scores,test_scores,train_scores,norm_train_scores\n"
      ],
      "metadata": {
        "id": "P6miKK_11BMh"
      },
      "execution_count": 16,
      "outputs": []
    },
    {
      "cell_type": "code",
      "source": [
        "stage = [P1,P2,P3,P4,P5,P6]"
      ],
      "metadata": {
        "id": "IBBOsYne3Oiy"
      },
      "execution_count": 17,
      "outputs": []
    },
    {
      "cell_type": "code",
      "source": [
        "norm_test_scores,test_scores,train_scores,norm_train_scores = get_test_score(stage,train_scale,test_scale)"
      ],
      "metadata": {
        "colab": {
          "base_uri": "https://localhost:8080/"
        },
        "id": "vZYCM4Jh3YlL",
        "outputId": "8db967c3-6bb9-4cb8-ed02-6ee32da19969"
      },
      "execution_count": 18,
      "outputs": [
        {
          "output_type": "stream",
          "name": "stdout",
          "text": [
            "------ Finish Stage ['FIT101', 'LIT101', 'MV101', 'P101', 'P102'] ------\n",
            "------ Finish Stage ['AIT201', 'AIT202', 'AIT203', 'FIT201', 'MV201', 'P201', 'P202', 'P203', 'P204', 'P205', 'P206'] ------\n",
            "------ Finish Stage ['DPIT301', 'FIT301', 'LIT301', 'MV301', 'MV302', 'MV303', 'MV304', 'P301', 'P302'] ------\n",
            "------ Finish Stage ['AIT401', 'AIT402', 'FIT401', 'LIT401', 'P401', 'P402', 'P403', 'P404', 'UV401'] ------\n",
            "------ Finish Stage ['AIT501', 'AIT502', 'AIT503', 'AIT504', 'FIT501', 'FIT502', 'FIT503', 'FIT504', 'P501', 'P502', 'PIT501', 'PIT502', 'PIT503'] ------\n",
            "------ Finish Stage ['FIT601', 'P601', 'P602', 'P603'] ------\n"
          ]
        }
      ]
    },
    {
      "cell_type": "code",
      "source": [
        "aucs = []\n",
        "for i in range(len(norm_test_scores)):\n",
        "  fpr, tpr, _ = metrics.roc_curve(label,  test_scores[i])\n",
        "  auc = metrics.roc_auc_score(label,  test_scores[i])\n",
        "  aucs.append(auc)\n",
        "  plt.plot(fpr,tpr,label=f\"stage {i+1}\")\n",
        "  plt.ylabel('True Positive Rate')\n",
        "  plt.xlabel('False Positive Rate')\n",
        "  plt.title(f'ECOD Model (6 stages)')\n",
        "  plt.legend(loc=4)"
      ],
      "metadata": {
        "colab": {
          "base_uri": "https://localhost:8080/",
          "height": 295
        },
        "id": "kNjxWxoc4XAL",
        "outputId": "c7192ac6-9698-4936-de0d-3ff6b80e161d"
      },
      "execution_count": 133,
      "outputs": [
        {
          "output_type": "display_data",
          "data": {
            "text/plain": [
              "<Figure size 432x288 with 1 Axes>"
            ],
            "image/png": "[encoded data removed]"
          },
          "metadata": {
            "needs_background": "light"
          }
        }
      ]
    },
    {
      "cell_type": "code",
      "source": [
        "for i in range(len(aucs)):\n",
        "  print(f\"AUC stage{i+1}: {np.round(aucs[i],3)}\")"
      ],
      "metadata": {
        "colab": {
          "base_uri": "https://localhost:8080/"
        },
        "id": "HyJwupalwEi3",
        "outputId": "199152eb-9f0b-481a-dcf0-ccef3adf2481"
      },
      "execution_count": 131,
      "outputs": [
        {
          "output_type": "stream",
          "name": "stdout",
          "text": [
            "AUC stage1: 0.805\n",
            "AUC stage2: 0.657\n",
            "AUC stage3: 0.824\n",
            "AUC stage4: 0.818\n",
            "AUC stage5: 0.816\n",
            "AUC stage6: 0.413\n"
          ]
        }
      ]
    },
    {
      "cell_type": "code",
      "source": [
        "for i in range(len(norm_test_scores)):\n",
        "  plt.hist(norm_test_scores[i], density=True, bins='auto')  # density=False would make counts\n",
        "  plt.ylabel('Probability')\n",
        "  plt.xlabel('Data')\n",
        "  plt.title(f'stage {i+1}')\n",
        "  plt.show()"
      ],
      "metadata": {
        "colab": {
          "base_uri": "https://localhost:8080/",
          "height": 1000
        },
        "id": "ruVNgV6mO4Ce",
        "outputId": "482d7670-f631-43c6-9a4e-dd744a1c754d"
      },
      "execution_count": 144,
      "outputs": [
        {
          "output_type": "display_data",
          "data": {
            "text/plain": [
              "<Figure size 432x288 with 1 Axes>"
            ],
            "image/png": "[encoded data removed]"
          },
          "metadata": {
            "needs_background": "light"
          }
        },
        {
          "output_type": "display_data",
          "data": {
            "text/plain": [
              "<Figure size 432x288 with 1 Axes>"
            ],
            "image/png": "[encoded data removed]"
          },
          "metadata": {
            "needs_background": "light"
          }
        },
        {
          "output_type": "display_data",
          "data": {
            "text/plain": [
              "<Figure size 432x288 with 1 Axes>"
            ],
            "image/png": "[encoded data removed]"
          },
          "metadata": {
            "needs_background": "light"
          }
        },
        {
          "output_type": "display_data",
          "data": {
            "text/plain": [
              "<Figure size 432x288 with 1 Axes>"
            ],
            "image/png": "[encoded data removed]"
          },
          "metadata": {
            "needs_background": "light"
          }
        },
        {
          "output_type": "display_data",
          "data": {
            "text/plain": [
              "<Figure size 432x288 with 1 Axes>"
            ],
            "image/png": "[encoded data removed]"
          },
          "metadata": {
            "needs_background": "light"
          }
        },
        {
          "output_type": "display_data",
          "data": {
            "text/plain": [
              "<Figure size 432x288 with 1 Axes>"
            ],
            "image/png": "[encoded data removed]"
          },
          "metadata": {
            "needs_background": "light"
          }
        }
      ]
    },
    {
      "cell_type": "code",
      "source": [
        "def pred_labels_timewindow(df,threshold,time_window):\n",
        "  n_data = len(df)\n",
        "  pred_label = np.array([_ for _ in range(n_data)])\n",
        "  for i in range(0,n_data-time_window+1):\n",
        "    if (df[i:i+time_window] >= threshold).any():\n",
        "      pred_label[i:i+time_window] = 1\n",
        "    else:\n",
        "      pred_label[i:i+time_window] = 0\n",
        "\n",
        "  return pred_label"
      ],
      "metadata": {
        "id": "i548C9CVYEqK"
      },
      "execution_count": 171,
      "outputs": []
    },
    {
      "cell_type": "code",
      "source": [
        "time_window = 10"
      ],
      "metadata": {
        "id": "-E-F_sOxo7PH"
      },
      "execution_count": 21,
      "outputs": []
    },
    {
      "cell_type": "markdown",
      "source": [
        "##Ture Attack point"
      ],
      "metadata": {
        "id": "16taAvxspeop"
      }
    },
    {
      "cell_type": "code",
      "execution_count": 28,
      "metadata": {
        "id": "UkMB7Bfsb9P6"
      },
      "outputs": [],
      "source": [
        "true_anomaly = pd.read_csv(\"/content/drive/MyDrive/Data_sci_Project/List_of_attacks_Final.csv\")"
      ]
    },
    {
      "cell_type": "code",
      "source": [
        "true_attack = true_anomaly[~true_anomaly[\"End Time\"].isnull()]"
      ],
      "metadata": {
        "id": "EsadR_UCpvIC"
      },
      "execution_count": 45,
      "outputs": []
    },
    {
      "cell_type": "code",
      "source": [
        "true_attack.tail(3)"
      ],
      "metadata": {
        "colab": {
          "base_uri": "https://localhost:8080/",
          "height": 344
        },
        "id": "Bu6_LYhypl-v",
        "outputId": "805d4704-6b4b-4a6b-f8c3-9e0f9b99c5e9"
      },
      "execution_count": 58,
      "outputs": [
        {
          "output_type": "execute_result",
          "data": {
            "text/plain": [
              "   Attack #          Start Time  End Time      Attack Point  \\\n",
              "38       39  2/01/2015 11:43:48  11:50:28  FIT-401, AIT-502   \n",
              "39       40  2/01/2015 11:51:42  11:56:38           FIT-401   \n",
              "40       41  2/01/2015 13:13:02  13:40:56           LIT-301   \n",
              "\n",
              "                    Start State  \\\n",
              "38              In Normal Range   \n",
              "39              In Normal Range   \n",
              "40  Water level between L and H   \n",
              "\n",
              "                                               Attack Actual Change  \\\n",
              "38  Set value of FIT-401 as 0.5; Set value of AIT-...            No   \n",
              "39                          Set value of FIT-401 as 0            No   \n",
              "40                decrease value by 0.5 mm per second            No   \n",
              "\n",
              "           Expected Impact or attacker intent  \\\n",
              "38  UV will shut down and water will go to RO   \n",
              "39  UV will shut down and water will go to RO   \n",
              "40                              Tank overflow   \n",
              "\n",
              "                                   Unexpected Outcome  \n",
              "38                                UV did not shutdown  \n",
              "39    P-402 did not close, both should be interlinked  \n",
              "40  Rate of decrease in water level reduced after ...  "
            ],
            "text/html": [
              "\n",
              "  <div id=\"df-b37968dc-5847-4055-9d2f-6a291f3f8850\">\n",
              "    <div class=\"colab-df-container\">\n",
              "      <div>\n",
              "<style scoped>\n",
              "    .dataframe tbody tr th:only-of-type {\n",
              "        vertical-align: middle;\n",
              "    }\n",
              "\n",
              "    .dataframe tbody tr th {\n",
              "        vertical-align: top;\n",
              "    }\n",
              "\n",
              "    .dataframe thead th {\n",
              "        text-align: right;\n",
              "    }\n",
              "</style>\n",
              "<table border=\"1\" class=\"dataframe\">\n",
              "  <thead>\n",
              "    <tr style=\"text-align: right;\">\n",
              "      <th></th>\n",
              "      <th>Attack #</th>\n",
              "      <th>Start Time</th>\n",
              "      <th>End Time</th>\n",
              "      <th>Attack Point</th>\n",
              "      <th>Start State</th>\n",
              "      <th>Attack</th>\n",
              "      <th>Actual Change</th>\n",
              "      <th>Expected Impact or attacker intent</th>\n",
              "      <th>Unexpected Outcome</th>\n",
              "    </tr>\n",
              "  </thead>\n",
              "  <tbody>\n",
              "    <tr>\n",
              "      <th>38</th>\n",
              "      <td>39</td>\n",
              "      <td>2/01/2015 11:43:48</td>\n",
              "      <td>11:50:28</td>\n",
              "      <td>FIT-401, AIT-502</td>\n",
              "      <td>In Normal Range</td>\n",
              "      <td>Set value of FIT-401 as 0.5; Set value of AIT-...</td>\n",
              "      <td>No</td>\n",
              "      <td>UV will shut down and water will go to RO</td>\n",
              "      <td>UV did not shutdown</td>\n",
              "    </tr>\n",
              "    <tr>\n",
              "      <th>39</th>\n",
              "      <td>40</td>\n",
              "      <td>2/01/2015 11:51:42</td>\n",
              "      <td>11:56:38</td>\n",
              "      <td>FIT-401</td>\n",
              "      <td>In Normal Range</td>\n",
              "      <td>Set value of FIT-401 as 0</td>\n",
              "      <td>No</td>\n",
              "      <td>UV will shut down and water will go to RO</td>\n",
              "      <td>P-402 did not close, both should be interlinked</td>\n",
              "    </tr>\n",
              "    <tr>\n",
              "      <th>40</th>\n",
              "      <td>41</td>\n",
              "      <td>2/01/2015 13:13:02</td>\n",
              "      <td>13:40:56</td>\n",
              "      <td>LIT-301</td>\n",
              "      <td>Water level between L and H</td>\n",
              "      <td>decrease value by 0.5 mm per second</td>\n",
              "      <td>No</td>\n",
              "      <td>Tank overflow</td>\n",
              "      <td>Rate of decrease in water level reduced after ...</td>\n",
              "    </tr>\n",
              "  </tbody>\n",
              "</table>\n",
              "</div>\n",
              "      <button class=\"colab-df-convert\" onclick=\"convertToInteractive('df-b37968dc-5847-4055-9d2f-6a291f3f8850')\"\n",
              "              title=\"Convert this dataframe to an interactive table.\"\n",
              "              style=\"display:none;\">\n",
              "        \n",
              "  <svg xmlns=\"http://www.w3.org/2000/svg\" height=\"24px\"viewBox=\"0 0 24 24\"\n",
              "       width=\"24px\">\n",
              "    <path d=\"M0 0h24v24H0V0z\" fill=\"none\"/>\n",
              "    <path d=\"M18.56 5.44l.94 2.06.94-2.06 2.06-.94-2.06-.94-.94-2.06-.94 2.06-2.06.94zm-11 1L8.5 8.5l.94-2.06 2.06-.94-2.06-.94L8.5 2.5l-.94 2.06-2.06.94zm10 10l.94 2.06.94-2.06 2.06-.94-2.06-.94-.94-2.06-.94 2.06-2.06.94z\"/><path d=\"M17.41 7.96l-1.37-1.37c-.4-.4-.92-.59-1.43-.59-.52 0-1.04.2-1.43.59L10.3 9.45l-7.72 7.72c-.78.78-.78 2.05 0 2.83L4 21.41c.39.39.9.59 1.41.59.51 0 1.02-.2 1.41-.59l7.78-7.78 2.81-2.81c.8-.78.8-2.07 0-2.86zM5.41 20L4 18.59l7.72-7.72 1.47 1.35L5.41 20z\"/>\n",
              "  </svg>\n",
              "      </button>\n",
              "      \n",
              "  <style>\n",
              "    .colab-df-container {\n",
              "      display:flex;\n",
              "      flex-wrap:wrap;\n",
              "      gap: 12px;\n",
              "    }\n",
              "\n",
              "    .colab-df-convert {\n",
              "      background-color: #E8F0FE;\n",
              "      border: none;\n",
              "      border-radius: 50%;\n",
              "      cursor: pointer;\n",
              "      display: none;\n",
              "      fill: #1967D2;\n",
              "      height: 32px;\n",
              "      padding: 0 0 0 0;\n",
              "      width: 32px;\n",
              "    }\n",
              "\n",
              "    .colab-df-convert:hover {\n",
              "      background-color: #E2EBFA;\n",
              "      box-shadow: 0px 1px 2px rgba(60, 64, 67, 0.3), 0px 1px 3px 1px rgba(60, 64, 67, 0.15);\n",
              "      fill: #174EA6;\n",
              "    }\n",
              "\n",
              "    [theme=dark] .colab-df-convert {\n",
              "      background-color: #3B4455;\n",
              "      fill: #D2E3FC;\n",
              "    }\n",
              "\n",
              "    [theme=dark] .colab-df-convert:hover {\n",
              "      background-color: #434B5C;\n",
              "      box-shadow: 0px 1px 3px 1px rgba(0, 0, 0, 0.15);\n",
              "      filter: drop-shadow(0px 1px 2px rgba(0, 0, 0, 0.3));\n",
              "      fill: #FFFFFF;\n",
              "    }\n",
              "  </style>\n",
              "\n",
              "      <script>\n",
              "        const buttonEl =\n",
              "          document.querySelector('#df-b37968dc-5847-4055-9d2f-6a291f3f8850 button.colab-df-convert');\n",
              "        buttonEl.style.display =\n",
              "          google.colab.kernel.accessAllowed ? 'block' : 'none';\n",
              "\n",
              "        async function convertToInteractive(key) {\n",
              "          const element = document.querySelector('#df-b37968dc-5847-4055-9d2f-6a291f3f8850');\n",
              "          const dataTable =\n",
              "            await google.colab.kernel.invokeFunction('convertToInteractive',\n",
              "                                                     [key], {});\n",
              "          if (!dataTable) return;\n",
              "\n",
              "          const docLinkHtml = 'Like what you see? Visit the ' +\n",
              "            '<a target=\"_blank\" href=https://colab.research.google.com/notebooks/data_table.ipynb>data table notebook</a>'\n",
              "            + ' to learn more about interactive tables.';\n",
              "          element.innerHTML = '';\n",
              "          dataTable['output_type'] = 'display_data';\n",
              "          await google.colab.output.renderOutput(dataTable, element);\n",
              "          const docLink = document.createElement('div');\n",
              "          docLink.innerHTML = docLinkHtml;\n",
              "          element.appendChild(docLink);\n",
              "        }\n",
              "      </script>\n",
              "    </div>\n",
              "  </div>\n",
              "  "
            ]
          },
          "metadata": {},
          "execution_count": 58
        }
      ]
    },
    {
      "cell_type": "code",
      "execution_count": 59,
      "metadata": {
        "id": "NgjdE5XqcTxy"
      },
      "outputs": [],
      "source": [
        "start_time = true_attack['Start Time']\n",
        "start_time = pd.to_datetime(start_time)\n",
        "start_time.loc[36:40] = start_time.loc[36:40]+pd.DateOffset(years=1)"
      ]
    },
    {
      "cell_type": "code",
      "execution_count": 60,
      "metadata": {
        "id": "1P5olVV1rdqB"
      },
      "outputs": [],
      "source": [
        "end_time = pd.to_datetime(true_anomaly['End Time'][~true_anomaly[\"End Time\"].isnull()])"
      ]
    },
    {
      "cell_type": "code",
      "execution_count": 61,
      "metadata": {
        "id": "0l5l2XcPwYTM"
      },
      "outputs": [],
      "source": [
        "attack_lenght = (end_time - pd.to_datetime([str(a) for a in start_time.dt.time])).dt.seconds"
      ]
    },
    {
      "cell_type": "code",
      "execution_count": 62,
      "metadata": {
        "colab": {
          "base_uri": "https://localhost:8080/"
        },
        "id": "zeJxJdepq00E",
        "outputId": "a154fcf4-8be8-4b56-8135-5cbdb5fb8693"
      },
      "outputs": [
        {
          "output_type": "execute_result",
          "data": {
            "text/plain": [
              "36"
            ]
          },
          "metadata": {},
          "execution_count": 62
        }
      ],
      "source": [
        "len(start_time) #there are 36 attack"
      ]
    },
    {
      "cell_type": "code",
      "execution_count": 53,
      "metadata": {
        "colab": {
          "base_uri": "https://localhost:8080/"
        },
        "id": "Du8xvw4l8Ybk",
        "outputId": "ea2f823e-4c57-491c-c5d8-a8645061c80c"
      },
      "outputs": [
        {
          "output_type": "execute_result",
          "data": {
            "text/plain": [
              "array([ 1,  2,  3,  4,  6,  7,  8, 10, 11, 13, 14, 16, 17, 19, 20, 21, 22,\n",
              "       23, 24, 25, 26, 27, 28, 29, 30, 31, 32, 33, 34, 35, 36, 37, 38, 39,\n",
              "       40, 41])"
            ]
          },
          "metadata": {},
          "execution_count": 53
        }
      ],
      "source": [
        "start_time.index.values+1"
      ]
    },
    {
      "cell_type": "code",
      "source": [
        "time_label = pd.DataFrame(label, index =  test_df.index.values, columns = [\"label\"])\n",
        "time_label.reset_index(inplace=True)\n",
        "time_label.rename(columns = {'index':'Timestamp'}, inplace = True)\n",
        "time_label['Timestamp'] = pd.to_datetime(time_label['Timestamp'])"
      ],
      "metadata": {
        "id": "c3spm3xXrPJb"
      },
      "execution_count": 77,
      "outputs": []
    },
    {
      "cell_type": "code",
      "execution_count": 80,
      "metadata": {
        "id": "FiKi5uU2lcqS"
      },
      "outputs": [],
      "source": [
        "#find start index/ end index of attack\n",
        "idx_start = time_label[time_label['Timestamp'].isin(start_time)]['Timestamp'].index.values \n",
        "idx_end = idx_start+attack_lenght.values"
      ]
    },
    {
      "cell_type": "code",
      "source": [
        "idx_start"
      ],
      "metadata": {
        "colab": {
          "base_uri": "https://localhost:8080/"
        },
        "id": "NTjIc-fIrUzA",
        "outputId": "b5570a5a-a07d-433c-8e26-9897640dbd29"
      },
      "execution_count": 79,
      "outputs": [
        {
          "output_type": "execute_result",
          "data": {
            "text/plain": [
              "array([  1754,   3068,   4920,   6459,   7255,   7705,  11410,  15380,\n",
              "        15540,  90685,  92140,  93445, 103092, 115843, 116143, 117000,\n",
              "       132918, 142954, 172268, 172910, 198296, 227828, 229519, 279120,\n",
              "       280060, 302653, 347679, 361191, 371479, 371855, 389680, 436541,\n",
              "       437417, 438147, 438621, 443501])"
            ]
          },
          "metadata": {},
          "execution_count": 79
        }
      ]
    },
    {
      "cell_type": "code",
      "execution_count": 81,
      "metadata": {
        "colab": {
          "base_uri": "https://localhost:8080/"
        },
        "id": "Z7IsUesRya6F",
        "outputId": "dbac97c8-c8f9-40dc-a2d3-a97e5af0a2bf"
      },
      "outputs": [
        {
          "output_type": "stream",
          "name": "stderr",
          "text": [
            "/usr/local/lib/python3.7/dist-packages/pandas/core/indexing.py:1732: SettingWithCopyWarning: \n",
            "A value is trying to be set on a copy of a slice from a DataFrame\n",
            "\n",
            "See the caveats in the documentation: https://pandas.pydata.org/pandas-docs/stable/user_guide/indexing.html#returning-a-view-versus-a-copy\n",
            "  self._setitem_single_block(indexer, value, name)\n"
          ]
        }
      ],
      "source": [
        "time_label['attack #'] = 0\n",
        "for i in range (len(idx_start)):\n",
        "  time_label['attack #'].loc[idx_start[i]:idx_end[i]] = attack_lenght.index.values[i]+1"
      ]
    },
    {
      "cell_type": "markdown",
      "source": [
        "##Stage P1"
      ],
      "metadata": {
        "id": "n9JyPvk7om8S"
      }
    },
    {
      "cell_type": "code",
      "source": [
        "t1 = np.percentile(norm_test_scores[0],90)"
      ],
      "metadata": {
        "id": "NofvUVHioo_8"
      },
      "execution_count": 106,
      "outputs": []
    },
    {
      "cell_type": "code",
      "source": [
        "label_1 = pred_labels_timewindow(norm_test_scores[0],t1,time_window)"
      ],
      "metadata": {
        "id": "OqDE2bJyYF98"
      },
      "execution_count": 107,
      "outputs": []
    },
    {
      "cell_type": "code",
      "source": [
        "time_label[\"pred_1\"] = label_1"
      ],
      "metadata": {
        "id": "5XH6aUzGvh0i"
      },
      "execution_count": 125,
      "outputs": []
    },
    {
      "cell_type": "code",
      "source": [
        "att_p1 = time_label[time_label['attack #'].isin([1,2,3,21,26,30,33,34,35,36])]"
      ],
      "metadata": {
        "id": "XoLuXGnOu64T"
      },
      "execution_count": 123,
      "outputs": []
    },
    {
      "cell_type": "code",
      "source": [
        "fpr, tpr, _ = metrics.roc_curve(label, norm_test_scores[0])\n",
        "auc = metrics.roc_auc_score(label, norm_test_scores[0])\n",
        "plt.plot(fpr,tpr,label=f\"stage 1, auc = {np.round(auc,2)}\")\n",
        "plt.ylabel('True Positive Rate')\n",
        "plt.xlabel('False Positive Rate')\n",
        "plt.title(f'ECOD Model')\n",
        "plt.legend(loc=4)"
      ],
      "metadata": {
        "colab": {
          "base_uri": "https://localhost:8080/",
          "height": 0
        },
        "id": "REsMtOh7o6ph",
        "outputId": "8e47dd04-b1b5-46c0-ec9b-76d75e39243e"
      },
      "execution_count": 129,
      "outputs": [
        {
          "output_type": "execute_result",
          "data": {
            "text/plain": [
              "<matplotlib.legend.Legend at 0x7f27e5b77990>"
            ]
          },
          "metadata": {},
          "execution_count": 129
        },
        {
          "output_type": "display_data",
          "data": {
            "text/plain": [
              "<Figure size 432x288 with 1 Axes>"
            ],
            "image/png": "[encoded data removed]"
          },
          "metadata": {
            "needs_background": "light"
          }
        }
      ]
    },
    {
      "cell_type": "code",
      "source": [
        "print(metrics.classification_report(label,label_1))"
      ],
      "metadata": {
        "colab": {
          "base_uri": "https://localhost:8080/"
        },
        "id": "IExsHyljpU2C",
        "outputId": "257683e1-6168-4a97-b211-7b2f7d0b4134"
      },
      "execution_count": 135,
      "outputs": [
        {
          "output_type": "stream",
          "name": "stdout",
          "text": [
            "              precision    recall  f1-score   support\n",
            "\n",
            "           0       0.94      0.85      0.89    395298\n",
            "           1       0.35      0.57      0.44     54621\n",
            "\n",
            "    accuracy                           0.82    449919\n",
            "   macro avg       0.64      0.71      0.66    449919\n",
            "weighted avg       0.86      0.82      0.84    449919\n",
            "\n"
          ]
        }
      ]
    },
    {
      "cell_type": "code",
      "source": [
        "found = []\n",
        "for i in range(len(att_p1)):\n",
        "  if (att_p1.iloc[i][\"pred_1\"] == 1) & (att_p1.iloc[i][\"label\"] == 1):\n",
        "    found.append(att_p1.iloc[i][\"attack #\"])\n",
        "print(np.unique(found))"
      ],
      "metadata": {
        "colab": {
          "base_uri": "https://localhost:8080/"
        },
        "id": "yBVIuzFv5UQa",
        "outputId": "89f85d4f-8ec5-4356-e784-4f2ed03d61a2"
      },
      "execution_count": 219,
      "outputs": [
        {
          "output_type": "stream",
          "name": "stdout",
          "text": [
            "[ 1  2  3 21 26 30 33 34 35 36]\n"
          ]
        }
      ]
    },
    {
      "cell_type": "code",
      "source": [
        "np.unique(att_p1[\"attack #\"])"
      ],
      "metadata": {
        "colab": {
          "base_uri": "https://localhost:8080/"
        },
        "id": "yESJGCjO5yxD",
        "outputId": "9945ddf7-bb45-49b1-b2af-4e8bd9df39a0"
      },
      "execution_count": 220,
      "outputs": [
        {
          "output_type": "execute_result",
          "data": {
            "text/plain": [
              "array([ 1,  2,  3, 21, 26, 30, 33, 34, 35, 36])"
            ]
          },
          "metadata": {},
          "execution_count": 220
        }
      ]
    },
    {
      "cell_type": "markdown",
      "source": [
        "##Stage P2"
      ],
      "metadata": {
        "id": "JpT-YCC8uQzO"
      }
    },
    {
      "cell_type": "code",
      "source": [
        "t2 = np.percentile(norm_test_scores[1],90)"
      ],
      "metadata": {
        "id": "lyLzEPAtuQzP"
      },
      "execution_count": 202,
      "outputs": []
    },
    {
      "cell_type": "code",
      "source": [
        "t2"
      ],
      "metadata": {
        "colab": {
          "base_uri": "https://localhost:8080/"
        },
        "id": "lBbSMiXB2ggo",
        "outputId": "2818074b-aa56-4f13-c181-3590ee552ceb"
      },
      "execution_count": 203,
      "outputs": [
        {
          "output_type": "execute_result",
          "data": {
            "text/plain": [
              "0.5536130346204002"
            ]
          },
          "metadata": {},
          "execution_count": 203
        }
      ]
    },
    {
      "cell_type": "code",
      "source": [
        "label_2 = pred_labels_timewindow(norm_test_scores[1],t2,time_window)"
      ],
      "metadata": {
        "id": "DTUPJXRauQzP"
      },
      "execution_count": 204,
      "outputs": []
    },
    {
      "cell_type": "code",
      "source": [
        "print(metrics.classification_report(label,label_2))"
      ],
      "metadata": {
        "colab": {
          "base_uri": "https://localhost:8080/"
        },
        "outputId": "76a91968-fe8b-4958-f850-1597c36ef714",
        "id": "_q4ynBiJuQzP"
      },
      "execution_count": 212,
      "outputs": [
        {
          "output_type": "stream",
          "name": "stdout",
          "text": [
            "              precision    recall  f1-score   support\n",
            "\n",
            "           0       0.87      0.88      0.88    395298\n",
            "           1       0.06      0.05      0.05     54621\n",
            "\n",
            "    accuracy                           0.78    449919\n",
            "   macro avg       0.46      0.47      0.47    449919\n",
            "weighted avg       0.77      0.78      0.78    449919\n",
            "\n"
          ]
        }
      ]
    },
    {
      "cell_type": "code",
      "source": [
        "time_label[\"pred_2\"] = label_2"
      ],
      "metadata": {
        "id": "OVuUEEr14DWx"
      },
      "execution_count": 207,
      "outputs": []
    },
    {
      "cell_type": "code",
      "source": [
        "att_p2 = time_label[time_label['attack #'].isin([6,24,29])]"
      ],
      "metadata": {
        "id": "prsn-Al76BqP"
      },
      "execution_count": 221,
      "outputs": []
    },
    {
      "cell_type": "code",
      "source": [
        "found = []\n",
        "for i in range(len(att_p2)):\n",
        "  if (att_p2.iloc[i][\"pred_2\"] == 1) & (att_p2.iloc[i][\"label\"] == 1):\n",
        "    found.append(att_p2.iloc[i][\"attack #\"])\n",
        "print(np.unique(found))"
      ],
      "metadata": {
        "colab": {
          "base_uri": "https://localhost:8080/"
        },
        "id": "9PztubxX6T5o",
        "outputId": "b09ea756-615e-4a01-eb21-8ac804aec711"
      },
      "execution_count": 223,
      "outputs": [
        {
          "output_type": "stream",
          "name": "stdout",
          "text": [
            "[24]\n"
          ]
        }
      ]
    },
    {
      "cell_type": "markdown",
      "source": [
        "##Stage P3"
      ],
      "metadata": {
        "id": "2FE2Z4gb5ODA"
      }
    },
    {
      "cell_type": "code",
      "source": [
        "t3 = np.percentile(norm_test_scores[2],90)"
      ],
      "metadata": {
        "id": "NzlyqD3K5ODA"
      },
      "execution_count": 224,
      "outputs": []
    },
    {
      "cell_type": "code",
      "source": [
        "t3"
      ],
      "metadata": {
        "colab": {
          "base_uri": "https://localhost:8080/"
        },
        "outputId": "2f74c665-1e98-4fea-fb38-3bb7a6f107ce",
        "id": "q1B-RRsg5ODB"
      },
      "execution_count": 225,
      "outputs": [
        {
          "output_type": "execute_result",
          "data": {
            "text/plain": [
              "0.46085872462594535"
            ]
          },
          "metadata": {},
          "execution_count": 225
        }
      ]
    },
    {
      "cell_type": "code",
      "source": [
        "label_3 = pred_labels_timewindow(norm_test_scores[2],t3,time_window)"
      ],
      "metadata": {
        "id": "vJgpLzdv5ODB"
      },
      "execution_count": 226,
      "outputs": []
    },
    {
      "cell_type": "code",
      "source": [
        "print(metrics.classification_report(label,label_3))"
      ],
      "metadata": {
        "colab": {
          "base_uri": "https://localhost:8080/"
        },
        "outputId": "e4c199a9-a357-4f01-dda7-f45ce570085e",
        "id": "NskqSG9n5ODB"
      },
      "execution_count": 227,
      "outputs": [
        {
          "output_type": "stream",
          "name": "stdout",
          "text": [
            "              precision    recall  f1-score   support\n",
            "\n",
            "           0       0.95      0.95      0.95    395298\n",
            "           1       0.65      0.64      0.65     54621\n",
            "\n",
            "    accuracy                           0.92    449919\n",
            "   macro avg       0.80      0.80      0.80    449919\n",
            "weighted avg       0.91      0.92      0.91    449919\n",
            "\n"
          ]
        }
      ]
    },
    {
      "cell_type": "code",
      "source": [
        "time_label[\"pred_3\"] = label_3"
      ],
      "metadata": {
        "id": "eYC3zDR65ODC"
      },
      "execution_count": 228,
      "outputs": []
    },
    {
      "cell_type": "code",
      "source": [
        "att_p3 = time_label[time_label['attack #'].isin([7,8,13,14,16,17,23,26,27,28,32,41])]"
      ],
      "metadata": {
        "id": "Aiwq5sXc6rlM"
      },
      "execution_count": 229,
      "outputs": []
    },
    {
      "cell_type": "code",
      "source": [
        "found = []\n",
        "for i in range(len(att_p3)):\n",
        "  if (att_p3.iloc[i][\"pred_3\"] == 1) & (att_p3.iloc[i][\"label\"] == 1):\n",
        "    found.append(att_p3.iloc[i][\"attack #\"])\n",
        "print(np.unique(found))"
      ],
      "metadata": {
        "colab": {
          "base_uri": "https://localhost:8080/"
        },
        "id": "2Z2HBlPd6-8-",
        "outputId": "371b8fd1-143c-44a5-c5cb-c5a993e72ec2"
      },
      "execution_count": 230,
      "outputs": [
        {
          "output_type": "stream",
          "name": "stdout",
          "text": [
            "[ 8 17 23 26 28 41]\n"
          ]
        }
      ]
    },
    {
      "cell_type": "markdown",
      "source": [
        "##Stage P4"
      ],
      "metadata": {
        "id": "2HaB5ef_8vdq"
      }
    },
    {
      "cell_type": "code",
      "source": [
        "t4 = np.percentile(norm_test_scores[3],90)"
      ],
      "metadata": {
        "id": "_HSkMfWh8vdr"
      },
      "execution_count": 233,
      "outputs": []
    },
    {
      "cell_type": "code",
      "source": [
        "t4"
      ],
      "metadata": {
        "colab": {
          "base_uri": "https://localhost:8080/"
        },
        "outputId": "e2eabd45-6de0-4f0f-8f4e-cbaa36b2f67b",
        "id": "4r_K_vqx8vdr"
      },
      "execution_count": 234,
      "outputs": [
        {
          "output_type": "execute_result",
          "data": {
            "text/plain": [
              "0.38412817027080626"
            ]
          },
          "metadata": {},
          "execution_count": 234
        }
      ]
    },
    {
      "cell_type": "code",
      "source": [
        "label_4 = pred_labels_timewindow(norm_test_scores[3],t4,time_window)"
      ],
      "metadata": {
        "id": "Zyw8NqRy8vdr"
      },
      "execution_count": 235,
      "outputs": []
    },
    {
      "cell_type": "code",
      "source": [
        "print(metrics.classification_report(label,label_4))"
      ],
      "metadata": {
        "colab": {
          "base_uri": "https://localhost:8080/"
        },
        "outputId": "22abd75e-4b2c-480e-ca2c-d819e47cfc9a",
        "id": "7ppBKeUl8vdr"
      },
      "execution_count": 236,
      "outputs": [
        {
          "output_type": "stream",
          "name": "stdout",
          "text": [
            "              precision    recall  f1-score   support\n",
            "\n",
            "           0       0.95      0.96      0.95    395298\n",
            "           1       0.68      0.63      0.65     54621\n",
            "\n",
            "    accuracy                           0.92    449919\n",
            "   macro avg       0.81      0.79      0.80    449919\n",
            "weighted avg       0.92      0.92      0.92    449919\n",
            "\n"
          ]
        }
      ]
    },
    {
      "cell_type": "code",
      "source": [
        "time_label[\"pred_4\"] = label_4"
      ],
      "metadata": {
        "id": "hzKZkXjN8vds"
      },
      "execution_count": 237,
      "outputs": []
    },
    {
      "cell_type": "code",
      "source": [
        "att_p4 = time_label[time_label['attack #'].isin([10,11,22,25,31,38,39,40])]"
      ],
      "metadata": {
        "id": "_Vv-qqUF8vds"
      },
      "execution_count": 238,
      "outputs": []
    },
    {
      "cell_type": "code",
      "source": [
        "found = []\n",
        "for i in range(len(att_p4)):\n",
        "  if (att_p4.iloc[i][\"pred_4\"] == 1) & (att_p4.iloc[i][\"label\"] == 1):\n",
        "    found.append(att_p4.iloc[i][\"attack #\"])\n",
        "print(np.unique(found))"
      ],
      "metadata": {
        "colab": {
          "base_uri": "https://localhost:8080/"
        },
        "outputId": "1a2d1334-f548-4256-a9af-43c8140bf0da",
        "id": "LLA2ExB-8vds"
      },
      "execution_count": 239,
      "outputs": [
        {
          "output_type": "stream",
          "name": "stdout",
          "text": [
            "[10 11 22 25 40]\n"
          ]
        }
      ]
    },
    {
      "cell_type": "markdown",
      "source": [
        "##Stage P5"
      ],
      "metadata": {
        "id": "Cj473K7W9a6E"
      }
    },
    {
      "cell_type": "code",
      "source": [
        "t5 = np.percentile(norm_test_scores[4],90)"
      ],
      "metadata": {
        "id": "1V20CjzN9a6F"
      },
      "execution_count": 241,
      "outputs": []
    },
    {
      "cell_type": "code",
      "source": [
        "t5"
      ],
      "metadata": {
        "colab": {
          "base_uri": "https://localhost:8080/"
        },
        "outputId": "3b97dda8-9eab-41de-a8ba-cf4a9571e7ef",
        "id": "CIipvCsf9a6G"
      },
      "execution_count": 242,
      "outputs": [
        {
          "output_type": "execute_result",
          "data": {
            "text/plain": [
              "0.3948892484009113"
            ]
          },
          "metadata": {},
          "execution_count": 242
        }
      ]
    },
    {
      "cell_type": "code",
      "source": [
        "label_5 = pred_labels_timewindow(norm_test_scores[4],t5,time_window)"
      ],
      "metadata": {
        "id": "iP3EYtIH9a6G"
      },
      "execution_count": 243,
      "outputs": []
    },
    {
      "cell_type": "code",
      "source": [
        "print(metrics.classification_report(label,label_5))"
      ],
      "metadata": {
        "colab": {
          "base_uri": "https://localhost:8080/"
        },
        "outputId": "7384f8a7-654a-444f-8040-73b394c7f601",
        "id": "eUowOAwN9a6G"
      },
      "execution_count": 244,
      "outputs": [
        {
          "output_type": "stream",
          "name": "stdout",
          "text": [
            "              precision    recall  f1-score   support\n",
            "\n",
            "           0       0.95      0.95      0.95    395298\n",
            "           1       0.65      0.65      0.65     54621\n",
            "\n",
            "    accuracy                           0.91    449919\n",
            "   macro avg       0.80      0.80      0.80    449919\n",
            "weighted avg       0.91      0.91      0.91    449919\n",
            "\n"
          ]
        }
      ]
    },
    {
      "cell_type": "code",
      "source": [
        "time_label[\"pred_5\"] = label_5"
      ],
      "metadata": {
        "id": "WLsbJsz89a6H"
      },
      "execution_count": 245,
      "outputs": []
    },
    {
      "cell_type": "code",
      "source": [
        "att_p5 = time_label[time_label['attack #'].isin([4,19,20,22,37,38,39])]"
      ],
      "metadata": {
        "id": "BRgWj6fV9a6H"
      },
      "execution_count": 248,
      "outputs": []
    },
    {
      "cell_type": "code",
      "source": [
        "found = []\n",
        "for i in range(len(att_p5)):\n",
        "  if (att_p5.iloc[i][\"pred_5\"] == 1) & (att_p5.iloc[i][\"label\"] == 1):\n",
        "    found.append(att_p5.iloc[i][\"attack #\"])\n",
        "print(np.unique(found))"
      ],
      "metadata": {
        "colab": {
          "base_uri": "https://localhost:8080/"
        },
        "outputId": "6667cbbe-be80-4447-f7b7-b5e71bfad5a7",
        "id": "61TJs2Nc9a6H"
      },
      "execution_count": 249,
      "outputs": [
        {
          "output_type": "stream",
          "name": "stdout",
          "text": [
            "[20 22 37 38 39]\n"
          ]
        }
      ]
    },
    {
      "cell_type": "markdown",
      "source": [
        "##Stage P6"
      ],
      "metadata": {
        "id": "PSX0VoCR9-Bo"
      }
    },
    {
      "cell_type": "code",
      "source": [
        "t6 = np.percentile(norm_test_scores[5],90)"
      ],
      "metadata": {
        "id": "804eqX7M9-Bo"
      },
      "execution_count": 283,
      "outputs": []
    },
    {
      "cell_type": "code",
      "source": [
        "t6"
      ],
      "metadata": {
        "colab": {
          "base_uri": "https://localhost:8080/"
        },
        "outputId": "4741648f-faf6-48c6-e3de-ac058f32ef48",
        "id": "ZAS84bPv9-Bp"
      },
      "execution_count": 284,
      "outputs": [
        {
          "output_type": "execute_result",
          "data": {
            "text/plain": [
              "0.177549398921028"
            ]
          },
          "metadata": {},
          "execution_count": 284
        }
      ]
    },
    {
      "cell_type": "code",
      "source": [
        "label_6 = pred_labels_timewindow(norm_test_scores[5],t6,time_window)"
      ],
      "metadata": {
        "id": "TXFCVb9x9-Bp"
      },
      "execution_count": 285,
      "outputs": []
    },
    {
      "cell_type": "code",
      "source": [
        "print(metrics.classification_report(label,label_6))"
      ],
      "metadata": {
        "colab": {
          "base_uri": "https://localhost:8080/"
        },
        "outputId": "1c0a9804-b22b-45d9-8063-97a02cbb91e0",
        "id": "cLeCELL-9-Bp"
      },
      "execution_count": 286,
      "outputs": [
        {
          "output_type": "stream",
          "name": "stdout",
          "text": [
            "              precision    recall  f1-score   support\n",
            "\n",
            "           0       0.88      0.96      0.92    395298\n",
            "           1       0.10      0.03      0.05     54621\n",
            "\n",
            "    accuracy                           0.85    449919\n",
            "   macro avg       0.49      0.50      0.48    449919\n",
            "weighted avg       0.78      0.85      0.81    449919\n",
            "\n"
          ]
        }
      ]
    },
    {
      "cell_type": "code",
      "source": [
        "time_label[\"pred_6\"] = label_6"
      ],
      "metadata": {
        "id": "L7IyGJkc9-Bp"
      },
      "execution_count": 287,
      "outputs": []
    },
    {
      "cell_type": "code",
      "source": [
        "att_p6 = time_label[time_label['attack #'].isin([23])]"
      ],
      "metadata": {
        "id": "JRpgThUu9-Bq"
      },
      "execution_count": 289,
      "outputs": []
    },
    {
      "cell_type": "code",
      "source": [
        "found = []\n",
        "for i in range(len(att_p6)):\n",
        "  if (att_p6.iloc[i][\"pred_6\"] == 1) & (att_p6.iloc[i][\"label\"] == 1):\n",
        "    found.append(att_p6.iloc[i][\"attack #\"])\n",
        "print(np.unique(found))"
      ],
      "metadata": {
        "colab": {
          "base_uri": "https://localhost:8080/"
        },
        "outputId": "68967e01-c4f3-4b7c-dda6-a91dcae604b2",
        "id": "YM2H977r9-Bq"
      },
      "execution_count": 291,
      "outputs": [
        {
          "output_type": "stream",
          "name": "stdout",
          "text": [
            "[23]\n"
          ]
        }
      ]
    },
    {
      "cell_type": "markdown",
      "source": [
        "##Attack found"
      ],
      "metadata": {
        "id": "1onU1KO6_KJ5"
      }
    },
    {
      "cell_type": "code",
      "source": [
        "pred_all = time_label[['pred_1',\t'pred_2',\t'pred_3',\t'pred_4',\t'pred_5',\t'pred_6']].to_numpy()"
      ],
      "metadata": {
        "id": "2QLHCyt__OGA"
      },
      "execution_count": 296,
      "outputs": []
    },
    {
      "cell_type": "code",
      "source": [
        "time_label['pred'] = np.where((time_label['pred_1'] ==1) | \n",
        "                              (time_label['pred_2'] ==1) |\n",
        "                              (time_label['pred_3'] ==1) |\n",
        "                              (time_label['pred_4'] ==1) |\n",
        "                              (time_label['pred_5'] ==1) |\n",
        "                              (time_label['pred_6'] ==1), 1, 0)\n"
      ],
      "metadata": {
        "id": "vcT2XEa7Af2v"
      },
      "execution_count": 318,
      "outputs": []
    },
    {
      "cell_type": "code",
      "source": [
        "found = []\n",
        "for i in range(len(time_label)):\n",
        "  if (time_label.iloc[i][\"pred\"] == 1) & (time_label.iloc[i][\"label\"] == 1):\n",
        "    found.append(time_label.iloc[i][\"attack #\"])\n",
        "print(np.unique(found))"
      ],
      "metadata": {
        "colab": {
          "base_uri": "https://localhost:8080/"
        },
        "id": "4DsqbbCVB267",
        "outputId": "29dd8ecc-064b-4f6a-b660-3994636f50d2"
      },
      "execution_count": 322,
      "outputs": [
        {
          "output_type": "stream",
          "name": "stdout",
          "text": [
            "[ 0  1  2  3  4  8 10 11 13 14 17 19 20 21 22 23 24 25 26 27 28 29 30 31\n",
            " 32 33 34 35 36 37 38 39 40 41]\n"
          ]
        }
      ]
    },
    {
      "cell_type": "code",
      "source": [
        "len(np.unique(found))-1 #remove 0"
      ],
      "metadata": {
        "colab": {
          "base_uri": "https://localhost:8080/"
        },
        "id": "Pa3BPQinCO2o",
        "outputId": "5fba6543-c5c4-4cd2-946a-ef514ba003b4"
      },
      "execution_count": 325,
      "outputs": [
        {
          "output_type": "execute_result",
          "data": {
            "text/plain": [
              "33"
            ]
          },
          "metadata": {},
          "execution_count": 325
        }
      ]
    }
  ],
  "metadata": {
    "accelerator": "GPU",
    "colab": {
      "collapsed_sections": [],
      "name": "Probability Base Model separate stage.ipynb",
      "provenance": [],
      "toc_visible": true,
      "authorship_tag": "ABX9TyOznxMSqcLBwh6C1PMMMdRc",
      "include_colab_link": true
    },
    "gpuClass": "standard",
    "kernelspec": {
      "display_name": "Python 3",
      "name": "python3"
    }
  },
  "nbformat": 4,
  "nbformat_minor": 0
}