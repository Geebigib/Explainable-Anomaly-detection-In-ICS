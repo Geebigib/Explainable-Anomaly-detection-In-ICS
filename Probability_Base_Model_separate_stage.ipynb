{
  "cells": [
    {
      "cell_type": "markdown",
      "metadata": {
        "id": "view-in-github",
        "colab_type": "text"
      },
      "source": [
        "<a href=\"https://colab.research.google.com/github/Geebigib/Data-Science-Project/blob/main/Probability_Base_Model_separate_stage.ipynb\" target=\"_parent\"><img src=\"https://colab.research.google.com/assets/colab-badge.svg\" alt=\"Open In Colab\"/></a>"
      ]
    },
    {
      "cell_type": "code",
      "execution_count": 1,
      "metadata": {
        "colab": {
          "base_uri": "https://localhost:8080/"
        },
        "id": "UzxFI3UZFMBJ",
        "outputId": "28781a88-d91a-423f-94d2-ad6d86f480a4"
      },
      "outputs": [
        {
          "output_type": "stream",
          "name": "stdout",
          "text": [
            "Mounted at /content/drive\n"
          ]
        }
      ],
      "source": [
        "from google.colab import drive\n",
        "drive.mount('/content/drive')"
      ]
    },
    {
      "cell_type": "code",
      "execution_count": 2,
      "metadata": {
        "colab": {
          "base_uri": "https://localhost:8080/"
        },
        "id": "_Cl9RiEXdfTE",
        "outputId": "5ca2e162-a62f-4e78-ebbf-e5c0587319be"
      },
      "outputs": [
        {
          "output_type": "stream",
          "name": "stdout",
          "text": [
            "\u001b[?25l\r\u001b[K     |██▍                             | 10 kB 32.9 MB/s eta 0:00:01\r\u001b[K     |████▉                           | 20 kB 17.0 MB/s eta 0:00:01\r\u001b[K     |███████▎                        | 30 kB 22.8 MB/s eta 0:00:01\r\u001b[K     |█████████▊                      | 40 kB 13.0 MB/s eta 0:00:01\r\u001b[K     |████████████▏                   | 51 kB 12.6 MB/s eta 0:00:01\r\u001b[K     |██████████████▋                 | 61 kB 14.7 MB/s eta 0:00:01\r\u001b[K     |█████████████████               | 71 kB 14.3 MB/s eta 0:00:01\r\u001b[K     |███████████████████▌            | 81 kB 11.6 MB/s eta 0:00:01\r\u001b[K     |██████████████████████          | 92 kB 12.8 MB/s eta 0:00:01\r\u001b[K     |████████████████████████▍       | 102 kB 13.9 MB/s eta 0:00:01\r\u001b[K     |██████████████████████████▉     | 112 kB 13.9 MB/s eta 0:00:01\r\u001b[K     |█████████████████████████████▎  | 122 kB 13.9 MB/s eta 0:00:01\r\u001b[K     |███████████████████████████████▊| 133 kB 13.9 MB/s eta 0:00:01\r\u001b[K     |████████████████████████████████| 134 kB 13.9 MB/s \n",
            "\u001b[?25h  Building wheel for pyod (setup.py) ... \u001b[?25l\u001b[?25hdone\n"
          ]
        }
      ],
      "source": [
        "!pip install pyod --quiet"
      ]
    },
    {
      "cell_type": "code",
      "execution_count": 3,
      "metadata": {
        "colab": {
          "base_uri": "https://localhost:8080/"
        },
        "id": "od9i8uI0btzr",
        "outputId": "eb3d3420-ffb3-4506-f8e3-6859f87a7ae6"
      },
      "outputs": [
        {
          "output_type": "stream",
          "name": "stdout",
          "text": [
            "Archive:  /content/drive/MyDrive/SWaT_Dataset_v0.zip\n",
            "  inflating: /content/SWaT_Dataset_Attack_v0.csv  \n",
            "  inflating: /content/SWaT_Dataset_Normal_v0.csv  \n"
          ]
        }
      ],
      "source": [
        "!unzip /content/drive/MyDrive/SWaT_Dataset_v0.zip -d /content/"
      ]
    },
    {
      "cell_type": "code",
      "execution_count": 407,
      "metadata": {
        "id": "ef09e9a3-bebc-407a-8492-838438b4e288"
      },
      "outputs": [],
      "source": [
        "import numpy as np\n",
        "import os\n",
        "import pandas as pd\n",
        "from glob import glob\n",
        "from sklearn.preprocessing import MinMaxScaler\n",
        "from collections import Counter\n",
        "import pickle\n",
        "import tqdm\n",
        "import matplotlib.pyplot as plt\n",
        "from sklearn import metrics\n",
        "import pyod\n",
        "import seaborn as sns\n",
        "import timeit\n",
        "from sklearn.metrics import confusion_matrix"
      ]
    },
    {
      "cell_type": "markdown",
      "metadata": {
        "id": "kKdqmsEGblq4"
      },
      "source": [
        "Data Pre-processing"
      ]
    },
    {
      "cell_type": "code",
      "execution_count": 5,
      "metadata": {
        "id": "IO6QxPKoJq0H"
      },
      "outputs": [],
      "source": [
        "swat_normal = pd.read_csv(\"SWaT_Dataset_Normal_v0.csv\", skiprows=1)\n",
        "swat_attack = pd.read_csv(\"SWaT_Dataset_Attack_v0.csv\")"
      ]
    },
    {
      "cell_type": "code",
      "execution_count": 6,
      "metadata": {
        "id": "ba1cbb77-2b06-4667-91df-75e8da68b68d"
      },
      "outputs": [],
      "source": [
        "swat_normal.columns = swat_normal.columns.str.replace(' ','')\n",
        "swat_attack.columns = swat_attack.columns.str.replace(' ','')"
      ]
    },
    {
      "cell_type": "code",
      "execution_count": 7,
      "metadata": {
        "id": "dk2m6eZ7fXPO"
      },
      "outputs": [],
      "source": [
        "swat_attack[\"Normal/Attack\"].replace(' ', '', regex=True, inplace=True)"
      ]
    },
    {
      "cell_type": "code",
      "execution_count": 8,
      "metadata": {
        "id": "NKJf4rvncNvR"
      },
      "outputs": [],
      "source": [
        "test_df = swat_attack.set_index('Timestamp')\n",
        "test_df['label'] = np.where(test_df['Normal/Attack'] == 'Attack', 1, 0)\n",
        "\n",
        "test_df = test_df.drop('Normal/Attack', axis=1)\n",
        "\n",
        "train_df = swat_normal.set_index('Timestamp')\n",
        "train_df['label'] = np.where(train_df['Normal/Attack'] == 'Attack', 1, 0)\n",
        "train_df = train_df.drop('Normal/Attack', axis=1)\n",
        "\n",
        "# trim start stage\n",
        "train_df = train_df.iloc[21600:]\n"
      ]
    },
    {
      "cell_type": "code",
      "execution_count": 9,
      "metadata": {
        "id": "IA0qJp-NQn_t"
      },
      "outputs": [],
      "source": [
        "train_df.drop(columns = 'label',inplace = True)\n",
        "label = test_df['label'].values\n",
        "test_df.drop(columns = 'label',inplace = True)"
      ]
    },
    {
      "cell_type": "code",
      "execution_count": 10,
      "metadata": {
        "id": "34ca9ad8-0f02-4764-b864-1b7e9f9fc56d"
      },
      "outputs": [],
      "source": [
        "#normalise data\n",
        "scaler = MinMaxScaler()\n",
        "scaler = scaler.fit(train_df)"
      ]
    },
    {
      "cell_type": "code",
      "execution_count": 11,
      "metadata": {
        "id": "574bbe23-9e71-4079-9b3d-a91b353a5364"
      },
      "outputs": [],
      "source": [
        "train_scale = pd.DataFrame(\n",
        "    scaler.transform(train_df),\n",
        "    index = train_df.index,\n",
        "    columns= train_df.columns\n",
        ")\n",
        "\n",
        "test_scale  = pd.DataFrame(\n",
        "    scaler.transform(test_df),\n",
        "    index = test_df.index,\n",
        "    columns= test_df.columns\n",
        ")"
      ]
    },
    {
      "cell_type": "code",
      "execution_count": 12,
      "metadata": {
        "colab": {
          "base_uri": "https://localhost:8080/"
        },
        "id": "dlpVnPfNQpdk",
        "outputId": "47bf11fc-e706-48d6-e9a3-e9ff0af7498a"
      },
      "outputs": [
        {
          "output_type": "execute_result",
          "data": {
            "text/plain": [
              "((475200, 51), (449919, 51))"
            ]
          },
          "metadata": {},
          "execution_count": 12
        }
      ],
      "source": [
        "train_scale.shape ,test_scale.shape"
      ]
    },
    {
      "cell_type": "code",
      "source": [
        "train_df.columns"
      ],
      "metadata": {
        "colab": {
          "base_uri": "https://localhost:8080/"
        },
        "id": "fRXg_hqqrYP8",
        "outputId": "b242a2e3-1de1-4be8-ada5-9180bc6675a8"
      },
      "execution_count": 13,
      "outputs": [
        {
          "output_type": "execute_result",
          "data": {
            "text/plain": [
              "Index(['FIT101', 'LIT101', 'MV101', 'P101', 'P102', 'AIT201', 'AIT202',\n",
              "       'AIT203', 'FIT201', 'MV201', 'P201', 'P202', 'P203', 'P204', 'P205',\n",
              "       'P206', 'DPIT301', 'FIT301', 'LIT301', 'MV301', 'MV302', 'MV303',\n",
              "       'MV304', 'P301', 'P302', 'AIT401', 'AIT402', 'FIT401', 'LIT401', 'P401',\n",
              "       'P402', 'P403', 'P404', 'UV401', 'AIT501', 'AIT502', 'AIT503', 'AIT504',\n",
              "       'FIT501', 'FIT502', 'FIT503', 'FIT504', 'P501', 'P502', 'PIT501',\n",
              "       'PIT502', 'PIT503', 'FIT601', 'P601', 'P602', 'P603'],\n",
              "      dtype='object')"
            ]
          },
          "metadata": {},
          "execution_count": 13
        }
      ]
    },
    {
      "cell_type": "code",
      "source": [
        "P1 = ['FIT101', 'LIT101', 'MV101', 'P101', 'P102']\n",
        "P2 = ['AIT201', 'AIT202','AIT203', 'FIT201', 'MV201', 'P201', 'P202', 'P203', 'P204', 'P205', 'P206']\n",
        "P3 = ['DPIT301', 'FIT301', 'LIT301', 'MV301', 'MV302', 'MV303', 'MV304', 'P301', 'P302']\n",
        "P4 = ['AIT401', 'AIT402', 'FIT401', 'LIT401', 'P401', 'P402', 'P403', 'P404', 'UV401']\n",
        "P5 = ['AIT501', 'AIT502', 'AIT503', 'AIT504','FIT501', 'FIT502', 'FIT503', 'FIT504', 'P501', 'P502', 'PIT501',\n",
        "       'PIT502', 'PIT503']\n",
        "P6 = ['FIT601', 'P601', 'P602', 'P603']"
      ],
      "metadata": {
        "id": "3VEPGP-KrbU_"
      },
      "execution_count": 14,
      "outputs": []
    },
    {
      "cell_type": "markdown",
      "metadata": {
        "id": "Ci6PSqZjboNE"
      },
      "source": [
        "Model Prediction on each stage"
      ]
    },
    {
      "cell_type": "code",
      "execution_count": 15,
      "metadata": {
        "colab": {
          "base_uri": "https://localhost:8080/"
        },
        "id": "9SngcuRjuWHS",
        "outputId": "1b45dcf5-794e-4177-9931-9f09ca8b082c"
      },
      "outputs": [
        {
          "output_type": "stream",
          "name": "stderr",
          "text": [
            "/usr/local/lib/python3.7/dist-packages/statsmodels/tools/_testing.py:19: FutureWarning: pandas.util.testing is deprecated. Use the functions in the public API at pandas.testing instead.\n",
            "  import pandas.util.testing as tm\n"
          ]
        }
      ],
      "source": [
        "from  pyod.models.ecod import ECOD\n",
        "model = ECOD(contamination=0.000000001)"
      ]
    },
    {
      "cell_type": "code",
      "source": [
        "def get_test_score(stage,train_scale,test_scale):\n",
        "  norm_test_scores = []\n",
        "  test_scores = []\n",
        "  train_scores = []\n",
        "  norm_train_scores = []\n",
        "  trainning_time = []\n",
        "  prediction_time = []\n",
        "\n",
        "  for i in stage:\n",
        "    model = ECOD(contamination=0.000000001)\n",
        "    start = timeit.default_timer()\n",
        "    model.fit(train_scale[i])\n",
        "    end = timeit.default_timer()\n",
        "\n",
        "    train_score = model.decision_scores_\n",
        "    start_pred = timeit.default_timer()\n",
        "    test_score = model.decision_function(test_scale[i])\n",
        "    end_pred = timeit.default_timer()\n",
        "\n",
        "    test_scores.append(test_score)\n",
        "    train_scores.append(train_score)\n",
        "\n",
        "    trainning_time.append(end-start)\n",
        "    prediction_time.append(end_pred-start_pred)\n",
        "\n",
        "    #normalise train&test score\n",
        "    min_train = min(train_score)\n",
        "    max_train = max(train_score)\n",
        "    norm_train = (train_score-min_train)/(max_train-min_train)\n",
        "    norm_test = (test_score - min_train)/(max_train-min_train)\n",
        "\n",
        "    norm_test_scores.append(norm_test)\n",
        "    norm_train_scores.append(norm_train)\n",
        "\n",
        "    print(f\"------ Finish Stage {i} ------\")\n",
        "  return norm_test_scores,test_scores,train_scores,norm_train_scores,trainning_time,prediction_time\n"
      ],
      "metadata": {
        "id": "P6miKK_11BMh"
      },
      "execution_count": 396,
      "outputs": []
    },
    {
      "cell_type": "code",
      "source": [
        "stage = [P1,P2,P3,P4,P5,P6]"
      ],
      "metadata": {
        "id": "IBBOsYne3Oiy"
      },
      "execution_count": 17,
      "outputs": []
    },
    {
      "cell_type": "code",
      "source": [
        "norm_test_scores,test_scores,train_scores,norm_train_scores,trainning_time,prediction_time = get_test_score(stage,train_scale,test_scale)"
      ],
      "metadata": {
        "colab": {
          "base_uri": "https://localhost:8080/"
        },
        "id": "vZYCM4Jh3YlL",
        "outputId": "72bad841-c329-4cfa-84c0-d2ab32c0ffbd"
      },
      "execution_count": 397,
      "outputs": [
        {
          "output_type": "stream",
          "name": "stdout",
          "text": [
            "------ Finish Stage ['FIT101', 'LIT101', 'MV101', 'P101', 'P102'] ------\n",
            "------ Finish Stage ['AIT201', 'AIT202', 'AIT203', 'FIT201', 'MV201', 'P201', 'P202', 'P203', 'P204', 'P205', 'P206'] ------\n",
            "------ Finish Stage ['DPIT301', 'FIT301', 'LIT301', 'MV301', 'MV302', 'MV303', 'MV304', 'P301', 'P302'] ------\n",
            "------ Finish Stage ['AIT401', 'AIT402', 'FIT401', 'LIT401', 'P401', 'P402', 'P403', 'P404', 'UV401'] ------\n",
            "------ Finish Stage ['AIT501', 'AIT502', 'AIT503', 'AIT504', 'FIT501', 'FIT502', 'FIT503', 'FIT504', 'P501', 'P502', 'PIT501', 'PIT502', 'PIT503'] ------\n",
            "------ Finish Stage ['FIT601', 'P601', 'P602', 'P603'] ------\n"
          ]
        }
      ]
    },
    {
      "cell_type": "code",
      "source": [
        "aucs = []\n",
        "for i in range(len(norm_test_scores)):\n",
        "  fpr, tpr, _ = metrics.roc_curve(label,  test_scores[i])\n",
        "  auc = metrics.roc_auc_score(label,  test_scores[i])\n",
        "  aucs.append(auc)\n",
        "  plt.plot(fpr,tpr,label=f\"stage {i+1}\")\n",
        "  plt.ylabel('True Positive Rate')\n",
        "  plt.xlabel('False Positive Rate')\n",
        "  plt.title(f'ECOD Model (6 stages)')\n",
        "  plt.legend(loc=4)"
      ],
      "metadata": {
        "colab": {
          "base_uri": "https://localhost:8080/",
          "height": 295
        },
        "id": "kNjxWxoc4XAL",
        "outputId": "c7192ac6-9698-4936-de0d-3ff6b80e161d"
      },
      "execution_count": 133,
      "outputs": [
        {
          "output_type": "display_data",
          "data": {
            "text/plain": [
              "<Figure size 432x288 with 1 Axes>"
            ],
            "image/png": "[encoded data removed]"
          },
          "metadata": {
            "needs_background": "light"
          }
        }
      ]
    },
    {
      "cell_type": "code",
      "source": [
        "for i in range(len(aucs)):\n",
        "  print(f\"AUC stage{i+1}: {np.round(aucs[i],3)}, training time = {trainning_time[i]}, prediction_time = {prediction_time[i]}\")"
      ],
      "metadata": {
        "colab": {
          "base_uri": "https://localhost:8080/"
        },
        "id": "HyJwupalwEi3",
        "outputId": "9fdec09a-2b70-46a9-e64c-d70a47e4771e"
      },
      "execution_count": 398,
      "outputs": [
        {
          "output_type": "stream",
          "name": "stdout",
          "text": [
            "AUC stage1: 0.805, training time = 0.7211970749995089, prediction_time = 1.4447209049994854\n",
            "AUC stage2: 0.657, training time = 1.1103327050004737, prediction_time = 2.157659894999597\n",
            "AUC stage3: 0.824, training time = 1.0851206369989086, prediction_time = 2.1214021910000156\n",
            "AUC stage4: 0.818, training time = 1.0056592390010337, prediction_time = 2.039138207999713\n",
            "AUC stage5: 0.816, training time = 1.5336330680001993, prediction_time = 3.1522116039996035\n",
            "AUC stage6: 0.413, training time = 0.3952043200006301, prediction_time = 0.8841846979994443\n"
          ]
        }
      ]
    },
    {
      "cell_type": "code",
      "source": [
        "for i in range(len(norm_test_scores)):\n",
        "  plt.hist(norm_test_scores[i], density=True, bins='auto')  # density=False would make counts\n",
        "  plt.ylabel('Probability')\n",
        "  plt.xlabel('Data')\n",
        "  plt.title(f'stage {i+1}')\n",
        "  plt.show()"
      ],
      "metadata": {
        "colab": {
          "base_uri": "https://localhost:8080/",
          "height": 1000
        },
        "id": "ruVNgV6mO4Ce",
        "outputId": "482d7670-f631-43c6-9a4e-dd744a1c754d"
      },
      "execution_count": 144,
      "outputs": [
        {
          "output_type": "display_data",
          "data": {
            "text/plain": [
              "<Figure size 432x288 with 1 Axes>"
            ],
            "image/png": "[encoded data removed]"
          },
          "metadata": {
            "needs_background": "light"
          }
        },
        {
          "output_type": "display_data",
          "data": {
            "text/plain": [
              "<Figure size 432x288 with 1 Axes>"
            ],
            "image/png": "[encoded data removed]"
          },
          "metadata": {
            "needs_background": "light"
          }
        },
        {
          "output_type": "display_data",
          "data": {
            "text/plain": [
              "<Figure size 432x288 with 1 Axes>"
            ],
            "image/png": "[encoded data removed]"
          },
          "metadata": {
            "needs_background": "light"
          }
        },
        {
          "output_type": "display_data",
          "data": {
            "text/plain": [
              "<Figure size 432x288 with 1 Axes>"
            ],
            "image/png": "[encoded data removed]"
          },
          "metadata": {
            "needs_background": "light"
          }
        },
        {
          "output_type": "display_data",
          "data": {
            "text/plain": [
              "<Figure size 432x288 with 1 Axes>"
            ],
            "image/png": "[encoded data removed]"
          },
          "metadata": {
            "needs_background": "light"
          }
        },
        {
          "output_type": "display_data",
          "data": {
            "text/plain": [
              "<Figure size 432x288 with 1 Axes>"
            ],
            "image/png": "[encoded data removed]"
          },
          "metadata": {
            "needs_background": "light"
          }
        }
      ]
    },
    {
      "cell_type": "code",
      "source": [
        "def pred_labels_timewindow(df,threshold,time_window):\n",
        "  n_data = len(df)\n",
        "  pred_label = np.array([_ for _ in range(n_data)])\n",
        "  for i in range(0,n_data-time_window+1):\n",
        "    if (df[i:i+time_window] >= threshold).any():\n",
        "      pred_label[i:i+time_window] = 1\n",
        "    else:\n",
        "      pred_label[i:i+time_window] = 0\n",
        "\n",
        "  return pred_label"
      ],
      "metadata": {
        "id": "i548C9CVYEqK"
      },
      "execution_count": 171,
      "outputs": []
    },
    {
      "cell_type": "code",
      "source": [
        "time_window = 10"
      ],
      "metadata": {
        "id": "-E-F_sOxo7PH"
      },
      "execution_count": 21,
      "outputs": []
    },
    {
      "cell_type": "markdown",
      "source": [
        "##Ture Attack point"
      ],
      "metadata": {
        "id": "16taAvxspeop"
      }
    },
    {
      "cell_type": "code",
      "execution_count": 28,
      "metadata": {
        "id": "UkMB7Bfsb9P6"
      },
      "outputs": [],
      "source": [
        "true_anomaly = pd.read_csv(\"/content/drive/MyDrive/Data_sci_Project/List_of_attacks_Final.csv\")"
      ]
    },
    {
      "cell_type": "code",
      "source": [
        "true_attack = true_anomaly[~true_anomaly[\"End Time\"].isnull()]"
      ],
      "metadata": {
        "id": "EsadR_UCpvIC"
      },
      "execution_count": 45,
      "outputs": []
    },
    {
      "cell_type": "code",
      "source": [
        "true_attack.tail(3)"
      ],
      "metadata": {
        "colab": {
          "base_uri": "https://localhost:8080/",
          "height": 344
        },
        "id": "Bu6_LYhypl-v",
        "outputId": "805d4704-6b4b-4a6b-f8c3-9e0f9b99c5e9"
      },
      "execution_count": 58,
      "outputs": [
        {
          "output_type": "execute_result",
          "data": {
            "text/plain": [
              "   Attack #          Start Time  End Time      Attack Point  \\\n",
              "38       39  2/01/2015 11:43:48  11:50:28  FIT-401, AIT-502   \n",
              "39       40  2/01/2015 11:51:42  11:56:38           FIT-401   \n",
              "40       41  2/01/2015 13:13:02  13:40:56           LIT-301   \n",
              "\n",
              "                    Start State  \\\n",
              "38              In Normal Range   \n",
              "39              In Normal Range   \n",
              "40  Water level between L and H   \n",
              "\n",
              "                                               Attack Actual Change  \\\n",
              "38  Set value of FIT-401 as 0.5; Set value of AIT-...            No   \n",
              "39                          Set value of FIT-401 as 0            No   \n",
              "40                decrease value by 0.5 mm per second            No   \n",
              "\n",
              "           Expected Impact or attacker intent  \\\n",
              "38  UV will shut down and water will go to RO   \n",
              "39  UV will shut down and water will go to RO   \n",
              "40                              Tank overflow   \n",
              "\n",
              "                                   Unexpected Outcome  \n",
              "38                                UV did not shutdown  \n",
              "39    P-402 did not close, both should be interlinked  \n",
              "40  Rate of decrease in water level reduced after ...  "
            ],
            "text/html": [
              "\n",
              "  <div id=\"df-b37968dc-5847-4055-9d2f-6a291f3f8850\">\n",
              "    <div class=\"colab-df-container\">\n",
              "      <div>\n",
              "<style scoped>\n",
              "    .dataframe tbody tr th:only-of-type {\n",
              "        vertical-align: middle;\n",
              "    }\n",
              "\n",
              "    .dataframe tbody tr th {\n",
              "        vertical-align: top;\n",
              "    }\n",
              "\n",
              "    .dataframe thead th {\n",
              "        text-align: right;\n",
              "    }\n",
              "</style>\n",
              "<table border=\"1\" class=\"dataframe\">\n",
              "  <thead>\n",
              "    <tr style=\"text-align: right;\">\n",
              "      <th></th>\n",
              "      <th>Attack #</th>\n",
              "      <th>Start Time</th>\n",
              "      <th>End Time</th>\n",
              "      <th>Attack Point</th>\n",
              "      <th>Start State</th>\n",
              "      <th>Attack</th>\n",
              "      <th>Actual Change</th>\n",
              "      <th>Expected Impact or attacker intent</th>\n",
              "      <th>Unexpected Outcome</th>\n",
              "    </tr>\n",
              "  </thead>\n",
              "  <tbody>\n",
              "    <tr>\n",
              "      <th>38</th>\n",
              "      <td>39</td>\n",
              "      <td>2/01/2015 11:43:48</td>\n",
              "      <td>11:50:28</td>\n",
              "      <td>FIT-401, AIT-502</td>\n",
              "      <td>In Normal Range</td>\n",
              "      <td>Set value of FIT-401 as 0.5; Set value of AIT-...</td>\n",
              "      <td>No</td>\n",
              "      <td>UV will shut down and water will go to RO</td>\n",
              "      <td>UV did not shutdown</td>\n",
              "    </tr>\n",
              "    <tr>\n",
              "      <th>39</th>\n",
              "      <td>40</td>\n",
              "      <td>2/01/2015 11:51:42</td>\n",
              "      <td>11:56:38</td>\n",
              "      <td>FIT-401</td>\n",
              "      <td>In Normal Range</td>\n",
              "      <td>Set value of FIT-401 as 0</td>\n",
              "      <td>No</td>\n",
              "      <td>UV will shut down and water will go to RO</td>\n",
              "      <td>P-402 did not close, both should be interlinked</td>\n",
              "    </tr>\n",
              "    <tr>\n",
              "      <th>40</th>\n",
              "      <td>41</td>\n",
              "      <td>2/01/2015 13:13:02</td>\n",
              "      <td>13:40:56</td>\n",
              "      <td>LIT-301</td>\n",
              "      <td>Water level between L and H</td>\n",
              "      <td>decrease value by 0.5 mm per second</td>\n",
              "      <td>No</td>\n",
              "      <td>Tank overflow</td>\n",
              "      <td>Rate of decrease in water level reduced after ...</td>\n",
              "    </tr>\n",
              "  </tbody>\n",
              "</table>\n",
              "</div>\n",
              "      <button class=\"colab-df-convert\" onclick=\"convertToInteractive('df-b37968dc-5847-4055-9d2f-6a291f3f8850')\"\n",
              "              title=\"Convert this dataframe to an interactive table.\"\n",
              "              style=\"display:none;\">\n",
              "        \n",
              "  <svg xmlns=\"http://www.w3.org/2000/svg\" height=\"24px\"viewBox=\"0 0 24 24\"\n",
              "       width=\"24px\">\n",
              "    <path d=\"M0 0h24v24H0V0z\" fill=\"none\"/>\n",
              "    <path d=\"M18.56 5.44l.94 2.06.94-2.06 2.06-.94-2.06-.94-.94-2.06-.94 2.06-2.06.94zm-11 1L8.5 8.5l.94-2.06 2.06-.94-2.06-.94L8.5 2.5l-.94 2.06-2.06.94zm10 10l.94 2.06.94-2.06 2.06-.94-2.06-.94-.94-2.06-.94 2.06-2.06.94z\"/><path d=\"M17.41 7.96l-1.37-1.37c-.4-.4-.92-.59-1.43-.59-.52 0-1.04.2-1.43.59L10.3 9.45l-7.72 7.72c-.78.78-.78 2.05 0 2.83L4 21.41c.39.39.9.59 1.41.59.51 0 1.02-.2 1.41-.59l7.78-7.78 2.81-2.81c.8-.78.8-2.07 0-2.86zM5.41 20L4 18.59l7.72-7.72 1.47 1.35L5.41 20z\"/>\n",
              "  </svg>\n",
              "      </button>\n",
              "      \n",
              "  <style>\n",
              "    .colab-df-container {\n",
              "      display:flex;\n",
              "      flex-wrap:wrap;\n",
              "      gap: 12px;\n",
              "    }\n",
              "\n",
              "    .colab-df-convert {\n",
              "      background-color: #E8F0FE;\n",
              "      border: none;\n",
              "      border-radius: 50%;\n",
              "      cursor: pointer;\n",
              "      display: none;\n",
              "      fill: #1967D2;\n",
              "      height: 32px;\n",
              "      padding: 0 0 0 0;\n",
              "      width: 32px;\n",
              "    }\n",
              "\n",
              "    .colab-df-convert:hover {\n",
              "      background-color: #E2EBFA;\n",
              "      box-shadow: 0px 1px 2px rgba(60, 64, 67, 0.3), 0px 1px 3px 1px rgba(60, 64, 67, 0.15);\n",
              "      fill: #174EA6;\n",
              "    }\n",
              "\n",
              "    [theme=dark] .colab-df-convert {\n",
              "      background-color: #3B4455;\n",
              "      fill: #D2E3FC;\n",
              "    }\n",
              "\n",
              "    [theme=dark] .colab-df-convert:hover {\n",
              "      background-color: #434B5C;\n",
              "      box-shadow: 0px 1px 3px 1px rgba(0, 0, 0, 0.15);\n",
              "      filter: drop-shadow(0px 1px 2px rgba(0, 0, 0, 0.3));\n",
              "      fill: #FFFFFF;\n",
              "    }\n",
              "  </style>\n",
              "\n",
              "      <script>\n",
              "        const buttonEl =\n",
              "          document.querySelector('#df-b37968dc-5847-4055-9d2f-6a291f3f8850 button.colab-df-convert');\n",
              "        buttonEl.style.display =\n",
              "          google.colab.kernel.accessAllowed ? 'block' : 'none';\n",
              "\n",
              "        async function convertToInteractive(key) {\n",
              "          const element = document.querySelector('#df-b37968dc-5847-4055-9d2f-6a291f3f8850');\n",
              "          const dataTable =\n",
              "            await google.colab.kernel.invokeFunction('convertToInteractive',\n",
              "                                                     [key], {});\n",
              "          if (!dataTable) return;\n",
              "\n",
              "          const docLinkHtml = 'Like what you see? Visit the ' +\n",
              "            '<a target=\"_blank\" href=https://colab.research.google.com/notebooks/data_table.ipynb>data table notebook</a>'\n",
              "            + ' to learn more about interactive tables.';\n",
              "          element.innerHTML = '';\n",
              "          dataTable['output_type'] = 'display_data';\n",
              "          await google.colab.output.renderOutput(dataTable, element);\n",
              "          const docLink = document.createElement('div');\n",
              "          docLink.innerHTML = docLinkHtml;\n",
              "          element.appendChild(docLink);\n",
              "        }\n",
              "      </script>\n",
              "    </div>\n",
              "  </div>\n",
              "  "
            ]
          },
          "metadata": {},
          "execution_count": 58
        }
      ]
    },
    {
      "cell_type": "code",
      "execution_count": 59,
      "metadata": {
        "id": "NgjdE5XqcTxy"
      },
      "outputs": [],
      "source": [
        "start_time = true_attack['Start Time']\n",
        "start_time = pd.to_datetime(start_time)\n",
        "start_time.loc[36:40] = start_time.loc[36:40]+pd.DateOffset(years=1)"
      ]
    },
    {
      "cell_type": "code",
      "execution_count": 60,
      "metadata": {
        "id": "1P5olVV1rdqB"
      },
      "outputs": [],
      "source": [
        "end_time = pd.to_datetime(true_anomaly['End Time'][~true_anomaly[\"End Time\"].isnull()])"
      ]
    },
    {
      "cell_type": "code",
      "execution_count": 61,
      "metadata": {
        "id": "0l5l2XcPwYTM"
      },
      "outputs": [],
      "source": [
        "attack_lenght = (end_time - pd.to_datetime([str(a) for a in start_time.dt.time])).dt.seconds"
      ]
    },
    {
      "cell_type": "code",
      "execution_count": 62,
      "metadata": {
        "colab": {
          "base_uri": "https://localhost:8080/"
        },
        "id": "zeJxJdepq00E",
        "outputId": "a154fcf4-8be8-4b56-8135-5cbdb5fb8693"
      },
      "outputs": [
        {
          "output_type": "execute_result",
          "data": {
            "text/plain": [
              "36"
            ]
          },
          "metadata": {},
          "execution_count": 62
        }
      ],
      "source": [
        "len(start_time) #there are 36 attack"
      ]
    },
    {
      "cell_type": "code",
      "execution_count": 53,
      "metadata": {
        "colab": {
          "base_uri": "https://localhost:8080/"
        },
        "id": "Du8xvw4l8Ybk",
        "outputId": "ea2f823e-4c57-491c-c5d8-a8645061c80c"
      },
      "outputs": [
        {
          "output_type": "execute_result",
          "data": {
            "text/plain": [
              "array([ 1,  2,  3,  4,  6,  7,  8, 10, 11, 13, 14, 16, 17, 19, 20, 21, 22,\n",
              "       23, 24, 25, 26, 27, 28, 29, 30, 31, 32, 33, 34, 35, 36, 37, 38, 39,\n",
              "       40, 41])"
            ]
          },
          "metadata": {},
          "execution_count": 53
        }
      ],
      "source": [
        "start_time.index.values+1"
      ]
    },
    {
      "cell_type": "code",
      "source": [
        "label"
      ],
      "metadata": {
        "colab": {
          "base_uri": "https://localhost:8080/"
        },
        "id": "i20qn_f-Ls50",
        "outputId": "90e41ec3-982b-492b-8689-1a652f15ccb1"
      },
      "execution_count": 329,
      "outputs": [
        {
          "output_type": "execute_result",
          "data": {
            "text/plain": [
              "array([0, 0, 0, ..., 0, 0, 0])"
            ]
          },
          "metadata": {},
          "execution_count": 329
        }
      ]
    },
    {
      "cell_type": "code",
      "source": [
        "time_label = pd.DataFrame(label, index =  test_df.index.values, columns = [\"label\"])\n",
        "time_label.reset_index(inplace=True)\n",
        "time_label.rename(columns = {'index':'Timestamp'}, inplace = True)\n",
        "time_label['Timestamp'] = pd.to_datetime(time_label['Timestamp'])"
      ],
      "metadata": {
        "id": "c3spm3xXrPJb"
      },
      "execution_count": 330,
      "outputs": []
    },
    {
      "cell_type": "code",
      "source": [
        "time_label"
      ],
      "metadata": {
        "colab": {
          "base_uri": "https://localhost:8080/",
          "height": 424
        },
        "id": "ON9RIa3FLuwI",
        "outputId": "bba9ac0e-17b3-4a40-c474-5e8a34cb5a25"
      },
      "execution_count": 331,
      "outputs": [
        {
          "output_type": "execute_result",
          "data": {
            "text/plain": [
              "                 Timestamp  label\n",
              "0      2015-12-28 10:00:00      0\n",
              "1      2015-12-28 10:00:01      0\n",
              "2      2015-12-28 10:00:02      0\n",
              "3      2015-12-28 10:00:03      0\n",
              "4      2015-12-28 10:00:04      0\n",
              "...                    ...    ...\n",
              "449914 2016-02-01 14:59:55      0\n",
              "449915 2016-02-01 14:59:56      0\n",
              "449916 2016-02-01 14:59:57      0\n",
              "449917 2016-02-01 14:59:58      0\n",
              "449918 2016-02-01 14:59:59      0\n",
              "\n",
              "[449919 rows x 2 columns]"
            ],
            "text/html": [
              "\n",
              "  <div id=\"df-7cb4ebd8-55cf-4e7e-ac62-fc592f167239\">\n",
              "    <div class=\"colab-df-container\">\n",
              "      <div>\n",
              "<style scoped>\n",
              "    .dataframe tbody tr th:only-of-type {\n",
              "        vertical-align: middle;\n",
              "    }\n",
              "\n",
              "    .dataframe tbody tr th {\n",
              "        vertical-align: top;\n",
              "    }\n",
              "\n",
              "    .dataframe thead th {\n",
              "        text-align: right;\n",
              "    }\n",
              "</style>\n",
              "<table border=\"1\" class=\"dataframe\">\n",
              "  <thead>\n",
              "    <tr style=\"text-align: right;\">\n",
              "      <th></th>\n",
              "      <th>Timestamp</th>\n",
              "      <th>label</th>\n",
              "    </tr>\n",
              "  </thead>\n",
              "  <tbody>\n",
              "    <tr>\n",
              "      <th>0</th>\n",
              "      <td>2015-12-28 10:00:00</td>\n",
              "      <td>0</td>\n",
              "    </tr>\n",
              "    <tr>\n",
              "      <th>1</th>\n",
              "      <td>2015-12-28 10:00:01</td>\n",
              "      <td>0</td>\n",
              "    </tr>\n",
              "    <tr>\n",
              "      <th>2</th>\n",
              "      <td>2015-12-28 10:00:02</td>\n",
              "      <td>0</td>\n",
              "    </tr>\n",
              "    <tr>\n",
              "      <th>3</th>\n",
              "      <td>2015-12-28 10:00:03</td>\n",
              "      <td>0</td>\n",
              "    </tr>\n",
              "    <tr>\n",
              "      <th>4</th>\n",
              "      <td>2015-12-28 10:00:04</td>\n",
              "      <td>0</td>\n",
              "    </tr>\n",
              "    <tr>\n",
              "      <th>...</th>\n",
              "      <td>...</td>\n",
              "      <td>...</td>\n",
              "    </tr>\n",
              "    <tr>\n",
              "      <th>449914</th>\n",
              "      <td>2016-02-01 14:59:55</td>\n",
              "      <td>0</td>\n",
              "    </tr>\n",
              "    <tr>\n",
              "      <th>449915</th>\n",
              "      <td>2016-02-01 14:59:56</td>\n",
              "      <td>0</td>\n",
              "    </tr>\n",
              "    <tr>\n",
              "      <th>449916</th>\n",
              "      <td>2016-02-01 14:59:57</td>\n",
              "      <td>0</td>\n",
              "    </tr>\n",
              "    <tr>\n",
              "      <th>449917</th>\n",
              "      <td>2016-02-01 14:59:58</td>\n",
              "      <td>0</td>\n",
              "    </tr>\n",
              "    <tr>\n",
              "      <th>449918</th>\n",
              "      <td>2016-02-01 14:59:59</td>\n",
              "      <td>0</td>\n",
              "    </tr>\n",
              "  </tbody>\n",
              "</table>\n",
              "<p>449919 rows × 2 columns</p>\n",
              "</div>\n",
              "      <button class=\"colab-df-convert\" onclick=\"convertToInteractive('df-7cb4ebd8-55cf-4e7e-ac62-fc592f167239')\"\n",
              "              title=\"Convert this dataframe to an interactive table.\"\n",
              "              style=\"display:none;\">\n",
              "        \n",
              "  <svg xmlns=\"http://www.w3.org/2000/svg\" height=\"24px\"viewBox=\"0 0 24 24\"\n",
              "       width=\"24px\">\n",
              "    <path d=\"M0 0h24v24H0V0z\" fill=\"none\"/>\n",
              "    <path d=\"M18.56 5.44l.94 2.06.94-2.06 2.06-.94-2.06-.94-.94-2.06-.94 2.06-2.06.94zm-11 1L8.5 8.5l.94-2.06 2.06-.94-2.06-.94L8.5 2.5l-.94 2.06-2.06.94zm10 10l.94 2.06.94-2.06 2.06-.94-2.06-.94-.94-2.06-.94 2.06-2.06.94z\"/><path d=\"M17.41 7.96l-1.37-1.37c-.4-.4-.92-.59-1.43-.59-.52 0-1.04.2-1.43.59L10.3 9.45l-7.72 7.72c-.78.78-.78 2.05 0 2.83L4 21.41c.39.39.9.59 1.41.59.51 0 1.02-.2 1.41-.59l7.78-7.78 2.81-2.81c.8-.78.8-2.07 0-2.86zM5.41 20L4 18.59l7.72-7.72 1.47 1.35L5.41 20z\"/>\n",
              "  </svg>\n",
              "      </button>\n",
              "      \n",
              "  <style>\n",
              "    .colab-df-container {\n",
              "      display:flex;\n",
              "      flex-wrap:wrap;\n",
              "      gap: 12px;\n",
              "    }\n",
              "\n",
              "    .colab-df-convert {\n",
              "      background-color: #E8F0FE;\n",
              "      border: none;\n",
              "      border-radius: 50%;\n",
              "      cursor: pointer;\n",
              "      display: none;\n",
              "      fill: #1967D2;\n",
              "      height: 32px;\n",
              "      padding: 0 0 0 0;\n",
              "      width: 32px;\n",
              "    }\n",
              "\n",
              "    .colab-df-convert:hover {\n",
              "      background-color: #E2EBFA;\n",
              "      box-shadow: 0px 1px 2px rgba(60, 64, 67, 0.3), 0px 1px 3px 1px rgba(60, 64, 67, 0.15);\n",
              "      fill: #174EA6;\n",
              "    }\n",
              "\n",
              "    [theme=dark] .colab-df-convert {\n",
              "      background-color: #3B4455;\n",
              "      fill: #D2E3FC;\n",
              "    }\n",
              "\n",
              "    [theme=dark] .colab-df-convert:hover {\n",
              "      background-color: #434B5C;\n",
              "      box-shadow: 0px 1px 3px 1px rgba(0, 0, 0, 0.15);\n",
              "      filter: drop-shadow(0px 1px 2px rgba(0, 0, 0, 0.3));\n",
              "      fill: #FFFFFF;\n",
              "    }\n",
              "  </style>\n",
              "\n",
              "      <script>\n",
              "        const buttonEl =\n",
              "          document.querySelector('#df-7cb4ebd8-55cf-4e7e-ac62-fc592f167239 button.colab-df-convert');\n",
              "        buttonEl.style.display =\n",
              "          google.colab.kernel.accessAllowed ? 'block' : 'none';\n",
              "\n",
              "        async function convertToInteractive(key) {\n",
              "          const element = document.querySelector('#df-7cb4ebd8-55cf-4e7e-ac62-fc592f167239');\n",
              "          const dataTable =\n",
              "            await google.colab.kernel.invokeFunction('convertToInteractive',\n",
              "                                                     [key], {});\n",
              "          if (!dataTable) return;\n",
              "\n",
              "          const docLinkHtml = 'Like what you see? Visit the ' +\n",
              "            '<a target=\"_blank\" href=https://colab.research.google.com/notebooks/data_table.ipynb>data table notebook</a>'\n",
              "            + ' to learn more about interactive tables.';\n",
              "          element.innerHTML = '';\n",
              "          dataTable['output_type'] = 'display_data';\n",
              "          await google.colab.output.renderOutput(dataTable, element);\n",
              "          const docLink = document.createElement('div');\n",
              "          docLink.innerHTML = docLinkHtml;\n",
              "          element.appendChild(docLink);\n",
              "        }\n",
              "      </script>\n",
              "    </div>\n",
              "  </div>\n",
              "  "
            ]
          },
          "metadata": {},
          "execution_count": 331
        }
      ]
    },
    {
      "cell_type": "code",
      "execution_count": 332,
      "metadata": {
        "id": "FiKi5uU2lcqS"
      },
      "outputs": [],
      "source": [
        "#find start index/ end index of attack\n",
        "idx_start = time_label[time_label['Timestamp'].isin(start_time)]['Timestamp'].index.values \n",
        "idx_end = idx_start+attack_lenght.values"
      ]
    },
    {
      "cell_type": "code",
      "source": [
        "idx_start"
      ],
      "metadata": {
        "colab": {
          "base_uri": "https://localhost:8080/"
        },
        "id": "NTjIc-fIrUzA",
        "outputId": "cd43b45c-55a3-4623-b73a-3186a0386081"
      },
      "execution_count": 333,
      "outputs": [
        {
          "output_type": "execute_result",
          "data": {
            "text/plain": [
              "array([  1754,   3068,   4920,   6459,   7255,   7705,  11410,  15380,\n",
              "        15540,  90685,  92140,  93445, 103092, 115843, 116143, 117000,\n",
              "       132918, 142954, 172268, 172910, 198296, 227828, 229519, 279120,\n",
              "       280060, 302653, 347679, 361191, 371479, 371855, 389680, 436541,\n",
              "       437417, 438147, 438621, 443501])"
            ]
          },
          "metadata": {},
          "execution_count": 333
        }
      ]
    },
    {
      "cell_type": "code",
      "execution_count": 334,
      "metadata": {
        "colab": {
          "base_uri": "https://localhost:8080/"
        },
        "id": "Z7IsUesRya6F",
        "outputId": "b2064e5a-3fb0-4bea-a479-3dea21c5954a"
      },
      "outputs": [
        {
          "output_type": "stream",
          "name": "stderr",
          "text": [
            "/usr/local/lib/python3.7/dist-packages/pandas/core/indexing.py:1732: SettingWithCopyWarning: \n",
            "A value is trying to be set on a copy of a slice from a DataFrame\n",
            "\n",
            "See the caveats in the documentation: https://pandas.pydata.org/pandas-docs/stable/user_guide/indexing.html#returning-a-view-versus-a-copy\n",
            "  self._setitem_single_block(indexer, value, name)\n"
          ]
        }
      ],
      "source": [
        "time_label['attack #'] = 0\n",
        "for i in range (len(idx_start)):\n",
        "  time_label['attack #'].loc[idx_start[i]:idx_end[i]] = attack_lenght.index.values[i]+1"
      ]
    },
    {
      "cell_type": "markdown",
      "source": [
        "##Stage P1"
      ],
      "metadata": {
        "id": "n9JyPvk7om8S"
      }
    },
    {
      "cell_type": "code",
      "source": [
        "t1 = np.percentile(norm_test_scores[0],90)"
      ],
      "metadata": {
        "id": "NofvUVHioo_8"
      },
      "execution_count": 335,
      "outputs": []
    },
    {
      "cell_type": "code",
      "source": [
        "label_1 = pred_labels_timewindow(norm_test_scores[0],t1,time_window)"
      ],
      "metadata": {
        "id": "OqDE2bJyYF98"
      },
      "execution_count": 336,
      "outputs": []
    },
    {
      "cell_type": "code",
      "source": [
        "time_label[\"pred_1\"] = label_1"
      ],
      "metadata": {
        "id": "5XH6aUzGvh0i"
      },
      "execution_count": 337,
      "outputs": []
    },
    {
      "cell_type": "code",
      "source": [
        "att_p1 = time_label[time_label['attack #'].isin([1,2,3,21,26,30,33,34,35,36])]"
      ],
      "metadata": {
        "id": "XoLuXGnOu64T"
      },
      "execution_count": 338,
      "outputs": []
    },
    {
      "cell_type": "code",
      "source": [
        "fpr, tpr, _ = metrics.roc_curve(label, norm_test_scores[0])\n",
        "auc = metrics.roc_auc_score(label, norm_test_scores[0])\n",
        "plt.plot(fpr,tpr,label=f\"stage 1, auc = {np.round(auc,2)}\")\n",
        "plt.ylabel('True Positive Rate')\n",
        "plt.xlabel('False Positive Rate')\n",
        "plt.title(f'ECOD Model')\n",
        "plt.legend(loc=4)"
      ],
      "metadata": {
        "colab": {
          "base_uri": "https://localhost:8080/",
          "height": 312
        },
        "id": "REsMtOh7o6ph",
        "outputId": "a5afbe20-ffaf-4395-d818-b70013fb6f80"
      },
      "execution_count": 339,
      "outputs": [
        {
          "output_type": "execute_result",
          "data": {
            "text/plain": [
              "<matplotlib.legend.Legend at 0x7f27e4cac5d0>"
            ]
          },
          "metadata": {},
          "execution_count": 339
        },
        {
          "output_type": "display_data",
          "data": {
            "text/plain": [
              "<Figure size 432x288 with 1 Axes>"
            ],
            "image/png": "[encoded data removed]"
          },
          "metadata": {
            "needs_background": "light"
          }
        }
      ]
    },
    {
      "cell_type": "code",
      "source": [
        "print(metrics.classification_report(label,label_1))"
      ],
      "metadata": {
        "colab": {
          "base_uri": "https://localhost:8080/"
        },
        "id": "IExsHyljpU2C",
        "outputId": "615657a0-5b51-40e9-c652-ee3de1e03375"
      },
      "execution_count": 340,
      "outputs": [
        {
          "output_type": "stream",
          "name": "stdout",
          "text": [
            "              precision    recall  f1-score   support\n",
            "\n",
            "           0       0.94      0.85      0.89    395298\n",
            "           1       0.35      0.57      0.44     54621\n",
            "\n",
            "    accuracy                           0.82    449919\n",
            "   macro avg       0.64      0.71      0.66    449919\n",
            "weighted avg       0.86      0.82      0.84    449919\n",
            "\n"
          ]
        }
      ]
    },
    {
      "cell_type": "code",
      "source": [
        "cm = confusion_matrix(label,label_1)\n",
        "print(cm)\n",
        "ax = sns.heatmap(cm/np.sum(cm), annot=True, \n",
        "            fmt='.2%', cmap='Blues')\n",
        "\n",
        "ax.set_title('Confusion Matrix for stage 3');\n",
        "ax.set_xlabel('\\nPredicted Values')\n",
        "ax.set_ylabel('Actual Values ');\n",
        "\n",
        "## Ticket labels - List must be in alphabetical order\n",
        "ax.xaxis.set_ticklabels(['False','True'])\n",
        "ax.yaxis.set_ticklabels(['False','True'])\n",
        "\n",
        "## Display the visualization of the Confusion Matrix.\n",
        "plt.show()"
      ],
      "metadata": {
        "colab": {
          "base_uri": "https://localhost:8080/",
          "height": 342
        },
        "id": "2itaK-oK6kLR",
        "outputId": "6305523f-fa9e-4e94-ff99-dc7aff396499"
      },
      "execution_count": 430,
      "outputs": [
        {
          "output_type": "stream",
          "name": "stdout",
          "text": [
            "[[337055  58243]\n",
            " [ 23219  31402]]\n"
          ]
        },
        {
          "output_type": "display_data",
          "data": {
            "text/plain": [
              "<Figure size 432x288 with 2 Axes>"
            ],
            "image/png": "[encoded data removed]"
          },
          "metadata": {
            "needs_background": "light"
          }
        }
      ]
    },
    {
      "cell_type": "code",
      "source": [
        "print(metrics.classification_report(att_p1.label,att_p1.pred_1))"
      ],
      "metadata": {
        "colab": {
          "base_uri": "https://localhost:8080/"
        },
        "id": "iVfx4Cu_cJ41",
        "outputId": "818f4ac9-77bb-4f05-e419-eb326cf1c442"
      },
      "execution_count": 410,
      "outputs": [
        {
          "output_type": "stream",
          "name": "stdout",
          "text": [
            "              precision    recall  f1-score   support\n",
            "\n",
            "           0       0.00      0.00      0.00         0\n",
            "           1       1.00      0.73      0.85      6669\n",
            "\n",
            "    accuracy                           0.73      6669\n",
            "   macro avg       0.50      0.37      0.42      6669\n",
            "weighted avg       1.00      0.73      0.85      6669\n",
            "\n"
          ]
        },
        {
          "output_type": "stream",
          "name": "stderr",
          "text": [
            "/usr/local/lib/python3.7/dist-packages/sklearn/metrics/_classification.py:1318: UndefinedMetricWarning: Recall and F-score are ill-defined and being set to 0.0 in labels with no true samples. Use `zero_division` parameter to control this behavior.\n",
            "  _warn_prf(average, modifier, msg_start, len(result))\n",
            "/usr/local/lib/python3.7/dist-packages/sklearn/metrics/_classification.py:1318: UndefinedMetricWarning: Recall and F-score are ill-defined and being set to 0.0 in labels with no true samples. Use `zero_division` parameter to control this behavior.\n",
            "  _warn_prf(average, modifier, msg_start, len(result))\n",
            "/usr/local/lib/python3.7/dist-packages/sklearn/metrics/_classification.py:1318: UndefinedMetricWarning: Recall and F-score are ill-defined and being set to 0.0 in labels with no true samples. Use `zero_division` parameter to control this behavior.\n",
            "  _warn_prf(average, modifier, msg_start, len(result))\n"
          ]
        }
      ]
    },
    {
      "cell_type": "code",
      "source": [
        "found = []\n",
        "for i in range(len(att_p1)):\n",
        "  if (att_p1.iloc[i][\"pred_1\"] == 1) & (att_p1.iloc[i][\"label\"] == 1):\n",
        "    found.append(att_p1.iloc[i][\"attack #\"])\n",
        "print(np.unique(found))"
      ],
      "metadata": {
        "colab": {
          "base_uri": "https://localhost:8080/"
        },
        "id": "yBVIuzFv5UQa",
        "outputId": "5c60bdc8-588c-40a0-8232-a3bd70919ede"
      },
      "execution_count": 341,
      "outputs": [
        {
          "output_type": "stream",
          "name": "stdout",
          "text": [
            "[ 1  2  3 21 26 30 33 34 35 36]\n"
          ]
        }
      ]
    },
    {
      "cell_type": "code",
      "source": [
        "np.unique(att_p1[\"attack #\"])"
      ],
      "metadata": {
        "colab": {
          "base_uri": "https://localhost:8080/"
        },
        "id": "yESJGCjO5yxD",
        "outputId": "876e9663-404e-4db7-a1b7-e7543aa67347"
      },
      "execution_count": 342,
      "outputs": [
        {
          "output_type": "execute_result",
          "data": {
            "text/plain": [
              "array([ 1,  2,  3, 21, 26, 30, 33, 34, 35, 36])"
            ]
          },
          "metadata": {},
          "execution_count": 342
        }
      ]
    },
    {
      "cell_type": "markdown",
      "source": [
        "##Stage P2"
      ],
      "metadata": {
        "id": "JpT-YCC8uQzO"
      }
    },
    {
      "cell_type": "code",
      "source": [
        "t2 = np.percentile(norm_test_scores[1],90)"
      ],
      "metadata": {
        "id": "lyLzEPAtuQzP"
      },
      "execution_count": 343,
      "outputs": []
    },
    {
      "cell_type": "code",
      "source": [
        "t2"
      ],
      "metadata": {
        "colab": {
          "base_uri": "https://localhost:8080/"
        },
        "id": "lBbSMiXB2ggo",
        "outputId": "0b8994a0-263e-4058-daa4-871574fec3d4"
      },
      "execution_count": 344,
      "outputs": [
        {
          "output_type": "execute_result",
          "data": {
            "text/plain": [
              "0.5536130346204002"
            ]
          },
          "metadata": {},
          "execution_count": 344
        }
      ]
    },
    {
      "cell_type": "code",
      "source": [
        "label_2 = pred_labels_timewindow(norm_test_scores[1],t2,time_window)"
      ],
      "metadata": {
        "id": "DTUPJXRauQzP"
      },
      "execution_count": 345,
      "outputs": []
    },
    {
      "cell_type": "code",
      "source": [
        "print(metrics.classification_report(label,label_2))"
      ],
      "metadata": {
        "colab": {
          "base_uri": "https://localhost:8080/"
        },
        "outputId": "a8a24b45-e1f8-4d2f-95a2-54e547513dcd",
        "id": "_q4ynBiJuQzP"
      },
      "execution_count": 346,
      "outputs": [
        {
          "output_type": "stream",
          "name": "stdout",
          "text": [
            "              precision    recall  f1-score   support\n",
            "\n",
            "           0       0.87      0.88      0.88    395298\n",
            "           1       0.06      0.05      0.05     54621\n",
            "\n",
            "    accuracy                           0.78    449919\n",
            "   macro avg       0.46      0.47      0.47    449919\n",
            "weighted avg       0.77      0.78      0.78    449919\n",
            "\n"
          ]
        }
      ]
    },
    {
      "cell_type": "code",
      "source": [
        "cm = confusion_matrix(label,label_2)\n",
        "print(cm)\n",
        "ax = sns.heatmap(cm/np.sum(cm), annot=True, \n",
        "            fmt='.2%', cmap='Blues')\n",
        "\n",
        "ax.set_title('Confusion Matrix for stage 3');\n",
        "ax.set_xlabel('\\nPredicted Values')\n",
        "ax.set_ylabel('Actual Values ');\n",
        "\n",
        "## Ticket labels - List must be in alphabetical order\n",
        "ax.xaxis.set_ticklabels(['False','True'])\n",
        "ax.yaxis.set_ticklabels(['False','True'])\n",
        "\n",
        "## Display the visualization of the Confusion Matrix.\n",
        "plt.show()"
      ],
      "metadata": {
        "colab": {
          "base_uri": "https://localhost:8080/",
          "height": 342
        },
        "id": "DfgFArMJ6aij",
        "outputId": "8ecd2cc9-a4e2-41dd-fe62-25ea0f0d9001"
      },
      "execution_count": 427,
      "outputs": [
        {
          "output_type": "stream",
          "name": "stdout",
          "text": [
            "[[349036  46262]\n",
            " [ 51850   2771]]\n"
          ]
        },
        {
          "output_type": "display_data",
          "data": {
            "text/plain": [
              "<Figure size 432x288 with 2 Axes>"
            ],
            "image/png": "[encoded data removed]"
          },
          "metadata": {
            "needs_background": "light"
          }
        }
      ]
    },
    {
      "cell_type": "code",
      "source": [
        "time_label[\"pred_2\"] = label_2"
      ],
      "metadata": {
        "id": "OVuUEEr14DWx"
      },
      "execution_count": 347,
      "outputs": []
    },
    {
      "cell_type": "code",
      "source": [
        "att_p2 = time_label[time_label['attack #'].isin([6,24,29])]"
      ],
      "metadata": {
        "id": "prsn-Al76BqP"
      },
      "execution_count": 348,
      "outputs": []
    },
    {
      "cell_type": "code",
      "source": [
        "found = []\n",
        "for i in range(len(att_p2)):\n",
        "  if (att_p2.iloc[i][\"pred_2\"] == 1) & (att_p2.iloc[i][\"label\"] == 1):\n",
        "    found.append(att_p2.iloc[i][\"attack #\"])\n",
        "print(np.unique(found))"
      ],
      "metadata": {
        "colab": {
          "base_uri": "https://localhost:8080/"
        },
        "id": "9PztubxX6T5o",
        "outputId": "d434021e-00cf-4dc9-a9e9-0b11909090af"
      },
      "execution_count": 349,
      "outputs": [
        {
          "output_type": "stream",
          "name": "stdout",
          "text": [
            "[24]\n"
          ]
        }
      ]
    },
    {
      "cell_type": "code",
      "source": [
        "print(metrics.classification_report(att_p2.label,att_p2.pred_2))"
      ],
      "metadata": {
        "colab": {
          "base_uri": "https://localhost:8080/"
        },
        "id": "sW_wM7LLcYFW",
        "outputId": "ae8288f4-af61-479b-d74d-83cb2ebe9d78"
      },
      "execution_count": 411,
      "outputs": [
        {
          "output_type": "stream",
          "name": "stdout",
          "text": [
            "              precision    recall  f1-score   support\n",
            "\n",
            "           0       0.00      0.00      0.00         0\n",
            "           1       1.00      0.09      0.16       638\n",
            "\n",
            "    accuracy                           0.09       638\n",
            "   macro avg       0.50      0.04      0.08       638\n",
            "weighted avg       1.00      0.09      0.16       638\n",
            "\n"
          ]
        },
        {
          "output_type": "stream",
          "name": "stderr",
          "text": [
            "/usr/local/lib/python3.7/dist-packages/sklearn/metrics/_classification.py:1318: UndefinedMetricWarning: Recall and F-score are ill-defined and being set to 0.0 in labels with no true samples. Use `zero_division` parameter to control this behavior.\n",
            "  _warn_prf(average, modifier, msg_start, len(result))\n",
            "/usr/local/lib/python3.7/dist-packages/sklearn/metrics/_classification.py:1318: UndefinedMetricWarning: Recall and F-score are ill-defined and being set to 0.0 in labels with no true samples. Use `zero_division` parameter to control this behavior.\n",
            "  _warn_prf(average, modifier, msg_start, len(result))\n",
            "/usr/local/lib/python3.7/dist-packages/sklearn/metrics/_classification.py:1318: UndefinedMetricWarning: Recall and F-score are ill-defined and being set to 0.0 in labels with no true samples. Use `zero_division` parameter to control this behavior.\n",
            "  _warn_prf(average, modifier, msg_start, len(result))\n"
          ]
        }
      ]
    },
    {
      "cell_type": "markdown",
      "source": [
        "##Stage P3"
      ],
      "metadata": {
        "id": "2FE2Z4gb5ODA"
      }
    },
    {
      "cell_type": "code",
      "source": [
        "t3 = np.percentile(norm_test_scores[2],90)"
      ],
      "metadata": {
        "id": "NzlyqD3K5ODA"
      },
      "execution_count": 350,
      "outputs": []
    },
    {
      "cell_type": "code",
      "source": [
        "t3"
      ],
      "metadata": {
        "colab": {
          "base_uri": "https://localhost:8080/"
        },
        "outputId": "c1878cd2-7ebc-4430-db74-a547053a6cfe",
        "id": "q1B-RRsg5ODB"
      },
      "execution_count": 351,
      "outputs": [
        {
          "output_type": "execute_result",
          "data": {
            "text/plain": [
              "0.46085872462594535"
            ]
          },
          "metadata": {},
          "execution_count": 351
        }
      ]
    },
    {
      "cell_type": "code",
      "source": [
        "label_3 = pred_labels_timewindow(norm_test_scores[2],t3,time_window)"
      ],
      "metadata": {
        "id": "vJgpLzdv5ODB"
      },
      "execution_count": 352,
      "outputs": []
    },
    {
      "cell_type": "code",
      "source": [
        "print(metrics.classification_report(label,label_3))"
      ],
      "metadata": {
        "colab": {
          "base_uri": "https://localhost:8080/"
        },
        "outputId": "37b459e2-5d10-40f0-edae-64d766c3c77a",
        "id": "NskqSG9n5ODB"
      },
      "execution_count": 353,
      "outputs": [
        {
          "output_type": "stream",
          "name": "stdout",
          "text": [
            "              precision    recall  f1-score   support\n",
            "\n",
            "           0       0.95      0.95      0.95    395298\n",
            "           1       0.65      0.64      0.65     54621\n",
            "\n",
            "    accuracy                           0.92    449919\n",
            "   macro avg       0.80      0.80      0.80    449919\n",
            "weighted avg       0.91      0.92      0.91    449919\n",
            "\n"
          ]
        }
      ]
    },
    {
      "cell_type": "code",
      "source": [
        "cm = confusion_matrix(label,label_3)\n",
        "print(cm)\n",
        "ax = sns.heatmap(cm/np.sum(cm), annot=True, \n",
        "            fmt='.2%', cmap='Blues')\n",
        "\n",
        "ax.set_title('Confusion Matrix for stage 3');\n",
        "ax.set_xlabel('\\nPredicted Values')\n",
        "ax.set_ylabel('Actual Values ');\n",
        "\n",
        "## Ticket labels - List must be in alphabetical order\n",
        "ax.xaxis.set_ticklabels(['False','True'])\n",
        "ax.yaxis.set_ticklabels(['False','True'])\n",
        "\n",
        "## Display the visualization of the Confusion Matrix.\n",
        "plt.show()"
      ],
      "metadata": {
        "colab": {
          "base_uri": "https://localhost:8080/",
          "height": 342
        },
        "id": "g-k-WV5A6QGX",
        "outputId": "1f0d8444-2cd2-4e53-c7a4-dee0f35a0c74"
      },
      "execution_count": 426,
      "outputs": [
        {
          "output_type": "stream",
          "name": "stdout",
          "text": [
            "[[376972  18326]\n",
            " [ 19833  34788]]\n"
          ]
        },
        {
          "output_type": "display_data",
          "data": {
            "text/plain": [
              "<Figure size 432x288 with 2 Axes>"
            ],
            "image/png": "[encoded data removed]"
          },
          "metadata": {
            "needs_background": "light"
          }
        }
      ]
    },
    {
      "cell_type": "code",
      "source": [
        "time_label[\"pred_3\"] = label_3"
      ],
      "metadata": {
        "id": "eYC3zDR65ODC"
      },
      "execution_count": 354,
      "outputs": []
    },
    {
      "cell_type": "code",
      "source": [
        "att_p3 = time_label[time_label['attack #'].isin([7,8,13,14,16,17,23,26,27,28,32,41])]"
      ],
      "metadata": {
        "id": "Aiwq5sXc6rlM"
      },
      "execution_count": 355,
      "outputs": []
    },
    {
      "cell_type": "code",
      "source": [
        "found = []\n",
        "for i in range(len(att_p3)):\n",
        "  if (att_p3.iloc[i][\"pred_3\"] == 1) & (att_p3.iloc[i][\"label\"] == 1):\n",
        "    found.append(att_p3.iloc[i][\"attack #\"])\n",
        "print(np.unique(found))"
      ],
      "metadata": {
        "colab": {
          "base_uri": "https://localhost:8080/"
        },
        "id": "2Z2HBlPd6-8-",
        "outputId": "04930478-e253-496e-e1fd-ac03027e20f2"
      },
      "execution_count": 356,
      "outputs": [
        {
          "output_type": "stream",
          "name": "stdout",
          "text": [
            "[ 8 17 23 26 28 41]\n"
          ]
        }
      ]
    },
    {
      "cell_type": "code",
      "source": [
        "print(metrics.classification_report(att_p3.label,att_p3.pred_3))"
      ],
      "metadata": {
        "colab": {
          "base_uri": "https://localhost:8080/"
        },
        "id": "QJ1_xBGBcdRY",
        "outputId": "69a6aac5-7e3c-4b64-a1be-941919249831"
      },
      "execution_count": 412,
      "outputs": [
        {
          "output_type": "stream",
          "name": "stdout",
          "text": [
            "              precision    recall  f1-score   support\n",
            "\n",
            "           0       0.00      0.00      0.00         0\n",
            "           1       1.00      0.79      0.88     43368\n",
            "\n",
            "    accuracy                           0.79     43368\n",
            "   macro avg       0.50      0.39      0.44     43368\n",
            "weighted avg       1.00      0.79      0.88     43368\n",
            "\n"
          ]
        },
        {
          "output_type": "stream",
          "name": "stderr",
          "text": [
            "/usr/local/lib/python3.7/dist-packages/sklearn/metrics/_classification.py:1318: UndefinedMetricWarning: Recall and F-score are ill-defined and being set to 0.0 in labels with no true samples. Use `zero_division` parameter to control this behavior.\n",
            "  _warn_prf(average, modifier, msg_start, len(result))\n",
            "/usr/local/lib/python3.7/dist-packages/sklearn/metrics/_classification.py:1318: UndefinedMetricWarning: Recall and F-score are ill-defined and being set to 0.0 in labels with no true samples. Use `zero_division` parameter to control this behavior.\n",
            "  _warn_prf(average, modifier, msg_start, len(result))\n",
            "/usr/local/lib/python3.7/dist-packages/sklearn/metrics/_classification.py:1318: UndefinedMetricWarning: Recall and F-score are ill-defined and being set to 0.0 in labels with no true samples. Use `zero_division` parameter to control this behavior.\n",
            "  _warn_prf(average, modifier, msg_start, len(result))\n"
          ]
        }
      ]
    },
    {
      "cell_type": "markdown",
      "source": [
        "##Stage P4"
      ],
      "metadata": {
        "id": "2HaB5ef_8vdq"
      }
    },
    {
      "cell_type": "code",
      "source": [
        "t4 = np.percentile(norm_test_scores[3],90)"
      ],
      "metadata": {
        "id": "_HSkMfWh8vdr"
      },
      "execution_count": 357,
      "outputs": []
    },
    {
      "cell_type": "code",
      "source": [
        "t4"
      ],
      "metadata": {
        "colab": {
          "base_uri": "https://localhost:8080/"
        },
        "outputId": "41a71f74-bc50-46a4-8292-0da193e50e74",
        "id": "4r_K_vqx8vdr"
      },
      "execution_count": 358,
      "outputs": [
        {
          "output_type": "execute_result",
          "data": {
            "text/plain": [
              "0.38412817027080626"
            ]
          },
          "metadata": {},
          "execution_count": 358
        }
      ]
    },
    {
      "cell_type": "code",
      "source": [
        "label_4 = pred_labels_timewindow(norm_test_scores[3],t4,time_window)"
      ],
      "metadata": {
        "id": "Zyw8NqRy8vdr"
      },
      "execution_count": 359,
      "outputs": []
    },
    {
      "cell_type": "code",
      "source": [
        "print(metrics.classification_report(label,label_4))"
      ],
      "metadata": {
        "colab": {
          "base_uri": "https://localhost:8080/"
        },
        "outputId": "835cc053-fc14-48e0-aa22-d683ee905cf5",
        "id": "7ppBKeUl8vdr"
      },
      "execution_count": 360,
      "outputs": [
        {
          "output_type": "stream",
          "name": "stdout",
          "text": [
            "              precision    recall  f1-score   support\n",
            "\n",
            "           0       0.95      0.96      0.95    395298\n",
            "           1       0.68      0.63      0.65     54621\n",
            "\n",
            "    accuracy                           0.92    449919\n",
            "   macro avg       0.81      0.79      0.80    449919\n",
            "weighted avg       0.92      0.92      0.92    449919\n",
            "\n"
          ]
        }
      ]
    },
    {
      "cell_type": "code",
      "source": [
        "cm = confusion_matrix(label,label_4)\n",
        "print(cm)\n",
        "ax = sns.heatmap(cm/np.sum(cm), annot=True, \n",
        "            fmt='.2%', cmap='Blues')\n",
        "\n",
        "ax.set_title('Confusion Matrix for stage 4');\n",
        "ax.set_xlabel('\\nPredicted Values')\n",
        "ax.set_ylabel('Actual Values ');\n",
        "\n",
        "## Ticket labels - List must be in alphabetical order\n",
        "ax.xaxis.set_ticklabels(['False','True'])\n",
        "ax.yaxis.set_ticklabels(['False','True'])\n",
        "\n",
        "## Display the visualization of the Confusion Matrix.\n",
        "plt.show()"
      ],
      "metadata": {
        "colab": {
          "base_uri": "https://localhost:8080/",
          "height": 342
        },
        "id": "9CBNBNWX58eR",
        "outputId": "c0bc78fc-a5bc-4f9d-8a9f-2d4d0399a782"
      },
      "execution_count": 423,
      "outputs": [
        {
          "output_type": "stream",
          "name": "stdout",
          "text": [
            "[[379186  16112]\n",
            " [ 20267  34354]]\n"
          ]
        },
        {
          "output_type": "display_data",
          "data": {
            "text/plain": [
              "<Figure size 432x288 with 2 Axes>"
            ],
            "image/png": "[encoded data removed]"
          },
          "metadata": {
            "needs_background": "light"
          }
        }
      ]
    },
    {
      "cell_type": "code",
      "source": [
        "time_label[\"pred_4\"] = label_4"
      ],
      "metadata": {
        "id": "hzKZkXjN8vds"
      },
      "execution_count": 361,
      "outputs": []
    },
    {
      "cell_type": "code",
      "source": [
        "att_p4 = time_label[time_label['attack #'].isin([10,11,22,25,31,38,39,40])]"
      ],
      "metadata": {
        "id": "_Vv-qqUF8vds"
      },
      "execution_count": 362,
      "outputs": []
    },
    {
      "cell_type": "code",
      "source": [
        "found = []\n",
        "for i in range(len(att_p4)):\n",
        "  if (att_p4.iloc[i][\"pred_4\"] == 1) & (att_p4.iloc[i][\"label\"] == 1):\n",
        "    found.append(att_p4.iloc[i][\"attack #\"])\n",
        "print(np.unique(found))"
      ],
      "metadata": {
        "colab": {
          "base_uri": "https://localhost:8080/"
        },
        "outputId": "474f4757-1026-4ccb-9a54-10ed9106c044",
        "id": "LLA2ExB-8vds"
      },
      "execution_count": 363,
      "outputs": [
        {
          "output_type": "stream",
          "name": "stdout",
          "text": [
            "[10 11 22 25 40]\n"
          ]
        }
      ]
    },
    {
      "cell_type": "code",
      "source": [
        "print(metrics.classification_report(att_p4.label,att_p4.pred_4))"
      ],
      "metadata": {
        "colab": {
          "base_uri": "https://localhost:8080/"
        },
        "id": "FN6ZTHQWfoj4",
        "outputId": "77e149c8-b2ac-4b44-f911-b42ce0460aad"
      },
      "execution_count": 413,
      "outputs": [
        {
          "output_type": "stream",
          "name": "stdout",
          "text": [
            "              precision    recall  f1-score   support\n",
            "\n",
            "           0       0.00      0.00      0.00         0\n",
            "           1       1.00      0.53      0.70      3142\n",
            "\n",
            "    accuracy                           0.53      3142\n",
            "   macro avg       0.50      0.27      0.35      3142\n",
            "weighted avg       1.00      0.53      0.70      3142\n",
            "\n"
          ]
        },
        {
          "output_type": "stream",
          "name": "stderr",
          "text": [
            "/usr/local/lib/python3.7/dist-packages/sklearn/metrics/_classification.py:1318: UndefinedMetricWarning: Recall and F-score are ill-defined and being set to 0.0 in labels with no true samples. Use `zero_division` parameter to control this behavior.\n",
            "  _warn_prf(average, modifier, msg_start, len(result))\n",
            "/usr/local/lib/python3.7/dist-packages/sklearn/metrics/_classification.py:1318: UndefinedMetricWarning: Recall and F-score are ill-defined and being set to 0.0 in labels with no true samples. Use `zero_division` parameter to control this behavior.\n",
            "  _warn_prf(average, modifier, msg_start, len(result))\n",
            "/usr/local/lib/python3.7/dist-packages/sklearn/metrics/_classification.py:1318: UndefinedMetricWarning: Recall and F-score are ill-defined and being set to 0.0 in labels with no true samples. Use `zero_division` parameter to control this behavior.\n",
            "  _warn_prf(average, modifier, msg_start, len(result))\n"
          ]
        }
      ]
    },
    {
      "cell_type": "markdown",
      "source": [
        "##Stage P5"
      ],
      "metadata": {
        "id": "Cj473K7W9a6E"
      }
    },
    {
      "cell_type": "code",
      "source": [
        "t5 = np.percentile(norm_test_scores[4],90)"
      ],
      "metadata": {
        "id": "1V20CjzN9a6F"
      },
      "execution_count": 364,
      "outputs": []
    },
    {
      "cell_type": "code",
      "source": [
        "t5"
      ],
      "metadata": {
        "colab": {
          "base_uri": "https://localhost:8080/"
        },
        "outputId": "bd2ec12c-c4b6-44f6-cf30-8bf2795c1662",
        "id": "CIipvCsf9a6G"
      },
      "execution_count": 365,
      "outputs": [
        {
          "output_type": "execute_result",
          "data": {
            "text/plain": [
              "0.3948892484009113"
            ]
          },
          "metadata": {},
          "execution_count": 365
        }
      ]
    },
    {
      "cell_type": "code",
      "source": [
        "label_5 = pred_labels_timewindow(norm_test_scores[4],t5,time_window)"
      ],
      "metadata": {
        "id": "iP3EYtIH9a6G"
      },
      "execution_count": 366,
      "outputs": []
    },
    {
      "cell_type": "code",
      "source": [
        "print(metrics.classification_report(label,label_5))"
      ],
      "metadata": {
        "colab": {
          "base_uri": "https://localhost:8080/"
        },
        "outputId": "0f1323fd-641f-469f-af16-7cf61a7dafeb",
        "id": "eUowOAwN9a6G"
      },
      "execution_count": 367,
      "outputs": [
        {
          "output_type": "stream",
          "name": "stdout",
          "text": [
            "              precision    recall  f1-score   support\n",
            "\n",
            "           0       0.95      0.95      0.95    395298\n",
            "           1       0.65      0.65      0.65     54621\n",
            "\n",
            "    accuracy                           0.91    449919\n",
            "   macro avg       0.80      0.80      0.80    449919\n",
            "weighted avg       0.91      0.91      0.91    449919\n",
            "\n"
          ]
        }
      ]
    },
    {
      "cell_type": "code",
      "source": [
        "cm = confusion_matrix(label,label_5)\n",
        "print(cm)\n",
        "ax = sns.heatmap(cm/np.sum(cm), annot=True, \n",
        "            fmt='.2%', cmap='Blues')\n",
        "\n",
        "ax.set_title('Confusion Matrix for stage 5');\n",
        "ax.set_xlabel('\\nPredicted Values')\n",
        "ax.set_ylabel('Actual Values ');\n",
        "\n",
        "## Ticket labels - List must be in alphabetical order\n",
        "ax.xaxis.set_ticklabels(['False','True'])\n",
        "ax.yaxis.set_ticklabels(['False','True'])\n",
        "\n",
        "## Display the visualization of the Confusion Matrix.\n",
        "plt.show()"
      ],
      "metadata": {
        "colab": {
          "base_uri": "https://localhost:8080/",
          "height": 342
        },
        "id": "MmmZOZYP5vBn",
        "outputId": "2a89f464-7a4e-494b-85ec-d63abc2b620a"
      },
      "execution_count": 424,
      "outputs": [
        {
          "output_type": "stream",
          "name": "stdout",
          "text": [
            "[[376260  19038]\n",
            " [ 19220  35401]]\n"
          ]
        },
        {
          "output_type": "display_data",
          "data": {
            "text/plain": [
              "<Figure size 432x288 with 2 Axes>"
            ],
            "image/png": "[encoded data removed]"
          },
          "metadata": {
            "needs_background": "light"
          }
        }
      ]
    },
    {
      "cell_type": "code",
      "source": [
        "time_label[\"pred_5\"] = label_5"
      ],
      "metadata": {
        "id": "WLsbJsz89a6H"
      },
      "execution_count": 368,
      "outputs": []
    },
    {
      "cell_type": "code",
      "source": [
        "att_p5 = time_label[time_label['attack #'].isin([4,19,20,22,37,38,39])]"
      ],
      "metadata": {
        "id": "BRgWj6fV9a6H"
      },
      "execution_count": 369,
      "outputs": []
    },
    {
      "cell_type": "code",
      "source": [
        "found = []\n",
        "for i in range(len(att_p5)):\n",
        "  if (att_p5.iloc[i][\"pred_5\"] == 1) & (att_p5.iloc[i][\"label\"] == 1):\n",
        "    found.append(att_p5.iloc[i][\"attack #\"])\n",
        "print(np.unique(found))"
      ],
      "metadata": {
        "colab": {
          "base_uri": "https://localhost:8080/"
        },
        "outputId": "0a353839-54f0-4d27-958d-f483285cbd2c",
        "id": "61TJs2Nc9a6H"
      },
      "execution_count": 370,
      "outputs": [
        {
          "output_type": "stream",
          "name": "stdout",
          "text": [
            "[20 22 37 38 39]\n"
          ]
        }
      ]
    },
    {
      "cell_type": "code",
      "source": [
        "print(metrics.classification_report(att_p5.label,att_p5.pred_5))"
      ],
      "metadata": {
        "colab": {
          "base_uri": "https://localhost:8080/"
        },
        "id": "0hxMVpRQfxYl",
        "outputId": "528bcd84-8f83-49dc-a857-6be6449396c0"
      },
      "execution_count": 414,
      "outputs": [
        {
          "output_type": "stream",
          "name": "stdout",
          "text": [
            "              precision    recall  f1-score   support\n",
            "\n",
            "           0       0.00      0.00      0.00         0\n",
            "           1       1.00      0.46      0.63      2658\n",
            "\n",
            "    accuracy                           0.46      2658\n",
            "   macro avg       0.50      0.23      0.31      2658\n",
            "weighted avg       1.00      0.46      0.63      2658\n",
            "\n"
          ]
        },
        {
          "output_type": "stream",
          "name": "stderr",
          "text": [
            "/usr/local/lib/python3.7/dist-packages/sklearn/metrics/_classification.py:1318: UndefinedMetricWarning: Recall and F-score are ill-defined and being set to 0.0 in labels with no true samples. Use `zero_division` parameter to control this behavior.\n",
            "  _warn_prf(average, modifier, msg_start, len(result))\n",
            "/usr/local/lib/python3.7/dist-packages/sklearn/metrics/_classification.py:1318: UndefinedMetricWarning: Recall and F-score are ill-defined and being set to 0.0 in labels with no true samples. Use `zero_division` parameter to control this behavior.\n",
            "  _warn_prf(average, modifier, msg_start, len(result))\n",
            "/usr/local/lib/python3.7/dist-packages/sklearn/metrics/_classification.py:1318: UndefinedMetricWarning: Recall and F-score are ill-defined and being set to 0.0 in labels with no true samples. Use `zero_division` parameter to control this behavior.\n",
            "  _warn_prf(average, modifier, msg_start, len(result))\n"
          ]
        }
      ]
    },
    {
      "cell_type": "markdown",
      "source": [
        "##Stage P6"
      ],
      "metadata": {
        "id": "PSX0VoCR9-Bo"
      }
    },
    {
      "cell_type": "code",
      "source": [
        "t6 = np.percentile(norm_test_scores[5],90)"
      ],
      "metadata": {
        "id": "804eqX7M9-Bo"
      },
      "execution_count": 383,
      "outputs": []
    },
    {
      "cell_type": "code",
      "source": [
        "t6"
      ],
      "metadata": {
        "colab": {
          "base_uri": "https://localhost:8080/"
        },
        "outputId": "09a79d6c-993e-447d-f733-2b278b5cec5d",
        "id": "ZAS84bPv9-Bp"
      },
      "execution_count": 384,
      "outputs": [
        {
          "output_type": "execute_result",
          "data": {
            "text/plain": [
              "0.177549398921028"
            ]
          },
          "metadata": {},
          "execution_count": 384
        }
      ]
    },
    {
      "cell_type": "code",
      "source": [
        "label_6 = pred_labels_timewindow(norm_test_scores[5],t6,time_window)"
      ],
      "metadata": {
        "id": "TXFCVb9x9-Bp"
      },
      "execution_count": 385,
      "outputs": []
    },
    {
      "cell_type": "code",
      "source": [
        "print(metrics.classification_report(label,label_6))"
      ],
      "metadata": {
        "colab": {
          "base_uri": "https://localhost:8080/"
        },
        "outputId": "a4106540-d9c3-46c5-a75b-614e486ab8ca",
        "id": "cLeCELL-9-Bp"
      },
      "execution_count": 386,
      "outputs": [
        {
          "output_type": "stream",
          "name": "stdout",
          "text": [
            "              precision    recall  f1-score   support\n",
            "\n",
            "           0       0.88      0.96      0.92    395298\n",
            "           1       0.10      0.03      0.05     54621\n",
            "\n",
            "    accuracy                           0.85    449919\n",
            "   macro avg       0.49      0.50      0.48    449919\n",
            "weighted avg       0.78      0.85      0.81    449919\n",
            "\n"
          ]
        }
      ]
    },
    {
      "cell_type": "code",
      "source": [
        "cm = confusion_matrix(label,label_6)\n",
        "print(cm)\n",
        "ax = sns.heatmap(cm/np.sum(cm), annot=True, \n",
        "            fmt='.2%', cmap='Blues')\n",
        "\n",
        "ax.set_title('Confusion Matrix for stage 6');\n",
        "ax.set_xlabel('\\nPredicted Values')\n",
        "ax.set_ylabel('Actual Values ');\n",
        "\n",
        "## Ticket labels - List must be in alphabetical order\n",
        "ax.xaxis.set_ticklabels(['False','True'])\n",
        "ax.yaxis.set_ticklabels(['False','True'])\n",
        "\n",
        "## Display the visualization of the Confusion Matrix.\n",
        "plt.show()"
      ],
      "metadata": {
        "colab": {
          "base_uri": "https://localhost:8080/",
          "height": 342
        },
        "id": "GqsbkfOOzvhg",
        "outputId": "52c85502-bd59-4b77-adec-8502a3e7218e"
      },
      "execution_count": 420,
      "outputs": [
        {
          "output_type": "stream",
          "name": "stdout",
          "text": [
            "[[379733  15565]\n",
            " [ 52861   1760]]\n"
          ]
        },
        {
          "output_type": "display_data",
          "data": {
            "text/plain": [
              "<Figure size 432x288 with 2 Axes>"
            ],
            "image/png": "[encoded data removed]"
          },
          "metadata": {
            "needs_background": "light"
          }
        }
      ]
    },
    {
      "cell_type": "code",
      "source": [
        "time_label[\"pred_6\"] = label_6"
      ],
      "metadata": {
        "id": "L7IyGJkc9-Bp"
      },
      "execution_count": 387,
      "outputs": []
    },
    {
      "cell_type": "code",
      "source": [
        "att_p6 = time_label[time_label['attack #'].isin([23])]"
      ],
      "metadata": {
        "id": "JRpgThUu9-Bq"
      },
      "execution_count": 388,
      "outputs": []
    },
    {
      "cell_type": "code",
      "source": [
        "found = []\n",
        "for i in range(len(att_p6)):\n",
        "  if (att_p6.iloc[i][\"pred_6\"] == 1) & (att_p6.iloc[i][\"label\"] == 1):\n",
        "    found.append(att_p6.iloc[i][\"attack #\"])\n",
        "print(np.unique(found))"
      ],
      "metadata": {
        "colab": {
          "base_uri": "https://localhost:8080/"
        },
        "outputId": "a5084f11-f0e7-4bf3-93a8-191f163d86cd",
        "id": "YM2H977r9-Bq"
      },
      "execution_count": 389,
      "outputs": [
        {
          "output_type": "stream",
          "name": "stdout",
          "text": [
            "[23]\n"
          ]
        }
      ]
    },
    {
      "cell_type": "code",
      "source": [
        "print(metrics.classification_report(att_p6.label,att_p6.pred_6))"
      ],
      "metadata": {
        "colab": {
          "base_uri": "https://localhost:8080/"
        },
        "id": "NCgU9zeaf7Q_",
        "outputId": "2db576f0-f472-4219-991f-043e25907e6d"
      },
      "execution_count": 415,
      "outputs": [
        {
          "output_type": "stream",
          "name": "stdout",
          "text": [
            "              precision    recall  f1-score   support\n",
            "\n",
            "           0       0.00      0.00      0.00         0\n",
            "           1       1.00      0.05      0.09       697\n",
            "\n",
            "    accuracy                           0.05       697\n",
            "   macro avg       0.50      0.02      0.04       697\n",
            "weighted avg       1.00      0.05      0.09       697\n",
            "\n"
          ]
        },
        {
          "output_type": "stream",
          "name": "stderr",
          "text": [
            "/usr/local/lib/python3.7/dist-packages/sklearn/metrics/_classification.py:1318: UndefinedMetricWarning: Recall and F-score are ill-defined and being set to 0.0 in labels with no true samples. Use `zero_division` parameter to control this behavior.\n",
            "  _warn_prf(average, modifier, msg_start, len(result))\n",
            "/usr/local/lib/python3.7/dist-packages/sklearn/metrics/_classification.py:1318: UndefinedMetricWarning: Recall and F-score are ill-defined and being set to 0.0 in labels with no true samples. Use `zero_division` parameter to control this behavior.\n",
            "  _warn_prf(average, modifier, msg_start, len(result))\n",
            "/usr/local/lib/python3.7/dist-packages/sklearn/metrics/_classification.py:1318: UndefinedMetricWarning: Recall and F-score are ill-defined and being set to 0.0 in labels with no true samples. Use `zero_division` parameter to control this behavior.\n",
            "  _warn_prf(average, modifier, msg_start, len(result))\n"
          ]
        }
      ]
    },
    {
      "cell_type": "code",
      "source": [
        "cm = confusion_matrix(att_p6.label,att_p6.pred_6)\n",
        "\n",
        "print(cm)\n",
        "ax = sns.heatmap(cm/np.sum(cm), annot=True, \n",
        "            fmt='.2%', cmap='Blues')\n",
        "\n",
        "ax.set_title('Confusion Matrix for all stages');\n",
        "ax.set_xlabel('\\nPredicted Values')\n",
        "ax.set_ylabel('Actual Values ');\n",
        "\n",
        "## Ticket labels - List must be in alphabetical order\n",
        "ax.xaxis.set_ticklabels(['False','True'])\n",
        "ax.yaxis.set_ticklabels(['False','True'])\n",
        "\n",
        "## Display the visualization of the Confusion Matrix.\n",
        "plt.show()"
      ],
      "metadata": {
        "colab": {
          "base_uri": "https://localhost:8080/",
          "height": 342
        },
        "id": "FSGU5--vzrAN",
        "outputId": "1d71086a-3efc-46d8-dcbb-80652d8e324b"
      },
      "execution_count": 418,
      "outputs": [
        {
          "output_type": "stream",
          "name": "stdout",
          "text": [
            "[[  0   0]\n",
            " [665  32]]\n"
          ]
        },
        {
          "output_type": "display_data",
          "data": {
            "text/plain": [
              "<Figure size 432x288 with 2 Axes>"
            ],
            "image/png": "[encoded data removed]"
          },
          "metadata": {
            "needs_background": "light"
          }
        }
      ]
    },
    {
      "cell_type": "markdown",
      "source": [
        "##Attack found"
      ],
      "metadata": {
        "id": "1onU1KO6_KJ5"
      }
    },
    {
      "cell_type": "code",
      "source": [
        "time_label['pred'] = np.where((time_label['pred_1'] ==1) | \n",
        "                              (time_label['pred_2'] ==1) |\n",
        "                              (time_label['pred_3'] ==1) |\n",
        "                              (time_label['pred_4'] ==1) |\n",
        "                              (time_label['pred_5'] ==1) |\n",
        "                              (time_label['pred_6'] ==1), 1, 0)\n"
      ],
      "metadata": {
        "id": "vcT2XEa7Af2v"
      },
      "execution_count": 390,
      "outputs": []
    },
    {
      "cell_type": "code",
      "source": [
        "time_label[time_label[\"label\"] == 1].tail(5)"
      ],
      "metadata": {
        "colab": {
          "base_uri": "https://localhost:8080/",
          "height": 206
        },
        "id": "ms5fuy5PSMs9",
        "outputId": "f57a864b-7ad5-4815-8313-d3cb76705fad"
      },
      "execution_count": 400,
      "outputs": [
        {
          "output_type": "execute_result",
          "data": {
            "text/plain": [
              "                 Timestamp  label  attack #  pred_1  pred_2  pred_3  pred_4  \\\n",
              "445186 2016-02-01 13:41:07      1         0       0       1       1       0   \n",
              "445187 2016-02-01 13:41:08      1         0       0       1       1       0   \n",
              "445188 2016-02-01 13:41:09      1         0       0       1       1       0   \n",
              "445189 2016-02-01 13:41:10      1         0       0       1       1       0   \n",
              "445190 2016-02-01 13:41:11      1         0       0       1       1       0   \n",
              "\n",
              "        pred_5  pred_6  pred  \n",
              "445186       0       0     1  \n",
              "445187       0       0     1  \n",
              "445188       0       0     1  \n",
              "445189       0       0     1  \n",
              "445190       0       0     1  "
            ],
            "text/html": [
              "\n",
              "  <div id=\"df-3946b32f-a655-4073-ad81-4bc325694bdc\">\n",
              "    <div class=\"colab-df-container\">\n",
              "      <div>\n",
              "<style scoped>\n",
              "    .dataframe tbody tr th:only-of-type {\n",
              "        vertical-align: middle;\n",
              "    }\n",
              "\n",
              "    .dataframe tbody tr th {\n",
              "        vertical-align: top;\n",
              "    }\n",
              "\n",
              "    .dataframe thead th {\n",
              "        text-align: right;\n",
              "    }\n",
              "</style>\n",
              "<table border=\"1\" class=\"dataframe\">\n",
              "  <thead>\n",
              "    <tr style=\"text-align: right;\">\n",
              "      <th></th>\n",
              "      <th>Timestamp</th>\n",
              "      <th>label</th>\n",
              "      <th>attack #</th>\n",
              "      <th>pred_1</th>\n",
              "      <th>pred_2</th>\n",
              "      <th>pred_3</th>\n",
              "      <th>pred_4</th>\n",
              "      <th>pred_5</th>\n",
              "      <th>pred_6</th>\n",
              "      <th>pred</th>\n",
              "    </tr>\n",
              "  </thead>\n",
              "  <tbody>\n",
              "    <tr>\n",
              "      <th>445186</th>\n",
              "      <td>2016-02-01 13:41:07</td>\n",
              "      <td>1</td>\n",
              "      <td>0</td>\n",
              "      <td>0</td>\n",
              "      <td>1</td>\n",
              "      <td>1</td>\n",
              "      <td>0</td>\n",
              "      <td>0</td>\n",
              "      <td>0</td>\n",
              "      <td>1</td>\n",
              "    </tr>\n",
              "    <tr>\n",
              "      <th>445187</th>\n",
              "      <td>2016-02-01 13:41:08</td>\n",
              "      <td>1</td>\n",
              "      <td>0</td>\n",
              "      <td>0</td>\n",
              "      <td>1</td>\n",
              "      <td>1</td>\n",
              "      <td>0</td>\n",
              "      <td>0</td>\n",
              "      <td>0</td>\n",
              "      <td>1</td>\n",
              "    </tr>\n",
              "    <tr>\n",
              "      <th>445188</th>\n",
              "      <td>2016-02-01 13:41:09</td>\n",
              "      <td>1</td>\n",
              "      <td>0</td>\n",
              "      <td>0</td>\n",
              "      <td>1</td>\n",
              "      <td>1</td>\n",
              "      <td>0</td>\n",
              "      <td>0</td>\n",
              "      <td>0</td>\n",
              "      <td>1</td>\n",
              "    </tr>\n",
              "    <tr>\n",
              "      <th>445189</th>\n",
              "      <td>2016-02-01 13:41:10</td>\n",
              "      <td>1</td>\n",
              "      <td>0</td>\n",
              "      <td>0</td>\n",
              "      <td>1</td>\n",
              "      <td>1</td>\n",
              "      <td>0</td>\n",
              "      <td>0</td>\n",
              "      <td>0</td>\n",
              "      <td>1</td>\n",
              "    </tr>\n",
              "    <tr>\n",
              "      <th>445190</th>\n",
              "      <td>2016-02-01 13:41:11</td>\n",
              "      <td>1</td>\n",
              "      <td>0</td>\n",
              "      <td>0</td>\n",
              "      <td>1</td>\n",
              "      <td>1</td>\n",
              "      <td>0</td>\n",
              "      <td>0</td>\n",
              "      <td>0</td>\n",
              "      <td>1</td>\n",
              "    </tr>\n",
              "  </tbody>\n",
              "</table>\n",
              "</div>\n",
              "      <button class=\"colab-df-convert\" onclick=\"convertToInteractive('df-3946b32f-a655-4073-ad81-4bc325694bdc')\"\n",
              "              title=\"Convert this dataframe to an interactive table.\"\n",
              "              style=\"display:none;\">\n",
              "        \n",
              "  <svg xmlns=\"http://www.w3.org/2000/svg\" height=\"24px\"viewBox=\"0 0 24 24\"\n",
              "       width=\"24px\">\n",
              "    <path d=\"M0 0h24v24H0V0z\" fill=\"none\"/>\n",
              "    <path d=\"M18.56 5.44l.94 2.06.94-2.06 2.06-.94-2.06-.94-.94-2.06-.94 2.06-2.06.94zm-11 1L8.5 8.5l.94-2.06 2.06-.94-2.06-.94L8.5 2.5l-.94 2.06-2.06.94zm10 10l.94 2.06.94-2.06 2.06-.94-2.06-.94-.94-2.06-.94 2.06-2.06.94z\"/><path d=\"M17.41 7.96l-1.37-1.37c-.4-.4-.92-.59-1.43-.59-.52 0-1.04.2-1.43.59L10.3 9.45l-7.72 7.72c-.78.78-.78 2.05 0 2.83L4 21.41c.39.39.9.59 1.41.59.51 0 1.02-.2 1.41-.59l7.78-7.78 2.81-2.81c.8-.78.8-2.07 0-2.86zM5.41 20L4 18.59l7.72-7.72 1.47 1.35L5.41 20z\"/>\n",
              "  </svg>\n",
              "      </button>\n",
              "      \n",
              "  <style>\n",
              "    .colab-df-container {\n",
              "      display:flex;\n",
              "      flex-wrap:wrap;\n",
              "      gap: 12px;\n",
              "    }\n",
              "\n",
              "    .colab-df-convert {\n",
              "      background-color: #E8F0FE;\n",
              "      border: none;\n",
              "      border-radius: 50%;\n",
              "      cursor: pointer;\n",
              "      display: none;\n",
              "      fill: #1967D2;\n",
              "      height: 32px;\n",
              "      padding: 0 0 0 0;\n",
              "      width: 32px;\n",
              "    }\n",
              "\n",
              "    .colab-df-convert:hover {\n",
              "      background-color: #E2EBFA;\n",
              "      box-shadow: 0px 1px 2px rgba(60, 64, 67, 0.3), 0px 1px 3px 1px rgba(60, 64, 67, 0.15);\n",
              "      fill: #174EA6;\n",
              "    }\n",
              "\n",
              "    [theme=dark] .colab-df-convert {\n",
              "      background-color: #3B4455;\n",
              "      fill: #D2E3FC;\n",
              "    }\n",
              "\n",
              "    [theme=dark] .colab-df-convert:hover {\n",
              "      background-color: #434B5C;\n",
              "      box-shadow: 0px 1px 3px 1px rgba(0, 0, 0, 0.15);\n",
              "      filter: drop-shadow(0px 1px 2px rgba(0, 0, 0, 0.3));\n",
              "      fill: #FFFFFF;\n",
              "    }\n",
              "  </style>\n",
              "\n",
              "      <script>\n",
              "        const buttonEl =\n",
              "          document.querySelector('#df-3946b32f-a655-4073-ad81-4bc325694bdc button.colab-df-convert');\n",
              "        buttonEl.style.display =\n",
              "          google.colab.kernel.accessAllowed ? 'block' : 'none';\n",
              "\n",
              "        async function convertToInteractive(key) {\n",
              "          const element = document.querySelector('#df-3946b32f-a655-4073-ad81-4bc325694bdc');\n",
              "          const dataTable =\n",
              "            await google.colab.kernel.invokeFunction('convertToInteractive',\n",
              "                                                     [key], {});\n",
              "          if (!dataTable) return;\n",
              "\n",
              "          const docLinkHtml = 'Like what you see? Visit the ' +\n",
              "            '<a target=\"_blank\" href=https://colab.research.google.com/notebooks/data_table.ipynb>data table notebook</a>'\n",
              "            + ' to learn more about interactive tables.';\n",
              "          element.innerHTML = '';\n",
              "          dataTable['output_type'] = 'display_data';\n",
              "          await google.colab.output.renderOutput(dataTable, element);\n",
              "          const docLink = document.createElement('div');\n",
              "          docLink.innerHTML = docLinkHtml;\n",
              "          element.appendChild(docLink);\n",
              "        }\n",
              "      </script>\n",
              "    </div>\n",
              "  </div>\n",
              "  "
            ]
          },
          "metadata": {},
          "execution_count": 400
        }
      ]
    },
    {
      "cell_type": "code",
      "source": [
        "found = []\n",
        "for i in range(len(time_label)):\n",
        "  if (time_label.iloc[i][\"pred\"] == 1) & (time_label.iloc[i][\"label\"] == 1):\n",
        "    found.append(time_label.iloc[i][\"attack #\"])\n",
        "print(np.unique(found))"
      ],
      "metadata": {
        "colab": {
          "base_uri": "https://localhost:8080/"
        },
        "id": "4DsqbbCVB267",
        "outputId": "673be521-78e4-4f82-c3f3-43dc01cba597"
      },
      "execution_count": 391,
      "outputs": [
        {
          "output_type": "stream",
          "name": "stdout",
          "text": [
            "[ 0  1  2  3  4  8 10 11 13 14 17 19 20 21 22 23 24 25 26 27 28 29 30 31\n",
            " 32 33 34 35 36 37 38 39 40 41]\n"
          ]
        }
      ]
    },
    {
      "cell_type": "code",
      "source": [
        "len(np.unique(found))-1 #remove 0"
      ],
      "metadata": {
        "colab": {
          "base_uri": "https://localhost:8080/"
        },
        "id": "Pa3BPQinCO2o",
        "outputId": "42bc0497-1ac8-4bd0-c6fc-04ed26aeb82c"
      },
      "execution_count": 392,
      "outputs": [
        {
          "output_type": "execute_result",
          "data": {
            "text/plain": [
              "33"
            ]
          },
          "metadata": {},
          "execution_count": 392
        }
      ]
    },
    {
      "cell_type": "code",
      "source": [
        "print(metrics.classification_report(time_label.label,time_label.pred)"
      ],
      "metadata": {
        "colab": {
          "base_uri": "https://localhost:8080/"
        },
        "id": "P9OsDagYWqSc",
        "outputId": "b68f3fb5-3107-4301-f6bf-bc537b8dff6d"
      },
      "execution_count": 401,
      "outputs": [
        {
          "output_type": "stream",
          "name": "stdout",
          "text": [
            "              precision    recall  f1-score   support\n",
            "\n",
            "           0       0.97      0.66      0.78    395298\n",
            "           1       0.25      0.85      0.39     54621\n",
            "\n",
            "    accuracy                           0.68    449919\n",
            "   macro avg       0.61      0.75      0.59    449919\n",
            "weighted avg       0.88      0.68      0.73    449919\n",
            "\n"
          ]
        }
      ]
    },
    {
      "cell_type": "code",
      "source": [
        "cm = confusion_matrix(time_label.label,time_label.pred)\n",
        "\n",
        "print(cm)"
      ],
      "metadata": {
        "colab": {
          "base_uri": "https://localhost:8080/"
        },
        "id": "NT3cmcIOWwZw",
        "outputId": "d69f775d-2751-4789-a0fc-aca7c6141a60"
      },
      "execution_count": 403,
      "outputs": [
        {
          "output_type": "stream",
          "name": "stdout",
          "text": [
            "[[259416 135882]\n",
            " [  8332  46289]]\n"
          ]
        }
      ]
    },
    {
      "cell_type": "code",
      "source": [
        "ax = sns.heatmap(cm/np.sum(cm), annot=True, \n",
        "            fmt='.2%', cmap='Blues')\n",
        "\n",
        "ax.set_title('Confusion Matrix for all stages');\n",
        "ax.set_xlabel('\\nPredicted Values')\n",
        "ax.set_ylabel('Actual Values ');\n",
        "\n",
        "## Ticket labels - List must be in alphabetical order\n",
        "ax.xaxis.set_ticklabels(['False','True'])\n",
        "ax.yaxis.set_ticklabels(['False','True'])\n",
        "\n",
        "## Display the visualization of the Confusion Matrix.\n",
        "plt.show()"
      ],
      "metadata": {
        "colab": {
          "base_uri": "https://localhost:8080/",
          "height": 307
        },
        "id": "ZVlw8ZBXXFPA",
        "outputId": "91e551e2-5e0d-4840-9b14-e0c91550bb8d"
      },
      "execution_count": 406,
      "outputs": [
        {
          "output_type": "display_data",
          "data": {
            "text/plain": [
              "<Figure size 432x288 with 2 Axes>"
            ],
            "image/png": "[encoded data removed]"
          },
          "metadata": {
            "needs_background": "light"
          }
        }
      ]
    }
  ],
  "metadata": {
    "accelerator": "GPU",
    "colab": {
      "collapsed_sections": [],
      "name": "Probability Base Model separate stage.ipynb",
      "provenance": [],
      "authorship_tag": "ABX9TyPHRrg+n3Z2LDHBYF53n3o8",
      "include_colab_link": true
    },
    "gpuClass": "standard",
    "kernelspec": {
      "display_name": "Python 3",
      "name": "python3"
    }
  },
  "nbformat": 4,
  "nbformat_minor": 0
}